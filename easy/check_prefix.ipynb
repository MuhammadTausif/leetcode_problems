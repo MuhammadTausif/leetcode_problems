{
 "cells": [
  {
   "cell_type": "markdown",
   "metadata": {},
   "source": [
    "# Check Prefix"
   ]
  },
  {
   "cell_type": "code",
   "execution_count": 1,
   "metadata": {},
   "outputs": [
    {
     "data": {
      "text/plain": [
       "'c'"
      ]
     },
     "execution_count": 1,
     "metadata": {},
     "output_type": "execute_result"
    }
   ],
   "source": [
    "strs = [\"flower\",\"flow\",\"flight\"]\n",
    "strs = [\"cir\",\"car\"]\n",
    "# print(strs)\n",
    "# for s1 in zip(strs[0]):\n",
    "#     print(s1)\n",
    "s = [set(\"\".join(i)) for i in list(zip(*strs))]\n",
    "# ss = [list(a)[0] for a in s if len(a) == 1]\n",
    "\n",
    "ss = []\n",
    "for a in s:\n",
    "    if len(a) == 1:\n",
    "        ss.append(list(a)[0])\n",
    "    else:\n",
    "        break\n",
    "\n",
    "''.join(ss)"
   ]
  },
  {
   "cell_type": "code",
   "execution_count": null,
   "metadata": {},
   "outputs": [],
   "source": []
  }
 ],
 "metadata": {
  "kernelspec": {
   "display_name": "Python 3",
   "language": "python",
   "name": "python3"
  },
  "language_info": {
   "codemirror_mode": {
    "name": "ipython",
    "version": 3
   },
   "file_extension": ".py",
   "mimetype": "text/x-python",
   "name": "python",
   "nbconvert_exporter": "python",
   "pygments_lexer": "ipython3",
   "version": "3.11.5"
  }
 },
 "nbformat": 4,
 "nbformat_minor": 2
}

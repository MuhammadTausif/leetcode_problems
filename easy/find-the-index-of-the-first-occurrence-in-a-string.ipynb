{
 "cells": [
  {
   "cell_type": "markdown",
   "metadata": {},
   "source": [
    "# 28. Find the Index of the First Occurrence in a String\n",
    "\n",
    "https://leetcode.com/problems/find-the-index-of-the-first-occurrence-in-a-string/"
   ]
  },
  {
   "cell_type": "markdown",
   "metadata": {},
   "source": [
    "Given two strings needle and haystack, return the index of the first occurrence of needle in haystack, or -1 if needle is not part of haystack.\n",
    "\n",
    " \n",
    "\n",
    "### Example 1:\n",
    "\n",
    "    Input: haystack = \"sadbutsad\", needle = \"sad\"\n",
    "    Output: 0\n",
    "    Explanation: \"sad\" occurs at index 0 and 6.\n",
    "    The first occurrence is at index 0, so we return 0.\n",
    "\n",
    "### Example 2:\n",
    "\n",
    "    Input: haystack = \"leetcode\", needle = \"leeto\"\n",
    "    Output: -1\n",
    "    Explanation: \"leeto\" did not occur in \"leetcode\", so we return -1.\n",
    "    "
   ]
  },
  {
   "cell_type": "code",
   "execution_count": 15,
   "metadata": {},
   "outputs": [],
   "source": [
    "class Solution:\n",
    "    def strStr(self, haystack: str, needle: str) -> int:\n",
    "        try:\n",
    "            i =  haystack.index(needle)\n",
    "            return i\n",
    "        except ValueError:\n",
    "            return -1"
   ]
  },
  {
   "cell_type": "code",
   "execution_count": 17,
   "metadata": {},
   "outputs": [
    {
     "name": "stdout",
     "output_type": "stream",
     "text": [
      "-1\n"
     ]
    }
   ],
   "source": [
    "haystack = \"leetcode\"\n",
    "needle = \"leet0\"\n",
    "\n",
    "# haystack.index(needle)\n",
    "\n",
    "s = Solution()\n",
    "print(s.strStr(haystack, needle))"
   ]
  },
  {
   "cell_type": "code",
   "execution_count": null,
   "metadata": {},
   "outputs": [],
   "source": []
  }
 ],
 "metadata": {
  "kernelspec": {
   "display_name": "Python 3",
   "language": "python",
   "name": "python3"
  },
  "language_info": {
   "codemirror_mode": {
    "name": "ipython",
    "version": 3
   },
   "file_extension": ".py",
   "mimetype": "text/x-python",
   "name": "python",
   "nbconvert_exporter": "python",
   "pygments_lexer": "ipython3",
   "version": "3.11.5"
  }
 },
 "nbformat": 4,
 "nbformat_minor": 2
}

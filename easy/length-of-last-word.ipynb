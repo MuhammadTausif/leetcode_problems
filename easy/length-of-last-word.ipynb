{
 "cells": [
  {
   "cell_type": "markdown",
   "metadata": {},
   "source": [
    "# 58. Length of Last Word\n",
    "\n",
    "https://leetcode.com/problems/length-of-last-word/"
   ]
  },
  {
   "cell_type": "markdown",
   "metadata": {},
   "source": [
    "Given a string s consisting of words and spaces, return the length of the last word in the string.\n",
    "\n",
    "A word is a maximal \n",
    "substring\n",
    " consisting of non-space characters only.\n",
    "\n",
    " \n",
    "\n",
    "### Example 1:\n",
    "\n",
    "    Input: s = \"Hello World\"\n",
    "    Output: 5\n",
    "    Explanation: The last word is \"World\" with length 5.\n",
    "### Example 2:\n",
    "\n",
    "    Input: s = \"   fly me   to   the moon  \"\n",
    "    Output: 4\n",
    "    Explanation: The last word is \"moon\" with length 4.\n",
    "### Example 3:\n",
    "\n",
    "    Input: s = \"luffy is still joyboy\"\n",
    "    Output: 6\n",
    "    Explanation: The last word is \"joyboy\" with length 6.\n",
    " "
   ]
  },
  {
   "cell_type": "code",
   "execution_count": 1,
   "metadata": {},
   "outputs": [],
   "source": [
    "class Solution:\n",
    "    def lengthOfLastWord(self, s: str) -> int:\n",
    "        return len(s.strip().split()[-1])"
   ]
  }
 ],
 "metadata": {
  "kernelspec": {
   "display_name": "Python 3",
   "language": "python",
   "name": "python3"
  },
  "language_info": {
   "codemirror_mode": {
    "name": "ipython",
    "version": 3
   },
   "file_extension": ".py",
   "mimetype": "text/x-python",
   "name": "python",
   "nbconvert_exporter": "python",
   "pygments_lexer": "ipython3",
   "version": "3.11.5"
  }
 },
 "nbformat": 4,
 "nbformat_minor": 2
}

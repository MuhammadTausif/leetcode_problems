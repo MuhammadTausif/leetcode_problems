{
 "cells": [
  {
   "cell_type": "markdown",
   "metadata": {},
   "source": [
    "# 21. Merge Two Sorted Lists\n",
    "\n",
    "https://leetcode.com/problems/merge-two-sorted-lists/description/"
   ]
  },
  {
   "cell_type": "markdown",
   "metadata": {},
   "source": [
    "You are given the heads of two sorted linked lists list1 and list2.\n",
    "\n",
    "Merge the two lists into one sorted list. The list should be made by splicing together the nodes of the first two lists.\n",
    "\n",
    "Return the head of the merged linked list.\n",
    "\n",
    " \n",
    "\n",
    "Example 1:\n",
    "\n",
    "\n",
    "Input: list1 = [1,2,4], list2 = [1,3,4]\n",
    "Output: [1,1,2,3,4,4]\n",
    "Example 2:\n",
    "\n",
    "Input: list1 = [], list2 = []\n",
    "Output: []\n",
    "Example 3:\n",
    "\n",
    "Input: list1 = [], list2 = [0]\n",
    "Output: [0]\n",
    " "
   ]
  },
  {
   "cell_type": "code",
   "execution_count": 2,
   "metadata": {},
   "outputs": [],
   "source": [
    "# Definition for singly-linked list.\n",
    "class ListNode:\n",
    "    def __init__(self, val=0, next=None):\n",
    "        self.val = val\n",
    "        self.next = next\n",
    "\n",
    "    def printList():\n",
    "        o = []\n",
    "        l = 0\n",
    "        while next.next != None:\n",
    "            o.append()\n",
    "\n",
    "\n",
    "# class Solution:\n",
    "#     def mergeTwoLists(self, list1: Optional[ListNode], list2: Optional[ListNode]) -> Optional[ListNode]:\n",
    "#         return False\n",
    "        "
   ]
  },
  {
   "cell_type": "code",
   "execution_count": 24,
   "metadata": {},
   "outputs": [],
   "source": [
    "l = ListNode()\n",
    "l.next = ListNode()\n",
    "l.val = 1\n",
    "\n",
    "l1 = l.next\n",
    "l1.next = ListNode()\n",
    "l1.val = 2\n",
    "\n",
    "l2 = l1.next\n",
    "l2.next = None\n",
    "l2.val = 3\n",
    "\n",
    "m = ListNode()\n",
    "m.next = ListNode()\n",
    "m.val = 3\n",
    "m.next.next = ListNode()\n",
    "m.next.val = 2\n",
    "m.next.next.next = None\n",
    "m.next.next.val = 1\n",
    "\n"
   ]
  },
  {
   "cell_type": "code",
   "execution_count": 26,
   "metadata": {},
   "outputs": [
    {
     "name": "stdout",
     "output_type": "stream",
     "text": [
      "3\n",
      "1\n",
      "2\n",
      "2\n",
      "1\n",
      "3\n"
     ]
    }
   ],
   "source": [
    "lt = m\n",
    "lr = l\n",
    "o = []\n",
    "\n",
    "while lt.next != None:\n",
    "    print(lt.val)\n",
    "    print(lr.val)\n",
    "    o.append(lr.val)        \n",
    "    o.append(lt.val)\n",
    "\n",
    "    lt = lt.next\n",
    "    lr = lr.next\n",
    "\n",
    "    if lt.next == None:\n",
    "        print(lt.val)\n",
    "        print(lr.val)\n",
    "        o.append(lr.val)        \n",
    "        o.append(lt.val)\n",
    "\n",
    "    \n",
    "\n",
    "# print(l.val)\n",
    "# print(l1.val)\n",
    "# print(l2.val)\n",
    "\n",
    "# print(l.next)\n",
    "# print(l1.next)\n",
    "# print(l2.next)\n",
    "\n",
    "# print(lt.next)\n",
    "# lt = l1\n",
    "# print(lt.next)\n",
    "# lt = l2\n",
    "# print(lt.next)\n"
   ]
  },
  {
   "cell_type": "code",
   "execution_count": 28,
   "metadata": {},
   "outputs": [],
   "source": [
    "o = [1,1,2,3,4,4]"
   ]
  },
  {
   "cell_type": "code",
   "execution_count": 30,
   "metadata": {},
   "outputs": [
    {
     "name": "stdout",
     "output_type": "stream",
     "text": [
      "1\n",
      "1\n",
      "2\n",
      "3\n",
      "4\n",
      "4\n"
     ]
    }
   ],
   "source": [
    "p = ListNode()\n",
    "p.next = None\n",
    "p.val = None\n",
    "for i in o:\n",
    "    print(i)\n",
    "    p.next = ListNode()\n",
    "    p.val = i\n"
   ]
  }
 ],
 "metadata": {
  "kernelspec": {
   "display_name": "Python 3",
   "language": "python",
   "name": "python3"
  },
  "language_info": {
   "codemirror_mode": {
    "name": "ipython",
    "version": 3
   },
   "file_extension": ".py",
   "mimetype": "text/x-python",
   "name": "python",
   "nbconvert_exporter": "python",
   "pygments_lexer": "ipython3",
   "version": "3.11.5"
  }
 },
 "nbformat": 4,
 "nbformat_minor": 2
}

{
 "cells": [
  {
   "cell_type": "markdown",
   "metadata": {},
   "source": [
    "# 112. Path Sum\n",
    "\n",
    "https://leetcode.com/problems/path-sum/"
   ]
  },
  {
   "cell_type": "markdown",
   "metadata": {},
   "source": [
    "Given the `root` of a binary tree and an integer `targetSum`, return `true` if the tree has a **root-to-leaf** path such that adding up all the values along the path equals `targetSum`.\n",
    "\n",
    "A leaf is a node with no children.\n",
    "\n",
    "### Example 1:\n",
    "\n",
    "    Input: root = [5,4,8,11,null,13,4,7,2,null,null,null,1], targetSum = 22\n",
    "    Output: true\n",
    "    Explanation: The root-to-leaf path with the target sum is shown.\n",
    "### Example 2:\n",
    "\n",
    "    Input: root = [1,2,3], targetSum = 5\n",
    "    Output: false\n",
    "    Explanation: There two root-to-leaf paths in the tree:\n",
    "    (1 --> 2): The sum is 3.\n",
    "    (1 --> 3): The sum is 4.\n",
    "    There is no root-to-leaf path with sum = 5.\n",
    "### Example 3:\n",
    "\n",
    "    Input: root = [], targetSum = 0\n",
    "    Output: false\n",
    "    Explanation: Since the tree is empty, there are no root-to-leaf paths."
   ]
  },
  {
   "cell_type": "code",
   "execution_count": null,
   "metadata": {},
   "outputs": [],
   "source": [
    "# Definition for a binary tree node.\n",
    "class TreeNode:\n",
    "    def __init__(self, val=0, left=None, right=None):\n",
    "        self.val = val\n",
    "        self.left = left\n",
    "        self.right = right\n",
    "\n",
    "class Solution:\n",
    "    def hasPathSum(self, root: Optional[TreeNode], targetSum: int) -> bool:\n",
    "        return False\n",
    "    \n",
    "    \n",
    "        "
   ]
  }
 ],
 "metadata": {
  "language_info": {
   "name": "python"
  }
 },
 "nbformat": 4,
 "nbformat_minor": 2
}

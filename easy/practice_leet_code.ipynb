{
 "cells": [
  {
   "cell_type": "code",
   "execution_count": 32,
   "metadata": {},
   "outputs": [
    {
     "name": "stdout",
     "output_type": "stream",
     "text": [
      "   id    email\n",
      "0   1  a@b.com\n"
     ]
    },
    {
     "data": {
      "text/html": [
       "<div>\n",
       "<style scoped>\n",
       "    .dataframe tbody tr th:only-of-type {\n",
       "        vertical-align: middle;\n",
       "    }\n",
       "\n",
       "    .dataframe tbody tr th {\n",
       "        vertical-align: top;\n",
       "    }\n",
       "\n",
       "    .dataframe thead th {\n",
       "        text-align: right;\n",
       "    }\n",
       "</style>\n",
       "<table border=\"1\" class=\"dataframe\">\n",
       "  <thead>\n",
       "    <tr style=\"text-align: right;\">\n",
       "      <th></th>\n",
       "      <th>0</th>\n",
       "    </tr>\n",
       "  </thead>\n",
       "  <tbody>\n",
       "    <tr>\n",
       "      <th>0</th>\n",
       "      <td>1</td>\n",
       "    </tr>\n",
       "    <tr>\n",
       "      <th>1</th>\n",
       "      <td>3</td>\n",
       "    </tr>\n",
       "    <tr>\n",
       "      <th>2</th>\n",
       "      <td>4</td>\n",
       "    </tr>\n",
       "  </tbody>\n",
       "</table>\n",
       "</div>"
      ],
      "text/plain": [
       "   0\n",
       "0  1\n",
       "1  3\n",
       "2  4"
      ]
     },
     "execution_count": 32,
     "metadata": {},
     "output_type": "execute_result"
    }
   ],
   "source": [
    "import pandas as pd\n",
    "\n",
    "d = {'id':[1,2,3],'email': ['a@b.com','a@b.com','a@b.com']}\n",
    "df = pd.DataFrame(data=d)\n",
    "\n",
    "df1 = df.drop_duplicates(subset='email')\n",
    "print(df1)\n",
    "# id    email\n",
    "# 0   1  a@b.com\n",
    "# 1   2  c@d.com\n",
    "# 2   3  a@b.com\n",
    "\n",
    "s = pd.Series([1,3,4])\n",
    "d = s.to_frame()\n",
    "d"
   ]
  },
  {
   "cell_type": "code",
   "execution_count": 45,
   "metadata": {},
   "outputs": [
    {
     "name": "stdout",
     "output_type": "stream",
     "text": [
      "<bound method DataFrame.duplicated of      Email\n",
      "0  a@b.com\n",
      "1  a@b.com\n",
      "2  a@b.com>\n"
     ]
    }
   ],
   "source": [
    "df1=df['email'].to_frame()\n",
    "df1.columns = ['Email']\n",
    "print(df1.duplicated)\n",
    "# df2 = df1.drop_duplicates(subset='Email')\n",
    "# df2"
   ]
  },
  {
   "cell_type": "code",
   "execution_count": 46,
   "metadata": {},
   "outputs": [
    {
     "data": {
      "text/html": [
       "<div>\n",
       "<style scoped>\n",
       "    .dataframe tbody tr th:only-of-type {\n",
       "        vertical-align: middle;\n",
       "    }\n",
       "\n",
       "    .dataframe tbody tr th {\n",
       "        vertical-align: top;\n",
       "    }\n",
       "\n",
       "    .dataframe thead th {\n",
       "        text-align: right;\n",
       "    }\n",
       "</style>\n",
       "<table border=\"1\" class=\"dataframe\">\n",
       "  <thead>\n",
       "    <tr style=\"text-align: right;\">\n",
       "      <th></th>\n",
       "      <th>id</th>\n",
       "      <th>email</th>\n",
       "    </tr>\n",
       "  </thead>\n",
       "  <tbody>\n",
       "    <tr>\n",
       "      <th>0</th>\n",
       "      <td>1</td>\n",
       "      <td>a@b.com</td>\n",
       "    </tr>\n",
       "    <tr>\n",
       "      <th>1</th>\n",
       "      <td>2</td>\n",
       "      <td>a@b.com</td>\n",
       "    </tr>\n",
       "    <tr>\n",
       "      <th>2</th>\n",
       "      <td>3</td>\n",
       "      <td>a@b.com</td>\n",
       "    </tr>\n",
       "  </tbody>\n",
       "</table>\n",
       "</div>"
      ],
      "text/plain": [
       "   id    email\n",
       "0   1  a@b.com\n",
       "1   2  a@b.com\n",
       "2   3  a@b.com"
      ]
     },
     "execution_count": 46,
     "metadata": {},
     "output_type": "execute_result"
    }
   ],
   "source": [
    "df"
   ]
  },
  {
   "cell_type": "code",
   "execution_count": 56,
   "metadata": {},
   "outputs": [
    {
     "data": {
      "text/plain": [
       "0    False\n",
       "1     True\n",
       "2     True\n",
       "dtype: bool"
      ]
     },
     "execution_count": 56,
     "metadata": {},
     "output_type": "execute_result"
    }
   ],
   "source": [
    "df3 = df['email'].to_frame()\n",
    "df4 = df3.duplicated()\n",
    "df4\n",
    "\n",
    "\n"
   ]
  },
  {
   "cell_type": "code",
   "execution_count": 60,
   "metadata": {},
   "outputs": [],
   "source": [
    "nums = [0,1,0,3,12]"
   ]
  },
  {
   "cell_type": "code",
   "execution_count": 62,
   "metadata": {},
   "outputs": [
    {
     "data": {
      "text/plain": [
       "[1, 3, 12]"
      ]
     },
     "execution_count": 62,
     "metadata": {},
     "output_type": "execute_result"
    }
   ],
   "source": [
    "[n for n in nums if n != 0]"
   ]
  },
  {
   "cell_type": "code",
   "execution_count": 63,
   "metadata": {},
   "outputs": [
    {
     "name": "stdout",
     "output_type": "stream",
     "text": [
      "[1, 3, 12, 0, 0]\n"
     ]
    }
   ],
   "source": [
    "for n in nums:\n",
    "    if n == 0:\n",
    "        nums.remove(n)\n",
    "        nums.append(n)\n",
    "    else:\n",
    "        pass\n",
    "\n",
    "print(nums)\n"
   ]
  },
  {
   "cell_type": "code",
   "execution_count": 68,
   "metadata": {},
   "outputs": [
    {
     "name": "stdout",
     "output_type": "stream",
     "text": [
      "4\n"
     ]
    }
   ],
   "source": [
    "nums = [4,1,2,1,2,4,5]\n",
    "def singleNumber(nums):\n",
    "    res = 0\n",
    "    for num in nums:\n",
    "        res ^= num\n",
    "        return res\n",
    "print(singleNumber(nums)) # Output: 4"
   ]
  },
  {
   "cell_type": "code",
   "execution_count": 71,
   "metadata": {},
   "outputs": [],
   "source": [
    "for n in nums:\n",
    "    if nums.count(n)==1:\n",
    "        # return n\n",
    "        pass"
   ]
  },
  {
   "cell_type": "code",
   "execution_count": 80,
   "metadata": {},
   "outputs": [
    {
     "name": "stdout",
     "output_type": "stream",
     "text": [
      "**********\n",
      "2,**********\n",
      "3,3,**********\n",
      "4,4,4,**********\n"
     ]
    }
   ],
   "source": [
    "n = 5\n",
    "for i in range(1,n):\n",
    "    for j in range(i-1):\n",
    "        # print(i,',',j)\n",
    "        print(i, end=',')\n",
    "    print('*'.center(10,'*'))\n"
   ]
  },
  {
   "cell_type": "code",
   "execution_count": 91,
   "metadata": {},
   "outputs": [
    {
     "name": "stdout",
     "output_type": "stream",
     "text": [
      "65 A\n",
      "66 B\n",
      "67 C\n",
      "68 D\n",
      "69 E\n",
      "70 F\n",
      "71 G\n",
      "72 H\n",
      "73 I\n",
      "74 J\n",
      "75 K\n",
      "76 L\n",
      "77 M\n",
      "78 N\n",
      "79 O\n",
      "80 P\n",
      "81 Q\n",
      "82 R\n",
      "83 S\n",
      "84 T\n",
      "85 U\n",
      "86 V\n",
      "87 W\n",
      "88 X\n",
      "89 Y\n",
      "90 Z\n"
     ]
    }
   ],
   "source": [
    "from string import ascii_letters, ascii_lowercase, ascii_uppercase\n",
    "len(ascii_letters)\n",
    "len(ascii_lowercase)\n",
    "\n",
    "for i in ascii_uppercase:\n",
    "    print(ord(i), i)"
   ]
  },
  {
   "cell_type": "code",
   "execution_count": 97,
   "metadata": {},
   "outputs": [
    {
     "name": "stdout",
     "output_type": "stream",
     "text": [
      "None\n"
     ]
    }
   ],
   "source": [
    "n1, n2 = 1, 2\n",
    "so = 0\n",
    "def s(n):\n",
    "    if n == 0:\n",
    "        return so\n",
    "    elif n == 1:\n",
    "        return so\n",
    "    if n == 2:\n",
    "        return so\n",
    "    else:\n",
    "        s(n -1)\n",
    "\n",
    "print(s(5))"
   ]
  },
  {
   "cell_type": "code",
   "execution_count": 103,
   "metadata": {},
   "outputs": [
    {
     "ename": "SyntaxError",
     "evalue": "unmatched ')' (517085883.py, line 13)",
     "output_type": "error",
     "traceback": [
      "\u001b[1;36m  Cell \u001b[1;32mIn [103], line 13\u001b[1;36m\u001b[0m\n\u001b[1;33m    l.pop())\u001b[0m\n\u001b[1;37m           ^\u001b[0m\n\u001b[1;31mSyntaxError\u001b[0m\u001b[1;31m:\u001b[0m unmatched ')'\n"
     ]
    }
   ],
   "source": [
    "s1 = \"()\"\n",
    "s2 = \"()[]{}\"\n",
    "s3 = \"(]\"\n",
    "\n",
    "l = []\n",
    "s = s1\n",
    "for b in s:\n",
    "    l.append(b)\n",
    "\n",
    "print(l)\n",
    "\n",
    "for _ in range(1,len(l)):\n",
    "    l.pop())\n",
    "    # print(l)\n",
    "\n"
   ]
  },
  {
   "cell_type": "code",
   "execution_count": 110,
   "metadata": {},
   "outputs": [],
   "source": [
    "n = 11\n",
    "n = 128\n",
    "n = 2147483645"
   ]
  },
  {
   "cell_type": "code",
   "execution_count": 112,
   "metadata": {},
   "outputs": [
    {
     "data": {
      "text/plain": [
       "30"
      ]
     },
     "execution_count": 112,
     "metadata": {},
     "output_type": "execute_result"
    }
   ],
   "source": [
    "bin(n)[2:].count('1')"
   ]
  },
  {
   "cell_type": "code",
   "execution_count": 123,
   "metadata": {},
   "outputs": [
    {
     "name": "stdout",
     "output_type": "stream",
     "text": [
      "ABCDEFGHIJKLMNOPQRSTUVWXYZ\n"
     ]
    }
   ],
   "source": [
    "from string import ascii_uppercase\n",
    "print(ascii_uppercase)\n",
    "for u in ascii_uppercase:\n",
    "    # print(ord(u))\n",
    "    pass\n",
    "\n"
   ]
  },
  {
   "cell_type": "code",
   "execution_count": 129,
   "metadata": {},
   "outputs": [
    {
     "name": "stdout",
     "output_type": "stream",
     "text": [
      "@\n"
     ]
    }
   ],
   "source": [
    "n = int(1/26)\n",
    "print(chr(64+n))"
   ]
  },
  {
   "cell_type": "code",
   "execution_count": 134,
   "metadata": {},
   "outputs": [
    {
     "name": "stdout",
     "output_type": "stream",
     "text": [
      "26\n",
      "25\n",
      "ZY\n"
     ]
    }
   ],
   "source": [
    "n = 701\n",
    "print(n//26)\n",
    "print(n%26)\n",
    "print(chr(64+(n//26))+chr(64+n%26))"
   ]
  },
  {
   "cell_type": "code",
   "execution_count": 141,
   "metadata": {},
   "outputs": [
    {
     "name": "stdout",
     "output_type": "stream",
     "text": [
      "5F3Z\n",
      "2e9w\n",
      "s\n"
     ]
    }
   ],
   "source": [
    "s = \"5F3Z-2e-9-ws\"\n",
    "s = s.replace('-', '')\n",
    "k = 4\n",
    "for i in range(0, len(s), k):\n",
    "    print(s[i:i+k])"
   ]
  },
  {
   "cell_type": "code",
   "execution_count": 152,
   "metadata": {},
   "outputs": [
    {
     "name": "stdout",
     "output_type": "stream",
     "text": [
      "-13\n"
     ]
    }
   ],
   "source": [
    "# base 7\n",
    "\n",
    "n = 10\n",
    "def convertToBase7(n):\n",
    "    if n == 0:\n",
    "        return ''\n",
    "    elif n > 0:\n",
    "        return convertToBase7(n // 7) + str(n % 7)\n",
    "    else:\n",
    "        return '-' + convertToBase7(-n // 7) + str(-n %7)\n",
    "    \n",
    "\n",
    "print(convertToBase7(-10))"
   ]
  },
  {
   "cell_type": "code",
   "execution_count": 16,
   "metadata": {},
   "outputs": [
    {
     "name": "stdout",
     "output_type": "stream",
     "text": [
      "[[1], [1, 1], [1, 0, 1], [1, 0, 0, 1], [1, 0, 0, 0, 1]]\n",
      "[1, 1]\n",
      "2,\n",
      "[1, 2, 1]\n",
      "3,3,\n",
      "[1, 3, 3, 1]\n",
      "4,6,4,\n",
      "[[1], [1, 1], [1, 2, 1], [1, 3, 3, 1], [1, 4, 6, 4, 1]]\n"
     ]
    }
   ],
   "source": [
    "l = [[1],[1,1],[1,2,1],[1,3,3,1],[1,4,6,4,1]]\n",
    "l = [[1],[1,1],[1,0,1],[1,0,0,1],[1,0,0,0,1]]\n",
    "m = []\n",
    "for a in range(1,5+1):\n",
    "    c = []\n",
    "    for b in range(a):\n",
    "        c.append(0)\n",
    "    c[0],c[-1] = 1,1\n",
    "    m.append(c)\n",
    "print(m)\n",
    "\n",
    "for i in range(1, len(l)-1):\n",
    "    print(l[i])\n",
    "    for j in range(len(l[i])-1):\n",
    "        print(l[i][j]+l[i][j+1], end=',')\n",
    "        l[i+1][j+1]= l[i][j]+l[i][j+1]\n",
    "    print()\n",
    "\n",
    "print(l)"
   ]
  },
  {
   "cell_type": "markdown",
   "metadata": {},
   "source": [
    "Paskal II"
   ]
  },
  {
   "cell_type": "code",
   "execution_count": null,
   "metadata": {},
   "outputs": [
    {
     "name": "stdout",
     "output_type": "stream",
     "text": [
      "[[1], [1, 1], [1, 0, 1], [1, 0, 0, 1], [1, 0, 0, 0, 1]]\n",
      "[1, 1]\n",
      "2,\n",
      "[1, 2, 1]\n",
      "3,3,\n",
      "[1, 3, 3, 1]\n",
      "4,6,4,\n",
      "[[1], [1, 1], [1, 2, 1], [1, 3, 3, 1], [1, 4, 6, 4, 1]]\n"
     ]
    }
   ],
   "source": [
    "l = [[1],[1,1],[1,2,1],[1,3,3,1],[1,4,6,4,1]]\n",
    "l = [[1],[1,1],[1,0,1],[1,0,0,1],[1,0,0,0,1]]\n",
    "m = []\n",
    "for a in range(1,5+1):\n",
    "    c = []\n",
    "    for b in range(a):\n",
    "        c.append(0)\n",
    "    c[0],c[-1] = 1,1\n",
    "    m.append(c)\n",
    "print(m)\n",
    "\n",
    "for i in range(1, len(l)-1):\n",
    "    print(l[i])\n",
    "    for j in range(len(l[i])-1):\n",
    "        print(l[i][j]+l[i][j+1], end=',')\n",
    "        l[i+1][j+1]= l[i][j]+l[i][j+1]\n",
    "    print()\n",
    "\n",
    "print(l)"
   ]
  },
  {
   "cell_type": "code",
   "execution_count": 17,
   "metadata": {},
   "outputs": [
    {
     "name": "stdout",
     "output_type": "stream",
     "text": [
      "2\n",
      "0\n",
      "-1\n"
     ]
    }
   ],
   "source": [
    "class UnionFind:\n",
    "    def __init__(self, size):\n",
    "        self.parent = list(range(size))\n",
    "        self.rank = [1] * size\n",
    "\n",
    "    def find(self, u):\n",
    "        if self.parent[u] != u:\n",
    "            self.parent[u] = self.find(self.parent[u])  # Path compression\n",
    "        return self.parent[u]\n",
    "\n",
    "    def union(self, u, v):\n",
    "        root_u = self.find(u)\n",
    "        root_v = self.find(v)\n",
    "        if root_u != root_v:\n",
    "            # Union by rank\n",
    "            if self.rank[root_u] > self.rank[root_v]:\n",
    "                self.parent[root_v] = root_u\n",
    "            elif self.rank[root_u] < self.rank[root_v]:\n",
    "                self.parent[root_u] = root_v\n",
    "            else:\n",
    "                self.parent[root_v] = root_u\n",
    "                self.rank[root_u] += 1\n",
    "            return True\n",
    "        return False\n",
    "\n",
    "def maxNumEdgesToRemove(n, edges):\n",
    "    uf_alice = UnionFind(n + 1)\n",
    "    uf_bob = UnionFind(n + 1)\n",
    "    uf_shared = UnionFind(n + 1)\n",
    "\n",
    "    edges = sorted(edges, key=lambda x: -x[0])\n",
    "    edges_used = 0\n",
    "\n",
    "    for edge_type, u, v in edges:\n",
    "        if edge_type == 3:\n",
    "            if uf_shared.union(u, v):\n",
    "                uf_alice.union(u, v)\n",
    "                uf_bob.union(u, v)\n",
    "                edges_used += 1\n",
    "        elif edge_type == 1:\n",
    "            if uf_alice.union(u, v):\n",
    "                edges_used += 1\n",
    "        elif edge_type == 2:\n",
    "            if uf_bob.union(u, v):\n",
    "                edges_used += 1\n",
    "\n",
    "    # Check if Alice and Bob can fully traverse the graph\n",
    "    if len({uf_alice.find(i) for i in range(1, n + 1)}) != 1 or \\\n",
    "       len({uf_bob.find(i) for i in range(1, n + 1)}) != 1:\n",
    "        return -1\n",
    "\n",
    "    return len(edges) - edges_used\n",
    "\n",
    "# Example usage\n",
    "print(maxNumEdgesToRemove(4, [[3,1,2],[3,2,3],[1,1,3],[1,2,4],[1,1,2],[2,3,4]]))  # Output: 2\n",
    "print(maxNumEdgesToRemove(4, [[3,1,2],[3,2,3],[1,1,4],[2,1,4]]))  # Output: 0\n",
    "print(maxNumEdgesToRemove(4, [[3,2,3],[1,1,2],[2,3,4]]))  # Output: -1\n"
   ]
  },
  {
   "cell_type": "code",
   "execution_count": 26,
   "metadata": {},
   "outputs": [
    {
     "name": "stdout",
     "output_type": "stream",
     "text": [
      "[[3, 1, 2], [3, 2, 3], [2, 3, 4], [1, 1, 3], [1, 2, 4], [1, 1, 2]]\n",
      "[[1, 1, 3], [1, 2, 4], [1, 1, 2], [2, 3, 4], [3, 1, 2], [3, 2, 3]]\n"
     ]
    }
   ],
   "source": [
    "edges = [[3,1,2],[3,2,3],[1,1,3],[1,2,4],[1,1,2],[2,3,4]]\n",
    "print(sorted(edges, key=lambda x: -x[0]))\n",
    "print(sorted(edges, key=lambda x: x[0]))"
   ]
  },
  {
   "cell_type": "code",
   "execution_count": 30,
   "metadata": {},
   "outputs": [
    {
     "data": {
      "text/plain": [
       "{0, 1, 2, 3, 4}"
      ]
     },
     "execution_count": 30,
     "metadata": {},
     "output_type": "execute_result"
    }
   ],
   "source": [
    "parent = list(range(5))\n",
    "rank = [1]*5\n",
    "\n",
    "def find( u):\n",
    "    if parent[u] != u:\n",
    "        parent[u] = find(parent[u])  # Path compression\n",
    "    return parent[u]\n",
    "\n",
    "{find(i) for i in range( 5 )}"
   ]
  },
  {
   "cell_type": "markdown",
   "metadata": {},
   "source": [
    "## Roman to integer"
   ]
  },
  {
   "cell_type": "code",
   "execution_count": 35,
   "metadata": {},
   "outputs": [
    {
     "name": "stdout",
     "output_type": "stream",
     "text": [
      "58\n"
     ]
    }
   ],
   "source": [
    "d = {'I':1,'V':5,'X':10,'L':50,'C':100,'D':500,'M':1000}\n",
    "\n",
    "# for i in d:\n",
    "#     print(i, ',',d[i])\n",
    "\n",
    "total = 0\n",
    "i = 0\n",
    "\n",
    "s = 'LVIII'\n",
    "while i< len(s):\n",
    "    if i + 1 < len(s) and d[s[i]]< d[s[i+1]]:\n",
    "        total += d[s[i+1]] - d[s[i]]\n",
    "    else:\n",
    "        total += d[s[i]]\n",
    "        i += 1\n",
    "\n",
    "print(total)\n",
    "\n",
    "\n",
    "\n"
   ]
  },
  {
   "cell_type": "code",
   "execution_count": 44,
   "metadata": {},
   "outputs": [
    {
     "name": "stdout",
     "output_type": "stream",
     "text": [
      "1\n",
      "1\n",
      "1\n",
      "5\n",
      "50\n"
     ]
    }
   ],
   "source": [
    "d = {'I':1,'V':5,'X':10,'L':50,'C':100,'D':500,'M':1000}\n",
    "s = 'LVIII'\n",
    "o = [d[i] for i in s]\n",
    "p = False\n",
    "for j in range(len(o) -1, -1, -1):\n",
    "    \n",
    "    print(o[j])"
   ]
  },
  {
   "cell_type": "markdown",
   "metadata": {},
   "source": [
    "217. Contains Duplicate"
   ]
  },
  {
   "cell_type": "code",
   "execution_count": 3,
   "metadata": {},
   "outputs": [
    {
     "data": {
      "text/plain": [
       "True"
      ]
     },
     "execution_count": 3,
     "metadata": {},
     "output_type": "execute_result"
    }
   ],
   "source": [
    "nums = [1,2,3,1]\n",
    "len(nums) != len(set(nums))"
   ]
  },
  {
   "cell_type": "code",
   "execution_count": 5,
   "metadata": {},
   "outputs": [
    {
     "data": {
      "text/plain": [
       "False"
      ]
     },
     "execution_count": 5,
     "metadata": {},
     "output_type": "execute_result"
    }
   ],
   "source": [
    "nums = [1,2,3,4]\n",
    "len(nums) != len(set(nums))"
   ]
  },
  {
   "cell_type": "code",
   "execution_count": 6,
   "metadata": {},
   "outputs": [
    {
     "data": {
      "text/plain": [
       "True"
      ]
     },
     "execution_count": 6,
     "metadata": {},
     "output_type": "execute_result"
    }
   ],
   "source": [
    "nums = [1,1,1,3,3,4,3,2,4,2]\n",
    "len(nums) != len(set(nums))"
   ]
  }
 ],
 "metadata": {
  "kernelspec": {
   "display_name": "Python 3",
   "language": "python",
   "name": "python3"
  },
  "language_info": {
   "codemirror_mode": {
    "name": "ipython",
    "version": 3
   },
   "file_extension": ".py",
   "mimetype": "text/x-python",
   "name": "python",
   "nbconvert_exporter": "python",
   "pygments_lexer": "ipython3",
   "version": "3.11.5"
  }
 },
 "nbformat": 4,
 "nbformat_minor": 2
}

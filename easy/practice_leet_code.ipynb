{
 "cells": [
  {
   "cell_type": "code",
   "execution_count": 32,
   "metadata": {},
   "outputs": [
    {
     "name": "stdout",
     "output_type": "stream",
     "text": [
      "   id    email\n",
      "0   1  a@b.com\n"
     ]
    },
    {
     "data": {
      "text/html": [
       "<div>\n",
       "<style scoped>\n",
       "    .dataframe tbody tr th:only-of-type {\n",
       "        vertical-align: middle;\n",
       "    }\n",
       "\n",
       "    .dataframe tbody tr th {\n",
       "        vertical-align: top;\n",
       "    }\n",
       "\n",
       "    .dataframe thead th {\n",
       "        text-align: right;\n",
       "    }\n",
       "</style>\n",
       "<table border=\"1\" class=\"dataframe\">\n",
       "  <thead>\n",
       "    <tr style=\"text-align: right;\">\n",
       "      <th></th>\n",
       "      <th>0</th>\n",
       "    </tr>\n",
       "  </thead>\n",
       "  <tbody>\n",
       "    <tr>\n",
       "      <th>0</th>\n",
       "      <td>1</td>\n",
       "    </tr>\n",
       "    <tr>\n",
       "      <th>1</th>\n",
       "      <td>3</td>\n",
       "    </tr>\n",
       "    <tr>\n",
       "      <th>2</th>\n",
       "      <td>4</td>\n",
       "    </tr>\n",
       "  </tbody>\n",
       "</table>\n",
       "</div>"
      ],
      "text/plain": [
       "   0\n",
       "0  1\n",
       "1  3\n",
       "2  4"
      ]
     },
     "execution_count": 32,
     "metadata": {},
     "output_type": "execute_result"
    }
   ],
   "source": [
    "import pandas as pd\n",
    "\n",
    "d = {'id':[1,2,3],'email': ['a@b.com','a@b.com','a@b.com']}\n",
    "df = pd.DataFrame(data=d)\n",
    "\n",
    "df1 = df.drop_duplicates(subset='email')\n",
    "print(df1)\n",
    "# id    email\n",
    "# 0   1  a@b.com\n",
    "# 1   2  c@d.com\n",
    "# 2   3  a@b.com\n",
    "\n",
    "s = pd.Series([1,3,4])\n",
    "d = s.to_frame()\n",
    "d"
   ]
  },
  {
   "cell_type": "code",
   "execution_count": 45,
   "metadata": {},
   "outputs": [
    {
     "name": "stdout",
     "output_type": "stream",
     "text": [
      "<bound method DataFrame.duplicated of      Email\n",
      "0  a@b.com\n",
      "1  a@b.com\n",
      "2  a@b.com>\n"
     ]
    }
   ],
   "source": [
    "df1=df['email'].to_frame()\n",
    "df1.columns = ['Email']\n",
    "print(df1.duplicated)\n",
    "# df2 = df1.drop_duplicates(subset='Email')\n",
    "# df2"
   ]
  },
  {
   "cell_type": "code",
   "execution_count": 46,
   "metadata": {},
   "outputs": [
    {
     "data": {
      "text/html": [
       "<div>\n",
       "<style scoped>\n",
       "    .dataframe tbody tr th:only-of-type {\n",
       "        vertical-align: middle;\n",
       "    }\n",
       "\n",
       "    .dataframe tbody tr th {\n",
       "        vertical-align: top;\n",
       "    }\n",
       "\n",
       "    .dataframe thead th {\n",
       "        text-align: right;\n",
       "    }\n",
       "</style>\n",
       "<table border=\"1\" class=\"dataframe\">\n",
       "  <thead>\n",
       "    <tr style=\"text-align: right;\">\n",
       "      <th></th>\n",
       "      <th>id</th>\n",
       "      <th>email</th>\n",
       "    </tr>\n",
       "  </thead>\n",
       "  <tbody>\n",
       "    <tr>\n",
       "      <th>0</th>\n",
       "      <td>1</td>\n",
       "      <td>a@b.com</td>\n",
       "    </tr>\n",
       "    <tr>\n",
       "      <th>1</th>\n",
       "      <td>2</td>\n",
       "      <td>a@b.com</td>\n",
       "    </tr>\n",
       "    <tr>\n",
       "      <th>2</th>\n",
       "      <td>3</td>\n",
       "      <td>a@b.com</td>\n",
       "    </tr>\n",
       "  </tbody>\n",
       "</table>\n",
       "</div>"
      ],
      "text/plain": [
       "   id    email\n",
       "0   1  a@b.com\n",
       "1   2  a@b.com\n",
       "2   3  a@b.com"
      ]
     },
     "execution_count": 46,
     "metadata": {},
     "output_type": "execute_result"
    }
   ],
   "source": [
    "df"
   ]
  },
  {
   "cell_type": "code",
   "execution_count": 56,
   "metadata": {},
   "outputs": [
    {
     "data": {
      "text/plain": [
       "0    False\n",
       "1     True\n",
       "2     True\n",
       "dtype: bool"
      ]
     },
     "execution_count": 56,
     "metadata": {},
     "output_type": "execute_result"
    }
   ],
   "source": [
    "df3 = df['email'].to_frame()\n",
    "df4 = df3.duplicated()\n",
    "df4\n",
    "\n",
    "\n"
   ]
  },
  {
   "cell_type": "code",
   "execution_count": 60,
   "metadata": {},
   "outputs": [],
   "source": [
    "nums = [0,1,0,3,12]"
   ]
  },
  {
   "cell_type": "code",
   "execution_count": 62,
   "metadata": {},
   "outputs": [
    {
     "data": {
      "text/plain": [
       "[1, 3, 12]"
      ]
     },
     "execution_count": 62,
     "metadata": {},
     "output_type": "execute_result"
    }
   ],
   "source": [
    "[n for n in nums if n != 0]"
   ]
  },
  {
   "cell_type": "code",
   "execution_count": 63,
   "metadata": {},
   "outputs": [
    {
     "name": "stdout",
     "output_type": "stream",
     "text": [
      "[1, 3, 12, 0, 0]\n"
     ]
    }
   ],
   "source": [
    "for n in nums:\n",
    "    if n == 0:\n",
    "        nums.remove(n)\n",
    "        nums.append(n)\n",
    "    else:\n",
    "        pass\n",
    "\n",
    "print(nums)\n"
   ]
  },
  {
   "cell_type": "code",
   "execution_count": 68,
   "metadata": {},
   "outputs": [
    {
     "name": "stdout",
     "output_type": "stream",
     "text": [
      "4\n"
     ]
    }
   ],
   "source": [
    "nums = [4,1,2,1,2,4,5]\n",
    "def singleNumber(nums):\n",
    "    res = 0\n",
    "    for num in nums:\n",
    "        res ^= num\n",
    "        return res\n",
    "print(singleNumber(nums)) # Output: 4"
   ]
  },
  {
   "cell_type": "code",
   "execution_count": 71,
   "metadata": {},
   "outputs": [],
   "source": [
    "for n in nums:\n",
    "    if nums.count(n)==1:\n",
    "        # return n\n",
    "        pass"
   ]
  },
  {
   "cell_type": "code",
   "execution_count": 80,
   "metadata": {},
   "outputs": [
    {
     "name": "stdout",
     "output_type": "stream",
     "text": [
      "**********\n",
      "2,**********\n",
      "3,3,**********\n",
      "4,4,4,**********\n"
     ]
    }
   ],
   "source": [
    "n = 5\n",
    "for i in range(1,n):\n",
    "    for j in range(i-1):\n",
    "        # print(i,',',j)\n",
    "        print(i, end=',')\n",
    "    print('*'.center(10,'*'))\n"
   ]
  },
  {
   "cell_type": "code",
   "execution_count": 91,
   "metadata": {},
   "outputs": [
    {
     "name": "stdout",
     "output_type": "stream",
     "text": [
      "65 A\n",
      "66 B\n",
      "67 C\n",
      "68 D\n",
      "69 E\n",
      "70 F\n",
      "71 G\n",
      "72 H\n",
      "73 I\n",
      "74 J\n",
      "75 K\n",
      "76 L\n",
      "77 M\n",
      "78 N\n",
      "79 O\n",
      "80 P\n",
      "81 Q\n",
      "82 R\n",
      "83 S\n",
      "84 T\n",
      "85 U\n",
      "86 V\n",
      "87 W\n",
      "88 X\n",
      "89 Y\n",
      "90 Z\n"
     ]
    }
   ],
   "source": [
    "from string import ascii_letters, ascii_lowercase, ascii_uppercase\n",
    "len(ascii_letters)\n",
    "len(ascii_lowercase)\n",
    "\n",
    "for i in ascii_uppercase:\n",
    "    print(ord(i), i)"
   ]
  },
  {
   "cell_type": "code",
   "execution_count": 97,
   "metadata": {},
   "outputs": [
    {
     "name": "stdout",
     "output_type": "stream",
     "text": [
      "None\n"
     ]
    }
   ],
   "source": [
    "n1, n2 = 1, 2\n",
    "so = 0\n",
    "def s(n):\n",
    "    if n == 0:\n",
    "        return so\n",
    "    elif n == 1:\n",
    "        return so\n",
    "    if n == 2:\n",
    "        return so\n",
    "    else:\n",
    "        s(n -1)\n",
    "\n",
    "print(s(5))"
   ]
  },
  {
   "cell_type": "code",
   "execution_count": 103,
   "metadata": {},
   "outputs": [
    {
     "ename": "SyntaxError",
     "evalue": "unmatched ')' (517085883.py, line 13)",
     "output_type": "error",
     "traceback": [
      "\u001b[1;36m  Cell \u001b[1;32mIn [103], line 13\u001b[1;36m\u001b[0m\n\u001b[1;33m    l.pop())\u001b[0m\n\u001b[1;37m           ^\u001b[0m\n\u001b[1;31mSyntaxError\u001b[0m\u001b[1;31m:\u001b[0m unmatched ')'\n"
     ]
    }
   ],
   "source": [
    "s1 = \"()\"\n",
    "s2 = \"()[]{}\"\n",
    "s3 = \"(]\"\n",
    "\n",
    "l = []\n",
    "s = s1\n",
    "for b in s:\n",
    "    l.append(b)\n",
    "\n",
    "print(l)\n",
    "\n",
    "for _ in range(1,len(l)):\n",
    "    l.pop())\n",
    "    # print(l)\n",
    "\n"
   ]
  },
  {
   "cell_type": "code",
   "execution_count": 110,
   "metadata": {},
   "outputs": [],
   "source": [
    "n = 11\n",
    "n = 128\n",
    "n = 2147483645"
   ]
  },
  {
   "cell_type": "code",
   "execution_count": 112,
   "metadata": {},
   "outputs": [
    {
     "data": {
      "text/plain": [
       "30"
      ]
     },
     "execution_count": 112,
     "metadata": {},
     "output_type": "execute_result"
    }
   ],
   "source": [
    "bin(n)[2:].count('1')"
   ]
  },
  {
   "cell_type": "code",
   "execution_count": 123,
   "metadata": {},
   "outputs": [
    {
     "name": "stdout",
     "output_type": "stream",
     "text": [
      "ABCDEFGHIJKLMNOPQRSTUVWXYZ\n"
     ]
    }
   ],
   "source": [
    "from string import ascii_uppercase\n",
    "print(ascii_uppercase)\n",
    "for u in ascii_uppercase:\n",
    "    # print(ord(u))\n",
    "    pass\n",
    "\n"
   ]
  },
  {
   "cell_type": "code",
   "execution_count": 129,
   "metadata": {},
   "outputs": [
    {
     "name": "stdout",
     "output_type": "stream",
     "text": [
      "@\n"
     ]
    }
   ],
   "source": [
    "n = int(1/26)\n",
    "print(chr(64+n))"
   ]
  },
  {
   "cell_type": "code",
   "execution_count": 134,
   "metadata": {},
   "outputs": [
    {
     "name": "stdout",
     "output_type": "stream",
     "text": [
      "26\n",
      "25\n",
      "ZY\n"
     ]
    }
   ],
   "source": [
    "n = 701\n",
    "print(n//26)\n",
    "print(n%26)\n",
    "print(chr(64+(n//26))+chr(64+n%26))"
   ]
  },
  {
   "cell_type": "code",
   "execution_count": 141,
   "metadata": {},
   "outputs": [
    {
     "name": "stdout",
     "output_type": "stream",
     "text": [
      "5F3Z\n",
      "2e9w\n",
      "s\n"
     ]
    }
   ],
   "source": [
    "s = \"5F3Z-2e-9-ws\"\n",
    "s = s.replace('-', '')\n",
    "k = 4\n",
    "for i in range(0, len(s), k):\n",
    "    print(s[i:i+k])"
   ]
  },
  {
   "cell_type": "code",
   "execution_count": 152,
   "metadata": {},
   "outputs": [
    {
     "name": "stdout",
     "output_type": "stream",
     "text": [
      "-13\n"
     ]
    }
   ],
   "source": [
    "# base 7\n",
    "\n",
    "n = 10\n",
    "def convertToBase7(n):\n",
    "    if n == 0:\n",
    "        return ''\n",
    "    elif n > 0:\n",
    "        return convertToBase7(n // 7) + str(n % 7)\n",
    "    else:\n",
    "        return '-' + convertToBase7(-n // 7) + str(-n %7)\n",
    "    \n",
    "\n",
    "print(convertToBase7(-10))"
   ]
  },
  {
   "cell_type": "code",
   "execution_count": 16,
   "metadata": {},
   "outputs": [
    {
     "name": "stdout",
     "output_type": "stream",
     "text": [
      "[[1], [1, 1], [1, 0, 1], [1, 0, 0, 1], [1, 0, 0, 0, 1]]\n",
      "[1, 1]\n",
      "2,\n",
      "[1, 2, 1]\n",
      "3,3,\n",
      "[1, 3, 3, 1]\n",
      "4,6,4,\n",
      "[[1], [1, 1], [1, 2, 1], [1, 3, 3, 1], [1, 4, 6, 4, 1]]\n"
     ]
    }
   ],
   "source": [
    "l = [[1],[1,1],[1,2,1],[1,3,3,1],[1,4,6,4,1]]\n",
    "l = [[1],[1,1],[1,0,1],[1,0,0,1],[1,0,0,0,1]]\n",
    "m = []\n",
    "for a in range(1,5+1):\n",
    "    c = []\n",
    "    for b in range(a):\n",
    "        c.append(0)\n",
    "    c[0],c[-1] = 1,1\n",
    "    m.append(c)\n",
    "print(m)\n",
    "\n",
    "for i in range(1, len(l)-1):\n",
    "    print(l[i])\n",
    "    for j in range(len(l[i])-1):\n",
    "        print(l[i][j]+l[i][j+1], end=',')\n",
    "        l[i+1][j+1]= l[i][j]+l[i][j+1]\n",
    "    print()\n",
    "\n",
    "print(l)"
   ]
  },
  {
   "cell_type": "markdown",
   "metadata": {},
   "source": [
    "Paskal II"
   ]
  },
  {
   "cell_type": "code",
   "execution_count": null,
   "metadata": {},
   "outputs": [
    {
     "name": "stdout",
     "output_type": "stream",
     "text": [
      "[[1], [1, 1], [1, 0, 1], [1, 0, 0, 1], [1, 0, 0, 0, 1]]\n",
      "[1, 1]\n",
      "2,\n",
      "[1, 2, 1]\n",
      "3,3,\n",
      "[1, 3, 3, 1]\n",
      "4,6,4,\n",
      "[[1], [1, 1], [1, 2, 1], [1, 3, 3, 1], [1, 4, 6, 4, 1]]\n"
     ]
    }
   ],
   "source": [
    "l = [[1],[1,1],[1,2,1],[1,3,3,1],[1,4,6,4,1]]\n",
    "l = [[1],[1,1],[1,0,1],[1,0,0,1],[1,0,0,0,1]]\n",
    "m = []\n",
    "for a in range(1,5+1):\n",
    "    c = []\n",
    "    for b in range(a):\n",
    "        c.append(0)\n",
    "    c[0],c[-1] = 1,1\n",
    "    m.append(c)\n",
    "print(m)\n",
    "\n",
    "for i in range(1, len(l)-1):\n",
    "    print(l[i])\n",
    "    for j in range(len(l[i])-1):\n",
    "        print(l[i][j]+l[i][j+1], end=',')\n",
    "        l[i+1][j+1]= l[i][j]+l[i][j+1]\n",
    "    print()\n",
    "\n",
    "print(l)"
   ]
  },
  {
   "cell_type": "code",
   "execution_count": 17,
   "metadata": {},
   "outputs": [
    {
     "name": "stdout",
     "output_type": "stream",
     "text": [
      "2\n",
      "0\n",
      "-1\n"
     ]
    }
   ],
   "source": [
    "class UnionFind:\n",
    "    def __init__(self, size):\n",
    "        self.parent = list(range(size))\n",
    "        self.rank = [1] * size\n",
    "\n",
    "    def find(self, u):\n",
    "        if self.parent[u] != u:\n",
    "            self.parent[u] = self.find(self.parent[u])  # Path compression\n",
    "        return self.parent[u]\n",
    "\n",
    "    def union(self, u, v):\n",
    "        root_u = self.find(u)\n",
    "        root_v = self.find(v)\n",
    "        if root_u != root_v:\n",
    "            # Union by rank\n",
    "            if self.rank[root_u] > self.rank[root_v]:\n",
    "                self.parent[root_v] = root_u\n",
    "            elif self.rank[root_u] < self.rank[root_v]:\n",
    "                self.parent[root_u] = root_v\n",
    "            else:\n",
    "                self.parent[root_v] = root_u\n",
    "                self.rank[root_u] += 1\n",
    "            return True\n",
    "        return False\n",
    "\n",
    "def maxNumEdgesToRemove(n, edges):\n",
    "    uf_alice = UnionFind(n + 1)\n",
    "    uf_bob = UnionFind(n + 1)\n",
    "    uf_shared = UnionFind(n + 1)\n",
    "\n",
    "    edges = sorted(edges, key=lambda x: -x[0])\n",
    "    edges_used = 0\n",
    "\n",
    "    for edge_type, u, v in edges:\n",
    "        if edge_type == 3:\n",
    "            if uf_shared.union(u, v):\n",
    "                uf_alice.union(u, v)\n",
    "                uf_bob.union(u, v)\n",
    "                edges_used += 1\n",
    "        elif edge_type == 1:\n",
    "            if uf_alice.union(u, v):\n",
    "                edges_used += 1\n",
    "        elif edge_type == 2:\n",
    "            if uf_bob.union(u, v):\n",
    "                edges_used += 1\n",
    "\n",
    "    # Check if Alice and Bob can fully traverse the graph\n",
    "    if len({uf_alice.find(i) for i in range(1, n + 1)}) != 1 or \\\n",
    "       len({uf_bob.find(i) for i in range(1, n + 1)}) != 1:\n",
    "        return -1\n",
    "\n",
    "    return len(edges) - edges_used\n",
    "\n",
    "# Example usage\n",
    "print(maxNumEdgesToRemove(4, [[3,1,2],[3,2,3],[1,1,3],[1,2,4],[1,1,2],[2,3,4]]))  # Output: 2\n",
    "print(maxNumEdgesToRemove(4, [[3,1,2],[3,2,3],[1,1,4],[2,1,4]]))  # Output: 0\n",
    "print(maxNumEdgesToRemove(4, [[3,2,3],[1,1,2],[2,3,4]]))  # Output: -1\n"
   ]
  },
  {
   "cell_type": "code",
   "execution_count": 26,
   "metadata": {},
   "outputs": [
    {
     "name": "stdout",
     "output_type": "stream",
     "text": [
      "[[3, 1, 2], [3, 2, 3], [2, 3, 4], [1, 1, 3], [1, 2, 4], [1, 1, 2]]\n",
      "[[1, 1, 3], [1, 2, 4], [1, 1, 2], [2, 3, 4], [3, 1, 2], [3, 2, 3]]\n"
     ]
    }
   ],
   "source": [
    "edges = [[3,1,2],[3,2,3],[1,1,3],[1,2,4],[1,1,2],[2,3,4]]\n",
    "print(sorted(edges, key=lambda x: -x[0]))\n",
    "print(sorted(edges, key=lambda x: x[0]))"
   ]
  },
  {
   "cell_type": "code",
   "execution_count": 30,
   "metadata": {},
   "outputs": [
    {
     "data": {
      "text/plain": [
       "{0, 1, 2, 3, 4}"
      ]
     },
     "execution_count": 30,
     "metadata": {},
     "output_type": "execute_result"
    }
   ],
   "source": [
    "parent = list(range(5))\n",
    "rank = [1]*5\n",
    "\n",
    "def find( u):\n",
    "    if parent[u] != u:\n",
    "        parent[u] = find(parent[u])  # Path compression\n",
    "    return parent[u]\n",
    "\n",
    "{find(i) for i in range( 5 )}"
   ]
  },
  {
   "cell_type": "markdown",
   "metadata": {},
   "source": [
    "## Roman to integer"
   ]
  },
  {
   "cell_type": "code",
   "execution_count": 35,
   "metadata": {},
   "outputs": [
    {
     "name": "stdout",
     "output_type": "stream",
     "text": [
      "58\n"
     ]
    }
   ],
   "source": [
    "d = {'I':1,'V':5,'X':10,'L':50,'C':100,'D':500,'M':1000}\n",
    "\n",
    "# for i in d:\n",
    "#     print(i, ',',d[i])\n",
    "\n",
    "total = 0\n",
    "i = 0\n",
    "\n",
    "s = 'LVIII'\n",
    "while i< len(s):\n",
    "    if i + 1 < len(s) and d[s[i]]< d[s[i+1]]:\n",
    "        total += d[s[i+1]] - d[s[i]]\n",
    "    else:\n",
    "        total += d[s[i]]\n",
    "        i += 1\n",
    "\n",
    "print(total)\n",
    "\n",
    "\n",
    "\n"
   ]
  },
  {
   "cell_type": "code",
   "execution_count": 44,
   "metadata": {},
   "outputs": [
    {
     "name": "stdout",
     "output_type": "stream",
     "text": [
      "1\n",
      "1\n",
      "1\n",
      "5\n",
      "50\n"
     ]
    }
   ],
   "source": [
    "d = {'I':1,'V':5,'X':10,'L':50,'C':100,'D':500,'M':1000}\n",
    "s = 'LVIII'\n",
    "o = [d[i] for i in s]\n",
    "p = False\n",
    "for j in range(len(o) -1, -1, -1):\n",
    "    \n",
    "    print(o[j])"
   ]
  },
  {
   "cell_type": "markdown",
   "metadata": {},
   "source": [
    "217. Contains Duplicate"
   ]
  },
  {
   "cell_type": "code",
   "execution_count": 3,
   "metadata": {},
   "outputs": [
    {
     "data": {
      "text/plain": [
       "True"
      ]
     },
     "execution_count": 3,
     "metadata": {},
     "output_type": "execute_result"
    }
   ],
   "source": [
    "nums = [1,2,3,1]\n",
    "len(nums) != len(set(nums))"
   ]
  },
  {
   "cell_type": "code",
   "execution_count": 5,
   "metadata": {},
   "outputs": [
    {
     "data": {
      "text/plain": [
       "False"
      ]
     },
     "execution_count": 5,
     "metadata": {},
     "output_type": "execute_result"
    }
   ],
   "source": [
    "nums = [1,2,3,4]\n",
    "len(nums) != len(set(nums))"
   ]
  },
  {
   "cell_type": "code",
   "execution_count": 6,
   "metadata": {},
   "outputs": [
    {
     "data": {
      "text/plain": [
       "True"
      ]
     },
     "execution_count": 6,
     "metadata": {},
     "output_type": "execute_result"
    }
   ],
   "source": [
    "nums = [1,1,1,3,3,4,3,2,4,2]\n",
    "len(nums) != len(set(nums))"
   ]
  },
  {
   "cell_type": "markdown",
   "metadata": {},
   "source": [
    "219. Contains Duplicate II\n",
    "\n",
    "Given an integer array nums and an integer k, return true if there are two distinct indices i and j in the array such that nums[i] == nums[j] and abs(i - j) <= k."
   ]
  },
  {
   "cell_type": "code",
   "execution_count": 34,
   "metadata": {},
   "outputs": [
    {
     "name": "stdout",
     "output_type": "stream",
     "text": [
      "0 1 1\n",
      "2 1 1\n",
      "3 1 1\n",
      "0\n",
      "1\n"
     ]
    },
    {
     "data": {
      "text/plain": [
       "{1: [0, 2, 3]}"
      ]
     },
     "execution_count": 34,
     "metadata": {},
     "output_type": "execute_result"
    }
   ],
   "source": [
    "nums = [1,0,1,1]\n",
    "k = 3\n",
    "[ i for i in zip(nums , list(set(nums)))]\n",
    "\n",
    "from collections import Counter\n",
    "c = Counter(nums)\n",
    "j = [n for n, m in c.items() if m > 1]\n",
    "\n",
    "nums.index(1)\n",
    "d = {i:[] for i in j}\n",
    "for x, y in enumerate(nums):\n",
    "    for l in j:\n",
    "        if l == y:\n",
    "            print(x,y,l)\n",
    "            d[l].append(x)\n",
    "\n",
    "for p in d:\n",
    "    # print(abs(d[p][0]-d[p][1]))\n",
    "    for u in range(len(d[p])-1):\n",
    "        # print(u)\n",
    "        if abs(d[p][u]-d[p][u+1]) <= 3:\n",
    "            pass\n",
    "\n",
    "d"
   ]
  },
  {
   "cell_type": "markdown",
   "metadata": {},
   "source": [
    "561. Array Partition"
   ]
  },
  {
   "cell_type": "code",
   "execution_count": 41,
   "metadata": {},
   "outputs": [
    {
     "data": {
      "text/plain": [
       "[1, 2, 2, 5, 6, 6]"
      ]
     },
     "execution_count": 41,
     "metadata": {},
     "output_type": "execute_result"
    }
   ],
   "source": [
    "nums = [1,4,3,2]\n",
    "nums = [6,2,6,5,1,2]\n",
    "nums = sorted(nums)\n",
    "nums"
   ]
  },
  {
   "cell_type": "code",
   "execution_count": 43,
   "metadata": {},
   "outputs": [
    {
     "data": {
      "text/plain": [
       "[1, 2]"
      ]
     },
     "execution_count": 43,
     "metadata": {},
     "output_type": "execute_result"
    }
   ],
   "source": [
    "[nums[a] for a in range(0, len(nums)//2+1, 2)]"
   ]
  },
  {
   "cell_type": "code",
   "execution_count": 48,
   "metadata": {},
   "outputs": [
    {
     "name": "stdout",
     "output_type": "stream",
     "text": [
      "[2, 4, 6, 8, 10, 12, 14, 16, 18]\n"
     ]
    },
    {
     "data": {
      "text/plain": [
       "[1, 2, 3, 4, 5, 6, 7, 8, 9]"
      ]
     },
     "execution_count": 48,
     "metadata": {},
     "output_type": "execute_result"
    }
   ],
   "source": [
    "l = list(range(2,20,2))\n",
    "print(l)\n",
    "[i//2 for i in l ]"
   ]
  },
  {
   "cell_type": "code",
   "execution_count": 54,
   "metadata": {},
   "outputs": [
    {
     "name": "stdout",
     "output_type": "stream",
     "text": [
      "[1, 2, 6] [2, 5, 6]\n"
     ]
    },
    {
     "data": {
      "text/plain": [
       "9"
      ]
     },
     "execution_count": 54,
     "metadata": {},
     "output_type": "execute_result"
    }
   ],
   "source": [
    "print(nums[::2],nums[1::2])\n",
    "sum([min(a, b) for a, b in zip(nums[::2],nums[1::2])])"
   ]
  },
  {
   "cell_type": "markdown",
   "metadata": {},
   "source": [
    "415. Add Strings"
   ]
  },
  {
   "cell_type": "code",
   "execution_count": 56,
   "metadata": {},
   "outputs": [
    {
     "data": {
      "text/plain": [
       "'134'"
      ]
     },
     "execution_count": 56,
     "metadata": {},
     "output_type": "execute_result"
    }
   ],
   "source": [
    "num1 = \"11\"\n",
    "num2 = \"123\"\n",
    "str(int(num1)+int(num2))"
   ]
  },
  {
   "cell_type": "code",
   "execution_count": 63,
   "metadata": {},
   "outputs": [
    {
     "name": "stdout",
     "output_type": "stream",
     "text": [
      "011 ,  123\n"
     ]
    }
   ],
   "source": [
    "num1, num2 = '11', '123'\n",
    "if len(num1)>len(num2):\n",
    "    num2 = '0'*(len(num1)-len(num2))+num2\n",
    "elif len(num1)<len(num2):\n",
    "    num1 = '0'*(len(num2)-len(num1))+num1\n",
    "\n",
    "print(num1, ', ', num2)"
   ]
  },
  {
   "cell_type": "code",
   "execution_count": 67,
   "metadata": {},
   "outputs": [
    {
     "name": "stdout",
     "output_type": "stream",
     "text": [
      "4\n",
      "3\n",
      "1\n"
     ]
    }
   ],
   "source": [
    "for a, b in zip(num1[::-1], num2[::-1]):\n",
    "    print(int(a)+ int(b))"
   ]
  },
  {
   "cell_type": "code",
   "execution_count": 58,
   "metadata": {},
   "outputs": [
    {
     "data": {
      "text/plain": [
       "'123'"
      ]
     },
     "execution_count": 58,
     "metadata": {},
     "output_type": "execute_result"
    }
   ],
   "source": [
    "l1 , l2 = len(num1), len(num2)\n",
    "a = b = 0   \n",
    "for i in range(l2):\n",
    "    s = ord(num2[i]) - 48\n",
    "    b = b*10 + s\n",
    "\n",
    "str(a + b)"
   ]
  },
  {
   "cell_type": "code",
   "execution_count": 68,
   "metadata": {},
   "outputs": [],
   "source": [
    "class Solution:\n",
    "    def addStrings(self, num1: str, num2: str) -> str:\n",
    "        str1, str2 = num1, num2\n",
    "        if (len(str1) > len(str2)):\n",
    "            t = str1;\n",
    "            str1 = str2;\n",
    "            str2 = t;\n",
    "    \n",
    "        # Take an empty string for \n",
    "        # storing result \n",
    "        str = \"\"; \n",
    "    \n",
    "        # Calculate length of both string \n",
    "        n1 = len(str1);\n",
    "        n2 = len(str2); \n",
    "    \n",
    "        # Reverse both of strings \n",
    "        str1 = str1[::-1]; \n",
    "        str2 = str2[::-1]; \n",
    "    \n",
    "        carry = 0; \n",
    "        for i in range(n1): \n",
    "            \n",
    "            # Do school mathematics, compute \n",
    "            # sum of current digits and carry \n",
    "            sum = ((ord(str1[i]) - 48) +\n",
    "                ((ord(str2[i]) - 48) + carry)); \n",
    "            str += chr(sum % 10 + 48); \n",
    "    \n",
    "            # Calculate carry for next step \n",
    "            carry = int(sum / 10); \n",
    "    \n",
    "        # Add remaining digits of larger number \n",
    "        for i in range(n1, n2): \n",
    "            sum = ((ord(str2[i]) - 48) + carry); \n",
    "            str += chr(sum % 10 + 48); \n",
    "            carry = (int)(sum / 10); \n",
    "    \n",
    "        # Add remaining carry \n",
    "        if (carry): \n",
    "            str += chr(carry + 48); \n",
    "    \n",
    "        # reverse resultant string \n",
    "        str = str[::-1]; \n",
    "    \n",
    "        return str; \n",
    " "
   ]
  },
  {
   "cell_type": "markdown",
   "metadata": {},
   "source": [
    "290. Word Patternn (repeat)\n",
    "\n",
    "https://leetcode.com/problems/word-pattern/description/"
   ]
  },
  {
   "cell_type": "code",
   "execution_count": 13,
   "metadata": {},
   "outputs": [],
   "source": [
    "class Solution:\n",
    "    def wordPattern(self, pattern: str, s: str) -> bool:\n",
    "        p = s.split()\n",
    "        d = {a:0 for a in pattern}\n",
    "        if len(pattern) != len(p):\n",
    "            print('ddf')\n",
    "            return False\n",
    "        else:\n",
    "            for i in p:\n",
    "                if d[i] == 0:\n",
    "                    print(p[i])\n",
    "                    d[i]=p[i]\n",
    "                elif d[i]==p:\n",
    "                    pass\n",
    "                else:\n",
    "                    return False\n",
    "        return True\n",
    "\n",
    "\n",
    "s = Solution()\n",
    "# print(s.wordPattern('aaaa',\"dog cat cat dog\"))\n",
    "# print(s.wordPattern('abba',\"dog cat cat dog\"))\n",
    "# print(s.wordPattern('abba',\"dog cat cat fish\"))"
   ]
  },
  {
   "cell_type": "code",
   "execution_count": 39,
   "metadata": {},
   "outputs": [
    {
     "name": "stdout",
     "output_type": "stream",
     "text": [
      "True\n",
      "False\n",
      "False\n"
     ]
    }
   ],
   "source": [
    "class Solution:\n",
    "    def wordPattern(self, pattern: str, s: str) -> bool:\n",
    "        c = s.split()\n",
    "        e = zip(pattern,c)\n",
    "        d = {m:k  for m, k in zip(pattern,c)}\n",
    "        if len(pattern) != len(c):            \n",
    "            return False\n",
    "        else:\n",
    "            for g, k in e:\n",
    "                if d[g] != k:\n",
    "                    return False\n",
    "\n",
    "        return True\n",
    "\n",
    "# c = \"dog cat cat dog\".split()\n",
    "# print(c)\n",
    "# print(list(zip('aaaa',c)))\n",
    "# e = zip('aaaa',c)\n",
    "# s = set(zip('aaaa',c))\n",
    "# print(s)\n",
    "\n",
    "# print('dictionar: ',{m:k  for m, k in zip('abca',c)})\n",
    "# # print(set(list(e)))\n",
    "\n",
    "\n",
    "# md = {m:k  for m, k in zip('abca',c)}\n",
    "# for g, k in e:\n",
    "#     print(g, k)\n",
    "#     if md[g] == k:\n",
    "#         print('_')\n",
    "\n",
    "s = Solution()\n",
    "print(s.wordPattern('abba',\"dog cat cat dog\"))\n",
    "print(s.wordPattern('abba',\"dog cat cat fish\"))\n",
    "print(s.wordPattern('aaaa',\"dog cat cat dog\"))"
   ]
  },
  {
   "cell_type": "code",
   "execution_count": 41,
   "metadata": {},
   "outputs": [
    {
     "name": "stdout",
     "output_type": "stream",
     "text": [
      "True\n",
      "False\n",
      "False\n"
     ]
    }
   ],
   "source": [
    "class Solution:\n",
    "    def wordPattern(self, pattern: str, s: str) -> bool:\n",
    "        str = s.split(' ')\n",
    "        if  not len(str) == len(pattern):\n",
    "                return False\n",
    "        return len(set(zip(pattern, str))) == len(set(str)) == len(set(pattern))\n",
    "    \n",
    "s = Solution()\n",
    "print(s.wordPattern('abba',\"dog cat cat dog\"))\n",
    "print(s.wordPattern('abba',\"dog cat cat fish\"))\n",
    "print(s.wordPattern('aaaa',\"dog cat cat dog\"))"
   ]
  },
  {
   "cell_type": "code",
   "execution_count": 46,
   "metadata": {},
   "outputs": [
    {
     "name": "stdout",
     "output_type": "stream",
     "text": [
      "{('b', 'cat'), ('a', 'dog')}\n",
      "{'dog', 'cat'}\n",
      "{'a', 'b'}\n",
      "True\n",
      "{('b', 'cat'), ('a', 'fish'), ('a', 'dog')}\n",
      "{'fish', 'dog', 'cat'}\n",
      "{'a', 'b'}\n",
      "False\n",
      "{('a', 'cat'), ('a', 'dog')}\n",
      "{'dog', 'cat'}\n",
      "{'a'}\n",
      "False\n"
     ]
    }
   ],
   "source": [
    "class Solution:\n",
    "    def wordPattern(self, pattern: str, s: str) -> bool:\n",
    "        str = s.split(' ')\n",
    "        if  not len(str) == len(pattern):\n",
    "                return False\n",
    "        a = len(set(zip(pattern, str)))\n",
    "        b = len(set(str))\n",
    "        c = len(set(pattern))\n",
    "        print(set(zip(pattern,str)))\n",
    "        print(set(str))\n",
    "        print(set(pattern))\n",
    "        return a == b == c\n",
    "    \n",
    "s = Solution()\n",
    "print(s.wordPattern('abba',\"dog cat cat dog\"))\n",
    "print(s.wordPattern('abba',\"dog cat cat fish\"))\n",
    "print(s.wordPattern('aaaa',\"dog cat cat dog\"))"
   ]
  },
  {
   "cell_type": "markdown",
   "metadata": {},
   "source": [
    "13. Roman to Integer\n",
    "\n",
    "https://leetcode.com/problems/roman-to-integer/description/\n",
    "Repeat"
   ]
  },
  {
   "cell_type": "code",
   "execution_count": 25,
   "metadata": {},
   "outputs": [],
   "source": [
    "d = {'I':1,'V':5,'X':10,'L':50,'C':100,'D':500,'M':1000}\n",
    "\n",
    "s = 'MCMXCIV'\n",
    "# Output: 1994\n",
    "\n",
    "# Input: s = \"LVIII\"\n",
    "# Output: 58\n",
    "\n",
    "# Input: s = \"III\"\n",
    "# Output: 3"
   ]
  },
  {
   "cell_type": "code",
   "execution_count": 9,
   "metadata": {},
   "outputs": [
    {
     "name": "stdout",
     "output_type": "stream",
     "text": [
      "[5, 1, 100, 10, 1000, 100, 1000]\n",
      "[0, 0, 0, 0, 0, 0, 0]\n",
      "0 , 1\n",
      "5 - 1 = 4\n",
      "1 , 2\n",
      "2 , 3\n",
      "100 - 10 = 90\n",
      "3 , 4\n",
      "4 , 5\n",
      "1000 - 100 = 900\n",
      "5 , 6\n",
      "[4, 90, 900, 0, 1000, 0, 0]\n",
      "1994\n"
     ]
    }
   ],
   "source": [
    "s = 'MCMXCIV'\n",
    "# s = \"LVIII\"\n",
    "a = [d[i] for i in s][::-1]\n",
    "print(a)\n",
    "o = [0]*len(a)\n",
    "print(o)\n",
    "j = 0\n",
    "f = True\n",
    "for i in range(len(a)-1):\n",
    "    print(i, ',', i+1)\n",
    "    if a[i]>a[i+1]:        \n",
    "        print(a[i],'-',a[i+1], '=', a[i]-a[i+1])\n",
    "        o[j] = a[i]-a[i+1]\n",
    "        o[j+1] = 0\n",
    "        j+=1\n",
    "        f = False\n",
    "        continue\n",
    "    elif f:\n",
    "        o[j] = a[i]\n",
    "        j+=1\n",
    "    elif len(a)==i+2:\n",
    "        o[j+1] = a[i+1]        \n",
    "    f = True\n",
    "print(o)\n",
    "print(sum(o))\n"
   ]
  },
  {
   "cell_type": "code",
   "execution_count": 6,
   "metadata": {},
   "outputs": [
    {
     "data": {
      "text/plain": [
       "[50, 5, 1, 1, 1]"
      ]
     },
     "execution_count": 6,
     "metadata": {},
     "output_type": "execute_result"
    }
   ],
   "source": [
    "[d[i] for i in \"LVIII\"]"
   ]
  },
  {
   "cell_type": "code",
   "execution_count": 18,
   "metadata": {},
   "outputs": [
    {
     "name": "stdout",
     "output_type": "stream",
     "text": [
      "1000 --\n",
      "900 , 1900\n",
      "90 , 1990\n",
      "4 , 1994\n",
      "1994\n"
     ]
    }
   ],
   "source": [
    "d = {'I':1,'V':5,'X':10,'L':50,'C':100,'D':500,'M':1000}\n",
    "\n",
    "total = 0\n",
    "i = 0\n",
    "\n",
    "s = 'MCMXCIV'\n",
    "# s = 'III'\n",
    "# s  = 'LVIII'\n",
    "while i< len(s):\n",
    "    if i + 1 < len(s) and d[s[i]]< d[s[i+1]]:\n",
    "        # print(i)\n",
    "        total += d[s[i+1]] - d[s[i]]\n",
    "        print(d[s[i+1]] - d[s[i]] , ',', total)\n",
    "        i+=2\n",
    "    else:\n",
    "        total += d[s[i]]\n",
    "        print(total, '--')\n",
    "        i += 1\n",
    "\n",
    "print(total)"
   ]
  },
  {
   "cell_type": "markdown",
   "metadata": {},
   "source": [
    "38. Count and Say (repeat)\n",
    "\n",
    "https://leetcode.com/problems/count-and-say/description/"
   ]
  },
  {
   "cell_type": "code",
   "execution_count": 1,
   "metadata": {},
   "outputs": [
    {
     "name": "stdout",
     "output_type": "stream",
     "text": [
      "1\n",
      "1211\n",
      "13211311123113112211\n"
     ]
    }
   ],
   "source": [
    "class Solution:\n",
    "    def countAndSay(self, n: int) -> str:\n",
    "        \n",
    "        if n == 1:\n",
    "            return \"1\"\n",
    "        \n",
    "        def next_sequence(s):\n",
    "            result = []\n",
    "            i = 0\n",
    "            while i < len(s):\n",
    "                count = 1\n",
    "                while i + 1 < len(s) and s[i] == s[i + 1]:\n",
    "                    i += 1\n",
    "                    count += 1\n",
    "                result.append(f\"{count}{s[i]}\")\n",
    "                i += 1\n",
    "            return ''.join(result)\n",
    "        \n",
    "        current = \"1\"\n",
    "        for _ in range(2, n + 1):\n",
    "            current = next_sequence(current)\n",
    "        \n",
    "        return current\n",
    "    \n",
    "\n",
    "s = Solution()\n",
    "print(s.countAndSay(1))\n",
    "print(s.countAndSay(4))\n",
    "print(s.countAndSay(10))"
   ]
  },
  {
   "cell_type": "markdown",
   "metadata": {},
   "source": [
    "20. Valid Parentheses (repeat)\n",
    "\n",
    "https://leetcode.com/problems/valid-parentheses/description/"
   ]
  },
  {
   "cell_type": "code",
   "execution_count": 1,
   "metadata": {},
   "outputs": [
    {
     "name": "stdout",
     "output_type": "stream",
     "text": [
      "True\n",
      "True\n",
      "False\n"
     ]
    }
   ],
   "source": [
    "class Solution:\n",
    "    # @param {string} s\n",
    "    # @return {boolean}\n",
    "    def isValid(self, s: str) -> bool:\n",
    "        if s == []:\n",
    "            return False\n",
    "        else:\n",
    "            stack = []\n",
    "            balanced = True\n",
    "            index = 0\n",
    "            while index < len(s) and balanced:\n",
    "                symbol = s[index]\n",
    "                if symbol in \"({[\":\n",
    "                    stack.append(symbol)\n",
    "                else:\n",
    "                    if stack == []:\n",
    "                        balanced = False\n",
    "                    else:\n",
    "                        top = stack.pop()\n",
    "                        if not self.matches(top,symbol):\n",
    "                            balanced = False\n",
    "                index = index + 1\n",
    "            if balanced and stack == []:\n",
    "                return True\n",
    "            else:\n",
    "                return False\n",
    "    def matches(self,open,close):\n",
    "        openings = \"({[\"\n",
    "        closings = \")}]\"\n",
    "        return openings.index(open) == closings.index(close)\n",
    "    \n",
    "s = Solution()\n",
    "print(s.isValid(\"()\"))\n",
    "print(s.isValid(\"()[]{}\"))\n",
    "print(s.isValid(\"(]\"))"
   ]
  },
  {
   "cell_type": "markdown",
   "metadata": {},
   "source": [
    "69. Sqrt(x)\n",
    "\n",
    "https://leetcode.com/problems/sqrtx/description/"
   ]
  },
  {
   "cell_type": "code",
   "execution_count": 1,
   "metadata": {},
   "outputs": [
    {
     "name": "stdout",
     "output_type": "stream",
     "text": [
      "2\n",
      "2\n"
     ]
    }
   ],
   "source": [
    "def mySqrt(x):\n",
    "    if x == 0 or x == 1:\n",
    "        return x\n",
    "    \n",
    "    left, right = 0, x\n",
    "    while left <= right:\n",
    "        mid = (left + right) // 2\n",
    "        if mid * mid == x:\n",
    "            return mid\n",
    "        elif mid * mid < x:\n",
    "            left = mid + 1\n",
    "        else:\n",
    "            right = mid - 1\n",
    "    \n",
    "    return right\n",
    "\n",
    "# Example usage\n",
    "print(mySqrt(4))  # Output: 2\n",
    "print(mySqrt(8))  # Output: 2\n"
   ]
  },
  {
   "cell_type": "markdown",
   "metadata": {},
   "source": [
    "70. Climbing Stairs (repeat)\n",
    "\n",
    "https://leetcode.com/problems/climbing-stairs/description/"
   ]
  },
  {
   "cell_type": "code",
   "execution_count": 1,
   "metadata": {},
   "outputs": [
    {
     "name": "stdout",
     "output_type": "stream",
     "text": [
      "2\n",
      "3\n",
      "5\n"
     ]
    }
   ],
   "source": [
    "def climbStairs(n):\n",
    "    if n <= 2:\n",
    "        return n\n",
    "    \n",
    "    a, b = 1, 2\n",
    "    \n",
    "    for i in range(3, n + 1):\n",
    "        a, b = b, a + b\n",
    "    \n",
    "    return b\n",
    "\n",
    "# Example usage:\n",
    "print(climbStairs(2))  # Output: 2\n",
    "print(climbStairs(3))  # Output: 3\n",
    "print(climbStairs(4))  # Output: 5\n"
   ]
  },
  {
   "cell_type": "code",
   "execution_count": 2,
   "metadata": {},
   "outputs": [
    {
     "name": "stdout",
     "output_type": "stream",
     "text": [
      "2\n",
      "[0, 1, 2, 0]\n",
      "[0, 1, 2, 3]\n",
      "3\n",
      "[0, 1, 2, 0, 0]\n",
      "[0, 1, 2, 3, 0]\n",
      "[0, 1, 2, 3, 5]\n",
      "5\n"
     ]
    }
   ],
   "source": [
    "def climbStairs(n):\n",
    "    if n <= 2:\n",
    "        return n\n",
    "    \n",
    "    # Create a list to store the number of ways to reach each step\n",
    "    ways = [0] * (n + 1)\n",
    "    ways[1] = 1\n",
    "    ways[2] = 2\n",
    "\n",
    "    print(ways)\n",
    "    \n",
    "    for i in range(3, n + 1):\n",
    "        ways[i] = ways[i - 1] + ways[i - 2]\n",
    "        print(ways)\n",
    "    \n",
    "    return ways[n]\n",
    "\n",
    "# Example usage:\n",
    "print(climbStairs(2))  # Output: 2\n",
    "print(climbStairs(3))  # Output: 3\n",
    "print(climbStairs(4))  # Output: 5\n"
   ]
  },
  {
   "cell_type": "markdown",
   "metadata": {},
   "source": [
    "1518. Water Bottles\n",
    "\n",
    "https://leetcode.com/problems/water-bottles/description/?envType=daily-question&envId=2024-07-07"
   ]
  },
  {
   "cell_type": "code",
   "execution_count": 22,
   "metadata": {},
   "outputs": [
    {
     "name": "stdout",
     "output_type": "stream",
     "text": [
      "E: 3\n",
      "N: 3\n",
      "D: 15\n",
      "\n",
      "E: 2\n",
      "N: 1\n",
      "D: 18\n",
      "\n",
      "E: 3\n",
      "N: 0\n",
      "D: 19\n",
      "\n",
      "19\n"
     ]
    }
   ],
   "source": [
    "class Solution:\n",
    "    def numWaterBottles(self, numBottles: int, numExchange: int) -> int:\n",
    "        d = 0\n",
    "        e = 0\n",
    "        while numBottles>0:\n",
    "            d = d + numBottles\n",
    "            n = (e+numBottles)//numExchange\n",
    "            e = (e+numBottles)%numExchange\n",
    "            numBottles = n\n",
    "            print(f'E: {e}')\n",
    "            print(f'N: {n}')\n",
    "            print(f'D: {d}')\n",
    "            print()\n",
    "        print(d)\n",
    "\n",
    "\n",
    "\n",
    "s = Solution()\n",
    "# s.numWaterBottles(9,3)\n",
    "s.numWaterBottles(15,4)\n"
   ]
  },
  {
   "cell_type": "markdown",
   "metadata": {},
   "source": [
    "164. Maximum Gap\n",
    "\n",
    "https://leetcode.com/problems/maximum-gap/description/"
   ]
  },
  {
   "cell_type": "code",
   "execution_count": 26,
   "metadata": {},
   "outputs": [
    {
     "name": "stdout",
     "output_type": "stream",
     "text": [
      "3\n",
      "[1, 3, 6, 9]\n"
     ]
    }
   ],
   "source": [
    "class Solution:\n",
    "    def maximumGap(self, nums: list[int]) -> int:\n",
    "        n = sorted(nums)\n",
    "        s = max([n[i+1]-n[i] for i in range(len(n)-1)])\n",
    "        print(s)\n",
    "        print(n)\n",
    "\n",
    "\n",
    "s = Solution()\n",
    "s.maximumGap([3,6,9,1])"
   ]
  },
  {
   "cell_type": "markdown",
   "metadata": {},
   "source": [
    "1823. Find the Winner of the Circular Game (repeat)\n",
    "**Josephus problem**\n",
    "\n",
    "https://leetcode.com/problems/find-the-winner-of-the-circular-game/?envType=daily-question&envId=2024-07-08"
   ]
  },
  {
   "cell_type": "code",
   "execution_count": 17,
   "metadata": {},
   "outputs": [
    {
     "name": "stdout",
     "output_type": "stream",
     "text": [
      "<__main__.LinkedList object at 0x0000021589ACC450>\n",
      "[1, 2, 3, 4, 5]\n"
     ]
    }
   ],
   "source": [
    "class LinkedList():\n",
    "    def __init__(self, data, prev=None, next=None) -> None:\n",
    "        self.data = data\n",
    "        self.prev = prev\n",
    "        self.next = next    \n",
    "\n",
    "    def travers():\n",
    "        pass    \n",
    "\n",
    "class Solution:\n",
    "    def findTheWinner(self, n: int, k: int) -> int:\n",
    "        i = list(range(1,n+1))\n",
    "        print(i)\n",
    "\n",
    "\n",
    "a = LinkedList(1)\n",
    "a.next = a\n",
    "print(a.next)\n",
    "\n",
    "t = LinkedList(1)\n",
    "t.next = t\n",
    "t.prev = t\n",
    "n = 5\n",
    "for i in range(1,n+1):\n",
    "    s = LinkedList(i)\n",
    "    s.prev = t\n",
    "    s.next = t\n",
    "\n",
    "s = Solution()\n",
    "s.findTheWinner(5,2) # 3\n",
    "# s.findTheWinner(6,5) # 1\n",
    "\n",
    "# [1,2,3,4,5,6], 1-5\n",
    "# [1,2,3,4,0,6], 6-4\n",
    "# [1,2,3,0,0,6], 6-6\n",
    "# [1,2,3,0,0,0], 1-2\n",
    "# [1,0,3,0,0,0], 3-3\n",
    "# [1,0,0,0,0,0], 1"
   ]
  },
  {
   "cell_type": "code",
   "execution_count": 21,
   "metadata": {},
   "outputs": [
    {
     "name": "stdout",
     "output_type": "stream",
     "text": [
      "3\n"
     ]
    }
   ],
   "source": [
    "def findTheWinner(n, k):\n",
    "    winner = 0  # base case: when there is only one person\n",
    "    for i in range(1, n + 1):\n",
    "        winner = (winner + k) % i\n",
    "    \n",
    "    return winner + 1  # converting 0-based index to 1-based index\n",
    "\n",
    "# Example usage\n",
    "print(findTheWinner(5, 2))  # Output: 3\n",
    "# print(findTheWinner(6, 5))  # Output: 1\n"
   ]
  },
  {
   "cell_type": "code",
   "execution_count": 29,
   "metadata": {},
   "outputs": [
    {
     "name": "stdout",
     "output_type": "stream",
     "text": [
      "3\n",
      "1\n"
     ]
    }
   ],
   "source": [
    "def josephus(n, k):\n",
    "    if n == 1:\n",
    "        return 0\n",
    "    else:\n",
    "        return (josephus(n - 1, k) + k) % n\n",
    "\n",
    "def findTheWinner(n, k):\n",
    "    # Get the position using the josephus function\n",
    "    winner = josephus(n, k)\n",
    "    # Convert the position to 1-based indexing\n",
    "    return winner + 1\n",
    "\n",
    "# Example usage\n",
    "print(findTheWinner(5, 2))  # Output: 3\n",
    "print(findTheWinner(6, 5))  # Output: 1\n"
   ]
  },
  {
   "cell_type": "markdown",
   "metadata": {},
   "source": [
    "1701. Average Waiting Time\n",
    "\n",
    "https://leetcode.com/problems/average-waiting-time/description/"
   ]
  },
  {
   "cell_type": "code",
   "execution_count": 11,
   "metadata": {},
   "outputs": [
    {
     "name": "stdout",
     "output_type": "stream",
     "text": [
      "5, 7, 2, 2\n",
      "7, 11, 6, 8\n",
      "11, 14, 4, 12\n",
      "20, 21, 1, 13\n",
      "3.25\n"
     ]
    },
    {
     "data": {
      "text/plain": [
       "3.25"
      ]
     },
     "execution_count": 11,
     "metadata": {},
     "output_type": "execute_result"
    }
   ],
   "source": [
    "class Solution:\n",
    "    def averageWaitingTime(self, customers: list[list[int]]) -> float:\n",
    "        wait = 0\n",
    "        t_start = 0\n",
    "        t_end = customers[0][0]\n",
    "        for i in customers:\n",
    "            if i[0]>t_end:\n",
    "                t_start = i[0]\n",
    "            else:      \n",
    "                t_start = t_end\n",
    "            t_end = t_start + i[1]\n",
    "            wait = wait + (t_end - i[0])\n",
    "            print(f'{t_start}, {t_end}, {t_end - i[0]}, {wait}')\n",
    "        print(wait/len(customers))\n",
    "        return wait/len(customers)\n",
    "                \n",
    "\n",
    "\n",
    "s = Solution()\n",
    "# s.averageWaitingTime([[1,2],[2,5],[4,3]])\n",
    "s.averageWaitingTime([[5,2],[5,4],[10,3],[20,1]])"
   ]
  },
  {
   "cell_type": "markdown",
   "metadata": {},
   "source": [
    "### 1598. Crawler Log Folder (repeat)\n",
    "\n",
    "https://leetcode.com/problems/crawler-log-folder/description/\n",
    "\n",
    "\n",
    "\n",
    "The Leetcode file system keeps a log each time some user performs a change folder operation.\n",
    "\n",
    "The operations are described below:\n",
    "\n",
    "- \"../\" : Move to the parent folder of the current folder. (If you are already in the main folder, remain in the same folder).\n",
    "- \"./\" : Remain in the same folder.\n",
    "- \"x/\" : Move to the child folder named x (This folder is guaranteed to always exist).\n",
    "\n",
    "You are given a list of strings logs where logs[i] is the operation performed by the user at the ith step.\n",
    "\n",
    "The file system starts in the main folder, then the operations in logs are performed.\n",
    "\n",
    "Return the minimum number of operations needed to go back to the main folder after the change folder operations.\n",
    "\n",
    " \n",
    "\n",
    "Example 1:\n",
    "\n",
    "\n",
    "\n",
    "    Input: logs = [\"d1/\",\"d2/\",\"../\",\"d21/\",\"./\"]\n",
    "    Output: 2\n",
    "    Explanation: Use this change folder operation \"../\" 2 times and go back to the main folder.\n",
    "\n",
    "Example 2:\n",
    "\n",
    "\n",
    "\n",
    "    Input: logs = [\"d1/\",\"d2/\",\"./\",\"d3/\",\"../\",\"d31/\"]\n",
    "    Output: 3\n",
    "    Example 3:\n",
    "\n",
    "    Input: logs = [\"d1/\",\"../\",\"../\",\"../\"]\n",
    "    Output: 0\n",
    " \n",
    "\n",
    "Constraints:\n",
    "\n",
    "    1 <= logs.length <= 103\n",
    "    2 <= logs[i].length <= 10\n",
    "    logs[i] contains lowercase English letters, digits, '.', and '/'.\n",
    "    logs[i] follows the format described in the statement.\n",
    "    Folder names consist of lowercase English letters and digits.\n"
   ]
  },
  {
   "cell_type": "code",
   "execution_count": 4,
   "metadata": {},
   "outputs": [
    {
     "name": "stdout",
     "output_type": "stream",
     "text": [
      "2\n",
      "3\n",
      "0\n"
     ]
    }
   ],
   "source": [
    "from typing import List \n",
    "\n",
    "\n",
    "class Solution:\n",
    "    def minOperations(self, logs: List[str]) -> int:\n",
    "        depth = 0\n",
    "        \n",
    "        for log in logs:\n",
    "            if log == \"../\":\n",
    "                if depth > 0:\n",
    "                    depth -= 1\n",
    "            elif log == \"./\":\n",
    "                continue\n",
    "            else:\n",
    "                depth += 1\n",
    "        \n",
    "        return depth\n",
    "\n",
    "logs1 = [\"d1/\",\"d2/\",\"../\",\"d21/\",\"./\"]\n",
    "logs2 = [\"d1/\",\"d2/\",\"./\",\"d3/\",\"../\",\"d31/\"]\n",
    "logs3 = [\"d1/\",\"../\",\"../\",\"../\"]\n",
    "\n",
    "\n",
    "s = Solution()\n",
    "print(s.minOperations(logs1))\n",
    "print(s.minOperations(logs2))\n",
    "print(s.minOperations(logs3))"
   ]
  },
  {
   "cell_type": "markdown",
   "metadata": {},
   "source": [
    "### 1190. Reverse Substrings Between Each Pair of Parentheses (Repeat)\n",
    "\n",
    "https://leetcode.com/problems/reverse-substrings-between-each-pair-of-parentheses/description/\n",
    "\n",
    "You are given a string s that consists of lower case English letters and brackets.\n",
    "\n",
    "Reverse the strings in each pair of matching parentheses, starting from the innermost one.\n",
    "\n",
    "Your result should not contain any brackets.\n",
    "\n",
    " \n",
    "\n",
    "Example 1:\n",
    "\n",
    "    Input: s = \"(abcd)\"\n",
    "    Output: \"dcba\"\n",
    "Example 2:\n",
    "\n",
    "    Input: s = \"(u(love)i)\"\n",
    "    Output: \"iloveu\"\n",
    "    Explanation: The substring \"love\" is reversed first, then the whole string is reversed.\n",
    "Example 3:\n",
    "\n",
    "    Input: s = \"(ed(et(oc))el)\"\n",
    "    Output: \"leetcode\"\n",
    "    Explanation: First, we reverse the substring \"oc\", then \"etco\", and finally, the whole string.\n",
    " \n",
    "\n",
    "Constraints:\n",
    "\n",
    "- 1 <= s.length <= 2000\n",
    "- s only contains lower case English characters and parentheses.\n",
    "- It is guaranteed that all parentheses are balanced."
   ]
  },
  {
   "cell_type": "code",
   "execution_count": 2,
   "metadata": {},
   "outputs": [
    {
     "name": "stdout",
     "output_type": "stream",
     "text": [
      "\"\"+(\"abcd\")[::-1]+\"\"\n",
      "dcba\n",
      "\"\"+(\"u\"+(\"love\")[::-1]+\"i\")[::-1]+\"\"\n",
      "iloveu\n",
      "\"\"+(\"ed\"+(\"et\"+(\"oc\")[::-1]+\"\")[::-1]+\"el\")[::-1]+\"\"\n",
      "leetcode\n"
     ]
    }
   ],
   "source": [
    "class Solution:\n",
    "    def reverseParentheses(self, s: str) -> str:\n",
    "        print('\"' + s.replace('(', '\"+(\"').replace(')', '\")[::-1]+\"') + '\"')\n",
    "        return eval('\"' + s.replace('(', '\"+(\"').replace(')', '\")[::-1]+\"') + '\"')\n",
    "\n",
    "s1 = \"(abcd)\"\n",
    "s2 = '(u(love)i)'\n",
    "s3 = '(ed(et(oc))el)'\n",
    "s = Solution()\n",
    "print(s.reverseParentheses(s1))\n",
    "print(s.reverseParentheses(s2))\n",
    "print(s.reverseParentheses(s3))"
   ]
  },
  {
   "cell_type": "markdown",
   "metadata": {},
   "source": [
    "### 83. Remove Duplicates from Sorted List (repeat)\n",
    "\n",
    "https://leetcode.com/problems/remove-duplicates-from-sorted-list/\n",
    "\n",
    "Given the head of a sorted linked list, delete all duplicates such that each element appears only once. Return the linked list sorted as well.\n",
    "\n",
    " \n",
    "\n",
    "Example 1:\n",
    "\n",
    "\n",
    "    Input: head = [1,1,2]\n",
    "    Output: [1,2]\n",
    "Example 2:\n",
    "\n",
    "    Input: head = [1,1,2,3,3]\n",
    "    Output: [1,2,3]\n",
    " \n",
    "\n",
    "Constraints:\n",
    "\n",
    "- The number of nodes in the list is in the range [0, 300].\n",
    "- -100 <= Node.val <= 100\n",
    "- The list is guaranteed to be sorted in ascending order."
   ]
  },
  {
   "cell_type": "code",
   "execution_count": 4,
   "metadata": {},
   "outputs": [],
   "source": [
    "# Definition for singly-linked list.\n",
    "class ListNode:\n",
    "    def __init__(self, val=0, next=None):\n",
    "        self.val = val\n",
    "        self.next = next\n",
    "        \n",
    "from typing import Optional, List\n",
    "\n",
    "\n",
    "class Solution:\n",
    "    def __init__(self) -> None:\n",
    "        pass\n",
    "\n",
    "    def deleteDuplicates(self, head: Optional[ListNode]) -> Optional[ListNode]:\n",
    "        n=head\n",
    "        if head is None:\n",
    "            return None\n",
    "        while n is not None and n.next is not None:\n",
    "            #print(n.val)\n",
    "            if n.val==n.next.val:\n",
    "                n.next=n.next.next\n",
    "            else:\n",
    "                n=n.next\n",
    "        return head    \n",
    "    \n",
    "\n",
    "\n",
    "l1 = [1,1,2]    \n",
    "l2 = [1,1,2,3,3]\n",
    "s = Solution()\n",
    "\n",
    "# print(s.deleteDuplicates(l1))\n",
    "# print(s.deleteDuplicates(l2))\n"
   ]
  },
  {
   "cell_type": "markdown",
   "metadata": {},
   "source": [
    "### 1717. Maximum Score From Removing Substrings (repeat)\n",
    "\n",
    "https://leetcode.com/problems/maximum-score-from-removing-substrings/description/?envType=daily-question&envId=2024-07-12\n",
    "\n",
    "You are given a string s and two integers x and y. You can perform two types of operations any number of times.\n",
    "\n",
    "Remove substring \"ab\" and gain x points.\n",
    "\n",
    "For example, when removing \"ab\" from \"cabxbae\" it becomes \"cxbae\".\n",
    "Remove substring \"ba\" and gain y points.\n",
    "\n",
    "For example, when removing \"ba\" from \"cabxbae\" it becomes \"cabxe\".\n",
    "Return the maximum points you can gain after applying the above operations on s.\n",
    "\n",
    " \n",
    "\n",
    "Example 1:\n",
    "\n",
    "    Input: s = \"cdbcbbaaabab\", x = 4, y = 5\n",
    "    Output: 19\n",
    "    Explanation:\n",
    "    - Remove the \"ba\" underlined in \"cdbcbbaaabab\". Now, s = \"cdbcbbaaab\" and 5 points are added to the score.\n",
    "    - Remove the \"ab\" underlined in \"cdbcbbaaab\". Now, s = \"cdbcbbaa\" and 4 points are added to the score.\n",
    "    - Remove the \"ba\" underlined in \"cdbcbbaa\". Now, s = \"cdbcba\" and 5 points are added to the score.\n",
    "    - Remove the \"ba\" underlined in \"cdbcba\". Now, s = \"cdbc\" and 5 points are added to the score.\n",
    "    Total score = 5 + 4 + 5 + 5 = 19.\n",
    "\n",
    "Example 2:\n",
    "\n",
    "    Input: s = \"aabbaaxybbaabb\", x = 5, y = 4\n",
    "    Output: 20\n",
    "    \n",
    "\n",
    "Constraints:\n",
    "\n",
    "- 1 <= s.length <= 105\n",
    "- 1 <= x, y <= 104\n",
    "- s consists of lowercase English letters."
   ]
  },
  {
   "cell_type": "code",
   "execution_count": 1,
   "metadata": {},
   "outputs": [],
   "source": [
    "class Solution:\n",
    "    def maximumGain(self, s: str, x: int, y: int) -> int:\n",
    "        def remove_substring(s, first, second, points):\n",
    "            stack = []\n",
    "            total_points = 0\n",
    "            for char in s:\n",
    "                if stack and stack[-1] == first and char == second:\n",
    "                    stack.pop()\n",
    "                    total_points += points\n",
    "                else:\n",
    "                    stack.append(char)\n",
    "            return ''.join(stack), total_points\n",
    "\n",
    "        total_points = 0\n",
    "\n",
    "        if x >= y:\n",
    "            # Remove \"ab\" first, then \"ba\"\n",
    "            s, points = remove_substring(s, 'a', 'b', x)\n",
    "            total_points += points\n",
    "            s, points = remove_substring(s, 'b', 'a', y)\n",
    "            total_points += points\n",
    "        else:\n",
    "            # Remove \"ba\" first, then \"ab\"\n",
    "            s, points = remove_substring(s, 'b', 'a', y)\n",
    "            total_points += points\n",
    "            s, points = remove_substring(s, 'a', 'b', x)\n",
    "            total_points += points\n",
    "\n",
    "        return total_points\n",
    "\n",
    "# # Example usage\n",
    "# s1 = \"cdbcbbaaabab\"\n",
    "# x1, y1 = 4, 5\n",
    "# print(maximumGain(s1, x1, y1))  # Output: 19\n",
    "\n",
    "# s2 = \"aabbaaxybbaabb\"\n",
    "# x2, y2 = 5, 4\n",
    "# print(maximumGain(s2, x2, y2))  # Output: 20"
   ]
  },
  {
   "cell_type": "markdown",
   "metadata": {},
   "source": [
    "### 726. Number of Atoms (repeat)\n",
    "\n",
    "https://leetcode.com/problems/number-of-atoms/description/?envType=daily-question&envId=2024-07-14\n",
    "\n",
    "Given a string formula representing a chemical formula, return the count of each atom.\n",
    "\n",
    "The atomic element always starts with an uppercase character, then zero or more lowercase letters, representing the name.\n",
    "\n",
    "One or more digits representing that element's count may follow if the count is greater than 1. If the count is 1, no digits will follow.\n",
    "\n",
    "For example, \"H2O\" and \"H2O2\" are possible, but \"H1O2\" is impossible.\n",
    "Two formulas are concatenated together to produce another formula.\n",
    "\n",
    "For example, \"H2O2He3Mg4\" is also a formula.\n",
    "A formula placed in parentheses, and a count (optionally added) is also a formula.\n",
    "\n",
    "For example, \"(H2O2)\" and \"(H2O2)3\" are formulas.\n",
    "Return the count of all elements as a string in the following form: the first name (in sorted order), followed by its count (if that count is more than 1), followed by the second name (in sorted order), followed by its count (if that count is more than 1), and so on.\n",
    "\n",
    "The test cases are generated so that all the values in the output fit in a 32-bit integer.\n",
    "\n",
    " \n",
    "\n",
    "Example 1:\n",
    "\n",
    "    Input: formula = \"H2O\"\n",
    "    Output: \"H2O\"\n",
    "    Explanation: The count of elements are {'H': 2, 'O': 1}.\n",
    "Example 2:\n",
    "\n",
    "    Input: formula = \"Mg(OH)2\"\n",
    "    Output: \"H2MgO2\"\n",
    "    Explanation: The count of elements are {'H': 2, 'Mg': 1, 'O': 2}.\n",
    "Example 3:\n",
    "\n",
    "    Input: formula = \"K4(ON(SO3)2)2\"\n",
    "    Output: \"K4N2O14S4\"\n",
    "    Explanation: The count of elements are {'K': 4, 'N': 2, 'O': 14, 'S': 4}.\n",
    " \n",
    "\n",
    "Constraints:\n",
    "\n",
    "- 1 <= formula.length <= 1000\n",
    "- formula consists of English letters, digits, '(', and ')'.\n",
    "- formula is always valid."
   ]
  },
  {
   "cell_type": "code",
   "execution_count": 2,
   "metadata": {},
   "outputs": [
    {
     "name": "stdout",
     "output_type": "stream",
     "text": [
      "H2O\n",
      "H2MgO2\n",
      "K4N2O14S4\n"
     ]
    }
   ],
   "source": [
    "def countOfAtoms(formula):\n",
    "    from collections import defaultdict\n",
    "    import re\n",
    "    \n",
    "    def multiply_counts(counts, multiplier):\n",
    "        for element in counts:\n",
    "            counts[element] *= multiplier\n",
    "        return counts\n",
    "\n",
    "    stack = []\n",
    "    current_count = defaultdict(int)\n",
    "    i = 0\n",
    "    n = len(formula)\n",
    "\n",
    "    while i < n:\n",
    "        if formula[i] == '(':\n",
    "            # Push the current count onto the stack and start a new current count\n",
    "            stack.append(current_count)\n",
    "            current_count = defaultdict(int)\n",
    "            i += 1\n",
    "        elif formula[i] == ')':\n",
    "            # Complete the parsing of the number following the parenthesis\n",
    "            i += 1\n",
    "            start = i\n",
    "            while i < n and formula[i].isdigit():\n",
    "                i += 1\n",
    "            multiplier = int(formula[start:i] or 1)\n",
    "            # Multiply the counts within the parenthesis by the multiplier\n",
    "            current_count = multiply_counts(current_count, multiplier)\n",
    "            # Pop the previous count from the stack and add the current count to it\n",
    "            previous_count = stack.pop()\n",
    "            for element, count in current_count.items():\n",
    "                previous_count[element] += count\n",
    "            current_count = previous_count\n",
    "        else:\n",
    "            # Parse the element\n",
    "            start = i\n",
    "            i += 1\n",
    "            while i < n and formula[i].islower():\n",
    "                i += 1\n",
    "            element = formula[start:i]\n",
    "            # Parse the number following the element\n",
    "            start = i\n",
    "            while i < n and formula[i].isdigit():\n",
    "                i += 1\n",
    "            count = int(formula[start:i] or 1)\n",
    "            current_count[element] += count\n",
    "    \n",
    "    # Create the result string in the required format\n",
    "    result = []\n",
    "    for element in sorted(current_count.keys()):\n",
    "        count = current_count[element]\n",
    "        result.append(element)\n",
    "        if count > 1:\n",
    "            result.append(str(count))\n",
    "    \n",
    "    return ''.join(result)\n",
    "\n",
    "# Example usage\n",
    "print(countOfAtoms(\"H2O\"))           # Output: \"H2O\"\n",
    "print(countOfAtoms(\"Mg(OH)2\"))       # Output: \"H2MgO2\"\n",
    "print(countOfAtoms(\"K4(ON(SO3)2)2\")) # Output: \"K4N2O14S4\"\n"
   ]
  },
  {
   "cell_type": "markdown",
   "metadata": {},
   "source": [
    "### 2196. Create Binary Tree From Descriptions (repeat)\n",
    "\n",
    "https://leetcode.com/problems/create-binary-tree-from-descriptions/description/?envType=daily-question&envId=2024-07-15\n",
    "\n",
    "You are given a 2D integer array descriptions where descriptions[i] = [parenti, childi, isLefti] indicates that parenti is the parent of childi in a binary tree of unique values. Furthermore,\n",
    "\n",
    "If isLefti == 1, then childi is the left child of parenti.\n",
    "If isLefti == 0, then childi is the right child of parenti.\n",
    "Construct the binary tree described by descriptions and return its root.\n",
    "\n",
    "The test cases will be generated such that the binary tree is valid.\n",
    "\n",
    " \n",
    "\n",
    "Example 1:\n",
    "\n",
    "\n",
    "    Input: descriptions = [[20,15,1],[20,17,0],[50,20,1],[50,80,0],[80,19,1]]\n",
    "    Output: [50,20,80,15,17,19]\n",
    "    Explanation: The root node is the node with value 50 since it has no parent.\n",
    "    The resulting binary tree is shown in the diagram.\n",
    "Example 2:\n",
    "\n",
    "\n",
    "    Input: descriptions = [[1,2,1],[2,3,0],[3,4,1]]\n",
    "    Output: [1,2,null,null,3,4]\n",
    "    Explanation: The root node is the node with value 1 since it has no parent.\n",
    "    The resulting binary tree is shown in the diagram.\n",
    " \n",
    "\n",
    "Constraints:\n",
    "\n",
    "- 1 <= descriptions.length <= 104\n",
    "- descriptions[i].length == 3\n",
    "- 1 <= parenti, childi <= 105\n",
    "- 0 <= isLefti <= 1\n",
    "\n",
    "The binary tree described by descriptions is valid."
   ]
  },
  {
   "cell_type": "code",
   "execution_count": 2,
   "metadata": {},
   "outputs": [
    {
     "name": "stdout",
     "output_type": "stream",
     "text": [
      "defaultdict(<class 'dict'>, {20: {'left': 15, 'right': 17}, 50: {'left': 20, 'right': 80}, 80: {'left': 19}})\n",
      "defaultdict(<class 'dict'>, {1: {'left': 2}, 2: {'right': 3}, 3: {'left': 4}})\n",
      "50 20 80 15 17 19 null null null null null null null \n",
      "1 2 null null 3 4 null null null \n"
     ]
    }
   ],
   "source": [
    "class TreeNode:\n",
    "    def __init__(self, x):\n",
    "        self.val = x\n",
    "        self.left = None\n",
    "        self.right = None\n",
    "\n",
    "def buildTree(descriptions):\n",
    "    from collections import defaultdict\n",
    "    \n",
    "    # Dictionary to map parent to children\n",
    "    parent_to_children = defaultdict(dict)\n",
    "    all_nodes = set()\n",
    "    child_nodes = set()\n",
    "\n",
    "    # Parse the descriptions\n",
    "    for parent, child, isLeft in descriptions:\n",
    "        if isLeft:\n",
    "            parent_to_children[parent]['left'] = child\n",
    "        else:\n",
    "            parent_to_children[parent]['right'] = child\n",
    "        all_nodes.add(parent)\n",
    "        all_nodes.add(child)\n",
    "        child_nodes.add(child)\n",
    "\n",
    "    print(parent_to_children)\n",
    "    # The root is a node that is not anyone's child\n",
    "    root_val = (all_nodes - child_nodes).pop()\n",
    "    \n",
    "    # Create a map to store TreeNode instances by their value\n",
    "    nodes = {}\n",
    "    \n",
    "    def getNode(val):\n",
    "        if val not in nodes:\n",
    "            nodes[val] = TreeNode(val)\n",
    "        return nodes[val]\n",
    "\n",
    "    # Construct the tree\n",
    "    for parent in parent_to_children:\n",
    "        parent_node = getNode(parent)\n",
    "        if 'left' in parent_to_children[parent]:\n",
    "            left_child = getNode(parent_to_children[parent]['left'])\n",
    "            parent_node.left = left_child\n",
    "        if 'right' in parent_to_children[parent]:\n",
    "            right_child = getNode(parent_to_children[parent]['right'])\n",
    "            parent_node.right = right_child\n",
    "\n",
    "    return getNode(root_val)\n",
    "\n",
    "# Example usage:\n",
    "descriptions1 = [[20,15,1],[20,17,0],[50,20,1],[50,80,0],[80,19,1]]\n",
    "root1 = buildTree(descriptions1)\n",
    "\n",
    "descriptions2 = [[1,2,1],[2,3,0],[3,4,1]]\n",
    "root2 = buildTree(descriptions2)\n",
    "\n",
    "# Function to print tree in level order for verification\n",
    "from collections import deque\n",
    "\n",
    "def printTree(root):\n",
    "    if not root:\n",
    "        return\n",
    "    q = deque([root])\n",
    "    while q:\n",
    "        node = q.popleft()\n",
    "        if node:\n",
    "            print(node.val, end=' ')\n",
    "            q.append(node.left)\n",
    "            q.append(node.right)\n",
    "        else:\n",
    "            print(\"null\", end=' ')\n",
    "    print()\n",
    "\n",
    "# Verify the results\n",
    "printTree(root1)  # Expected Output: 50 20 80 15 17 null 19\n",
    "printTree(root2)  # Expected Output: 1 2 null null 3 4\n"
   ]
  },
  {
   "cell_type": "markdown",
   "metadata": {},
   "source": [
    "### 2096. Step-By-Step Directions From a Binary Tree Node to Another (repeat)\n",
    "\n",
    "https://leetcode.com/problems/step-by-step-directions-from-a-binary-tree-node-to-another/\n",
    "\n",
    "You are given the root of a binary tree with n nodes. Each node is uniquely assigned a value from 1 to n. You are also given an integer startValue representing the value of the start node s, and a different integer destValue representing the value of the destination node t.\n",
    "\n",
    "Find the shortest path starting from node s and ending at node t. Generate step-by-step directions of such path as a string consisting of only the uppercase letters 'L', 'R', and 'U'. Each letter indicates a specific direction:\n",
    "\n",
    "    'L' means to go from a node to its left child node.\n",
    "    'R' means to go from a node to its right child node.\n",
    "    'U' means to go from a node to its parent node.\n",
    "\n",
    "Return the step-by-step directions of the shortest path from node s to node t.\n",
    "\n",
    " \n",
    "\n",
    "Example 1:\n",
    "\n",
    "\n",
    "    Input: root = [5,1,2,3,null,6,4], startValue = 3, destValue = 6\n",
    "    Output: \"UURL\"\n",
    "    Explanation: The shortest path is: 3 → 1 → 5 → 2 → 6.\n",
    "Example 2:\n",
    "\n",
    "\n",
    "    Input: root = [2,1], startValue = 2, destValue = 1\n",
    "    Output: \"L\"\n",
    "    Explanation: The shortest path is: 2 → 1.\n",
    " \n",
    "\n",
    "Constraints:\n",
    "\n",
    "- The number of nodes in the tree is n.\n",
    "- 2 <= n <= 105\n",
    "- 1 <= Node.val <= n\n",
    "- All the values in the tree are unique.\n",
    "- 1 <= startValue, destValue <= n\n",
    "- startValue != destValue"
   ]
  },
  {
   "cell_type": "code",
   "execution_count": 1,
   "metadata": {},
   "outputs": [
    {
     "name": "stdout",
     "output_type": "stream",
     "text": [
      "UURL\n"
     ]
    }
   ],
   "source": [
    "# Definition for a binary tree node.\n",
    "class TreeNode:\n",
    "    def __init__(self, val=0, left=None, right=None):\n",
    "        self.val = val\n",
    "        self.left = left\n",
    "        self.right = right\n",
    "\n",
    "class Solution:\n",
    "    def getDirections(self, root: TreeNode, startValue: int, destValue: int) -> str:\n",
    "        # Helper function to find the LCA\n",
    "        def findLCA(node, p, q):\n",
    "            if not node:\n",
    "                return None\n",
    "            if node.val == p or node.val == q:\n",
    "                return node\n",
    "            left = findLCA(node.left, p, q)\n",
    "            right = findLCA(node.right, p, q)\n",
    "            if left and right:\n",
    "                return node\n",
    "            return left if left else right\n",
    "\n",
    "        # Helper function to find the path from the LCA to a target node\n",
    "        def findPath(node, target, path):\n",
    "            if not node:\n",
    "                return False\n",
    "            if node.val == target:\n",
    "                return True\n",
    "            path.append('L')\n",
    "            if findPath(node.left, target, path):\n",
    "                return True\n",
    "            path.pop()\n",
    "            path.append('R')\n",
    "            if findPath(node.right, target, path):\n",
    "                return True\n",
    "            path.pop()\n",
    "            return False\n",
    "\n",
    "        # Find the LCA of startValue and destValue\n",
    "        lca = findLCA(root, startValue, destValue)\n",
    "\n",
    "        # Find path from LCA to startValue\n",
    "        startPath = []\n",
    "        findPath(lca, startValue, startPath)\n",
    "\n",
    "        # Find path from LCA to destValue\n",
    "        destPath = []\n",
    "        findPath(lca, destValue, destPath)\n",
    "\n",
    "        # Convert startPath to 'U's and append destPath\n",
    "        return 'U' * len(startPath) + ''.join(destPath)\n",
    "\n",
    "# Example usage:\n",
    "# Construct the tree\n",
    "root = TreeNode(5)\n",
    "root.left = TreeNode(1)\n",
    "root.right = TreeNode(2)\n",
    "root.left.left = TreeNode(3)\n",
    "root.right.left = TreeNode(6)\n",
    "root.right.right = TreeNode(4)\n",
    "\n",
    "solution = Solution()\n",
    "print(solution.getDirections(root, 3, 6))  # Output: \"UURL\"\n"
   ]
  }
 ],
 "metadata": {
  "kernelspec": {
   "display_name": "Python 3",
   "language": "python",
   "name": "python3"
  },
  "language_info": {
   "codemirror_mode": {
    "name": "ipython",
    "version": 3
   },
   "file_extension": ".py",
   "mimetype": "text/x-python",
   "name": "python",
   "nbconvert_exporter": "python",
   "pygments_lexer": "ipython3",
   "version": "3.11.5"
  }
 },
 "nbformat": 4,
 "nbformat_minor": 2
}

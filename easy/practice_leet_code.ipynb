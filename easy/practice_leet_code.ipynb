{
 "cells": [
  {
   "cell_type": "code",
   "execution_count": 32,
   "metadata": {},
   "outputs": [
    {
     "name": "stdout",
     "output_type": "stream",
     "text": [
      "   id    email\n",
      "0   1  a@b.com\n"
     ]
    },
    {
     "data": {
      "text/html": [
       "<div>\n",
       "<style scoped>\n",
       "    .dataframe tbody tr th:only-of-type {\n",
       "        vertical-align: middle;\n",
       "    }\n",
       "\n",
       "    .dataframe tbody tr th {\n",
       "        vertical-align: top;\n",
       "    }\n",
       "\n",
       "    .dataframe thead th {\n",
       "        text-align: right;\n",
       "    }\n",
       "</style>\n",
       "<table border=\"1\" class=\"dataframe\">\n",
       "  <thead>\n",
       "    <tr style=\"text-align: right;\">\n",
       "      <th></th>\n",
       "      <th>0</th>\n",
       "    </tr>\n",
       "  </thead>\n",
       "  <tbody>\n",
       "    <tr>\n",
       "      <th>0</th>\n",
       "      <td>1</td>\n",
       "    </tr>\n",
       "    <tr>\n",
       "      <th>1</th>\n",
       "      <td>3</td>\n",
       "    </tr>\n",
       "    <tr>\n",
       "      <th>2</th>\n",
       "      <td>4</td>\n",
       "    </tr>\n",
       "  </tbody>\n",
       "</table>\n",
       "</div>"
      ],
      "text/plain": [
       "   0\n",
       "0  1\n",
       "1  3\n",
       "2  4"
      ]
     },
     "execution_count": 32,
     "metadata": {},
     "output_type": "execute_result"
    }
   ],
   "source": [
    "import pandas as pd\n",
    "\n",
    "d = {'id':[1,2,3],'email': ['a@b.com','a@b.com','a@b.com']}\n",
    "df = pd.DataFrame(data=d)\n",
    "\n",
    "df1 = df.drop_duplicates(subset='email')\n",
    "print(df1)\n",
    "# id    email\n",
    "# 0   1  a@b.com\n",
    "# 1   2  c@d.com\n",
    "# 2   3  a@b.com\n",
    "\n",
    "s = pd.Series([1,3,4])\n",
    "d = s.to_frame()\n",
    "d"
   ]
  },
  {
   "cell_type": "code",
   "execution_count": 45,
   "metadata": {},
   "outputs": [
    {
     "name": "stdout",
     "output_type": "stream",
     "text": [
      "<bound method DataFrame.duplicated of      Email\n",
      "0  a@b.com\n",
      "1  a@b.com\n",
      "2  a@b.com>\n"
     ]
    }
   ],
   "source": [
    "df1=df['email'].to_frame()\n",
    "df1.columns = ['Email']\n",
    "print(df1.duplicated)\n",
    "# df2 = df1.drop_duplicates(subset='Email')\n",
    "# df2"
   ]
  },
  {
   "cell_type": "code",
   "execution_count": 46,
   "metadata": {},
   "outputs": [
    {
     "data": {
      "text/html": [
       "<div>\n",
       "<style scoped>\n",
       "    .dataframe tbody tr th:only-of-type {\n",
       "        vertical-align: middle;\n",
       "    }\n",
       "\n",
       "    .dataframe tbody tr th {\n",
       "        vertical-align: top;\n",
       "    }\n",
       "\n",
       "    .dataframe thead th {\n",
       "        text-align: right;\n",
       "    }\n",
       "</style>\n",
       "<table border=\"1\" class=\"dataframe\">\n",
       "  <thead>\n",
       "    <tr style=\"text-align: right;\">\n",
       "      <th></th>\n",
       "      <th>id</th>\n",
       "      <th>email</th>\n",
       "    </tr>\n",
       "  </thead>\n",
       "  <tbody>\n",
       "    <tr>\n",
       "      <th>0</th>\n",
       "      <td>1</td>\n",
       "      <td>a@b.com</td>\n",
       "    </tr>\n",
       "    <tr>\n",
       "      <th>1</th>\n",
       "      <td>2</td>\n",
       "      <td>a@b.com</td>\n",
       "    </tr>\n",
       "    <tr>\n",
       "      <th>2</th>\n",
       "      <td>3</td>\n",
       "      <td>a@b.com</td>\n",
       "    </tr>\n",
       "  </tbody>\n",
       "</table>\n",
       "</div>"
      ],
      "text/plain": [
       "   id    email\n",
       "0   1  a@b.com\n",
       "1   2  a@b.com\n",
       "2   3  a@b.com"
      ]
     },
     "execution_count": 46,
     "metadata": {},
     "output_type": "execute_result"
    }
   ],
   "source": [
    "df"
   ]
  },
  {
   "cell_type": "code",
   "execution_count": 56,
   "metadata": {},
   "outputs": [
    {
     "data": {
      "text/plain": [
       "0    False\n",
       "1     True\n",
       "2     True\n",
       "dtype: bool"
      ]
     },
     "execution_count": 56,
     "metadata": {},
     "output_type": "execute_result"
    }
   ],
   "source": [
    "df3 = df['email'].to_frame()\n",
    "df4 = df3.duplicated()\n",
    "df4\n",
    "\n",
    "\n"
   ]
  },
  {
   "cell_type": "code",
   "execution_count": 60,
   "metadata": {},
   "outputs": [],
   "source": [
    "nums = [0,1,0,3,12]"
   ]
  },
  {
   "cell_type": "code",
   "execution_count": 62,
   "metadata": {},
   "outputs": [
    {
     "data": {
      "text/plain": [
       "[1, 3, 12]"
      ]
     },
     "execution_count": 62,
     "metadata": {},
     "output_type": "execute_result"
    }
   ],
   "source": [
    "[n for n in nums if n != 0]"
   ]
  },
  {
   "cell_type": "code",
   "execution_count": 63,
   "metadata": {},
   "outputs": [
    {
     "name": "stdout",
     "output_type": "stream",
     "text": [
      "[1, 3, 12, 0, 0]\n"
     ]
    }
   ],
   "source": [
    "for n in nums:\n",
    "    if n == 0:\n",
    "        nums.remove(n)\n",
    "        nums.append(n)\n",
    "    else:\n",
    "        pass\n",
    "\n",
    "print(nums)\n"
   ]
  },
  {
   "cell_type": "code",
   "execution_count": 68,
   "metadata": {},
   "outputs": [
    {
     "name": "stdout",
     "output_type": "stream",
     "text": [
      "4\n"
     ]
    }
   ],
   "source": [
    "nums = [4,1,2,1,2,4,5]\n",
    "def singleNumber(nums):\n",
    "    res = 0\n",
    "    for num in nums:\n",
    "        res ^= num\n",
    "        return res\n",
    "print(singleNumber(nums)) # Output: 4"
   ]
  },
  {
   "cell_type": "code",
   "execution_count": 71,
   "metadata": {},
   "outputs": [],
   "source": [
    "for n in nums:\n",
    "    if nums.count(n)==1:\n",
    "        # return n\n",
    "        pass"
   ]
  },
  {
   "cell_type": "code",
   "execution_count": 80,
   "metadata": {},
   "outputs": [
    {
     "name": "stdout",
     "output_type": "stream",
     "text": [
      "**********\n",
      "2,**********\n",
      "3,3,**********\n",
      "4,4,4,**********\n"
     ]
    }
   ],
   "source": [
    "n = 5\n",
    "for i in range(1,n):\n",
    "    for j in range(i-1):\n",
    "        # print(i,',',j)\n",
    "        print(i, end=',')\n",
    "    print('*'.center(10,'*'))\n"
   ]
  },
  {
   "cell_type": "code",
   "execution_count": 91,
   "metadata": {},
   "outputs": [
    {
     "name": "stdout",
     "output_type": "stream",
     "text": [
      "65 A\n",
      "66 B\n",
      "67 C\n",
      "68 D\n",
      "69 E\n",
      "70 F\n",
      "71 G\n",
      "72 H\n",
      "73 I\n",
      "74 J\n",
      "75 K\n",
      "76 L\n",
      "77 M\n",
      "78 N\n",
      "79 O\n",
      "80 P\n",
      "81 Q\n",
      "82 R\n",
      "83 S\n",
      "84 T\n",
      "85 U\n",
      "86 V\n",
      "87 W\n",
      "88 X\n",
      "89 Y\n",
      "90 Z\n"
     ]
    }
   ],
   "source": [
    "from string import ascii_letters, ascii_lowercase, ascii_uppercase\n",
    "len(ascii_letters)\n",
    "len(ascii_lowercase)\n",
    "\n",
    "for i in ascii_uppercase:\n",
    "    print(ord(i), i)"
   ]
  },
  {
   "cell_type": "code",
   "execution_count": 97,
   "metadata": {},
   "outputs": [
    {
     "name": "stdout",
     "output_type": "stream",
     "text": [
      "None\n"
     ]
    }
   ],
   "source": [
    "n1, n2 = 1, 2\n",
    "so = 0\n",
    "def s(n):\n",
    "    if n == 0:\n",
    "        return so\n",
    "    elif n == 1:\n",
    "        return so\n",
    "    if n == 2:\n",
    "        return so\n",
    "    else:\n",
    "        s(n -1)\n",
    "\n",
    "print(s(5))"
   ]
  },
  {
   "cell_type": "code",
   "execution_count": 103,
   "metadata": {},
   "outputs": [
    {
     "ename": "SyntaxError",
     "evalue": "unmatched ')' (517085883.py, line 13)",
     "output_type": "error",
     "traceback": [
      "\u001b[1;36m  Cell \u001b[1;32mIn [103], line 13\u001b[1;36m\u001b[0m\n\u001b[1;33m    l.pop())\u001b[0m\n\u001b[1;37m           ^\u001b[0m\n\u001b[1;31mSyntaxError\u001b[0m\u001b[1;31m:\u001b[0m unmatched ')'\n"
     ]
    }
   ],
   "source": [
    "s1 = \"()\"\n",
    "s2 = \"()[]{}\"\n",
    "s3 = \"(]\"\n",
    "\n",
    "l = []\n",
    "s = s1\n",
    "for b in s:\n",
    "    l.append(b)\n",
    "\n",
    "print(l)\n",
    "\n",
    "for _ in range(1,len(l)):\n",
    "    l.pop())\n",
    "    # print(l)\n",
    "\n"
   ]
  },
  {
   "cell_type": "code",
   "execution_count": 110,
   "metadata": {},
   "outputs": [],
   "source": [
    "n = 11\n",
    "n = 128\n",
    "n = 2147483645"
   ]
  },
  {
   "cell_type": "code",
   "execution_count": 112,
   "metadata": {},
   "outputs": [
    {
     "data": {
      "text/plain": [
       "30"
      ]
     },
     "execution_count": 112,
     "metadata": {},
     "output_type": "execute_result"
    }
   ],
   "source": [
    "bin(n)[2:].count('1')"
   ]
  },
  {
   "cell_type": "code",
   "execution_count": 123,
   "metadata": {},
   "outputs": [
    {
     "name": "stdout",
     "output_type": "stream",
     "text": [
      "ABCDEFGHIJKLMNOPQRSTUVWXYZ\n"
     ]
    }
   ],
   "source": [
    "from string import ascii_uppercase\n",
    "print(ascii_uppercase)\n",
    "for u in ascii_uppercase:\n",
    "    # print(ord(u))\n",
    "    pass\n",
    "\n"
   ]
  },
  {
   "cell_type": "code",
   "execution_count": 129,
   "metadata": {},
   "outputs": [
    {
     "name": "stdout",
     "output_type": "stream",
     "text": [
      "@\n"
     ]
    }
   ],
   "source": [
    "n = int(1/26)\n",
    "print(chr(64+n))"
   ]
  },
  {
   "cell_type": "code",
   "execution_count": 134,
   "metadata": {},
   "outputs": [
    {
     "name": "stdout",
     "output_type": "stream",
     "text": [
      "26\n",
      "25\n",
      "ZY\n"
     ]
    }
   ],
   "source": [
    "n = 701\n",
    "print(n//26)\n",
    "print(n%26)\n",
    "print(chr(64+(n//26))+chr(64+n%26))"
   ]
  },
  {
   "cell_type": "code",
   "execution_count": 141,
   "metadata": {},
   "outputs": [
    {
     "name": "stdout",
     "output_type": "stream",
     "text": [
      "5F3Z\n",
      "2e9w\n",
      "s\n"
     ]
    }
   ],
   "source": [
    "s = \"5F3Z-2e-9-ws\"\n",
    "s = s.replace('-', '')\n",
    "k = 4\n",
    "for i in range(0, len(s), k):\n",
    "    print(s[i:i+k])"
   ]
  },
  {
   "cell_type": "code",
   "execution_count": 152,
   "metadata": {},
   "outputs": [
    {
     "name": "stdout",
     "output_type": "stream",
     "text": [
      "-13\n"
     ]
    }
   ],
   "source": [
    "# base 7\n",
    "\n",
    "n = 10\n",
    "def convertToBase7(n):\n",
    "    if n == 0:\n",
    "        return ''\n",
    "    elif n > 0:\n",
    "        return convertToBase7(n // 7) + str(n % 7)\n",
    "    else:\n",
    "        return '-' + convertToBase7(-n // 7) + str(-n %7)\n",
    "    \n",
    "\n",
    "print(convertToBase7(-10))"
   ]
  },
  {
   "cell_type": "code",
   "execution_count": 16,
   "metadata": {},
   "outputs": [
    {
     "name": "stdout",
     "output_type": "stream",
     "text": [
      "[[1], [1, 1], [1, 0, 1], [1, 0, 0, 1], [1, 0, 0, 0, 1]]\n",
      "[1, 1]\n",
      "2,\n",
      "[1, 2, 1]\n",
      "3,3,\n",
      "[1, 3, 3, 1]\n",
      "4,6,4,\n",
      "[[1], [1, 1], [1, 2, 1], [1, 3, 3, 1], [1, 4, 6, 4, 1]]\n"
     ]
    }
   ],
   "source": [
    "l = [[1],[1,1],[1,2,1],[1,3,3,1],[1,4,6,4,1]]\n",
    "l = [[1],[1,1],[1,0,1],[1,0,0,1],[1,0,0,0,1]]\n",
    "m = []\n",
    "for a in range(1,5+1):\n",
    "    c = []\n",
    "    for b in range(a):\n",
    "        c.append(0)\n",
    "    c[0],c[-1] = 1,1\n",
    "    m.append(c)\n",
    "print(m)\n",
    "\n",
    "for i in range(1, len(l)-1):\n",
    "    print(l[i])\n",
    "    for j in range(len(l[i])-1):\n",
    "        print(l[i][j]+l[i][j+1], end=',')\n",
    "        l[i+1][j+1]= l[i][j]+l[i][j+1]\n",
    "    print()\n",
    "\n",
    "print(l)"
   ]
  },
  {
   "cell_type": "markdown",
   "metadata": {},
   "source": [
    "Paskal II"
   ]
  },
  {
   "cell_type": "code",
   "execution_count": null,
   "metadata": {},
   "outputs": [
    {
     "name": "stdout",
     "output_type": "stream",
     "text": [
      "[[1], [1, 1], [1, 0, 1], [1, 0, 0, 1], [1, 0, 0, 0, 1]]\n",
      "[1, 1]\n",
      "2,\n",
      "[1, 2, 1]\n",
      "3,3,\n",
      "[1, 3, 3, 1]\n",
      "4,6,4,\n",
      "[[1], [1, 1], [1, 2, 1], [1, 3, 3, 1], [1, 4, 6, 4, 1]]\n"
     ]
    }
   ],
   "source": [
    "l = [[1],[1,1],[1,2,1],[1,3,3,1],[1,4,6,4,1]]\n",
    "l = [[1],[1,1],[1,0,1],[1,0,0,1],[1,0,0,0,1]]\n",
    "m = []\n",
    "for a in range(1,5+1):\n",
    "    c = []\n",
    "    for b in range(a):\n",
    "        c.append(0)\n",
    "    c[0],c[-1] = 1,1\n",
    "    m.append(c)\n",
    "print(m)\n",
    "\n",
    "for i in range(1, len(l)-1):\n",
    "    print(l[i])\n",
    "    for j in range(len(l[i])-1):\n",
    "        print(l[i][j]+l[i][j+1], end=',')\n",
    "        l[i+1][j+1]= l[i][j]+l[i][j+1]\n",
    "    print()\n",
    "\n",
    "print(l)"
   ]
  },
  {
   "cell_type": "code",
   "execution_count": 17,
   "metadata": {},
   "outputs": [
    {
     "name": "stdout",
     "output_type": "stream",
     "text": [
      "2\n",
      "0\n",
      "-1\n"
     ]
    }
   ],
   "source": [
    "class UnionFind:\n",
    "    def __init__(self, size):\n",
    "        self.parent = list(range(size))\n",
    "        self.rank = [1] * size\n",
    "\n",
    "    def find(self, u):\n",
    "        if self.parent[u] != u:\n",
    "            self.parent[u] = self.find(self.parent[u])  # Path compression\n",
    "        return self.parent[u]\n",
    "\n",
    "    def union(self, u, v):\n",
    "        root_u = self.find(u)\n",
    "        root_v = self.find(v)\n",
    "        if root_u != root_v:\n",
    "            # Union by rank\n",
    "            if self.rank[root_u] > self.rank[root_v]:\n",
    "                self.parent[root_v] = root_u\n",
    "            elif self.rank[root_u] < self.rank[root_v]:\n",
    "                self.parent[root_u] = root_v\n",
    "            else:\n",
    "                self.parent[root_v] = root_u\n",
    "                self.rank[root_u] += 1\n",
    "            return True\n",
    "        return False\n",
    "\n",
    "def maxNumEdgesToRemove(n, edges):\n",
    "    uf_alice = UnionFind(n + 1)\n",
    "    uf_bob = UnionFind(n + 1)\n",
    "    uf_shared = UnionFind(n + 1)\n",
    "\n",
    "    edges = sorted(edges, key=lambda x: -x[0])\n",
    "    edges_used = 0\n",
    "\n",
    "    for edge_type, u, v in edges:\n",
    "        if edge_type == 3:\n",
    "            if uf_shared.union(u, v):\n",
    "                uf_alice.union(u, v)\n",
    "                uf_bob.union(u, v)\n",
    "                edges_used += 1\n",
    "        elif edge_type == 1:\n",
    "            if uf_alice.union(u, v):\n",
    "                edges_used += 1\n",
    "        elif edge_type == 2:\n",
    "            if uf_bob.union(u, v):\n",
    "                edges_used += 1\n",
    "\n",
    "    # Check if Alice and Bob can fully traverse the graph\n",
    "    if len({uf_alice.find(i) for i in range(1, n + 1)}) != 1 or \\\n",
    "       len({uf_bob.find(i) for i in range(1, n + 1)}) != 1:\n",
    "        return -1\n",
    "\n",
    "    return len(edges) - edges_used\n",
    "\n",
    "# Example usage\n",
    "print(maxNumEdgesToRemove(4, [[3,1,2],[3,2,3],[1,1,3],[1,2,4],[1,1,2],[2,3,4]]))  # Output: 2\n",
    "print(maxNumEdgesToRemove(4, [[3,1,2],[3,2,3],[1,1,4],[2,1,4]]))  # Output: 0\n",
    "print(maxNumEdgesToRemove(4, [[3,2,3],[1,1,2],[2,3,4]]))  # Output: -1\n"
   ]
  },
  {
   "cell_type": "code",
   "execution_count": 26,
   "metadata": {},
   "outputs": [
    {
     "name": "stdout",
     "output_type": "stream",
     "text": [
      "[[3, 1, 2], [3, 2, 3], [2, 3, 4], [1, 1, 3], [1, 2, 4], [1, 1, 2]]\n",
      "[[1, 1, 3], [1, 2, 4], [1, 1, 2], [2, 3, 4], [3, 1, 2], [3, 2, 3]]\n"
     ]
    }
   ],
   "source": [
    "edges = [[3,1,2],[3,2,3],[1,1,3],[1,2,4],[1,1,2],[2,3,4]]\n",
    "print(sorted(edges, key=lambda x: -x[0]))\n",
    "print(sorted(edges, key=lambda x: x[0]))"
   ]
  },
  {
   "cell_type": "code",
   "execution_count": 30,
   "metadata": {},
   "outputs": [
    {
     "data": {
      "text/plain": [
       "{0, 1, 2, 3, 4}"
      ]
     },
     "execution_count": 30,
     "metadata": {},
     "output_type": "execute_result"
    }
   ],
   "source": [
    "parent = list(range(5))\n",
    "rank = [1]*5\n",
    "\n",
    "def find( u):\n",
    "    if parent[u] != u:\n",
    "        parent[u] = find(parent[u])  # Path compression\n",
    "    return parent[u]\n",
    "\n",
    "{find(i) for i in range( 5 )}"
   ]
  },
  {
   "cell_type": "markdown",
   "metadata": {},
   "source": [
    "## Roman to integer"
   ]
  },
  {
   "cell_type": "code",
   "execution_count": 35,
   "metadata": {},
   "outputs": [
    {
     "name": "stdout",
     "output_type": "stream",
     "text": [
      "58\n"
     ]
    }
   ],
   "source": [
    "d = {'I':1,'V':5,'X':10,'L':50,'C':100,'D':500,'M':1000}\n",
    "\n",
    "# for i in d:\n",
    "#     print(i, ',',d[i])\n",
    "\n",
    "total = 0\n",
    "i = 0\n",
    "\n",
    "s = 'LVIII'\n",
    "while i< len(s):\n",
    "    if i + 1 < len(s) and d[s[i]]< d[s[i+1]]:\n",
    "        total += d[s[i+1]] - d[s[i]]\n",
    "    else:\n",
    "        total += d[s[i]]\n",
    "        i += 1\n",
    "\n",
    "print(total)\n",
    "\n",
    "\n",
    "\n"
   ]
  },
  {
   "cell_type": "code",
   "execution_count": 44,
   "metadata": {},
   "outputs": [
    {
     "name": "stdout",
     "output_type": "stream",
     "text": [
      "1\n",
      "1\n",
      "1\n",
      "5\n",
      "50\n"
     ]
    }
   ],
   "source": [
    "d = {'I':1,'V':5,'X':10,'L':50,'C':100,'D':500,'M':1000}\n",
    "s = 'LVIII'\n",
    "o = [d[i] for i in s]\n",
    "p = False\n",
    "for j in range(len(o) -1, -1, -1):\n",
    "    \n",
    "    print(o[j])"
   ]
  },
  {
   "cell_type": "markdown",
   "metadata": {},
   "source": [
    "217. Contains Duplicate"
   ]
  },
  {
   "cell_type": "code",
   "execution_count": 3,
   "metadata": {},
   "outputs": [
    {
     "data": {
      "text/plain": [
       "True"
      ]
     },
     "execution_count": 3,
     "metadata": {},
     "output_type": "execute_result"
    }
   ],
   "source": [
    "nums = [1,2,3,1]\n",
    "len(nums) != len(set(nums))"
   ]
  },
  {
   "cell_type": "code",
   "execution_count": 5,
   "metadata": {},
   "outputs": [
    {
     "data": {
      "text/plain": [
       "False"
      ]
     },
     "execution_count": 5,
     "metadata": {},
     "output_type": "execute_result"
    }
   ],
   "source": [
    "nums = [1,2,3,4]\n",
    "len(nums) != len(set(nums))"
   ]
  },
  {
   "cell_type": "code",
   "execution_count": 6,
   "metadata": {},
   "outputs": [
    {
     "data": {
      "text/plain": [
       "True"
      ]
     },
     "execution_count": 6,
     "metadata": {},
     "output_type": "execute_result"
    }
   ],
   "source": [
    "nums = [1,1,1,3,3,4,3,2,4,2]\n",
    "len(nums) != len(set(nums))"
   ]
  },
  {
   "cell_type": "markdown",
   "metadata": {},
   "source": [
    "219. Contains Duplicate II\n",
    "\n",
    "Given an integer array nums and an integer k, return true if there are two distinct indices i and j in the array such that nums[i] == nums[j] and abs(i - j) <= k."
   ]
  },
  {
   "cell_type": "code",
   "execution_count": 34,
   "metadata": {},
   "outputs": [
    {
     "name": "stdout",
     "output_type": "stream",
     "text": [
      "0 1 1\n",
      "2 1 1\n",
      "3 1 1\n",
      "0\n",
      "1\n"
     ]
    },
    {
     "data": {
      "text/plain": [
       "{1: [0, 2, 3]}"
      ]
     },
     "execution_count": 34,
     "metadata": {},
     "output_type": "execute_result"
    }
   ],
   "source": [
    "nums = [1,0,1,1]\n",
    "k = 3\n",
    "[ i for i in zip(nums , list(set(nums)))]\n",
    "\n",
    "from collections import Counter\n",
    "c = Counter(nums)\n",
    "j = [n for n, m in c.items() if m > 1]\n",
    "\n",
    "nums.index(1)\n",
    "d = {i:[] for i in j}\n",
    "for x, y in enumerate(nums):\n",
    "    for l in j:\n",
    "        if l == y:\n",
    "            print(x,y,l)\n",
    "            d[l].append(x)\n",
    "\n",
    "for p in d:\n",
    "    # print(abs(d[p][0]-d[p][1]))\n",
    "    for u in range(len(d[p])-1):\n",
    "        # print(u)\n",
    "        if abs(d[p][u]-d[p][u+1]) <= 3:\n",
    "            pass\n",
    "\n",
    "d"
   ]
  },
  {
   "cell_type": "markdown",
   "metadata": {},
   "source": [
    "561. Array Partition"
   ]
  },
  {
   "cell_type": "code",
   "execution_count": 41,
   "metadata": {},
   "outputs": [
    {
     "data": {
      "text/plain": [
       "[1, 2, 2, 5, 6, 6]"
      ]
     },
     "execution_count": 41,
     "metadata": {},
     "output_type": "execute_result"
    }
   ],
   "source": [
    "nums = [1,4,3,2]\n",
    "nums = [6,2,6,5,1,2]\n",
    "nums = sorted(nums)\n",
    "nums"
   ]
  },
  {
   "cell_type": "code",
   "execution_count": 43,
   "metadata": {},
   "outputs": [
    {
     "data": {
      "text/plain": [
       "[1, 2]"
      ]
     },
     "execution_count": 43,
     "metadata": {},
     "output_type": "execute_result"
    }
   ],
   "source": [
    "[nums[a] for a in range(0, len(nums)//2+1, 2)]"
   ]
  },
  {
   "cell_type": "code",
   "execution_count": 48,
   "metadata": {},
   "outputs": [
    {
     "name": "stdout",
     "output_type": "stream",
     "text": [
      "[2, 4, 6, 8, 10, 12, 14, 16, 18]\n"
     ]
    },
    {
     "data": {
      "text/plain": [
       "[1, 2, 3, 4, 5, 6, 7, 8, 9]"
      ]
     },
     "execution_count": 48,
     "metadata": {},
     "output_type": "execute_result"
    }
   ],
   "source": [
    "l = list(range(2,20,2))\n",
    "print(l)\n",
    "[i//2 for i in l ]"
   ]
  },
  {
   "cell_type": "code",
   "execution_count": 54,
   "metadata": {},
   "outputs": [
    {
     "name": "stdout",
     "output_type": "stream",
     "text": [
      "[1, 2, 6] [2, 5, 6]\n"
     ]
    },
    {
     "data": {
      "text/plain": [
       "9"
      ]
     },
     "execution_count": 54,
     "metadata": {},
     "output_type": "execute_result"
    }
   ],
   "source": [
    "print(nums[::2],nums[1::2])\n",
    "sum([min(a, b) for a, b in zip(nums[::2],nums[1::2])])"
   ]
  },
  {
   "cell_type": "markdown",
   "metadata": {},
   "source": [
    "415. Add Strings"
   ]
  },
  {
   "cell_type": "code",
   "execution_count": 56,
   "metadata": {},
   "outputs": [
    {
     "data": {
      "text/plain": [
       "'134'"
      ]
     },
     "execution_count": 56,
     "metadata": {},
     "output_type": "execute_result"
    }
   ],
   "source": [
    "num1 = \"11\"\n",
    "num2 = \"123\"\n",
    "str(int(num1)+int(num2))"
   ]
  },
  {
   "cell_type": "code",
   "execution_count": 63,
   "metadata": {},
   "outputs": [
    {
     "name": "stdout",
     "output_type": "stream",
     "text": [
      "011 ,  123\n"
     ]
    }
   ],
   "source": [
    "num1, num2 = '11', '123'\n",
    "if len(num1)>len(num2):\n",
    "    num2 = '0'*(len(num1)-len(num2))+num2\n",
    "elif len(num1)<len(num2):\n",
    "    num1 = '0'*(len(num2)-len(num1))+num1\n",
    "\n",
    "print(num1, ', ', num2)"
   ]
  },
  {
   "cell_type": "code",
   "execution_count": 67,
   "metadata": {},
   "outputs": [
    {
     "name": "stdout",
     "output_type": "stream",
     "text": [
      "4\n",
      "3\n",
      "1\n"
     ]
    }
   ],
   "source": [
    "for a, b in zip(num1[::-1], num2[::-1]):\n",
    "    print(int(a)+ int(b))"
   ]
  },
  {
   "cell_type": "code",
   "execution_count": 58,
   "metadata": {},
   "outputs": [
    {
     "data": {
      "text/plain": [
       "'123'"
      ]
     },
     "execution_count": 58,
     "metadata": {},
     "output_type": "execute_result"
    }
   ],
   "source": [
    "l1 , l2 = len(num1), len(num2)\n",
    "a = b = 0   \n",
    "for i in range(l2):\n",
    "    s = ord(num2[i]) - 48\n",
    "    b = b*10 + s\n",
    "\n",
    "str(a + b)"
   ]
  },
  {
   "cell_type": "code",
   "execution_count": 68,
   "metadata": {},
   "outputs": [],
   "source": [
    "class Solution:\n",
    "    def addStrings(self, num1: str, num2: str) -> str:\n",
    "        str1, str2 = num1, num2\n",
    "        if (len(str1) > len(str2)):\n",
    "            t = str1;\n",
    "            str1 = str2;\n",
    "            str2 = t;\n",
    "    \n",
    "        # Take an empty string for \n",
    "        # storing result \n",
    "        str = \"\"; \n",
    "    \n",
    "        # Calculate length of both string \n",
    "        n1 = len(str1);\n",
    "        n2 = len(str2); \n",
    "    \n",
    "        # Reverse both of strings \n",
    "        str1 = str1[::-1]; \n",
    "        str2 = str2[::-1]; \n",
    "    \n",
    "        carry = 0; \n",
    "        for i in range(n1): \n",
    "            \n",
    "            # Do school mathematics, compute \n",
    "            # sum of current digits and carry \n",
    "            sum = ((ord(str1[i]) - 48) +\n",
    "                ((ord(str2[i]) - 48) + carry)); \n",
    "            str += chr(sum % 10 + 48); \n",
    "    \n",
    "            # Calculate carry for next step \n",
    "            carry = int(sum / 10); \n",
    "    \n",
    "        # Add remaining digits of larger number \n",
    "        for i in range(n1, n2): \n",
    "            sum = ((ord(str2[i]) - 48) + carry); \n",
    "            str += chr(sum % 10 + 48); \n",
    "            carry = (int)(sum / 10); \n",
    "    \n",
    "        # Add remaining carry \n",
    "        if (carry): \n",
    "            str += chr(carry + 48); \n",
    "    \n",
    "        # reverse resultant string \n",
    "        str = str[::-1]; \n",
    "    \n",
    "        return str; \n",
    " "
   ]
  },
  {
   "cell_type": "markdown",
   "metadata": {},
   "source": [
    "290. Word Patternn (repeat)\n",
    "\n",
    "https://leetcode.com/problems/word-pattern/description/"
   ]
  },
  {
   "cell_type": "code",
   "execution_count": 13,
   "metadata": {},
   "outputs": [],
   "source": [
    "class Solution:\n",
    "    def wordPattern(self, pattern: str, s: str) -> bool:\n",
    "        p = s.split()\n",
    "        d = {a:0 for a in pattern}\n",
    "        if len(pattern) != len(p):\n",
    "            print('ddf')\n",
    "            return False\n",
    "        else:\n",
    "            for i in p:\n",
    "                if d[i] == 0:\n",
    "                    print(p[i])\n",
    "                    d[i]=p[i]\n",
    "                elif d[i]==p:\n",
    "                    pass\n",
    "                else:\n",
    "                    return False\n",
    "        return True\n",
    "\n",
    "\n",
    "s = Solution()\n",
    "# print(s.wordPattern('aaaa',\"dog cat cat dog\"))\n",
    "# print(s.wordPattern('abba',\"dog cat cat dog\"))\n",
    "# print(s.wordPattern('abba',\"dog cat cat fish\"))"
   ]
  },
  {
   "cell_type": "code",
   "execution_count": 39,
   "metadata": {},
   "outputs": [
    {
     "name": "stdout",
     "output_type": "stream",
     "text": [
      "True\n",
      "False\n",
      "False\n"
     ]
    }
   ],
   "source": [
    "class Solution:\n",
    "    def wordPattern(self, pattern: str, s: str) -> bool:\n",
    "        c = s.split()\n",
    "        e = zip(pattern,c)\n",
    "        d = {m:k  for m, k in zip(pattern,c)}\n",
    "        if len(pattern) != len(c):            \n",
    "            return False\n",
    "        else:\n",
    "            for g, k in e:\n",
    "                if d[g] != k:\n",
    "                    return False\n",
    "\n",
    "        return True\n",
    "\n",
    "# c = \"dog cat cat dog\".split()\n",
    "# print(c)\n",
    "# print(list(zip('aaaa',c)))\n",
    "# e = zip('aaaa',c)\n",
    "# s = set(zip('aaaa',c))\n",
    "# print(s)\n",
    "\n",
    "# print('dictionar: ',{m:k  for m, k in zip('abca',c)})\n",
    "# # print(set(list(e)))\n",
    "\n",
    "\n",
    "# md = {m:k  for m, k in zip('abca',c)}\n",
    "# for g, k in e:\n",
    "#     print(g, k)\n",
    "#     if md[g] == k:\n",
    "#         print('_')\n",
    "\n",
    "s = Solution()\n",
    "print(s.wordPattern('abba',\"dog cat cat dog\"))\n",
    "print(s.wordPattern('abba',\"dog cat cat fish\"))\n",
    "print(s.wordPattern('aaaa',\"dog cat cat dog\"))"
   ]
  },
  {
   "cell_type": "code",
   "execution_count": 41,
   "metadata": {},
   "outputs": [
    {
     "name": "stdout",
     "output_type": "stream",
     "text": [
      "True\n",
      "False\n",
      "False\n"
     ]
    }
   ],
   "source": [
    "class Solution:\n",
    "    def wordPattern(self, pattern: str, s: str) -> bool:\n",
    "        str = s.split(' ')\n",
    "        if  not len(str) == len(pattern):\n",
    "                return False\n",
    "        return len(set(zip(pattern, str))) == len(set(str)) == len(set(pattern))\n",
    "    \n",
    "s = Solution()\n",
    "print(s.wordPattern('abba',\"dog cat cat dog\"))\n",
    "print(s.wordPattern('abba',\"dog cat cat fish\"))\n",
    "print(s.wordPattern('aaaa',\"dog cat cat dog\"))"
   ]
  },
  {
   "cell_type": "code",
   "execution_count": 46,
   "metadata": {},
   "outputs": [
    {
     "name": "stdout",
     "output_type": "stream",
     "text": [
      "{('b', 'cat'), ('a', 'dog')}\n",
      "{'dog', 'cat'}\n",
      "{'a', 'b'}\n",
      "True\n",
      "{('b', 'cat'), ('a', 'fish'), ('a', 'dog')}\n",
      "{'fish', 'dog', 'cat'}\n",
      "{'a', 'b'}\n",
      "False\n",
      "{('a', 'cat'), ('a', 'dog')}\n",
      "{'dog', 'cat'}\n",
      "{'a'}\n",
      "False\n"
     ]
    }
   ],
   "source": [
    "class Solution:\n",
    "    def wordPattern(self, pattern: str, s: str) -> bool:\n",
    "        str = s.split(' ')\n",
    "        if  not len(str) == len(pattern):\n",
    "                return False\n",
    "        a = len(set(zip(pattern, str)))\n",
    "        b = len(set(str))\n",
    "        c = len(set(pattern))\n",
    "        print(set(zip(pattern,str)))\n",
    "        print(set(str))\n",
    "        print(set(pattern))\n",
    "        return a == b == c\n",
    "    \n",
    "s = Solution()\n",
    "print(s.wordPattern('abba',\"dog cat cat dog\"))\n",
    "print(s.wordPattern('abba',\"dog cat cat fish\"))\n",
    "print(s.wordPattern('aaaa',\"dog cat cat dog\"))"
   ]
  },
  {
   "cell_type": "markdown",
   "metadata": {},
   "source": [
    "13. Roman to Integer\n",
    "\n",
    "https://leetcode.com/problems/roman-to-integer/description/\n",
    "Repeat"
   ]
  },
  {
   "cell_type": "code",
   "execution_count": 25,
   "metadata": {},
   "outputs": [],
   "source": [
    "d = {'I':1,'V':5,'X':10,'L':50,'C':100,'D':500,'M':1000}\n",
    "\n",
    "s = 'MCMXCIV'\n",
    "# Output: 1994\n",
    "\n",
    "# Input: s = \"LVIII\"\n",
    "# Output: 58\n",
    "\n",
    "# Input: s = \"III\"\n",
    "# Output: 3"
   ]
  },
  {
   "cell_type": "code",
   "execution_count": 9,
   "metadata": {},
   "outputs": [
    {
     "name": "stdout",
     "output_type": "stream",
     "text": [
      "[5, 1, 100, 10, 1000, 100, 1000]\n",
      "[0, 0, 0, 0, 0, 0, 0]\n",
      "0 , 1\n",
      "5 - 1 = 4\n",
      "1 , 2\n",
      "2 , 3\n",
      "100 - 10 = 90\n",
      "3 , 4\n",
      "4 , 5\n",
      "1000 - 100 = 900\n",
      "5 , 6\n",
      "[4, 90, 900, 0, 1000, 0, 0]\n",
      "1994\n"
     ]
    }
   ],
   "source": [
    "s = 'MCMXCIV'\n",
    "# s = \"LVIII\"\n",
    "a = [d[i] for i in s][::-1]\n",
    "print(a)\n",
    "o = [0]*len(a)\n",
    "print(o)\n",
    "j = 0\n",
    "f = True\n",
    "for i in range(len(a)-1):\n",
    "    print(i, ',', i+1)\n",
    "    if a[i]>a[i+1]:        \n",
    "        print(a[i],'-',a[i+1], '=', a[i]-a[i+1])\n",
    "        o[j] = a[i]-a[i+1]\n",
    "        o[j+1] = 0\n",
    "        j+=1\n",
    "        f = False\n",
    "        continue\n",
    "    elif f:\n",
    "        o[j] = a[i]\n",
    "        j+=1\n",
    "    elif len(a)==i+2:\n",
    "        o[j+1] = a[i+1]        \n",
    "    f = True\n",
    "print(o)\n",
    "print(sum(o))\n"
   ]
  },
  {
   "cell_type": "code",
   "execution_count": 6,
   "metadata": {},
   "outputs": [
    {
     "data": {
      "text/plain": [
       "[50, 5, 1, 1, 1]"
      ]
     },
     "execution_count": 6,
     "metadata": {},
     "output_type": "execute_result"
    }
   ],
   "source": [
    "[d[i] for i in \"LVIII\"]"
   ]
  },
  {
   "cell_type": "code",
   "execution_count": 18,
   "metadata": {},
   "outputs": [
    {
     "name": "stdout",
     "output_type": "stream",
     "text": [
      "1000 --\n",
      "900 , 1900\n",
      "90 , 1990\n",
      "4 , 1994\n",
      "1994\n"
     ]
    }
   ],
   "source": [
    "d = {'I':1,'V':5,'X':10,'L':50,'C':100,'D':500,'M':1000}\n",
    "\n",
    "total = 0\n",
    "i = 0\n",
    "\n",
    "s = 'MCMXCIV'\n",
    "# s = 'III'\n",
    "# s  = 'LVIII'\n",
    "while i< len(s):\n",
    "    if i + 1 < len(s) and d[s[i]]< d[s[i+1]]:\n",
    "        # print(i)\n",
    "        total += d[s[i+1]] - d[s[i]]\n",
    "        print(d[s[i+1]] - d[s[i]] , ',', total)\n",
    "        i+=2\n",
    "    else:\n",
    "        total += d[s[i]]\n",
    "        print(total, '--')\n",
    "        i += 1\n",
    "\n",
    "print(total)"
   ]
  },
  {
   "cell_type": "markdown",
   "metadata": {},
   "source": [
    "38. Count and Say (repeat)\n",
    "\n",
    "https://leetcode.com/problems/count-and-say/description/"
   ]
  },
  {
   "cell_type": "code",
   "execution_count": 1,
   "metadata": {},
   "outputs": [
    {
     "name": "stdout",
     "output_type": "stream",
     "text": [
      "1\n",
      "1211\n",
      "13211311123113112211\n"
     ]
    }
   ],
   "source": [
    "class Solution:\n",
    "    def countAndSay(self, n: int) -> str:\n",
    "        \n",
    "        if n == 1:\n",
    "            return \"1\"\n",
    "        \n",
    "        def next_sequence(s):\n",
    "            result = []\n",
    "            i = 0\n",
    "            while i < len(s):\n",
    "                count = 1\n",
    "                while i + 1 < len(s) and s[i] == s[i + 1]:\n",
    "                    i += 1\n",
    "                    count += 1\n",
    "                result.append(f\"{count}{s[i]}\")\n",
    "                i += 1\n",
    "            return ''.join(result)\n",
    "        \n",
    "        current = \"1\"\n",
    "        for _ in range(2, n + 1):\n",
    "            current = next_sequence(current)\n",
    "        \n",
    "        return current\n",
    "    \n",
    "\n",
    "s = Solution()\n",
    "print(s.countAndSay(1))\n",
    "print(s.countAndSay(4))\n",
    "print(s.countAndSay(10))"
   ]
  },
  {
   "cell_type": "markdown",
   "metadata": {},
   "source": [
    "20. Valid Parentheses (repeat)\n",
    "\n",
    "https://leetcode.com/problems/valid-parentheses/description/"
   ]
  },
  {
   "cell_type": "code",
   "execution_count": 1,
   "metadata": {},
   "outputs": [
    {
     "name": "stdout",
     "output_type": "stream",
     "text": [
      "True\n",
      "True\n",
      "False\n"
     ]
    }
   ],
   "source": [
    "class Solution:\n",
    "    # @param {string} s\n",
    "    # @return {boolean}\n",
    "    def isValid(self, s: str) -> bool:\n",
    "        if s == []:\n",
    "            return False\n",
    "        else:\n",
    "            stack = []\n",
    "            balanced = True\n",
    "            index = 0\n",
    "            while index < len(s) and balanced:\n",
    "                symbol = s[index]\n",
    "                if symbol in \"({[\":\n",
    "                    stack.append(symbol)\n",
    "                else:\n",
    "                    if stack == []:\n",
    "                        balanced = False\n",
    "                    else:\n",
    "                        top = stack.pop()\n",
    "                        if not self.matches(top,symbol):\n",
    "                            balanced = False\n",
    "                index = index + 1\n",
    "            if balanced and stack == []:\n",
    "                return True\n",
    "            else:\n",
    "                return False\n",
    "    def matches(self,open,close):\n",
    "        openings = \"({[\"\n",
    "        closings = \")}]\"\n",
    "        return openings.index(open) == closings.index(close)\n",
    "    \n",
    "s = Solution()\n",
    "print(s.isValid(\"()\"))\n",
    "print(s.isValid(\"()[]{}\"))\n",
    "print(s.isValid(\"(]\"))"
   ]
  },
  {
   "cell_type": "markdown",
   "metadata": {},
   "source": [
    "69. Sqrt(x)\n",
    "\n",
    "https://leetcode.com/problems/sqrtx/description/"
   ]
  },
  {
   "cell_type": "code",
   "execution_count": 1,
   "metadata": {},
   "outputs": [
    {
     "name": "stdout",
     "output_type": "stream",
     "text": [
      "2\n",
      "2\n"
     ]
    }
   ],
   "source": [
    "def mySqrt(x):\n",
    "    if x == 0 or x == 1:\n",
    "        return x\n",
    "    \n",
    "    left, right = 0, x\n",
    "    while left <= right:\n",
    "        mid = (left + right) // 2\n",
    "        if mid * mid == x:\n",
    "            return mid\n",
    "        elif mid * mid < x:\n",
    "            left = mid + 1\n",
    "        else:\n",
    "            right = mid - 1\n",
    "    \n",
    "    return right\n",
    "\n",
    "# Example usage\n",
    "print(mySqrt(4))  # Output: 2\n",
    "print(mySqrt(8))  # Output: 2\n"
   ]
  },
  {
   "cell_type": "markdown",
   "metadata": {},
   "source": [
    "70. Climbing Stairs (repeat)\n",
    "\n",
    "https://leetcode.com/problems/climbing-stairs/description/"
   ]
  },
  {
   "cell_type": "code",
   "execution_count": 1,
   "metadata": {},
   "outputs": [
    {
     "name": "stdout",
     "output_type": "stream",
     "text": [
      "2\n",
      "3\n",
      "5\n"
     ]
    }
   ],
   "source": [
    "def climbStairs(n):\n",
    "    if n <= 2:\n",
    "        return n\n",
    "    \n",
    "    a, b = 1, 2\n",
    "    \n",
    "    for i in range(3, n + 1):\n",
    "        a, b = b, a + b\n",
    "    \n",
    "    return b\n",
    "\n",
    "# Example usage:\n",
    "print(climbStairs(2))  # Output: 2\n",
    "print(climbStairs(3))  # Output: 3\n",
    "print(climbStairs(4))  # Output: 5\n"
   ]
  },
  {
   "cell_type": "code",
   "execution_count": 2,
   "metadata": {},
   "outputs": [
    {
     "name": "stdout",
     "output_type": "stream",
     "text": [
      "2\n",
      "[0, 1, 2, 0]\n",
      "[0, 1, 2, 3]\n",
      "3\n",
      "[0, 1, 2, 0, 0]\n",
      "[0, 1, 2, 3, 0]\n",
      "[0, 1, 2, 3, 5]\n",
      "5\n"
     ]
    }
   ],
   "source": [
    "def climbStairs(n):\n",
    "    if n <= 2:\n",
    "        return n\n",
    "    \n",
    "    # Create a list to store the number of ways to reach each step\n",
    "    ways = [0] * (n + 1)\n",
    "    ways[1] = 1\n",
    "    ways[2] = 2\n",
    "\n",
    "    print(ways)\n",
    "    \n",
    "    for i in range(3, n + 1):\n",
    "        ways[i] = ways[i - 1] + ways[i - 2]\n",
    "        print(ways)\n",
    "    \n",
    "    return ways[n]\n",
    "\n",
    "# Example usage:\n",
    "print(climbStairs(2))  # Output: 2\n",
    "print(climbStairs(3))  # Output: 3\n",
    "print(climbStairs(4))  # Output: 5\n"
   ]
  },
  {
   "cell_type": "markdown",
   "metadata": {},
   "source": [
    "1518. Water Bottles\n",
    "\n",
    "https://leetcode.com/problems/water-bottles/description/?envType=daily-question&envId=2024-07-07"
   ]
  },
  {
   "cell_type": "code",
   "execution_count": 22,
   "metadata": {},
   "outputs": [
    {
     "name": "stdout",
     "output_type": "stream",
     "text": [
      "E: 3\n",
      "N: 3\n",
      "D: 15\n",
      "\n",
      "E: 2\n",
      "N: 1\n",
      "D: 18\n",
      "\n",
      "E: 3\n",
      "N: 0\n",
      "D: 19\n",
      "\n",
      "19\n"
     ]
    }
   ],
   "source": [
    "class Solution:\n",
    "    def numWaterBottles(self, numBottles: int, numExchange: int) -> int:\n",
    "        d = 0\n",
    "        e = 0\n",
    "        while numBottles>0:\n",
    "            d = d + numBottles\n",
    "            n = (e+numBottles)//numExchange\n",
    "            e = (e+numBottles)%numExchange\n",
    "            numBottles = n\n",
    "            print(f'E: {e}')\n",
    "            print(f'N: {n}')\n",
    "            print(f'D: {d}')\n",
    "            print()\n",
    "        print(d)\n",
    "\n",
    "\n",
    "\n",
    "s = Solution()\n",
    "# s.numWaterBottles(9,3)\n",
    "s.numWaterBottles(15,4)\n"
   ]
  },
  {
   "cell_type": "markdown",
   "metadata": {},
   "source": [
    "164. Maximum Gap\n",
    "\n",
    "https://leetcode.com/problems/maximum-gap/description/"
   ]
  },
  {
   "cell_type": "code",
   "execution_count": 26,
   "metadata": {},
   "outputs": [
    {
     "name": "stdout",
     "output_type": "stream",
     "text": [
      "3\n",
      "[1, 3, 6, 9]\n"
     ]
    }
   ],
   "source": [
    "class Solution:\n",
    "    def maximumGap(self, nums: list[int]) -> int:\n",
    "        n = sorted(nums)\n",
    "        s = max([n[i+1]-n[i] for i in range(len(n)-1)])\n",
    "        print(s)\n",
    "        print(n)\n",
    "\n",
    "\n",
    "s = Solution()\n",
    "s.maximumGap([3,6,9,1])"
   ]
  },
  {
   "cell_type": "markdown",
   "metadata": {},
   "source": [
    "1823. Find the Winner of the Circular Game (repeat)\n",
    "**Josephus problem**\n",
    "\n",
    "https://leetcode.com/problems/find-the-winner-of-the-circular-game/?envType=daily-question&envId=2024-07-08"
   ]
  },
  {
   "cell_type": "code",
   "execution_count": 17,
   "metadata": {},
   "outputs": [
    {
     "name": "stdout",
     "output_type": "stream",
     "text": [
      "<__main__.LinkedList object at 0x0000021589ACC450>\n",
      "[1, 2, 3, 4, 5]\n"
     ]
    }
   ],
   "source": [
    "class LinkedList():\n",
    "    def __init__(self, data, prev=None, next=None) -> None:\n",
    "        self.data = data\n",
    "        self.prev = prev\n",
    "        self.next = next    \n",
    "\n",
    "    def travers():\n",
    "        pass    \n",
    "\n",
    "class Solution:\n",
    "    def findTheWinner(self, n: int, k: int) -> int:\n",
    "        i = list(range(1,n+1))\n",
    "        print(i)\n",
    "\n",
    "\n",
    "a = LinkedList(1)\n",
    "a.next = a\n",
    "print(a.next)\n",
    "\n",
    "t = LinkedList(1)\n",
    "t.next = t\n",
    "t.prev = t\n",
    "n = 5\n",
    "for i in range(1,n+1):\n",
    "    s = LinkedList(i)\n",
    "    s.prev = t\n",
    "    s.next = t\n",
    "\n",
    "s = Solution()\n",
    "s.findTheWinner(5,2) # 3\n",
    "# s.findTheWinner(6,5) # 1\n",
    "\n",
    "# [1,2,3,4,5,6], 1-5\n",
    "# [1,2,3,4,0,6], 6-4\n",
    "# [1,2,3,0,0,6], 6-6\n",
    "# [1,2,3,0,0,0], 1-2\n",
    "# [1,0,3,0,0,0], 3-3\n",
    "# [1,0,0,0,0,0], 1"
   ]
  },
  {
   "cell_type": "code",
   "execution_count": 21,
   "metadata": {},
   "outputs": [
    {
     "name": "stdout",
     "output_type": "stream",
     "text": [
      "3\n"
     ]
    }
   ],
   "source": [
    "def findTheWinner(n, k):\n",
    "    winner = 0  # base case: when there is only one person\n",
    "    for i in range(1, n + 1):\n",
    "        winner = (winner + k) % i\n",
    "    \n",
    "    return winner + 1  # converting 0-based index to 1-based index\n",
    "\n",
    "# Example usage\n",
    "print(findTheWinner(5, 2))  # Output: 3\n",
    "# print(findTheWinner(6, 5))  # Output: 1\n"
   ]
  },
  {
   "cell_type": "code",
   "execution_count": 29,
   "metadata": {},
   "outputs": [
    {
     "name": "stdout",
     "output_type": "stream",
     "text": [
      "3\n",
      "1\n"
     ]
    }
   ],
   "source": [
    "def josephus(n, k):\n",
    "    if n == 1:\n",
    "        return 0\n",
    "    else:\n",
    "        return (josephus(n - 1, k) + k) % n\n",
    "\n",
    "def findTheWinner(n, k):\n",
    "    # Get the position using the josephus function\n",
    "    winner = josephus(n, k)\n",
    "    # Convert the position to 1-based indexing\n",
    "    return winner + 1\n",
    "\n",
    "# Example usage\n",
    "print(findTheWinner(5, 2))  # Output: 3\n",
    "print(findTheWinner(6, 5))  # Output: 1\n"
   ]
  },
  {
   "cell_type": "markdown",
   "metadata": {},
   "source": [
    "1701. Average Waiting Time\n",
    "\n",
    "https://leetcode.com/problems/average-waiting-time/description/"
   ]
  },
  {
   "cell_type": "code",
   "execution_count": 11,
   "metadata": {},
   "outputs": [
    {
     "name": "stdout",
     "output_type": "stream",
     "text": [
      "5, 7, 2, 2\n",
      "7, 11, 6, 8\n",
      "11, 14, 4, 12\n",
      "20, 21, 1, 13\n",
      "3.25\n"
     ]
    },
    {
     "data": {
      "text/plain": [
       "3.25"
      ]
     },
     "execution_count": 11,
     "metadata": {},
     "output_type": "execute_result"
    }
   ],
   "source": [
    "class Solution:\n",
    "    def averageWaitingTime(self, customers: list[list[int]]) -> float:\n",
    "        wait = 0\n",
    "        t_start = 0\n",
    "        t_end = customers[0][0]\n",
    "        for i in customers:\n",
    "            if i[0]>t_end:\n",
    "                t_start = i[0]\n",
    "            else:      \n",
    "                t_start = t_end\n",
    "            t_end = t_start + i[1]\n",
    "            wait = wait + (t_end - i[0])\n",
    "            print(f'{t_start}, {t_end}, {t_end - i[0]}, {wait}')\n",
    "        print(wait/len(customers))\n",
    "        return wait/len(customers)\n",
    "                \n",
    "\n",
    "\n",
    "s = Solution()\n",
    "# s.averageWaitingTime([[1,2],[2,5],[4,3]])\n",
    "s.averageWaitingTime([[5,2],[5,4],[10,3],[20,1]])"
   ]
  },
  {
   "cell_type": "markdown",
   "metadata": {},
   "source": [
    "### 1598. Crawler Log Folder (repeat)\n",
    "\n",
    "https://leetcode.com/problems/crawler-log-folder/description/\n",
    "\n",
    "\n",
    "\n",
    "The Leetcode file system keeps a log each time some user performs a change folder operation.\n",
    "\n",
    "The operations are described below:\n",
    "\n",
    "- \"../\" : Move to the parent folder of the current folder. (If you are already in the main folder, remain in the same folder).\n",
    "- \"./\" : Remain in the same folder.\n",
    "- \"x/\" : Move to the child folder named x (This folder is guaranteed to always exist).\n",
    "\n",
    "You are given a list of strings logs where logs[i] is the operation performed by the user at the ith step.\n",
    "\n",
    "The file system starts in the main folder, then the operations in logs are performed.\n",
    "\n",
    "Return the minimum number of operations needed to go back to the main folder after the change folder operations.\n",
    "\n",
    " \n",
    "\n",
    "Example 1:\n",
    "\n",
    "\n",
    "\n",
    "    Input: logs = [\"d1/\",\"d2/\",\"../\",\"d21/\",\"./\"]\n",
    "    Output: 2\n",
    "    Explanation: Use this change folder operation \"../\" 2 times and go back to the main folder.\n",
    "\n",
    "Example 2:\n",
    "\n",
    "\n",
    "\n",
    "    Input: logs = [\"d1/\",\"d2/\",\"./\",\"d3/\",\"../\",\"d31/\"]\n",
    "    Output: 3\n",
    "    Example 3:\n",
    "\n",
    "    Input: logs = [\"d1/\",\"../\",\"../\",\"../\"]\n",
    "    Output: 0\n",
    " \n",
    "\n",
    "Constraints:\n",
    "\n",
    "    1 <= logs.length <= 103\n",
    "    2 <= logs[i].length <= 10\n",
    "    logs[i] contains lowercase English letters, digits, '.', and '/'.\n",
    "    logs[i] follows the format described in the statement.\n",
    "    Folder names consist of lowercase English letters and digits.\n"
   ]
  },
  {
   "cell_type": "code",
   "execution_count": 4,
   "metadata": {},
   "outputs": [
    {
     "name": "stdout",
     "output_type": "stream",
     "text": [
      "2\n",
      "3\n",
      "0\n"
     ]
    }
   ],
   "source": [
    "from typing import List \n",
    "\n",
    "\n",
    "class Solution:\n",
    "    def minOperations(self, logs: List[str]) -> int:\n",
    "        depth = 0\n",
    "        \n",
    "        for log in logs:\n",
    "            if log == \"../\":\n",
    "                if depth > 0:\n",
    "                    depth -= 1\n",
    "            elif log == \"./\":\n",
    "                continue\n",
    "            else:\n",
    "                depth += 1\n",
    "        \n",
    "        return depth\n",
    "\n",
    "logs1 = [\"d1/\",\"d2/\",\"../\",\"d21/\",\"./\"]\n",
    "logs2 = [\"d1/\",\"d2/\",\"./\",\"d3/\",\"../\",\"d31/\"]\n",
    "logs3 = [\"d1/\",\"../\",\"../\",\"../\"]\n",
    "\n",
    "\n",
    "s = Solution()\n",
    "print(s.minOperations(logs1))\n",
    "print(s.minOperations(logs2))\n",
    "print(s.minOperations(logs3))"
   ]
  },
  {
   "cell_type": "markdown",
   "metadata": {},
   "source": [
    "### 1190. Reverse Substrings Between Each Pair of Parentheses (Repeat)\n",
    "\n",
    "https://leetcode.com/problems/reverse-substrings-between-each-pair-of-parentheses/description/\n",
    "\n",
    "You are given a string s that consists of lower case English letters and brackets.\n",
    "\n",
    "Reverse the strings in each pair of matching parentheses, starting from the innermost one.\n",
    "\n",
    "Your result should not contain any brackets.\n",
    "\n",
    " \n",
    "\n",
    "Example 1:\n",
    "\n",
    "    Input: s = \"(abcd)\"\n",
    "    Output: \"dcba\"\n",
    "Example 2:\n",
    "\n",
    "    Input: s = \"(u(love)i)\"\n",
    "    Output: \"iloveu\"\n",
    "    Explanation: The substring \"love\" is reversed first, then the whole string is reversed.\n",
    "Example 3:\n",
    "\n",
    "    Input: s = \"(ed(et(oc))el)\"\n",
    "    Output: \"leetcode\"\n",
    "    Explanation: First, we reverse the substring \"oc\", then \"etco\", and finally, the whole string.\n",
    " \n",
    "\n",
    "Constraints:\n",
    "\n",
    "- 1 <= s.length <= 2000\n",
    "- s only contains lower case English characters and parentheses.\n",
    "- It is guaranteed that all parentheses are balanced."
   ]
  },
  {
   "cell_type": "code",
   "execution_count": 2,
   "metadata": {},
   "outputs": [
    {
     "name": "stdout",
     "output_type": "stream",
     "text": [
      "\"\"+(\"abcd\")[::-1]+\"\"\n",
      "dcba\n",
      "\"\"+(\"u\"+(\"love\")[::-1]+\"i\")[::-1]+\"\"\n",
      "iloveu\n",
      "\"\"+(\"ed\"+(\"et\"+(\"oc\")[::-1]+\"\")[::-1]+\"el\")[::-1]+\"\"\n",
      "leetcode\n"
     ]
    }
   ],
   "source": [
    "class Solution:\n",
    "    def reverseParentheses(self, s: str) -> str:\n",
    "        print('\"' + s.replace('(', '\"+(\"').replace(')', '\")[::-1]+\"') + '\"')\n",
    "        return eval('\"' + s.replace('(', '\"+(\"').replace(')', '\")[::-1]+\"') + '\"')\n",
    "\n",
    "s1 = \"(abcd)\"\n",
    "s2 = '(u(love)i)'\n",
    "s3 = '(ed(et(oc))el)'\n",
    "s = Solution()\n",
    "print(s.reverseParentheses(s1))\n",
    "print(s.reverseParentheses(s2))\n",
    "print(s.reverseParentheses(s3))"
   ]
  },
  {
   "cell_type": "markdown",
   "metadata": {},
   "source": [
    "### 83. Remove Duplicates from Sorted List (repeat)\n",
    "\n",
    "https://leetcode.com/problems/remove-duplicates-from-sorted-list/\n",
    "\n",
    "Given the head of a sorted linked list, delete all duplicates such that each element appears only once. Return the linked list sorted as well.\n",
    "\n",
    " \n",
    "\n",
    "Example 1:\n",
    "\n",
    "\n",
    "    Input: head = [1,1,2]\n",
    "    Output: [1,2]\n",
    "Example 2:\n",
    "\n",
    "    Input: head = [1,1,2,3,3]\n",
    "    Output: [1,2,3]\n",
    " \n",
    "\n",
    "Constraints:\n",
    "\n",
    "- The number of nodes in the list is in the range [0, 300].\n",
    "- -100 <= Node.val <= 100\n",
    "- The list is guaranteed to be sorted in ascending order."
   ]
  },
  {
   "cell_type": "code",
   "execution_count": 4,
   "metadata": {},
   "outputs": [],
   "source": [
    "# Definition for singly-linked list.\n",
    "class ListNode:\n",
    "    def __init__(self, val=0, next=None):\n",
    "        self.val = val\n",
    "        self.next = next\n",
    "        \n",
    "from typing import Optional, List\n",
    "\n",
    "\n",
    "class Solution:\n",
    "    def __init__(self) -> None:\n",
    "        pass\n",
    "\n",
    "    def deleteDuplicates(self, head: Optional[ListNode]) -> Optional[ListNode]:\n",
    "        n=head\n",
    "        if head is None:\n",
    "            return None\n",
    "        while n is not None and n.next is not None:\n",
    "            #print(n.val)\n",
    "            if n.val==n.next.val:\n",
    "                n.next=n.next.next\n",
    "            else:\n",
    "                n=n.next\n",
    "        return head    \n",
    "    \n",
    "\n",
    "\n",
    "l1 = [1,1,2]    \n",
    "l2 = [1,1,2,3,3]\n",
    "s = Solution()\n",
    "\n",
    "# print(s.deleteDuplicates(l1))\n",
    "# print(s.deleteDuplicates(l2))\n"
   ]
  },
  {
   "cell_type": "markdown",
   "metadata": {},
   "source": [
    "### 1717. Maximum Score From Removing Substrings (repeat)\n",
    "\n",
    "https://leetcode.com/problems/maximum-score-from-removing-substrings/description/?envType=daily-question&envId=2024-07-12\n",
    "\n",
    "You are given a string s and two integers x and y. You can perform two types of operations any number of times.\n",
    "\n",
    "Remove substring \"ab\" and gain x points.\n",
    "\n",
    "For example, when removing \"ab\" from \"cabxbae\" it becomes \"cxbae\".\n",
    "Remove substring \"ba\" and gain y points.\n",
    "\n",
    "For example, when removing \"ba\" from \"cabxbae\" it becomes \"cabxe\".\n",
    "Return the maximum points you can gain after applying the above operations on s.\n",
    "\n",
    " \n",
    "\n",
    "Example 1:\n",
    "\n",
    "    Input: s = \"cdbcbbaaabab\", x = 4, y = 5\n",
    "    Output: 19\n",
    "    Explanation:\n",
    "    - Remove the \"ba\" underlined in \"cdbcbbaaabab\". Now, s = \"cdbcbbaaab\" and 5 points are added to the score.\n",
    "    - Remove the \"ab\" underlined in \"cdbcbbaaab\". Now, s = \"cdbcbbaa\" and 4 points are added to the score.\n",
    "    - Remove the \"ba\" underlined in \"cdbcbbaa\". Now, s = \"cdbcba\" and 5 points are added to the score.\n",
    "    - Remove the \"ba\" underlined in \"cdbcba\". Now, s = \"cdbc\" and 5 points are added to the score.\n",
    "    Total score = 5 + 4 + 5 + 5 = 19.\n",
    "\n",
    "Example 2:\n",
    "\n",
    "    Input: s = \"aabbaaxybbaabb\", x = 5, y = 4\n",
    "    Output: 20\n",
    "    \n",
    "\n",
    "Constraints:\n",
    "\n",
    "- 1 <= s.length <= 105\n",
    "- 1 <= x, y <= 104\n",
    "- s consists of lowercase English letters."
   ]
  },
  {
   "cell_type": "code",
   "execution_count": 1,
   "metadata": {},
   "outputs": [],
   "source": [
    "class Solution:\n",
    "    def maximumGain(self, s: str, x: int, y: int) -> int:\n",
    "        def remove_substring(s, first, second, points):\n",
    "            stack = []\n",
    "            total_points = 0\n",
    "            for char in s:\n",
    "                if stack and stack[-1] == first and char == second:\n",
    "                    stack.pop()\n",
    "                    total_points += points\n",
    "                else:\n",
    "                    stack.append(char)\n",
    "            return ''.join(stack), total_points\n",
    "\n",
    "        total_points = 0\n",
    "\n",
    "        if x >= y:\n",
    "            # Remove \"ab\" first, then \"ba\"\n",
    "            s, points = remove_substring(s, 'a', 'b', x)\n",
    "            total_points += points\n",
    "            s, points = remove_substring(s, 'b', 'a', y)\n",
    "            total_points += points\n",
    "        else:\n",
    "            # Remove \"ba\" first, then \"ab\"\n",
    "            s, points = remove_substring(s, 'b', 'a', y)\n",
    "            total_points += points\n",
    "            s, points = remove_substring(s, 'a', 'b', x)\n",
    "            total_points += points\n",
    "\n",
    "        return total_points\n",
    "\n",
    "# # Example usage\n",
    "# s1 = \"cdbcbbaaabab\"\n",
    "# x1, y1 = 4, 5\n",
    "# print(maximumGain(s1, x1, y1))  # Output: 19\n",
    "\n",
    "# s2 = \"aabbaaxybbaabb\"\n",
    "# x2, y2 = 5, 4\n",
    "# print(maximumGain(s2, x2, y2))  # Output: 20"
   ]
  },
  {
   "cell_type": "markdown",
   "metadata": {},
   "source": [
    "### 726. Number of Atoms (repeat)\n",
    "\n",
    "https://leetcode.com/problems/number-of-atoms/description/?envType=daily-question&envId=2024-07-14\n",
    "\n",
    "Given a string formula representing a chemical formula, return the count of each atom.\n",
    "\n",
    "The atomic element always starts with an uppercase character, then zero or more lowercase letters, representing the name.\n",
    "\n",
    "One or more digits representing that element's count may follow if the count is greater than 1. If the count is 1, no digits will follow.\n",
    "\n",
    "For example, \"H2O\" and \"H2O2\" are possible, but \"H1O2\" is impossible.\n",
    "Two formulas are concatenated together to produce another formula.\n",
    "\n",
    "For example, \"H2O2He3Mg4\" is also a formula.\n",
    "A formula placed in parentheses, and a count (optionally added) is also a formula.\n",
    "\n",
    "For example, \"(H2O2)\" and \"(H2O2)3\" are formulas.\n",
    "Return the count of all elements as a string in the following form: the first name (in sorted order), followed by its count (if that count is more than 1), followed by the second name (in sorted order), followed by its count (if that count is more than 1), and so on.\n",
    "\n",
    "The test cases are generated so that all the values in the output fit in a 32-bit integer.\n",
    "\n",
    " \n",
    "\n",
    "Example 1:\n",
    "\n",
    "    Input: formula = \"H2O\"\n",
    "    Output: \"H2O\"\n",
    "    Explanation: The count of elements are {'H': 2, 'O': 1}.\n",
    "Example 2:\n",
    "\n",
    "    Input: formula = \"Mg(OH)2\"\n",
    "    Output: \"H2MgO2\"\n",
    "    Explanation: The count of elements are {'H': 2, 'Mg': 1, 'O': 2}.\n",
    "Example 3:\n",
    "\n",
    "    Input: formula = \"K4(ON(SO3)2)2\"\n",
    "    Output: \"K4N2O14S4\"\n",
    "    Explanation: The count of elements are {'K': 4, 'N': 2, 'O': 14, 'S': 4}.\n",
    " \n",
    "\n",
    "Constraints:\n",
    "\n",
    "- 1 <= formula.length <= 1000\n",
    "- formula consists of English letters, digits, '(', and ')'.\n",
    "- formula is always valid."
   ]
  },
  {
   "cell_type": "code",
   "execution_count": 2,
   "metadata": {},
   "outputs": [
    {
     "name": "stdout",
     "output_type": "stream",
     "text": [
      "H2O\n",
      "H2MgO2\n",
      "K4N2O14S4\n"
     ]
    }
   ],
   "source": [
    "def countOfAtoms(formula):\n",
    "    from collections import defaultdict\n",
    "    import re\n",
    "    \n",
    "    def multiply_counts(counts, multiplier):\n",
    "        for element in counts:\n",
    "            counts[element] *= multiplier\n",
    "        return counts\n",
    "\n",
    "    stack = []\n",
    "    current_count = defaultdict(int)\n",
    "    i = 0\n",
    "    n = len(formula)\n",
    "\n",
    "    while i < n:\n",
    "        if formula[i] == '(':\n",
    "            # Push the current count onto the stack and start a new current count\n",
    "            stack.append(current_count)\n",
    "            current_count = defaultdict(int)\n",
    "            i += 1\n",
    "        elif formula[i] == ')':\n",
    "            # Complete the parsing of the number following the parenthesis\n",
    "            i += 1\n",
    "            start = i\n",
    "            while i < n and formula[i].isdigit():\n",
    "                i += 1\n",
    "            multiplier = int(formula[start:i] or 1)\n",
    "            # Multiply the counts within the parenthesis by the multiplier\n",
    "            current_count = multiply_counts(current_count, multiplier)\n",
    "            # Pop the previous count from the stack and add the current count to it\n",
    "            previous_count = stack.pop()\n",
    "            for element, count in current_count.items():\n",
    "                previous_count[element] += count\n",
    "            current_count = previous_count\n",
    "        else:\n",
    "            # Parse the element\n",
    "            start = i\n",
    "            i += 1\n",
    "            while i < n and formula[i].islower():\n",
    "                i += 1\n",
    "            element = formula[start:i]\n",
    "            # Parse the number following the element\n",
    "            start = i\n",
    "            while i < n and formula[i].isdigit():\n",
    "                i += 1\n",
    "            count = int(formula[start:i] or 1)\n",
    "            current_count[element] += count\n",
    "    \n",
    "    # Create the result string in the required format\n",
    "    result = []\n",
    "    for element in sorted(current_count.keys()):\n",
    "        count = current_count[element]\n",
    "        result.append(element)\n",
    "        if count > 1:\n",
    "            result.append(str(count))\n",
    "    \n",
    "    return ''.join(result)\n",
    "\n",
    "# Example usage\n",
    "print(countOfAtoms(\"H2O\"))           # Output: \"H2O\"\n",
    "print(countOfAtoms(\"Mg(OH)2\"))       # Output: \"H2MgO2\"\n",
    "print(countOfAtoms(\"K4(ON(SO3)2)2\")) # Output: \"K4N2O14S4\"\n"
   ]
  },
  {
   "cell_type": "markdown",
   "metadata": {},
   "source": [
    "### 2196. Create Binary Tree From Descriptions (repeat)\n",
    "\n",
    "https://leetcode.com/problems/create-binary-tree-from-descriptions/description/?envType=daily-question&envId=2024-07-15\n",
    "\n",
    "You are given a 2D integer array descriptions where descriptions[i] = [parenti, childi, isLefti] indicates that parenti is the parent of childi in a binary tree of unique values. Furthermore,\n",
    "\n",
    "If isLefti == 1, then childi is the left child of parenti.\n",
    "If isLefti == 0, then childi is the right child of parenti.\n",
    "Construct the binary tree described by descriptions and return its root.\n",
    "\n",
    "The test cases will be generated such that the binary tree is valid.\n",
    "\n",
    " \n",
    "\n",
    "Example 1:\n",
    "\n",
    "\n",
    "    Input: descriptions = [[20,15,1],[20,17,0],[50,20,1],[50,80,0],[80,19,1]]\n",
    "    Output: [50,20,80,15,17,19]\n",
    "    Explanation: The root node is the node with value 50 since it has no parent.\n",
    "    The resulting binary tree is shown in the diagram.\n",
    "Example 2:\n",
    "\n",
    "\n",
    "    Input: descriptions = [[1,2,1],[2,3,0],[3,4,1]]\n",
    "    Output: [1,2,null,null,3,4]\n",
    "    Explanation: The root node is the node with value 1 since it has no parent.\n",
    "    The resulting binary tree is shown in the diagram.\n",
    " \n",
    "\n",
    "Constraints:\n",
    "\n",
    "- 1 <= descriptions.length <= 104\n",
    "- descriptions[i].length == 3\n",
    "- 1 <= parenti, childi <= 105\n",
    "- 0 <= isLefti <= 1\n",
    "\n",
    "The binary tree described by descriptions is valid."
   ]
  },
  {
   "cell_type": "code",
   "execution_count": 2,
   "metadata": {},
   "outputs": [
    {
     "name": "stdout",
     "output_type": "stream",
     "text": [
      "defaultdict(<class 'dict'>, {20: {'left': 15, 'right': 17}, 50: {'left': 20, 'right': 80}, 80: {'left': 19}})\n",
      "defaultdict(<class 'dict'>, {1: {'left': 2}, 2: {'right': 3}, 3: {'left': 4}})\n",
      "50 20 80 15 17 19 null null null null null null null \n",
      "1 2 null null 3 4 null null null \n"
     ]
    }
   ],
   "source": [
    "class TreeNode:\n",
    "    def __init__(self, x):\n",
    "        self.val = x\n",
    "        self.left = None\n",
    "        self.right = None\n",
    "\n",
    "def buildTree(descriptions):\n",
    "    from collections import defaultdict\n",
    "    \n",
    "    # Dictionary to map parent to children\n",
    "    parent_to_children = defaultdict(dict)\n",
    "    all_nodes = set()\n",
    "    child_nodes = set()\n",
    "\n",
    "    # Parse the descriptions\n",
    "    for parent, child, isLeft in descriptions:\n",
    "        if isLeft:\n",
    "            parent_to_children[parent]['left'] = child\n",
    "        else:\n",
    "            parent_to_children[parent]['right'] = child\n",
    "        all_nodes.add(parent)\n",
    "        all_nodes.add(child)\n",
    "        child_nodes.add(child)\n",
    "\n",
    "    print(parent_to_children)\n",
    "    # The root is a node that is not anyone's child\n",
    "    root_val = (all_nodes - child_nodes).pop()\n",
    "    \n",
    "    # Create a map to store TreeNode instances by their value\n",
    "    nodes = {}\n",
    "    \n",
    "    def getNode(val):\n",
    "        if val not in nodes:\n",
    "            nodes[val] = TreeNode(val)\n",
    "        return nodes[val]\n",
    "\n",
    "    # Construct the tree\n",
    "    for parent in parent_to_children:\n",
    "        parent_node = getNode(parent)\n",
    "        if 'left' in parent_to_children[parent]:\n",
    "            left_child = getNode(parent_to_children[parent]['left'])\n",
    "            parent_node.left = left_child\n",
    "        if 'right' in parent_to_children[parent]:\n",
    "            right_child = getNode(parent_to_children[parent]['right'])\n",
    "            parent_node.right = right_child\n",
    "\n",
    "    return getNode(root_val)\n",
    "\n",
    "# Example usage:\n",
    "descriptions1 = [[20,15,1],[20,17,0],[50,20,1],[50,80,0],[80,19,1]]\n",
    "root1 = buildTree(descriptions1)\n",
    "\n",
    "descriptions2 = [[1,2,1],[2,3,0],[3,4,1]]\n",
    "root2 = buildTree(descriptions2)\n",
    "\n",
    "# Function to print tree in level order for verification\n",
    "from collections import deque\n",
    "\n",
    "def printTree(root):\n",
    "    if not root:\n",
    "        return\n",
    "    q = deque([root])\n",
    "    while q:\n",
    "        node = q.popleft()\n",
    "        if node:\n",
    "            print(node.val, end=' ')\n",
    "            q.append(node.left)\n",
    "            q.append(node.right)\n",
    "        else:\n",
    "            print(\"null\", end=' ')\n",
    "    print()\n",
    "\n",
    "# Verify the results\n",
    "printTree(root1)  # Expected Output: 50 20 80 15 17 null 19\n",
    "printTree(root2)  # Expected Output: 1 2 null null 3 4\n"
   ]
  },
  {
   "cell_type": "markdown",
   "metadata": {},
   "source": [
    "### 2096. Step-By-Step Directions From a Binary Tree Node to Another (repeat)\n",
    "\n",
    "https://leetcode.com/problems/step-by-step-directions-from-a-binary-tree-node-to-another/\n",
    "\n",
    "You are given the root of a binary tree with n nodes. Each node is uniquely assigned a value from 1 to n. You are also given an integer startValue representing the value of the start node s, and a different integer destValue representing the value of the destination node t.\n",
    "\n",
    "Find the shortest path starting from node s and ending at node t. Generate step-by-step directions of such path as a string consisting of only the uppercase letters 'L', 'R', and 'U'. Each letter indicates a specific direction:\n",
    "\n",
    "    'L' means to go from a node to its left child node.\n",
    "    'R' means to go from a node to its right child node.\n",
    "    'U' means to go from a node to its parent node.\n",
    "\n",
    "Return the step-by-step directions of the shortest path from node s to node t.\n",
    "\n",
    " \n",
    "\n",
    "Example 1:\n",
    "\n",
    "\n",
    "    Input: root = [5,1,2,3,null,6,4], startValue = 3, destValue = 6\n",
    "    Output: \"UURL\"\n",
    "    Explanation: The shortest path is: 3 → 1 → 5 → 2 → 6.\n",
    "Example 2:\n",
    "\n",
    "\n",
    "    Input: root = [2,1], startValue = 2, destValue = 1\n",
    "    Output: \"L\"\n",
    "    Explanation: The shortest path is: 2 → 1.\n",
    " \n",
    "\n",
    "Constraints:\n",
    "\n",
    "- The number of nodes in the tree is n.\n",
    "- 2 <= n <= 105\n",
    "- 1 <= Node.val <= n\n",
    "- All the values in the tree are unique.\n",
    "- 1 <= startValue, destValue <= n\n",
    "- startValue != destValue"
   ]
  },
  {
   "cell_type": "code",
   "execution_count": 1,
   "metadata": {},
   "outputs": [
    {
     "name": "stdout",
     "output_type": "stream",
     "text": [
      "UURL\n"
     ]
    }
   ],
   "source": [
    "# Definition for a binary tree node.\n",
    "class TreeNode:\n",
    "    def __init__(self, val=0, left=None, right=None):\n",
    "        self.val = val\n",
    "        self.left = left\n",
    "        self.right = right\n",
    "\n",
    "class Solution:\n",
    "    def getDirections(self, root: TreeNode, startValue: int, destValue: int) -> str:\n",
    "        # Helper function to find the LCA\n",
    "        def findLCA(node, p, q):\n",
    "            if not node:\n",
    "                return None\n",
    "            if node.val == p or node.val == q:\n",
    "                return node\n",
    "            left = findLCA(node.left, p, q)\n",
    "            right = findLCA(node.right, p, q)\n",
    "            if left and right:\n",
    "                return node\n",
    "            return left if left else right\n",
    "\n",
    "        # Helper function to find the path from the LCA to a target node\n",
    "        def findPath(node, target, path):\n",
    "            if not node:\n",
    "                return False\n",
    "            if node.val == target:\n",
    "                return True\n",
    "            path.append('L')\n",
    "            if findPath(node.left, target, path):\n",
    "                return True\n",
    "            path.pop()\n",
    "            path.append('R')\n",
    "            if findPath(node.right, target, path):\n",
    "                return True\n",
    "            path.pop()\n",
    "            return False\n",
    "\n",
    "        # Find the LCA of startValue and destValue\n",
    "        lca = findLCA(root, startValue, destValue)\n",
    "\n",
    "        # Find path from LCA to startValue\n",
    "        startPath = []\n",
    "        findPath(lca, startValue, startPath)\n",
    "\n",
    "        # Find path from LCA to destValue\n",
    "        destPath = []\n",
    "        findPath(lca, destValue, destPath)\n",
    "\n",
    "        # Convert startPath to 'U's and append destPath\n",
    "        return 'U' * len(startPath) + ''.join(destPath)\n",
    "\n",
    "# Example usage:\n",
    "# Construct the tree\n",
    "root = TreeNode(5)\n",
    "root.left = TreeNode(1)\n",
    "root.right = TreeNode(2)\n",
    "root.left.left = TreeNode(3)\n",
    "root.right.left = TreeNode(6)\n",
    "root.right.right = TreeNode(4)\n",
    "\n",
    "solution = Solution()\n",
    "print(solution.getDirections(root, 3, 6))  # Output: \"UURL\"\n"
   ]
  },
  {
   "cell_type": "markdown",
   "metadata": {},
   "source": [
    "### 1110. Delete Nodes And Return Forest (repeat)\n",
    "\n",
    "https://leetcode.com/problems/delete-nodes-and-return-forest/description/\n",
    "\n",
    "Given the root of a binary tree, each node in the tree has a distinct value.\n",
    "\n",
    "After deleting all nodes with a value in to_delete, we are left with a forest (a disjoint union of trees).\n",
    "\n",
    "Return the roots of the trees in the remaining forest. You may return the result in any order.\n",
    "\n",
    " \n",
    "\n",
    "Example 1:\n",
    "\n",
    "\n",
    "    Input: root = [1,2,3,4,5,6,7], to_delete = [3,5]\n",
    "    Output: [[1,2,null,4],[6],[7]]\n",
    "Example 2:\n",
    "\n",
    "    Input: root = [1,2,4,null,3], to_delete = [3]\n",
    "    Output: [[1,2,4]]\n",
    " \n",
    "\n",
    "Constraints:\n",
    "\n",
    "- The number of nodes in the given tree is at most 1000.\n",
    "- Each node has a distinct value between 1 and 1000.\n",
    "- to_delete.length <= 1000\n",
    "- to_delete contains distinct values between 1 and 1000."
   ]
  },
  {
   "cell_type": "code",
   "execution_count": 3,
   "metadata": {},
   "outputs": [
    {
     "name": "stdout",
     "output_type": "stream",
     "text": [
      "[1, 2, None, 4]\n",
      "[6]\n",
      "[7]\n"
     ]
    }
   ],
   "source": [
    "from typing import List\n",
    "\n",
    "# Definition for a binary tree node.\n",
    "class TreeNode:\n",
    "    def __init__(self, x):\n",
    "        self.val = x\n",
    "        self.left = None\n",
    "        self.right = None\n",
    "\n",
    "class Solution:\n",
    "    def delNodes(self, root: TreeNode, to_delete: List[int]) -> List[TreeNode]:\n",
    "        to_delete_set = set(to_delete)\n",
    "        result = []\n",
    "        \n",
    "        def dfs(node):\n",
    "            if not node:\n",
    "                return None\n",
    "            node.left = dfs(node.left)\n",
    "            node.right = dfs(node.right)\n",
    "            if node.val in to_delete_set:\n",
    "                if node.left:\n",
    "                    result.append(node.left)\n",
    "                if node.right:\n",
    "                    result.append(node.right)\n",
    "                return None\n",
    "            return node\n",
    "        \n",
    "        # Start DFS from root\n",
    "        if root and root.val not in to_delete_set:\n",
    "            result.append(root)\n",
    "        dfs(root)\n",
    "        \n",
    "        return result\n",
    "\n",
    "# Example usage\n",
    "root = TreeNode(1)\n",
    "root.left = TreeNode(2)\n",
    "root.right = TreeNode(3)\n",
    "root.left.left = TreeNode(4)\n",
    "root.left.right = TreeNode(5)\n",
    "root.right.left = TreeNode(6)\n",
    "root.right.right = TreeNode(7)\n",
    "\n",
    "to_delete = [3, 5]\n",
    "\n",
    "solution = Solution()\n",
    "forest = solution.delNodes(root, to_delete)\n",
    "\n",
    "# Helper function to print the forest in level order\n",
    "from collections import deque\n",
    "\n",
    "def print_forest(forest):\n",
    "    for tree in forest:\n",
    "        queue = deque([tree])\n",
    "        level_order = []\n",
    "        while queue:\n",
    "            node = queue.popleft()\n",
    "            if node:\n",
    "                level_order.append(node.val)\n",
    "                queue.append(node.left)\n",
    "                queue.append(node.right)\n",
    "            else:\n",
    "                level_order.append(None)\n",
    "        # Remove trailing Nones for cleaner output\n",
    "        while level_order and level_order[-1] is None:\n",
    "            level_order.pop()\n",
    "        print(level_order)\n",
    "\n",
    "print_forest(forest)  # Output: [[1, 2, None, 4], [6], [7]]"
   ]
  },
  {
   "cell_type": "markdown",
   "metadata": {},
   "source": [
    "### Same point (partial)"
   ]
  },
  {
   "cell_type": "code",
   "execution_count": 24,
   "metadata": {},
   "outputs": [
    {
     "name": "stdout",
     "output_type": "stream",
     "text": [
      "2: 3 - 1, 1: 2 - 1 = [1, 1], [2, 3]\n",
      "-1: 2 - 3, 1: 3 - 3 = [2, 3], [3, 2]\n",
      "True\n",
      "1: 2 - 1, 1: 2 - 1 = [1, 1], [2, 2]\n",
      "1: 3 - 2, 1: 3 - 2 = [2, 2], [3, 3]\n",
      "2: 3 - 1, 2: 3 - 1 = [1, 1], [3, 3]\n",
      "False\n",
      "False\n"
     ]
    }
   ],
   "source": [
    "from typing import List\n",
    "\n",
    "class Solution:\n",
    "    def isBoomerang(self, points: List[List[int]]) -> bool:\n",
    "\n",
    "        if (points[0] == points[1]) or (points[0] == points[2]) or (points[1]==points[2]):\n",
    "            return False\n",
    "        if self.getSlop(points[0], points[1]) == self.getSlop(points[1], points[2]) == self.getSlop(points[0], points[2]):\n",
    "            return False\n",
    "        \n",
    "        return True\n",
    "    \n",
    "    def getSlop(self, point1, point2):\n",
    "        d = point2[1] - point1[1]\n",
    "        n = point2[0] - point1[0]\n",
    "        print(f'{d}: {point2[1]} - {point1[1]}, {n}: {point2[0]} - {point1[1]} = {point1}, {point2}')\n",
    "\n",
    "        m = d/n\n",
    "        return m\n",
    "\n",
    "\n",
    "points = [[1,1],[2,3],[3,2]]\n",
    "points1 = [[1,1],[2,2],[3,3]]\n",
    "points2 = [[1,1],[1,1],[3,3]]\n",
    "points3 = [[0,0],[0,2],[2,1]]\n",
    "\n",
    "s = Solution()\n",
    "print(s.isBoomerang(points))\n",
    "print(s.isBoomerang(points1))\n",
    "print(s.isBoomerang(points2))\n",
    "# print(s.isBoomerang(points3))\n"
   ]
  },
  {
   "cell_type": "markdown",
   "metadata": {},
   "source": [
    "### 1530. Number of Good Leaf Nodes Pairs (repeat)\n",
    "\n",
    "https://leetcode.com/problems/number-of-good-leaf-nodes-pairs/description/\n",
    "\n",
    "You are given the root of a binary tree and an integer distance. A pair of two different leaf nodes of a binary tree is said to be good if the length of the shortest path between them is less than or equal to distance.\n",
    "\n",
    "Return the number of good leaf node pairs in the tree.\n",
    "\n",
    " \n",
    "\n",
    "Example 1:\n",
    "\n",
    "\n",
    "    Input: root = [1,2,3,null,4], distance = 3\n",
    "    Output: 1\n",
    "    Explanation: The leaf nodes of the tree are 3 and 4 and the length of the shortest path between them is 3. This is the only good pair.\n",
    "Example 2:\n",
    "\n",
    "\n",
    "    Input: root = [1,2,3,4,5,6,7], distance = 3\n",
    "    Output: 2\n",
    "    Explanation: The good pairs are [4,5] and [6,7] with shortest path = 2. The pair [4,6] is not good because the length of ther shortest path between them is 4.\n",
    "Example 3:\n",
    "\n",
    "    Input: root = [7,1,4,6,null,5,3,null,null,null,null,null,2], distance = 3\n",
    "    Output: 1\n",
    "    Explanation: The only good pair is [2,5].\n",
    " \n",
    "\n",
    "Constraints:\n",
    "\n",
    "- The number of nodes in the tree is in the range [1, 210].\n",
    "- 1 <= Node.val <= 100\n",
    "- 1 <= distance <= 10"
   ]
  },
  {
   "cell_type": "code",
   "execution_count": 25,
   "metadata": {},
   "outputs": [
    {
     "name": "stdout",
     "output_type": "stream",
     "text": [
      "1\n"
     ]
    }
   ],
   "source": [
    "# Definition for a binary tree node.\n",
    "class TreeNode:\n",
    "    def __init__(self, x):\n",
    "        self.val = x\n",
    "        self.left = None\n",
    "        self.right = None\n",
    "\n",
    "class Solution:\n",
    "    def countPairs(self, root: TreeNode, distance: int) -> int:\n",
    "        self.result = 0\n",
    "        \n",
    "        def dfs(node):\n",
    "            if not node:\n",
    "                return []\n",
    "            if not node.left and not node.right:\n",
    "                return [1]  # Leaf node, return distance 1\n",
    "            \n",
    "            left_distances = dfs(node.left)\n",
    "            right_distances = dfs(node.right)\n",
    "            \n",
    "            # Count pairs\n",
    "            for ld in left_distances:\n",
    "                for rd in right_distances:\n",
    "                    if ld + rd <= distance:\n",
    "                        self.result += 1\n",
    "            \n",
    "            # Merge distances and increment by 1\n",
    "            merged_distances = []\n",
    "            for ld in left_distances:\n",
    "                if ld + 1 < distance:\n",
    "                    merged_distances.append(ld + 1)\n",
    "            for rd in right_distances:\n",
    "                if rd + 1 < distance:\n",
    "                    merged_distances.append(rd + 1)\n",
    "            \n",
    "            return merged_distances\n",
    "        \n",
    "        dfs(root)\n",
    "        return self.result\n",
    "\n",
    "# Example usage:\n",
    "# Create a binary tree [1, 2, 3, None, 4]\n",
    "root = TreeNode(1)\n",
    "root.left = TreeNode(2)\n",
    "root.right = TreeNode(3)\n",
    "root.left.right = TreeNode(4)\n",
    "\n",
    "solution = Solution()\n",
    "print(solution.countPairs(root, 3))  # Output: 1\n"
   ]
  },
  {
   "cell_type": "markdown",
   "metadata": {},
   "source": [
    "### 1380. Lucky Numbers in a Matrix (repeat)\n",
    "\n",
    "https://leetcode.com/problems/lucky-numbers-in-a-matrix/description/?envType=daily-question&envId=2024-07-19\n",
    "\n",
    "Given an m x n matrix of distinct numbers, return all lucky numbers in the matrix in any order.\n",
    "\n",
    "A lucky number is an element of the matrix such that it is the minimum element in its row and maximum in its column.\n",
    "\n",
    " \n",
    "\n",
    "Example 1:\n",
    "\n",
    "    Input: matrix = [[3,  7, 8],\n",
    "                     [9, 11,13],\n",
    "                     [15,16,17]]\n",
    "    Output: [15]\n",
    "    Explanation: 15 is the only lucky number since it is the minimum in its row and the maximum in its column.\n",
    "Example 2:\n",
    "\n",
    "    Input: matrix = [[1, 10, 4, 2],\n",
    "                     [9,  3, 8, 7],\n",
    "                     [15,16,17,12]]\n",
    "    Output: [12]\n",
    "    Explanation: 12 is the only lucky number since it is the minimum in its row and the maximum in its column.\n",
    "Example 3:\n",
    "\n",
    "    Input: matrix = [[7,8],\n",
    "                     [1,2]]\n",
    "    Output: [7]\n",
    "    Explanation: 7 is the only lucky number since it is the minimum in its row and the maximum in its column.\n",
    " \n",
    "\n",
    "Constraints:\n",
    "\n",
    "- m == mat.length\n",
    "- n == mat[i].length\n",
    "- 1 <= n, m <= 50\n",
    "- 1 <= matrix[i][j] <= 105.\n",
    "- All elements in the matrix are distinct."
   ]
  },
  {
   "cell_type": "code",
   "execution_count": null,
   "metadata": {},
   "outputs": [],
   "source": []
  },
  {
   "cell_type": "code",
   "execution_count": 26,
   "metadata": {},
   "outputs": [
    {
     "name": "stdout",
     "output_type": "stream",
     "text": [
      "[15]\n",
      "[12]\n",
      "[7]\n"
     ]
    }
   ],
   "source": [
    "def luckyNumbers(matrix):\n",
    "    # Find the minimum element in each row\n",
    "    row_mins = {min(row) for row in matrix}\n",
    "\n",
    "    # Transpose the matrix to find the maximum element in each column\n",
    "    # This creates a list of columns from the original matrix\n",
    "    columns = list(zip(*matrix))\n",
    "    \n",
    "    # Find the maximum element in each column\n",
    "    col_maxes = {max(col) for col in columns}\n",
    "\n",
    "    # The intersection of row_mins and col_maxes gives the lucky numbers\n",
    "    lucky_nums = row_mins & col_maxes\n",
    "    \n",
    "    # Convert the result to a list and return\n",
    "    return list(lucky_nums)\n",
    "\n",
    "# Example usage\n",
    "matrix1 = [\n",
    "    [3, 7, 8],\n",
    "    [9, 11, 13],\n",
    "    [15, 16, 17]\n",
    "]\n",
    "print(luckyNumbers(matrix1))  # Output: [15]\n",
    "\n",
    "matrix2 = [\n",
    "    [1, 10, 4, 2],\n",
    "    [9, 3, 8, 7],\n",
    "    [15, 16, 17, 12]\n",
    "]\n",
    "print(luckyNumbers(matrix2))  # Output: [12]\n",
    "\n",
    "matrix3 = [\n",
    "    [7, 8],\n",
    "    [1, 2]\n",
    "]\n",
    "print(luckyNumbers(matrix3))  # Output: [7]\n",
    "\n"
   ]
  },
  {
   "cell_type": "code",
   "execution_count": 27,
   "metadata": {},
   "outputs": [
    {
     "data": {
      "text/plain": [
       "[8, 2]"
      ]
     },
     "execution_count": 27,
     "metadata": {},
     "output_type": "execute_result"
    }
   ],
   "source": [
    "[max(m) for m in matrix3]"
   ]
  },
  {
   "cell_type": "code",
   "execution_count": 39,
   "metadata": {},
   "outputs": [
    {
     "data": {
      "text/plain": [
       "[(7, 1), (8, 2)]"
      ]
     },
     "execution_count": 39,
     "metadata": {},
     "output_type": "execute_result"
    }
   ],
   "source": [
    "[[n for n in m] for m in matrix3]\n",
    "list(zip(*matrix3))\n",
    "\n",
    "[a for a in zip(*matrix3)]"
   ]
  },
  {
   "cell_type": "markdown",
   "metadata": {},
   "source": [
    "### 1605. Find Valid Matrix Given Row and Column Sums (repeat)\n",
    "\n",
    "https://leetcode.com/problems/find-valid-matrix-given-row-and-column-sums/description/\n",
    "\n",
    "You are given two arrays rowSum and colSum of non-negative integers where rowSum[i] is the sum of the elements in the ith row and colSum[j] is the sum of the elements of the jth column of a 2D matrix. In other words, you do not know the elements of the matrix, but you do know the sums of each row and column.\n",
    "\n",
    "Find any matrix of non-negative integers of size rowSum.length x colSum.length that satisfies the rowSum and colSum requirements.\n",
    "\n",
    "Return a 2D array representing any matrix that fulfills the requirements. It's guaranteed that at least one matrix that fulfills the requirements exists.\n",
    "\n",
    " \n",
    "\n",
    "Example 1:\n",
    "\n",
    "    Input: rowSum = [3,8], colSum = [4,7]\n",
    "    Output: [[3,0],\n",
    "            [1,7]]\n",
    "    Explanation: \n",
    "    0th row: 3 + 0 = 3 == rowSum[0]\n",
    "    1st row: 1 + 7 = 8 == rowSum[1]\n",
    "    0th column: 3 + 1 = 4 == colSum[0]\n",
    "    1st column: 0 + 7 = 7 == colSum[1]\n",
    "    The row and column sums match, and all matrix elements are non-negative.\n",
    "    Another possible matrix is: [[1,2],\n",
    "                                [3,5]]\n",
    "Example 2:\n",
    "\n",
    "    Input: rowSum = [5,7,10], colSum = [8,6,8]\n",
    "    Output: [[0,5,0],\n",
    "            [6,1,0],\n",
    "            [2,0,8]]\n",
    " \n",
    "\n",
    "Constraints:\n",
    "\n",
    "- 1 <= rowSum.length, colSum.length <= 500\n",
    "- 0 <= rowSum[i], colSum[i] <= 108\n",
    "- sum(rowSum) == sum(colSum)"
   ]
  },
  {
   "cell_type": "code",
   "execution_count": 40,
   "metadata": {},
   "outputs": [
    {
     "name": "stdout",
     "output_type": "stream",
     "text": [
      "[[3, 0], [1, 7]]\n",
      "[[5, 0, 0], [3, 4, 0], [0, 2, 8]]\n"
     ]
    }
   ],
   "source": [
    "def restoreMatrix(rowSum, colSum):\n",
    "    m, n = len(rowSum), len(colSum)\n",
    "    matrix = [[0] * n for _ in range(m)]\n",
    "    \n",
    "    for i in range(m):\n",
    "        for j in range(n):\n",
    "            # Fill matrix[i][j] with the minimum of rowSum[i] and colSum[j]\n",
    "            val = min(rowSum[i], colSum[j])\n",
    "            matrix[i][j] = val\n",
    "            # Update rowSum and colSum\n",
    "            rowSum[i] -= val\n",
    "            colSum[j] -= val\n",
    "    \n",
    "    return matrix\n",
    "\n",
    "# Example usage\n",
    "rowSum1 = [3, 8]\n",
    "colSum1 = [4, 7]\n",
    "print(restoreMatrix(rowSum1, colSum1))  \n",
    "# Output: [[3, 0], [1, 7]]\n",
    "\n",
    "rowSum2 = [5, 7, 10]\n",
    "colSum2 = [8, 6, 8]\n",
    "print(restoreMatrix(rowSum2, colSum2))  \n",
    "# Output: [[0, 5, 0], [6, 1, 0], [2, 0, 8]]\n"
   ]
  },
  {
   "cell_type": "markdown",
   "metadata": {},
   "source": [
    "### 2392. Build a Matrix With Conditions (repeat)\n",
    "\n",
    "\n",
    "\n",
    "You are given a positive integer k. You are also given:\n",
    "\n",
    "a 2D integer array rowConditions of size n where rowConditions[i] = [abovei, belowi], and\n",
    "\n",
    "a 2D integer array colConditions of size m where colConditions[i] = [lefti, righti].\n",
    "\n",
    "The two arrays contain integers from 1 to k.\n",
    "\n",
    "You have to build a k x k matrix that contains each of the numbers from 1 to k exactly once. The remaining cells should have the value 0.\n",
    "\n",
    "The matrix should also satisfy the following conditions:\n",
    "\n",
    "The number abovei should appear in a row that is strictly above the row at which the number belowi appears for all i from 0 to n - 1.\n",
    "\n",
    "The number lefti should appear in a column that is strictly left of the column at which the number righti appears for all i from 0 to m - 1.\n",
    "Return any matrix that satisfies the conditions. If no answer exists, return an empty matrix.\n",
    "\n",
    " \n",
    "\n",
    "Example 1:\n",
    "\n",
    "\n",
    "    Input: k = 3, rowConditions = [[1,2],[3,2]], colConditions = [[2,1],[3,2]]\n",
    "    Output: [[3,0,0],[0,0,1],[0,2,0]]\n",
    "    Explanation: The diagram above shows a valid example of a matrix that satisfies all the conditions.\n",
    "    The row conditions are the following:\n",
    "    - Number 1 is in row 1, and number 2 is in row 2, so 1 is above 2 in the matrix.\n",
    "    - Number 3 is in row 0, and number 2 is in row 2, so 3 is above 2 in the matrix.\n",
    "    The column conditions are the following:\n",
    "    - Number 2 is in column 1, and number 1 is in column 2, so 2 is left of 1 in the matrix.\n",
    "    - Number 3 is in column 0, and number 2 is in column 1, so 3 is left of 2 in the matrix.\n",
    "    Note that there may be multiple correct answers.\n",
    "Example 2:\n",
    "\n",
    "    Input: k = 3, rowConditions = [[1,2],[2,3],[3,1],[2,3]], colConditions = [[2,1]]\n",
    "    Output: []\n",
    "    Explanation: From the first two conditions, 3 has to be below 1 but the third conditions needs 3 to be above 1 to be satisfied.\n",
    "    No matrix can satisfy all the conditions, so we return the empty matrix.\n",
    " \n",
    "\n",
    "Constraints:\n",
    "\n",
    "- 2 <= k <= 400\n",
    "- 1 <= rowConditions.length, colConditions.length <= 104\n",
    "rowConditions[i].length == colConditions[i].length == 2\n",
    "- 1 <= abovei, belowi, lefti, righti <= k\n",
    "- abovei != belowi\n",
    "- lefti != righti"
   ]
  },
  {
   "cell_type": "code",
   "execution_count": 1,
   "metadata": {},
   "outputs": [
    {
     "name": "stdout",
     "output_type": "stream",
     "text": [
      "[[0, 0, 1], [3, 0, 0], [0, 2, 0]]\n",
      "[]\n"
     ]
    }
   ],
   "source": [
    "from collections import defaultdict, deque\n",
    "\n",
    "def buildMatrix(k, rowConditions, colConditions):\n",
    "    def topological_sort(edges):\n",
    "        graph = defaultdict(list)\n",
    "        indegree = {i: 0 for i in range(1, k + 1)}\n",
    "\n",
    "        for u, v in edges:\n",
    "            graph[u].append(v)\n",
    "            indegree[v] += 1\n",
    "\n",
    "        queue = deque([node for node in range(1, k + 1) if indegree[node] == 0])\n",
    "        order = []\n",
    "\n",
    "        while queue:\n",
    "            node = queue.popleft()\n",
    "            order.append(node)\n",
    "            for neighbor in graph[node]:\n",
    "                indegree[neighbor] -= 1\n",
    "                if indegree[neighbor] == 0:\n",
    "                    queue.append(neighbor)\n",
    "\n",
    "        if len(order) == k:\n",
    "            return order\n",
    "        else:\n",
    "            return []\n",
    "\n",
    "    rowOrder = topological_sort(rowConditions)\n",
    "    colOrder = topological_sort(colConditions)\n",
    "\n",
    "    if not rowOrder or not colOrder:\n",
    "        return []\n",
    "\n",
    "    rowPos = {num: i for i, num in enumerate(rowOrder)}\n",
    "    colPos = {num: i for i, num in enumerate(colOrder)}\n",
    "\n",
    "    matrix = [[0] * k for _ in range(k)]\n",
    "    for num in range(1, k + 1):\n",
    "        matrix[rowPos[num]][colPos[num]] = num\n",
    "\n",
    "    return matrix\n",
    "\n",
    "# Example usage:\n",
    "k1 = 3\n",
    "rowConditions1 = [[1, 2], [3, 2]]\n",
    "colConditions1 = [[2, 1], [3, 2]]\n",
    "print(buildMatrix(k1, rowConditions1, colConditions1))\n",
    "# Output: A possible valid matrix, e.g., [[3,0,0],[0,0,1],[0,2,0]]\n",
    "\n",
    "k2 = 3\n",
    "rowConditions2 = [[1, 2], [2, 3], [3, 1], [2, 3]]\n",
    "colConditions2 = [[2, 1]]\n",
    "print(buildMatrix(k2, rowConditions2, colConditions2))\n",
    "# Output: []\n"
   ]
  },
  {
   "cell_type": "markdown",
   "metadata": {},
   "source": [
    "### 2418. Sort the People\n",
    "\n",
    "https://leetcode.com/problems/sort-the-people/description/?envType=daily-question&envId=2024-07-22\n",
    "\n",
    "You are given an array of strings names, and an array heights that consists of distinct positive integers. Both arrays are of length n.\n",
    "\n",
    "For each index i, names[i] and heights[i] denote the name and height of the ith person.\n",
    "\n",
    "Return names sorted in descending order by the people's heights.\n",
    "\n",
    " \n",
    "\n",
    "Example 1:\n",
    "\n",
    "    Input: names = [\"Mary\",\"John\",\"Emma\"], heights = [180,165,170]\n",
    "    Output: [\"Mary\",\"Emma\",\"John\"]\n",
    "    Explanation: Mary is the tallest, followed by Emma and John.\n",
    "Example 2:\n",
    "\n",
    "    Input: names = [\"Alice\",\"Bob\",\"Bob\"], heights = [155,185,150]\n",
    "    Output: [\"Bob\",\"Alice\",\"Bob\"]\n",
    "    Explanation: The first Bob is the tallest, followed by Alice and the second Bob.\n",
    " \n",
    "\n",
    "Constraints:\n",
    "\n",
    "    n == names.length == heights.length\n",
    "    1 <= n <= 103\n",
    "    1 <= names[i].length <= 20\n",
    "    1 <= heights[i] <= 105\n",
    "    names[i] consists of lower and upper case English letters.\n",
    "    All the values of heights are distinct."
   ]
  },
  {
   "cell_type": "code",
   "execution_count": 3,
   "metadata": {},
   "outputs": [],
   "source": [
    "names = [\"Mary\",\"John\",\"Emma\"]\n",
    "heights = [180,165,170]"
   ]
  },
  {
   "cell_type": "code",
   "execution_count": 9,
   "metadata": {},
   "outputs": [
    {
     "data": {
      "text/plain": [
       "[('Mary', 180), ('Emma', 170), ('John', 165)]"
      ]
     },
     "execution_count": 9,
     "metadata": {},
     "output_type": "execute_result"
    }
   ],
   "source": [
    "sorted(list(zip(names, heights)), key=lambda x:x[1], reverse=True)"
   ]
  },
  {
   "cell_type": "code",
   "execution_count": 10,
   "metadata": {},
   "outputs": [
    {
     "data": {
      "text/plain": [
       "['Mary', 'Emma', 'John']"
      ]
     },
     "execution_count": 10,
     "metadata": {},
     "output_type": "execute_result"
    }
   ],
   "source": [
    "[y[0] for y in sorted(list(zip(names, heights)), key=lambda x:x[1], reverse=True)]"
   ]
  },
  {
   "cell_type": "markdown",
   "metadata": {},
   "source": [
    "### 1636. Sort Array by Increasing Frequency (repeat)\n",
    "\n",
    "https://leetcode.com/problems/sort-array-by-increasing-frequency/description/\n",
    "\n",
    "Given an array of integers nums, sort the array in increasing order based on the frequency of the values. If multiple values have the same frequency, sort them in decreasing order.\n",
    "\n",
    "Return the sorted array.\n",
    "\n",
    " \n",
    "\n",
    "Example 1:\n",
    "\n",
    "    Input: nums = [1,1,2,2,2,3]\n",
    "    Output: [3,1,1,2,2,2]\n",
    "    Explanation: '3' has a frequency of 1, '1' has a frequency of 2, and '2' has a frequency of 3.\n",
    "Example 2:\n",
    "\n",
    "    Input: nums = [2,3,1,3,2]\n",
    "    Output: [1,3,3,2,2]\n",
    "    Explanation: '2' and '3' both have a frequency of 2, so they are sorted in decreasing order.\n",
    "Example 3:\n",
    "\n",
    "    Input: nums = [-1,1,-6,4,5,-6,1,4,1]\n",
    "    Output: [5,-1,4,4,-6,-6,1,1,1]\n",
    " \n",
    "\n",
    "Constraints:\n",
    "\n",
    "    1 <= nums.length <= 100\n",
    "    -100 <= nums[i] <= 100"
   ]
  },
  {
   "cell_type": "markdown",
   "metadata": {},
   "source": [
    "from collections import Counter\n",
    "\n",
    "def frequencySort(nums):\n",
    "    # Step 1: Count frequencies of each element\n",
    "    freq = Counter(nums)\n",
    "    \n",
    "    # Step 2: Sort elements by frequency and by value (in descending order if frequencies are the same)\n",
    "    nums.sort(key=lambda x: (freq[x], -x))\n",
    "    \n",
    "    return nums\n",
    "\n",
    "# Example usage:\n",
    "nums1 = [1, 1, 2, 2, 2, 3]\n",
    "print(frequencySort(nums1))  # Output: [3, 1, 1, 2, 2, 2]\n",
    "\n",
    "nums2 = [2, 3, 1, 3, 2]\n",
    "print(frequencySort(nums2))  # Output: [1, 3, 3, 2, 2]\n",
    "\n",
    "nums3 = [-1, 1, -6, 4, 5, -6, 1, 4, 1]\n",
    "print(frequencySort(nums3))  # Output: [5, -1, 4, 4, -6, -6, 1, 1, 1]\n"
   ]
  },
  {
   "cell_type": "code",
   "execution_count": 1,
   "metadata": {},
   "outputs": [
    {
     "name": "stdout",
     "output_type": "stream",
     "text": [
      "[3, 1, 1, 2, 2, 2]\n",
      "[1, 3, 3, 2, 2]\n",
      "[5, -1, 4, 4, -6, -6, 1, 1, 1]\n"
     ]
    }
   ],
   "source": [
    "from collections import Counter\n",
    "\n",
    "def frequencySort(nums):\n",
    "    # Step 1: Count frequencies of each element\n",
    "    freq = Counter(nums)\n",
    "    \n",
    "    # Step 2: Sort elements by frequency and by value (in descending order if frequencies are the same)\n",
    "    nums.sort(key=lambda x: (freq[x], -x))\n",
    "    \n",
    "    return nums\n",
    "\n",
    "# Example usage:\n",
    "nums1 = [1, 1, 2, 2, 2, 3]\n",
    "print(frequencySort(nums1))  # Output: [3, 1, 1, 2, 2, 2]\n",
    "\n",
    "nums2 = [2, 3, 1, 3, 2]\n",
    "print(frequencySort(nums2))  # Output: [1, 3, 3, 2, 2]\n",
    "\n",
    "nums3 = [-1, 1, -6, 4, 5, -6, 1, 4, 1]\n",
    "print(frequencySort(nums3))  # Output: [5, -1, 4, 4, -6, -6, 1, 1, 1]\n"
   ]
  },
  {
   "cell_type": "markdown",
   "metadata": {},
   "source": [
    "2191. Sort the Jumbled Numbers\n",
    "\n",
    "https://leetcode.com/problems/sort-the-jumbled-numbers/description/\n",
    "\n",
    "You are given a 0-indexed integer array mapping which represents the mapping rule of a shuffled decimal system. mapping[i] = j means digit i should be mapped to digit j in this system.\n",
    "\n",
    "The mapped value of an integer is the new integer obtained by replacing each occurrence of digit i in the integer with mapping[i] for all 0 <= i <= 9.\n",
    "\n",
    "You are also given another integer array nums. Return the array nums sorted in non-decreasing order based on the mapped values of its elements.\n",
    "\n",
    "Notes:\n",
    "\n",
    "Elements with the same mapped values should appear in the same relative order as in the input.\n",
    "The elements of nums should only be sorted based on their mapped values and not be replaced by them.\n",
    " \n",
    "\n",
    "Example 1:\n",
    "\n",
    "    Input: mapping = [8,9,4,0,2,1,3,5,7,6], nums = [991,338,38]\n",
    "    Output: [338,38,991]\n",
    "    Explanation: \n",
    "    Map the number 991 as follows:\n",
    "    1. mapping[9] = 6, so all occurrences of the digit 9 will become 6.\n",
    "    2. mapping[1] = 9, so all occurrences of the digit 1 will become 9.\n",
    "    Therefore, the mapped value of 991 is 669.\n",
    "    338 maps to 007, or 7 after removing the leading zeros.\n",
    "    38 maps to 07, which is also 7 after removing leading zeros.\n",
    "    Since 338 and 38 share the same mapped value, they should remain in the same relative order, so 338 comes before 38.\n",
    "    Thus, the sorted array is [338,38,991].\n",
    "    Example 2:\n",
    "\n",
    "    Input: mapping = [0,1,2,3,4,5,6,7,8,9], nums = [789,456,123]\n",
    "    Output: [123,456,789]\n",
    "    Explanation: 789 maps to 789, 456 maps to 456, and 123 maps to 123. Thus, the sorted array is [123,456,789].\n",
    " \n",
    "\n",
    "Constraints:\n",
    "\n",
    "    mapping.length == 10\n",
    "    0 <= mapping[i] <= 9\n",
    "    All the values of mapping[i] are unique.\n",
    "    1 <= nums.length <= 3 * 104\n",
    "    0 <= nums[i] < 109"
   ]
  },
  {
   "cell_type": "code",
   "execution_count": 2,
   "metadata": {},
   "outputs": [
    {
     "name": "stdout",
     "output_type": "stream",
     "text": [
      "[338, 38, 991]\n",
      "[123, 456, 789]\n"
     ]
    }
   ],
   "source": [
    "def sortJumbled(mapping, nums):\n",
    "    def mapped_value(num):\n",
    "        return int(\"\".join(str(mapping[int(digit)]) for digit in str(num)))\n",
    "\n",
    "    # Sort the nums array based on the mapped value\n",
    "    sorted_nums = sorted(nums, key=lambda x: (mapped_value(x), nums.index(x)))\n",
    "    \n",
    "    return sorted_nums\n",
    "\n",
    "# Example usage:\n",
    "mapping1 = [8,9,4,0,2,1,3,5,7,6]\n",
    "nums1 = [991,338,38]\n",
    "print(sortJumbled(mapping1, nums1))  # Output: [338, 38, 991]\n",
    "\n",
    "mapping2 = [0,1,2,3,4,5,6,7,8,9]\n",
    "nums2 = [789,456,123]\n",
    "print(sortJumbled(mapping2, nums2))  # Output: [123, 456, 789]\n"
   ]
  },
  {
   "cell_type": "code",
   "execution_count": null,
   "metadata": {},
   "outputs": [],
   "source": [
    "def sortJumbled(mapping, nums):\n",
    "    def map_value(num):\n",
    "        mapped_num = int(''.join(str(mapping[int(digit)]) for digit in str(num)))\n",
    "        return mapped_num\n",
    "\n",
    "    sorted_nums = sorted(nums, key=lambda x: map_value(x))\n",
    "    return sorted_nums\n",
    "\n",
    "# Example usage:\n",
    "mapping1 = [8, 9, 4, 0, 2, 1, 3, 5, 7, 6]\n",
    "nums1 = [991, 338, 38]\n",
    "print(sortJumbled(mapping1, nums1))  # Output: [338, 38, 991]\n",
    "\n",
    "mapping2 = [0, 1, 2, 3, 4, 5, 6, 7, 8, 9]\n",
    "nums2 = [789, 456, 123]\n",
    "print(sortJumbled(mapping2, nums2))  # Output: [123, 456, 789]\n"
   ]
  },
  {
   "cell_type": "code",
   "execution_count": 5,
   "metadata": {},
   "outputs": [],
   "source": [
    "x = [866729989,929624742,469343729,195437587,38878552,770759069,968436986,535119728,908037884,887775422,866149186,226116056,75230831,\n",
    "     112044465,171651877,394257281,396858668,103702990,428460507,903162927,325503295,87935417,584424305,466424817,912015019,775541422,\n",
    "     124776254,256726611,157567216,496299791,986499854,384977157,992600165,925778926,665790197,387571140,271647836,627503004,853891432,\n",
    "     981284337,244997011,425384687,212220828,338912018,752540250,150446616,676977736,570302271,983655405,375989701,826860816,3487738,\n",
    "     821094826,216271799,999259245,222913608,544110237,167255191,83223849,80134764,933619294,122954353,605787241,541958240,647860608,\n",
    "     474381866,982156591,355310899,703049218,98214045,752861211,579054791,476921649,75388397,676826933,870521332,478386967,230669133,\n",
    "     930686606,141195375,454377083,223595702,311309023,459911668,745844906,718511632,110920025,431277860,623523137,256550168,47043132,\n",
    "     38876969,721459264,673286297,937765591,404232946,507703927,241834765,49388286,208147632,966883237,757952714,68693192,139155175,\n",
    "     982475358,666835676,249516508,617391973,967813080,141623036,505442891,119961881,838691926,733532884,134782073,369917688,952587571,\n",
    "     512923218,975569160,370397177,689665558,305239709,37282708,135502104,421109487,257736211,84869942,332224326,992451500,521654243,\n",
    "     126482660,322751778,858053210,25894487,272720645,951343923,415502699,722751879,415579260,513639660,130356893,136853108,455004643,\n",
    "     400212760,654521968,315064557,747600494,793412026,954498421,897723886,447505885,528586198,839933941,318827134,229259517,834028000,\n",
    "     157906023,724895607,318189162,855815188,174977269,163451935,215312581,783186242,565550697,583757239,471008374,234511525,230162448,\n",
    "     863730264,816932395,507727366,636921427,287545228,320960055,504072719,660132353,159375950,647680985,739909812,294018455,917392674,\n",
    "     845312555,356036902,887078371,310491558,893360786,328456306,321990431,660282494,831972625,464742725,963871641,843306613,399059643,\n",
    "     583717312,409619341,182586318,118984450,835647322,576638441,845851016,987288201,844007861,195698377,25903546,892726761,188304649,\n",
    "     529565264,754129920,434747833,524426284,345865816,605477394,850469039,88272120,697033636,884916608,893869539,362093755,175362729,\n",
    "     743530773,103174230,464748116,713047508,536359043,661749722,825791387,925860451,326294471,662351483,620633363,160518904,154225193,\n",
    "     524997197,759842308,810582144,942738532,256434811,206863514,110083530,721768456,846230893,945372319,493318835,645939795,976886123,\n",
    "     118332753,201655489,750903964,588235568,621821936,839379608,59622921,962651685,448120559,845712135,206840620,463012993,128374277,\n",
    "     328375683,583634080,516094668,288845858,866774924,956928861,279985524,6254818,601511641,860368323,600044709,673332065,343758610,\n",
    "     20229119,199987805,384997079,924220571,998124130,28458404,276021769,404188909,425873208,138405833,287797913,91182473,349139164,\n",
    "     25125883,724617253,223247158,682439212,363930781,567981576,350778115,428845398,691798473,465227046,480815963,605276701,155105948,\n",
    "     49674465,897878514,622833975,370534835,667135625,279071316,122726709,123897696,527499145,406753956,846164645,925746941,707759826,\n",
    "     982132025,517703782,205378753,218379895,687651917,556530233,102181503,601163716,62581761,778911598,606181347,338166554,224564171,\n",
    "     718273352,276281647,799758270,65134211,852261610,931295323,67921924,801866439,270835604,263784849,554823735,852529004,256410403,\n",
    "     690123147,247087886,250220538,419458460,157662779,81417951,371775260,280042352,28393765,809041856,367134792,529704381,636376145,\n",
    "     592165877,199813430,184970763,7926751,736591003,456415602,766848320,437203074,140030567,13171693,263391432,349137957,627998957,\n",
    "     713793099,343395127,84573572,595911778,991364513,847272582,178633808,348891538,943835978,36717309,273221923,404151907,801416927,\n",
    "     694337651,584263215,316177339,872870715,391243389,884144447,738794927,750409788,938644324,71123672,117477480,171486302,176028645,\n",
    "     78485352,547517929,127609297,66825166,389992955,259482850,99864714,244119394,571871286,805358618,768980213,571517283,639965598,\n",
    "     582225899,725790176,472365550,570964131,843356963,791559758,641404075,646711339,6631762,851345648,108341204,600494649,330160527,\n",
    "     235415335,827253851,558763608,129488391,860000725,191538968,106837591,36103703,487429773,231723146,171491284,190956169,83227308,\n",
    "     66685292,165177038,490632411,410321746,411432966,164285552,263633682,306618906,294249496,759955528,517631234,564936882,679059760,\n",
    "     173236846,387549820,378638284,165931648,77872873,659589606,254785717,759180359,757470518,256334354,560959004,79073997,550226810,\n",
    "     915782026,439087400,381372507,643811918,401127592,555447881,265263374,478876311,573600152,148704068,595712261,369015432,864141656,\n",
    "     253120275,685001680,835629788,771189257,468793266,587423116,206139190,550029495,155489739,468106719,917413809,190787864,609379805,\n",
    "     83451787,547343038,740133219,919691984,608289980,791419540,753359663,86601336,728720612,464680719,547922142,849549075,133215850,\n",
    "     946059421,981467594,560599168,116442656,655415198,496450324,658239204,195839697,546065903,857314150,60579743,183354937,79716937,\n",
    "     513811276,84495980,411508805,822427994,626713440,121780839,860002237,904662754,402992755,826506421,91311955,2569076,327979624,\n",
    "     746191084,914248214,861405289,566845569,754843039,513151460,591974317,163770253,583717138,129514328,131105102,506633678,589751639,\n",
    "     174764563,378913063,647756231,271030500,716759083,111313769,983638828,171767814,729369348,993365479,436410262,383665237,658071949,\n",
    "     196668207,862726371,561504174,92097370,904558093,724135654,269211096,532443628,131820255,834761814,253122719,905020765,102010534,\n",
    "     130835819,409177565,403903005,917017578,590523839,89548948,253018021,323409213,80039415,772052396,894169532,200874025,137492141,\n",
    "     582859984,528441758,872570342,365213831,297211236,688637888,307755529,673316038,454382142,609923918,566486425,332938168,785798072,\n",
    "     1950154,525019795,654036306,656758637,691663029,824423984,714087571,225182235,625372545,394779630,959451322,740145479,164003500,\n",
    "     459418935,830078514,386195714,305574074,632321666,770288785,663676029,910270899,366438917,852012900,788562965,989219080,576769271,\n",
    "     931685553,237796471,962667969,963183180,993076557,752168352,884150454,831591583,561393317,190050257,472615793,718263218,216330231,\n",
    "     16497696,654321496,945407522,906515107,609490834,641014364,779499277,389329760,177045437,721714381,54651172,417783778,86937489,\n",
    "     71528472,937067267,258320468,970211452,249147530,763680000,847036613,911772541,294749216,820031488,211772180,163286022,250140396,\n",
    "     305671149,493622021,980617111,737313091,148048781,212251881,312030814,333984758,106079421,471556411,597619994,756727759,724748191,\n",
    "     701452324,603449720,104435497,299722131,943027433,720622996,550787997,948713857,881666201,109851874,352572779,302461073,352037299,\n",
    "     737415556,64354378,226091768,782718899,181133843,678352115,204398261,546859477,813944525,652313166,306057362,286719409,419987254,\n",
    "     186099212,268634016,571646632,803970762,180637794,211910216,513428773,619499453,709118368,497770674,13059312,215792073,785861309,\n",
    "     973901901,616854589,462062818,353639506,971745769,193792250,23479458,304971473,312000893,744745816,172573780,594625767,339086048,\n",
    "     468608745,866865684,774107432,640729686,361859561,411633822,999699823,25799814,879389531,372639409,372735267,18457197,351724525,\n",
    "     873266292,845111641,523313623,559575969,360691326,584387719,444443541,162435080,846120299,278762500,631442434,729983315,716269231,\n",
    "     883443308,701200816,388433482,887522429,365106776,191305367,477162905,364743557,895264664,805351558,536531129,514662912,458222390,\n",
    "     503360392,513696389,540317907,603116336,627461061,249559261,962070427,666343427,246984919,698793699,685723508,555860416,517141761,\n",
    "     657458382,161022309,709722424,883992446,57470161,334682935,461293208,430791822,629219481,520564573,12716718,150219293,980774656,\n",
    "     240191662,773977882,144345657,340180485,442588909,642036856,129597145,616651953,190436391,555836782,792462749,389136858,404039434,\n",
    "     547784440,537157267,207214579,15183842,447899099,790202475,848900208,143812394,490109379,455163958,355092845,813181579,744851619,\n",
    "     443549193,433657498,950269544,405248385,685387292,166416362,537173207,337021749,306696032,410039655,470938541,221240049,257196201,\n",
    "     389410882,451406405,455540867,277015357,202316898,512521420,409523966,517152395,787309378,416099832,742109894,534951038,211804192,\n",
    "     953558870,367162876,751509378,261919900,929205439,510962411,367954237,93087763,512333938,981077177,349888597,763301861,768514417,\n",
    "     424124493,669146842,199816959,934750768,523375407,496289578,65702502,24310592,697744753,240933024,876164348,971161101,14526976,\n",
    "     403957416,931772929,400343534,802457512,214238695,893099274,715023524,89987890,252130187,657378878,439049877,382649306,888110823,\n",
    "     433882253,77471287,468299369,886650696,8494468,564251739,267248622,335941707,598694193,473026824,212636431,742359975,761098674,\n",
    "     966049036,405036388,252850078,720144801,82506140,304568164,363786313,593387266,84879554,274085759,801348307,804780310,65075483,602034033,835118504,194687929,402435594,614284073,194006211,376125987,242817946,507515166,938370685,135376554,531005940,320164249,139357009,525969127,864419022,630836574,780834179,38133220,785312869,299980007,94389510,315805667,725121583,220246880,813355771,549689096,942842256,791482522,310284849,371525503,779512196,820330397,616682514,283852127,303154121,740657372,224866947,773146920,755702648,695965769,805762125,135884195,705213411,92835666,915393625,599959417,399734157,892339738,378485687,515432583,310021050,52891413,520011103,54646979,306818440,639284200,531775594,640114801,432216857,643271481,969262793,515427382,620792357,483947077,785596222,487780512,906666625,923092932,177483437,573226044,871761500,73339116,620667100,279735332,315204347,850844866,868222913,965432577,566707203,917044346,783013309,508302013,646779394,620194451,149200908,840941435,62096912,83787975,393484778,340925772,809830601,587118284,129385375,116875630,111963746,93520242,919223215,897934664,113856712,378411074,411560991,644180057,163588328,215859744,765201479,946695099,883685889,534680744,151988837,359664094,584967564,614864433,665253788,4777818,954845891,570362933,733234785,128799672,739126680,420263126,241051230,27875241,245583550,318114939,716453733,900849073,784148911,502812396,809480969,915570082,436733186,135149185,554817219,533609769,441596323,908616540,771128874,629493800,445229465,677304970,833314255,184758993,518561913,385902275,623335631,777771739,827215803,991250623,319087408,132652234,391463019,310632868,981318622,44556243,671448517,378994572,302724732,702851257,278433046,71316851,252105556,824093025,469942690,701114861,601399567,79736648,343150599,621837567,705708666,576202847,938369959,257375498,240028884,696874751,163440138,368960704,692796119,894581526,911191764,355855363,395725814,77504030,184489770,731653369,637202589,206991380,987518238,391212265,736573162,729402428,175908550,242914909,272038090,289050885,160176307,962723534,511918897,159540036,628933369,96123441,367350724,564329704,773698624,276525691,104850023,246081138,317628522,506273862,768650221,261019342,910478564,846037393,833158320,631801908,449605214,216083783,388779732,191792396,782329051,767713669,47247606,51166283,599804409,704266397,971394507,527146968,867739263,990423381,214151876,172026102,597531094,475696640,461369960,170693482,178535655,951496238,325249456,793165380,86907494,785786900,543992556,445289714,834054240,779727112,5474119,395216282,717159540,292548130,996967132,216750801,604574919,962130339,214194399,514397077,305967638,782869012,590230219,523355799,615600199,203928203,376431016,285610521,38552651,268592484,570452849,135466197,937515441,1709766,88144445,92429724,164322932,321021664,221210212,110297045,363125669,81781078,118930316,259156384,798896383,556322171,270393062,442386910,600091899,827837141,493975533,21999004,893179175,351723917,410541222,628119446,99237257,982934437,469787114,445870122,913621747,861498901,23928795,943548141,805898887,449588618,944330562,176051158,433708066,997180180,129945898,610171478,707120496,860364496,589724041,217559443,423907725,157727860,453945039,765259736,576456287,707423955,668695834,749114064,92233234,159257545,638273622,177896591,827532974,604629934,409344033,633789838,320520178,729364810,791443957,533112716,993751720,337848107,765929700,324888671,80812518,72442187,838877459,540500322,292150555,500426516,849518540,356980947,806312197,81307205,333886417,245862097,301961485,564855398,614139812,996236577,573809446,446397974,461324024,428918888,62648886,779656524,281447815,270075650,398230468,663026385,653140811,813907144,773777267,909415304,429779671,577079908,487739447,551022985,466932010,337031380,318005333,730553177,477348223,989653287,857801562,618529725,429158232,641766330,238901070,69768810,203511788,573588973,936178419,19767923,201940154,458866010,672728606,347942934,700838815,858096708,301156174,391424061,957901342,776818174,458819114,435536691,760083565,899086538,583575327,198827196,714810832,88012223,133940360,105207129,572622858,931598033,193297518,723677102,637401386,1629999,288739290,389033538,273194325,45058207,134110852,379044268,638065056,159931405,681163630,583782653,716461516,809306966,454216712,890922136,109698197,24783142,504082210,688442026,393213501,58200584,627759796,81979663,377918916,113317502,865467921,244642535,117903362,794174735,886898921,749741726,781356327,867091511,206651719,963265585,988353308,329961681,940167045,976017162,612780826,102859187,711063236,810796819,694767365,465550981,916556118,176391666,776265953,566749527,177578842,148507247,888100980,251533002,946182045,109666172,663998774,33965572,725347129,430416200,857862874,970191270,250670642,642710272,457752014,250879168,804714247,152515843,80090205,306654766,958304873,904164619,250939230,48646649,860937060,742242372,622019806,392300953,497416436,717977851,975935322,526359981,711725906,274214897,77368049,197826702,591367884,253717016,145841789,651906818,512146716,578253266,422232536,994413260,773456970,478546864,533275276,444160324,919952800,452679114,26165995,806811631,98473350,926281467,820491004,508447387,60187239,315192722,216906616,490665322,778294370,527468627,637438256,222769409,156853099,748769003,297651281,267002669,716820753,565860226,718037730,898309944,781085119,663249506,972970270,972619821,136981923,19708142,397613604,933397045,831292915,939799129,506456996,5319098,780024693,838820810,943313099,462463032,381474228,76021438,462893544,763859890,686776691,577777873,603170208,836334780,124704648,457300906,969793944,83577907,341720300,957632595,687051424,219409044,799251691,579156786,331858656,612054139,763028719,21953395,398584316,902827416,961716669,252730519,679517681,344048369,319900418,967314254,581871866,322327617,476808014,970310573,761701801,653312426,29698490,131090368,371080703,717863379,413541902,935949924,719181364,162512096,585613440,768419668,290657960,528208613,102615990,540193156,39104820,49197100,626164703,743552999,888547427,22780296,716318055,372504764,932045239,543865996,192604169,167262119,295160521,948190243,453841997,757295595,50610669,375057244,523245660,320897943,240736676,172651321,507709449,328788013,312273441,450886146,696509235,878194796,339587861,726698125,174174317,63989688,415295631,870511409,260967199,787920018,850200527,537357284,765218165,964916428,710281850,966863031,102855776,313619068,399801731,123058546,510113146,390840421,729030903,777283458,712864795,373082709,431049810,212162156,183813102,227504808,950931098,851023720,834524803,293419734,738450253,179264200,677729103,744208089,716301295,472168894,669413548,948233543,118742949,791296093,830710898,403870687,394920902,428256279,633543138,919077289,369449976,393365562,834726301,806306353,65987562,990603008,819073317,801249213,592384246,222193125,584912758,886565587,845059419,507201499,518753259,851182963,719378770,717121722,445752545,924445625,288285883,534175229,380627164,552138102,506152975,527604193,372686860,207236904,131754577,812136167,372240330,658296156,602140960,252325073,193381195,120420309,696624315,352137795,867262894,177851842,830230977,545808206,358923508,855331400,468432742,530424077,222870709,645900449,804602421,225802039,957850959,307831604,320084901,419307284,10570461,506137273,85330651,356799198,632281075,825508804,138542155,391542736,142312273,3670673,904810166,809521151,785874220,272840677,309783866,447464279,606942811,653537298,588674422,260344383,194373535,407649310,541205252,977747947,894948512,168871757,36053255,798977521,470714525,744910275,126168201,912455485,646087044,985311446,667811487,831728060,233801123,793700695,997002318,329660826,56992224,791337243,240176136,211020403,353800737,112965206,35918563,940538220,541211569,830437099,884101797,108775302,695914803,302720979,228681131,319462770,766500546,292130606,984234907,487460372,131948424,518894359,49856211,711823027,971030470,600899977,726452846,821325542,739358859,868679672,210751876,981130758,715066142,475993976,533384745,12574389,720135044,497895816,238478448,733450093,790498775,841341259,770516065,650884558,455208780,803506050,526503573,384637085,239835296,866040750,179828313,604030147,493750431,268128931,522726286,701038214,766822467,487789726,280072216,691911816,869534227,874408028,63597830,67481661,248076613,293997723,791368664,274131284,674223230,140132815,673415589,150239560,243524023,939945755,725353969,123579607,505417364,595731903,871433658,905876231,993220965,910006141,140798031,788911450,818618360,979426974,739920414,892803817,366948615,720926398,729125532,561558946,946477896,188140580,769322189,605993102,726794145,495071681,579292271,120993342,943629959,188106783,815136319,150610449,407571638,552001482,814868100,468862926,672470468,708199924,611165935,956587233,253246028,271234430,528845577,722624412,988246134,307110592,646739714,748451795,344126575,973990731,750371885,967160425,843992005,211921819,882868564,822098380,945277321,60423942,741476260,816195600,826614134,844800922,585339444,584523546,880809531,66359762,924686145,321740767,329374828,688544045,452406975,929484566,240552120,673003729,257616085,561100939,377323546,657104169,131746892,782882965,553501377,19643362,618131163,548738796,907766113,117647061,428441786,982481838,102384462,713075499,634600557,29315769,747377966,637062476,390466146,932056039,52262560,857817136,627998609,684416319,257514507,138512465,418382623,936634305,139955944,108479850,301901036,793805476,151684806,370969341,502535456,599241630,47306406,701032001,523881810,514864634,180840648,89715375,659199830,970257229,261937859,548137664,901947446,89096184,654552028,311352868,906938827,973250754,265915792,43848451,982251318,431428367,46199536,522877305,641970696,212924298,927265663,370050363,378688955,603704378,982721120,830664486,416503102,34182352,144218089,133386675,780894096,788430377,295006914,6273730,375171780,74625811,348094022,428362023,527154416,19591775,460115601,862977089,382930653,230014944,602856028,570867705,131680074,916039297,849496016,14172011,652754573,526991891,724905817,302126554,671314291,322179048,616221953,653701666,326744727,510922635,940724050,690412799,929590362,566173320,451625552,763279766,701263534,268594409,940383111,633215595,757207931,603639033,208437220,956875158,749106764,442730186,864911652,49862858,391828711,923297047,679376677,701785395,138435644,680677373,76616387,147349760,95049564,519799003,150207792,656678255,227574583,504229602,492289144,912475826,367531796,930315190,992301326,555303924,575173303,950318557,308572168,533778903,872188360,589936532,751762554,450378985,864991348,8820016,537762928,717342501,156450595,876096500,716931113,868991244,826641605,973177826,537361959,198644948,564677022,287249928,69166616,254669257,493392767,881399181,57824887,881445098,957303723,24237068,659078083,742923043,275879600,202189749,642012280,350237324,833469329,601485492,570004094,145252647,947171391,266797224,456479765,804621868,20666430,567363674,591222183,978497684,141762024,930004998,887501706,598457102,156775782,673497718,444076609,640847394,61447322,247986555,843293478,26554947,107252776,123709542,604549065,502567120,945820876,324269146,277004678,961888478,156480200,512787843,404643607,956380314,125722555,753785177,487620756,257353148,129300288,351898858,387313831,651686868,323885823,538020481,24104044,205004991,69472960,593024654,280130798,993631473,554285437,220170657,864094559,689362710,291014364,536715447,586865792,827343011,468066541,544649557,761628821,614447166,128132851,189944364,686720721,306222635,411446990,262685855,363879669,643343248,309307991,421760172,640929929,875093858,682302141,158025827,646265955,333723519,886322005,792186426,609885273,338985735,267373328,475351391,891653661,29199420,581518977,189795255,404199320,286133514,297517811,939735493,786594545,189638435,996844855,274835455,704302714,494023429,463557405,574891554,315989730,318474608,663517396,427156792,486790772,212790214,36544886,536552442,731854837,643306011,601003726,553581520,725620798,129255192,385570788,3563275,837546057,487894682,873183429,298494639,424301779,218214466,618504957,181218461,113708479,217218610,43882895,524714427,193860268,659619402,624638223,313202568,350687021,655726371,243126887,538758421,922011275,791460720,991168318,601649111,84989496,529749193,933362473,633785389,383849239,313478155,794338228,515439632,641896981,190807899,584306271,69094212,425929390,357570333,583143935,247384618,451799242,647280107,245781496,815696542,161911934,486002349,555132589,735189146,484025952,2901471,856764204,344914764,849847666,727323930,236456532,850378465,993675428,43586406,860285345,298851474,344659042,590119168,107264144,648517472,558021017,276429407,810264694,178592953,722338276,934542485,747663475,758474035,663378227,386511080,266140764,576131769,143419114,626822612,460078474,459510871,36767053,352970165,161754034,818290849,516823109,517157776,16389669,562325197,174350172,694276278,443700025,654835353,240771704,946323230,27216321,948111118,946034287,364459433,559184057,545379520,616713364,961141234,190560428,909367091,803253089,877146406,630870722,780716105,842777715,852448405,364146822,807895734,207998654,752074343,447920078,620808820,390355280,732567138,544150051,135050990,954761235,845476543,241183368,217332285,111081454,400500382,211588721,151303176,808717950,249460445,16346300,637733739,934739038,939484678,680875702,296562374,558348204,294897842,772392590,589393789,340498370,334571111,420794178,229151107,614682664,839796608,362582885,326866130,541930487,930047558,820300595,79325926,795801249,233879964,645022576,685000293,436401297,142567891,828174701,845931591,51840086,774601079,509284340,128963561,708261055,381113613,555707199,461512254,344599967,369520515,754514493,255307701,632223552,494522201,516689315,726863451,754671332,903149779,107015343,951253366,441616372,890501281,518369347,825091759,575071605,619318630,85555156,95341582,700026187,69991851,472677305,443303254,644988384,786333131,274858487,327719342,447923963,728089697,912180110,974536691,413761266,862698316,981300619,104173001,415284217,753633291,444839659,46336368,510840013,693774859,564130382,809363821,605700421,284509167,622488091,538132440,940779380,536383947,835723066,176041006,583957077,63588216,547708270,21878118,348127095,497459230,515572788,260545916,730065247,841829575,329915412,697036170,23571577,404477419,209719047,650437537,34353093,274556646,226120261,99936851,269508270,831747631,987366882,856178789,16439184,300615387,912887846,238306716,815502957,371989046,966260977,752813908,81301850,299446471,404505684,492767033,228406490,642394599,223171893,997419090,185399214,777250941,801405496,637409486,811912661,14492276,155967073,20444937,693013485,18582018,1973523,754964152,164064443,861507479,296197220,940067671,343796188,449193534,781124467,249216652,854679948,387728662,631550966,876179092,559130735,317660150,87848165,264699722,275757649,623513719,913960732,698635850,194446275,122498190,684807371,208358168,618356213,629652760,591248460,506186430,589821234,281291295,483087923,402242720,893387609,408183790,364285378,957793053,678640754,771965739,805023883,607298204,135998945,177399176,808516472,941520365,513066954,366132364,183751571,255795254,261980651,934713571,910367783,160527328,578214179,576185726,271911791,640031504,66683409,663035040,474124131,671780006,770054780,957513995,682013959,566009539,853163181,772233300,731130523,782086965,783879121,550845097,427270277,67338423,621937652,359409460,737055196,563356969,227094180,876099911,124837983,606701153,714146416,950643832,466846983,524598392,251651666,717385882,983317210,525872981,686063686,222460267,350402514,81865325,92631734,42465739,947843221,18694733,726157145,142542535,771342394,781444555,363775252,410516507,983369131,996062746,511306431,415282494,893905073,898361316,866961260,46129937,647695952,926247930,407760941,824850505,288671819,608357712,80056742,147885584,291440075,950468596,435870554,375105195,636800938,443367674,427235604,478765285,627965483,643121048,225185033,924896959,467260680,297128618,953849058,415585478,575139682,169518718,654753542,698409636,732304155,60065774,254616350,234403038,506011221,94653328,287394163,734862467,716631245,109398836,70702961,915543734,5980564,486953444,54236651,692455033,644749154,90285017,295522009,580758756,735192098,459516707,641412427,937998537,326888548,465596977,189509722,644127171,831590645,165712429,540767736,118310603,94797724,312908058,889459656,185246287,485223679,254466380,162998028,65758460,251811035,844098095,916444465,906663869,530273838,393825744,541857536,252090857,67242235,582418537,347075088,437390302,480040714,282287595,151840994,816740398,905307494,550026478,236746714,766545855,919720699,838362651,809767720,89246090,926210907,720983268,26564376,25276073,603717319,158899020,674982047,658978421,860841023,556120760,652531394,764357618,903154426,14420392,169443306,540127891,142969624,776953707,439974810,814406688,906663650,894463601,352836401,837627555,536991002,281134759,718635296,312886800,834682473,626182049,395557696,530310083,331293009,336492220,690371359,828397753,238742014,416324189,777578580,731130888,398405519,743078466,598426297,115445886,437504606,988627899,351140538,137867270,473955838,841400838,106932233,901543033,724679468,647702682,513888571,634383702,362836724,984938238,194456974,118699806,805864316,406762765,678547126,573393823,708557095,847457181,717885861,235030232,907025726,211510688,198762504,492914026,984738402,828341909,181075410,47395157,290878624,472905583,552756794,891236806,880534310,695942817,71805490,999598900,130691443,258607768,866295518,719412809,30216112,891445885,238542290,879880549,806469070,830975227,875303523,994874731,688811069,273506647,266033470,433136321,649856554,125897745,912452753,19341370,774697322,28631573,157145895,721796768,174363398,143570435,902988432,72373805,86667335,583471107,498446803,105680585,117773823,586130015,80892751,87515530,236593621,337250357,236176461,272279005,924882704,588922504,118933781,98777126,430414922,850433925,546904025,71114106,970562106,415525045,630041490,531672061,330734846,236360736,680775862,199381480,892111381,655883608,39995261,943122927,658908463,437190910,661426862,410043816,481732234,440663539,455827025,149465542,66740792,397731449,402009987,186439980,788539144,423408220,199331217,955233341,781268457,224343158,131101034,63615629,231363020,847923841,682482527,78557243,759414022,822589247,168534693,406871441,781023753,688350305,230174318,492384767,535728838,156657010,658961998,648393181,902606463,482126212,12028908,426825451,190682395,319136031,121787644,582645011,614673624,139212955,280077096,151220970,354932570,575447700,521811510,973293424,556367281,617312799,731857978,233455417,102170867,655432000,411352715,362924913,723552254,273988759,564958104,745482772,414298825,317424913,393282599,553696596,621131860,336660271,689129416,34753528,570440881,262209996,77122527,63424955,972975351,374551805,642948441,579800440,1255392,956925802,629720043,204833125,935769315,239692310,629706054,100129241,410858113,234839131,743309760,432443936,675320889,289235087,669955831,267050893,874175782,714316391,638315833,677390783,975428000,757660429,211904262,792725532,469122076,407761932,343717695,245773815,846467262,352630567,935181868,215607406,233233268,669705022,484681595,376889115,194069610,365906404,879297775,228990863,503863410,408828456,910528387,111109199,652900035,995264756,740614374,989588932,448230644,53341407,286036050,962269976,821982596,607746763,737643530,316970737,225462362,528561890,128899174,318198322,949396804,491375601,485543961,940141615,508403779,168324531,927718996,164946832,45979401,657821575,625937083,688247707,86381642,451241059,329895677,582075600,461912314,2684990,345952048,307443239,756803650,352159802,911315344,375660362,465843973,434359231,754865905,218594297,193800914,993181273,373949851,931854891,267998346,439260616,232697221,483290207,233736286,467434969,468988878,215565913,917848376,9273474,951804742,607400409,337119381,50688090,483081574,177932305,705694824,382821362,309490759,124479429,836024357,421896279,980511032,513798708,698460938,705002907,119438793,628229827,106481737,170711354,952163615,208412270,671232155,500643994,123338552,803171061,639073362,426195500,447867962,415798668,143872068,809902889,603924211,898467230,228711896,835221638,387981530,90966774,131497009,525823288,957953872,670938853,74552138,82962660,938479987,465331800,620406227,609586850,587182362,351073361,518976677,423755431,716973614,340946637,347282812,595345521,444262193,37481112,794926018,821484852,363603858,168608486,858763651,786756577,776678255,273559128,152737415,238236538,650368647,784264173,444275511,615914225,813146206,135585070,213309318,837407002,617271835,254713898,509366447,665790943,457105877,290600244,560821314,251873567,345813922,861833670,543118992,366439214,338626734,124646333,425888311,736585632,879272740,121081742,315553626,711087654,440267213,33491205,431518664,960248962,277446441,708140895,675835885,613384520,856881809,534085951,842542807,165757186,685732926,28601832,174629752,843472365,818883725,861953251,993711204,993310881,171279050,573450535,331759222,583234098,910777562,221272536,62178127,402461072,186538977,637409278,831340850,980898338,726528345,422435869,550527857,771033350,27651806,181728893,961817479,682954872,353084525,507222749,253408563,454934969,550969838,661745989,578326346,260326094,817853522,897563690,652069101,212492159,52294245,269405067,249026432,887292770,425782474,951672939,706892884,639000555,206139221,502137021,144129278,276808884,118957580,988545753,597994361,653372601,484370481,666573902,628287891,765407427,899366479,391776384,538469824,925320552,430810337,731996433,227312017,334561694,807181942,849971825,606206268,373944171,732604534,801417833,113959655,160399350,695787009,488196964,27367564,772647131,411891101,623657698,580978649,77851470,545736781,967213928,833239008,252406242,120783680,12857004,169814244,119421464,171816796,366061995,92702811,570486649,955812316,96865987,769307023,468204093,229893675,777689005,51255832,424005208,218294589,2390727,839998156,187927066,538287397,505639183,413322371,308600416,835126800,426127621,738370902,128066540,494320046,848752210,465705167,506019275,97292849,548854816,928939657,296649916,859980524,310985952,870956461,140837565,781283725,800502793,511148021,305503327,910858412,105550339,274438793,389020180,389414270,460431558,867869222,365816502,837682173,421896849,890118178,382608743,35437148,530264275,797132657,333086626,114430707,769294481,557947891,810047741,146957300,468867734,430004867,300834673,722321965,545506086,732256158,693537598,259656972,215412802,193146781,264506924,228055824,11778366,436723418,870777495,12983707,843402316,988952843,817454500,212537381,624778371,717044499,25307636,164177456,298165009,170342568,316624448,719929601,67443793,349182572,120878650,144538048,781705990,30573616,12053618,669087151,411723060,508225859,376193768,252289616,776789864,309705065,588096842,619722940,245885683,192528151,891099313,697808027,887038996,151179105,560543706,998330390,405108504,855473239,968841180,748297109,238036186,307029553,793446611,731034273,637188214,519244318,652850276,623688892,276759141,870467446,224846679,578639402,226540752,854044341,41208763,452718882,117094263,159366626,741325520,525620217,97491697,713689708,300194116,82910455,874308229,194009571,445659139,667976348,829466092,907991473,821655357,673955964,493319126,416989121,390293209,973569782,447016477,611184454,426949260,279829389,973952482,383283249,672739603,362335123,165348355,830069713,678757588,84379685,821119965,384470464,22162129,117907433,628235250,97539381,584027623,467286331,315912375,73731444,524669411,916753489,631284735,710968256,432711206,326788156,629782799,613861362,948102290,84539339,113659863,502818688,475092461,815050486,155575082,932191037,12624074,245280779,761391363,861500583,758627474,262925661,882736117,452029870,292515375,578750491,53775904,687828514,642040925,125931115,387869793,182037545,87140071,261290079,157980529,196476164,178091680,7196842,81229537,580821850,486630843,146043790,151843745,813252530,253555717,929993458,856353779,201578602,36680768,761171009,211253025,914974614,426572048,824476615,243652300,356506599,785076276,252279287,126821500,708266082,841686199,789070878,278914724,322377354,528140208,9082585,891160293,256105799,400201407,399744291,500542016,682609611,607217476,362720770,289468437,832669767,757598428,404466409,34588418,790136366,429641548,956420477,580848863,496091635,857689575,688006968,79181474,828415836,294203158,351919476,289723742,297629235,258551683,245037268,276018327,314546780,567418745,149453507,487921084,255233513,47537564,412494566,194013122,419291540,823808532,793361388,594968763,383230271,829489686,280191006,337054550,374070352,355746591,612910133,354955410,999639941,530850966,478673679,483876109,207576632,402939773,626573418,603753995,988062844,870527009,556599837,254484329,991619017,570230986,184091209,991599491,276940020,649790445,657688614,77829043,334389494,93562127,179718187,439186637,341020187,563389255,405734950,288946296,815039344,300038060,866735568,910655691,54709096,186184072,902827200,857050398,983544427,835604550,645866027,11669573,745650416,524658108,277137547,167948156,3807690,828633967,842808766,605093892,578244284,613913221,41231600,653884606,289858252,775623867,678196759,644353516,230037659,31430229,114747770,322921390,876798296,248270775,994873410,736817600,105613185,754759910,574484863,399111313,199465851,885243803,197982623,405030924,73988322,829051339,256184533,946362722,33503873,897987375,725973907,37409,453287630,253777018,216250771,293701146,247181499,174286802,701180961,372395817,566396256,490777278,261762462,432742115,539689326,165221441,600472720,261645306,882962506,180937186,829841144,152159843,709841062,369795376,479195708,371675100,530280585,624838455,952570431,43010397,825355436,135042880,97689913,449875270,617169239,504871794,434967511,770512133,577518413,612740489,614752921,373278280,304881679,463226806,778164409,384696936,746656702,466368711,681901671,25964461,962716077,219056730,656040799,311458782,510544367,272773579,395693719,252983175,875763769,45494685,567629981,37521167,740971333,66165230,537465201,356475722,655765908,185293835,616482838,897255907,288993886,283025323,154858867,258799180,674124624,271047094,623135195,372826529,699875645,380014697,447007329,408700526,842551075,403475385,162608521,748959251,411335767,792282128,444421360,660836088,732641864,568719516,778559613,911878833,875207789,958512471,662985764,180489999,71872264,916177640,412283171,622091763,472569991,970198819,583382073,916270023,674944204,927093887,910295033,871767369,783070162,43959503,568917020,767564321,23466822,398701132,194085674,778854,725341830,340180049,744038890,639538077,630225066,863829223,325064897,346049058,950559173,368888298,122820770,607040061,254761209,868349697,32799254,646185943,74699571,191607434,639900354,51998650,99665152,52672272,732043239,89502448,219550468,186608406,298706884,407817191,164417231,267858218,748388894,315470770,131890095,640782790,142854134,167289130,644886721,375635077,943970654,81192127,111884401,804550808,374181162,574664730,580045164,770081929,80539566,400305457,917180353,375784042,59935103,625578231,311907920,888278467,860939552,54740706,330026107,652623685,141077408,29800995,251778482,368744725,697584200,979821229,69674607,17245203,890519810,89481812,872036283,942443244,772504655,257849395,317863005,63102774,297219273,549387099,48084327,666434788,66459564,480369705,104668461,87020184,7897868,569171977,376601696,87314156,855581069,306193174,999553243,374192749,918772736,246549517,964992574,264852144,864905048,30710249,526282828,492828255,281399945,329959668,21542279,722404670,108783551,3819725,266251163,490476194,344515029,931107831,702510926,282308044,230611601,979287370,844986892,535859938,584914193,58027817,965366794,983529736,870453649,804071686,93721608,684404504,344942819,903032580,851897281,269415961,185219596,378877882,389269783,472226619,150085833,568123108,281111557,269784024,964520584,520926161,617696855,658893632,482177126,883549827,483901759,437299561,231058382,841368116,402558385,272651418,6103296,209005616,965954022,466236455,934136142,679850264,649993419,933006318,398652139,137491210,887764637,662129500,388862287,112836814,854961402,905110017,423707113,331251938,152399868,534150333,695885764,974321386,817939239,480689527,485625242,541589067,25907776,758274066,587446764,150583623,357304043,571003067,251148981,988956336,836537824,207163669,851193935,259510601,160731117,454698955,456749149,602492264,546538720,841876,405763166,889958707,47940046,754539737,173244251,88944749,315628257,411041180,893750663,173095505,56206267,186034533,715976261,261962738,107388743,455844300,514003583,946914103,930115461,263719963,871039306,417938981,853969133,962917513,818542404,579529780,269577965,217439768,53463370,121881127,160495852,500782244,164764403,760376742,885764047,499488294,854309051,727945290,370364093,705610564,881280707,944454613,507865134,613613628,307322231,228220716,777703884,285525202,181745663,108077379,332411552,19108931,618504764,462185805,781041158,191584766,634968005,915270593,910755948,611684772,640916972,293426401,802259,198597978,493429901,520636068,133966440,528062848,90951734,928214680,532479516,735813122,699430078,947526271,978788555,67940674,665036083,90856708,241291065,527270060,335705695,609071818,615750460,548995483,425642205,241049706,197053165,187104851,592992283,674156091,946818660,904757221,970467144,148190136,743727903,273889467,888143257,62619494,899077784,968553116,586397881,913741586,951023983,438659475,128560968,579793868,639413770,154596922,597121512,983694304,998538162,161974929,174191067,116395520,864934489,189944696,680561953,664210529,550414758,619094547,558072291,515001641,187638228,407168907,732868911,133586762,826030534,639975046,668694658,173442651,424439273,373150913,844065429,411320107,5571529,466878185,225584435,636999067,390817696,151244826,167288306,536148954,100959466,392100172,473556982,715915318,832922716,987116513,878415110,993005010,140405709,96738070,212748673,417027428,43846814,872678799,278080460,226276604,100023178,470938799,529873484,252557772,789784786,201140055,302473644,441373193,17843001,47709246,408242246,271082915,579441383,537735496,991178042,989846377,494695598,951054951,458563926,104535047,411796687,751203868,806986257,382123743,363931897,849926059,761766114,972460513,980227344,782092378,489621052,114305375,606232323,526159232,75217415,407636230,17896726,299760398,145854590,323920753,819705268,903362129,304948533,24853755,195233298,637770941,28764044,638183917,400517965,102498641,355538423,327051953,117981711,292250597,989942646,264297598,801119661,995319124,21210897,12698282,195547330,248044805,643150970,525344722,67986520,683767991,913300266,361610067,234491535,403868971,733064657,617290946,925590082,633673990,101649005,706186700,977061191,650835315,293221587,511614058,492604998,168161887,317797163,283270513,973045789,478779172,514925826,832497415,909256149,617455502,970937345,852194116,721260008,707404905,162708700,296375818,831504361,971847576,515953609,76909207,927143821,117195424,576412390,200756374,748364597,293553089,384422162,699806726,770874285,903505813,475664861,893488701,158627919,184498381,572301981,121938830,973445322,479441263,665071782,776112262,560022853,84103548,716461223,249069687,797846060,739771277,14206652,844110008,748960823,191761744,921756832,980931535,954333139,556997273,128007420,485398211,1009431,166190121,582534001,816484889,789092098,237831471,424462720,898190410,182921761,285817490,314351766,822167377,229278480,117496556,270946531,663587167,691610833,78742439,24888575,904697413,959550581,881387235,792365130,561159090,532276441,284900744,731531401,409571242,228480996,953440628,824870270,426220098,256861512,453183512,302577826,324446967,507999160,852205755,692051927,924720343,665636085,547873500,907186954,75309073,344204097,331634383,90509560,192088567,558153051,821163670,893169914,645724107,558353607,501802166,703400107,605970269,866544331,107754987,2713577,71098946,505028377,512524564,664358721,933531665,381667328,561240023,3967184,70935240,603709669,952706762,876739122,590823197,43509332,321794120,272290756,752696314,256252691,918740991,982166457,330538450,881724778,10834731,29282597,225801750,116279913,487325033,787213184,908663808,380267507,979539932,715346613,443176274,696601294,5609808,254068163,577258690,131992087,43939500,971900217,755345812,874981546,286846344,87040169,640246082,10818267,34603402,697388995,231025764,955836677,141189770,156685043,973990379,659412118,841186243,365402260,665720645,764818382,662886144,141668854,221268875,816304370,212856585,113578309,266988714,220191345,794223574,556554004,77573263,242321638,379889773,477167391,494753194,374679350,577691245,352808584,972102478,589041002,274857108,374901152,9619511,251783203,977825465,657117865,521301877,205251554,959138562,223362311,457259756,344304631,612366532,19692686,374384730,418816048,294363600,781437681,377582819,697154470,828978642,222421915,217767129,342323140,108208617,395846699,30560619,16797588,983840882,878284064,513826043,168533676,217391648,118751584,744488320,429450343,661543178,873972401,157621553,329613400,813706922,688722083,426373261,46889015,16720634,251359071,693763346,657046569,83607761,71114076,799731720,247926283,599459015,312205328,96528038,224485019,414224505,75752320,850015785,965771151,83961696,615527099,492909016,443148346,814194055,879862146,992023863,143245184,43059077,156408928,810494847,326979568,697677754,172377977,838011719,367178167,665648643,936046549,850407180,711790722,190669914,618612027,649218103,160770481,159809792,690266532,385095793,320234083,515708732,308444296,805779605,280517307,894754331,772054307,346992875,552793557,379859358,612393587,124221110,227110877,666450251,873176564,24446195,483929245,77182722,101004327,832447170,66656997,445288389,190266233,133506368,974705183,384827231,131880511,517378788,109082426,491780349,946526358,503934003,83416879,796730912,55775077,441239759,69543560,266472737,75709817,577327838,3353959,176616867,899232076,408898143,511713677,400962740,707068324,61856510,176307614,839166641,559523845,792807067,197923031,967054568,97880075,438397173,723539696,520431977,874794316,771589918,482350573,178598752,80525094,963322153,682642862,807177135,807684094,514765836,492349559,959281208,238431558,206291273,376891233,541248602,235736221,721584064,117573819,423860596,709241815,234855821,886208894,452439001,993940135,845984340,704885466,45391400,889411992,722532426,828746199,720277189,893526083,65087304,561107133,83719920,517992129,146522082,832117807,188031795,645239247,899495928,97953013,589507479,241973965,690126815,664084911,251864725,376247040,715799729,7297464,325264356,757606269,790221641,876899532,835118624,458450261,358780541,912172804,594136883,443368990,505087170,293629452,583934572,828747496,359759552,593767533,903567212,649372999,838110321,399917229,996324891,594654770,727717389,643754064,539004134,646622802,246992985,172221923,657937069,237787984,829551622,971514971,669473701,905171499,478025994,581199620,172448948,333266053,633672560,266258732,767079393,764229144,386307042,250341818,891218751,142485278,667756677,407143383,536242359,755306762,284474696,648450445,385974331,130587413,887359193,19071039,866474389,46683621,497920864,524631289,806480210,290069550,561786763,989909125,202923644,765119809,811805815,333908760,507347026,60299667,699005283,750541759,408802632,395645362,779249045,483271354,332968200,763055742,104975103,675269116,255096786,125471588,78912245,119076531,761113046,303895645,675042267,455147509,790811644,396346752,89525634,929028100,191336114,233178548,232131147,814519914,910851131,70036924,295926699,421266150,82051732,969031964,61290581,412031317,84105500,125156770,231039682,296441558,854429,475290018,108379790,712743940,448908947,950204477,824851853,160952073,738290064,115876427,788384979,373393247,113801491,831805828,595929040,165374714,906462220,172500958,511736801,403357309,450248596,530851518,535921125,381828743,163479891,277662470,84355177,542331507,182453524,755603272,783613308,704750896,392045120,616664502,735417871,892532685,892613325,84550374,453087968,410248599,429893906,18333113,989341742,503594057,153860224,670541328,357145,928563016,714488848,382337386,69727054,816315075,502928081,694372886,17502180,916978269,375396234,162108402,214057830,23004674,213508914,735743211,352475891,404283007,249409169,476986352,951883036,848594476,514832356,481258372,381254886,788483777,896003025,722766969,218031688,202940128,47067935,746887135,364026794,382444319,974094786,155999245,375118136,371269372,24415451,528336259,124093824,968316170,308814964,556005124,381238450,785458424,719440219,449275512,597100897,925100075,684170781,533849578,406700712,438992181,955377608,572596863,925599578,418312356,923585552,579410365,557360516,663072869,952526889,438221995,566859377,830677715,437428992,370352807,414092275,912957036,644833121,549953664,721002581,632898049,799167237,584596031,744587193,990074861,858725643,577855500,16796802,725360545,159835702,12804272,954809062,116582393,408892554,665608647,346381096,611845085,775851787,868810726,483376812,127319166,959262610,685599400,453791113,370888810,69681724,156068746,17977339,407869505,595826463,859768992,877009195,835128087,776714793,29461065,431842591,237589669,177523144,719882723,675299161,549031632,118042901,815282203,666173332,204342917,781542258,568050053,25335936,36285017,759635008,152361713,669207581,555602048,630015753,716942014,692314511,882767098,672253040,374083294,679490454,254948463,837089981,252441363,340230602,636037775,242532000,761631703,215531401,791297015,143034897,75199202,370953484,515640700,822493729,886106481,666594519,709390820,844624648,283634657,128443923,723968933,227261426,633310794,840692972,706076290,224264823,491628663,359078599,736274838,867304607,229655774,260582780,213511922,31031904,354360923,585067939,809459943,157816741,339154063,416853480,370757795,142907494,766696680,640071577,389482612,670093973,828813066,840498367,386298147,402197208,482232016,562133715,922514207,376586213,891303489,895214789,65145333,941770749,254966928,788680740,93425250,530389571,48514662,994843910,457948164,821698283,670524162,633399632,217904757,152080446,578598993,900992390,464742555,417695355,29573633,169806117,961866355,118898954,843390733,979598909,688667577,32895314,263770384,440479943,160349118,680682820,942727346,525414413,254406034,760332847,665917967,532918998,357841842,643000236,520715798,649730265,358615092,848657999,614324430,359282611,83778696,217738526,996182919,187428562,5826912,873123640,547537023,217479590,223295485,129205000,943440585,172538906,865336832,698911091,855415245,34861926,99364682,350903474,274786236,554122286,565929946,761243799,241970456,398424368,444208571,282825227,883517042,907299375,357518659,499826785,774438829,858795803,846790424,719500687,602002192,784389022,854758058,741232644,186749345,131821098,451917593,967283081,187814504,825503932,805132994,312523280,991223235,333899872,14418316,458574511,785872112,863675008,74177667,733027577,38040082,538216554,117061477,45035122,979800295,262683058,461230596,805657929,530100441,145583259,185443248,3434706,787827788,29869989,530635242,907808307,600892935,75372014,313366284,552122998,413174667,678777278,433627999,115734803,556251248,158015897,975779270,573698166,556279234,1992980,406835264,203157152,594182899,360992303,324197135,383088940,229018537,600786848,392427970,680610371,134820840,470103905,541786952,677460804,416420439,949839217,233446618,114058474,767726216,918951248,235649867,303834883,527271245,727001489,78705323,294540286,420651183,147011030,400543348,950261705,402018969,233091536,712542304,502111745,907273812,903685860,735109310,829689770,161768153,525656282,538960134,541490754,119651818,542460542,164906029,845189758,871235247,796317792,627261280,811253117,463483912,868711748,30901476,577597203,345961273,286848395,238573467,679424845,663387513,793536683,903232295,412998458,998746469,19109859,592116646,829295229,263013471,820302658,824871858,138142217,382858096,301096927,675095824,675423411,729387175,28752989,149251183,793363638,410872273,295274023,980371419,700625714,639278160,362382751,34917020,63328280,935371510,606248330,102583307,34474930,649125413,528101953,22920612,449729845,787263619,786218680,369599010,550992117,833001831,770280598,426819242,630361369,38548620,535635091,835786347,688609025,456554686,107594109,722399815,217493096,145114889,728205740,15602619,83641952,356055571,820455294,122524381,422285157,8380707,493307934,193978377,187705903,681043531,295265838,766085591,858851704,885764319,659381565,326265739,546361105,667242928,701858649,444469014,822773690,840070221,382676428,955360619,727804474,147361280,996163735,822944758,413908097,12006157,27240761,275314047,517208943,716694418,231299832,793875167,831973548,557484071,750812775,445050311,542713406,800244258,780202141,383658225,765147092,484502562,970161827,25837351,570402245,224493314,598168940,934527001,317458291,577883296,176291360,598540004,214809286,873114627,784626341,297600889,981884718,176417443,757112502,164013309,686987970,574668224,983324116,692103703,940592154,953405786,625647404,246847396,838874839,119656012,264637021,773978891,374106676,525428624,385704713,636549291,908664970,134541152,747303425,542499774,323842616,5582219,405064095,697806974,864992871,846114775,898624511,82340707,896504764,558602706,47516127,145131411,622164434,691693297,185275228,247116459,253484566,692845311,66148537,174606258,342150898,338344510,532678999,416717859,495701107,859099902,160548753,596523742,657136689,427560598,465274172,631775421,841829737,184742193,678927704,789915335,901926908,375778149,728074744,333138300,936454749,220884595,176382999,297085389,542882617,45530337,797606483,906281003,766203923,264108199,234106777,47582179,512975242,194083455,524944437,421694253,484567675,409082808,283619606,521128854,136712965,161649047,595876987,395848799,426574841,446055573,723022335,798338483,310178039,68131524,21049043,758351881,777026473,147216085,205908780,436274615,901858266,569000640,875812586,109114590,67061948,972506938,800411438,44695337,974725229,720488787,8253588,958193254,417798190,439310594,920822992,454170131,167315926,96849717,585740067,238400138,647772901,434846524,688634127,900045262,100236481,743819332,111926992,867711569,750985984,149999011,115922615,160424103,49980760,116703171,970769484,665849554,153693861,128194567,562793757,617717597,188537754,235231266,567673220,891207836,961604047,442172399,322186558,305407293,325520696,596608616,30869011,714293337,810130431,42509947,783345952,874414745,163437972,329755974,275883390,406743596,53090355,243216587,397899287,807517076,465712985,425645062,228339530,328560951,47105109,771515181,916865337,713633253,381987579,305728101,16095585,105111993,487745328,424890479,611846771,44343890,159967177,772236943,609785710,212374847,223139819,935219936,601269701,455670060,219417171,165001682,800293252,119512601,871109994,973029108,595434006,737872953,423735280,141898101,442518771,398662245,692625865,829285382,713200861,573768724,128474856,818313455,73795588,308990146,939069199,267404842,761374368,660586601,132131772,364162460,594353583,807516927,88859433,425374066,206127302,529949550,346244548,514183411,716628933,366063954,417215812,768045815,765154969,934982883,466901612,252832569,795071094,819096544,467962219,909630068,679276556,505846723,514247408,410045675,304468448,36222239,21130540,794993193,564180316,349707389,336528449,20674166,496201257,870198919,494967719,314812940,459385711,335224676,999605713,264590607,858246228,90419028,657900386,358533682,357205465,545296173,541562488,943867492,602374369,357415180,738181338,662511916,253642682,625011918,393676279,450468081,175655553,419642505,246946734,925619229,936045374,755068859,51706194,44844749,343314289,34660117,578242343,117347994,650650469,915539887,574965607,351060153,868298335,35188684,613574917,645297288,343052924,643466932,170019217,840630352,668372302,927376498,783813613,928724213,796404733,743438725,382376469,955793036,135426356,985472016,379251391,734716920,601902959,983702958,462140472,949240198,939549094,900430568,669086619,945055075,468000406,573771402,857319273,722655207,36225530,48429250,149017087,798069941,392026604,879257226,652328688,512708804,210688703,586935185,639443475,134633352,683385117,8999076,999265191,556681626,544465337,445251403,71834404,349017296,397969786,493384163,51042541,878460293,543630423,265915111,639218803,261981749,91421399,374854775,212662041,258007490,245077028,398978040,946755679,702255602,350403802,671657545,799915240,915908880,547774299,447260190,705339264,27201248,260719310,127495658,339598067,110928195,864768372,226643447,676587590,851217934,332782327,977847466,881654154,876031043,330078308,295018526,922597872,143394704,154281087,398388323,518320560,802557224,229037770,44767636,349363815,819088022,508052818,919353521,352818151,803266580,312844389,503528051,116450990,863176429,881972653,868929323,243880423,715618058,662914386,657287299,764871593,409376353,908584924,399209045,290635267,463621437,283759704,242226124,642215583,897026533,734831914,325331223,821504690,351481002,383079997,825530130,826086261,748485343,774261811,64537283,176807503,774935517,304370104,831037877,245715392,801347052,995706435,803705070,422174305,758516801,102152329,790425112,96855133,196139572,136112771,221396794,498199178,896542477,313838221,136065671,938071210,919003806,621572406,996872798,987447975,748383434,532101469,777238393,995904628,267085443,917960077,302557529,354231930,740668536,410989243,936648955,132277839,48522257,858262274,752550260,837315447,196825141,288853629,540663443,384077110,320599194,832355540,672723855,881744103,719123193,369711271,421184276,56276040,758747170,316868392,759014431,905231649,334705233,854282166,176829160,274036542,668628488,597123313,295127088,595595109,945662350,888196124,52078971,197421667,427782720,777097876,747022526,620005998,711349517,427118615,955271463,733317297,187548511,212242365,134440100,40028906,955343107,406190545,652452058,959329993,859357838,105782414,11691072,920086489,650905028,910522751,562993422,440552256,63207483,89639944,16908875,764188904,679930534,9695069,926920568,32698378,390435796,718838414,836699398,923817308,109586149,94106654,125248767,66233709,14111468,167028082,382869285,197294077,842362812,241954133,776023732,857366610,37735614,174725225,500767184,816820,144184710,513560771,218761566,78154587,888362349,867226548,79375463,865711821,288566896,946458921,398526686,931134948,308073235,921285469,51156995,446059286,933492685,324095361,100947320,440121463,230814141,160433509,254062555,664551219,599848633,517960593,963113315,301170489,449662918,163638769,771197733,743170738,774362449,822590517,704095957,512888200,924591948,247539359,156270695,748916472,688455819,51118332,152246783,803702811,930973840,921650790,388946729,58061856,773658608,751260933,986596431,468298363,247393973,555497746,161062829,987222986,933632457,248696941,607433579,717629614,58697924,924366416,10214462,441310721,991569163,380433546,427899379,14072651,550302189,991965431,250252866,214631524,47596774,131190275,330294958,156543028,443416123,22321434,151395376,748629566,110604817,216289359,820889047,138269942,230789380,853670985,576258255,442299977,52153936,629254835,908308947,4579859,793170694,714033375,67515174,454084297,268869670,779946049,339331766,789380301,873354865,144402072,226319830,612280790,370711077,603882948,956996786,851006260,880577055,315247934,553624459,779783057,617213446,692570894,605363316,80859014,497923015,187921529,858753448,35521214,599693799,779902706,148214421,410262759,20470190,156105949,889723888,531675527,803233144,363893659,852347933,650713435,12165766,248138358,431340982,585482147,32572568,856481476,452743587,776072880,851574239,308431320,860229481,478255127,227589647,453667168,909084558,184456817,39866681,441665375,151729604,624519896,279872642,485372053,159518553,897740546,713494052,610677135,240875250,24225075,817675118,198485941,852251081,851577106,514572263,523711610,876424947,769782810,76365627,198948327,147496361,591855016,229072264,201185130,656274199,645132068,449617419,174036079,536001570,410691469,728843438,260524051,655379722,603495818,922175600,382777363,357929694,144162134,562895582,672524752,169040162,446146831,874274262,898013407,920729889,663155969,73901266,807896683,529204566,744705308,187736906,998404454,78322163,76287628,734733308,762329556,545480517,237906537,774318323,202863364,631393024,735021540,526611161,423966189,88345071,603812370,100238556,207453044,15461836,502268168,899458644,967976265,686410945,162826214,275181540,999361030,273796883,95098315,320858654,276695363,407413645,199459892,321102101,369075601,38851413,915057204,86165737,480427003,735438158,118202612,769253453,510321026,220161178,356229269,129938076,934937403,218500505,566568375,242506937,268626994,732959341,440561500,860225656,392170323,721230108,717220773,890015287,344956097,526779321,464232426,438483697,819845655,738838240,621121710,957509388,568567235,450545244,925741192,693745000,467548873,472377063,110159970,410611403,125408984,945558726,108719434,560962944,616916826,562423530,176218591,359023565,815190171,545588424,758843517,291478331,272988973,594760620,606495682,344951183,642650553,254205959,446484939,653101996,907796996,578224302,772442574,851962705,400235793,863057327,182267973,335692505,210335584,901077732,744838130,91605900,514965406,738973004,266088909,683340678,858145201,639572782,46064246,169053772,441336149,717121215,709963556,321675222,927320555,434278932,708727072,340444796,95920032,494976328,430234534,331458382,385988548,625401636,835927530,159450895,896160697,35374398,424313284,341259841,701535945,48558437,40780304,849640698,720979366,333597243,5191489,926735868,372709453,149018351,447408653,553281456,386011127,986264175,857138842,710694915,920838331,791737359,717987422,130289440,784979475,981543928,782353569,567303446,830826478,104643531,369205240,696693805,555282553,60683326,664683711,59780226,968187499,266917984,97338466,32348115,104572421,618674590,433239941,682646447,36346407,982627545,107192310,83013016,120635375,764502607,70319463,893282248,261039263,364990408,779527757,438602211,404644613,202881062,861016832,878887636,936426393,215538828,567166046,967577176,553422055,839658437,150212121,474824547,82427404,219348842,428026315,850380855,14424068,4782283,190193800,256674827,192487642,544477408,136777191,90327710,808706531,988942671,552848531,756353153,553943771,759492578,944554848,625429804,553889600,57890849,309074331,121373966,205805423,212006045,844992127,845098341,893541692,982711787,557003908,64939040,379146496,55057415,536276637,2606554,115473223,246631566,454420467,971727689,965302333,929787411,411699389,781257810,367896098,491709355,194839636,79254587,785190218,839853252,991408749,110475406,731716957,438547366,805708495,893373419,183194745,655415521,885373861,982012016,92863010,309532769,343817292,289516723,4114064,653912591,533759997,362879659,734460625,687746721,162271827,334836035,976405643,704132737,544049549,75161955,529041467,814478311,676571979,688997808,576520184,862686662,228606511,294791883,718613043,204606954,584879472,569993200,448486890,332037166,973935674,753700616,827192388,221036777,578930813,144763405,65242563,242321885,511730947,164244352,500391900,656106911,187343007,748674571,22382381,227687531,534019380,696294095,441864078,303191940,89796559,10682614,113569837,96800438,867104921,453322287,454979220,509611363,700642756,885263196,243319977,344325819,751473250,746691678,536553890,955327558,801783119,704098363,144417959,505376821,986285030,772378492,17255777,839142402,317583560,167091724,10903000,167577979,745542638,871044466,387497719,501932912,857947991,427854326,420821336,910579497,782417631,844897965,696581524,220888820,187300180,358354482,895199601,674921562,497652429,549687627,882472050,508494229,309534657,362380032,878991424,91654367,810613928,989709580,219265209,504979484,893950956,715243303,843782497,460457027,152039389,83494116,234861217,748226426,283877606,226420267,810247402,405945309,123876710,925608230,905933166,36353488,645696182,59498751,18272246,945592284,178237045,198264048,448859587,738199797,674906155,142514335,962686472,958050080,899249763,106767175,692446577,574182806,241412219,613865999,499055030,620201580,657452997,601704053,415908913,654439532,779581714,247746987,410848429,841315321,341983846,363165904,800677756,626280361,186401145,845692102,349081918,488624086,207355199,477098887,433983028,328715743,263555434,961778554,253866291,204299159,260534689,968599865,952033280,515283360,641781488,826492166,552690264,181167452,818259155,881078843,511200438,395536967,956580172,51440603,840932490,825011013,916406596,480049132,69352352,35180125,937969323,81080478,9053677,5304256,233278173,276291019,731271195,266991006,33925095,613510260,328258413,25235127,78805478,815503066,814145480,325473468,719632147,335501153,687158205,353604052,717850100,701790282,55925938,311498191,949808297,160231609,780683005,584946856,872699843,197989271,994051458,874532202,607544743,89457846,978894902,393064100,937491514,44820037,600329632,193192527,781215941,923699999,514885132,366340583,903486045,496761436,562626394,815629634,554397307,52676965,966633629,754701220,513038777,227755823,11382390,215675571,362317636,510000173,263359412,555398747,238456692,341537205,204210425,666397917,916816771,379379837,691318490,786690112,406675869,726959563,790728443,314736538,578832216,414593711,376428421,272043984,123857072,856165902,691743509,777346510,458505387,361330747,321261346,756994622,524037391,702804403,175984926,888824787,515717683,903603231,399841112,432448996,489018963,646296332,807569211,822207061,866817035,935501387,271002351,968359462,296075913,905050669,729639213,249304014,920252814,685901778,275938175,722927411,685654995,171702636,602323707,579185627,365710686,835318128,64448419,184369764,971826286,547925720,587909448,825837970,878331979,397846931,4021601,189541437,946991532,836500986,276059255,303356154,341089123,672453665,52935519,750646225,20591972,346443211,867697195,805975788,423073297,210430767,157304245,250248554,387371364,667040384,656930486,568677294,270253864,250520470,840532552,442154750,642829547,68808160,469316525,116231822,851926606,730587010,680643462,382483071,414963266,979327547,768411609,473697268,958629550,824227634,961599859,209798814,150467631,592677965,861638775,252841088,965011718,629763806,37239102,706923781,200984935,948582511,926712110,49665005,285765947,776568867,783441660,386310140,161329575,892170337,296764571,315769491,688099048,446464943,720272083,688891650,107534480,173815426,629775563,930852222,768031172,32423925,619306074,408644131,610489022,550017747,330709613,327888987,140782580,431472184,983872199,747303344,697625067,543684504,831696090,524162243,697654558,602484507,874581242,549314732,11121661,299928131,494411487,242107925,601947228,203386981,670995603,678716735,966828379,944751822,949440359,656769346,34335599,118385857,355224486,863127767,156550003,186738497,135202758,918702740,578452642,600560217,993166186,658793925,460479680,849084856,774461371,519843417,657024519,879543442,511960155,27927136,127561481,550934542,589631751,287910187,908122255,664458580,201237097,516205746,361310289,79994801,334425215,866557155,617035278,296952646,280405282,85069007,836305912,480470163,571740689,76564187,251139651,411947314,789410986,602626587,797422753,612200726,150276288,959944240,729405276,342433777,106537656,570939136,947322719,16855157,587163085,130527418,173475048,161154045,946333803,792441742,347130979,69046237,216953188,785586096,102807221,673141262,705976144,440926598,885113930,552740138,599283523,330733327,794896039,36315480,483524095,58517849,851133522,868801456,43941550,925989334,959522303,651838795,658562709,954539369,278711393,549778960,847341453,956761461,772517693,296625242,589513371,955264201,834778899,710387057,731933081,734969129,120455233,731141922,77832528,427849375,509583569,335891693,40610987,470276728,580460019,258409163,350510118,548678569,688720287,673707490,256643032,860527392,80933257,137509661,275831347,563604876,326376599,217407863,37295376,44604412,615466591,746938650,384021263,41925831,483044735,786218522,374794045,700315284,850157392,280421523,222145822,481003364,24979678,921399223,643245342,257523775,432678753,275700253,387323617,762798104,497007839,421135443,732495991,23877595,963735095,303184587,898656611,65146140,739390322,890734199,558686381,230385598,443929735,389646843,548243441,758418409,820012873,338709646,698223971,994250814,751537486,596935698,985261446,201994178,464474826,576381817,497487701,706516733,359469698,5089639,157188514,736814946,15359249,493000514,192176062,350827663,947930261,477059240,756034922,371260514,703060359,781192589,899869645,264549280,553151387,3290045,1135185,869279956,259296703,978876975,179715799,21217600,228969278,156510998,616796553,762103420,267131905,749743835,40369244,518776749,704260683,290307889,834082284,830371389,854874815,561693258,3598107,373375685,49020521,642061707,413750291,702684159,764417669,261589868,766641550,269276344,359279275,197874042,638261139,959927882,310761364,457636238,876620041,315580917,842299075,989779331,254232880,843607247,824941676,80250578,993080476,52596957,396173060,361626652,967219053,402639437,470181180,985757209,758444849,572338343,232107570,352411639,704238073,685702748,732632349,34663931,485262407,563840556,449320914,213655883,724269143,610719020,284992631,808926304,465518028,649694446,675301039,515947523,472091610,607348006,564513992,254902421,154600542,280850164,685224998,66309467,176724769,578271413,685729401,934312117,93762443,109920394,635682680,294616226,85551346,53845739,270095710,960686299,657783306,618152028,252011584,532478871,557125154,971927687,660819177,720141923,947858181,212615758,251331345,69190227,411209274,151794449,833789395,996063584,525461666,415395823,390496744,359783226,443691053,460708866,601213990,895300600,250221815,230160294,895173508,711459410,945917503,911691850,737389954,57258674,51576991,449151348,707356915,328990646,225139400,88063242,98381930,105718276,521744857,26290767,357414336,50275761,901747275,100437462,561161512,821387579,721545819,942052161,828333491,98276090,912329459,228119796,669418306,960956024,885824097,759228353,747209767,835970202,218895531,287206264,47738376,926002686,815676150,362308009,653943197,646296081,852402923,529118524,706508143,376602163,577290396,61229335,601880568,870367431,287863780,795728090,400783738,808768766,182939342,780980137,86353816,11963234,836490387,899562919,512253027,543897627,88796828,444550192,346599569,250073398,447568059,920421274,362733965,130805427,766068280,465771509,584566017,33759323,797218813,954579408,614642475,574108612,635934377,364013550,106522796,869491871,396091534,807064287,394370798,819261509,465643920,437828392,770662432,310618819,423002593,416812679,896298038,831310215,739614145,787993774,16368689,386609614,626134515,738270752,708895443,421555249,565146269,839201098,318371592,138576540,927182462,208926059,397909753,534742974,382091118,848288172,35949943,65027748,394108684,331931998,190797774,294849524,592569954,110731400,223098220,78230701,4889927,634689387,120139392,874329854,578475318,266671388,302638212,951931892,275074023,520857917,325847098,815805178,630077895,616411109,631605907,140374944,125930532,263871954,188034109,712774237,739605983,912566994,929123976,107992420,589922404,502729622,938944102,578283571,764738419,142117018,997387607,260293553,856187195,936646670,882889457,912351790,788864295,512219757,648317648,945374223,370595485,681249899,665322884,405593692,237007550,335677966,790268799,967415623,732747625,870979447,954215530,421951766,42836208,12037983,883720535,620275253,387060586,20949106,191076334,238134075,95963466,546030837,47891511,749189877,176765753,784083077,397769592,52321988,441463582,477277554,406479248,825327731,64019,925642939,327538084,290830324,105861377,36214475,615891711,349469787,979820256,358333621,949402951,127734047,555013185,158921785,904070454,585267332,589195739,389795328,587250259,577751426,152272585,490756424,514427076,551021927,754883906,52557185,59896479,72129401,38382826,117342510,669392786,137456077,532728344,950151334,701366262,849626269,785355905,867154573,140626512,388420911,865528239,67354969,383383951,372137540,530525299,72226839,962709862,386437279,600843614,883259871,71324896,588599230,502004369,264360538,959405377,273259787,256445408,910376205,648724777,74541224,872983215,176034910,20291498,114447169,959902318,163132679,358684243,600825951,451409561,694668682,391837275,184583377,733804605,941395592,235540172,973614344,226773374,860459040,721751331,345428307,379349749,758120864,363791901,709618096,818415363,987821467,849717663,270500474,515358118,159147110,274299947,718425052,679167057,329438492,609665377,477952220,668719771,849541484,241076220,881000550,381167750,138285031,23171349,882350267,65118375,60458611,598961203,393023044,187060480,971817168,404506565,352437045,764963527,629667016,243825020,412149119,505734095,77933368,124487170,886277221,495544323,944985080,798472930,416508717,573572550,350504327,547801010,363072228,684851698,894405226,589106437,176066677,361957798,582127815,789089093,348679318,412718734,566267896,156541199,943988284,521542065,565560677,219638828,198115046,234569521,285640142,200106239,824835685,790985947,864134328,351054364,337985237,63673132,509978831,348344693,688408603,906746018,999420377,568508759,474416218,107787792,601323168,773771932,924263219,854368356,510451082,414250926,680179959,281456125,280706032,202476667,258679035,859928913,583118062,492667066,90717135,751381651,849359946,854788573,811854673,706058932,755363267,555869214,355266707,593456169,326069660,573769473,704773919,75929730,86699123,698052823,720244718,968731845,997063536,771506974,699336578,238157977,320920898,914404510,33802313,580920650,154516098,39505739,617711304,269199440,666381920,706678298,137313697,670555282,98947383,284829684,300110453,966577264,115266726,52192273,140943427,156358933,143782422,678563431,442582504,208936625,295669746,742781549,474630520,982238609,712781983,81235786,53189238,815240906,852507395,946076930,514368988,522266751,580663730,585203231,81579671,889631098,343685429,561544140,28736902,943976801,247332049,292107141,661118730,123621597,175311899,958053115,662889571,594101180,130969258,894518625,883936730,955826555,359900006,670399548,28739934,852169340,617612406,494360496,845958195,47831350,609327514,254262438,637763962,299898620,670711274,918846044,549794200,460153519,601322192,107383650,270512544,730324129,221691258,432863829,189196896,906355819,117864281,857558777,380433652,885007715,408152580,481605786,174420819,566949638,884198532,124960493,3992971,788804848,81699066,265428426,280065980,578215383,308775669,464272130,765467327,962584218,773472153,883817587,196302044,757301656,390042902,631741381,612227418,394780376,104952354,446211854,245507136,423057518,294207110,202410162,575602352,597600536,745238709,370969114,889545940,317542917,645139673,597240525,326549908,842830634,238984472,433383579,433528142,476095226,714634153,871323837,522635121,789414578,530475134,401358311,434892530,728353382,755716005,966514659,791982784,442345564,543541042,344469010,771362648,827858280,854308695,152448728,350757010,266291747,606905101,444759033,346215241,524535594,418182831,966844467,96981131,724372499,793064345,638214422,792865393,989013453,899172670,135588250,225676225,528689473,811981712,608177861,493972876,297255110,904247365,314747882,340159584,349334067,794964852,756322466,140828881,728784711,257170262,7415051,771517953,128091688,930903539,753092614,541547296,199089214,145419964,922857736,402199536,275339594,104531234,27531414,672405387,592278346,539733006,250938672,780318245,21773393,72034747,781578647,856065336,811964792,685371515,802159614,456477268,977262607,282298117,167383399,433040335,528146276,449455303,313847061,710911571,580493748,823768231,870329457,13663037,143245046,686145250,189171382,194669897,259788830,506555213,951604791,607247717,403595721,110525370,898348198,256985854,141249559,258904969,865150005,2708793,150904507,936336665,641614073,984702853,651262094,576829404,943526383,831936931,215188546,345339147,780624167,159085190,256704782,321802377,557974272,343463755,153021860,303364000,818052646,722575112,310987459,892820194,676278737,601978179,139921652,978594187,642789342,640828442,818789622,685844136,676886040,168458806,732982874,640231704,510099534,349840678,70855173,215243366,13344071,439469825,978811760,964786333,507676023,487979314,864813160,811822885,153059838,45066802,921320556,317894093,572546692,184649695,76124190,460715030,81818700,193218812,919119367,688595265,551112950,572255443,517066843,272414891,125602897,627193043,728907552,642195949,345294346,566608922,889815858,620627006,89701700,340026124,532584085,358833428,495952422,304506715,558051550,602527687,820945933,669599189,987626396,439691466,812693258,964024816,710417349,336360274,157001111,571746327,286102742,14030675,90436290,431762918,333076234,449313224,519210037,718493685,703059389,247030115,405326066,138097766,812838681,517330195,238802379,202035770,14372796,382937984,206149839,643400813,719284242,40087465,453358434,576960713,129540595,30307976,444180252,291264805,906551450,187933090,553624385,728455639,57322863,59094495,899016399,939806585,536258871,911664385,244115170,141179451,524050103,339474321,154224558,248838299,674759850,783900189,33965520,101422470,486344492,526734205,714717865,221607420,857376544,311516233,352129210,159475394,617589773,544151069,842607159,420991765,919440259,117670768,183041041,370158220,5335939,793440048,65400720,988245806,802261576,318975817,338367252,316356193,182422355,482404245,401502354,988647145,225559676,806444969,526873955,468853852,734613486,914439357,920762473,874343803,441683912,30414079,436474678,842714185,960767507,391193292,930316649,542453743,464147630,186325057,395550555,882063567,809538122,655559355,186275237,980148333,603499178,317179195,399986153,162647817,664077645,278040745,761677,982682776,973111183,79018147,480126484,210626946,762176574,64345711,762619198,154637712,776367978,466995409,848315352,584508508,163380031,464948519,661300045,914858114,59357899,180089870,642733478,379260538,60837996,588689450,276182007,954330086,378116115,103155779,14269617,232428499,62732517,396741889,83563688,610274357,385782331,141688020,970014728,829379746,734266793,318910920,534645693,998507318,627456861,901161692,102843425,93249197,606949265,719408676,955517795,11935137,330009593,798378934,807684091,200814976,471255541,639792395,884134005,126021603,15446808,614141102,708408051,998254434,398786335,111151247,955016274,99233766,456540022,275106328,909551081,489221247,148509043,379242808,531205239,928304621,307859251,765684049,383527104,786136804,455878613,106500869,664963113,322106903,717050375,152076744,910518019,335060715,522846948,506232262,50616718,176202534,479691850,368052029,811951392,488228920,161645819,341037501,875839022,678566990,403750549,582818418,432163594,615764612,791027124,309082728,858582613,602930143,937367631,537955762,151749206,93657090,225511271,832729277,565886895,523967910,414270214,326284034,821927136,377255727,940592010,944175785,41475796,305408472,893132543,343629156,736187421,929501758,993147283,18658738,564961432,342271470,526682780,227398474,114184466,697221353,353333915,799410682,995829459,867621331,91402880,966666999,354114719,615605876,827236417,328245576,661045307,129668408,359829195,410315127,744185375,318816744,886603714,990343828,324961612,937167476,668488298,984027499,448417058,60223811,525614237,675283507,901831420,560398686,501226209,319468553,784180318,225465801,707783885,332390218,605432852,164823559,793685881,298114419,599046245,103573831,612375038,38111751,245353666,507966908,728663785,288285796,347969980,146513097,351782200,729487717,929153909,895840140,360683715,603542270,77896382,769150454,328537837,678150878,347707579,776114250,70454809,133964855,463063027,887330793,157870682,71697715,263242821,852865007,619928024,108795617,755576441,740014369,11944528,359866440,211000803,954082921,197939175,765021828,393754940,976974705,336884354,579178651,420061533,273492820,798113347,567475875,550247902,639519799,325443664,983685014,20033414,831708688,825313199,507544226,705357623,23653689,171523102,902510889,640980996,108912587,394935830,100841441,150794958,889250247,768131427,991047294,778172490,621138447,449167795,715771962,747645208,572950231,501252325,12338291,128185526,438681818,964622651,724266971,212763044,890135645,113228835,310596860,556435832,301137554,220747053,434768862,633072590,95366825,339722085,903372010,652433461,827819165,847241435,935439425,91715980,481486844,395794583,610420935,812613380,729091948,144764788,946627826,672116003,217272737,355096630,574441053,372125677,528737385,491217166,437933826,814593866,761729226,89330143,703464936,270690900,704651448,171379250,212627913,211702894,174089961,620979959,631684777,940343165,324052838,62822110,973534745,742548985,257603693,769043687,983120709,175758616,291419996,574442178,568282635,741278890,772748703,152966631,44350230,915763902,401005403,763344790,187719944,375792221,874097798,844183051,561041517,645275679,906926734,290925250,816043144,3259475,461009957,793503201,97431433,800889802,137454869,84145102,689255530,292387475,912155748,920337614,120237615,68638283,973288828,935304655,461743669,462238117,680910534,944383258,710205259,334505953,834220062,668069182,384184903,16507085,113312426,106875714,203765013,519297961,350982119,111924628,429015658,537516,750110503,872876469,476626435,256098326,126760631,797048816,847772107,908874921,243498353,799015536,134472198,376145235,968874758,244252423,707396742,798984544,73195728,527361308,140867186,538270109,808901323,922450098,545812953,682495946,357569614,530556100,124365665,956677452,923607154,622833813,880134045,581760836,194147833,430156636,381972093,714299210,768345295,86063235,701286897,429628197,40959953,45090596,65981184,281629594,101940603,788124830,590955202,650346150,19159761,73377957,549284461,698227434,988241851,195079340,305102772,854037189,638731189,736923115,772958549,784525964,95247797,393299113,427080064,429828617,134147770,289701926,810767966,753213458,995977120,618067217,632605475,60949956,890666215,282423646,969466193,838712823,211269148,13861982,414306667,297343380,895970719,680943103,19856098,810058921,493904925,809791864,107332104,710611239,682976907,56228704,479308656,554376281,841631157,561220129,27871197,306021593,436047574,735848919,310500451,640011344,109233726,194881282,635610166,348503452,279631758,470782542,879628496,310100943,157622332,623736714,19620555,90589794,532820488,51070058,221230060,372450409,766580999,916756016,729507792,552802115,10770724,381380314,683450797,546423371,94104861,900599012,271310930,48120010,180747311,426224560,507863120,433732199,346083419,767832861,629602390,911733591,526657151,140209650,775485782,160604133,130315929,925994551,663303941,190155156,571669101,793850322,395315114,283513303,60096643,356504506,607454316,593447374,798486588,528183170,353535142,598492386,954984897,226064810,624201968,959216667,992358376,948158605,466304959,270247107,925660290,927729039,802631022,475600875,939043924,220436378,335027690,357242547,928244522,338036887,238145919,582039535,688860942,197070506,329203307,303791889,781985972,717882772,944159166,80411477,590546047,608425230,991585034,888762477,127635091,292003703,224802964,365755831,862094663,574398731,612546405,631969055,702460811,280570609,647925849,628084541,247054690,359099138,968764329,116689789,768184231,891819310,347617790,997341375,220299120,48187424,216878447,949620085,222107716,918794063,346552032,800485299,126509448,434332938,294430437,396778045,228913849,4829917,14144586,820700265,456864686,435067563,535581355,700823375,837179072,596194327,408383383,937094466,260306053,378424750,312155175,625116775,45593321,438404788,712815055,377203480,605993191,4592820,206464704,655202426,815605070,453504178,557467247,775693226,718143683,520422652,551852452,381958158,19386394,12074295,358813882,849139373,756265246,187316539,437758073,975371235,467422176,723368074,411496118,633173911,199670815,353325676,161596919,315360594,133650677,811711478,23708638,487024299,926251762,336470344,195089646,357673153,574439957,89004643,957219355,241001021,491353510,557604784,673118941,1573667,483976800,276333028,881640139,736811628,333966329,794880572,58943807,424678657,306396865,86874340,445522398,523131620,486359430,24205678,675894189,209179439,843050348,617789887,240516628,268576423,584857090,121718444,220192281,501302675,971683641,915716742,131965660,867305809,348339288,475422541,13098428,17977928,262199925,213458922,599625598,646334329,407153188,546610834,460337148,574512585,480431492,196307710,531421835,531836869,433930937,657114250,483756304,262471388,588832687,155266743,878680051,863929942,31852650,211595323,172841077,259181715,402390559,920937927,722230474,874811553,54897262,215120006,746531354,526016637,19247728,442026982,962805285,7272158,891721973,434400477,411982146,513313397,229022121,213742039,58470006,450040651,453077176,720820816,195959773,791059484,606840611,796040923,536129808,928286563,404934101,553251408,667926075,54579337,889984943,944383314,855922673,14616492,795748290,404967556,859912949,8650123,56766241,110781938,477012181,214659140,357328628,674557942,231071312,237375605,993355754,156214303,77083489,659866761,598760903,138102424,283058066,476981238,551415326,120352506,725059520,229869100,860032783,266266608,972068408,412380372,328899803,54291639,472931378,574926030,710003851,717756930,422192492,578495830,608875046,314101134,892480946,626984557,600831989,714762296,572144130,900315094,562491556,993292452,383815863,202186052,37977294,317083544,706136349,722085262,524677983,4116460,934389331,254064388,732756262,598178287,447803934,175269871,208366710,960776491,11644414,475915967,141430739,982259562,646116118,886965432,354700221,349767905,787262371,396801693,100438706,543756401,664211171,475116181,946212947,912670789,411994022,221419138,523307595,853518118,940639848,230535880,336318652,526528637,903029093,863611272,183071571,276611803,907457062,265815302,612464873,25737574,123873175,402961831,252214580,946253587,135783063,905120411,881141885,289967807,207710119,587214776,751908689,37279014,83193035,871914059,870712498,48019548,960472325,710253276,299966914,497332730,547245052,178656489,413825047,269092763,764865877,792846068,42073083,508232340,258976911,701013298,258143977,864693285,888643376,371195209,207476611,143492520,305175057,220542011,569128458,774336902,993845911,231444935,68136535,118198152,447042612,903008984,602081791,163417039,612838566,172659886,810100268,799215035,795829412,749712475,483952973,162135062,300699792,335752481,148321344,948874737,759989989,442919800,562216296,922753391,510371694,476217432,767647420,781797273,298686521,494256401,65594252,975577884,167514165,984943409,201894420,355026800,819210962,550709516,480492439,463105469,856642561,176371265,46287683,202877629,525880273,607729935,823456873,881441263,44604622,510389117,439574991,689515946,934722512,553789129,779389795,594831944,342327123,444433650,144681154,512227641,569436026,818367358,873815300,807701705,3063238,236758416,708609078,349245017,568751361,800502994,607888150,733717791,354061808,900596483,280649533,686067251,179585286,791307889,512687369,407148638,772408667,989700977,629549207,741633559,906623384,133849043,426118808,327974706,699040748,515765521,889018433,384043367,800961463,972015188,475236655,714037597,336978634,925584994,947085965,453996207,890848647,55305232,737945297,626478590,310867076,191528417,289098464,621809625,819920316,537325603,459237206,355210949,811617629,705267579,341953274,31052730,920972566,838893770,110586192,945461503,82391123,518056539,768597920,678763092,787587303,483927769,298664633,593474658,3201710,879734915,956292537,923898269,708431441,586203861,793412294,446406705,364006476,677514906,666172277,739003099,20188738,664966948,720121244,681005151,477070772,526678338,242602426,542714098,458669477,792024947,27930655,511867249,147899751,259504016,192740022,879703162,639347860,444349647,869768654,572282789,713488278,586541979,885928317,407811539,657252944,254951066,720122715,870900314,145286655,362385564,82999333,119904546,958416978,423275995,17215014,914416125,381194678,110062286,430666482,671622121,232556033,506250886,287324624,648203161,264226730,867924438,601405769,632414085,391965161,366668398,764098258,90766481,368812524,280904084,519842734,887811563,545424910,259495030,224644651,511435844,101884179,978328148,498243513,124610634,618385090,823838863,730103726,735912238,918734347,927072193,125556209,166231975,966753726,717325777,349633004,12144914,15858190,145197712,72741481,375025344,247535342,256007418,951845761,450015859,13096149,172757220,773697603,542906375,455239879,731744459,730220868,202230014,970763601,637307810,333554999,322738818,210523476,52937480,398830500,939362318,883907711,560001795,442457562,718930474,159927731,645620805,626778896,449776283,194994457,570259202,803655026,510922694,95268657,882023670,446826854,880988501,245943651,589643496,773035531,356187049,191450771,497761547,216350951,525811253,54344224,187496227,9526810,912109283,118058066,831228016,502705365,64076099,403314610,207111004,459872669,630684575,634717011,879581499,282747309,619185151,197211201,917089083,779316711,474142924,409176281,171733233,743460228,403331690,268925632,262018504,481179014,891853650,189513630,484073129,708976446,643452522,493954287,312146259,152543087,709710617,216543993,219615091,733813985,786989945,727773722,477158055,257928584,791766672,600668839,20465341,597988269,351524347,602145411,831502970,325235385,948064144,715910148,512299549,936830276,567395396,701311963,981439055,955767645,677114893,306876194,64008848,253974198,465196738,963214730,83281174,230573144,67331239,866812507,910860587,426813646,980307852,127448093,157787040,179874762,833657560,885097618,933772148,558576375,33975993,71738214,704259545,173517365,444960773,296086305,33692471,90607269,197211385,541492199,954341743,470341664,995280565,903221813,904896094,928106755,735298058,951173416,605069527,723605051,567904904,372621989,208901084,222621793,539512343,836724325,53143254,943742432,629465193,211722476,842626940,879114469,710831934,273175080,506286757,946675095,151769515,192793889,991771854,936583323,255335939,442206510,273476432,539899065,898435917,462658172,383565248,512525231,507753662,944282689,710731789,23438786,196746353,578147201,474265150,956733747,137086571,259622106,470901556,901526010,926959449,380556381,181141526,474981215,137810920,532899027,644076789,674831255,771730462,932318811,78782216,935843548,783019187,86474654,545973093,752979228,42963820,893119301,930084862,894428881,470142241,652787959,441568132,673581643,391492786,94848976,926523674,24423531,63835355,156990396,38679186,958339731,582591547,702959784,972840491,54359775,19656460,669995630,461416576,385813136,150211007,661332851,142868812,832784115,704188981,875940247,264943579,93708616,541574565,906535511,120366084,649339842,341827542,588252097,596014053,539282966,417858370,969985237,621173393,31592707,125579170,514382353,484913671,797985175,677070181,821788830,460221297,175378141,654342900,434921880,754360073,534350669,437388829,827122089,648410601,254911562,884055805,825981617,541149397,23575444,608606446,333861352,252546257,637936141,969197113,105073501,290429808,629624185,368479703,769030285,572936465,902985953,770751421,539237931,999204794,183686056,141034126,348480980,317298365,178653878,175041551,802819035,6491532,500149721,495133631,496919374,834583845,108478989,267403600,415446856,331960764,381258950,236352101,548153998,840030334,522036870,77912049,354879811,104969455,208151516,368749962,879557728,635975665,185563236,183238873,561566029,515434971,269554816,182898399,499724443,596203381,137302284,695252902,689266586,98584154,973914188,988401233,662304017,623741446,554324110,594136596,705363899,398433535,876740970,341698349,203602782,176369218,97922409,513327029,610700154,538810206,558420201,232125710,353266772,357564010,44023914,534280432,900803969,909620698,448895904,376130484,905779668,163548058,956363236,288746818,857849340,986194032,537648362,213870111,503629084,374370784,580202025,535341160,798650448,839276979,60233012,851296867,487607404,501571797,93910672,335220773,754360244,417985160,859349521,502555994,818815320,671440773,652807687,853591123,651174225,320575733,377530514,695301722,278971870,479807615,943606641,755224275,905379153,596117464,524562851,994614619,821555170,136386365,793231281,186075462,32228309,482838981,888886778,471646378,624678989,232653144,355206450,718125335,462312840,695633181,225654613,281536266,813694710,122362934,578161452,107384644,84522793,938870588,804430117,175213229,387607954,47669521,146626512,565356128,622544619,794100759,747882406,387759450,824467511,475610841,423438985,99326049,8365725,97923761,120555651,821999608,230287843,380199554,421243209,308144094,929344552,638403519,920385072,580687793,242027186,957428311,878452105,160163334,85593697,379219018,95369168,932300554,878446020,585388358,522833892,845597519,781456887,729974950,858925790,89979435,676924270,213194921,166142359,187346388,695783959,845331281,293784243,461637874,582426561,287811672,649245917,813361482,980850270,878864839,200156613,909498220,423748253,670610745,354061622,355186194,167710567,977623897,709099927,441522876,245073467,542363743,658073229,742915281,147598101,525283910,694677353,334478079,375545931,711032752,504532274,325432854,480258022,858168501,374341846,228590785,544158626,548315067,675375402,650171534,137679710,629199646,864398014,40021107,119531015,513327201,373610097,205920497,83979068,126127761,180827639,492845507,133859849,761984600,779485666,681409121,723638843,59417755,92557413,987292924,145639646,127945294,938267687,176858806,81785438,718510725,788243908,768938591,320450345,459648822,834551269,149782918,254254366,896070609,790764879,719786258,636318858,948914287,599061426,345247553,90478815,971236554,553817781,12680073,398962912,581082234,828346621,153140633,84739574,3015667,654791907,641324051,517830811,694228276,979240541,376942962,663825501,605225950,194124328,611027832,887146483,110894980,400596039,747210481,129431828,936844052,102051162,340751105,353137966,585550236,66482622,210140708,64361455,532781048,70262540,374101525,134941948,415205403,145825333,95273846,415763720,797590496,108917700,644738978,390067528,973405251,42811130,119649457,987393818,708258048,525885423,8089037,645333368,142480260,332100389,199693612,89687153,459708266,478851340,615103913,821402423,481654836,231617981,841621545,43975953,285958668,218067127,752087602,861323583,172655812,578974270,472869752,541825693,164617308,935094101,26880429,320105171,214741893,293847111,689878794,880677033,338879,50191550,9187380,421820208,574695478,372484877,6788622,475028644,725026158,706432973,447125275,179815649,713274672,690947862,783621062,502530784,641176591,510004344,148543958,101595361,966245929,440100953,30646890,329416585,53952064,377800379,340192699,206786257,2120452,373394197,199855610,61918094,133338925,655078405,888890500,679793725,851850797,120179288,91384906,431776627,482051393,485194128,345925109,93404175,258002959,989561327,12624587,703998976,772364608,32476516,853029640,351836299,141887491,131195547,732411103,598628156,4410771,894241574,448164073,835660786,365653049,916740832,69547557,902076992,521316148,371583855,708450381,618614869,262970426,151343755,420306988,34084371,768060730,384664965,365169013,916020050,990861653,945751231,570030883,229396867,236422880,936519310,286688226,976224039,434213242,766957001,111282811,11971768,906069177,729796870,754125914,692824563,397409609,434013808,325626704,505512186,178455257,144570768,132861370,110631572,277664100,448819903,522038081,479053473,121601987,274989842,635655496,851385677,507849719,49449463,22455529,460275943,98327198,338985664,336994503,54783102,883263716,236318035,195134843,485692376,396547763,291178628,238525344,836406557,597206437,691897387,53497135,884614672,122803409,889850562,3036293,349508920,348940768,618275832,126721645,562548636,933500717,520616744,47934289,67753788,472874785,994392132,924465770,937244399,859801312,801817383,479215852,268962229,196675609,48597848,868488285,354000131,174175658,44829510,308681141,996590478,801884373,671751939,283513611,511312588,206984590,656274750,52293341,134139945,9001258,58163778,173485552,829134572,139422694,283572220,810654720,27081915,642034443,622794335,784830777,309369127,234306245,217291580,535776196,785658286,517666155,419875106,452529429,771829537,281627853,202316796,138435731,438110508,271584708,475256607,852794239,53264540,383553839,691259054,354625386,641726878,15668576,733225473,373605843,435905096,777448828,881288043,278142061,428256409,398715097,701083417,10732129,607709035,335402100,993914816,155167233,85690711,389145793,555216285,357624226,798088715,852554758,471885785,78732988,133973087,192199140,443132000,460771445,897008396,481821703,788908938,574221785,300938710,663089954,157377100,784477565,701573522,224077336,262980161,994311895,69254353,557398586,483500491,374512346,187971269,935291452,899157124,26215449,892961406,747355667,338554103,548076385,98192428,843997283,25608733,507592063,329878551,859792152,332752593,466210795,756807206,470628516,290192438,271298441,886985214,265559801,491717862,145289870,383387173,933989331,894979703,585900661,37764077,77376173,598855103,696121686,45478604,408464472,897947691,181264866,443058517,796398757,50521058,645410943,155857167,469829589,964768763,779954021,758441795,904682078,921908238,671627149,663428727,776019353,464869798,774089393,768110737,437250140,275303960,802522520,178008335,833676057,899945059,748535916,586174032,377459391,44149852,970572788,671184485,33888425,731559561,775590551,760001664,822537140,906728220,184232162,245508112,490158822,45929731,741762396,948058606,927416316,504499504,336591476,685819835,103320783,48770063,333951237,218332409,17341396,589618289,57573904,18848573,238436637,507336730,359073451,440969146,546855243,39714855,985715962,415951481,842782499,391015684,97804794,788295427,57748438,143862088,826117088,551965078,593517584,882625047,781226134,823633390,399078015,94528695,834118189,582003577,30602448,866581153,44667311,965035631,949781025,430765599,396250758,437282755,391628712,198131526,28110347,920403852,946090308,351074841,49960631,858947278,716253349,551251535,615475100,594809675,613168339,455753185,975538246,128663468,699871793,287684383,914549315,27471448,877806210,477040800,95451889,935572734,104240609,226710629,868206545,95123026,211473615,121932527,465333247,357565882,872057906,248858139,287285711,458328713,669449180,543836026,754767638,849626861,288019815,185725638,458816707,181725628,551369269,420914452,702480497,110103741,776142078,196428818,711724449,391352459,156766215,932138577,230168203,109577135,184702691,397315753,893349943,238048972,340851869,757024112,638587812,205357513,758697918,297282208,505976714,836083681,83155667,23374801,417808655,565584615,985418252,178332849,233224811,867980975,507997776,789314253,428619882,710699994,464446607,477975528,842576369,669588496,262577600,242527464,103522544,539343231,266975434,919022315,926984939,205380026,95123519,361983106,651561199,80212,239301589,892421720,654425906,971315905,927238431,863712178,419626630,260382673,871803569,663708826,702992159,852162039,44588269,746962084,664157598,786481640,578015409,285406807,762370546,762256873,439535182,224328694,270820101,541887730,71979926,189076322,353954856,464456880,599061266,579879325,729830281,216635449,211788072,163266648,715603795,797084850,935150915,987381171,604977090,564679025,676291143,748364099,916762991,75839274,728032771,443480387,507200370,591927383,455293074,882637531,415787775,46420998,40888534,811400059,540368617,357227255,943794790,348887648,756968022,262424140,857055323,509540148,929249045,708812742,901846219,111818638,872134329,762231412,645074924,664575446,50926049,789309014,479701296,800836861,369471548,837124,97464566,529188611,336944643,801466175,131585533,829565839,42634951,170497017,150647741,200948197,361015382,880584508,872915778,80349170,837890221,507907213,926993634,963234828,152043574,971718650,795631906,12616942,528619278,766387985,534892660,65609044,921686907,270949358,534086404,56736234,21466873,578653256,183209531,689741597,275327584,199352238,817417966,412299633,842231960,960791291,800184064,566759698,664872577,964194902,550409950,441150430,372311237,101882404,481517932,51949539,867653113,705260827,591772600,700685987,583160802,499780809,398126872,544853807,860206986,610497274,299483627,340176825,907609999,512666021,630483840,637067197,204081094,471243143,114111817,948223731,447577108,427284996,750061695,824578785,566046068,254460657,994342422,575291924,923654466,849988969,849565995,6290755,187331597,673788854,367083202,498211510,944925692,452719867,548748695,58339908,497585962,960829419,871854422,649326523,725191545,594307648,474451814,519864169,458488380,555619521,291227705,589250802,154894724,299126963,997862215,461150627,464788615,648666230,10121722,342485928,3003129,521694712,275341088,90476101,453928554,373545164,573661549,368843450,392753073,759753675,725020785,687796424,798237105,439702067,796305073,16404736,950953245,629033855,641355863,396554157,481696751,961876838,886923114,998244502,478633151,422678115,759071841,987161318,549762531,73403881,718187513,369153414,303314666,771695051,21147579,995099755,534706519,440748736,953893627,554774614,648019064,989632644,196090875,983650228,395456617,153814624,464235388,973725638,15040348,94036271,928891405,995829542,362727477,505350334,230353097,631707811,239110663,688565809,475492310,264173202,108622351,916091961,166840108,13072467,390824197,820470533,806642201,378859541,477782299,131923512,750222214,93130977,376103553,507305581,690283095,131280738,519100516,238326716,660297548,253978169,817062264,999798904,466537696,52938249,689602184,787911265,299360057,755665579,212196735,53574128,484947494,894200968,447225862,109745495,815259308,683838540,571090415,891523193,785159567,219121161,23308364,546410477,618340979,615036980,938629465,784244682,798113960,585334198,550802482,433472038,820415023,360846930,639779048,700587421,577730609,824520784,113242871,471102536,640539692,782340404,773942058,757594945,227433305,461863028,458023816,356153628,995831735,865516429,626471195,432318234,431957115,786203324,159328101,264789227,21530979,972369451,316050953,828338765,410720396,154184918,672057981,700794368,244606814,640613366,859312050,193442007,727937579,747340257,979071839,500400107,222047595,618864707,912821955,105870152,829600639,834356199,329624076,562372177,946292573,200009381,212202027,631558844,913819663,887244396,120295677,507473188,139920551,469221973,652367796,657391590,195329995,426327533,55927323,467581935,930047285,568320281,309106221,917906658,157179005,879334873,603499044,316118242,897475152,428879262,418970391,968826803,244511863,662907158,608454121,510689218,849605842,658311025,6543763,240682101,396013720,357415683,160180905,320593511,918362469,65312854,800593075,634747196,167091766,799125256,777115750,960800544,172057727,571383964,337758282,300023455,777110283,445441601,927253401,143766774,802593491,419084962,290261957,361367085,771715342,384213222,485971358,312174589,677833297,876574891,649013565,401373683,494055508,972360570,818504598,318315770,118043383,502704017,585175929,567771732,8972690,583872629,355588424,773973041,982789944,43089814,854017022,252382125,976739417,678801940,9741554,759707676,492190392,860152507,193267530,730885653,847184305,954380768,98113632,908636111,66577516,321911769,971985291,307525512,391647914,12774319,82511436,146887467,163083840,116402727,46597854,792295837,788073690,34131355,565027152,710756291,502112732,802286220,414569331,980677963,932610461,137500507,760539340,939849576,100485784,603086230,139441883,663808376,370557664,826480772,364360596,265991411,352483829,516596381,409443548,76522424,746095950,66557305,223801269,131538768,240758131,157905945,695572020,239618524,424600726,863146889,91043151,680259395,89311461,375922989,786916201,380920338,311575871,599534792,470638653,431481611,227955751,889162173,394438264,936410112,263557366,613207634,831659170,321300297,907063012,46606951,937952840,926401334,917432086,497875264,21482358,758100710,101698853,214047812,579752020,159197697,496298680,514679665,456513450,682621187,90672319,16337975,915579245,89342065,133765003,391764223,982849080,2817215,656742765,956255458,643872206,864481599,194826462,983947227,980725201,187887989,175060097,478652443,198488042,708842778,577333840,385092449,880169757,120133143,660222279,114528949,935474844,390965304,894553117,106919413,598899656,339468202,993081715,599952447,742244040,202047421,154158180,617014441,903434890,400898365,360324433,26961868,457167177,490739743,454862381,246055462,55186194,681567832,298147865,305365121,11051853,863989681,634227742,183555045,77577362,998186643,469450646,275279579,901011660,293866122,266500410,720171544,487725616,178224512,324961500,657470306,369990140,316051830,778036217,345374498,363123854,867074622,541558109,464453520,590543519,902002920,220542247,30557526,265672378,310383737,398621012,73691306,166584038,119325461,669817041,594469630,571442270,206920407,862686673,339457109,468200711,772373336,742867836,336574411,253408489,302350991,802571811,270255199,467623653,219920682,507865073,67888788,1255420,837861661,541303756,566762254,19271809,512281027,77403695,696805373,400119809,204085727,89513738,21605030,152186689,158594594,352351464,195062514,91258140,349107782,336519796,296268491,712293376,55896336,184704961,561215043,196521269,579553459,799132548,386090195,622938905,340010537,694563874,381773372,866893915,834799974,216502574,908045967,255345189,41045301,14678266,212321140,654938079,859416988,680934366,970784989,146149790,348447844,871807317,940079122,600962012,890966976,423656401,104062254,474217665,33279988,399461552,768063595,657791984,278479775,398262594,576928341,178462336,4484994,241548706,11453327,492021476,910849380,548123401,160921172,574443118,265475125,468505489,767023041,822722311,752140255,781540413,986897536,840357324,761243509,293381519,20448129,168556669,668573193,809946246,329121339,906734390,456436202,76239783,991789244,561350991,898519738,864240484,29327058,510797969,292965541,191215680,75710598,751221076,602362392,722803717,989716026,644232512,568137740,887911508,410580043,249089138,701188571,378642305,647912278,539999155,823318159,863695892,787561226,563856717,182135587,929476715,273219,616638987,913482850,917525848,348924148,560422940,330467244,961005430,244268530,744589180,152697240,539323792,987185244,191787981,748226275,154262400,898932826,861093419,931393026,179883298,950842903,287580060,120386482,793224204,901679327,26306807,72282643,545735760,364429997,172754818,624700319,735278792,760505766,356711737,447158698,107098971,244164973,694177066,691214962,135046192,615210771,450367586,579805404,161410411,412641208,857084357,254039538,992953737,834432583,885559849,570296562,534690349,932966380,26059202,871183516,67866786,941611284,64131835,846341085,932595644,985551103,190802004,621604391,398394078,981971485,614921290,741433073,344442988,192875008,541846935,287422696,632601328,784333700,824177964,301424443,926577554,497147811,749304778,97291301,940813549,316434861,845571454,611033613,724497612,686309773,235807655,834817922,588641565,753122713,824944154,910446596,256002985,429256420,305243013,801416634,733497826,701648513,398913345,11058418,692570486,251295179,307098334,494796006,940865795,105721205,81136967,152590500,419427411,823097085,525404559,514243104,231766988,282514457,759486680,985462848,303112127,420369272,279607276,36632638,671196167,136614847,727213263,134827422,525240917,68320189,491505203,769238229,899016259,99558858,593564247,59947806,779011369,663944906,126785565,367804607,499004156,823353556,982454924,269359118,335664102,819294218,867953666,169991995,833795386,217038918,440454000,635187185,214679098,460383904,145997756,263361312,262154258,441699314,156142017,687803444,60005339,167794131,108860306,276029559,45648149,289984392,971105941,757865070,258943356,790271116,636375001,572817251,661780506,649375829,631538715,7881781,325862744,694947906,74123514,588515608,562493305,503226173,902115770,777141808,611042233,577524748,156732214,117781873,441515042,556612366,751581093,323024018,75418383,970733780,68569419,4280263,563365841,112761887,812650052,242214183,50698443,526984368,589305098,708837425,995004128,988471318,327221988,108620128,40314458,925005519,615320905,647320400,673149305,621268186,522984677,105113648,538018533,668318476,942333664,683880850,310765858,486116230,775144219,903626569,414582484,772031256,411687102,374507207,766692758,10846256,573068098,749939374,179485344,526073697,547754772,786911973,957239938,42779407,342529659,21082389,784608438,710655372,940412962,584997089,763461861,816268623,507090575,861456443,952878204,86557349,549770732,339244852,140634779,350733931,118649023,707541145,885199870,961422063,92539023,942434504,563148775,332462466,812500673,378118137,344618311,540489908,509739648,219702841,162162067,447328074,719212511,340678200,810995768,362501133,837870664,631679931,808052270,636258304,455458521,825721339,506232535,793567125,954185290,753450493,319123391,981302405,23113833,151036995,282112962,765979833,840153359,372722406,725811638,238343800,958328440,226852145,570985080,824128925,38225196,326718842,480643210,839041560,965231949,373543139,780592444,22020285,370470844,123181610,504456900,251827324,699306246,777992133,974174355,278950386,897258690,396895216,54638845,351167145,23061032,49617243,46834844,150343755,692676720,853533973,81982806,936438137,105926845,777138265,84834685,488132133,14980254,612847000,364545455,309255476,321167734,101499161,655113796,225666198,819494677,975333533,466601931,33688464,344530017,205142004,791148480,660544661,523764684,251059292,291297227,406859074,943159051,880947432,123720087,462383425,983655024,489803270,469556477,382434008,280613504,83213131,760393929,403371096,948246372,725703519,767870325,738963823,143312300,799459995,447243498,506959258,339322833,243817379,32790017,156228706,315277261,110339552,174879357,244058962,667187427,632267624,785452940,191597730,211235442,329618524,77457059,629452689,7007136,117581166,485420650,295914539,944542396,526284784,272869591,964409040,332611207,535330513,752070576,25652015,75365789,615165767,2414812,449086198,691960071,904896282,253054911,714096490,566447362,684562705,64746125,291273317,39704706,379145440,337268011,620754779,481004836,30198852,719030744,283995597,47273097,935265583,194432750,228365477,655403684,980960933,684242728,188613182,130410627,661048574,275930901,584029499,959326532,467665312,740819530,705475087,303478634,712681587,741280123,532715805,674562971,156300459,966169734,609653770,597230037,601152429,562918005,267813843,848133626,223964769,868685747,412023988,566390756,812368440,292842040,485299394,468341880,693120484,953564597,810569900,200966010,255119075,171222461,180275838,766388104,142419531,113705925,285314352,693594499,55956723,756168536,168905223,985419332,54167835,679085820,335457709,222446608,917562212,428269522,208210047,426670016,127547559,812038481,848791844,208951799,422673262,470656892,188508073,740850104,986246912,570357135,936624043,558117045,657704446,31429148,845984110,907259070,797275811,419351506,784326550,268552142,704595066,185436196,616500516,876822543,212328578,757525862,918865197,390569793,758886661,528888765,841581102,718368868,616008456,817634165,41855292,281164664,583656384,711126017,858690530,415799083,151653576,865821981,215450617,53198160,692366501,262405472,563690903,876220870,624243417,254640123,856170156,804909541,230692228,777187120,94833106,652232036,723138858,724124035,248185475,124453868,837248662,662576660,553539911,290531245,539062468,241272540,878650535,647142822,777346010,667533589,515664262,404645405,792689391,999549892,293945780,41587280,829575010,170699229,1288236,630261670,473061463,945918467,866846949,162974422,390125295,883494150,574203536,559392181,462748691,787611113,285701602,171708477,528212852,645100204,947272027,257561145,200347390,733467088,851453320,829075208,301566695,56403866,580800597,285127216,716754282,764648906,648423822,55642580,633356020,217708490,566527927,740913808,124242517,572912432,637652987,132957458,402207599,357569576,26508230,272025901,121917542,24402917,300769378,326014555,952985642,381865210,927474664,131330394,427621713,818414638,324169047,204534981,43750896,889613580,815897600,770595363,962866159,499428814,864869148,497692844,289000588,960043335,5719803,171607646,268150149,676902768,702070780,289687056,526815643,302387004,118148848,929000682,208989263,534073215,844360914,596139833,247750248,749616148,554550008,397773328,273783525,663631140,239356022,549626303,700693586,80005784,235908618,718660954,440062845,225869946,724481834,241244765,524972195,301091330,358886088,358083905,63065676,733140911,722938883,288617628,430286688,295291528,419146023,861864460,510673624,719405658,377472222,493226170,305812496,30165120,545065238,332979488,619053572,640823479,117676509,598314709,74232818,548661419,783824495,504405545,563484559,166946142,409873653,584272474,128536506,503713392,690857510,804654941,954703965,210294122,54902473,989197806,726492782,34922065,796354926,114651256,584251933,417512329,312591563,863255494,41441191,544331425,858255839,43306761,974249933,554460850,790390342,260504935,427943428,411198290,631554168,390699905,252937154,833566754,613222566,603353490,823215119,675426327,564337602,600558636,402666371,627463171,630912885,452823604,408586236,699405962,868415020,262986742,924110157,514743703,537383921,597179283,934168977,727189305,109065248,131804182,794937038,531686837,723654759,201563996,560610546,87281758,804351323,487734817,613237128,286932149,31934053,418650662,576659737,813960737,335700167,154237894,85270331,944596686,963312531,239497153,351122902,653594919,833844134,329680392,540262553,452282979,422677591,563492037,400421082,668670071,609538571,332998785,234343949,737821982,545393189,100623730,948629072,434861104,201520176,840919323,417353963,7132717,984942464,775349569,33124331,137106774,141535417,383920157,371104662,790595173,237274979,780970953,357599338,210834972,11543201,254721624,221691270,934433706,104814665,674870803,831611135,727525930,464239355,249298501,615469548,36605045,665670080,599337115,989348773,937820800,328346333,353448931,204714650,317784081,191811545,172583733,750359159,964884134,661458894,194768920,222621857,637732494,708432345,610369530,648562000,589273098,722716979,138402207,838949640,882064254,847949646,418058670,625389445,897770253,790179977,264330733,359929130,945382939,664082876,729381131,553549119,430118320,119815295,969507566,964153161,551494850,265499079,462452443,826661229,753113555,767547482,267291622,689681544,393234795,244768287,76882095,997245922,902492184,487029345,272247700,598071086,960138399,359839730,143631477,874270002,326823862,672013072,278380470,911249709,607031740,683073853,118820782,921520639,920242568,609710384,163312803,816807845,855256964,184359852,369726870,566958817,190766274,229541218,70472407,902271495,326612851,969163388,123634652,389218912,442422007,788809692,423092687,174234731,128642995,435956041,374329646,618233420,559577260,394922274,955210436,333535483,57054504,566794788,425842503,45041832,89887651,791186949,311948549,30491110,656200845,139148650,154461779,650553919,728197458,403866244,963130088,946884608,758080836,936620445,667397306,835973180,675537014,617356083,251880770,778987592,687729801,217592223,424709099,403755632,935327185,412898482,450761499,167246361,580481777,463382560,656819988,82038387,974573094,426741692,828915443,291704088,758290730,211588728,482363487,175363653,537878655,788744688,731681384,717130865,470103939,695509798,720184001,558970012,459817853,257915816,106267648,917243259,780552735,258744758,591751200,438204741,194556488,225851333,975287257,414479990,583622736,464050928,712446151,690242963,149304612,497205983,309801151,970713723,616866989,744645372,639226386,875998798,768711066,389609319,971327820,113476150,578913316,643048562,799220591,898164866,355348016,942101261,511659468,995977986,438087817,124708433,723268039,764676612,596383819,358050476,467418816,700798394,209321090,576453442,477784444,677795503,963185810,899142975,452804550,101502655,528266544,642856927,688798736,758545255,880471076,874949630,889223411,390160908,98062607,397365067,819637725,443399925,450188490,325275221,730536753,930256944,267480187,797192568,412717701,948778290,238912804,743712365,15794383,203690891,565341147,894735824,69535427,710488241,928645546,637028170,563420779,578237800,780227828,631530079,43068320,810772383,540926333,896117075,24200658,755321673,846357283,234179649,426879707,326550304,653640916,295479002,585266550,764522265,134565689,797287290,586565491,79139243,765270747,882833531,994238416,202531365,306920895,382865448,294490671,582550459,371462124,622185721,413667081,208301972,774998123,183748110,712549686,411659299,448197550,232001182,580196450,607768148,800312087,331046374,998490522,624691820,356029366,417513785,578942667,358263563,946420940,613869444,595408624,395601302,515228674,753824031,446326082,359133999,335673058,496439557,690852047,681942821,644951741,932520007,962920014,664202296,492161796,653198105,879204139,56649133,977791313,423101712,895614896,552886269,99500349,228930637,719728238,448539165,910815261,165812551,845382417,113804636,699486663,816966446,417131762,305289467,660505544,963260861,410157473,621199123,24426773,542036802,472225225,53471654,951257146,165149231,53194639,706415294,324770936,101936945,586920794,415088237,982503201,457770442,695722718,834112495,989694758,710131544,461525895,132914847,829369944,162127538,103245813,340366811,106570974,765014536,276366772,101519119,460839106,97675746,53285291,964283182,369984540,437008913,854308814,654619504,948837349,95780806,648956383,249271141,525968655,362190680,396833597,831038353,889612090,168180362,307905572,573155841,310441659,632687769,227570470,915343400,674514871,338378848,748168325,773480901,136098870,378641969,349211866,657950921,975829416,501157798,185035243,208334985,35147963,456260198,758038095,451425552,637980129,590869322,991131107,924454526,328269541,106252333,972805518,722145669,318427561,418503371,554429365,772949160,112667015,543283444,206371837,112703449,880989087,424381669,965421126,908151310,818828011,284406340,92946355,641808778,90790049,429873029,845063144,73605138,870452851,371324495,296165580,118902004,915499519,179181068,838020933,654253910,561665744,982615188,274485062,398924607,649830961,947213125,658791290,240386811,384819362,549941284,122179067,134527099,959559273,104739902,964274229,369111650,503448733,325409046,360529938,461399903,547071890,618661358,28963635,379301834,35420463,809649570,150450663,281755177,236842579,882388910,675784401,192381991,427695125,936995489,785257477,917271809,114106797,175764191,834442235,677109415,979927657,927279768,306440859,450186989,625080657,110485242,143623242,65201055,166962439,13658513,588539229,155271149,55171212,681570310,220046684,246551195,954070586,448163115,190510104,797698106,803912326,747952640,38181297,26416935,384804125,376624585,389969129,666713374,126740006,258202294,615654709,864128027,308262485,116076300,931513801,523166830,128010973,463033028,180095300,818563798,167902161,594215129,641412639,218896118,854287185,830194675,404101545,735404380,322730189,600160249,651481783,206968491,690439767,334362264,331620834,135618087,58425004,810314331,239110809,63335010,741881145,34972359,511435992,953201255,108743680,35627045,120700737,237763923,836135377,778754343,426194134,34939909,434428085,337990632,396299946,426237348,408441975,558630002,445555833,938873796,35251888,478248355,177462774,810033050,441980700,570203742,723104352,369998088,299328287,943425238,908828980,376339478,595945034,602910246,920618409,925781857,102225338,250141473,951949397,103002022,82788474,847768504,961395969,656727469,159281584,59450166,500040730,942563745,711200795,987607473,534704660,497841292,167919476,710809385,463163212,233995287,814229325,805811292,390912563,819870914,338542465,558079226,409259180,26204049,835131104,511387772,653765803,859547459,324737159,573714114,497133784,815157142,97336278,97335247,429133644,472112530,855791254,186209959,59159868,825956614,987425014,852818467,353208658,587984963,732355745,193348832,430052182,436433373,926034123,728821156,398130138,291012890,20214436,362332438,719998144,54530573,196977473,660116624,464082097,428341641,380128141,710557855,301635341,514706203,994756451,386706253,187584817,602428711,332974625,778473934,184395549,454446791,720208365,152910686,141892816,520019209,362895460,614321687,936666686,875285161,535503249,938761149,938862032,976640066,793058854,412238687,357841359,147477969,785410323,42225148,997434455,840784279,856685122,977316116,420487860,805344028,614755536,425977981,714047146,464881023,945654903,458572107,739925432,806936427,114174096,87048673,968494207,692295331,569932511,728664202,672926111,520707568,644945494,870154112,507485261,632862473,676106884,14648902,318197294,393389544,479596352,824748892,263619625,429487478,967252653,376409960,83616316,550963333,475709513,765269089,227528480,837548778,398190427,118333874,463453192,215043311,866820328,496373621,306662887,724563064,177490586,610054813,249978050,974412502,348385958,197182279,757047288,661539987,352501064,331878127,725657894,799963273,844901978,724230120,772689017,48585399,248722030,145030432,304563679,409166099,348796589,50992361,407831379,547005449,782782655,135768120,368248343,839814999,724755058,650687441,894120401,626329964,210579658,445556247,328696712,56723809,56783458,506758657,141131590,645633316,448431968,231066049,885641499,784243709,638678584,15350358,310439630,430563375,97438612,630207931,789126706,481467498,43205314,500944508,843575898,213400137,858462052,807283979,338551142,88981404,73129324,411469981,772283422,235698102,308314727,83854781,87132679,574477422,878774492,649481689,196889157,110668453,942254768,946707674,90510626,325303643,287584034,274488583,473366739,727153022,69010253,648099687,612776719,185986803,600605339,235250396,197738878,624205647,493601625,801984229,204537135,875555534,546496458,836508787,695790267,787657629,845298394,650740724,996720191,236638399,556334392,452253310,164106297,45693710,71483986,760423206,241553762,282634987,34755063,952148536,46156187,383453066,23155908,604146966,820373707,500431342,567342250,170558667,307055762,525289852,300570730,936478037,955687224,549367342,647693872,887447154,805452672,677690040,137830474,124691453,509814512,875754434,740402282,547077674,187608772,520864204,497232962,380336883,463523265,597327036,77608459,26286190,356097700,571569532,218835144,532426904,48542668,493021422,697179352,672857972,502169831,294551154,86532488,694296552,634042929,506273927,184977019,251993973,349174048,725856352,945951974,525446109,748140486,864553539,947818042,815595362,981944831,742740230,288370117,720760628,94117812,679499454,254611751,74742782,493803783,491177289,632666112,488059614,417737648,296208129,665677209,437663591,351177822,673372008,549419529,289305352,259375783,31239647,88793475,971818177,622616199,288084681,71098616,68511296,189518145,530213629,126957978,424688949,571085413,857362231,790449797,647843893,266961667,46901106,684543840,703573963,155762233,190373290,471938349,243058049,717636994,844332536,779175508,885998663,952687032,112333964,115034275,778812371,694067807,977046033,532625766,460823154,747244775,170945498,471442712,613331434,993537594,141573939,98970816,256917080,986391702,629371245,548140961,362703777,298641638,272342333,295418354,479842366,102681252,533925945,345446389,877642876,783469591,260338947,96150680,392300139,667377575,311137838,53033071,124821386,139108925,588097950,709390503,1510285,120157401,172498692,900121293,473321462,257240066,422100764,934930697,846060476,439738103,432195181,560966962,5024417,218262222,334109045,151689347,771385599,4783839,649035565,123997167,886853240,360732334,478203782,317161936,566175851,627842053,101619661,242135101,949831113,790100058,587094535,721814182,495902846,920804417,31033888,140067128,266413925,219235992,206953614,251975841,892623226,788150803,212683935,664301523,446557433,555883560,986038679,247557076,582945937,654310198,429211238,973558651,189923620,790910269,853901237,248829748,127110,227161389,10438038,578072844,125123384,426883981,238426211,155331884,112285351,389209714,933170759,122857174,489302936,774825075,60600837,52042548,518040711,988060965,610486585,44949669,927408441,895301516,245298335,275158361,281097502,360470491,492740310,860200265,386488872,446262549,868412401,706735064,994031487,361199328,868727178,48197194,739891331,184024340,774305916,922591339,394409134,577383920,176824785,850737985,123313823,480060789,28058016,260136602,711933426,339100093,879874369,830036558,507258742,694692528,454460437,52683228,765990171,220934103,456163324,627772600,374361764,833443500,651774663,814750137,929800684,988832517,659297524,385710492,432154552,278482269,121471956,707343559,294850307,990291737,369291689,751571624,49817062,966010387,70738794,372981901,244161002,124530351,848808653,945453666,730628963,289507886,763236430,302847336,101614033,870136150,764741656,506721340,85589143,262686099,747904518,887569278,803824019,211198484,538568343,9580741,619767770,797536891,189144595,218337588,192991579,804339684,660974892,818396608,203635361,247777250,276733984,233320405,887514600,413207550,949275242,191968367,956285763,458601494,781542171,551865515,833215680,665960693,115081948,237394732,775825145,19281000,496926546,785754097,767269316,711064041,657964287,97438212,99396953,51059872,781904049,548864198,536400140,501540412,619911731,382676973,108283114,22392525,681378566,503900588,456264647,7770799,433892646,189571664,91485529,357686174,143311949,627574067,722926211,289225472,891496712,420610108,983157397,863784578,923779631,368129050,137720230,901592601,80485306,199713861,471209732,132577006,307001680,632091823,40372502,287158865,782519925,320651758,151807386,77312745,416708055,289689053,37089175,754642663,28168030,420866528,368564996,399950973,143147365,172349815,933945960,67153021,212697783,144882556,900758143,448634553,467531897,832266491,139800492,188055883,616030558,36375430,31772084,365871168,122984008,462797949,582200790,319611715,496523602,962810355,567693128,446354341,163789790,443075296,735585904,839900908,852873682,146523680,371544359,78198044,809221278,670393341,42154233,332138498,195029577,342958380,31190042,326930315,429558518,757208476,468260206,619378173,778683667,414797699,96487086,776139779,50556401,729784285,20428591,188599571,18998119,304630089,796346834,50461434,908834634,944217199,738114116,422319331,637148253,127480425,934412498,567092536,838124064,132724556,803921647,710714174,68977281,943563012,38893493,911550003,102126091,354757121,483725644,454278071,58297606,103195870,770878985,872701045,494308596,827033274,162181015,353933399,683638561,195275152,497677362,618365403,44135219,75219383,598112165,914213873,873780574,180678787,592555827,743037646,87741809,958690130,889095778,702706637,268945029,850127250,574847080,691803715,890260678,555837478,914133230,809565431,621891856,312492919,619431604,428617511,469442895,374189483,193727136,69771082,644499348,850954233,652435375,516023494,558069517,471594530,933843743,851275268,920607425,742322665,852855676,949654147,945665256,872963808,731777034,203682301,174039755,568010257,278107776,738876560,644248841,442051784,918426027,106044730,916727793,410416506,689379891,779185813,680510917,108674271,622434380,70371923,462819601,644436247,161998712,837422898,85321897,860547299,567972624,838639438,750847282,468303031,416646148,543071540,28613567,342792761,924953034,47442668,356698257,84792052,940912840,547772476,544152790,654649964,622702894,584824538,838762641,367299478,878326924,398409351,519255919,848887102,877916052,409478639,958867524,552980320,963717895,181266085,336902491,392784697,114447682,257446958,375814133,796464999,77699911,550845856,683216126,398783736,267936827,731375042,770683420,558668161,353993705,494447254,204189903,92279289,977099421,547435705,186492561,682627926,360708598,21801662,245227792,765946061,715221378,930643685,456763385,808983586,574989597,70168113,841853614,840406784,660809249,321426515,4519636,190959791,474057281,446459260,941391151,799595258,805387564,509092361,867976983,298850143,321178801,652022739,392740693,493278032,101440332,845654473,664505286,794182957,26598170,997014383,208085335,759191758,475972294,717261523,284875770,736265351,355001506,519460007,389656552,884695273,222662828,409725210,585979345,293093584,986399803,728491569,572803305,877550449,285466348,518840445,450549329,357020496,170285895,923187713,60100682,481880553,929975396,803006513,802209724,853623178,76196749,638115176,939838017,587095936,72197641,481098236,720651489,306628856,248634182,502837664,741999956,152035749,434786862,571213133,21876999,717687336,91397877,676178209,872600366,124489291,443186061,861469269,748515350,818184910,985944992,355825226,812329922,690307995,181831999,491114953,494857617,891728633,841914577,725845689,844309991,122423705,726626251,828269617,394767095,375446058,754841243,5319456,925136338,291147227,743268642,728318476,684954232,555529859,422555346,862964540,36191160,432711826,484338793,789957827,215818051,457555803,726435971,521144888,994253819,564404686,978806002,138080081,72612058,871618961,51691692,473334739,232427480,864100634,227546153,949191925,511810785,359357811,397601267,980715093,773788722,236034346,214681575,988055194,183553975,946175446,447280856,469342782,484523949,318511360,141017531,861964734,206870460,658530816,568592235,842274236,502121377,870732952,6406292,579698740,91790084,114624660,600818103,159233160,922331240,146223744,27933234,290968650,193380993,487333999,390913885,545214254,539486031,236292156,254342769,927473019,896980624,322181330,449069671,385085027,253979196,515932278,348383728,34711613,658545665,298350837,682831562,605113547,921042917,950223865,337007465,218953034,550191863,817053951,501110656,723869732,880120265,566819089,965531662,707018982,775057947,753272121,184744554,934983017,650988512,314867831,378225046,371225018,544917235,813311215,770461949,738208230,595989512,780316456,201221164,543481298,437950464,872359748,754961613,99763312,524988110,174613356,48468840,833231620,923172066,214139702,457655984,486142570,875081453,817230067,806791917,968034808,408168493,552123941,126707780,687148956,856694374,22108765,332605622,280256772,303752217,993840443,641952048,754818140,250930243,178085346,545813398,262550450,642041605,811072971,401501298,603207707,645818941,371572748,560609655,618730388,554668715,931653719,298806964,689227026,87252742,802733511,547708079,550578245,939517587,262591555,698746692,470683501,914479145,773500876,128823690,610279047,993601415,595502888,632598089,712583819,654027856,985198068,352982685,806417153,466039246,80570536,984848076,855443165,261758612,881163955,578505184,23243088,9326396,961830960,599222016,27099926,701076588,469038275,241674573,678464935,950920937,610319422,775340013,934159497,509922996,642056446,586982383,46230148,927248402,386780708,871910997,937415279,432864416,878658923,798785791,593426723,496229334,187277039,551033951,725831241,195159011,986929644,352714994,288586520,961848238,468587597,588112373,173657530,219941796,909082826,167757325,127134799,118626303,661375431,457155242,570973535,285369311,723417086,922410178,436033939,736335506,149905987,21861111,242374236,215766121,189803438,939031584,914231730,856945840,419863246,510682230,15282876,479081828,772068294,966518762,90926949,116294738,945587342,836843695,93703836,776798022,96001793,772602335,460754218,844195229,156630516,262922057,157121735,925384279,464321731,465109724,63113220,645182437,703381996,295081128,683926120,279699335,464548106,494208219,478255815,583833986,864803001,784853730,736159512,57803922,477280134,62529252,925130486,639978539,261418349,344175637,736318963,417198343,715512635,979740979,245819016,554395978,109750974,176111184,825305192,266992587,503307786,723829844,992329427,258613646,825433803,966695342,650679020,455971977,900523509,459829012,775343143,472016296,46604525,873429184,83272795,433934097,29597287,460215950,228347358,103522528,226100355,794176874,243264960,653237513,46437391,916176952,599987162,348009082,861009508,972978413,226290192,222649626,41772781,813210898,929228018,805339219,231683729,85880782,908060562,563870193,29910017,739951127,991549663,702045194,344392897,694561482,967920897,247639968,998416791,941246048,409091742,151262094,135660503,700538809,798056418,152933991,951599332,268335160,824730839,752700294,623293734,338313268,335910281,45672586,973237327,375480181,117646592,122826785,494455602,446741411,29024025,828312961,252464313,495608121,349849198,331935261,466496634,126852669,281922023,207790748,361589583,695805461,911195916,35361344,404833458,292356768,583117809,436276184,670828997,580456427,237891099,318112218,736889521,959778944,700624041,192630332,236281483,340242883,719113028,657582531,624074018,337824829,414409159,187202019,68296205,785590836,454975101,324090353,566891794,924277891,682059067,950112182,306027939,464518874,333111985,879122596,898613691,823364414,447416779,718826422,796091656,532562202,902929484,62154966,825838557,40750635,276221354,937507459,925482338,355791014,365449012,555674402,893428666,209679582,254847059,851158575,712033872,233433407,213852286,273701537,426105640,16376059,12644176,873187142,944309248,517165852,750466212,636649769,133756771,98794724,77535484,679473473,66842095,778098005,439123203,745983425,362013512,547761129,484446095,372257671,513065280,496141436,848155831,659847743,421795524,858808062,12726862,562164586,815468510,693839162,903567495,490672341,82754809,649100789,970235608,856409449,321008018,205465321,833261813,331262560,222421777,412347492,977010846,105616292,779750611,170609228,971965981,841152732,912416822,732675437,750899473,915945972,693908679,61246841,691970947,245978923,229380551,854528517,81359117,854321457,279565698,449933203,556331344,851160689,344750520,280077112,605047679,403244665,690435136,851751561,621850657,434087344,176089495,415972548,859483015,453128045,243558699,865025815,700948776,962863524,933899207,343740175,862360907,358918522,186525179,88875645,689690647,455740844,81519922,233593548,52443637,208658621,866423817,164471989,246558679,675548032,369359480,635507650,474657961,552671583,810505532,68637663,730248996,857082381,36672626,127108480,410753784,531078024,47916424,745519938,368479462,397189294,2045704,363820716,458713669,319779093,799067890,734566416,716314266,639324149,477707752,679608801,652913217,795633156,706849699,472130304,277894257,711337052,494071339,915449319,950049794,667194417,904673696,293777053,515160823,314271659,194299133,311819945,415352708,351856744,147099464,759561748,864539565,436851420,734170092,791740517,841012447,816723259,142182044,957329146,989210817,579230529,212751990,169255300,421921267,441788568,858936654,613585114,433207989,402902770,60973274,705769798,871056904,743014245,203410783,12937266,365178672,205613740,399259531,73547800,993774260,827249579,337217229,338989445,595209617,488282533,288403936,743631838,270763060,449924664,774985745,424992995,67061590,227450491,626678081,583522618,957957328,921264206,323979311,34037691,976291503,627153112,967860610,865190164,343914843,392090621,359231439,840014790,437848171,975697881,926260238,416420238,752059196,908874497,126172554,624540114,292267307,706557466,330258964,546722466,547618507,29406699,753917395,751644070,144320919,511924030,60157741,761227019,789669631,555905658,169948116,368782241,272555474,140775622,599223713,861106916,547533906,227394736,375545839,524052388,863450634,888406472,748696297,175538359,85339747,680011563,380689556,852355285,260687198,687670998,172581902,319574564,345592166,638693335,76083314,11430403,160701314,918522505,668145973,737754981,472194406,606910366,354949442,924813515,924898905,801703381,709830853,694445352,281505110,43522948,527034517,778788756,665314853,736155725,719634628,60236847,882970613,571697712,358602915,477803673,872374491,571921482,635681065,969673121,195310486,514295183,530036299,519678812,482789403,544928038,133392363,735593903,62724716,556090257,589649838,959868142,859370020,739962756,962768859,685330421,945549507,947467531,476276465,887139204,975682210,473661037,614143266,193237469,476697804,313366469,596230482,669115985,998413350,521822869,755269604,351316215,283211394,174015374,659378988,75301373,883835698,512933532,600382957,295310195,877919789,399924646,111095091,874398822,442675044,247707602,851846038,22546387,169032461,848817653,411907900,95293360,143265763,73237359,28051118,559373624,290307921,940553424,139237421,153832914,301519263,367895717,936254680,318091678,138999094,589392600,151369323,199724602,19665307,92345288,123634900,740428416,7949887,311652846,101912064,342574671,765927446,52805150,368778035,607612536,291526268,215190252,17692074,415035035,255310571,885978457,375120210,375988973,494999372,432211952,957780743,773416584,305280011,812546433,818256128,149623871,500063811,67861354,727738455,849757713,545048098,219663852,132086121,974425845,836607518,547550955,615915543,848110792,226099465,69658471,284341846,802138533,243760341,338289022,958243284,818434933,260008566,382512848,854479169,11227012,697893639,418629461,292092903,399869109,18849813,197200400,268650639,182477025,327281951,645756661,83800705,212788365,868463629,241182909,845603946,822384856,700671303,734798569,138028071,588147969,457763847,363773857,129477658,63989861,634780489,13362663,846767691,145755920,788941729,111552479,844514757,214654820,905207512,572220126,102566683,109105285,325950140,929065721,419649752,161955179,805223393,481716839,365173737,758132641,167003972,195512629,684445390,515371736,338410331,252240029,200521859,673743094,810924558,808480092,542727562,627022519,744498366,111405870,341960350,922059795,896445722,168893411,246388746,433237174,539919552,138175020,589651197,1551100,560869572,304143682,209416275,769378316,149967530,915033353,142684271,983317701,790663599,462117155,77085292,402535797,570942113,422542814,754202596,981295147,625009651,520743770,988820908,957564265,705271259,394477142,126740762,737430529,357666580,772831010,219093530,316845563,63164720,653967271,776603015,355897134,374086242,402008188,337716508,116593830,879283939,645197948,816182797,51665407,300876330,553872676,985066901,76965289,651752890,258501464,581278433,515143849,93183986,584906273,874160061,253653782,277932579,409865628,155773443,904004308,292772256,977137307,977556847,749151625,873074087,404947752,990270234,58875342,158303548,109609131,67877801,583601646,595755156,918885249,556315561,109290276,299831939,343914834,509437058,683149810,389098000,687014771,300092134,503374165,148957304,109637739,895581454,569534443,109039983,936997991,559724902,863027897,45187679,748478120,856853137,31579244,372543445,244950264,476589058,176312833,837962563,960478718,399585501,518007532,116066245,910195150,453629371,679287164,418892199,210301844,840056974,242152306,716764207,633087815,832057983,713200995,601065288,277804973,311471159,947632537,768979217,928038157,575767584,941354940,709447487,289867682,529882955,906890918,434298716,692214890,44378094,533964646,730956627,254122256,385380306,630655077,749572219,454121587,387116732,924727401,599004128,177513863,686685405,361788847,753329024,511697240,168094258,925339662,596061894,96479256,883162863,742139465,628941405,266991741,595125003,122213909,680059254,469490105,511865917,611058441,625897388,884214880,65236175,170160174,954725222,879880013,182197093,494672135,959392227,503211135,228892383,104200893,604406139,450446783,180528154,974430315,560045846,808424960,452641544,182450286,924071772,119574125,110491618,81209215,167025537,947128475,821708586,40620393,629579300,821989597,734494322,413113589,476652335,239417056,584528725,514651403,44407401,726742712,254015038,125585418,93134597,781463582,210314010,77138024,207068157,305506223,462135550,585170792,909908803,931617740,232970461,746507435,982243279,502506959,423454428,22560381,565960555,191633963,566951942,591205639,983658152,544991213,558904593,887605778,609838094,601032187,610049266,533776753,817911316,837539351,673266458,337138850,408659087,112594884,45652259,792006794,512179340,737034804,710528296,247244264,835298193,233630284,525472891,846374596,355950214,179454396,31446002,158795683,404846710,647372930,455100795,825414552,885220335,632260048,525939648,902462899,903546742,39345061,675498666,20719822,50099853,115987687,826414008,203331855,541676999,986292475,712794832,316898189,634507847,913348397,74189553,773497977,507622106,362176978,138872783,897409458,910341436,764506797,323364036,577881170,482603240,784000355,411051917,471915651,530031239,563257065,272294489,559189313,178620151,320173621,72080047,961399372,595768752,855433190,7531299,947188554,612096959,876374378,661319498,47586608,329064261,702866143,751166706,423440204,82752385,387875990,21969867,350080431,437524093,544381926,776298512,76480603,640822862,138721854,578612836,25512615,952318834,743193783,849499333,625443202,725921745,561503948,405408088,395836118,790809360,556136653,522092903,471886386,18166868,691382949,119958798,379998533,678701791,917157099,684947557,829939800,757662570,641400673,414643378,734141377,556808621,203079764,480773013,302896040,828169582,773283248,671215954,908344825,117444436,200356464,220543919,818207537,204689593,958890747,340875470,183712003,896178879,257955031,723161824,885230032,463376217,447618575,229800357,427429293,8530536,980689897,103674290,278908558,754724758,262625079,675619973,564321480,798706338,571637294,284038759,935715791,482293973,598615628,407761208,64200244,303718190,478293003,837710624,843264761,643826183,307402842,869289075,190033976,280145268,441311037,511272841,132060151,246573482,700803382,896599096,134473412,656994181,993038518,241815703,256426528,602358236,413264972,679289829,905557969,922042422,368581959,488945864,65612619,920460486,475425750,495714039,836151525,938240460,64957421,465576251,274089395,700419439,794125376,933363669,699016727,994644969,15624672,854746333,505888300,914649028,612122813,681401186,835446101,617139065,559348545,353109950,506462911,88734399,614112189,42338885,508666950,791079309,553284936,746453218,552617739,542249438,269347085,113766000,651827676,497313618,301456512,873297942,734999321,996479403,96018209,63934529,966692720,742085947,52477038,532616569,420472566,901835940,411394955,620270906,263780217,470107733,221443104,448742857,289787848,781622323,809547943,618825325,385321586,389269065,107965659,333924621,679668271,185061856,50661473,678059743,887465292,16095278,816909727,591511635,481702418,123689340,681012180,807650175,429356245,1279754,568536661,576096080,847756006,626070525,97698938,349820684,260634599,973504423,839279904,228275505,195081979,918701629,668309320,942895384,623818998,227491506,777957612,449207235,807769488,53487048,166106767,993161792,708891698,200639658,636613420,88023413,888978515,855421076,17577416,474509534,784131758,373286590,399479680,676321912,935327772,56815715,749260237,111900622,925256623,456208368,628880262,156629238,798879672,388968503,386301381,405585469,219801803,905131662,804344832,719385607,692825399,785502505,671907722,201986910,200086343,149606495,440739883,931027666,457032200,843655105,871009202,483181370,62359104,365765684,16746020,758397016,216512495,351796366,741677504,185975769,524626604,10213293,145066018,355013867,210868489,959762734,183651886,589986106,680742074,589918486,710544852,577752350,147929870,148890133,309413604,288776322,764063332,693352206,133065113,29120116,236628803,145926048,779629680,757152963,433850991,682275974,749346830,753897871,994430580,611372395,241969017,415569729,62895582,189481933,330284488,191594270,197739563,581225574,345599066,11859575,281629514,95911266,176296427,651601413,38089231,663694691,999189011,753424713,251618487,905050035,348166128,807794993,52103984,732416989,811232117,342060168,202342455,71815496,435045396,700786676,212413483,866573163,17299528,188239119,975964672,477133332,354164299,183779898,405559555,318273666,34053699,283004799,811224834,3401677,485243941,877294203,418339040,664290053,280782670,549926557,715646913,409545632,273227745,917344381,65418484,677659812,78922727,22938354,79317920,448601936,875897814,236247290,414212489,546656263,72642611,575031799,759162806,869098602,561630549,137640408,200937439,600859500,532057964,618568043,40918620,724476387,270260273,895700118,100863013,94058356,230345711,595396624,419449550,84877205,936314293,712365101,691649615,657992499,534028008,532588142,798395599,956671834,45743401,438237200,987625727,894436846,554339608,651798105,683889250,197831580,152390193,142767806,137868474,674268985,397025052,657631948,714128152,241911562,409404553,957534697,859139991,529069531,905071202,758094903,601170534,501214973,548411796,388935366,471989350,349889694,976960622,301222451,286800889,999054869,847301070,698955620,623615722,124532045,644740216,154681383,139275304,789477542,961774682,530469384,785307291,857436276,762853916,608165856,39198288,811535157,116655239,357510911,905970711,390588906,489230485,485559162,442987811,98563656,730845984,519756046,206325838,650994561,870626265,871437894,869221334,330014235,214821044,142381929,8515907,593709737,229805174,664731573,324866920,362741695,72925860,484131774,18924281,109841679,730071483,942752919,679519950,712911581,110045444,179195583,14226538,840404154,275484087,423656828,782028220,355503022,549475665,583482260,937156469,381720042,46103885,521616382,385025076,164435864,334841216,541861690,721498447,586669257,476970051,97088000,260575867,585665263,398948105,308660964,365088195,864678078,384937761,704109372,509916231,990009351,388682455,635876298,725475496,702076489,583187832,230194088,811014517,165809669,339829496,96894242,498309415,659042943,785272697,741134630,529026553,93886592,266883215,933885434,254446964,896956198,20359402,313540455,406039061,452256602,156331713,963545038,320223010,216836305,524657862,369630691,622145896,515369370,406010822,368930864,868415025,850639763,711405517,77065845,494998800,487358625,949059669,725237695,972645160,270827607,697729036,759438134,383392402,142124980,696393151,305621040,736869267,669280204,448157558,770075049,518980552,816735154,169279654,308891002,711494786,572114965,14641727,885107336,589909587,154651170,981324640,185430420,130744009,499852981,923929762,62316303,609555108,198321340,19964337,298273116,539191540,494224870,359924353,43139953,646664489,702760408,225966290,398713968,58942267,732727357,136855554,819468799,315639581,700100771,275017636,952745412,922178777,677318576,398807872,454451767,320538504,244534724,338052370,170628700,221834354,981840326,481174849,830566917,426875898,635469665,660444138,767885747,761762362,873911208,779145530,172755275,764924089,630246148,900563299,824367887,597295462,601373194,738783472,385161552,918856484,310107549,143429449,10032115,722081403,183165600,662188761,584264007,276146038,767075685,977162504,603294615,226233729,655769233,229698519,878515406,754006887,138367339,759299401,376061188,169576541,54144147,988500096,675671189,412511457,843422726,61155028,545609363,924589023,564155294,167193213,360036090,317717389,415810202,495329853,318479059,939790916,643638871,623131101,269035867,324302912,429758682,919773649,81695151,587849090,400055228,641794032,604833260,212278064,240574975,522995886,326383881,700323678,491969224,812308735,925039498,160317613,394071250,2288789,203270277,20036580,518211198,144398904,798140179,419770147,410806265,405987209,548307397,960243239,818764947,351576453,148983208,579363714,841432570,836520173,55424851,605473393,924131969,343151117,157009462,361763045,931422840,326609052,489822313,38446482,782640043,699067081,354031629,236653350,157140863,320193808,90439979,998700770,470060796,94978329,320891572,304498558,910751358,801631162,128064093,656302139,151129341,241993719,708656275,86262733,40352901,815905043,709425612,725077525,844987086,341303361,114781137,476004337,903958934,814128418,396851500,143583238,696848371,853321368,871384208,744076438,761024437,436905598,477462065,237348710,28838277,208425253,575494330,341727440,692496833,426671235,251378824,968014949,944591242,763613068,679466628,123312415,480571104,949213705,723772025,435353081,385407490,167649663,490915014,530589218,685635525,503419157,214700693,297761183,627360621,219150853,938505307,533795421,72373366,268026327,369298663,4006659,577807343,895837442,15067269,364325443,991319269,428138748,417903020,481706265,897139052,273991385,246869085,904125108,812107992,434628601,531842301,996051314,171633087,138967584,948994900,655839650,372703023,661746474,358409419,742980825,138873026,876635750,654321847,691315024,769547435,331422682,580633549,943424296,837524884,433067178,449768039,836373518,132555790,206992216,33425173,509496369,103116505,5940506,704369605,641679497,216841501,805321977,998312053,718384523,287594400,173993989,973085641,385624978,424963510,375097272,590560540,66234074,540583917,364637826,628339790,268717985,511771184,329236470,928330788,354335732,10618207,453755887,455031803,110639751,772740849,921217948,122457680,871537712,758921372,846420036,620483060,811653167,980127566,48882694,798709751,664352639,146590101,943667989,857148129,301627052,563526911,748949691,627034205,175767944,845383943,545113104,869786364,570582138,43171057,502929944,558877338,660178281,547555701,20017996,261484528,371946396,858541530,64060472,353209512,823835599,425839597,327210018,98797688,245326518,51710342,589404303,631995081,651293011,988684413,689739857,642542014,619963815,862024579,625181536,957091675,695285012,954949295,99582575,245908176,91872581,176902848,699792879,404595707,910404102,15349913,326611447,712683653,212402448,849488658,683946725,321210654,740090547,316503043,119801930,531922377,517924278,197274956,16147850,887856313,743717444,726759936,955720264,560617387,566331294,333094123,402053997,239637612,485583637,798248521,655897847,168189552,827487838,948414802,243034302,783006296,259145408,854735910,972941532,520474026,880281154,508108339,573728559,384037262,17989235,910083143,134212427,818490856,363750654,51015103,861884693,417256142,866147534,588444777,356508048,845070350,131789048,982694708,64288535,673853700,578260644,598564665,301930724,663199306,886001629,646740801,994995853,575696053,653369074,924532740,243630933,487958753,2466732,40757900,475084491,474099236,406762100,9743179,875193563,200428082,487067023,988866271,961072043,509643275,803845828,367935923,472714409,265723951,59158513,591821859,342156558,514012377,551620798,284326614,602376246,614619369,353375837,1708716,819532045,371508466,919017951,496717436,470535363,84428694,895604156,195289273,9449843,170568215,286155119,849315746,103014396,681872240,21252392,482218679,845231149,635774472,938803967,213600578,389718401,574690384,316136032,429386088,991897462,170319091,19028860,852724998,17918756,500019041,217329094,256448179,683575051,955458923,580878684,187298750,568504908,550519907,820402284,315568730,17875613,717893586,793990704,960066741,948940493,918029549,664143642,116390875,69561055,950767607,435659476,798992088,844062804,317724471,449641408,123690855,208052330,865636322,156232306,866942926,865771631,938407275,21698316,685101490,630631243,808621007,169158204,583744335,718591238,132738961,773662972,763750936,137537351,245880714,941332226,688667854,97630152,646107699,796232958,145550994,554479869,321086058,270326734,738053986,863625593,787730687,79579761,815579195,303078300,869048974,516475790,85347921,286802428,455512768,509655841,875388170,19643750,546783315,30990661,791388739,214434816,380048455,485869669,709790785,956141891,33566747,609570338,331374300,142748503,304163089,79996286,225957265,167162996,956671094,959853095,116286238,535008612,201362767,396777829,316522716,132873299,837161624,470804609,52676725,454505125,818608435,192227867,135927626,558691805,522091308,789197126,46972629,285968041,495329543,550256159,768235489,185891775,516673319,532599106,835315599,990369188,908309822,946425834,86658013,571626349,971702159,364515173,252952236,679722796,733181617,361529625,806148862,663524051,767478389,212646420,279053975,148195700,484086005,441261183,13251361,363355683,679876378,432767766,753899911,611917140,838687138,991893840,470332130,751980759,117341967,389373338,108132730,780807890,600698904,937264716,404897383,245154663,575091726,77665138,506238701,343731047,8676316,589951162,612679428,75483555,338760140,611956796,26026006,872438418,938671011,367324530,378088403,112700464,108782458,322116355,785414603,637733747,49793259,687276653,71784489,33956116,243159778,671929655,592542136,884343901,914861779,416684790,392610808,748558978,823701881,276037632,356626060,659287621,831390737,10468057,122925042,884191743,859669912,818572913,857302141,425065551,634408005,75975840,826073823,486689750,448767927,501210146,926044925,828593601,181476029,14449714,991700351,650547932,619436647,128561181,574084752,589239929,326461556,992047361,113127609,476339910,857197537,843016412,104260884,706887580,155068698,671679269,464114828,341125538,932354421,192230245,156355418,144918097,2775853,310539285,869386703,186817165,723667326,363244181,730488928,414444618,418122612,419365607,619716658,411048801,919498618,910796700,63903643,239029152,593843504,758493253,575887201,289270588,369752236,839219676,736061015,106257219,588479677,652303277,789919510,293481614,212732261,946785668,827522647,459961845,692263178,944983042,704739851,635903146,910775833,729519272,771195394,536129372,925058089,654461627,975593300,857102950,21203788,27243752,80569826,715499478,587974568,288394769,755378577,734809059,956547125,273933086,370588836,617645737,817566418,957637532,92302064,235309592,168303570,971509253,332396618,388310679,593524889,677109427,796953644,182448295,678766686,205479962,743254286,105670881,528753337,30952219,284595169,4427251,577403374,889934065,901922158,309506178,178512904,336956314,872090930,119134175,460866402,217280448,859990435,92017690,877225804,667073138,20870303,240901361,990346798,983012412,176302834,82027863,614895129,816679471,558820450,613783729,928354769,260654287,65993375,974485351,746246112,279136198,275886413,296217638,738083950,519300744,372410230,168985146,123831909,575056586,293885432,243669336,513156338,430787642,647750364,328262309,602219268,245576445,744005135,530249398,216001610,669019988,882774575,446258606,843535566,268290559,915151562,59655802,208862385,989004585,309240399,553059622,33520168,861985716,174366349,673931857,468941610,311699725,532999228,872457306,248913843,39920431,295939998,140637574,382357113,761777486,450253865,42694469,683800690,214085893,392612869,871878124,108507158,719137644,118359909,493313642,113476747,620469747,509758671,491135739,641677869,41532508,485650527,473601482,644012494,10027803,911367759,375750655,927581599,170650034,610327787,151318940,682639893,643590436,87057164,881184561,828682687,791902129,423891765,93465700,48139695,411334448,475327090,696954019,767546148,419632696,76267015,960204088,724242978,248815891,188025764,828105812,19003950,227840668,247352643,199739015,213552556,822488718,691254887,202179322,429864640,128816533,640216676,519532081,259072835,972289745,680001463,47186223,984705553,438133922,925025845,144513332,627590703,276246924,315055833,793226925,496367891,164531160,902845220,244887623,577807763,114387419,962706599,614202340,410536680,339393468,692307629,88022778,965147803,555390861,427333908,763265773,772156472,63743299,282786056,706615607,11278875,81780248,982683012,576480446,422241314,326379145,953404233,759880808,955305820,76676037,200543032,369940454,368002365,157304175,90293308,66694911,696528483,589212455,530129952,765158272,790599498,608545916,998262106,565998098,854270957,805801220,32943,482033908,617075286,260411664,538363230,356307344,947574405,607095246,519474041,67677769,828380354,993174553,880408800,327707145,856519602,868299769,962505399,902973750,964228142,372477249,962965650,313662248,653198586,154724132,543820954,648811785,544970805,994684052,10045776,227980150,585948481,207480882,454308262,384962481,136304968,256156885,791100201,999911312,523549216,178230537,867429536,394934154,579841890,866506254,970824798,271270559,413867202,344346466,644714683,859426829,101958749,894812139,234582899,334200121,277773178,536800749,704436367,978675738,283852362,24397410,734166934,865313531,117309190,116974240,585906454,395583767,725420070,300305550,714534048,857441275,335317654,928172679,113180591,662509598,393558478,850613208,174030230,817798646,33118364,672821132,796870604,784581726,131693441,775950366,931598905,317518924,780235940,471655416,143204014,860586750,635047893,414388287,978025482,694031490,985231737,263453712,592468145,237092472,770898338,235229408,748038078,132604008,670061404,300449174,589557133,208194887,262571122,956195233,705693702,513183669,694055692,306977404,196926269,143433977,608170247,763676666,421244428,123968282,430386879,903450643,806679183,822620369,852750895,237142222,725516086,874109429,42233713,199548157,278805707,282553591,561695963,116981433,552671909,916498001,134214101,807385369,997106700,498671239,697329340,256256742,199631553,781809942,567910419,918045749,930215035,809738365,316027713,41514243,949975005,554751546,884976481,61473618,791792278,703755542,905252223,31970137,152533570,982252354,630458630,437450628,242552342,646046746,692302699,892143325,510948731,632607717,26728852,6156784,831465351,786926846,436388729,193129077,190901788,529121025,744048108,901151403,63711235,871257968,95106240,52422464,258296351,35585657,633125699,580764706,563359258,724918283,56699606,965586413,863278174,28802156,83426668,11971462,422157706,874970839,982428754,413050735,278313675,430893600,935689475,710120263,95271175,35036956,645328768,291542104,697004991,811228391,95721087,169608552,249946039,479163317,828289422,221542088,149713830,970436796,47576644,304519568,706683751,552928923,377036609,909499193,626126582,790710482,498298045,128624021,823022812,726443974,614436114,236342599,654641789,321554442,787277211,203930314,507594408,876115096,995076105,334202502,784041,500937083,349044604,785098005,919473440,357911665,382316777,108007785,785013389,234567706,452374451,474293528,616665423,718092962,210646647,109714609,631156091,202761331,368755677,605561453,291143014,186302939,430685391,77738724,138849003,197507170,432715050,533858028,120985727,532133354,824728654,553835483,315007291,659439017,671407659,780318624,890856294,948667408,776371359,66653247,194529595,378321845,440906343,664976597,10466227,867152354,717676809,703379601,877754507,688975452,765406171,520541064,162583959,576081026,860652644,312355607,557996352,52682551,435855876,455035502,924949453,917060124,698159037,735868069,824668224,909048318,530517798,571907991,294744309,492346295,324721533,405235284,392641231,819829137,616380846,115157106,921589954,250395132,360352632,316299032,66493890,962958870,113009423,716401943,902902611,587677695,394186204,778442465,173585628,672616331,839535789,132884274,270458570,518065287,549289531,774335048,606251014,766266706,756951895,942837167,54683045,313683471,667591435,438092189,342710701,358320587,93035792,550652240,667753919,86353157,45947514,348416326,625059008,251607453,779971795,755218592,850687678,259921906,575568404,175527734,574227881,310225517,289557514,6251465,966343938,31739696,904426063,519783955,102461886,682754278,138100851,500279325,960987031,648670298,927825332,762315722,739543618,74251450,766508851,644113399,413824655,372742450,831583004,10763101,519729706,87304191,108173147,453425106,270159791,622249224,458472123,385662371,111716994,165442646,409548309,428084047,502836437,676241906,175781504,47526269,901558470,731729261,317849134,689110518,899150607,884596671,691020131,434922470,29472547,782360110,322548707,194253797,307847044,49856468,573627245,305695370,218932322,538891338,842790008,856527116,753074778,686088276,824429586,758600123,257073255,539525141,970958983,545391828,651752441,405345390,341525114,638361771,668024149,527187836,206983611,567111966,637292725,762838971,169630174,202727108,75185433,872448251,755747427,109953733,701441611,613841029,592409007,26441222,853630430,718746311,66284988,243446468,173523361,359390012,361107384,813634800,181657674,868639823,472648458,367396786,548572327,873565908,244841326,836405726,524764794,155721142,83573121,138660669,82154678,935032446,701239760,33596044,940684132,703263546,952378903,210338693,432704793,835219382,887080639,262652490,633321088,709995175,489628660,813579446,684028594,809542434,241466113,702482276,688961181,448042600,164035944,191070552,289229161,42542454,571762985,85993653,902821044,318556991,762966874,421543286,896678631,762942521,84592754,700095688,535102590,282222739,422458421,583157343,576384502,105641105,265361763,142091346,998011358,887482465,923169847,961342796,815911454,905474466,864332291,217574371,883754049,263973492,129153051,309662801,919548355,659847920,391774279,598679066,500070016,704520310,193684838,553788509,624726986,140397682,734689808,593922355,563081153,958368721,483879233,784368105,237723884,330413066,493619937,327272956,656230374,643008704,49197952,97303575,648888570,317866246,63587244,885599197,511384239,233775932,961509645,749417004,72237309,674619619,895653321,139843315,581014373,149974540,104313371,232807308,885388040,142257101,46794474,242856872,701465254,773032022,77392269,444433656,771381166,868925238,720460048,610543101,716146450,73967235,499499066,675535655,943129423,91579926,483018079,342230460,782501965,757123805,13607916,450993767,90790010,552583804,583919170,62216004,195480666,978029072,392347302,237557626,572564656,401137214,944959688,921502936,29536514,966907759,477664518,831610776,869280215,217980067,831432796,187318369,453463818,970220964,739737282,779960452,63674042,598788824,491119427,468678696,287106882,559263555,768836286,707159513,996305658,83949513,601076232,748776812,118383857,383004426,52421,887908082,392258176,537528441,820261138,763206921,60790955,593805624,733024017,916779563,284362683,566668993,66758045,317861911,138328013,49192377,685275231,298180856,333814766,401691600,179017833,733836303,287151682,195061502,69649099,184253228,213261641,622013432,851616502,512234018,683914537,620068785,601180483,950483857,712160308,773838591,678953625,181016315,842239749,331248475,304327976,508253215,739671688,255904334,212894118,972465042,811990680,462088359,837219197,205983855,99576746,843553047,552585355,162018200,729656226,659302431,110022950,188458563,430098030,537405367,235649237,130117820,614938535,549380100,299385364,331472974,369881672,908966517,3627307,700732132,851398162,725462991,577357930,813758069,854724288,324496310,586592784,520852055,159662889,135473363,840922080,659297830,445723408,193746614,473569058,607223892,781573102,156556931,790370045,931725586,183939973,497335564,207675875,631739064,253315631,631958085,288939731,862037958,978839147,912236574,810872997,22253763,575939389,437659110,515070273,628251847,211253457,942072940,214767457,305684785,127294469,578545647,690570442,7274872,392240646,754687063,143389136,772339368,499039411,113648722,486118610,76686593,237581318,671124651,156994206,38922189,512295760,759597336,645468874,639514301,195596003,904523496,297123069,60578158,405357890,95343547,835492343,327036291,804693669,623993402,504857124,231157950,663588677,172978624,114844456,752220254,801036860,707924360,669731475,392591064,397024239,347393842,132606184,787723059,542431980,397705404,632350852,713032043,699982544,837618397,585617999,732632293,926568688,363810773,195856297,937763120,495728352,590504611,212177710,701563421,23957327,236176466,850720093,987298639,693910845,867546443,735969456,423789350,122049448,944534172,51015903,223237797,518766113,964858035,958288323,690594072,468037189,661520264,400344422,274430909,404510886,963243449,899184219,487270891,526171022,278175131,70691767,560015264,343072073,345390993,968580823,347991455,533257172,168443611,805002876,872311845,493038003,776035653,685191730,529704211,436959121,22488512,728032198,773861053,790751208,751308007,612536778,621963842,635212226,576791640,134337469,94726809,160566734,705378677,327679906,184287508,261742791,499401827,4686070,246953244,610490724,951367853,970704991,455547311,822633915,550667374,478491004,86579381,256286231,111632169,964411940,230502059,495253687,532857074,730519917,189385507,214881073,137032666,26228860,230906660,224423141,202340069,446825316,434713383,40317727,823567244,319267684,239670844,809417806,586437450,560065769,614156998,388898177,573376846,951756556,826493414,587200735,676415242,62006722,568922839,617451059,538595382,188046764,749168830,948093146,903733018,701816070,323239401,6344897,431400210,451006977,635429959,725544028,412094054,427728245,432401713,33089481,823811485,64979688,223631522,582491322,671601121,63495972,858588658,331416522,29007537,801659043,653385797,913655917,90561861,792878890,500552998,250374934,325715522,815876669,780795609,324002775,580686668,956082256,67597352,899542813,277527547,28484310,480250447,174008662,178674930,492115647,160527912,959967996,772805942,700720304,419566007,925112296,40508019,468912419,272066397,232068118,243843112,723820667,893549542,790109258,472853612,557630918,398111448,189222594,283734166,423696849,661555683,173533132,922970125,359063065,629584652,284154636,273233972,577485634,756372686,531849889,822486612,52690859,118249549,964867623,335255019,603645846,797570093,418548358,759626120,707760483,979118875,281124973,623383959,976051011,714148967,155777022,36530442,395941088,833613429,734148097,449782105,435197511,847565129,80996073,496310553,705447156,772621976,345746965,551192481,199866928,761089909,24150145,904955637,811173969,173392279,234373550,889610609,170775561,689594334,720017335,419844129,223593092,501980189,892164508,438792692,851356641,708071414,746984058,103409642,405522850,204799357,200335278,772223179,553113253,427800142,609208046,436817057,33767970,596800841,4764871,676520206,743273315,710705467,530782735,354240783,998826875,416833848,958131794,692422702,205342324,682463169,492862697,788576832,979527909,184233664,81090386,315646254,949756328,734707205,93386855,255296827,928582377,462958672,494304015,254560463,903446792,839820633,537186980,949326468,579010904,142671274,471015494,221633024,453439254,252687551,303575560,10109288,952043891,440811565,830711732,607662630,535952695,775963278,258704574,854632238,351820795,182853358,910972763,720900978,198147827,90221129,814581422,415269405,61711496,91948147,78066508,590264398,866401741,805734,567379482,567452453,939908187,8485545,447009835,300700070,743536825,413225971,539680490,30308891,9390237,252274772,93827506,33352694,581797855,819893446,848085816,955993286,899339307,100138607,529493022,198584266,887746426,33389672,197570678,530432580,214824702,518815869,700679792,587583406,485244031,96285072,149116005,397197408,482647852,945473015,490717462,39471042,518681725,312999963,2515135,143297980,113357066,744760438,511752334,441783839,95661723,651048208,527753281,776288994,129903317,619472683,323960736,188309438,665487320,919739110,141101850,824953514,625698129,953802542,548797370,943773799,590549308,946577527,479678524,685032440,772583871,86607354,184906846,983735760,329227713,871324314,336944765,504858813,275480913,820936154,752192722,440334165,81354874,262611262,876925137,863563805,139797971,723505496,701280123,790043878,442093585,464269281,386360024,699655180,96782847,483320330,709178974,26345049,269076969,764676842,215188566,449503773,254352813,684955775,748660,645579618,399391031,439780395,954799730,344556576,307027077,196387259,629125021,292758606,362746788,296478795,91112970,105837366,266523431,758119043,873698189,22027010,17566455,597697558,205721898,644061868,274418953,626434560,481522842,993323111,784707083,635201981,36477736,690319804,198109400,214716311,789910308,726326532,627253819,386772653,183607429,666519283,24930916,169799420,198081,877096770,163794137,845565929,751566411,75900955,906449198,671678683,159311239,254060557,550279157,130314626,866252046,521292280,330311007,860342859,118281575,803291069,646266780,513635786,812378080,802719789,717048725,178473572,436490009,351874463,673584,690718666,155426772,989622799,430823503,336805389,295437248,384194351,152723725,698065073,663114315,894453387,349560751,683100898,831571352,802266898,426087125,897344882,409451852,94535419,223392531,281185225,836541657,333921117,623110236,632186203,923587036,119485461,586760542,153929277,419447234,350101031,883922575,91230658,942791412,527194632,818928548,873243425,177548086,154016570,41030550,658240579,347868112,4598561,484356844,664407869,47548423,987042878,164752816,680078651,224001888,843588344,610185707,715869312,626219698,791988175,656364160,313152448,249574664,356668237,851230037,976322232,637944287,60137282,475085916,72260792,990875606,222013708,53003221,61346633,735491910,326092962,926397695,214012595,468204904,519494949,361561335,476981880,25422989,924195473,145677774,81157790,843659305,249091440,834659582,798684495,509105793,199016716,526350094,415872922,616510036,972106342,777249170,201405291,292224691,405451230,88405362,388151443,524256221,736166594,395023294,28199628,432528539,106648726,672180124,752480081,128406773,91538282,857042737,520036042,569515808,717302969,869884156,535518356,817320362,113086045,596604325,81828436,934488612,254595223,27948373,534506225,41580009,975692329,117307500,872540307,486780767,92213021,877996348,523612898,309890016,166668946,532522760,343049873,893195618,809913603,916375284,274578934,940600408,306183883,636007544,74040130,187545536,415101300,194451355,11139515,671652605,704777043,256981547,972241310,472706546,342514537,279186775,491310421,870984512,670147568,672930528,816832873,739426890,347308011,85650065,133409430,620324711,759969185,609444158,550756594,215289209,143002980,167166074,463549161,243340212,338463442,342907591,20222531,195153303,653167281,888324686,679750238,983050967,984894877,499367712,332439619,881954082,585219552,658525989,96056644,557900146,374832332,183463106,925266241,547978143,223063194,939055779,630992746,753623902,93446293,648082446,645527960,850679591,726616517,131915935,918271395,652874454,503188954,225255392,632618619,231042568,38716913,499842809,66004533,972880310,602801361,667090574,721963912,417811260,586615407,255728270,366566497,570315869,929773461,660837720,380735349,977064307,767735683,177727169,211763316,848288148,327689203,616545165,570746973,491783472,906306451,783721228,943872466,588572199,416869421,428375595,542437945,477063569,978145720,607738682,408923338,660673365,800140510,865680605,11947767,110604291,617069640,657665394,77621843,54228253,485058142,177731966,667473631,288619920,80898877,253570208,329630765,996706913,889607247,126474851,720937096,627836441,623348807,331322926,83829632,324028778,660048157,547615023,89648746,823005129,747678111,867675992,453835922,440656834,476363488,461283282,241999443,531588172,710758464,144511801,190132883,574443888,163450510,885663224,230503639,492171775,891701750,792617739,236499404,150379649,264158667,390108125,368556046,444534063,576511872,39265290,74902079,100223163,783328481,978755001,325927288,587207489,438283469,951240054,278256878,617441007,415051426,138927183,974916684,227364988,665591334,405628589,667515364,680052080,569178648,226399872,247530929,943058679,979261359,672518835,210577408,639663349,867591916,887951891,42756923,153288109,27161667,670083273,152191564,487627135,434242807,554410025,965007944,379437107,722475498,808615368,823077737,312171886,920599342,995390805,975077988,372180495,507342292,702267107,400858740,745463033,906900696,806637327,712601198,173087051,155099660,893723686,5549992,683875164,434162147,889506276,214256845,426809451,364938326,783534755,323156350,605948547,193860205,254362014,305521022,90811556,637577719,453778173,46101792,620065012,284196515,668637826,404230412,798978120,722048259,803368394,120948153,229335699,957595838,227731622,453034152,237184845,492555360,268974320,113750406,5480123,275438046,154287817,978969491,366771320,152973017,269137093,546549554,142226894,102470997,720636118,579459501,325659405,84503733,9552419,946456362,358869321,272278078,334429315,439003295,606846883,540692015,200421011,910295988,585830631,747216988,107434784,146796000,345707256,644972937,109390986,693578615,46930772,448281058,909575862,374251740,90344076,434647053,547147604,730196322,693071548,133571180,253933445,208660065,504680122,594005551,484234211,852891344,999541326,841130538,821302772,390643933,608795356,214640986,784822876,737456947,648741302,363579130,223536015,671117352,116052834,40171893,675623039,220104351,219900464,892510054,426730758,863825138,704335387,185756859,325141330,277920062,724347326,768985100,270825660,989482511,238752938,877739031,984958891,650917179,206505345,236798262,810584580,445971656,534390969,651980648,152200137,691849499,52063651,96045033,641341167,806149088,210802169,721719129,472863697,205211175,924333662,475681823,540353804,409768800,201461318,642043245,108744005,238133043,74815838,862612948,156466661,38540277,319582935,751856987,365242702,482531810,692651115,2824662,691990893,734733623,629748932,715474935,35996283,279238772,674459869,791910864,406701870,451369465,152972692,632290663,335423035,91673458,815950693,920016630,513701976,229207380,467548842,504030058,170489797,100866062,270136338,852169843,334927451,380584327,347605567,639130840,481400132,55977124,976939445,412336105,564794899,901325586,201580353,30071800,556189859,886468247,300832040,540004488,155784211,458422390,449926304,389900350,613866028,857481986,211321735,290322356,767129811,351385108,911677071,147796389,417456060,408700222,493795415,193189052,948934518,378185318,190158152,112734732,216342067,44369468,816565966,67993657,279743338,919446174,818052584,769419126,649522349,695452938,635162411,675076432,809501696,448334718,479132653,114226051,118918107,649284131,312869190,297488036,817110585,146599709,538588623,646621646,750694158,572607353,910834043,779334730,893565339,28752768,301857021,326076683,320183625,138877205,712892174,951988950,683532463,944349040,451194928,794636551,195990576,564944757,695165308,503621899,823180409,105403677,372978477,758643552,415414894,703188359,584996680,558964318,794671484,525555509,359934244,274442973,774951283,602277856,259047360,949147159,624065985,520440647,239846622,232616112,192678030,880550902,517218654,633981904,830243353,223703743,241747564,398581890,155750679,129925512,38903622,491572898,633560868,307364437,163940922,799283405,718286006,421596310,832548439,267322915,125603519,491247442,712538071,369583183,396874177,127180995,3085671,968642186,597672778,544809743,777806019,784007724,329919014,875684679,816290065,570352526,417808269,46038507,109281357,220061435,759692461,86890641,322664308,654166237,916632462,909237195,216728822,583806224,246424863,829994101,22485480,294571609,784280161,13147767,627445597,962781290,892532542,565758431,399749834,418991639,736916123,440172030,538215145,260642106,440493940,937256995,340907426,582793824,247237957,422728238,394513844,922020994,642478973,427189187,452840461,209270990,753620125,822010679,946533341,936472013,479357433,267295214,707318871,397221281,396238211,155899103,200129931,289263036,304599780,78869605,699998659,560783770,317894697,343919303,272727254,350486703,292368897,159323379,192701904,701970711,739670647,864975537,575058576,323418899,727906346,587000660,300377225,23461787,822484522,929705675,178197778,785956612,589626096,746542397,540246730,803610928,588647404,97410213,362693367,805892714,983540642,222060859,233436091,127021866,537127770,716125192,435195247,790209325,863630232,673344790,660365068,932227634,749330652,855958111,276335220,441365019,364955095,876799730,200879246,591537245,700311450,927105621,813911318,477036914,15601837,739523244,566902696,955865221,629100103,15487173,44874480,648944393,649320247,133878032,225504285,346891860,898609307,679082649,565282648,258910073,679282784,529800343,757630470,100601670,779925046,763238819,172620301,792229572,348124661,70902336,378082227,813434258,475924603,422068676,320189869,9300544,472240699,929524060,493657929,903409868,624442284,882349017,760715093,668080377,814989576,760436334,485845325,786613179,243019546,675193085,802388820,356732542,424599173,446542382,147194209,352468907,560382172,242037665,673001198,108861526,626723061,263363160,489364356,229573539,644732638,286113441,471917516,709274998,993359740,112632783,833165688,254355288,927953970,199600071,698442306,536334420,490382991,654483672,179640144,290620373,184176764,409362972,744374184,893119808,438209159,96224393,104307036,255374017,761981036,517011902,927405026,829066134,844749635,846736659,684257547,281916945,779669605,867132918,186273022,761175786,4468037,768605510,75502353,326199409,509375890,236412344,658507080,740775181,661910789,466901392,301003336,925137624,622700514,645152094,606779388,731658959,787532958,140566811,52297673,352157925,257214208,870606432,455192691,778556075,96217144,953575837,293403925,530039470,158302193,930339619,217382168,570744695,973674887,905067665,966266880,237615551,22827393,119239278,926398242,320294168,914917540,903024784,694961572,523005721,794387131,723984904,200838429,416763767,899223307,358611434,724719902,28937167,71143787,858607816,77348196,240143318,471078932,875208753,973606296,374641802,263837008,429480319,934137506,240964816,467293040,819123451,43296919,369785407,198276989,735593701,805323836,186720255,623162140,533990930,366381277,76207992,642912806,75715606,30279175,859369299,511597460,565213021,105303500,729019354,692882223,371537662,709599061,174592134,191513302,467529176,208886646,717317573,333373333,128945838,900004286,139983074,932073841,963103142,988670282,630626329,660454037,708393782,872140673,629341149,529604791,350256958,946704708,745642319,421309385,1530408,580115110,91428581,236210388,1378359,338853816,99054819,401881094,669477154,171589724,379362931,770264096,775626436,819433344,589586698,704890903,311650405,321029035,253918111,647967452,979786306,53378231,835277235,902109831,716889081,195677181,940080025,378205092,380106865,752445141,978882411,604774916,903330958,836429296,727796378,353632607,555214682,537460430,648037951,40626775,145522716,639445558,77218930,803324397,920110485,826259777,754543816,833045871,916864348,79846193,556167292,49300208,274035458,767570309,43016770,504366663,878257163,552499873,744023464,659775978,413494112,320865907,922107557,68941157,35727768,289292375,736344185,10941164,385247330,685835912,274135042,235826843,927225532,758453282,106910295,898631159,939644904,790899382,263786156,984286568,186882668,691863448,649875635,336711196,806995818,720402825,741188303,752731464,913326646,228160212,483887080,754181385,687454201,497138181,902431334,598820940,867070197,581468045,208944044,422069344,323303508,77226778,448148629,621865535,20046023,614819960,434664030,146042439,440680913,527847065,856890140,195266481,284645051,828770014,499170854,923436874,529095696,360426088,12863195,498611783,238590625,937538490,392081304,194524222,525563460,91175368,77898689,217270309,463681674,465901753,972027756,553205120,819763274,896350355,911018221,214126487,274340025,615751327,789951456,115097228,163915382,13641567,967628891,178856902,877190412,778427324,301032151,246593046,28978317,755326373,996882463,293281849,529938453,611209430,369566419,543306626,427341008,599289041,803177508,526816498,594563011,837043711,168530788,589147872,94348931,334994968,746374113,587871595,765421243,502565597,661290799,85238091,937871746,346194994,97907131,698269521,768297733,248086573,476594064,164852229,662279009,468980672,684281866,991820130,573773508,323998239,563581249,320408940,602258728,603154311,324213070,780883917,928059770,973192223,590345697,703574129,804213308,901671599,295051906,908058381,287978599,856891365,388284855,738697675,316547721,908228152,535899473,708634993,854434189,499581457,932069163,974857878,560151183,822611440,552953080,524568403,213904904,397140059,161407237,46673739,946222969,296436475,610050513,748396736,465518959,941108144,125636195,763112399,948962234,877909987,754228022,637850895,532874663,189309154,349533632,150660228,308275438,845895944,525271966,856447646,27950702,340798841,827237429,936467416,53130854,406874458,223529139,784087686,591079027,795864581,357515525,894410040,955734053,700113600,981641151,564496568,538267852,574853499,818141152,221321109,690173294,886260899,852281937,77122991,989451207,696267735,673018956,482847206,544873690,742294253,393182122,985062564,638821525,25278185,376302485,551295654,283584446,689795858,389222885,560205779,180338797,11991577,775737928,106242305,280938940,274000409,849874336,471322202,477365484,47892638,354140273,976473180,94743702,519537114,189845429,610313916,337655275,638616822,848058676,225910278,712348267,536282309,51299396,204585247,424026966,646640601,849766915,119854900,741291953,322423698,60241206,603778713,773856775,171011672,813647052,894082567,574367741,149925038,850461551,882800727,354773333,791570077,65705883,12626434,317254784,797376697,273290401,265979299,422799949,691336257,371719269,539051838,442303951,914945472,169950050,291997123,168927995,174169862,892988950,519678099,426999386,776614978,330248135,688697897,859698463,578045025,123478945,229384368,525215177,478249802,636486915,719468396,321821706,598766295,737292264,194014408,225542957,650148451,487483911,990106352,489114934,988605903,843284849,507961555,201330050,671215685,21219267,843659956,950868913,144308873,1578705,213198368,245995797,477981913,16255241,281271350,124193847,108291068,476461433,139231269,247941980,363860991,669638251,515702242,793983647,128929925,442573692,571560079,174442423,627424712,23397630,642818743,768847173,28110188,719234609,680363168,295381195,131337403,230227900,280705928,15653049,443817356,767513621,719555769,231008998,147868515,519546227,613070558,260943478,59954416,94691381,699874986,270866273,626798812,633919848,700320532,958342440,784210433,491233142,135897770,683665839,758415753,965906934,427024426,675235671,972545817,911907820,478310923,187166214,491260580,12090382,586976078,698238327,733052374,307176403,75216321,333301631,316043145,489526741,69651772,778727227,563025388,11274244,278811090,614878781,600737400,219332232,410088903,678760162,282183949,967312203,558798071,151349386,547078611,454175699,441634193,14081489,341163751,337593457,43272768,182664398,594293082,395399637,539471594,978777664,284451604,8119103,774985076,549879455,633657292,596298584,573404559,980159607,120491651,373609229,872959697,852398156,776036362,840712491,402842346,389275681,880258997,847935622,311992308,832386197,121956104,658416516,100535660,499917988,646010720,667857009,716227925,188170552,967454433,345514899,714263816,410763590,915081359,956138900,797615173,856307373,57380204,412905280,253607138,352608129,916266642,909801535,960926102,124764373,495054654,539028881,724811370,256250858,607876762,691608035,650911335,388208392,386376163,343162456,749163899,285123938,831443441,289123074,695574635,843624326,317160317,895796757,399189884,760042834,476976883,526647819,262291473,887954495,632997097,256387737,679996615,565110830,154304765,792152471,239199901,716225995,176158633,849081344,490065903,934524745,794927692,419055589,328357743,487741551,51513152,814117402,352104006,739925579,124203350,387688968,16869044,443106621,411543140,467863039,110990244,301056307,834039561,708738887,124545953,320949612,807814126,360073113,197298490,574543751,792896061,68003785,382629622,967913096,290724320,228656941,294086847,685526210,88708989,331140102,833466611,158314548,225123803,147247612,163062736,302073228,841133147,723528365,481963108,227101592,350984975,381094634,378413231,677757293,868784845,232688536,672417398,741359564,489699537,236449587,560794859,332067959,42853029,676015796,707313909,763079265,765452625,272740525,66684766,90532579,445433187,855036239,227918758,810881201,474820460,618070723,698195213,303231796,428491419,714328937,5743954,390166153,951555898,358419777,746588416,503484608,936803130,522370571,477660652,640606974,684082846,564803006,970557510,248665929,464092225,68016364,14221254,965898563,834683544,650083004,206613895,355386808,52107195,551773448,585606250,363129419,496310720,870820305,935747800,131264476,468912314,979733221,461582651,664052411,448299682,388457166,385720989,167154915,88869984,930125131,457401951,546415921,314104558,904263014,896206893,490606516,272773986,792288872,238278291,681312243,391380555,88452085,242697566,894805865,460515356,104105110,225592840,124424918,888122951,556272172,534412855,979289545,533408695,89373602,116570162,78911650,221597409,740932096,953125755,741390072,666954674,153033187,791289913,597138999,157831830,207495430,608990857,556736538,584860339,135993819,165028997,475817712,897938082,322987118,430842220,388907106,737538339,943037369,705047981,473026532,393522782,828544312,56996787,474469859,392875863,298037654,585075373,374114188,418904584,131504735,301960668,541337507,380070466,283059999,511198518,526482891,157070286,473448399,274644403,783301161,610615339,649504080,115662142,401260759,708433958,433341110,593208415,191286555,203359442,321050331,854111493,214115281,366780028,793109886,452197873,302101888,150492071,889866866,678843846,179202288,135818823,81297827,349416706,792122938,542534846,415244125,709549010,741345156,279292724,97074331,867350742,423251165,64070999,987802238,644027245,139451369,646754392,241415621,910153206,567803208,62577847,505409499,216128528,816590003,112984046,448664059,176869842,844850298,958236458,351352915,986823347,150999845,70156748,833219813,170690245,861269208,162521314,678617987,748743778,607452850,981967564,787195035,514493883,76256348,401736019,461418527,115202133,154405211,599200389,400636199,105513037,385481569,687748761,238754874,976112369,254341831,729041129,68394377,548987034,573602826,540999305,209622920,814303662,247463210,191235407,434163838,89357799,460890999,262918965,372638353,987851963,306842468,885574400,414563212,636958959,894970298,828455822,50035519,589430878,953827941,568169611,387669188,134333796,172237228,692744685,24318512,349891626,971720483,326464444,242125162,85355555,391705058,180287016,319095766,474584975,341723338,275577309,957961744,466697523,571498466,543625562,799942859,726515289,928446494,809263226,632504499,352180159,538491940,561843624,217752695,156432767,138023721,836726156,298908459,826821314,411413372,164993258,307002292,23365180,515754110,460036151,239934181,185487229,396340097,784556777,653311824,587351551,420481279,923857480,262296962,70747647,269412573,353231513,350188321,661963636,181387079,587486341,99039508,593858268,691150434,105949068,184835804,184599055,243794851,485342248,379832407,41856750,706811394,3375361,523066470,953328478,205376712,885105901,424935641,436151215,803270779,434807188,575666648,711395282,970729867,656833166,996164219,822651585,51030012,223586754,258690594,209429406,821260525,446064479,653999133,846422958,939007182,957872080,377370325,581389988,217542227,301788930,48265789,650264972,653083439,541618484,416971176,913988355,665675776,136727931,696487024,156938923,679059879,721398505,493271884,850486115,279101019,884528301,63257449,72169113,161655202,772730394,439371379,981610036,831783981,193614155,955592005,368535882,731696679,434097659,953939911,353979349,842084568,43313659,652396823,70654657,521379583,182682805,687686333,897172528,194463696,759021117,630157802,855666687,432216875,881391276,149085040,977304439,257649947,312643333,750847814,866265769,919188067,424214594,469844178,763792635,30072492,318163852,232340714,781809134,952101218,124453860,35832037,926706836,69470366,849891065,497896169,832846422,769298170,566190289,380421931,178201334,572580366,826248024,809797910,624042944,596181374,452025044,798476709,24703362,434555535,102602542,634224125,805004919,908764584,542103399,524867155,834229914,781300423,644548343,615989017,969455475,622972817,612821084,769124787,588874112,547683406,512143871,817644804,1572147,183512322,103562330,854692349,219038418,803967536,748958149,215123447,748595704,509030476,389705216,231858917,881620335,895247871,962034225,487436608,560406482,610019080,829668710,120543166,448923009,539100835,546837980,289904878,531463510,986110069,297126745,560048047,553314370,71912016,981391388,751803096,919639681,847645154,475265420,821790189,935991441,988852890,378467133,658925585,362141403,791094198,503156564,899922222,905430738,132419110,627039284,314195648,715937846,589384363,934193776,484468992,465536139,388305703,999414174,568272339,926269041,750172696,352807731,106639063,378739231,825330018,451120935,879742555,471632862,674758225,416389737,303393274,2836275,137657922,185927359,355943645,112051733,97009665,377279418,515065133,51305345,862236235,771531627,484400468,902861190,924387625,622886499,740188318,359600730,939659774,740857051,270543771,116625263,222285641,130376575,279546927,555603291,423157000,979964428,702466793,433214481,948704483,742982791,644720613,230662905,639370209,699319963,71662127,80423104,76192921,101908696,67382114,863864757,726360857,620506543,825131577,251805304,899643181,800183075,716349764,682485159,405609483,293403958,377471287,282301863,900477098,971940605,501654678,770777537,169421758,347979390,432018991,368872978,443347122,573378940,608016467,330209253,299146385,910244247,74891329,3735589,494475395,662958537,277754092,925986530,279192129,725678102,563205594,337238891,153398536,656807237,993540695,142392542,591006121,631778017,717570121,873056676,310813517,569764737,235719329,391999465,583330706,294920655,750504899,953270875,692778366,816024930,463772809,723186488,129302571,297712307,391539969,998112888,213557278,931078509,801196797,111682757,975763739,454903095,219247319,353172544,929605833,496835034,500927219,702444043,944760890,162674166,103526000,127400260,64139934,222870531,449299945,489284647,758469459,693524157,268229796,285009551,681530617,820565526,404206154,519620991,897329610,931424717,731251721,120882155,549266094,15278180,16405789,148017520,220443252,365773555,13087272,339103440,430297382,917592156,820631886,576042685,657076740,434991125,206682009,131660701,312988761,662917818,680804242,592521665,38140114,982006837,425927446,175676324,300327928,448767479,409378198,72251157,477361938,184172444,311390337,770818237,615185580,780575408,181282278,452148019,902038733,805073495,863249577,984502499,662121337,554659132,819332589,756287874,315892500,134823265,204359834,854918997,990611635,741101276,998538655,229300242,553308147,213198768,116277289,773644424,907106099,309551138,88475157,470020511,583053,648336408,168494345,800583224,930599198,946536177,275887198,604056849,158632400,450891038,598596062,362694236,677497987,775485256,277224173,664852131,543511123,388280085,664354274,504313300,785563659,835009586,587945125,559752337,252954213,273147348,687120422,985745404,167439994,332467013,33672672,780161668,509507970,665366578,620806885,145913494,62330991,393328251,936739253,973105486,535082510,533102288,169364099,945118412,409985386,320785397,632295794,257362095,724979662,925745677,46467053,601890067,446016032,854052580,529694232,85600113,900288163,487033654,872225161,772133326,908054838,634513839,353985416,169208454,311235598,409402126,783908888,972740465,500370121,437010747,370097818,680315792,326779622,748082108,56871591,187350499,856627320,288672465,258771327,377696380,165183579,943269325,178677673,145848358,460439681,750726989,643622217,892437772,983569794,83065506,166396491,246256849,14996997,190900901,455193306,404380289,183777175,49121757,139878594,513829681,825801969,767958789,231865979,458730063,632770116,16687235,317931625,679671068,927725023,198998500,52640622,266912774,546539289,937208922,822056690,401993198,114849455,524410156,617225989,603926691,481510874,424797118,788931555,494068278,104198616,25273256,13475404,598243686,678729325,991303011,823751447,944767615,250819163,915816,49750845,844259314,395636954,713470336,369309153,84027556,340585484,315817504,112935009,501589808,510456118,2638527,514864235,856383874,256835404,743979719,962217303,616965611,288010382,243015970,61044705,98543781,433946920,94856440,367734367,378492679,929468211,573231678,218709210,468482890,481031333,566172402,80473447,337882676,951913102,172416424,24033396,731094200,722276987,620123039,649354757,991283702,626403074,981750476,326442274,799095178,219859179,285997290,34890334,72948033,744883378,429381669,867575214,267159743,393367094,558714818,418963043,717886131,366824317,445358699,453883333,701680179,796550784,148798884,767903425,774229488,475793741,477129205,499117442,309973537,548308595,408916832,958620041,870063309,493566956,190446969,902257970,853195090,862624997,124461923,271974018,264965294,548853525,398031687,955723444,881211158,683903507,475677495,824400258,67363029,643902258,845494831,339863512,312875886,770588040,331562958,930883100,414282368,110393408,986266063,127356430,96345584,353360808,936806551,846512817,439537337,281463972,958066537,450766688,737362021,457889853,291345307,657126140,233187332,262042985,561943754,675101930,456909899,624303282,951632572,916296878,747228537,400732103,5622514,705759624,889589762,988057676,324467774,350682888,906593214,253514054,314688880,804760300,130296947,268189330,667095910,635995464,565796023,225856711,468570130,745837353,537461130,802413582,922276078,722729678,933766548,19414249,563161341,885757710,752141169,462752114,681172865,16016461,781238752,778803283,283790114,634842836,750045311,427324831,48917447,598404977,672895829,409765784,495009692,703445087,651912870,118701456,527995062,903065168,351997419,249236131,684991528,242537591,137642803,61720131,489262639,783746765,606534108,342637370,712931340,719365863,895493168,13094120,125335395,327910440,51548461,223409568,814095039,212562436,869507258,898033396,834440773,502143936,35489527,792656633,452235725,232291056,123310404,99234866,581546896,492430418,83026785,645547918,58743443,369572847,63525242,574235487,573707066,948303967,567536572,970125421,414296099,768145538,138235537,897687253,178216121,461298233,143047306,615624702,183387143,318011943,944553280,663604337,206496841,204531258,973772564,232582458,968942115,100607153,74601466,142909582,972393688,684585803,924586022,229038558,316662628,446825924,484376379,785226154,309003836,445409628,10397470,522299266,954388517,214033733,661270622,418295182,954853993,372918434,57874034,840813157,112268066,377944167,193248637,321897021,982130766,853495580,989121253,575827988,334404193,950249818,205900680,557026425,501219360,840503231,60544836,213297741,659369388,198208875,584957683,621731824,612192974,818402020,265079264,327380063,114938616,552826643,492052224,819693235,707900661,203681004,965258374,339861682,514163259,762108132,739896652,567094012,692179148,710762336,44469614,831907073,993058374,264389627,822476418,711845203,41004438,340051057,497246138,535969721,732226233,714850544,577866617,398994638,832968142,930604226,481480146,950844420,247091844,840546624,783857642,338193434,330741170,628132218,644396780,963405385,950086247,928734591,496238629,800807186,521145183,208903771,273345158,188047678,727638389,702888260,172422764,995523671,562291752,200991076,546369027,372650573,457133095,504370369,750334125,883801010,989107266,829987103,728151303,400005636,313794965,207985810,86855680,365862812,273339932,285335078,897126434,995512274,779077010,913921739,866131885,385649916,246959603,146812330,218061589,369433865,400499542,284293663,141360436,941300010,5543464,487878061,228050567,573232237,768609078,434057223,461356107,474666713,514528827,671092479,247496011,619959175,597062074,825988437,183746130,987322273,73517402,120205159,890432137,957729641,126864503,709262744,751206967,803482545,935529612,354009559,536504271,183889027,404784354,217593933,405364497,528919396,359672528,301277722,478597918,766937968,734238328,821072812,496754511,409496197,109190605,233744563,737928768,542965737,800206201,50848477,846239588,651777606,333493282,930325237,624395454,187750145,920705978,784151973,564820259,737761271,543325175,448066278,477817455,400421147,815269237,172518753,522108712,93427867,460374151,478859854,400893488,118305868,641553368,553431993,892644595,419865231,84523667,832714512,849175567,582647998,339215459,338006539,353197206,501666424,827590933,24482528,752432191,288539918,765325339,185273582,417567568,977566763,405897322,416428630,73869079,930776438,655913313,936398289,622077899,727660572,830546854,78587877,174043019,436723567,711883461,8428857,664534225,789080849,321146108,880080416,360953631,22960116,730254352,818630881,547589872,618118212,359042512,549455000,6898014,195724009,630379371,369251195,738766417,588648407,352557579,801821447,757243773,624475601,29993154,175445303,699783314,566146864,472861477,460626562,307031611,305575821,310217185,920708356,213710186,923345803,86928577,624458000,234095990,643787590,4050040,522991337,681491050,565723431,991484836,929889535,286739421,313886618,843963822,885180913,539221686,329470483,979606911,133318577,272659951,100570162,386804256,805970836,95843898,134441626,246244989,653323492,504763743,699906710,415306339,319530712,344292682,521927168,330886284,438482543,326906543,68559701,714441848,563359201,353491280,748902366,675665373,957172269,456549933,822828978,301634273,278490771,589747233,985137220,162717787,495710265,446292777,556965278,730532460,558009732,363425591,770011267,233592399,758873752,692274225,117241486,844281654,420657412,38355949,636406446,93460533,702619062,446654037,665041739,767214080,123886699,654168786,148468521,160578352,19764313,877965155,925463221,845488152,628604175,607366164,564229580,387303336,537359377,369261905,926502503,757562935,249146024,904117259,232051347,106808569,832270619,292156296,790703912,857512681,959044728,782523253,878315714,694519280,959990245,612806954,797912446,13206282,466514548,958628451,737095345,523371952,85925060,977844885,368959031,699176214,148591621,364636938,225046248,291624416,77531525,761615929,699025220,67510271,963829685,835204201,222180358,281305543,701276956,613488890,131985189,969407430,968182190,290098465,184760039,826502740,440598743,521992111,930535414,191179833,216650050,285249002,461906252,902325136,81519133,905063434,412548944,374926282,685217043,862787225,843880165,992273872,612712245,559186170,860060648,506677793,117770709,222777999,948248745,595373911,424389011,786933181,338276923,166009889,29807897,947997221,585605919,525294593,709962407,117043007,736146362,885910888,863230515,824344595,75029717,555512213,368559117,265001472,871043461,451496816,207369729,887513398,815138495,673511456,624366744,926763593,972565817,218603545,740802744,921215779,710796013,841170429,425310699,553064984,832064075,854487997,115437995,958174114,372797782,431937360,193305989,905625322,483665943,396248723,775009653,676023698,196364950,91280830,828003210,75007914,858257016,322375429,370645688,917112934,895289409,792016969,49812304,650389657,416322570,792367766,644238817,409886177,218533364,216773565,904585082,939484149,636253106,974972727,256678250,867055483,590118834,821975670,579141530,902975535,95018217,209750554,81971905,146520516,42949255,400124446,907495207,123105461,204246850,447681947,454641432,924382147,706005372,31771529,679777088,474767944,371176488,776383108,829531548,317451684,474043480,726391320,321539057,995308771,891029653,143705364,151072793,378473277,326972333,443090782,626483579,318038683,429342994,336832942,995993322,280129717,868268375,777256733,281853516,286951915,939270652,744356908,956457107,871115468,829780969,191700497,903743292,247329004,655599378,100422314,851156739,733566541,979998167,51442661,313384428,348381951,9775357,848439852,393115120,703826936,497685349,820033742,91020748,484650806,537246243,727348980,188378068,753867025,269186271,79982311,864160671,217195667,310189902,903202229,453176629,860090612,589453038,833579418,954624577,199463148,65568982,635107803,262586721,616051934,518088625,613042269,368024100,469255971,91614136,352493512,69251523,952436066,715154942,235066548,667926211,920643160,922798580,482629540,363138375,107428179,10192659,560890705,834183922,296185404,78413887,988105215,306998512,6198481,774318879,18785335,130309669,174935588,771556267,931849054,948937148,938254697,628229605,841125842,182613143,65827611,861000766,947880702,241917059,636809097,752121635,508220742,963313898,258236374,799429754,380686682,432212701,514619481,865161772,23439060,434125804,107474176,327543330,220127709,657473069,346928067,802042495,881063218,231610985,809542353,384829557,503952184,421532948,9632990,280358249,389827137,429720330,416542534,789533623,979133638,101919846,986953419,851873150,779162248,755583370,880957032,258886512,112657241,73203111,473065351,267612733,233086280,115086160,292846651,738928942,281154945,836654348,393624611,874361133,43828683,724958649,5338068,124171599,858364717,314705564,263123527,229090329,546327975,508037896,169791207,864194237,988410277,130494408,446621534,37349583,465554936,297959621,189965720,677115661,367921098,241804809,31395020,95245424,919928126,205821791,449258881,396797644,926964932,30859097,996126305,238099962,191450495,401641486,212880148,125559648,892800914,344956079,237569239,99474251,952845641,351489212,266777812,710491412,595574794,824538913,305978754,302629341,571157123,245858161,811469497,756621645,294938917,373113216,552409362,589381707,769965073,749989508,961747135,765436925,333689989,13258953,383079229,350994002,227033364,428879565,957870334,916230089,287607787,646836725,674204622,171156943,458127516,385242976,408344286,107375100,731624115,601232161,596098275,206507596,770242482,805975622,708590380,162774882,980216998,230045474,970288182,762018790,823832706,672204527,453897332,900647929,256915756,405666153,614321881,627192004,249337861,680365232,215744495,840214932,3055315,885275490,66213915,837885229,547175308,417736987,809247390,597685058,492938059,954575772,557615287,648037577,766620889,627289812,981090735,595168116,797164592,958794678,546336613,597637915,20309305,442984117,144071631,535565602,525721196,106112455,211671744,231193622,663567282,521126226,697272507,319523795,49684195,43094192,545309830,25864353,85229745,162084693,492246379,665202523,661039565,775153146,322403725,930740265,116670822,916826697,884038197,318345102,105092927,177844417,962826128,589743420,38445401,855679569,192913067,633917539,168018187,557206445,87130511,942700225,25459503,799973395,811865081,793704973,571670860,820897730,683475838,499998511,94186683,409886958,235567442,789677950,366761564,54147604,912936592,489004485,824496185,484537203,481390392,757260733,207037747,608445120,198745753,441929298,225077398,924462368,350096384,816964204,454882119,103510449,471385781,926460814,330085490,648196017,534247072,894377629,924653003,69782948,982460920,127809882,308967738,900226354,833237,377340383,712368095,273880560,85683422,951714259,119087029,946657573,147641390,116181328,895974791,335126681,857361006,864913729,802711880,932728591,936727038,250782964,532254472,358440855,31621371,995185770,988168328,898857180,943899184,950894719,96741797,831422379,244822135,295303467,491140142,20678737,587426049,994874370,784631975,889346838,343164856,448521642,303548531,604263590,208561305,11989343,787184538,336262964,124188571,854881428,279409857,710104875,976426592,799702856,515787814,308038945,404248020,714568360,712052878,367441353,627383099,96432165,548569438,885491646,653089899,547233145,174327989,906053181,120188329,161603661,267333200,560187927,819237469,457986845,57027937,3039823,695628013,889330779,934492324,731504608,187701921,994136966,662514755,965038811,306039799,995868278,563159118,800056740,749548274,342500219,355255722,482630671,381148106,463185458,34454063,479753612,411020736,101152821,592880399,377647201,673801213,360067317,994212844,988123042,327178473,336448674,998292406,5377643,584320181,484408990,652834636,972131278,715504189,1471926,1237908,898144700,360005078,811268260,928029819,883115323,863964461,513078539,525843240,127665246,998613478,666852257,490796382,727554837,9441795,936609515,181422572,848689105,167015608,299181509,957505457,422745597,465806826,128146361,103953810,442635912,620992222,558062445,12175173,695577870,243935181,342728873,361934847,922126898,683324367,752033946,283522713,894165220,291085306,194298553,310586175,94934310,98273530,338260576,194824088,274637056,207622616,744507355,183396845,924338821,91555209,61767688,277995075,771715978,378892713,187118957,975651130,674383036,879875856,235080104,933287151,588020002,900029943,203108289,237268536,554023987,913092035,772528979,562835498,351647687,984296344,620642451,492596321,62522319,225097201,820662597,254390022,375410971,2782116,103622432,925907609,306365350,650308102,813152684,943921093,470535417,7862793,326057091,734398432,493003175,967963342,604113350,937140134,361816489,481496073,589962324,764009989,900807526,680006023,843585599,347472614,262964428,937479583,552847939,335157126,5110827,72532430,621527232,713851592,67371628,855894933,629084343,86130553,979684411,296839598,3108396,452507667,298027128,949104518,74467389,952887056,4661466,23219696,796187775,659387118,751953358,808443797,409443609,447859394,830507308,545391573,30593902,167146744,281299508,347840647,551147074,257488673,875226162,407719413,199183493,808600615,616816719,703209146,22096531,101927637,949014598,954646506,307667296,698249741,989161883,537528858,351793874,466457246,251703081,51168872,159212285,799462744,382335507,131838632,890491049,601602899,330299815,811805387,394022994,313351811,935657897,604168206,713074742,223852490,337858392,691879416,497492057,528552200,900377515,727855446,537498583,539321707,994836207,580258113,340283364,848493984,936497869,900684344,753437245,902363987,130361395,607064913,538904202,6271775,435910745,407350837,400081917,763049983,87429279,957186971,64213538,492344858,561190313,607718629,43704364,59778827,449282499,626810918,779087512,471901023,647243257,255662482,482655248,524298543,907835675,794809553,536048699,295611533,217445871,799929921,21522407,420754653,750492409,192203131,596063548,735221916,855383013,469987402,744624239,890910325,687763030,688474725,61956104,130658979,249856865,892496178,917298371,182788569,86014486,635677656,115044859,45380225,587137543,453633341,839630346,5283185,621366680,121505087,690659372,630939184,827717859,250324218,564457920,476393069,179085870,736650182,859044094,519025031,217572177,399407574,535826186,691861350,776540729,292569280,675928819,82576684,898450668,981115593,477811003,767737781,345948545,765614048,155564707,764364215,763001554,891674277,278678492,147001136,371948613,515507144,945877109,5073224,491361635,977326570,742294021,701092281,529648125,971255419,254307306,737757951,423058206,84524475,355393897,215496741,569045095,884402864,175625295,408565979,993042806,340365111,640643551,181818170,185134564,891915126,109775888,85144096,697390684,890764845,168321232,810944902,797291407,990595923,4271611,468932897,797518847,751221887,720667223,802778523,382092263,141131365,873896602,845015941,984912595,454898220,774043070,285141578,584493793,67781103,131196344,140529652,606857095,995314071,717091734,681065013,427787435,599688577,818399524,746783886,822047492,237944928,630726331,95480919,694269017,342394671,44034369,226866871,885766731,877722347,919152159,4620185,274527950,394304883,577004947,917695385,59532868,96471623,81810514,56369883,54220290,499423142,956668165,821291589,537220779,406333591,104208475,665270255,333210337,105118066,919303144,752941463,321993780,159106067,380177599,374468020,914067969,856032376,790994852,822361410,801543179,522236058,954935086,515549595,673113539,575795185,351912790,217293462,491340853,422200171,194759396,88574044,812254209,30935156,96816849,256475089,620174147,408351602,541982878,377310770,911132809,546400567,691869382,57849451,575498721,386540729,861090216,524769647,35616278,305171797,451316149,821833513,159162100,697513788,49215037,167674062,481921193,892201010,102616166,183517188,9362025,433097863,613479309,488122766,531987218,714999653,477674001,96152943,418395598,736189358,171433111,181064845,940169335,940136937,890963653,579649315,836045839,292531798,890859095,344918431,658257161,874226356,543315203,79187617,186550452,642668976,823949663,751009841,526008298,460640466,227615084,942888974,909654985,269892355,279245777,848997667,737122230,965856612,521826649,135046652,578709705,425847892,793061096,755910216,24850522,387767555,273026794,220886481,962709939,213698837,95470071,998196604,227309736,340757333,989912475,997106538,784990455,145644003,320718606,168502565,15630270,511782225,140833951,776744620,848881007,947783860,993758706,193125504,436414137,949069190,734008924,799051387,385295932,710913866,257999339,801136269,510582544,600100470,573488619,307863241,974161282,282139370,384609408,947120279,287520530,515043459,369460953,938670369,842938332,23652025,15079475,670329944,491762343,422754661,569828626,493925102,499692810,345972250,742998687,812979947,240841200,206435725,910031718,555291341,621765584,426833876,286023484,888225529,250050900,895635064,311992553,421141530,996844402,930229018,21279057,470118999,699792494,543241939,487167570,112521644,603956480,684375545,376949606,930971215,341110424,187076879,474495262,4001914,958182740,223772465,977610282,465009639,698867040,820022265,676156195,111373351,859679807,788258557,590895747,972433013,648473567,6216882,346907395,700292807,115654007,56602218,91735114,525511029,191603346,377142390,144418720,393397169,426047527,949262188,492744278,288477235,170240866,958234588,372328399,922956685,478319140,659652868,467377232,812721569,281072127,442854942,266767159,398972165,47451126,880274296,792955166,789703534,592103938,170318853,23650926,265630017,622163702,738402443,848617430,225455191,148676975,753857197,373454293,298044781,802064330,411995399,102909542,320962374,235478887,192321031,686083425,260086806,409489794,155180362,663604852,906943910,707159954,24027503,21549083,980114989,334225162,132415616,522814388,643008215,378051228,592909961,804838179,377476594,501200979,719365281,127785552,699615805,702034936,702229515,79920727,32323752,614662806,462489428,391883430,184999880,956493537,987729883,816200784,230849782,559068818,189196977,526809739,493240834,129443310,446661069,322476719,569961971,139840860,65919070,238923447,890456020,785222525,367008204,459270627,536731353,201107322,409200304,287027390,985928837,778062411,145419265,232044062,161998524,166041896,476407444,576546776,896630442,594856516,518003453,426276879,285564810,398879381,67984244,659487570,777800398,224800204,632811415,852548197,521595192,570197671,308463948,439815055,656042760,493990122,480607005,311457904,121374987,588991887,565088226,853432347,407049303,99758598,768030830,441462469,33012099,293334189,922008432,172128874,391500789,529966933,73598767,593315163,257603469,135344162,168261060,181616973,956722822,752327287,928332001,914853365,463630338,64817293,377725179,546510479,487912265,979571186,56784461,961011283,734147217,960087066,771109153,127521968,699257041,698618170,438245179,939475575,895802676,855501077,931163130,830874859,492580264,847550527,402737083,167333940,24762936,898322539,588465871,785522253,615254786,18213969,944173502,687196925,680253815,235870246,35418485,119992687,274545092,942853728,475798746,945824239,24208119,743120917,244540195,642382653,561471352,650922685,430151354,388461633,268681677,805915840,784016184,442357749,530318890,129967227,298897629,570533092,654683367,625705253,553657740,693375101,668345449,866851393,179536973,168230606,914711129,566409487,42341888,744191073,688094683,627183245,585298495,3633491,796559674,732796509,443829264,355393516,227242395,874290847,826901187,863089057,675457704,953175750,329104048,181509174,424441460,369908110,91554469,128102445,171565373,646265069,725740047,249315525,191088912,625107846,83467445,249014516,487959273,956672252,423336009,249172044,526759377,213909610,482920408,606784426,563075527,257863966,730867672,803741709,135685933,518550445,830505485,448848096,825089902,640256704,106326652,904186881,162247204,957049126,501433352,825315515,484372016,771911087,68808655,791557445,522172636,633926569,693402026,969948289,187600362,636379208,925677336,310777412,395103685,743479203,355071293,816032463,110385933,52061741,248890869,681779854,876878206,247143822,711320026,992207490,191775401,890151156,843291627,128107118,713009624,890679992,59855207,941370047,602737632,130280380,452275750,892607295,720609032,954071360,21334240,134218843,425542117,56060940,282253216,797395321,674058472,282993300,456919664,85200890,99840859,553519004,595330060,673141633,903237288,672254356,222943271,731164993,466372324,270419907,18890091,512165202,977475704,691711013,948814139,236084710,153790768,953725525,512937496,424767222,318635981,488597921,894642229,941921925,88302357,854065874,324084732,544805802,550164873,426296209,71799005,695585382,702422307,527291562,276336409,40325879,80287956,190387800,328306952,631934906,930756554,80497919,189461113,630169159,377093934,681963392,958382019,390505846,232133353,427966272,518829182,280023373,807244979,396455911,111133690,262016286,395001091,754571577,515904977,614172858,742490693,327494971,676963831,902270894,3588331,192527603,913508696,527170712,184789867,233483864,54573515,272471328,868040933,426717887,73232223,258552177,39846290,200600725,425291670,548833241,27595045,941099507,588740237,871531867,488977182,114015385,677944364,231150290,783670933,588130101,929208428,169234680,972101960,300010207,648659062,197431457,807413693,653903571,793127375,605776788,911491800,987154044,272850415,311904454,146754730,393263965,855861137,972186635,719868262,423469392,747525702,744634413,909640083,754730428,670362349,649464429,787706279,994734237,455837708,434536284,821610790,595918076,580678988,815253962,362486526,130876330,104192307,982101871,159818471,637829844,231714084,287815801,208396956,814220165,861918239,817367864,28077123,58787379,169267181,956783540,793280370,936122578,241882359,444355964,377027579,771125725,317556232,321856448,927349271,666778039,279390421,321093705,331307104,936184782,216654478,580055823,326723703,306409005,272662406,929448510,890802017,987166668,153371803,444316144,619353338,219664679,799923980,702756962,252678353,460729539,124461371,708025258,68051771,562280,134377190,112182325,853051983,169763974,412197685,597881706,305217514,595922468,870703910,154032114,50279323,137882361,337046694,97627863,783359998,19283270,223142495,526139692,610142306,135338209,120352564,370334509,334784615,591721313,825188947,582226425,493496725,995769890,984746547,196535541,221942119,597903192,300143477,700590389,662534886,508936285,669504616,869910718,64907420,352469861,587050427,703462573,724644389,630841667,137948116,716882030,8918996,803452029,662634556,949434123,128135957,847494709,252376014,655862477,174800773,132278096,207630924,853533744,218151045,241297753,952127648,739428937,311892351,202547401,362340180,990563362,260237786,118517421,112635073,464122412,753379101,354841556,279726561,696186015,656731066,130579615,76594055,988363999,924522022,547679597,347209026,700755023,647347334,7086068,65580906,882097402,888391408,158465834,257585223,865888643,563314910,598723871,189028268,591643661,310803092,581631004,202416387,278422949,67658721,339070309,281666542,819393805,831768413,318325772,438116956,837283408,858159507,164689676,937540107,412847817,780153841,735876150,41110984,723890496,484513745,138947136,236383703,592716319,11102386,282826632,401174335,65316347,628345597,232890968,152177885,175127358,256179333,979780022,217634378,136634733,667802066,886925757,346737948,310970395,418552733,442602518,202083329,917761400,713125888,35867864,938961963,820964752,976870142,84089001,705594112,385592150,754969812,883585457,476503661,557324374,480481090,798675536,500550647,893541341,612900942,811646126,957011897,551883336,866867173,49907171,660593432,63524291,170793395,520374788,430584856,616326957,357581957,890435902,725417265,788817413,758621900,540743031,148820144,893033387,295761417,671365376,417211922,180011585,368155855,551944581,35610806,586296412,503658334,7468569,983069536,570340485,991063189,366947706,272365460,901136493,862235118,817903044,931441913,418752298,554925178,726720679,487626827,857210877,606953046,557637796,342874334,188422637,836092016,570221793,505932338,722581589,363702741,929234503,510373263,53662100,843021309,894828954,68165290,789833581,549438272,283063834,882032919,484260580,369016134,268967824,567883430,866419608,807550915,384826675,833703303,111952610,606251251,698050074,285951339,202394479,243012908,215735415,559424941,126001583,348371929,599795828,534415819,515075915,221912479,682952423,593795907,698369412,344188229,971661341,891667225,964377890,895493527,289418457,691776966,509199592,264587341,17614919,78721886,617020982,562911521,595253910,447348747,763181391,817203061,942311502,987066057,843498433,48199958,813957205,788034255,328981820,339506581,296597800,748637858,434175264,951260327,688082163,362458133,881675386,892043449,982785886,946936185,891171930,434188152,153019672,717681754,166640120,410499007,396666905,481504276,532716775,388860427,509985844,738634034,465690834,5654612,744481274,859329016,676390754,373233345,164930417,209325848,235121639,652306573,108112497,358411202,75268394,295270016,893617870,860886171,134180322,608272199,820569722,644192477,67336323,159693150,379459967,348279545,119343100,219898449,902036346,390140590,602989388,404924581,905424536,17587613,742713693,698580179,829869728,692800584,804329914,797690932,273827229,309588207,226585981,576280428,477347169,766115746,814900654,398098078,192461480,411370205,302766760,427206158,543681891,409127922,511842059,267471153,326556169,740118695,187613180,942017023,739052757,278334599,51642270,699913231,568223249,635247601,748187896,50371395,131176262,802973929,133396565,107373083,849852877,42989170,52668857,470544991,445862239,752062507,690791859,693293387,34627390,5642617,692467176,317952640,674178674,66414605,103264583,243531805,861145477,670408525,879760377,529610823,61511289,654915676,413197416,102823915,370231118,891507801,557517025,462472260,339233194,339777067,856658755,708018540,986343957,805229679,587712559,22296887,999654621,36641994,256407154,447095466,971617803,816519838,455186992,537284497,370223626,603369617,371852162,581516522,421435630,649997488,516350776,641954307,897729643,455056947,513131146,233772039,981085863,426645561,311974806,841388715,45222664,859129608,378056840,237717397,691420761,920400816,866403736,393462348,907173802,724350270,352912893,986645919,645052372,514236522,996189411,921347240,870184428,310070802,615308752,238362802,228111161,489186300,318794596,953579227,297453883,198013935,29445699,840735024,82822771,708319293,680584376,446623511,689685857,515320189,104200031,71096779,493277914,42641794,105483600,968931590,452027317,229046834,140134879,455328328,786626168,121389311,759923234,599823006,63766261,464112747,626519652,647975823,478170810,84209911,3461118,862533992,209230274,417493791,54696101,358813811,589177633,487199814,75929725,400289616,108546471,508309706,59356335,916601175,547795227,978307145,308708858,127271870,974002672,550988637,880854548,608504289,729170316,497648921,187534532,822586987,631935008,303028066,543466692,804034191,92663519,758637847,595323000,910787205,660600351,975212181,344277484,823619116,772424604,735277494,119452749,586083195,722167244,138342168,386764257,164169612,32217522,771948323,381276391,751576208,221501031,606935072,208673960,745238858,832840939,122242656,433060028,330472290,132717565,951586015,391587674,919382146,6193940,884521001,884104033,85160260,147268367,416935176,956276591,825987837,794798735,209078920,142423314,818291823,792225855,993377341,786808994,87564336,992833291,559349634,685326452,43910034,980243737,352649507,429548900,330756787,140000643,692394918,582738294,428408018,450961179,850166348,866591625,433420148,733352296,764318933,234999034,9943885,967746763,104756401,627802431,601304243,728164774,983594517,928671422,975269605,673084383,541624627,402362748,610537124,115575860,554120972,655733641,512608534,1164480,787862001,833490900,955068839,765823667,251329870,836649534,39321300,539238425,842555328,22172754,127764196,451978637,362308677,370210586,127106769,191737291,677952924,628295831,849730379,968511021,267019015,686980697,72319263,829156150,321560846,684547129,470424057,267076494,204883994,559462226,231978533,712773494,215601711,483065359,663236877,210383198,900517138,702910002,354733826,527042815,925826749,665243104,141318701,473582778,343202119,750730356,707085972,578398833,663101812,610771807,963563709,237077030,426393678,648359960,329930705,176742471,308023679,137363799,310391240,739867831,761397113,222728629,230135753,371863746,726415137,16590642,528436381,99778574,97508867,109997932,19536413,638028963,846105358,938121897,34722973,299992866,587066402,493180255,888381180,226825521,842299339,891140966,960675109,67916254,775564809,968524376,152680129,961627688,8923922,130648767,56367669,169627023,36255825,922195431,607044416,505662401,346415340,527682425,11557184,243275394,16864939,675681200,279320506,433201664,544925134,100058006,969373210,707225870,539590075,472123256,267867878,796197930,345646669,430544926,236487404,765848123,887976522,445817755,239414806,888777272,90133286,426208392,712394174,769409230,645975028,421780751,430477006,145537175,56055514,978796974,756871743,751973436,508932587,607356479,160545532,418906442,792190292,631796519,270012926,869711231,275386606,382781682,122955150,567350515,113078756,289732408,131203768,836353900,718195883,450885546,780594897,671993978,89985880,546366380,937006574,221970718,856740230,858067346,497638203,502147242,924388316,7078429,538845938,248113901,67030318,467875654,918159116,56472570,259908709,959377405,522169032,289058905,591540819,904347408,364785912,669111550,324169572,803917408,952925747,345711072,873326422,404242969,342392338,368578881,342550009,210210937,796183733,910942409,453252744,198499006,131288589,526369737,143607213,771941811,773670419,219204850,225933962,491729037,161036928,224036930,298214195,285461584,820935291,183848669,733427912,777032431,601954180,747560533,589289564,93500110,595201670,338427256,844787542,349369633,703149630,120597516,130809833,224231740,163333966,684364489,178000960,8540264,263671868,931244156,397619379,879550499,978653141,342661216,622952750,748241488,412996226,668512707,797014623,375714194,246562792,131581190,786405984,101163948,377100778,820466719,849438942,750995416,328797170,5526520,575501580,412060081,627383144,269266495,431016764,319203325,334396515,755712388,266800011,783221906,862958727,969021032,813959753,606301199,17987077,497001330,272357419,19708199,749946992,7179786,773817996,528240077,512836207,838959547,361212065,238191679,4787789,117770516,623750826,809029696,48583448,685848128,36531310,76519908,693595300,203505104,176475773,862855053,782873455,209079007,953835094,584651354,750560070,583946381,522895564,20593107,372870345,768754838,209553960,758986765,216221095,330739668,838704114,299874451,430378153,855427670,582029567,262753843,339356425,758329358,917348902,944337259,398429650,376612778,455815911,389273819,437111889,176098951,610742561,474616498,316905214,683148507,939955693,176197882,163069921,83298189,923403473,925949444,886737019,203723421,307821677,562118189,128753994,974691130,910544320,255621075,548532010,433565459,12896571,657644047,888399882,27008144,834951594,459564058,431904317,502260304,181657147,854875019,281929018,749351893,44890695,338905376,19523954,545653880,596745475,703019446,244727453,919076548,461764362,967192727,522003711,212440504,45640176,421239724,443589160,927800251,837699726,199992862,583442960,550130172,344700977,122889416,280196653,89138526,506240959,31819513,936164777,392627897,439043152,995022267,399788169,478418249,450799552,409330411,775812954,224393459,703735776,342281355,795432658,423382875,688531756,654142329,213400892,389319114,13756370,240728647,444222316,765558864,811987123,955889361,461024068,170933938,831155211,246343601,196392387,461167600,204450553,300011558,800661130,393931687,871167574,270800833,464346732,426240303,30383141,202572177,821821066,400365079,93351059,710501595,843360937,852943059,836666981,965254292,537246367,37390160,398903715,827732032,703356188,135200859,139775881,480299192,787868537,880885238,880933304,789129468,46703784,238843265,646800991,385209031,881283712,258343373,195776768,911005382,647511662,968174658,653843072,488228583,590367032,383058384,376955480,629460730,120192884,782949589,951189480,187150558,631471737,67898241,199851002,674267159,612132045,378885563,287762863,822063023,221606315,907040982,936415525,931860161,48664365,590398130,279436750,182970167,682676196,935147283,281149241,305740643,176989687,143635589,444841516,188821827,199506626,274287093,711195894,113177183,870934745,377079959,917888584,244281216,861014012,522208973,935599380,518437937,201679564,974034596,244300692,579788513,384720143,991292539,833639570,901166490,356322874,259671991,821046444,461787876,582415995,128861040,367698056,934378968,395526365,718213890,856438991,817972939,227292764,950561955,125970049,505965780,439940877,678525810,444198432,791546346,325305336,695817857,796607648,934321123,648441874,650185494,674127916,738427387,398032478,626267392,541907208,673198193,829405738,323274467,41951869,841463449,141267184,655214019,517700997,312402725,194892843,915093727,543683392,15103791,386852630,636247985,208184696,897295509,892263635,183423917,201994112,387889603,704536387,950649922,917416621,799590889,851112535,425863952,108323994,411202759,694584371,173831819,21501617,786653308,504640310,480633260,691537986,123494334,806416577,776140770,739849839,812322173,342974361,584503715,412725768,941474483,440114165,184215732,958344431,747305829,330838454,562410930,227337262,467737206,11984079,384905336,855927747,363397178,393492769,716694040,831040642,507985526,281497134,257430112,176761973,870586903,149525761,801174803,324587173,561234076,218615782,272488718,11606048,111927296,856956262,247393139,422511871,719755551,161972897,379674379,968655003,125837068,827962142,147692521,770144254,204306269,595757154,600624937,389362715,511438734,250640463,334337735,410033477,321886129,498410010,564109293,175261,912456503,582923453,659283726,246239701,438736918,111205616,539720267,364403763,554611983,909326031,528769860,211783484,475672306,175237892,445242730,801229829,833529345,331556090,694462763,896350834,442942377,605651510,134112707,300442386,682980519,183461806,498171314,100297598,660821845,811871307,28691053,816970085,248388116,203972270,164516907,811264446,616780520,885545097,202687731,122265481,281678070,489651383,203740158,258176710,925286640,163763088,403064991,12429358,890293348,424074978,348214248,441369081,995467143,967340470,131202310,997479704,41293307,721649611,88501490,913290965,190158189,956171093,105902107,719537216,580001298,436045826,955492885,539460407,381593129,9204668,736099053,317797623,839001428,676760443,326194808,404529783,987439563,377860787,230531340,804456905,874678512,890609555,478905283,986524527,563838594,6301135,579295127,589029439,702181319,676845247,114662401,107628364,42700871,463943198,868942370,633458918,820082485,403198664,270402291,787299693,737437322,3017034,330795461,311237822,777114989,660603726,613583316,288780914,337863590,900571232,115487843,373101552,500259455,270433886,221561610,275375200,375117821,61316021,540227795,980646609,904537858,793355004,665938705,443117112,35094459,869341714,108489325,52247652,539041203,137795993,907354984,272377197,574601634,218217277,295223851,343933425,35917906,973936843,29203868,58280027,678462645,381657019,247065476,253071603,456744051,755897652,933416544,209539235,110475010,661089014,751100274,839464370,423517735,401051783,174297041,679208465,396946742,593277641,429591163,466927722,388714591,482061188,754040761,911650086,632599956,430396734,774704915,308701571,888561521,100136590,105332199,654265934,166262847,657282145,536698413,277213413,1861552,573398009,962201292,555920496,706245056,421646320,336868522,185553566,878584927,938077590,40301731,562714797,567249135,458228433,831272353,275600732,555264448,230261170,927896151,662596919,995104522,910029244,361957669,99785423,176776686,167653374,575192780,633767821,625723244,52171377,458982570,785306198,108602109,301969529,58237555,788218538,324693829,253209059,850040654,785646361,34676086,166307658,999939391,911043056,22800138,305368331,687842678,218989568,323116163,376888194,744141132,139548885,775163362,507306412,199569691,692390164,664145001,773482184,460323682,132159568,155059995,89636406,351335766,52735159,922833787,338296562,921647425,295358611,234536414,846250407,588324474,89867068,850617766,585239344,204054575,984415404,855037419,190127060,26990848,235571822,921221323,733317003,269225193,34983494,675777194,638174057,487552965,747508995,770800880,769489371,799328201,714601719,835911012,680839353,931413651,713661892,399967199,803411219,271990259,235232042,415013830,250016263,215353869,409886615,197865892,966985110,363408631,219453977,37445279,254415160,544105112,677835809,906717117,197292614,126350738,134726179,319020711,756952728,918836427,966411555,733424463,597679539,549358800,161624407,250017707,866789954,774053995,982363461,564470611,958407977,709374121,109426848,741616999,68531402,116320266,964187092,164033124,787845693,979447697,152480514,8967173,942572755,493887551,536277316,564691749,325150228,619220211,55532157,170820141,539844194,987787443,530218515,362071834,569404425,409384615,525575990,855994005,762497048,440145863,999592429,272757919,664878176,526710494,776923887,621140198,132481936,942999253,457129301,599036147,444367400,234054118,450608056,139585101,280541526,997205178,638863252,869051422,57957897,178426009,399975709,895306749,433727907,414857206,126130879,493612314,230240682,202438789,595293505,491934403,597001665,872313698,351620237,645462260,49963573,277163965,685688923,861405467,688707258,216357698,988915623,839007153,24762874,794424477,968465707,327821130,244159688,108031968,617249820,549256125,334201952,285098705,699052106,210077424,62891513,880448901,700027534,591338967,206481542,274223315,513966164,958630666,739600447,387462528,70077551,576190167,719894769,216585236,124076868,628837768,89798189,231749672,937122904,139821929,144452939,813291578,743294816,504584387,270400803,183155863,609416519,20771667,675161224,52169408,883190878,580015502,761246537,856695699,2508802,204745031,559570761,264446446,813755861,618805267,556803462,346603531,113664098,413782842,642610116,22657535,189352121,574815422,577127022,487590916,689110880,851735515,822804686,402694811,787170790,969151969,630081057,489919279,538748103,677154595,418918122,521744899,21312944,312311960,477772968,202691142,727021353,496999899,344631381,104214094,250197256,194883708,548720576,250306982,176947641,945113654,741573814,667847216,840947260,63686123,94343537,90077875,88212171,28438387,50808802,396427011,212055461,865666981,744749849,855233823,676200585,340593719,854214739,722980787,316006500,782950253,715874685,179581758,487086315,303240958,332735504,421346226,903380686,454696919,246301769,96725498,561073142,17696102,183411497,216494996,84670675,726672519,837560731,745084010,244476406,283507680,290825180,865956428,241885582,565149095,347395325,117161650,591472286,173725427,197061691,119404853,156266498,141524792,123670692,695611451,971753503,104239984,683379094,260532221,861524066,681546998,541855082,849280153,636539907,56148681,412687363,238408651,607213122,466821263,926846138,254006223,732356603,971955150,11079598,941011690,419355099,667144836,427468770,120314532,966167873,253288237,226560853,540474745,354125719,602855661,141096672,881028590,118063801,958374300,549557626,773646829,313167770,798020781,272355934,761929243,618689683,158467900,29218317,416844275,80623347,421583325,772272548,892449989,297895054,160134107,337467456,421194905,410188007,916874461,675079396,123279166,514904814,530283727,391363963,745637339,612839188,225414242,830441646,984750376,348511605,361092310,260920706,597992115,552712913,946786495,156979932,575302460,195915899,754545178,612715075,683572886,390264717,446675507,230495705,126804634,792334866,76588161,309570302,755710486,355020055,340894729,158106035,714422361,209969748,186242607,69201047,108900958,809528571,936341473,535707058,346787682,31706607,381466686,3797246,748085770,484538084,530285839,742427380,676323619,405129485,852503267,723895026,602795618,480202635,596505911,588731042,450766880,40216131,611177478,266621249,117846058,900502688,497505810,233886624,930863824,742913900,553838552,467411563,269057084,111988550,295604335,169408676,859655643,581058259,298079398,606590063,75378797,985972625,436930754,786872806,261547273,760005499,763414754,21167592,883953562,986808760,30349065,886431348,981683118,270847101,602229693,731829058,302239127,792925306,296309986,310092428,830226438,287179056,222295833,201521923,189518024,665113267,852937427,422056037,534382977,824858642,124514917,498555054,280829460,559161983,877142934,346836495,945874138,567417504,864152271,372578365,264957797,749716520,529011093,792130790,134675172,151608729,724481691,949819533,239962086,646648296,390615164,786341678,251840123,118582613,131933680,874481223,580077062,980937481,34506237,525766864,169106170,980575864,535154372,775952447,847299794,709190762,138044702,91668953,291253170,959381678,878949434,893651823,247135180,143468893,817559192,974238342,270837447,98503780,823659207,704056388,733557793,852096674,245672260,901140857,956895080,469412497,259927751,64348921,940628179,528852438,813056135,412615135,503030914,391347282,336942001,161223277,984953405,539976614,492129675,87305352,745226437,943728068,538225808,224617285,33979970,228324752,11562614,774739636,182112576,751037789,313253100,991415943,689494510,93990645,112898142,61789772,424207809,217650062,49522477,557263954,674208421,730476215,499501619,202025802,80466809,355557750,941998538,885075794,567445382,895802928,864331434,385221580,525790938,986374853,542406491,32548597,884549568,217912631,906310095,552592520,744233070,378031328,645528805,29764432,955359305,329011625,303300706,372186700,979532433,670554294,892696672,629002864,131036108,873226736,749753273,614405869,572475817,324839588,361790451,804880228,449224010,794408273,453146507,314353924,830759887,52176635,707280593,639386608,189636204,515538455,241713491,530140457,924370594,419137484,137795484,531920111,396047235,235176269,107461752,496934867,615006564,216003556,755466836,524305988,435537809,269569876,873348369,444466407,568617197,819740146,683017856,959678954,449943927,690298552,304071773,384388812,615984941,731652128,182313895,243170482,603661239,248469401,979967903,668196813,923386024,171767868,977188193,296024784,590435079,155051962,231152594,243057986,673727029,296383264,410864174,23659108,781663943,445801525,903510862,364471055,864604707,331009285,761414769,947764158,485497286,522826008,11514527,706011086,973497976,713141516,788552611,664165374,531358419,124763220,581470467,884660996,420572882,34240900,257535257,533729636,596317971,340251446,831209917,86020576,177284063,641817472,505924499,731121361,483596051,765590880,473075323,560935161,685112510,737725531,479415,721570261,725685392,575368033,373601881,979046603,197353598,982529076,344289750,105211129,852566826,657304022,291474277,304210958,321393990,296674154,999820644,761391416,220492483,604958497,892430995,851021817,548476070,890548918,384601429,64821101,21068138,833736654,414290819,807762646,382482149,286514781,271565729,543807738,9353961,346133166,894439994,735709976,63151240,904083889,303809255,123514461,202794795,448880504,860545344,111438048,215216877,576572357,9623409,631278843,860949979,913553211,839356572,702970042,230218470,104296126,357373394,829617825,21617592,953150161,465357631,996053016,173097610,213942418,82467568,607950193,162703583,7704341,917691245,254600129,236012101,836431939,648553736,776941476,957482654,340222235,276609519,779499832,181455302,123498776,795892085,265972106,798139733,417908737,460062834,307776850,810501993,552899965,776793128,426361161,331723493,90157583,452008895,136630924,672401442,181481380,401266132,569932960,668291630,645638295,717263792,133713269,91066486,632150506,856212023,408947550,801675864,721246307,11786938,415135736,75812260,387257032,700608972,334229396,768436896,58319719,891937305,358224002,277783693,719748529,858078805,782106403,256178208,562260183,883207884,939078305,762329284,269302745,506865267,717135435,611895677,510161725,37312177,625737108,468918716,552694274,510881030,740965844,824272720,312848394,320693723,942052296,811990076,573741426,272659040,168656365,772838818,429983249,600937963,145255350,461554083,218943285,561640966,159869158,60902083,564986139,653674299,265563739,543495822,929600410,438924703,827300732,892534567,325856587,384303850,298397300,197901424,270245365,384834203,395108031,95588082,981554927,943673375,538363359,653893382,346436001,803345152,947653221,659388763,218324954,564952243,706051964,155811258,385019339,777234523,424948659,682289354,312679356,527711443,620068242,264804990,212101813,925286368,931873506,277630257,804107735,676026614,289111406,681925493,118598427,965753657,859940709,186435235,693266875,431516699,536132297,845868430,431113737,637385871,417826484,140896616,402495355,470926457,609904009,493576319,805855491,70170612,264712432,26308227,980995724,872169720,127289586,625134329,89957717,63616404,211897183,679351620,314602809,454427038,231193173,960753485,201646284,483481465,889320709,926637803,311977764,141232915,208732423,868112879,691003766,147248724,945898133,385095000,133705650,975619682,932435977,192825854,763898662,575458476,367056279,437407542,741980583,395108369,289529918,615551512,503343201,353709874,325898625,330206198,508072329,121279839,27541041,956853565,904484625,82879535,31407737,757553629,747063741,699001218,450860563,115535482,209546753,941929235,700722284,544747271,867844264,200756194,700959981,184397906,911993163,74690341,821343443,53780031,366824517,444880385,603717269,692207785,280032467,754964872,23326752,89540067,311907451,188779327,259705874,413790901,618342814,524620095,691972613,941301290,296701725,477682838,444380846,656157167,210089320,35126289,581709928,25655196,685608519,585229881,437742018,926165071,443266187,115923235,83440711,570649122,60909066,878419989,884298690,385947538,529258315,245649962,355087639,308475045,839036913,932344387,478028421,600496940,805524958,684900891,856208808,899759433,648525641,413414989,687895013,340266502,967287043,803084443,664944249,427772491,12465685,684867006,981236612,560121469,46492824,609335129,863242404,936508976,40282823,265182907,561860298,858917601,66783061,98861184,336012523,294377804,683973907,366877185,701156013,628651713,637424138,189402749,703615802,967619118,239917793,844339393,148645989,152918492,215026396,852041566,787488222,543209836,972103623,364113098,896995332,469400092,241936306,921115408,502610215,419883210,606400011,431205115,402914378,608184053,153331328,36123278,331405558,281751282,98185170,243376665,894346585,892304173,479984266,693951912,686731860,278520197,780787098,602448034,865553026,782136708,546858266,245537685,711950932,916852978,887892894,901768940,633852304,541519727,167892510,805246935,790785226,290061818,583059377,600834863,549623014,708392160,889659383,363261658,273008,191376750,44875426,555793570,576170444,698410843,389155571,778766383,427177429,772586898,851326355,726556141,125453221,953551645,625601522,421653421,831984748,267021064,642127543,423002932,863046074,951539835,14034944,201215926,324707645,956671355,48659384,189709593,245970408,746460221,498222882,221493568,342535865,704583494,421525347,483586158,11918577,598577155,271205186,664557149,171154550,945954019,815324276,942533991,464571606,442666640,95394872,947415291,368000142,267609824,608042715,313048854,765600621,383693598,594648583,279514053,220752107,66964081,222568798,523833352,824524499,149323338,749813711,835612912,201650879,819594099,131025874,480388732,94278147,937677347,255218897,671655547,29863433,957240937,681561426,393168353,903002291,697229564,780152846,895919853,231177823,394544888,432068404,628432912,823441662,737501566,975409256,73605668,27576540,913175920,628906457,872553019,298062709,5167949,910476889,616812820,250213436,630153919,967639515,831534061,477663805,462289256,463797235,426221510,204062267,32707141,953354697,436150873,456986232,553744604,867896631,972537073,952000778,879827254,235374253,638425483,430102813,559970155,879390170,196034948,879058475,681486061,558087195,534416172,948196456,174551331,249785706,216843495,559385096,941153467,499560109,477996462,349381305,108628929,348641196,674378189,907492769,237586448,936361793,638670751,926577242,585719797,20023985,3201646,878781736,302614380,706808566,451770903,352977382,790249918,800045760,327430357,13935860,68500896,183314893,867588796,948280577,514776751,643557992,24007572,795499333,342674265,318832718,565648521,322901175,704207864,693427852,760576317,824529430,778638269,342929756,953549731,884218851,397206090,240968829,516280175,296571152,55286611,589811054,352073970,750789254,225493819,993645920,506045115,921152720,12941810,490318618,73929629,228529344,342391073,260419617,330483034,421972102,594720561,695421633,497419229,879155131,347993268,449419740,316913969,645998491,534317556,222309542,660697053,763187306,966035915,210780152,228023349,182928891,871548276,298727709,911063699,244219525,247496538,430633055,854496893,108522691,251886253,810507998,311615688,776013343,640280929,965549351,571367904,861121520,348106408,385576850,364156175,900324436,302213882,332781272,679102005,461217519,241175593,556167584,89480166,347483083,831560801,611456216,689090350,354726710,878347372,713592188,823368826,322391908,129937428,488841865,258902333,362753857,6388963,295787169,177669831,231442412,448787362,324184408,126302251,620763425,216821676,900280110,771692138,632485941,745070611,133357374,90698297,242996753,104145610,130906499,98939043,208014612,321454588,731798893,677554782,14707521,28484277,561231533,593942542,793333731,576751732,249932210,738661618,494679274,188370985,845260335,248015607,579767690,605043362,526352647,775628321,612868373,687361311,502757161,31348044,600500065,435169510,981936094,917860527,570912669,525637791,170827802,447443643,70768661,332318139,106803812,415019354,694210067,336557270,254585028,929796944,838933327,16817607,62870188,120836046,530638260,957823724,395111023,706655458,551647801,220259957,503453126,909241604,366550505,203029658,134535400,950172090,31936670,165714278,740596349,841321693,114341694,702794920,260366589,106149178,531409388,162173581,290396444,650194693,261798938,940953607,536059989,631574509,161829968,304437417,868433743,195791407,962609762,276313002,962956505,936610018,60808259,785414719,774657206,151911544,964115323,962532917,759446543,38610540,283690776,451608625,843396724,51335681,64560419,486424921,556036229,683289045,742515042,218227166,197747210,972965335,188160320,561919998,135801766,570245549,429880329,949067487,519551831,231852435,52344871,223208234,111752750,431273470,841147129,299254336,298720916,615959075,598906242,578676942,463106941,45142401,855350989,47697422,699240127,742612727,6652062,769581797,730338674,939740261,175527726,439463428,340799491,626544563,217741054,595570010,668410428,186650965,719663936,694641449,544131048,225940779,332927117,598167434,248477823,904263385,924059042,628591236,617182227,158158795,937249447,238111880,475321465,370016232,177294051,937248005,76625708,776550863,750911151,839184571,908505878,888640076,363532826,231555213,597806024,415295947,945528233,986645806,574702050,794145715,897233393,358325601,634472716,780988595,324822001,508069584,277510964,527367135,282259978,910773963,345023020,601465917,945716705,671760506,735168089,744799517,589987381,875342602,156250837,467173743,878202683,66515307,971485027,419908433,467235228,679197122,358428153,37849028,920800511,701951454,153063134,39765323,821366305,95002696,658375110,724301494,253960653,164849804,853293647,598069669,844438982,316808846,734747091,703997270,59299836,957188656,777931044,382601004,866567857,962196966,701458600,461275362,75959349,296837570,655802131,463614195,574279108,783082115,710308375,241120633,288690889,680343233,609210588,852774963,52023165,274842811,877477868,121715195,278561158,585974187,844294227,762517661,934920596,202266070,36600060,663981216,255481606,14519270,517842422,769506020,296358786,345141312,733045412,737704670,644323435,289624281,833018138,306560605,311538369,626689466,431479890,418887450,270070732,536507801,147155996,214463829,920417950,851909817,854740340,210027643,998611131,806120174,15514833,774590669,179738945,480869772,377688819,141298560,866231324,836503435,859207319,353832992,490898826,603749324,801455673,704511209,371865779,327667277,900699539,150972617,21805503,981042565,384141438,792409161,384941060,947646280,416409191,136285823,16565051,102756477,536929902,482981578,417226938,349755823,796001464,362878664,470294948,812580001,768198912,914713311,413520712,870896101,24426653,264818563,123681380,227981704,317659981,451877633,286054219,802565641,504613072,502529906,926910594,493333402,726574771,424157881,291439866,929623888,963372016,943965610,730928024,25970576,799163717,119803343,37819472,636541723,135798113,628924369,1694203,688153189,636674363,828839329,658135943,36282512,838599135,534135297,326763517,292657870,759202781,152072458,895682847,522871402,346630004,81683999,911293161,470563967,627946590,420336706,866210631,798763487,910817874,441183335,68005822,433981187,378194350,830880339,671789205,755224751,535469526,13806413,655352145,992760612,408402008,79379860,416652213,765293463,876802143,284831145,964235087,376018016,43848085,868232397,925470926,76491127,720027690,450519739,770400178,799808095,134939708,253439452,25276199,836614377,63003353,745604051,322043306,30486955,313298424,767214879,90127185,424490377,159775864,221076496,775550386,618194206,774383117,813590776,240254149,345225899,454921817,115179737,471584857,308244193,979288129,205337368,274039668,734814415,120273797,82496465,44311652,238714920,845715276,930586070,783496698,301437908,829296378,897215356,997014646,246825949,736383608,935633615,15734404,251481576,870314369,65450172,514461936,280445807,14666367,412648311,314063229,613828743,218492274,626812859,436289023,957840197,864612908,961453941,95500174,547852243,501089612,815440117,328015329,239496931,601285656,163574197,536187885,634521787,658294262,971428283,747116873,507122530,511606899,161440696,285742351,361616247,349106323,945058113,810110506,593195117,442078542,742071863,929515594,875179115,913509682,383747726,465967306,948424713,255456855,945422452,903213098,169861852,582079094,761081667,394236529,376721402,237918386,59647006,921913327,592918199,362030393,45587406,13820968,68618545,347514985,98871558,939915213,765742498,957289399,102867624,273648931,675732361,265813793,52058157,73276448,76365280,8506091,333584774,698190327,109890047,614922787,823236817,810911495,677719116,250299613,129838983,209109174,307636713,560581352,349667498,431854303,507273957,216819241,922195679,377023351,17312532,477677288,160946606,52095419,339231191,361654760,612951706,242420117,261523337,196423344,395875446,271795977,541797126,664254810,710750975,684608188,691861367,931570362,848906072,497570874,105806104,733540769,512098713,443338456,757992658,702354354,737716546,795184442,126054673,961619740,99704150,155588611,62459311,306808782,321962211,738239024,926071197,289512177,59073500,743747694,812569095,624613919,203175540,356788333,519488003,350953263,97434119,183857051,193589641,983727195,103362055,756326153,665537779,888160987,457121530,387561750,187835152,136271423,489749300,127205227,296250778,188263617,434877148,467631155,973239216,86065530,42822655,285135464,971878004,173158890,961702624,750427271,935639822,240434426,802237442,422194481,603407075,595797246,388914982,609182845,203247691,365685050,976202640,420359154,838701923,795368669,155994067,617596677,251215469,450314613,828105653,93226775,496012086,462563433,588746398,3502266,685488144,422969369,633226502,406928581,670367100,369724929,911183953,649232718,476375334,225551184,803656270,809618015,207165909,629194720,552573316,184176584,345891838,415829313,93964703,73106041,742861662,960370277,465282991,118601360,766364096,257551929,478863532,503105856,261553626,180045360,668275434,611521086,842305736,118858587,403627420,40011565,94798659,953564952,293398881,385329201,40683298,346315691,692956548,486827762,471655076,7482343,919829238,987196815,818143862,631263559,814668125,252075115,5853946,795651556,231932779,993798946,871289221,196568150,63101864,531679931,552824016,326610530,447066014,954109813,60308234,566194688,125131733,282315179,579744890,540948373,46353872,937678047,948344865,880137297,823336959,325215388,237580904,798666289,282641030,132877919,308434403,833349147,231685354,44446527,555990382,364086407,795244553,862435823,860885525,649209610,480855808,680433396,892524181,5966558,425242524,229021988,375225930,205474275,13317009,250932102,648056676,736048001,72159217,135412642,936625323,586138962,140448045,83325985,257574638,621543338,162116904,856848237,134180526,940401747,352010238,909353556,548613147,168926722,432013974,774621809,878978686,798519913,718522491,707110314,760100775,890571923,758902873,509211396,722920918,257658914,749593835,232064535,784604267,462105465,442891416,376802652,779514691,130684247,367608404,740278690,187503333,628260975,394794548,753705205,215304502,576910094,399417000,981172708,296160959,454698942,769384147,840505042,15747610,551606123,107912090,415783245,413204232,749484758,362120416,263645257,303746967,906770136,482311067,613479376,59538302,593250270,367238748,409637006,792001630,177137593,674613771,614991399,385077629,182601333,305139649,916543011,749947755,88302478,837660106,278274099,756711584,833345929,23036832,175568863,316834352,417589941,531996660,576879607,461816633,36212938,667245324,166146057,344240657,717286830,904340231,535854920,337473301,478782755,970871688,621049646,123021552,491017691,768765016,209593200,401255255,18252333,703071814,324454058,520951547,383476497,857699651,560883778,565221853,701466968,183993751,869288754,865774669,505956169,955325420,718004268,945536605,858152903,155753061,282176549,585811502,703418315,994623846,806634509,49814178,687568741,943070892,202565842,661147464,756099715,705493213,614302560,877517563,374375549,6335059,317905664,650990959,974262703,667934252,89891068,711812228,435940293,855754412,286911075,227583892,827381308,783793555,201509162,764088192,456884720,235538764,31765085,878593415,411813336,299178400,146283719,853337254,617114476,491615571,69366896,939021570,970293460,155419203,733004370,804173056,773135478,922328358,100135268,949215457,956121106,126165037,297203845,680636209,696993646,880035150,963306311,689403903,39765381,376828251,667167287,31992118,178746220,751287398,530950429,829513140,467230826,920495697,760475608,439943806,464695599,84796052,556568318,20494751,946512916,985403419,75519332,438675105,259606881,339699922,783777662,202876295,51383747,286355819,709417145,412227005,387238785,416193144,457201218,374292911,973930392,373501546,267177566,701017655,93525699,492109034,66503467,742211511,843165222,219220388,337781424,52308509,580967261,370075910,113163943,55190060,549567090,419888481,767954835,838967167,11971759,934145401,847557432,477361589,210752174,548347898,991383446,212005882,452226519,550582902,705017010,278901372,388877425,231713393,707222148,892712812,754584449,496580926,966623684,836234451,641371298,711914754,435314211,136143835,532490936,636407992,278416611,26286683,438069749,740934284,7675316,263947734,361191085,175513040,947580522,375334120,791861354,998116876,877284471,223436308,658105375,724211611,490419941,377379031,388396559,708594914,687107810,464724996,96275191,142899225,659013065,68786064,748352399,716520513,210203955,428423474,735535616,766026623,56365235,152356800,868185688,37437987,908290440,749163838,924528113,46964341,71993298,823102252,12309924,334430502,486409966,610808908,959117228,735091569,209015672,969214178,518889187,219994784,34892639,814083131,27683237,373775679,17310357,180106428,147076885,795634464,302759406,913482860,545192617,274393538,80631590,452404826,760510603,580887632,782749343,25756995,769319131,212475039,632687574,759360216,222475517,308373890,526546510,441055751,864065302,737418149,94534629,207338119,267011352,75647245,919479851,541921237,9647445,489852951,954031050,50069802,380135961,760293109,630220922,123704044,517352031,721904217,287748376,413913893,37395972,843968868,13820322,932029407,597329704,643510218,379135238,295801578,525228737,28695327,528374420,592485945,159240077,806194293,427606874,361726887,679594404,371244663,402961015,113612983,591369647,386859210,452999184,229893368,425668456,312240729,542872275,959727220,655885371,82227698,946410105,953158822,717270620,18673916,634047008,103066595,290067198,828912537,959052986,184013357,494320183,941302885,411305006,989323893,198458640,751747642,989880552,693906060,629368549,267255036,249949443,181334922,829591021,455725110,341064787,720457581,717680746,29243482,136496096,565237570,716839025,285412773,550314100,85339822,89158704,378265968,763127207,383408841,557508027,731090821,912505570,688015479,816100323,182012124,503211550,805654345,409512677,356922408,297993451,511444660,637689563,429760977,550851124,835244248,929427598,820610281,49129145,924635594,499452900,546422468,491215894,863593876,234197260,45575454,776799173,93750009,911089303,418000732,275090976,477480378,505983062,662568705,921410713,998477063,40601480,953679590,930843864,274709787,774265354,9401235,47382510,982493819,767348698,456336986,957472208,898763706,498857904,692080794,802856629,36194439,28448902,992136090,242459709,831311901,663566879,141325926,806423887,218649771,34849507,75656718,328580056,65813831,383741562,447718377,905068769,416720921,416189194,32131866,942445143,926691334,687692405,908613551,147040080,658022697,902439004,660644909,582344471,275960835,34166898,846228542,946242754,862848478,367030263,838841866,203707349,659108373,358723431,981737373,107832700,940092877,408764165,999682330,291558774,40780321,413005040,659925635,289314466,132670181,474179319,757412743,863018151,510921023,964028830,286402604,854683412,480633072,992067389,205558034,376158433,540664871,638136514,986561327,985355854,606144699,21681207,79852355,812933057,851359837,933803277,651871861,57269700,282195030,602869879,804250483,792167918,289124711,3740797,209838552,526295251,410575043,742627155,14764126,569525799,340769543,702070700,596656857,57593243,612605592,717684894,601882673,926068604,113313391,90182888,33973577,604725643,783007100,537035459,122788768,687293574,294864909,264686128,324374864,545491896,193361919,114180027,893467675,369101761,328491373,168942709,416480409,636965957,145345702,102619322,714922199,204782577,426453433,429743421,563498583,804424326,411043272,14757500,629664096,119622459,239007838,282548924,818323120,752806882,834380372,414991405,303178591,544847744,635034580,508437321,824791773,228529235,114022874,661062037,253015328,634748983,748875115,824743114,221858856,354802295,734899094,274353278,62035112,360279270,951506878,373019676,118443500,295310729,415668771,277214229,862198004,35132126,983244375,237728297,608035551,898235536,342271801,398486381,74457806,416219593,868116042,811631304,165645059,275779910,690121895,338161101,809424319,73375970,854903883,355982806,160190973,374509833,818702009,256471347,937782101,429974292,56699339,979591657,1503825,491707750,437750241,422345457,951506353,18126877,422106998,392602938,68928124,104678190,486850757,118381739,995649795,190531341,728394175,682108683,442532846,258133818,285608824,45403448,399464485,871772201,700563573,781744752,511847481,392852637,104835639,5253754,907642889,596709037,846391953,93510534,355510838,938763542,765089996,894971370,440051175,607020290,847547605,53677208,830728049,238351020,450506251,168575929,850147736,279454729,277692810,175185210,332489579,222336276,376556795,75598111,193180607,460016644,633816319,428414923,15474066,539886916,171464620,507570141,350165923,179987712,448348015,70842127,365835219,478588551,623254171,431453252,357437455,415517326,898772020,687136917,562375354,757260862,346428654,322029323,533891118,920366085,683306513,336730463,75841764,918943381,52652288,948016540,929399674,648320482,57857288,793102890,902224098,946397884,286448971,839679824,523003471,211930861,966171177,982073998,100776828,425880122,95954691,693221664,847042841,561501022,451009885,747981919,690904401,724118350,531156234,602752164,675839323,426012448,909608498,512978755,100113798,122896058,515207892,320640405,237884510,174283865,254748818,572235189,639085961,446479583,77115139,323985497,81667689,344244278,777218141,865688375,935665878,263638423,626606138,513239918,127505853,481964271,183509240,438058928,625903750,126921648,445934485,607252303,776074180,561345378,27814433,275564948,922384423,381414372,423579917,405235754,851587378,358069746,402842401,907835540,346593118,627040597,657932906,677648242,220267584,667666000,925645007,994777668,878145289,609989749,706561512,849163475,806971137,277217826,271267572,305445400,224290426,769155395,62426557,32844129,419510873,13995415,152987865,491352987,228611273,45093926,757176500,201755736,44738918,402182309,687357460,513190241,519646060,986548934,378405075,600821231,666301646,408378229,15477609,865802942,826835333,416063864,207322453,447417428,128514866,79269018,555909042,172054964,493731256,626831352,74177049,355647432,530349906,771453158,786715338,365749942,395804637,915106771,373355992,949756200,750320138,971103111,805149804,124805361,900857404,548385958,700680148,673161551,760764589,938949387,405410939,432585483,210734633,207600228,86675334,9991037,585705159,459025928,616273598,751082204,891743956,961537258,868291981,100088002,244754740,786090108,490345593,908455354,415093875,650946731,104136026,564991705,493007737,563601608,305595004,733721922,66243461,162227965,122133764,490824226,853700713,257848169,522714351,266686668,510258730,464850088,134926933,313109163,263852077,12566762,588798155,45945607,300471353,344792182,145141624,337930234,893574799,531459446,94720262,460370158,29922675,816301183,300105749,500351614,413334159,220933766,305593314,322071269,398864358,84098489,977517379,529055426,903259308,443813615,774334004,29975904,819309206,383283381,877571433,832847903,748240015,610222270,186015473,141033025,464527343,309548404,211222625,603981887,613179336,666463936,221774238,47305512,731220513,403850987,723716506,522972954,129846388,762808944,213059138,748208217,733978127,907665560,581971664,20154403,241248662,755494228,688694779,880190746,688994744,708952,97762782,598176056,994072621,211255647,174507199,592635668,531687146,409412005,426513358,151821288,712881492,791960432,974391570,497922232,914718637,760316554,532414984,540952438,676824421,226977100,343619442,494662594,941117571,898615595,621563756,308105520,875831593,646538340,392525388,512600862,297519310,150782984,603577851,964619946,94673591,55305751,479161322,850437459,618495028,322298073,254024108,46285657,684731608,122534603,354166585,399111192,735081648,67804197,308660272,479045416,647340465,47366777,287245097,169688872,783371768,281176641,480948318,787166022,946983735,426968046,27085379,543074825,636585918,161994384,500322346,393643466,784763640,244719586,176093716,10404243,97811913,987513436,173217609,661274674,49865393,704608310,675014108,709898386,779957944,197893953,954363149,149412957,362708442,465280060,124047205,5077791,52521871,663417556,942911597,920076258,404868612,338971346,881434306,391347629,493042738,256181164,341484135,98055193,525633014,284347318,240573643,554626240,393270153,930613986,480788824,754663430,969116300,457778003,922491814,176930694,748603609,722865773,39491523,303084153,99444163,1994013,131114270,912963068,456608944,447218082,212644489,632687011,891200373,649300727,447691913,839236305,658982268,459932560,998599091,687864802,443700946,118087692,676800355,135044030,640771706,235368671,700647816,270253725,226707323,902964689,155820937,570713025,758367548,420133693,7709513,822416073,206713682,456710859,882251200,357483223,549860778,311049265,666717106,249153601,442568647,220331994,941986306,559339499,662656415,904718707,301803745,556147281,633849566,328890738,900678361,374046298,979182736,731330675,653798753,36299221,185352468,680986684,113980380,573853396,897777132,785266315,610717367,728530638,673029885,159239579,251558858,650214838,552256453,712428782,214366829,82915533,354499844,513587390,470551574,535556544,727559129,165883116,772748667,468912514,294306271,708450696,56289101,158200901,262240503,717363755,418005644,961365259,749863507,411106390,507366206,824308445,848034022,31033827,306303323,167477920,991057555,361658653,319051233,699363241,484296642,924352779,920409186,635151998,172077661,594163411,61248258,846092350,366687468,285512491,10054577,931044356,84519536,624641686,182860059,86527579,24823368,704384540,692916581,988813635,985246478,44569696,202262319,625082662,82053671,579290275,170342955,674895713,819527115,454357677,310610475,842075947,287836283,452600571,166328128,429801550,484686722,182076513,747204601,955896886,348840536,453603300,712680499,356381584,672344743,38863077,722171154,359829811,499988560,934402733,393733549,532403030,395406260,97501610,593407081,915815004,248235974,729109630,728860901,557512153,990561785,456740613,715759705,371582212,328740221,219932425,21638056,322834864,373483509,8033252,660616421,237023427,884854528,469625102,105580411,300984844,134886516,519734967,620823993,222481544,171595528,425355471,232044011,543868161,88399082,44294144,848648140,504891965,463262477,434158118,178841029,36919173,754224548,395279251,563600825,279448378,69142782,799120583,485486467,441742087,312453918,332373362,736125574,322669144,253073027,438104642,448747156,245354673,1447898,352184166,763733864,300481428,198168394,519865291,923073718,42445011,837960542,805015583,795789044,702974148,570864286,30336606,846548208,866745650,22987233,993476748,948939838,993915748,503095441,805708561,84393308,123970149,449621880,803204502,788824216,295761905,260671251,209189538,778760981,256291794,658245625,51900720,915091559,560692138,158323971,674198419,299601265,100023177,699516568,877078836,137289720,176830104,831264077,862085207,99969802,572073693,969296783,145838079,107603708,631548195,368933998,616559202,46896662,675301302,886131763,70212633,169526322,19734584,181239586,361307533,318131883,852672236,296364069,496522389,431577672,521033881,567166869,388181062,569808051,523891590,757529134,438640345,923344308,287067993,242996391,608932748,888763063,637495074,512007438,486910950,613901514,80482476,236082954,979930817,602696964,743884246,746455344,510728192,453883871,778847897,846583158,321459767,60847573,328203900,864913861,761039828,186611116,816778271,901246613,630092416,468233362,755137078,282582630,978268432,300408437,884935512,232406111,597983951,119833239,483227191,267355510,91534952,442681877,213762747,31395678,572597239,708077568,190250805,427507316,577067461,238210781,45215824,140963912,360802519,148377894,197304227,31892539,708111410,703338070,389455056,766287988,616178425,181098162,34352411,702971041,809279407,494495326,97727928,612905486,318282276,872771033,791986498,365537031,946098618,131288588,902061915,791398975,866226227,315945169,834567596,317012900,786132274,527450921,390446904,558724389,588635251,502085647,790909293,314195228,940973833,672879398,555839244,960304612,327244463,625731146,921407199,343538344,415426347,159054165,378053665,646708456,92855825,525732515,609669077,635664917,707226294,34604934,600225008,975288277,205006556,239948792,127741393,88703172,262594911,682732735,287009306,832923833,740547550,803970314,288994269,475567714,759926584,273958983,738573045,927089599,139683958,370973806,125262670,498953121,512136869,795669668,171158978,80596259,566124514,792761211,916264097,866456084,557685590,942104470,904294301,635302395,548819986,439566413,268685726,941713847,874049706,984679430,168473528,716867602,13896101,429309625,357373994,319329263,375760499,962014489,171793248,126716151,473253318,212160690,849960552,388157712,79498143,156380204,837795430,956646511,895444392,569948212,719283407,318912579,209750959,412658031,880051603,819762559,346677695,924049556,112445243,399077169,599897736,802718137,206023941,442932229,317955697,351777376,984944839,189148724,543940499,687756291,829559121,496236258,118198817,849253102,10191890,669604725,124955631,334456684,824397246,509358380,744883123,424151662,370165127,720490951,925029618,815662486,188138464,778312188,21145150,839536638,444931224,601728667,668870934,617402401,430199605,849955696,382287740,868442170,942805523,553851572,322569100,490027241,444448234,786988884,740110247,181482073,420262390,854880997,22148559,546220624,925860355,598372205,852136808,867308302,272773759,304956694,844658248,862236448,852551349,358130061,153369190,925514629,202531332,697155770,638010159,299149354,291348225,775970661,944361733,99423551,940257616,154259399,678453199,413842500,982658479,111745580,475488079,611587191,938999784,497435861,526074825,472777212,921980710,707030750,844627849,818839106,877443825,714004778,799141071,160929080,667623059,966130707,233164219,215530912,754215307,424888127,454197415,571708516,95578088,350584254,184147604,108605590,913233930,539667946,26052782,647807415,877323149,504019572,493387364,231346073,249609496,305825273,113173381,784003138,798191555,868721897,243154727,690120422,348518185,656896429,209266028,330148093,877267454,802200689,909633422,9099175,331756195,623623135,91911137,816510280,908336854,792004503,309140992,627058635,545026116,875827516,292057938,394773492,205661570,470277595,295918199,276262550,292127830,182874937,449379285,904302052,461141625,351709253,296110109,474486796,638220613,516362057,369970396,376550341,120679069,638732893,748091846,385713059,77215181,492199233,401530075,887819459,187595755,476866009,302541955,160434484,393338263,855321893,411565498,620915408,606632322,58029510,807997231,471746412,811358394,864348002,210918393,243591190,632911721,757905653,842053223,990373620,494332694,277135175,793493577,524973462,537494960,202570994,106635783,735633998,541016847,468347069,447527794,490717147,232224208,769183358,998244332,774599482,426500221,971807886,699160892,834966608,26427872,498986772,548830007,188211539,5819569,61496368,342272029,694657009,458439413,966887932,883354926,414045977,827274966,73169366,753261759,73704593,963304929,187432857,391441127,589014493,836143896,874313911,148709880,604657090,318946979,422665026,493339,830314792,230405826,557401908,400058328,194908799,182673494,237784634,619189215,171693081,177194076,170734832,915925973,122650578,325758047,805137864,422602416,527020512,69338482,497863131,215094621,514059505,240170639,127918545,400429082,167284299,573432506,370618214,423720253,625741325,812442938,33387322,800034088,830026720,873396177,272073368,331974998,421536976,724732993,227059921,693800156,146158676,308575960,558226539,49068731,468186676,234302418,998668031,249555558,808521196,498928429,191998308,410867874,932935331,143594766,133431951,195184147,44182170,594763038,206333653,650490660,760565815,555204644,89679221,649861248,840849288,235494555,223265341,783462654,430451612,242690296,626294175,604658864,620422349,980175460,402768205,936380030,126357905,168734843,682734805,949252003,124736087,639788844,593891737,872726617,994943532,736088239,529178141,937537933,3285216,576234307,864406637,357261848,440631129,947654138,124432842,326848050,508818482,816413542,372392612,263973309,14151486,755451101,244455393,302846060,894443174,102694395,146196253,371189148,499601162,838727217,545522456,802692834,811787084,597203611,637483295,133838694,597325760,667323563,836284570,427325247,269190959,480200856,947762749,248213357,780296950,991815858,468433658,122537602,197299111,400917328,875257834,616329108,860023422,595569437,715089338,743088741,265133766,927147503,99498851,42701159,868561494,286075988,374996131,234717453,692257830,663501616,219641681,981855496,309991754,154659018,662764776,191214982,81521810,881208129,399938781,9166069,530483127,875998098,257343424,13015803,822103132,61363603,713292020,381809935,457161857,226904663,871065878,107956613,509682911,51052259,261830132,898488340,58212827,283266348,249774901,382447238,447593581,468198187,489956082,535506610,872028504,587744972,704311816,396198830,290166803,558697893,367383255,113860929,460978408,700304980,796995129,5519646,937587694,831686625,827642378,107976390,199555203,925573776,894574533,221695163,849666287,66671218,456931817,915980931,62079548,829190537,21741174,12607347,378486906,898500584,228104611,508335758,162683849,985932388,348669386,995435015,644592624,344196385,949233967,722083651,434419643,285647950,418406338,745557989,586332677,606390854,653368011,156318150,570747728,999587638,461087896,913004263,896187295,23362224,751665792,421377979,145278311,863558351,674022581,689764422,466382500,138719485,817075710,186032978,466055548,492924237,754115882,5776782,306092508,947666305,45226070,698571936,20764562,754978938,928631020,609616782,199589023,714239255,399504923,141032449,659905703,693062768,441886460,580009399,252072502,958022191,727616891,959452626,710461924,571140415,351334171,108164347,932029073,657187185,376690246,722705799,863994468,280085388,108379664,159360845,125065863,151444127,878673658,382847805,442291181,999994946,732158604,592716657,985895239,672407189,26690519,184076578,740116226,57610173,854671462,564848725,16935876,429649046,976644901,380330428,438685107,47476046,380381454,83835848,3226978,88677853,407086052,696693738,126777334,552611662,447329036,86967447,164673647,194148318,213227936,96797230,863531359,354006432,121379827,403552296,448008315,659109330,172751921,352955978,865745790,877978364,495616437,141282118,711260200,49118717,984747208,237509208,966488200,602485238,870966400,57107463,527512316,376483777,568881276,411980570,378085448,269111781,153689207,691048312,295482461,173020796,64714769,148933988,567674131,20091949,705856022,995494231,719885125,953148506,439622908,230264274,620160812,589135956,696279008,178735406,164649558,794135681,233506094,355036454,433421840,40800040,406604900,47124546,922838236,403023422,625977737,376027297,287902611,389383038,156712353,306363996,222700890,460689795,822119745,86235674,872741633,999134400,650265315,834208400,59620637,274269623,444511390,53025120,998368427,270903989,173622497,416795901,40050132,212558947,276929380,514212598,270398398,557826593,662137550,942334848,189309200,583339804,108828543,55345236,455218012,808840698,789822836,545202790,205026269,180703908,275752157,636572655,434423186,735200439,982617042,62450861,733741080,292716786,900751049,201279686,294323082,352436977,500772614,859507977,444049507,391029421,409503354,187839629,748937677,546938091,800125565,790304797,332279064,301472610,775373533,109818353,710576409,501783992,885937269,762701476,468113459,523491982,352332389,432840422,104119164,540282970,55252496,568065716,570269322,670563719,598657041,410697260,105716061,236864484,119641276,313263469,512631220,323293079,414610512,692175455,650441858,339443266,172007223,711795009,126814706,893304018,58752026,861849297,14554442,266545188,839449962,326936725,960330112,85968872,974944993,271712574,631243495,958092388,81664589,664515605,719398384,172525304,6019178,533306229,4663867,572487152,567811198,903025810,580677930,749042575,355887336,405752401,333405941,694731847,25196762,366022245,323904382,982049900,828570332,561046760,454248050,382513302,994720817,201911588,57888170,5510059,149450971,462752228,517079853,159695695,155635252,810645610,478806920,875555190,993027624,406520816,969789351,547937437,421620440,631400183,131837306,248984788,301031498,799808305,763496757,679132356,179503487,352265020,793280310,214894113,866893526,235367889,670023444,69928670,369961233,862017047,400017600,670194419,157924731,535572391,366706406,446707830,29933396,800778511,966286533,964542075,938633011,280407683,903058328,504650955,169879701,324443276,868141197,286857914,750343834,332195637,641452480,779983287,716784189,431241970,594469437,761233249,984738310,59458357,118197359,464991804,219645326,951206833,870210775,269920380,321140976,903043583,421545205,446432287,228712393,773179223,102225299,449449556,893559245,563113699,306649419,317594606,76692887,721049800,77835030,170141639,620228914,93254085,420307715,882465379,254865655,682558176,714812113,207635315,221060512,480118855,603771124,159779951,258185068,428945832,180688402,728169736,844262537,805128008,910750676,884913545,460559498,579180648,748148016,42721525,727661576,468938656,445938338,834977481,711670228,420368562,958373823,372169953,479867204,601221419,706053258,618883270,345642680,807130993,267310933,237262004,862634823,915683659,543189403,796695552,921653911,37531019,856532438,381957861,200355562,82233964,733470405,344150308,34820729,230313246,318335387,792323558,912901305,26875311,945662672,933794562,737016429,370757318,29537924,415368657,76277802,624842593,491598962,832503779,835739964,519896193,452451788,171676257,753984782,131898335,79821863,469432944,314947261,903463560,93397445,545285221,945005759,556377249,825756794,93979949,33384441,60532346,260612707,715264562,323312106,343741910,360841525,568314638,614631923,496672620,812771912,648410756,368108521,835284301,647571796,544928862,891395476,630194027,164319806,945521429,864674483,443931851,503981813,1480259,372588177,218663906,84672398,733448467,906004165,978672110,973856368,225470963,242977272,183409517,59163787,242354832,366133663,803067095,472023434,439562379,297809622,668844841,791242814,803111178,937045726,539372093,53459120,332478936,467497251,946978206,798261170,851496053,813479634,835868167,724016479,381584658,505594909,243608182,385906126,927740711,392640023,367897810,507585111,815556221,806943890,444365934,764429347,345637989,206263107,278475382,260849816,869458640,763759708,570273258,618341621,590347797,907597543,229485124,806755655,583400484,951219845,953035758,492663162,322768025,456784678,381818266,786040916,477690209,432442709,594769174,826675109,909942435,892916639,803443205,722825215,238854282,281889762,925004774,761847177,655073942,908344300,374608212,668273014,82036102,766274698,524073194,775035753,964365498,744939419,790766383,964934102,348828496,602130280,311634670,757899450,653195243,542219889,888787555,516510813,640630424,821577049,79902480,174957665,584290557,908047563,485814524,419262025,225846551,7823668,565546093,283659236,298525733,70308034,19523767,470631107,752051900,433042216,241456483,551768593,883246809,22236530,884647186,864395869,765405754,84291190,808185373,735663857,686361977,396381916,917462635,583142156,555979886,967160039,771564487,586348246,261365837,452876393,682920746,46374618,255238336,205399466,688144800,766913355,654597794,600999496,103655200,351641384,794176006,197018486,731225503,695541562,173685157,110605061,880654166,958697914,897200683,952085476,831840681,972398736,7910761,738140850,711186898,387814372,603599492,6357593,546906211,787497924,321806318,465623665,833758348,377096821,458607404,415196083,727764271,924434130,382488620,134293224,791818271,294020015,932980998,334101629,309871052,917612351,590032151,899017664,253195859,54674877,357949931,574085658,264684168,103300569,954344997,67063523,674341576,299624720,632748506,43338897,697285957,729377244,709450728,199760000,225713370,541028009,282495190,454782987,277814478,184081401,488004115,667753050,349624070,950257329,867220482,92714480,616800187,805102483,379596275,329357792,478180612,701628501,8573568,797707278,259724465,35555064,776753293,644064104,780195746,598589947,131447857,423855627,242603927,903440381,480599911,113974602,911492873,419645828,88958594,552489388,159450919,73823151,367076497,559131554,266039248,552004896,978889704,197844285,789907641,768871926,434459261,512263290,544508059,22487493,253168866,673837441,500893660,120609456,537536663,268981077,523268212,75389801,439414004,608565732,955348823,895274349,877361517,351144334,815210732,711288256,965360407,961979356,191362700,935527648,949429642,586251200,970522585,977199912,17966307,403255314,631648763,353834785,293205873,376056091,462015888,363895973,9891731,692983853,518636635,28826378,644154140,305270605,769858917,72774143,870560216,763664171,127633602,936967643,669047757,740733319,818433910,998632588,466921866,499879096,109423513,58084355,975459445,460688542,519855204,333287720,410298351,232702872,896008500,529735890,413983217,153673211,447664578,295316370,417493528,987423621,597125178,387796747,853300540,761953584,319902703,163818050,400959059,120262949,500584768,574702210,715655631,173611762,856686887,596497008,465724691,778394254,985826135,783819430,425371261,429892392,541783997,66378658,32806400,302123516,448655359,238232569,936230267,798747751,494634527,912080106,898903212,765437676,183395632,214176250,770640874,696993831,361338697,340933657,213031656,302903746,553169214,195061889,609709397,348685894,2126853,979482813,76808697,262494907,520705110,359766011,445866652,750806840,363852937,872318005,836407154,796484779,136993809,674557791,680143923,312629473,786137026,299311286,815730258,628733160,840355369,457841110,745362794,875009476,251946598,951800319,976975315,341488598,475338428,110594102,628304205,631353239,350266283,600444518,352257716,775410323,11418020,545150008,402275444,602615312,257806347,881621675,200949408,38574478,290389086,190721110,832023561,838665143,126869087,265158031,440486153,289949540,798354461,245652394,627443891,750498290,814886752,554286732,720897497,667037517,181009305,186690780,565957588,624495515,291816522,495977967,236306764,625776469,849559393,811163337,474601068,249907380,880647971,951089506,75186582,350713887,688095413,864709496,914055899,265727470,527140957,515046456,421728001,167687156,338754702,84250281,307163513,924050672,657337621,465688989,75765219,155639314,808564823,299101023,597081780,751949082,311874787,312258710,183800377,519176310,466252832,186256090,428022512,21293306,196356384,633986020,185348155,981773283,41224434,536063181,206722236,983141128,886799153,139413000,800333904,152471920,789210500,177292954,410059632,62709539,933866666,869700197,875101618,23314875,565020849,510666065,341256532,233308008,819883615,336762236,943450968,231093377,689334566,483344275,741375646,530726876,455515393,31877715,911453359,847416656,424688247,749369719,960562323,361856616,664062285,24003536,218010367,888148723,308169329,482303108,900598507,586665961,876525711,800682984,689670525,185773731,527594090,235352456,945386199,36595680,876529456,11499967,165147929,737978758,923627404,201507210,543361040,354755479,765536786,650938775,723265892,573910498,946299700,318543677,176551744,543703355,457123006,674759542,832279818,782394231,214294659,381756147,586914515,812773338,23951297,807303180,870443594,786022788,382258301,613999517,223083950,576879935,728872919,73044370,286417466,200284098,634676294,980956861,539294602,881951469,513848572,944385146,280828706,908317131,890332041,675476973,292428925,617063026,45038296,320291453,438250598,442696571,465191539,777787300,755048577,927490772,784675223,744815992,162134012,643992922,648957014,13902257,651394283,611113951,499732772,225175303,718441609,805453174,559162913,362517053,736901803,739333814,644161314,885712013,981431086,332404765,69369612,63595284,272063494,616973932,211402972,899454953,223120053,514831937,956097592,42596358,191585291,851422263,837386907,161118403,85944838,456529061,300507763,572032308,257303516,477793028,170860498,54014747,872489049,997572201,576890414,111064810,101415447,911850066,647754923,529063586,665959001,350670222,95704697,910257461,552880794,273398535,791716186,19936022,658256408,712802714,174073889,138562165,488220863,836856099,417603060,115534175,699680522,784650818,250549684,324686984,446836615,778683245,955727111,375556651,922406061,498092761,582012223,435469069,736222460,652254757,834855103,243874208,522707870,433597647,73417283,925019131,244758506,836877716,35776006,319626059,638756723,295081237,743144677,569018846,111083023,854590231,763020361,58033181,48668824,837981215,137878204,554046238,436215182,927714350,98352685,592434548,303371495,629515257,936935797,976661211,633407731,193970884,645290180,82705975,84946228,439269285,53104068,763838182,599306261,51975519,280002202,334154017,482853184,869380764,782719574,466216073,660226111,140369232,153435922,827863972,830774442,462419087,154083423,824527989,236264906,155964056,524646339,442273950,523086277,613871813,748021373,685126530,483787335,764361708,143831410,472447609,671375161,462371951,630707972,827477244,936130924,450030387,816250307,382968785,514780267,1562822,799518509,947273761,421951888,491624300,786168173,710528058,563081970,817109191,618814423,700350762,133671251,167870111,155541324,314134642,630035200,828023159,623576028,217887483,998976080,715006337,978668751,711082068,250234214,595591743,663487327,789165664,859652778,63217581,783235226,137623207,105587766,284677706,389551034,385528315,372685090,661300266,624449081,942551158,529932264,197213217,382428648,95124039,654212527,629753052,962862841,464115370,731749221,980559227,605655046,235526786,647309115,925107564,979223493,324112048,488659151,780238607,474011139,630968362,168348993,791347017,336073620,445119571,29560882,938685939,233761213,584139472,930099479,243343416,975481744,768768733,262379351,130152419,855302033,771678371,902492558,917895630,579851330,731826816,985654172,934935301,347318638,12514058,238855400,556593304,813554142,423868959,301016952,466032308,594124568,307153569,966554504,390441096,139383642,385824246,957981002,339251510,453971841,405327091,375444022,40518776,880109480,814456630,802098445,399046495,309402269,955156243,736797432,56305466,770978420,124881974,279705797,947880028,498022723,436820850,345429929,151882757,739225724,82238619,69010704,474114616,12533319,768211685,553646225,790781613,749475197,650267039,871507227,628870023,244398520,426401341,280931211,415675713,972848668,443260559,575834489,690907180,276171929,31929987,784586671,536212427,540978757,289327885,427398229,629497932,232315080,77862897,655745813,249420870,687168137,902477540,164468204,773122541,648463572,169990452,502412256,956814449,836526974,188723793,725601366,574332073,823694803,147250781,726856145,176706279,935519793,370839091,716177665,975104961,979729126,344416789,563549029,93050743,281747502,275519396,931324988,828095835,594474195,785591470,202759136,772321183,272753225,570429610,50616437,921576830,128199016,486995401,289256354,919154972,997635129,452688926,960715403,423119409,732857164,789427101,169371776,961843143,380365703,516265138,253603365,650538652,91560953,905762064,840087240,995844872,261389973,996700074,38882637,399768065,593107744,488053161,918143636,838017502,59779509,896295129,632574674,247276035,818109581,533162626,611308456,980130450,404631799,227856556,285222943,749835505,652532878,265981232,368725670,362704772,897718553,185585030,476115881,814625542,561228292,12565637,135564095,533469480,931173397,947046007,811699773,617452971,816558898,721947303,211664492,146622563,432830145,568097136,569137065,760937248,249904419,136974161,611145910,781754973,908332210,469627704,271937971,417783944,386591886,682438153,956059494,658750588,86507979,344669216,73019162,512262183,472274007,904444138,86645499,116873159,507855615,673238309,768245291,950863106,20624111,414605446,619370960,524341827,3000797,468004330,869714539,968337183,231226740,719603671,948312148,379855333,432552121,255232510,608273696,819863420,370185780,693798728,378103827,183892077,480977697,775615496,784959880,135132053,802975093,727820615,919155318,951312034,253266783,295043046,630712642,435524165,382819025,122338762,112782596,107994609,84986523,671296561,131269641,382817517,915484961,87716745,263305623,884581854,987262003,534757693,902722793,473434343,453715502,682268349,927509791,458349456,838357818,452495353,628435245,366570275,274545939,18797391,439585753,49765905,111626333,465283953,775136386,174657504,524569646,281171866,436405721,297601216,80886657,788251576,416831663,994247189,666781826,771657293,278066435,300018406,53555539,646652796,832604241,592399834,446500886,931426701,947993074,486225506,10298576,126264303,620481953,256041974,199767527,168993653,196327181,776682484,906488980,444615514,325527018,309899122,648947399,104778373,447863697,262883938,201294708,115394248,283575469,970521253,358416359,593390364,767180339,940236021,606225373,767759492,244228291,116736353,877300102,10333331,862476841,358231752,539754811,517299574,270035536,46710505,976450932,100543624,718479989,106670920,626284683,422573616,454202725,713455680,235419261,627905445,369416123,782816000,923875411,746919760,406415799,443219441,90103431,617892913,108896776,715613787,523735876,160889642,838465732,224863221,813850739,467551967,552946643,676019336,87795648,915542047,992693878,264607131,100411516,109832911,414671952,73418166,1560070,110503133,609241706,918698697,695256028,752196088,954339446,302395177,206254566,158963796,332951495,898048651,932902271,270263139,522815695,801803538,916437546,861545265,170106738,444228334,541626678,197985364,673153261,717587679,284171155,931266878,498745053,577733886,155791000,821332750,30728371,30535517,653763634,596624600,893949456,30883602,350373023,561729693,826250714,969093983,6361378,567082020,347736685,898356196,670824108,716003726,923084603,613002660,681251138,759550114,390922232,31019764,462000113,679016445,939731420,725175477,174480541,107279086,886693348,536679882,670188216,492456884,443348003,882376671,886707934,565443980,368987268,855138178,75277712,46848619,470080443,342226155,849469431,2025895,263314659,556257585,85015947,861583244,440136487,772183593,603852997,548228967,996848780,526755649,626972500,966321083,670703218,190729277,691459274,415864581,547510605,438645067,904876059,167211229,252408071,685693100,446571111,821949210,160069246,838084125,308826528,71306846,569555019,864422105,408122368,394357419,925475646,520119013,137865177,819841829,252118762,610362699,703954017,320842196,146131947,597424978,29844310,994980594,376521751,227417810,53950276,359238108,586316525,149257623,627065991,454656330,634781166,686204146,536952548,778774669,825354304,840884307,295385441,903459776,545416555,315079124,34715476,712008410,903220872,413329970,879124579,317744854,670571107,984929791,467720333,53831491,247998195,166927612,598432224,598206272,645847058,433265065,648412291,677415529,826497286,376703833,736354981,628124078,498451110,518852668,968138673,923184254,290811319,429338109,878030382,837639059,945000220,265525648,481103882,271336638,645043215,473918177,542975317,6029169,491084788,846572340,787742140,443492197,408389493,180035898,409856241,589413152,880302985,940239596,793574816,348707056,838881849,128488632,775696538,832434509,473209829,96199239,144321029,448945274,409482108,356054113,826998984,372906129,421221364,464552532,832021259,829151181,378608458,163125294,663347262,703956934,9244628,804250835,552814216,66932357,286689461,343743046,597472663,508614865,890658687,246669337,554661629,602302276,159723337,928219954,260106023,597663835,991217312,872537372,48964952,997169079,894292880,705919600,263839062,159097375,43048475,63551851,291426233,786274011,711470669,525532084,819084669,37120606,785502034,211140573,452739113,26257864,378674730,363293604,894540791,953420686,685587223,312267652,732328875,516862358,752597841,10922187,936712383,405059442,356576954,852475029,800123595,492464936,204934856,288694223,914783716,264905996,470287845,433362951,87943576,232365666,237261526,881265942,964755432,711412168,89465209,531268598,458785778,901116657,618546758,531042836,784303501,269099648,183750533,409145958,524806660,978569216,909284786,801844450,459449112,497961255,140403421,925223248,907329996,630113724,409581629,383689747,410817006,526114537,162615235,924892411,989092291,126825743,361266627,156791986,774734763,892767218,161922759,598039827,634248597,865385742,550909835,44606102,25590217,658607764,379346303,815486679,912330309,678821445,697524612,622516348,357541805,875020502,92652543,637594949,261454979,721263345,223177718,152289563,974787212,895583494,445148101,892134875,99271389,133758311,275018419,598704632,332288022,260059949,717705791,472894778,584367965,616042737,507612714,794757768,799327527,316669489,345119603,303307940,704537270,763809447,527462981,230041415,151778302,12613364,828532207,374158845,288746979,266510242,644308100,337434812,900170406,523286920,62184752,538886511,599406701,842268515,207139638,44106648,266059805,538222521,910869298,500754108,135399568,649021504,879100118,857172296,138007860,686692265,262697638,160040497,755727930,165878558,941517358,296218826,837921002,830106619,411712147,18807452,254588751,416883013,849998069,304538212,884052670,804955173,373475006,931167650,250293978,832318769,820255115,177614739,226725057,357376567,611212844,967369499,852825817,404589352,829143365,403741131,492275695,160486328,641911689,723672126,866098172,610257177,968665352,936411655,204352277,185574046,366005319,544597473,783691345,284780822,343586906,200726789,613359792,619694149,828418905,377914981,881520896,110548735,484276962,526672613,896099265,693426585,907672327,786100494,734085525,989692471,35387656,550195342,759950995,169727504,484183386,986445833,557587719,67513520,449522425,642060301,848293843,389162384,39624010,211519179,152207767,255694553,601555912,996409905,819519414,452131620,955304998,306505577,790176605,28973735,990827169,479521752,498830496,785592051,141936065,194970326,794674534,452830715,676744317,455722708,183096221,261672559,72730868,471656479,755756676,250378510,852519338,841018110,2626112,315133487,143521735,830229478,920492679,487680083,190812977,375003157,171496205,479815735,415256220,130856923,950722516,905452457,847176942,405536583,41747558,488707806,225632436,619290065,686515051,705872341,897468264,571357991,660552880,457889675,738854767,422213546,452236981,469588062,317228558,200119453,555683652,184334898,648521206,408322315,136705531,880326360,394539116,449832579,174463952,45550978,479759628,633589646,530427772,80977706,669217529,168116919,801155539,307342186,693693187,428091619,299818625,995964193,68483847,860042824,421684909,443800098,576140240,181661958,248660602,916971408,113830932,178572321,140889061,585561256,340397721,152818716,796974712,272556652,90345005,812816514,871072932,170754748,839498544,657721815,584826237,227987961,566182404,510462899,447015350,773563202,772693482,35535949,984194293,441517779,134267217,940366634,613223949,98207654,745249267,831008045,301207286,110888778,558181807,80061081,601487435,918673040,579381221,729519556,813868238,186892869,836426977,476861713,188010991,121237066,365005136,820471635,73100336,38595135,728033927,524561661,380304771,635871290,177166138,251491587,503522011,204227647,752945753,124393537,286794792,940460412,952340435,711620980,640365531,239043816,346064171,816982107,111657106,663541499,622871596,734058914,863659622,292784641,197638714,194828077,661823893,964313780,126592867,984607740,229111281,550748521,379175021,546175752,813242787,442140270,432913551,828322690,452588675,577568386,804904243,9061962,209247378,662707165,723693931,116215428,322941658,926741460,632965859,768906354,378708773,888888717,391732149,982495679,489503435,514017924,131016493,817782413,130381343,941034355,403164452,282888581,441033669,140309290,112353859,169262049,485744127,7528968,45958643,799072265,776345598,88959462,986156210,245545006,20386983,650259506,645156455,247663973,381293562,980300600,991684594,315443210,779750075,319985387,176854759,447235156,959360940,102643912,885722177,165700269,686635353,853759330,709718667,47289029,716755417,30536479,663616812,799433169,945740054,95320090,114791193,574133470,44509079,252150076,198721363,69956619,280139785,253406228,553089938,530504456,916145916,415721873,232337647,118197884,977728211,722883966,406628038,736676160,674696113,610280293,272309256,834938342,465598876,605041508,78433727,590700881,909059556,923375511,232740902,986462610,516276375,290184668,91066906,79503423,285499056,702504608,348221560,475739760,26530985,759907517,403235349,938004503,218432841,530463765,114312261,885701465,450292642,42109653,613188847,404811911,298669824,786010033,206459821,238235323,713868983,624875653,613168679,960264279,504149511,920298664,917211046,297188136,773589069,810592872,665538849,787156355,325251291,333145925,160698521,290261954,828090803,878713288,9033884,990208747,908547243,29003843,522304786,809676261,9792697,951337152,36304615,954040468,55653833,176932009,333393103,863743370,712212120,869019419,885114027,593294088,908451487,437223701,547468221,444971401,572715151,519128337,597694519,208550869,642657897,700527283,840185145,7375544,865598789,292523668,65792291,245493336,448677414,539054909,335705587,424274178,971405987,689164654,581155386,622230240,929807222,499462246,274448835,732681229,888370538,988553384,545390995,262133798,256388706,612821416,939885991,646186242,953714726,186472478,363408958,620783012,558530177,562528301,301825256,836861945,260203412,286252975,950415093,493140314,904520492,203572303,525116284,902340122,714265902,558658270,515242852,394066754,867541901,929698870,404288650,111509042,606274265,794609240,718090489,704958923,999023700,189488751,829696081,950115312,775237418,446249216,544297960,39258295,457993119,879417908,38894064,589835600,579041766,644276760,545126614,241332106,509295249,506406343,588484920,93060302,965211295,897689557,411356537,230674390,196441382,550631407,574196156,704982929,192172725,526254454,105752906,676319180,649622667,608881725,88452214,750465181,996649177,490989368,862204823,569576346,982050428,532789531,361493894,946081137,159598596,432644760,31763884,661578826,257864045,257804731,441899252,596638412,909112533,110800344,673585625,594115582,32554736,493070306,589383618,314454492,11777509,445863777,519051543,729624478,485229409,995783032,701495398,94337893,566959311,737596227,934255700,865870883,427615718,976635156,351212323,65708137,695716970,537740694,524831047,915315934,55118289,492753575,432912556,107684811,386856795,145335539,687861563,816918409,168886360,35144957,732258108,502213290,242315027,197322076,607156061,654148675,373871711,252696798,301099003,85737498,653689515,478970052,933040032,546367620,442889821,147651451,280822523,229540760,523123416,251667518,541454211,489135730,159219513,728803451,346491717,363037942,281635533,269853435,736811774,135730797,839297355,693966464,324072816,86790694,125780823,909972211,950602531,936585828,963521822,730112585,293593860,733361322,88711082,9720725,821455181,371702362,278206508,389863117,456495461,88752524,319404867,181300196,482842994,692102889,216767497,159407625,404922744,897770928,944462442,9023341,947805300,131707680,956844785,567734280,612638576,799138735,891494527,287499558,652214399,443157175,659185831,877238751,867474379,783256896,172762452,504019717,895281330,977394668,555688740,678399731,850233874,591125616,845048957,592448254,952621904,51999179,997333361,741672407,147451884,375611795,624435411,668284379,236665767,411363699,481140257,39640789,262184618,77408476,648704266,921923533,205978529,170237203,656905652,322126791,875033763,240999754,70937425,349683076,427128715,712255390,868832194,322241805,10172937,38030684,8726096,253112675,487737897,150133796,301204290,147511274,515920401,699867496,897190571,848348311,592068752,741971652,914012897,982699780,839481849,333934582,290998587,686129182,613006067,246196045,127509126,816642213,356191207,423546535,821482668,764987538,607774741,641377801,768110954,801205849,338304828,870050505,495046929,324576767,242516859,674644778,914250336,372812924,427727897,800442855,298176138,520582296,43183004,236638543,231931678,31718554,448121971,714672194,946333499,400726320,965265015,666269716,34904528,462357640,320022716,324271810,858929256,420894297,627021335,892256814,201042847,683209491,187940334,923238993,902324843,198635675,948927198,73854580,901042023,840191350,380365039,998907348,387106452,578402469,940932191,897260432,820427717,706327712,843326739,853079933,879793804,259121886,10557453,456074989,335073733,338281112,119851896,554865893,597652688,772971465,816766973,107020086,403080394,86854799,518611843,287112849,181813459,294753689,758928941,23263969,293370820,83646486,709538758,638565956,931002510,564036190,680551943,387579539,818167549,219954366,696828672,539970827,441694288,525873003,531533160,884626829,598318330,194726199,766056406,913491387,10321493,363577570,40976900,163735630,473280573,883956772,479123334,770506057,751057476,974276815,367484195,718686592,652510788,353346205,669880913,379073536,743595606,475825425,313302523,73891604,397946544,314551058,726309086,714123603,409301810,416237753,75137770,395610816,629853608,110634241,23405716,250275686,909468746,97964409,525864434,720181960,384688152,300222708,826028406,665738188,729288287,901441063,420466051,647594007,13284722,963675508,578276142,255190177,572977613,575302208,666907991,209946939,928001939,49790396,483296529,576498856,152566313,897571374,340623602,628823683,123891504,541743661,924566367,288940248,660155681,321879460,464086915,383594974,178395625,40284194,239947172,590903855,767399769,402643463,970461007,52930264,382559155,364414077,352390041,380668707,665668724,163719954,29858835,679574101,598893080,949319838,466123642,558082583,241323972,726887178,559775167,56621858,367259902,709820940,231883317,898855772,897789961,779315935,846701618,881252749,711351525,543637283,866950950,752562294,659852088,451905567,475658166,88049545,378308273,711617774,273523776,98347605,365059803,552810784,312029188,108072826,794810092,62763145,192683815,637029367,795651528,288212520,353420062,497060136,811289491,133180580,618152096,79342007,425212311,733051116,564054910,416442086,807993808,729467513,991187217,161972510,33400586,557324434,889078491,938865283,540045537,775003151,148277655,921390355,68450537,794182470,8547271,141624614,722498031,35947161,944231081,834633176,65088488,482173942,846389286,318016462,20676853,88258547,912245862,880266637,29255397,573960099,820662795,101671221,11695161,903119146,187802684,60321817,781532488,661668690,719895241,69734664,327840521,732230086,440716792,668702090,766795902,501298173,57204486,993823248,891607352,412015793,421475408,955578290,192239080,815687830,641791925,964543569,254210749,95624037,670889488,105032900,227350627,436998481,783393378,920392326,823247990,6165834,414632003,809633120,583289538,693175502,93445112,65962393,164344068,471347628,104016291,521715117,761518047,882430988,921281863,474631571,75961547,932635648,329976997,25570652,511391993,469322060,506742515,875924307,439766821,478032544,647491780,143615757,768489797,650473101,80447568,457242640,620236870,969547025,468886556,810874175,642231740,957727266,144538300,858746876,392878013,235187906,609405962,850561046,556789117,638822261,404543603,186791682,324390623,778662650,858335984,980066442,236934840,612870914,259878175,258797010,474857548,240034792,726675784,631891754,848089791,377230631,617199237,975517050,359023571,74379803,789703574,282059687,395874590,625274558,4206880,459736894,131228481,498534112,424081148,341529817,77753289,228271283,229757914,181713838,425829171,980095965,255584220,484097276,48864397,297559000,570201130,310438120,106522156,532235508,192219235,516942463,389924854,360034826,849483206,716062263,558657912,239948217,748495897,82349235,188780673,344583009,824666641,518330718,96577026,500212330,604900907,623951316,311115538,998506602,580256656,857166913,743150910,145990650,420891946,740611338,479053122,267248122,604460705,517296949,559985874,55784907,99119470,528911863,251284905,857251906,449466286]"
   ]
  },
  {
   "cell_type": "code",
   "execution_count": 7,
   "metadata": {},
   "outputs": [
    {
     "data": {
      "text/plain": [
       "30000"
      ]
     },
     "execution_count": 7,
     "metadata": {},
     "output_type": "execute_result"
    }
   ],
   "source": [
    "len(x)"
   ]
  },
  {
   "cell_type": "code",
   "execution_count": 9,
   "metadata": {},
   "outputs": [
    {
     "name": "stdout",
     "output_type": "stream",
     "text": [
      "[866729989, 929624742, 469343729, 195437587, 38878552, 770759069, 968436986, 535119728, 908037884, 887775422]\n"
     ]
    }
   ],
   "source": [
    "y = x[:10]\n",
    "print(y)"
   ]
  },
  {
   "cell_type": "code",
   "execution_count": 10,
   "metadata": {},
   "outputs": [
    {
     "data": {
      "text/plain": [
       "30000"
      ]
     },
     "execution_count": 10,
     "metadata": {},
     "output_type": "execute_result"
    }
   ],
   "source": [
    "len(x)"
   ]
  },
  {
   "cell_type": "code",
   "execution_count": 22,
   "metadata": {},
   "outputs": [
    {
     "name": "stdout",
     "output_type": "stream",
     "text": [
      "[338, 38, 991]\n",
      "[123, 456, 789]\n"
     ]
    }
   ],
   "source": [
    "def sortJumbled(mapping, nums):\n",
    "    def map_value(num):\n",
    "        # Convert the number to its mapped value\n",
    "        mapped_str = ''.join(str(mapping[int(digit)]) for digit in str(num))\n",
    "        # Convert the mapped string back to an integer to handle leading zeros\n",
    "        mapped_num = int(mapped_str)\n",
    "        return mapped_num\n",
    "\n",
    "    # Sort nums using the mapped values\n",
    "    sorted_nums = sorted(nums, key=lambda x: map_value(x))\n",
    "    return sorted_nums\n",
    "\n",
    "# Example usage:\n",
    "mapping1 = [8, 9, 4, 0, 2, 1, 3, 5, 7, 6]\n",
    "nums1 = [991, 338, 38]\n",
    "print(sortJumbled(mapping1, nums1))  # Output: [338, 38, 991]\n",
    "\n",
    "mapping2 = [0, 1, 2, 3, 4, 5, 6, 7, 8, 9]\n",
    "nums2 = [789, 456, 123]\n",
    "print(sortJumbled(mapping2, nums2))  # Output: [123, 456, 789]\n"
   ]
  },
  {
   "cell_type": "code",
   "execution_count": 23,
   "metadata": {},
   "outputs": [
    {
     "name": "stdout",
     "output_type": "stream",
     "text": [
      "[999994946, 9991037, 80212, 999939391, 32943, 99936851, 37409, 52421, 99969802, 64019, 9943885, 915816, 999911312, 9891731, 833237, 837124, 999820644, 854429, 802259, 805734, 99864714, 99840859, 841876, 816820, 9390237, 99396953, 338879, 9326396, 99326049, 9353961, 357145, 9300544, 9362025, 99364682, 999361030, 99233766, 99237257, 99234866, 999259245, 9204668, 999204794, 999265191, 273219, 273008, 9273474, 99271389, 9244628, 999598900, 999592429, 583053, 99582575, 9580741, 999587638, 537516, 9526810, 99558858, 999553243, 9552419, 99500349, 562280, 99576746, 999549892, 999541326, 9099175, 9082585, 99039508, 9033884, 9023341, 999023700, 9053677, 999054869, 99054819, 9001258, 9061962, 999699823, 9695069, 999682330, 999639941, 9632990, 9623409, 999654621, 999605713, 99665152, 673584, 9647445, 9619511, 999798904, 9792697, 99785423, 784041, 9720725, 99758598, 708952, 99704150, 99763312, 761677, 778854, 99778574, 9775357, 748660, 9743179, 9741554, 99498851, 493339, 99423551, 999420377, 9401235, 479415, 99474251, 9449843, 99444163, 9441795, 999414174, 198081, 999189011, 9187380, 999134400, 127110, 9166069, 175261, 99119470, 8999076, 98939043, 8923922, 998907348, 8967173, 8972690, 98970816, 998976080, 98947383, 8918996, 8820016, 998826875, 98861184, 98871558, 8380707, 98381930, 998330390, 98327198, 98352685, 998368427, 8365725, 98347605, 998312053, 998292406, 8253588, 998254434, 98207654, 998262106, 98273530, 98276090, 998244332, 998244502, 98214045, 998599091, 98584154, 998538655, 998538162, 8530536, 98503780, 8506091, 998506602, 998507318, 98563656, 8573568, 98543781, 8540264, 8547271, 8515907, 8089037, 8033252, 98055193, 98062607, 998011358, 998632588, 8650123, 998668031, 8676316, 998613478, 998611131, 98797688, 98794724, 8726096, 998700770, 98777126, 998746469, 998490522, 8494468, 8485545, 8428857, 998404454, 98473350, 998477063, 998413350, 998416791, 98192428, 998196604, 98185170, 998186643, 998124130, 8119103, 98113632, 998112888, 998116876, 3992971, 93990645, 3967184, 93964703, 93979949, 993940135, 993915748, 93910672, 993914816, 93886592, 993823248, 93827506, 3807690, 993845911, 993840443, 3819725, 93397445, 93386855, 993323111, 993359740, 3353959, 993355754, 93351059, 993365479, 3375361, 993377341, 993310881, 993292452, 3290045, 3285216, 993220965, 3226978, 93226775, 3259475, 93254085, 3201646, 3201710, 93249197, 3598107, 3588331, 993537594, 93525699, 93520242, 3502266, 93500110, 3563275, 93562127, 993540695, 93510534, 3085671, 993080476, 93087763, 993081715, 3039823, 993038518, 93035792, 3036293, 993027624, 993058374, 3055315, 93050743, 3003129, 993005010, 3000797, 3063238, 93060302, 993076557, 993042806, 3015667, 3017034, 3633491, 993631473, 3627307, 93657090, 993601415, 993675428, 3670673, 993645920, 993798946, 3797246, 3735589, 93721608, 993758706, 93750009, 993751720, 93708616, 93703836, 93762443, 993774260, 3740797, 993711204, 3487738, 3434706, 93425250, 93427867, 93404175, 3401677, 93465700, 93460533, 3461118, 993476748, 93445112, 93446293, 93183986, 993181273, 93130977, 93134597, 3108396, 993166186, 993161792, 993174553, 993147283, 992953737, 2901471, 92946355, 992833291, 92835666, 2836275, 2824662, 92855825, 92863010, 2817215, 2390727, 992329427, 992358376, 92302064, 992301326, 92345288, 2288789, 92233234, 992207490, 92279289, 992273872, 92213021, 92539023, 92557413, 2508802, 2569076, 2515135, 92097370, 992023863, 2025895, 992067389, 2045704, 992047361, 92017690, 992693878, 2684990, 2638527, 92631734, 2626112, 92652543, 992600165, 2606554, 92663519, 2782116, 2708793, 92702811, 992760612, 2775853, 2713577, 92714480, 92429724, 992451500, 2466732, 2414812, 992136090, 2120452, 2126853, 995993322, 5980564, 95920032, 95954691, 995904628, 95963466, 5966558, 995964193, 995977986, 995977120, 5940506, 95911266, 995831735, 995829542, 995829459, 5826912, 5853946, 995868278, 95843898, 995844872, 5819569, 995390805, 95394872, 5338068, 5335939, 95320090, 995308771, 5304256, 95369168, 95366825, 5377643, 95343547, 95341582, 5319098, 5319456, 995319124, 995314071, 95293360, 5283185, 995280565, 5253754, 95268657, 995264756, 95273846, 95271175, 95245424, 95247797, 95588082, 5582219, 995523671, 5526520, 95500174, 95578088, 5571529, 5549992, 5543464, 5519646, 995512274, 5510059, 995099755, 95098315, 5089639, 995022267, 5024417, 95002696, 995004128, 5073224, 995076105, 5077791, 95049564, 95018217, 5622514, 95624037, 5654612, 5609808, 95661723, 995649795, 5642617, 995783032, 95780806, 95721087, 995706435, 95704697, 995769890, 5776782, 5743954, 5719803, 995494231, 95480919, 5480123, 995435015, 95451889, 995467143, 95470071, 5474119, 5191489, 995185770, 95123519, 95123026, 95124039, 95106240, 995104522, 5167949, 5110827, 90926949, 90951734, 90966774, 990827169, 90856708, 990861653, 990875606, 90811556, 90327710, 990369188, 990373620, 990343828, 90345005, 990346798, 90344076, 90293308, 990291737, 90285017, 90221129, 990208747, 990270234, 990595923, 90589794, 90532579, 90509560, 990563362, 90561861, 990561785, 90510626, 990009351, 90077875, 990074861, 90698297, 990603008, 90607269, 90672319, 990611635, 90790049, 90790010, 90766481, 90717135, 90439979, 90436290, 990423381, 90478815, 90476101, 90419028, 90182888, 90133286, 90127185, 90157583, 90103431, 990106352, 96981131, 996967132, 6898014, 96894242, 996882463, 96855133, 96800438, 96865987, 996872798, 96849717, 996848780, 996844855, 996844402, 96816849, 6388963, 6335059, 996324891, 6357593, 996305658, 6301135, 6361378, 96345584, 6344897, 6290755, 96285072, 996236577, 96224393, 6254818, 6251465, 6273730, 96275191, 6271775, 6216882, 96217144, 996590478, 96528038, 96577026, 6543763, 6029169, 996053016, 96056644, 996051314, 96001793, 996063584, 996062746, 96045033, 6019178, 96018209, 6631762, 6652062, 996649177, 96797230, 6788622, 96782847, 96738070, 96725498, 996720191, 996700074, 996706913, 96741797, 6491532, 96487086, 96432165, 996409905, 6406292, 96479256, 996479403, 96471623, 96199239, 6198481, 6193940, 996189411, 996182919, 96123441, 996126305, 96152943, 96150680, 6156784, 6103296, 996163735, 6165834, 996164219, 97923761, 97922409, 7926751, 97953013, 97907131, 97964409, 7949887, 7910761, 7897868, 97880075, 7881781, 7823668, 97804794, 997862215, 7862793, 97811913, 997387607, 97338466, 997333361, 97335247, 97336278, 97303575, 7375544, 997341375, 97292849, 7297464, 97291301, 997205178, 7272158, 7274872, 997245922, 97539381, 7531299, 7528968, 97508867, 97501610, 997572201, 97088000, 7086068, 97009665, 997002318, 7007136, 997063536, 7078429, 97074331, 997014383, 997014646, 97698938, 97689913, 997635129, 97630152, 97627863, 7675316, 97675746, 97727928, 7709513, 7704341, 97762782, 7770799, 97491697, 7482343, 97438212, 97438612, 997434455, 97434119, 97431433, 7468569, 97464566, 997479704, 997419090, 7415051, 97410213, 7196842, 997180180, 7132717, 997106538, 997106700, 997169079, 7179786, 994995853, 994980594, 94934310, 94978329, 994943532, 4889927, 94833106, 994836207, 4829917, 94856440, 994873410, 994874370, 994874731, 94848976, 994843910, 994392132, 94389510, 94337893, 94348931, 94343537, 994342422, 994311895, 4280263, 994238416, 994253819, 994250814, 4206880, 94278147, 4271611, 994247189, 994212844, 4598561, 4592820, 94535419, 94534629, 94528695, 4579859, 4519636, 94036271, 994031487, 4021601, 94058356, 4050040, 994051458, 4006659, 4001914, 994072621, 94691381, 4686070, 994684052, 994623846, 4620185, 94653328, 4663867, 4661466, 94673591, 994644969, 994614619, 94798659, 94797724, 4783839, 4782283, 4787789, 994734237, 994720817, 94720262, 94726809, 994756451, 4764871, 4777818, 994777668, 94743702, 4484994, 994430580, 4427251, 4468037, 994413260, 4410771, 94186683, 994136966, 94106654, 94104861, 4116460, 94117812, 4114064, 1992980, 1994013, 1950154, 991965431, 1973523, 91948147, 91911137, 991893840, 991897462, 991820130, 1861552, 91872581, 991815858, 91397877, 991383446, 91384906, 991303011, 991364513, 1378359, 991319269, 91311955, 991292539, 1288236, 991283702, 91280830, 91230658, 1237908, 991223235, 91258140, 1255392, 1255420, 991250623, 1279754, 991217312, 991599491, 991585034, 91538282, 1530408, 91534952, 91555209, 91554469, 1551100, 1503825, 991569163, 1562822, 91560953, 1560070, 91579926, 1578705, 1573667, 1572147, 991549663, 1510285, 91020748, 991057555, 1009431, 991063189, 91066906, 91066486, 91043151, 991047294, 1694203, 991684594, 1629999, 91654367, 91605900, 91668953, 91673458, 991619017, 91614136, 91790084, 991789244, 91735114, 1709766, 1708716, 991700351, 991771854, 91715980, 91485529, 1480259, 991484836, 91428581, 91421399, 991408749, 91402880, 1471926, 1447898, 991415943, 91182473, 991187217, 1135185, 991131107, 991168318, 1164480, 991178042, 91175368, 91112970, 89985880, 89987890, 89957717, 989909125, 89979435, 989942646, 989912475, 89891068, 989880552, 89887651, 89867068, 989846377, 89330143, 989323893, 89357799, 89373602, 989348773, 89342065, 989341742, 89311461, 89246090, 989219080, 989210817, 989588932, 89525634, 89502448, 989561327, 89548948, 89540067, 89513738, 989092291, 89096184, 989004585, 89004643, 989013453, 989692471, 989694758, 89687153, 89639944, 989632644, 89636406, 989622799, 989653287, 89679221, 89648746, 89798189, 89796559, 989709580, 989700977, 89701700, 989779331, 89715375, 989716026, 989482511, 89480166, 89481812, 89457846, 989451207, 89465209, 989197806, 89138526, 989121253, 89158704, 989107266, 989161883, 88981404, 88959462, 88958594, 988952843, 988956336, 988942671, 88944749, 988915623, 988832517, 988820908, 88859433, 988852890, 88869984, 988866271, 88875645, 988813635, 88399082, 988353308, 88302357, 88302478, 988363999, 88345071, 88258547, 88272120, 988245806, 988246134, 988241851, 88212171, 988553384, 988500096, 88501490, 88574044, 988545753, 88023413, 88022778, 988055194, 988057676, 88063242, 988062844, 988060965, 88049545, 88012223, 988684413, 988627899, 988605903, 988670282, 88677853, 988647145, 88793475, 88796828, 88734399, 88752524, 88708989, 88703172, 88711082, 88452214, 88452085, 88405362, 988401233, 88475157, 988471318, 988410277, 988123042, 988105215, 988168328, 88144445, 83961696, 83979068, 83949513, 983947227, 83835848, 83829632, 83854781, 83800705, 983872199, 983840882, 83325985, 983324116, 983369131, 983317210, 983317701, 83298189, 83281174, 83223849, 83227308, 83272795, 983244375, 83213131, 983594517, 983529736, 983569794, 83563688, 83573121, 83577907, 983540642, 983544427, 83026785, 983050967, 983069536, 83065506, 83013016, 983012412, 983694304, 983685014, 983638828, 983658152, 983655024, 983655405, 983650228, 83607761, 83646486, 83641952, 83616316, 83787975, 983735760, 983727195, 983702958, 83778696, 83719920, 83494116, 83426668, 83451787, 83467445, 83440711, 83416879, 83193035, 983120709, 83155667, 983157397, 983141128, 82999333, 982934437, 82962660, 82915533, 82910455, 82822771, 82879535, 982849080, 82391123, 982363461, 82349235, 82340707, 982238609, 82238619, 82233964, 82227698, 982259562, 982252354, 982251318, 982243279, 982529076, 982503201, 82506140, 82576684, 82511436, 82038387, 82036102, 82027863, 82053671, 982050428, 82051732, 982006837, 982073998, 982049900, 982012016, 982699780, 982694708, 982683012, 982682776, 982627545, 982658479, 982615188, 982617042, 982789944, 82788474, 982785886, 982721120, 82752385, 82754809, 82705975, 982711787, 982493819, 982495679, 82496465, 982481838, 982428754, 82427404, 982454924, 982460920, 82467568, 982475358, 982132025, 982130766, 982156591, 82154678, 982101871, 982166457, 85993653, 985932388, 985928837, 85925060, 85968872, 985972625, 985944992, 85944838, 985895239, 85880782, 985826135, 85339822, 85339747, 85330651, 85321897, 985355854, 85355555, 85347921, 985311446, 85238091, 985231737, 85229745, 85200890, 985261446, 85270331, 985246478, 85593697, 85589143, 85555156, 85551346, 985551103, 85069007, 985062564, 985066901, 85015947, 85690711, 85683422, 85650065, 985654172, 85600113, 85737498, 985757209, 985745404, 985715962, 985403419, 985462848, 985472016, 985419332, 985418252, 985198068, 985137220, 85160260, 85144096, 980995724, 80996073, 80933257, 980937481, 980931535, 980956861, 980960933, 80977706, 80898877, 980898338, 80892751, 80886657, 80859014, 980850270, 80812518, 980300600, 980307852, 980371419, 80349170, 80287956, 980227344, 80250578, 980243737, 980216998, 80596259, 80539566, 80525094, 980559227, 80569826, 980575864, 80570536, 980511032, 980095965, 80090205, 80039415, 80056742, 80005784, 980066442, 80061081, 980689897, 80631590, 80623347, 980677963, 980646609, 980617111, 980725201, 980774656, 980715093, 80497919, 80482476, 80485306, 80423104, 80466809, 80473447, 80447568, 80411477, 980130450, 80134764, 980127566, 980159607, 980175460, 980148333, 980114989, 86937489, 986929644, 86928577, 986953419, 86907494, 86967447, 86890641, 986897536, 986823347, 86855680, 86854799, 986808760, 86874340, 986399803, 986391702, 86381642, 86353816, 86353157, 986374853, 986343957, 986292475, 986285030, 86235674, 86262733, 986266063, 986264175, 986246912, 986596431, 86532488, 86527579, 986524527, 86557349, 86507979, 986561327, 86579381, 986548934, 986038679, 86020576, 86063235, 86065530, 86014486, 86699123, 86658013, 86607354, 86601336, 86667335, 86675334, 986645919, 986645806, 86645499, 86790694, 986499854, 986462610, 86474654, 986445833, 986194032, 86130553, 986156210, 86165737, 986110069, 87935417, 87943576, 987821467, 987851963, 987802238, 87848165, 987393818, 987381171, 987322273, 87305352, 87304191, 987366882, 87314156, 987298639, 987292924, 987288201, 87281758, 987222986, 87252742, 987262003, 87564336, 987518238, 987513436, 87515530, 87020184, 87057164, 987066057, 87048673, 987042878, 87040169, 987625727, 987626396, 987607473, 87795648, 987787443, 987729883, 87741809, 87716745, 987439563, 87429279, 987423621, 987425014, 987447975, 987196815, 987185244, 87132679, 87130511, 987154044, 987166668, 987161318, 87140071, 987116513, 84989496, 84986523, 984938238, 984929791, 984958891, 984953405, 984943409, 984942464, 84946228, 984944839, 984912595, 984894877, 84834685, 84869942, 84879554, 84877205, 984848076, 84393308, 84355177, 84379685, 984296344, 84291190, 984286568, 984234907, 84250281, 84209911, 84592754, 84539339, 84523667, 84522793, 84524475, 84550374, 84503733, 984502499, 84573572, 84519536, 84098489, 84089001, 84027556, 984027499, 984607740, 984679430, 84672398, 84670675, 84792052, 84796052, 84739574, 984738310, 984738402, 984750376, 984702853, 984705553, 984746547, 984747208, 84495980, 84428694, 984415404, 984194293, 84103548, 84105500, 84145102, 81982806, 981936094, 981967564, 81979663, 81971905, 981971485, 981944831, 981884718, 81828436, 981855496, 81865325, 981840326, 81818700, 81810514, 981391388, 981324640, 81359117, 81354874, 981302405, 981300619, 81307205, 81301850, 981318622, 981295147, 81297827, 981284337, 81235786, 981236612, 81229537, 81209215, 81521810, 981554927, 81579671, 981543928, 81519922, 81519133, 81090386, 981090735, 981085863, 81080478, 981077177, 981042565, 81699066, 81695151, 81683999, 981683118, 81667689, 81664589, 981641151, 981610036, 81785438, 81780248, 81781078, 981737373, 981750476, 981773283, 981439055, 981431086, 981467594, 81417951, 81192127, 981130758, 81136967, 81157790, 981172708, 981115593, 39995261, 39920431, 939955693, 939908187, 939945755, 939915213, 939885991, 939838017, 939806585, 39866681, 939849576, 39846290, 39321300, 939362318, 39345061, 39258295, 39265290, 939270652, 39505739, 939549094, 939517587, 939031584, 939021570, 939055779, 939007182, 939069199, 939078305, 939043924, 39624010, 939659774, 39640789, 939644904, 939799129, 939790916, 939735493, 939731420, 39704706, 39765381, 39765323, 939740261, 39714855, 39491523, 939484678, 939484149, 939475575, 39471042, 39198288, 39104820, 938999784, 38922189, 38903622, 938961963, 938949387, 938944102, 38893493, 38894064, 38882637, 38851413, 938803967, 38863077, 938862032, 938865283, 38878552, 938873796, 938870588, 38876969, 38382826, 38355949, 938369959, 938370685, 38225196, 938254697, 938267687, 938240460, 38595135, 38552651, 938505307, 38574478, 38548620, 38540277, 38089231, 38030684, 938004503, 938077590, 938071210, 38040082, 938685939, 938633011, 938629465, 38679186, 938670369, 938671011, 938644324, 38610540, 938763542, 938761149, 38716913, 938407275, 938479987, 38445401, 38446482, 38181297, 38133220, 938121897, 38140114, 38111751, 933989331, 33925095, 33956116, 33965520, 33965572, 33979970, 33973577, 33975993, 933945960, 933899207, 33888425, 933885434, 933803277, 33802313, 933866666, 933843743, 933397045, 33389672, 33387322, 33384441, 33352694, 933363669, 933362473, 933287151, 33279988, 33596044, 933531665, 33520168, 33503873, 933500717, 33566747, 33089481, 933006318, 933040032, 33012099, 33692471, 33688464, 933632457, 33672672, 933619294, 933794562, 33759323, 933766548, 33767970, 933772148, 933492685, 33491205, 33425173, 33400586, 933416544, 33124331, 933170759, 33118364, 932980998, 932935331, 932902271, 932966380, 32895314, 32806400, 32844129, 32323752, 932354421, 932300554, 32348115, 932344387, 932318811, 32228309, 932227634, 32217522, 932595644, 932520007, 32554736, 32572568, 32548597, 932029073, 932029407, 932056039, 932069163, 932073841, 932045239, 32698378, 932635648, 932610461, 32799254, 32790017, 932728591, 32707141, 932435977, 32423925, 32476516, 932191037, 932138577, 32131866, 35996283, 935991441, 935949924, 35949943, 35947161, 35918563, 35917906, 35832037, 35867864, 935843548, 35387656, 935327772, 935327185, 935304655, 35361344, 35374398, 935371510, 935291452, 35251888, 935265583, 935219936, 935599380, 35585657, 35535949, 935529612, 935527648, 35521214, 35555064, 935501387, 935572734, 935519793, 35094459, 935094101, 935032446, 35036956, 935689475, 935639822, 935633615, 35627045, 935657897, 935665878, 35610806, 35616278, 35727768, 935769315, 35776006, 935747800, 935715791, 35489527, 935439425, 35437148, 35420463, 935474844, 35418485, 35188684, 35180125, 935181868, 35132126, 35126289, 935150915, 35147963, 935147283, 35144957, 30990661, 30935156, 30952219, 930903539, 30901476, 930973840, 930971215, 30883602, 930883100, 30859097, 930852222, 30869011, 930863824, 930843864, 30383141, 930339619, 30336606, 930325237, 30308891, 30307976, 30349065, 930315190, 930316649, 930229018, 930256944, 30279175, 930215035, 30216112, 930599198, 30593902, 930586070, 30535517, 930535414, 30536479, 30557526, 30560619, 30573616, 930099479, 930084862, 930004998, 30072492, 30071800, 930047285, 930047558, 930686606, 30602448, 930604226, 930643685, 30646890, 930613986, 30728371, 930756554, 930776438, 930740265, 30710249, 30491110, 30486955, 30414079, 30198852, 930125131, 30165120, 930115461, 936995489, 936997991, 936935797, 936967643, 36919173, 936830276, 936803130, 936806551, 936844052, 936398289, 936380030, 936336665, 36353488, 36304615, 936361793, 36375430, 36346407, 936341473, 36315480, 936314293, 36299221, 36282512, 36285017, 936230267, 36222239, 36225530, 36255825, 936254680, 36212938, 36214475, 36595680, 936583323, 936585828, 36530442, 36531310, 936508976, 36544886, 936519310, 36053255, 936045374, 936046549, 36680768, 36632638, 936634305, 936625323, 936620445, 936624043, 936609515, 36605045, 36600060, 936666686, 36672626, 936648955, 936646670, 36641994, 936610018, 936739253, 936727038, 36767053, 936712383, 36717309, 936497869, 936438137, 936426393, 936454749, 936467416, 936478037, 936472013, 36477736, 936415525, 936410112, 936411655, 36194439, 36191160, 936184782, 936130924, 36123278, 936122578, 36103703, 936164777, 936178419, 937998537, 937952840, 937969323, 37977294, 937820800, 937871746, 37849028, 37819472, 37395972, 37390160, 937367631, 37349583, 37312177, 37295376, 37282708, 37239102, 937256995, 937208922, 937264716, 37279014, 937249447, 937248005, 937244399, 937587694, 937538490, 937537933, 37531019, 37521167, 937507459, 937540107, 937515441, 937094466, 37089175, 937006574, 937067267, 937045726, 937678047, 937677347, 937782101, 37735614, 937763120, 937765591, 37764077, 937491514, 37481112, 37437987, 937479583, 37445279, 937415279, 937122904, 37120606, 937156469, 937167476, 937140134, 934983017, 34983494, 934982883, 34939909, 934935301, 934930697, 934937403, 34922065, 934920596, 34904528, 34972359, 34917020, 34892639, 34890334, 34820729, 34861926, 34849507, 934389331, 34335599, 934321123, 34353093, 34352411, 934378968, 934312117, 934255700, 34240900, 34588418, 934527001, 934524745, 34506237, 934542485, 34084371, 34037691, 34053699, 34627390, 34603402, 34604934, 34663931, 34660117, 34676086, 934739038, 34722973, 934722512, 34753528, 34755063, 934750768, 934713571, 34715476, 34711613, 934492324, 934488612, 934433706, 34454063, 934402733, 34474930, 934412498, 934193776, 34182352, 934136142, 934137506, 34131355, 934159497, 934168977, 34166898, 934145401, 31992118, 31936670, 31934053, 31929987, 31970137, 31892539, 31852650, 931854891, 931860161, 931873506, 31877715, 931849054, 31819513, 931393026, 31395020, 31395678, 931324988, 31348044, 931295323, 31239647, 931266878, 931244156, 931598905, 931598033, 31592707, 31579244, 931570362, 931513801, 31033888, 31033827, 31031904, 931027666, 31052730, 931002510, 931078509, 931044356, 31019764, 931685553, 31621371, 931653719, 931617740, 31739696, 931725586, 31706607, 31763884, 31765085, 931772929, 31772084, 31771529, 31718554, 31430229, 31429148, 931422840, 931426701, 931424717, 31407737, 31446002, 931441913, 931413651, 31190042, 931134948, 931107831, 931163130, 931167650, 931173397, 929993458, 29993154, 29933396, 29922675, 29975904, 929975396, 29910017, 929889535, 29858835, 29800995, 929800684, 29807897, 929807222, 29869989, 29863433, 29844310, 929399674, 29327058, 929344552, 29315769, 29282597, 929234503, 929228018, 29255397, 929208428, 29203868, 929205439, 929249045, 29243482, 29218317, 929590362, 29597287, 29536514, 29537924, 929524060, 929501758, 29560882, 29573633, 929515594, 929028100, 29024025, 29003843, 929000682, 29007537, 929065721, 929698870, 29698490, 929623888, 929624742, 929605833, 929600410, 929796944, 929787411, 929705675, 29764432, 929773461, 929484566, 929427598, 29406699, 929468211, 29461065, 29472547, 929476715, 929448510, 29445699, 29199420, 929123976, 29120116, 929153909, 928939657, 28937167, 28963635, 28978317, 28973735, 928891405, 28838277, 28826378, 28802156, 28393765, 928332001, 928330788, 928354769, 928304621, 928286563, 928244522, 928219954, 928214680, 928582377, 928563016, 928038157, 928029819, 928059770, 28058016, 28051118, 928001939, 28077123, 28695327, 28691053, 28631573, 928631020, 28601832, 928671422, 928645546, 28613567, 28739934, 28736902, 928734591, 928724213, 28752989, 28752768, 28764044, 28484310, 28484277, 28438387, 28458404, 28448902, 928446494, 28199628, 928106755, 28168030, 928172679, 28110347, 28110188, 923929762, 23928795, 23957327, 23951297, 923898269, 923857480, 923875411, 23877595, 923817308, 23397630, 923386024, 23326752, 23308364, 23362224, 23365180, 923375511, 23374801, 923345803, 923344308, 23314875, 923297047, 923238993, 23263969, 23243088, 23219696, 923585552, 923587036, 23575444, 23571577, 923092932, 923084603, 23036832, 23004674, 23061032, 923073718, 923699999, 923627404, 23659108, 23653689, 23652025, 23650926, 923654466, 923607154, 23708638, 923779631, 23439060, 23438786, 923436874, 923403473, 23405716, 23466822, 23461787, 23479458, 923187713, 923184254, 23155908, 923169847, 923172066, 23171349, 23113833, 22987233, 22938354, 22920612, 922956685, 22960116, 922970125, 922838236, 922833787, 22827393, 922857736, 22800138, 22392525, 22382381, 922384423, 922331240, 922328358, 22321434, 22296887, 22236530, 22253763, 922276078, 922597872, 922591339, 22560381, 22546387, 922514207, 22096531, 922020994, 22020285, 22027010, 922059795, 922008432, 922042422, 922011275, 22657535, 922798580, 22780296, 922753391, 922491814, 22488512, 22485480, 22487493, 22455529, 922450098, 922406061, 922410178, 922195679, 922195431, 922126898, 22108765, 922107557, 22162129, 922178777, 22172754, 922175600, 22148559, 925994551, 925989334, 925986530, 25903546, 925907609, 25907776, 25964461, 25970576, 925949444, 25894487, 25837351, 925826749, 925860355, 925860451, 25864353, 925384279, 925339662, 25335936, 925320552, 25307636, 925286368, 925286640, 25235127, 925223248, 925256623, 925266241, 25278185, 25273256, 25276073, 25276199, 925599578, 25590217, 925590082, 925584994, 925573776, 25570652, 25512615, 925514629, 925039498, 925029618, 925025845, 925058089, 925005519, 925004774, 925019131, 25652015, 25655196, 925608230, 25608733, 925660290, 925677336, 925642939, 925645007, 925619229, 25799814, 925781857, 25737574, 25756995, 925778926, 925745677, 925746941, 925741192, 925482338, 25422989, 25459503, 925463221, 925475646, 925470926, 25196762, 925130486, 925136338, 925137624, 25125883, 925100075, 925107564, 925112296, 920937927, 920972566, 20949106, 920838331, 920822992, 920800511, 920804417, 20870303, 920392326, 920385072, 20386983, 920337614, 20359402, 20309305, 920366085, 920298664, 20291498, 20229119, 20222531, 920252814, 920242568, 20214436, 920599342, 20593107, 20591972, 20091949, 920086489, 20033414, 20036580, 20023985, 920076258, 20046023, 920016630, 20017996, 20624111, 920607425, 20666430, 20678737, 20676853, 20674166, 920643160, 920618409, 920729889, 920708356, 920705978, 920762473, 20764562, 20771667, 20719822, 920492679, 920495697, 20494751, 20428591, 920421274, 920409186, 920403852, 920400816, 20465341, 920460486, 20470190, 20448129, 20444937, 920417950, 20188738, 20154403, 920110485, 926993634, 26990848, 926984939, 926920568, 926959449, 926964932, 26961868, 926910594, 26880429, 26875311, 926846138, 926398242, 926397695, 26308227, 26306807, 26345049, 26290767, 26286683, 26286190, 926281467, 26228860, 26257864, 926251762, 26204049, 926269041, 926260238, 926247930, 26215449, 926210907, 26598170, 26530985, 926523674, 26554947, 26508230, 926502503, 926568688, 26564376, 926577242, 926577554, 926034123, 26026006, 26059202, 26052782, 926002686, 926068604, 926071197, 926044925, 26690519, 926691334, 926637803, 926735868, 26728852, 926706836, 926763593, 926741460, 926712110, 26427872, 926401334, 926460814, 26441222, 26416935, 26165995, 926165071, 27933234, 27930655, 27927136, 927953970, 27950702, 27948373, 927896151, 927825332, 927800251, 27875241, 27871197, 27814433, 927320555, 27367564, 927376498, 927349271, 927238431, 927225532, 927253401, 27201248, 927265663, 927279768, 927248402, 27243752, 27240761, 27216321, 27595045, 927581599, 27531414, 927509791, 27576540, 27541041, 27099926, 927093887, 927089599, 27085379, 27081915, 27008144, 927072193, 27683237, 27651806, 927729039, 927725023, 927740711, 927718996, 927714350, 927490772, 927408441, 927405026, 927473019, 927474664, 27471448, 927416316, 927182462, 927105621, 27161667, 927143821, 927147503, 24930916, 924953034, 24979678, 924949453, 924898905, 924892411, 924896959, 24888575, 924882704, 24823368, 24853755, 24850522, 924813515, 24397410, 924388316, 924382147, 924387625, 924338821, 924333662, 924352779, 924366416, 924370594, 24318512, 24310592, 24237068, 24225075, 924220571, 24208119, 24205678, 24200658, 924263219, 924277891, 924591948, 924589023, 924586022, 924532740, 924528113, 924522022, 924566367, 24033396, 24027503, 924059042, 924050672, 24003536, 24007572, 924071772, 924049556, 924686145, 924635594, 924653003, 24783142, 924720343, 924727401, 24703362, 24762936, 24762874, 24482528, 924434130, 24423531, 24426653, 24426773, 924454526, 24402917, 924462368, 924465770, 924445625, 24446195, 24415451, 924195473, 924131969, 24150145, 24104044, 924110157, 21999004, 921980710, 921923533, 21953395, 921908238, 21969867, 921913327, 21805503, 21801662, 21861111, 21878118, 21876999, 921399223, 921390355, 21334240, 921320556, 921347240, 21312944, 21293306, 921285469, 921281863, 921221323, 21252392, 21203788, 921264206, 21279057, 21219267, 921215779, 21210897, 921217948, 21217600, 921589954, 21530979, 21522407, 921520639, 921502936, 21501617, 921576830, 21549083, 21542279, 21082389, 21068138, 21049043, 921042917, 21698316, 921686907, 21681207, 21638056, 921653911, 921650790, 21605030, 921647425, 21617592, 921756832, 21773393, 21741174, 21482358, 921407199, 21466873, 921410713, 21130540, 921152720, 21167592, 21145150, 21147579, 921115408, 959990245, 59935103, 959927882, 59954416, 959902318, 959967996, 59947806, 959944240, 59896479, 959853095, 59855207, 959868142, 959392227, 959381678, 959329993, 959326532, 59356335, 59357899, 959360940, 959377405, 59299836, 959281208, 959262610, 959216667, 59538302, 59532868, 959522303, 959559273, 959550581, 59094495, 959052986, 59073500, 959044728, 59622921, 59620637, 59655802, 959678954, 59647006, 59780226, 959727220, 959762734, 59779509, 959778944, 59778827, 59498751, 59458357, 959452626, 59450166, 959451322, 959405377, 59417755, 959138562, 59159868, 59158513, 59163787, 959117228, 58943807, 58942267, 958890747, 958867524, 58875342, 958382019, 58339908, 958339731, 958328440, 958304873, 958368721, 958373823, 958374300, 958342440, 958344431, 58319719, 58297606, 958288323, 58280027, 958236458, 58237555, 958234588, 58200584, 958243284, 58212827, 958512471, 58517849, 958092388, 58084355, 58033181, 58029510, 958022191, 58027817, 958053115, 958050080, 958066537, 58061856, 958690130, 58697924, 958697914, 958630666, 958629550, 958628451, 958620041, 958794678, 58787379, 58752026, 58743443, 58425004, 958407977, 58470006, 958416978, 958193254, 958182740, 958131794, 58163778, 958174114, 953939911, 53952064, 53950276, 953893627, 953835094, 53831491, 953827941, 953802542, 953849058, 53845739, 953328478, 953354697, 53378231, 53341407, 53285291, 953201255, 53264540, 953270875, 953558870, 53555539, 953551645, 953564952, 953564597, 953579227, 953575837, 53574128, 953549731, 53090355, 53033071, 953035758, 53025120, 53003221, 53662100, 953679590, 53677208, 53780031, 953725525, 53775904, 953714726, 53497135, 53487048, 953420686, 53459120, 953405786, 953404233, 53463370, 53471654, 953440628, 53198160, 53194639, 53189238, 53130854, 953125755, 953158822, 953150161, 53104068, 953175750, 953148506, 53143254, 952985642, 52938249, 52935519, 52930264, 52937480, 952925747, 52891413, 952887056, 52805150, 952878204, 952845641, 52321988, 52308509, 952378903, 952340435, 52344871, 952318834, 52293341, 52297673, 52294245, 52262560, 52247652, 52596957, 952587571, 952526889, 52521871, 52557185, 952570431, 52095419, 952085476, 952033280, 52023165, 52058157, 952000778, 52063651, 52061741, 52078971, 952043891, 52042548, 52690859, 52683228, 52682551, 952687032, 952621904, 52652288, 52668857, 52672272, 52676965, 52676725, 52640622, 52735159, 952706762, 952745412, 952436066, 52422464, 52477038, 52443637, 52192273, 952127648, 52153936, 52103984, 52107195, 952101218, 52169408, 952163615, 52176635, 52171377, 952148536, 955993286, 55925938, 55927323, 55956723, 55977124, 955896886, 55896336, 955889361, 955836677, 955826555, 955865221, 955812316, 955325420, 955327558, 955359305, 955305820, 55305232, 55305751, 955304998, 955360619, 955377608, 955348823, 955343107, 55345236, 55286611, 955233341, 55252496, 955264201, 955271463, 955210436, 955592005, 55532157, 955578290, 955517795, 55057415, 955068839, 955016274, 955687224, 55653833, 55642580, 955793036, 55784907, 955734053, 955723444, 955720264, 955727111, 955767645, 55775077, 955492885, 55424851, 955458923, 55190060, 55186194, 955156243, 55171212, 55118289, 50992361, 950931098, 950920937, 50926049, 950953245, 950894719, 50808802, 950868913, 950863106, 50848477, 950842903, 950844420, 50371395, 950318557, 950223865, 950257329, 950204477, 950269544, 950261705, 50279323, 50275761, 950249818, 50521058, 950559173, 50556401, 950561955, 50099853, 950086247, 50035519, 50069802, 950049794, 50698443, 50688090, 950602531, 50661473, 950649922, 950643832, 50610669, 50616718, 50616437, 950722516, 950767607, 950483857, 950468596, 50461434, 950415093, 50191550, 950151334, 950172090, 950112182, 950115312, 56992224, 956996786, 56996787, 956928861, 956925802, 956895080, 956853565, 956875158, 56871591, 956844785, 56815715, 956814449, 956380314, 56305466, 56369883, 956363236, 56365235, 56367669, 956292537, 56289101, 956285763, 56228704, 956255458, 56206267, 956276591, 56276040, 956580172, 956587233, 956547125, 956097592, 956082256, 956059494, 56055514, 56060940, 56699339, 56699606, 56621858, 56602218, 956668165, 956672252, 956677452, 956671834, 956671355, 956671094, 56649133, 956646511, 956783540, 56783458, 56784461, 956733747, 56736234, 56723809, 956722822, 56766241, 956761461, 956493537, 956420477, 956457107, 56403866, 56472570, 956195233, 956138900, 956121106, 956171093, 56148681, 956141891, 957981002, 957953872, 57957897, 957957328, 957901342, 957961744, 57890849, 57888170, 957823724, 57824887, 957850959, 57857288, 57803922, 957872080, 957870334, 57874034, 57849451, 957840197, 57380204, 957329146, 57322863, 957303723, 957289399, 957239938, 57258674, 57204486, 57269700, 957240937, 957219355, 57593243, 957595838, 957534697, 957509388, 957505457, 957564265, 57573904, 957513995, 957091675, 57027937, 57054504, 957049126, 957011897, 957632595, 957637532, 57610173, 957793053, 957780743, 957729641, 957727266, 57748438, 957482654, 957428311, 957472208, 57470161, 957188656, 957186971, 57107463, 957172269, 954984897, 954935086, 54902473, 954949295, 54897262, 954853993, 954809062, 954845891, 954388517, 954380768, 954339446, 954333139, 954330086, 54359775, 954363149, 954344997, 54344224, 954341743, 54291639, 54236651, 54228253, 54220290, 954215530, 954539369, 54530573, 54579337, 954579408, 54573515, 954575772, 954082921, 954031050, 954070586, 954071360, 954040468, 54014747, 54696101, 54683045, 54638845, 954624577, 54651172, 54674877, 54646979, 954646506, 954799730, 54783102, 954725222, 54709096, 954703965, 954761235, 54740706, 954498421, 954185290, 954109813, 54167835, 54147604, 54144147, 51999179, 51998650, 951988950, 951931892, 51900720, 51975519, 951949397, 51949539, 951913102, 951883036, 951800319, 951804742, 951845761, 51840086, 51383747, 51335681, 951337152, 51305345, 951367853, 951343923, 951312034, 51299396, 951253366, 51255832, 951257146, 951206833, 951260327, 951240054, 951219845, 951599332, 951586015, 951539835, 951555898, 951506878, 951506353, 51576991, 51548461, 51513152, 951089506, 51030012, 951023983, 51059872, 51052259, 951054951, 51070058, 51042541, 51015903, 51015103, 51691692, 951632572, 951604791, 51665407, 951672939, 51642270, 951756556, 51706194, 51710342, 951714259, 951496238, 51442661, 51440603, 951189480, 51156995, 51168872, 51166283, 951173416, 51118332, 909908803, 909972211, 909942435, 909801535, 909326031, 909353556, 909367091, 909284786, 909237195, 909256149, 909241604, 909551081, 909575862, 909082826, 909084558, 909059556, 909048318, 909633422, 909630068, 909620698, 909654985, 909608498, 909640083, 909499193, 909498220, 909468746, 909415304, 909112533, 908966517, 908834634, 908828980, 908874921, 908874497, 908332210, 908336854, 908309822, 908308947, 908344825, 908344300, 908317131, 908290440, 908228152, 908584924, 908505878, 908547243, 908037884, 908058381, 908054838, 908060562, 908045967, 908047563, 908636111, 908663808, 908664970, 908613551, 908616540, 908764584, 908455354, 908451487, 908122255, 908151310, 903958934, 903380686, 903330958, 903362129, 903372010, 903232295, 903237288, 903220872, 903221813, 903259308, 903202229, 903213098, 903505813, 903567212, 903567495, 903546742, 903510862, 903032580, 903029093, 903025810, 903024784, 903058328, 903008984, 903002291, 903065168, 903043583, 903685860, 903626569, 903603231, 903733018, 903743292, 903486045, 903434890, 903459776, 903450643, 903409868, 903463560, 903440381, 903446792, 903154426, 903162927, 903149779, 903119146, 902988432, 902985953, 902929484, 902902611, 902964689, 902973750, 902975535, 902827200, 902827416, 902821044, 902861190, 902845220, 902325136, 902324843, 902363987, 902340122, 902224098, 902257970, 902270894, 902271495, 902510889, 902038733, 902036346, 902002920, 902061915, 902076992, 902606463, 902722793, 902492558, 902492184, 902439004, 902431334, 902462899, 902477540, 902109831, 902115770, 905933166, 905970711, 905876231, 905307494, 905379153, 905231649, 905252223, 905207512, 905557969, 905020765, 905050035, 905050669, 905068769, 905063434, 905067665, 905071202, 905625322, 905762064, 905779668, 905430738, 905424536, 905452457, 905474466, 905131662, 905120411, 905171499, 905110017, 900992390, 900857404, 900803969, 900807526, 900849073, 900324436, 900377515, 900315094, 900288163, 900280110, 900226354, 900599012, 900598507, 900596483, 900523509, 900502688, 900563299, 900571232, 900517138, 900029943, 900004286, 900045262, 900699539, 900684344, 900678361, 900647929, 900758143, 900751049, 900430568, 900477098, 900121293, 900170406, 906938827, 906926734, 906900696, 906943910, 906890918, 906355819, 906306451, 906310095, 906281003, 906593214, 906535511, 906551450, 906515107, 906053181, 906004165, 906069177, 906623384, 906663869, 906663650, 906666625, 906734390, 906728220, 906770136, 906746018, 906717117, 906488980, 906462220, 906449198, 907991473, 907835540, 907835675, 907808307, 907329996, 907354984, 907299375, 907259070, 907273812, 907597543, 907025726, 907063012, 907040982, 907609999, 907665560, 907672327, 907642889, 907796996, 907766113, 907492769, 907495207, 907457062, 907186954, 907106099, 907173802, 904955637, 904896282, 904896094, 904876059, 904810166, 904302052, 904340231, 904347408, 904294301, 904263385, 904263014, 904247365, 904585082, 904537858, 904523496, 904520492, 904558093, 904083889, 904004308, 904070454, 904697413, 904682078, 904662754, 904673696, 904757221, 904718707, 904484625, 904426063, 904444138, 904186881, 904125108, 904164619, 904117259, 901922158, 901926908, 901947446, 901835940, 901831420, 901858266, 901846219, 901325586, 901246613, 901592601, 901526010, 901558470, 901543033, 901077732, 901042023, 901011660, 901679327, 901671599, 901768940, 901747275, 901441063, 901136493, 901151403, 901166490, 901161692, 901140857, 901116657, 69991851, 969985237, 69928670, 69956619, 969948289, 69338482, 69352352, 69369612, 69366896, 969373210, 969296783, 69254353, 69251523, 69201047, 969262793, 969214178, 69535427, 969507566, 69561055, 69543560, 69547557, 969547025, 969093983, 69094212, 969031964, 969021032, 69046237, 69010253, 69010704, 69681724, 69658471, 69651772, 969673121, 69674607, 69649099, 969793944, 969789351, 69782948, 69734664, 69727054, 69768810, 69771082, 969455475, 969407430, 969466193, 69472960, 69470366, 69190227, 969197113, 969151969, 969163388, 69166616, 69142782, 969116300, 968931590, 68928124, 68977281, 968942115, 68941157, 968826803, 68808655, 68808160, 968874758, 968841180, 68394377, 968337183, 68320189, 968359462, 968316170, 68296205, 968599865, 968580823, 68531402, 968524376, 68559701, 968553116, 68500896, 68569419, 68511296, 968511021, 968034808, 68051771, 68003785, 68005822, 68016364, 968014949, 68693192, 68638283, 68637663, 968655003, 968665352, 968642186, 68618545, 68786064, 968731845, 968764329, 968494207, 68483847, 968436986, 68450537, 968465707, 968182190, 968187499, 968138673, 68136535, 68131524, 68165290, 968174658, 63989861, 63989688, 63934529, 63903643, 63835355, 963829685, 963871641, 63335010, 63328280, 963322153, 963306311, 963304929, 963372016, 963313898, 963312531, 963234828, 63257449, 63207483, 963265585, 963260861, 963243449, 63217581, 963214730, 63595284, 63597830, 63588216, 63587244, 63525242, 63524291, 963521822, 63551851, 963563709, 963545038, 63003353, 63065676, 63686123, 63673132, 963675508, 63674042, 63615629, 63616404, 963735095, 63766261, 63743299, 963717895, 63711235, 63495972, 63424955, 963405385, 963183180, 963185810, 963130088, 63151240, 963103142, 63102774, 63101864, 63164720, 963113315, 63113220, 962920014, 962958870, 962956505, 962965650, 962917513, 62895582, 62891513, 62822110, 962826128, 962805285, 962863524, 962862841, 962866159, 62870188, 962810355, 62330991, 62359104, 62316303, 962201292, 962269976, 62216004, 962217303, 962584218, 62581761, 962532917, 62529252, 62522319, 962505399, 62577847, 62096912, 62035112, 962034225, 62006722, 62079548, 962070427, 962014489, 962686472, 962651685, 962609762, 962667969, 62648886, 62619494, 962781290, 62732517, 962723534, 62724716, 962709939, 962709862, 62709539, 962706599, 962768859, 62763145, 962716077, 62426557, 62459311, 62450861, 962196966, 62184752, 962130339, 62154966, 62178127, 65993375, 65987562, 65981184, 965954022, 965906934, 65962393, 65919070, 965898563, 65827611, 965856612, 65813831, 965302333, 965360407, 965366794, 65312854, 65316347, 65236175, 965231949, 965258374, 965254292, 65201055, 965265015, 65242563, 965211295, 65594252, 65580906, 965586413, 965531662, 65568982, 965549351, 65088488, 65087304, 965038811, 965035631, 65027748, 965007944, 65075483, 965011718, 65609044, 65612619, 65792291, 65758460, 965753657, 65708137, 65702502, 65705883, 965771151, 965432577, 965421126, 65450172, 65400720, 65418484, 65134211, 65145333, 65146140, 965147803, 65118375, 960987031, 960926102, 960956024, 60909066, 60902083, 60973274, 60949956, 60837996, 960829419, 60808259, 960800544, 60847573, 960330112, 60321817, 60308234, 960304612, 960370277, 60299667, 60233012, 60236847, 60223811, 960204088, 960264279, 960248962, 960243239, 60241206, 60532346, 960562323, 60579743, 60578158, 60544836, 60096643, 960087066, 60005339, 60065774, 960066741, 960043335, 60683326, 960686299, 60600837, 960675109, 60790955, 960791291, 960753485, 960767507, 960776491, 960715403, 60423942, 60458611, 960478718, 960472325, 60187239, 960138399, 60137282, 60157741, 60100682, 966985110, 66932357, 966907759, 66964081, 966883237, 966887932, 966828379, 66825166, 966863031, 66842095, 966844467, 966321083, 66359762, 66309467, 66378658, 966343938, 966286533, 66284988, 66233709, 66234074, 966260977, 966266880, 66243461, 966245929, 66213915, 66557305, 966554504, 66503467, 966577264, 66577516, 966518762, 66515307, 966514659, 966035915, 66004533, 966049036, 966010387, 966692720, 966695342, 66694911, 66683409, 66685292, 66684766, 966633629, 966623684, 66653247, 66656997, 966666999, 66671218, 66783061, 66758045, 966753726, 66740792, 66493890, 966488200, 66482622, 66459564, 66414605, 966411555, 966130707, 966169734, 66165230, 966167873, 966171177, 66148537, 67993657, 67986520, 67984244, 967920897, 67921924, 967963342, 967976265, 67940674, 967913096, 67916254, 67898241, 67888788, 67804197, 967860610, 67866786, 67861354, 67877801, 967813080, 67382114, 67338423, 67336323, 67331239, 67354969, 967369499, 67363029, 67371628, 967340470, 967312203, 967314254, 967283081, 967287043, 967252653, 67242235, 967219053, 967213928, 67597352, 967577176, 67513520, 67515174, 67510271, 67030318, 967054568, 67063523, 67061948, 67061590, 967639515, 967628891, 67658721, 67677769, 967619118, 67781103, 67753788, 967746763, 67481661, 967454433, 67443793, 967415623, 967192727, 67153021, 967160039, 967160425, 964992574, 64939040, 964934102, 64957421, 64907420, 64979688, 964916428, 964884134, 64821101, 964858035, 964867623, 64817293, 64354378, 964365498, 64361455, 964377890, 64348921, 64345711, 964313780, 64288535, 964283182, 964235087, 964228142, 64200244, 964274229, 64213538, 64537283, 964520584, 64560419, 964543569, 964542075, 964028830, 964024816, 64008848, 64060472, 64070999, 64076099, 964622651, 964619946, 964786333, 964755432, 964768763, 64746125, 64714769, 964409040, 64448419, 964411940, 964194902, 964187092, 64139934, 64131835, 964153161, 964115323, 61956104, 961979356, 61918094, 961888478, 961830960, 61856510, 961866355, 961876838, 961848238, 961843143, 961817479, 961399372, 961395969, 61363603, 961365259, 961342796, 61346633, 61316021, 61290581, 61229335, 61248258, 61246841, 961599859, 961537258, 961509645, 61511289, 961005430, 961072043, 61044705, 961011283, 961627688, 961604047, 961619740, 61789772, 61720131, 961702624, 61767688, 961778554, 961774682, 961747135, 961716669, 61711496, 61496368, 961422063, 961453941, 61473618, 61447322, 61155028, 961141234, 979998167, 79996286, 79994801, 79982311, 979930817, 79920727, 979927657, 79902480, 979967903, 979964428, 979820256, 79821863, 979821229, 79852355, 979800295, 79846193, 79325926, 979327547, 79379860, 79375463, 79342007, 79317920, 979289545, 979288129, 979287370, 979223493, 79254587, 79269018, 979261359, 979240541, 979598909, 979591657, 979539932, 979532433, 979527909, 79503423, 79579761, 979571186, 79073997, 979071839, 979046603, 79018147, 979684411, 979606911, 979780022, 979786306, 979733221, 79736648, 979729126, 979740979, 79716937, 79498143, 979482813, 979426974, 979447697, 979182736, 79187617, 79181474, 79139243, 979133638, 979118875, 78922727, 978969491, 78912245, 78911650, 978894902, 978889704, 978882411, 978839147, 78805478, 978806002, 78869605, 978876975, 978811760, 978328148, 78322163, 978307145, 78230701, 978268432, 978594187, 78587877, 78557243, 978569216, 978029072, 978025482, 78066508, 978653141, 978668751, 978672110, 978675738, 978796974, 978788555, 78782216, 78732988, 78721886, 978755001, 78705323, 978777664, 78742439, 978497684, 78485352, 78433727, 78413887, 78198044, 78154587, 978145720, 973990379, 973990731, 73988322, 973935674, 973930392, 973936843, 73929629, 973952482, 973901901, 73901266, 73967235, 973914188, 73891604, 73823151, 973856368, 73854580, 73869079, 73339116, 73375970, 73377957, 973293424, 973288828, 973239216, 73232223, 973237327, 73237359, 973250754, 73203111, 73276448, 73598767, 973534745, 973558651, 973504423, 973569782, 73547800, 73517402, 973085641, 973029108, 973045789, 73044370, 73019162, 73691306, 73605668, 73605138, 973606296, 973674887, 973614344, 73795588, 73731444, 973725638, 73704593, 973772564, 973497976, 73403881, 973405251, 973445322, 73418166, 73417283, 973192223, 73195728, 73129324, 973105486, 73100336, 73106041, 73169366, 973177826, 973111183, 72925860, 972965335, 972978413, 972975351, 972970270, 72948033, 972941532, 972880310, 972805518, 972848668, 972840491, 972398736, 972393688, 972369451, 972360570, 72373805, 72373366, 72319263, 972289745, 72282643, 72237309, 72226839, 72251157, 72260792, 972241310, 72532430, 972537073, 972506938, 972565817, 972545817, 72080047, 72034747, 972027756, 972068408, 972015188, 72642611, 972645160, 972619821, 72612058, 72730868, 72774143, 972740465, 72741481, 972433013, 972465042, 972460513, 72442187, 72197641, 972186635, 972131278, 72129401, 72159217, 972103623, 972102478, 972106342, 972101960, 72169113, 975935322, 75929730, 75929725, 75959349, 75900955, 975964672, 75961547, 75975840, 75839274, 975829416, 75841764, 75812260, 75389801, 75388397, 975333533, 75309073, 75301373, 75365789, 75378797, 75372014, 975371235, 975288277, 975287257, 75230831, 975269605, 75268394, 75277712, 75219383, 975212181, 75216321, 75217415, 75598111, 975593300, 975538246, 75502353, 975569160, 975577884, 75519332, 975517050, 75029717, 75007914, 975077988, 975692329, 975697881, 975682210, 75656718, 975651130, 75647245, 975619682, 75752320, 75709817, 975763739, 75765219, 975779270, 75715606, 75710598, 75483555, 975481744, 975428000, 975459445, 975409256, 75418383, 75199202, 75185433, 75186582, 75137770, 975104961, 75161955, 70935240, 970937345, 70937425, 970958983, 70902336, 970824798, 70855173, 970871688, 70842127, 70308034, 70371923, 70319463, 970310573, 970293460, 970288182, 970235608, 970220964, 970257229, 70262540, 70212633, 970211452, 970522585, 970521253, 970557510, 970562106, 970572788, 70036924, 70077551, 970014728, 70691767, 70654657, 970784989, 70738794, 970733780, 970729867, 70702961, 970704991, 970769484, 70768661, 970763601, 70747647, 970713723, 970436796, 70454809, 970467144, 970461007, 70472407, 970198819, 970191270, 970125421, 70156748, 70168113, 970161827, 70170612, 976939445, 76909207, 76965289, 976960622, 976975315, 976974705, 76882095, 976886123, 76808697, 976870142, 976322232, 76365280, 76365627, 976291503, 76287628, 76239783, 976224039, 76256348, 976202640, 76207992, 76267015, 76277802, 76594055, 76588161, 76522424, 76564187, 76519908, 76083314, 76021438, 976051011, 976017162, 76692887, 76686593, 976635156, 76625708, 976661211, 76676037, 976640066, 976644901, 76616387, 976739417, 76491127, 76480603, 976426592, 976450932, 976405643, 976473180, 76192921, 76196749, 76124190, 976112369, 77933368, 77912049, 77898689, 77896382, 77832528, 77835030, 77829043, 977825465, 77851470, 77862897, 77872873, 977847466, 977844885, 77392269, 977394668, 977326570, 977304439, 77368049, 77376173, 77348196, 77312745, 977316116, 77226778, 977262607, 77218930, 77215181, 77535484, 77531525, 977556847, 77504030, 977566763, 77573263, 77577362, 977517379, 977099421, 77083489, 77085292, 77065845, 977064307, 977061191, 977046033, 977010846, 77699911, 977623897, 77621843, 77608459, 77665138, 977610282, 977791313, 77738724, 977728211, 77753289, 977747947, 77457059, 77408476, 77403695, 977475704, 77471287, 977199912, 977188193, 77182722, 77138024, 977137307, 77122991, 77122527, 977162504, 77115139, 74902079, 974972727, 974944993, 974916684, 74891329, 974857878, 74815838, 974391570, 974321386, 74379803, 974238342, 74232818, 74251450, 974262703, 974276815, 974249933, 974536691, 74552138, 974573094, 74541224, 974094786, 974034596, 974002672, 74040130, 74699571, 74690341, 974691130, 74625811, 74601466, 974787212, 974725229, 974705183, 74742782, 974485351, 974430315, 974425845, 74457806, 74467389, 974412502, 74189553, 74123514, 974161282, 74177049, 74177667, 974174355, 71993298, 971985291, 971927687, 971955150, 971900217, 971965981, 71979926, 971940605, 71912016, 71834404, 971826286, 71805490, 971807886, 971878004, 71872264, 971847576, 971818177, 71815496, 971817168, 971394507, 971327820, 71324896, 71306846, 971315905, 71316851, 971236554, 971255419, 71528472, 971509253, 971514971, 71098946, 71098616, 71096779, 971030470, 71697715, 971683641, 71662127, 971661341, 971617803, 71799005, 71784489, 71738214, 971720483, 971727689, 971753503, 971702159, 971745769, 971718650, 71483986, 971485027, 971428283, 971405987, 71123672, 971103111, 971105941, 971161101, 71143787, 71114076, 71114106, 49980760, 49907171, 49963573, 49960631, 949975005, 949839217, 949831113, 49856211, 49856468, 949808297, 49862858, 49865393, 949819533, 49812304, 49817062, 49814178, 949396804, 49388286, 949326468, 49300208, 949319838, 949233967, 949252003, 949262188, 949275242, 949240198, 949213705, 49215037, 949215457, 49522477, 49020521, 949059669, 949069190, 49068731, 949067487, 949014598, 49684195, 949620085, 949654147, 49665005, 49674465, 49617243, 49793259, 49790396, 949781025, 49750845, 949756328, 949756200, 49765905, 949434123, 949429642, 949402951, 49449463, 949440359, 49192377, 49197952, 49197100, 949191925, 49129145, 49121757, 949104518, 949147159, 49118717, 948994900, 948939838, 948937148, 948934518, 948927198, 948962234, 48964952, 948940493, 48917447, 948914287, 48882694, 948837349, 48864397, 948874737, 948814139, 948303967, 948344865, 948312148, 948280577, 948233543, 948223731, 48265789, 948248745, 948246372, 48597848, 48583448, 948582511, 48585399, 48522257, 48558437, 48542668, 48514662, 948093146, 48084327, 948058606, 948064144, 48019548, 948016540, 948629072, 48659384, 48668824, 948667408, 48664365, 48646649, 948704483, 948778290, 48770063, 948713857, 48429250, 948424713, 48468840, 948414802, 48199958, 948190243, 948196456, 48197194, 48187424, 48139695, 48120010, 948158605, 948102290, 948111118, 943988284, 43939500, 943921093, 43959503, 943965610, 43975953, 943970654, 943976801, 43941550, 43910034, 943899184, 43882895, 943835978, 43828683, 943867492, 943872466, 43848085, 43848451, 43846814, 43338897, 43306761, 943313099, 43313659, 43296919, 43205314, 943269325, 43272768, 43586406, 43522948, 943526383, 43509332, 943563012, 943548141, 43094192, 43089814, 943037369, 943027433, 43059077, 943058679, 43068320, 943070892, 43048475, 43010397, 43016770, 943629959, 943606641, 943667989, 943673375, 943794790, 943728068, 43750896, 43704364, 943773799, 943742432, 943425238, 943424296, 943450968, 943440585, 43183004, 43139953, 943129423, 943122927, 943159051, 43171057, 942999253, 42989170, 42963820, 42949255, 942911597, 942895384, 942888974, 42836208, 942837167, 42822655, 42853029, 942853728, 942805523, 942842256, 42811130, 42338885, 942333664, 942334848, 42341888, 942311502, 42233713, 42225148, 942254768, 42596358, 942533991, 942551158, 42509947, 942563745, 942572755, 42542454, 942052296, 942052161, 42073083, 942072940, 942017023, 42694469, 42634951, 42641794, 942791412, 942738532, 942727346, 42721525, 942752919, 42756923, 42700871, 942700225, 42701159, 42779407, 942434504, 42465739, 942443244, 42445011, 942445143, 42154233, 42109653, 942104470, 942101261, 45929731, 45958643, 945954019, 945951974, 45979401, 45945607, 45947514, 945918467, 945917503, 945898133, 945820876, 945824239, 945877109, 945874138, 45391400, 945382939, 45380225, 945386199, 945372319, 945374223, 45222664, 45226070, 945277321, 45215824, 45593321, 945592284, 945587342, 45587406, 45530337, 945536605, 945528233, 945521429, 945558726, 45550978, 45575454, 945549507, 45093926, 45090596, 45038296, 45035122, 45058207, 945058113, 945055075, 945005759, 945000220, 45066802, 45041832, 45693710, 45652259, 945654903, 945662350, 945662672, 945665256, 45672586, 45648149, 45640176, 945751231, 45743401, 945740054, 945716705, 45494685, 945422452, 945453666, 45403448, 945407522, 945461503, 45478604, 945473015, 45187679, 45142401, 945118412, 945113654, 940932191, 40959953, 940953607, 940973833, 40976900, 40918620, 940912840, 40888534, 40800040, 940865795, 940813549, 940383111, 40325879, 40352901, 40301731, 40369244, 940366634, 40372502, 940343165, 40317727, 40314458, 40282823, 40284194, 940239596, 940236021, 940257616, 40216131, 940592010, 940592154, 940538220, 940553424, 40508019, 40518776, 940092877, 940080025, 40087465, 40028906, 40021107, 40050132, 940067671, 940079122, 40011565, 40683298, 940684132, 940639848, 940628179, 40620393, 40626775, 940600408, 40601480, 40610987, 40780321, 40780304, 940724050, 40750635, 40757900, 940779380, 940401747, 940460412, 940412962, 940136937, 940169335, 940167045, 40171893, 940141615, 946991532, 946983735, 46930772, 946936185, 46901106, 46964341, 946978206, 46972629, 946914103, 46896662, 46889015, 946884608, 46834844, 46848619, 946818660, 946397884, 946333803, 946333499, 46336368, 946323230, 46353872, 946362722, 46374618, 946299700, 946292573, 46285657, 46287683, 46230148, 946222969, 946253587, 946242754, 946212947, 46597854, 946533341, 946536177, 946526358, 946577527, 946512916, 946098618, 946090308, 946081137, 46038507, 946034287, 946059421, 46064246, 946076930, 946695099, 46683621, 946627826, 946657573, 46606951, 46604525, 46673739, 946675095, 46794474, 946785668, 946786495, 946755679, 46703784, 946707674, 946704708, 46710505, 46492824, 46437391, 946425834, 46420998, 946420940, 946458921, 946456362, 46467053, 946477896, 946410105, 46199536, 946182045, 46129937, 46156187, 46103885, 46101792, 946175446, 947993074, 947997221, 947930261, 47934289, 47940046, 47916424, 47892638, 47891511, 947880028, 947880702, 47831350, 947858181, 947805300, 947843221, 947818042, 47395157, 47382510, 947322719, 47305512, 47306406, 47366777, 47289029, 47273097, 947273761, 947272027, 47247606, 947213125, 47596774, 47582179, 947580522, 47586608, 47537564, 47526269, 947526271, 47576644, 947574405, 47548423, 47516127, 947085965, 47067935, 47043132, 947046007, 47697422, 947632537, 947653221, 947654138, 47669521, 947666305, 947646280, 947783860, 47738376, 47709246, 947762749, 947764158, 47451126, 947467531, 47476046, 47442668, 947415291, 947188554, 47186223, 947128475, 947120279, 47124546, 47105109, 947171391, 944983042, 944985080, 944925692, 944959688, 44949669, 44890695, 44829510, 44820037, 44875426, 44874480, 44844749, 944383314, 944383258, 944385146, 944330562, 944337259, 44350230, 944309248, 44369468, 944361733, 44378094, 944349040, 44343890, 44311652, 44294144, 944282689, 944231081, 944217199, 944596686, 944591242, 44588269, 944534172, 944553280, 44556243, 944554848, 44509079, 44569696, 944542396, 44034369, 44023914, 44695337, 44606102, 44604622, 44604412, 44667311, 44738918, 944751822, 944760890, 44767636, 944767615, 944454613, 44407401, 44469614, 944462442, 44446527, 44182170, 44135219, 944159166, 44106648, 944173502, 944175785, 44149852, 941998538, 941986306, 941929235, 41925831, 941921925, 41951869, 41855292, 41856750, 941395592, 941391151, 941332226, 941354940, 941302885, 941300010, 941301290, 941370047, 41293307, 41231600, 41224434, 41208763, 941246048, 41580009, 41587280, 41532508, 941520365, 941517358, 41514243, 941099507, 41030550, 941034355, 41004438, 41045301, 941011690, 941611284, 41772781, 941770749, 41747558, 941713847, 41475796, 941474483, 41441191, 941153467, 941108144, 41110984, 941117571, 19936022, 919928126, 919952800, 19964337, 919829238, 19856098, 919382146, 19386394, 919353521, 919303144, 19341370, 19283270, 19281000, 919223215, 19271809, 19247728, 19591775, 19536413, 19523954, 19523767, 919548355, 19028860, 919022315, 19003950, 919003806, 919076548, 919077289, 19071039, 919017951, 19692686, 919691984, 919639681, 19620555, 19656460, 19665307, 19643362, 19643750, 919739110, 19734584, 919720699, 19708199, 19708142, 19767923, 19764313, 919773649, 919498618, 919479851, 919473440, 919440259, 919446174, 19414249, 919188067, 19159761, 919152159, 919155318, 919154972, 19109859, 19108931, 919119367, 18998119, 18924281, 918951248, 918943381, 18890091, 918885249, 918836427, 918856484, 18807452, 918865197, 18849813, 18848573, 918846044, 18333113, 918362469, 18252333, 18272246, 918271395, 18213969, 18582018, 918522505, 918029549, 918045749, 918698697, 18694733, 18658738, 18673916, 918673040, 18797391, 918794063, 18785335, 918734347, 918702740, 918701629, 918772736, 918740991, 918426027, 18457197, 18126877, 918159116, 18166868, 918143636, 13995415, 913988355, 13935860, 913921739, 13902257, 913960732, 13896101, 13820968, 13820322, 13806413, 13861982, 913819663, 913326646, 913300266, 13362663, 913348397, 13344071, 13317009, 913290965, 13284722, 913233930, 13258953, 13251361, 13206282, 913553211, 913509682, 913508696, 13098428, 913092035, 13096149, 13094120, 13087272, 13059312, 913004263, 13072467, 13015803, 913621747, 13658513, 913655917, 13607916, 13663037, 13641567, 13756370, 913741586, 913491387, 913482850, 913482860, 13475404, 913175920, 13171693, 13147767, 12983707, 912936592, 12937266, 912957036, 912901305, 912963068, 12941810, 12896571, 912887846, 912821955, 12857004, 12804272, 12863195, 12338291, 912330309, 912329459, 912351790, 12309924, 912236574, 912245862, 12533319, 912505570, 12565637, 912566994, 12566762, 12574389, 12514058, 12090382, 912080106, 12037983, 12028908, 12053618, 12006157, 12074295, 912015019, 12698282, 12680073, 12626434, 12624587, 12624074, 12607347, 912670789, 12644176, 12613364, 12616942, 12726862, 12774319, 12716718, 12429358, 912452753, 912455485, 912456503, 12465685, 912475826, 912416822, 912180110, 912155748, 912109283, 12165766, 912172804, 12175173, 12144914, 915980931, 915925973, 915908880, 915945972, 15858190, 915815004, 915393625, 15359249, 15350358, 15349913, 915343400, 915315934, 15282876, 15278180, 915270593, 915539887, 915579245, 915570082, 915543734, 915542047, 15514833, 915093727, 915091559, 915081359, 915033353, 915057204, 15067269, 15079475, 15040348, 915683659, 15630270, 15624672, 15653049, 15602619, 15601837, 15668576, 15794383, 915782026, 15734404, 915763902, 15747610, 915716742, 915499519, 15487173, 915484961, 15461836, 15477609, 15474066, 915449319, 15446808, 15183842, 915151562, 15103791, 915106771, 10922187, 10903000, 910972763, 910942409, 10941164, 910834043, 10834731, 910858412, 910851131, 910869298, 910860587, 910849380, 10846256, 10818267, 910815261, 910817874, 10397470, 10333331, 10321493, 910367783, 910376205, 910341436, 10298576, 910295988, 910295033, 910257461, 910270899, 910244247, 10213293, 10214462, 910528387, 910522751, 10557453, 910579497, 10570461, 910544320, 910518019, 910083143, 10032115, 910031718, 910029244, 10027803, 10054577, 910006141, 10045776, 10682614, 910655691, 10618207, 910796700, 910787205, 10732129, 910755948, 910750676, 910751358, 10763101, 910773963, 910775833, 10770724, 910777562, 10438038, 10404243, 910404102, 10468057, 10466227, 910478564, 910476889, 910446596, 10192659, 910195150, 10191890, 10121722, 910153206, 10109288, 10172937, 16935876, 16908875, 916978269, 916971408, 916826697, 916852978, 16855157, 16869044, 916865337, 16864939, 916864348, 916874461, 916816771, 16817607, 16389669, 16337975, 16368689, 916375284, 16376059, 16346300, 916296878, 916230089, 16255241, 916266642, 916264097, 916270023, 16590642, 916556118, 16507085, 16565051, 916543011, 16095278, 16095585, 916091961, 916039297, 916020050, 16016461, 16687235, 916632462, 916601175, 16796802, 16797588, 16720634, 916727793, 916753489, 916756016, 916762991, 916779563, 916740832, 16746020, 916498001, 16497696, 16439184, 916437546, 16405789, 916406596, 16404736, 916444465, 916176952, 916177640, 916145916, 16147850, 17989235, 17987077, 917906658, 917960077, 17966307, 17977928, 17977339, 17918756, 917895630, 17896726, 917888584, 917860527, 17875613, 917848376, 17843001, 917392674, 917348902, 917344381, 17341396, 17312532, 17310357, 17299528, 917298371, 17255777, 917271809, 917243259, 17245203, 17215014, 917211046, 917592156, 17587613, 917525848, 17502180, 917562212, 17566455, 17577416, 917089083, 917060124, 917044346, 917017578, 17692074, 917695385, 17696102, 917691245, 917612351, 17614919, 917761400, 917432086, 917462635, 917413809, 917416621, 917180353, 917157099, 917112934, 14996997, 14980254, 914974614, 914945472, 914917540, 914858114, 914853365, 914861779, 14372796, 914231730, 14226538, 14221254, 914250336, 14206652, 14269617, 914248214, 914213873, 14526976, 14554442, 914549315, 14519270, 14081489, 14030675, 14034944, 914055899, 914067969, 14072651, 914012897, 14666367, 14678266, 914649028, 14648902, 14641727, 14616492, 914783716, 14757500, 14707521, 14764126, 914718637, 914713311, 914711129, 14492276, 914439357, 14420392, 14424068, 914404510, 914479145, 14449714, 14418316, 914416125, 914133230, 14151486, 14172011, 14144586, 14111468, 911993163, 11991577, 11989343, 11984079, 11935137, 911907820, 11963234, 11971759, 11971768, 11971462, 11947767, 11944528, 11918577, 11859575, 911850066, 911878833, 11382390, 911367759, 911315344, 911293161, 11227012, 11278875, 11274244, 911249709, 911550003, 11557184, 11562614, 11543201, 11514527, 911089303, 11058418, 11051853, 911005382, 911063699, 11079598, 911043056, 911018221, 11695161, 911691850, 11691072, 911650086, 11606048, 11669573, 911664385, 911677071, 11644414, 11786938, 911733591, 11778366, 911772541, 11777509, 11499967, 911492873, 911491800, 11430403, 11453327, 911453359, 11418020, 911195916, 911191764, 911183953, 11139515, 911132809, 11121661, 11102386, 899922222, 899945059, 899869645, 899339307, 899366479, 899232076, 899223307, 899249763, 899562919, 899542813, 899086538, 899077784, 899016399, 899016259, 899017664, 899643181, 899759433, 899495928, 899458644, 899454953, 899184219, 899150607, 899157124, 899172670, 899142975, 898932826, 898903212, 898855772, 898857180, 898322539, 898356196, 898309944, 898361316, 898348198, 898235536, 898500584, 898519738, 898033396, 898048651, 898013407, 898631159, 898624511, 898656611, 898609307, 898613691, 898615595, 898763706, 898772020, 898488340, 898435917, 898450668, 898467230, 898190410, 898164866, 898144700, 893950956, 893905073, 893949456, 893869539, 893387609, 893304018, 893360786, 893373419, 893349943, 893282248, 893526083, 893559245, 893565339, 893574799, 893549542, 893541341, 893541692, 893099274, 893033387, 893651823, 893617870, 893723686, 893750663, 893488701, 893428666, 893467675, 893195618, 893132543, 893169914, 893179175, 893119808, 893119301, 892988950, 892961406, 892916639, 892820194, 892803817, 892800914, 892339738, 892304173, 892256814, 892201010, 892263635, 892532542, 892532685, 892534567, 892524181, 892510054, 892043449, 892696672, 892623226, 892607295, 892644595, 892613325, 892726761, 892767218, 892712812, 892496178, 892480946, 892430995, 892437772, 892421720, 892449989, 892134875, 892164508, 892170337, 892143325, 892111381, 895970719, 895974791, 895919853, 895837442, 895802928, 895802676, 895840140, 895300600, 895306749, 895301516, 895289409, 895281330, 895264664, 895274349, 895247871, 895214789, 895583494, 895581454, 895682847, 895635064, 895653321, 895604156, 895614896, 895796757, 895700118, 895493527, 895493168, 895444392, 895199601, 895173508, 890922136, 890963653, 890966976, 890910325, 890859095, 890856294, 890802017, 890848647, 890332041, 890293348, 890260678, 890501281, 890571923, 890548918, 890519810, 890015287, 890658687, 890609555, 890666215, 890679992, 890734199, 890764845, 890491049, 890432137, 890435902, 890456020, 890135645, 890151156, 890118178, 896995332, 896980624, 896956198, 896350834, 896350355, 896298038, 896295129, 896206893, 896599096, 896504764, 896542477, 896099265, 896008500, 896003025, 896070609, 896630442, 896678631, 896445722, 896187295, 896160697, 896178879, 896117075, 897987375, 897938082, 897934664, 897947691, 897878514, 897329610, 897344882, 897295509, 897233393, 897258690, 897255907, 897200683, 897260432, 897215356, 897563690, 897571374, 897026533, 897008396, 897689557, 897687253, 897789961, 897729643, 897723886, 897770928, 897770253, 897777132, 897740546, 897718553, 897409458, 897468264, 897475152, 897190571, 897139052, 897126434, 897172528, 894979703, 894970298, 894971370, 894948512, 894828954, 894805865, 894812139, 894377629, 894346585, 894292880, 894200968, 894241574, 894581526, 894553117, 894574533, 894540791, 894518625, 894082567, 894642229, 894735824, 894754331, 894439994, 894436846, 894428881, 894453387, 894405226, 894463601, 894443174, 894410040, 894120401, 894169532, 894165220, 891937305, 891915126, 891853650, 891819310, 891395476, 891303489, 891236806, 891200373, 891207836, 891218751, 891523193, 891507801, 891099313, 891029653, 891653661, 891607352, 891667225, 891674277, 891728633, 891721973, 891701750, 891743956, 891496712, 891494527, 891445885, 891160293, 891171930, 891140966, 889984943, 889934065, 889958707, 889850562, 889866866, 889815858, 889330779, 889320709, 889346838, 889223411, 889250247, 889589762, 889506276, 889545940, 889095778, 889078491, 889018433, 889631098, 889659383, 889607247, 889613580, 889612090, 889610609, 889723888, 889459656, 889411992, 889162173, 888978515, 888890500, 888888717, 888886778, 888824787, 888399882, 888391408, 888381180, 888324686, 888362349, 888370538, 888225529, 888278467, 888561521, 888547427, 888643376, 888640076, 888787555, 888763063, 888762477, 888777272, 888406472, 888196124, 888122951, 888100980, 888160987, 888148723, 888143257, 888110823, 883992446, 883936730, 883922575, 883953562, 883956772, 883907711, 883835698, 883801010, 883817587, 883354926, 883259871, 883207884, 883263716, 883246809, 883585457, 883549827, 883517042, 883685889, 883720535, 883754049, 883494150, 883443308, 883190878, 883162863, 883115323, 882962506, 882970613, 882889457, 882833531, 882800727, 882868564, 882388910, 882350267, 882376671, 882349017, 882251200, 882097402, 882032919, 882023670, 882063567, 882064254, 882637531, 882625047, 882736117, 882767098, 882774575, 882430988, 882465379, 882472050, 885998663, 885937269, 885928317, 885978457, 885910888, 885824097, 885388040, 885373861, 885230032, 885220335, 885263196, 885275490, 885243803, 885599197, 885559849, 885574400, 885545097, 885097618, 885007715, 885075794, 885663224, 885641499, 885722177, 885757710, 885701465, 885766731, 885764319, 885764047, 885712013, 885491646, 885199870, 885180913, 885105901, 885107336, 885113930, 885114027, 880989087, 880988501, 880933304, 880957032, 880947432, 880885238, 880854548, 880809531, 880326360, 880302985, 880281154, 880258997, 880266637, 880274296, 880584508, 880534310, 880550902, 880577055, 880080416, 880035150, 880051603, 880654166, 880677033, 880647971, 880408800, 880471076, 880448901, 880190746, 880137297, 880134045, 880120265, 880109480, 880169757, 886985214, 886923114, 886925757, 886965432, 886898921, 886853240, 886322005, 886208894, 886260899, 886277221, 886565587, 886001629, 886693348, 886650696, 886603714, 886799153, 886737019, 886707934, 886431348, 886468247, 886131763, 886106481, 887954495, 887951891, 887908082, 887976522, 887911508, 887892894, 887856313, 887819459, 887811563, 887330793, 887359193, 887292770, 887244396, 887522429, 887501706, 887569278, 887513398, 887514600, 887080639, 887038996, 887078371, 887605778, 887764637, 887775422, 887746426, 887482465, 887465292, 887447154, 887139204, 887146483, 884935512, 884976481, 884913545, 884916608, 884854528, 884343901, 884298690, 884218851, 884214880, 884596671, 884581854, 884528301, 884521001, 884549568, 884038197, 884052670, 884055805, 884695273, 884626829, 884660996, 884647186, 884614672, 884402864, 884198532, 884191743, 884134005, 884150454, 884104033, 884101797, 884144447, 881954082, 881951469, 881972653, 881399181, 881391276, 881387235, 881288043, 881283712, 881280707, 881252749, 881208129, 881265942, 881211158, 881520896, 881028590, 881000550, 881063218, 881078843, 881620335, 881621675, 881654154, 881666201, 881675386, 881640139, 881724778, 881744103, 881434306, 881445098, 881441263, 881184561, 881163955, 881141885, 839998156, 839933941, 839900908, 839820633, 839853252, 839814999, 839356572, 839379608, 839297355, 839236305, 839201098, 839279904, 839276979, 839219676, 839535789, 839536638, 839036913, 839007153, 839001428, 839041560, 839630346, 839658437, 839679824, 839796608, 839498544, 839481849, 839464370, 839449962, 839184571, 839166641, 839142402, 838933327, 838959547, 838967167, 838949640, 838893770, 838881849, 838820810, 838877459, 838874839, 838841866, 838357818, 838362651, 838599135, 838084125, 838020933, 838017502, 838011719, 838691926, 838687138, 838639438, 838665143, 838727217, 838704114, 838701923, 838762641, 838712823, 838465732, 838124064, 838110321, 833844134, 833349147, 833345929, 833314255, 833239008, 833231620, 833261813, 833219813, 833215680, 833529345, 833566754, 833579418, 833001831, 833045871, 833018138, 833639570, 833657560, 833676057, 833613429, 833795386, 833789395, 833736654, 833758348, 833703303, 833490900, 833469329, 833466611, 833443500, 833158320, 833165688, 832923833, 832922716, 832968142, 832840939, 832846422, 832847903, 832386197, 832355540, 832318769, 832266491, 832279818, 832270619, 832503779, 832548439, 832023561, 832021259, 832057983, 832064075, 832604241, 832669767, 832784115, 832729277, 832714512, 832497415, 832434509, 832447170, 832117807, 835927530, 835973180, 835970202, 835911012, 835868167, 835318128, 835315599, 835298193, 835284301, 835221638, 835204201, 835277235, 835244248, 835219382, 835009586, 835629788, 835604550, 835660786, 835647322, 835612912, 835786347, 835739964, 835723066, 835492343, 835446101, 835131104, 835128087, 835126800, 835118504, 835118624, 830975227, 830880339, 830826478, 830874859, 830371389, 830314792, 830230977, 830229478, 830226438, 830243353, 830505485, 830507308, 830566917, 830546854, 830036558, 830026720, 830069713, 830078514, 830664486, 830677715, 830728049, 830759887, 830774442, 830710898, 830711732, 830437099, 830441646, 830194675, 830106619, 836856099, 836861945, 836877716, 836843695, 836334780, 836353900, 836305912, 836373518, 836284570, 836234451, 836537824, 836520173, 836526974, 836508787, 836503435, 836500986, 836541657, 836092016, 836083681, 836024357, 836045839, 836699398, 836654348, 836607518, 836666981, 836649534, 836614377, 836726156, 836724325, 836490387, 836431939, 836429296, 836426977, 836405726, 836406557, 836407154, 836135377, 836151525, 836143896, 837981215, 837921002, 837962563, 837960542, 837890221, 837885229, 837861661, 837870664, 837386907, 837315447, 837283408, 837248662, 837219197, 837539351, 837524884, 837560731, 837548778, 837546057, 837089981, 837043711, 837699726, 837682173, 837639059, 837627555, 837660106, 837618397, 837795430, 837710624, 837422898, 837407002, 837161624, 837179072, 834938342, 834951594, 834966608, 834977481, 834855103, 834817922, 834380372, 834356199, 834229914, 834220062, 834208400, 834583845, 834524803, 834551269, 834567596, 834082284, 834039561, 834028000, 834054240, 834683544, 834682473, 834633176, 834659582, 834799974, 834726301, 834761814, 834778899, 834432583, 834442235, 834440773, 834183922, 834118189, 834112495, 831984748, 831936931, 831907073, 831973548, 831972625, 831805828, 831840681, 831390737, 831340850, 831310215, 831311901, 831292915, 831228016, 831209917, 831264077, 831272353, 831590645, 831591583, 831583004, 831534061, 831502970, 831504361, 831560801, 831571352, 831038353, 831037877, 831008045, 831040642, 831696090, 831686625, 831659170, 831610776, 831611135, 831783981, 831728060, 831708688, 831768413, 831747631, 831432796, 831422379, 831465351, 831443441, 831155211, 829994101, 829987103, 829939800, 829869728, 829841144, 829369944, 829379746, 829295229, 829296378, 829285382, 829591021, 829531548, 829559121, 829551622, 829565839, 829575010, 829513140, 829051339, 829066134, 829075208, 829696081, 829689770, 829600639, 829668710, 829617825, 829780969, 829489686, 829405738, 829466092, 829190537, 829134572, 829156150, 829151181, 829143365, 828978642, 828912537, 828915443, 828839329, 828813066, 828397753, 828380354, 828338765, 828333491, 828322690, 828346621, 828341909, 828312961, 828289422, 828269617, 828593601, 828532207, 828570332, 828544312, 828095835, 828090803, 828023159, 828003210, 828682687, 828633967, 828770014, 828746199, 828747496, 828455822, 828418905, 828415836, 828105812, 828105653, 828169582, 828174701, 823949663, 823838863, 823832706, 823835599, 823808532, 823811485, 823336959, 823353556, 823368826, 823364414, 823318159, 823236817, 823247990, 823215119, 823567244, 823097085, 823022812, 823005129, 823077737, 823694803, 823633390, 823659207, 823619116, 823751447, 823701881, 823768231, 823456873, 823441662, 823180409, 823102252, 822944758, 822828978, 822804686, 822384856, 822361410, 822207061, 822590517, 822589247, 822586987, 822537140, 822098380, 822056690, 822063023, 822047492, 822010679, 822633915, 822620369, 822651585, 822611440, 822722311, 822773690, 822493729, 822488718, 822486612, 822484522, 822427994, 822476418, 822416073, 822103132, 822167377, 822119745, 825988437, 825987837, 825981617, 825956614, 825838557, 825837970, 825801969, 825330018, 825327731, 825355436, 825354304, 825305192, 825313199, 825315515, 825530130, 825508804, 825503932, 825091759, 825089902, 825011013, 825791387, 825721339, 825756794, 825433803, 825414552, 825188947, 825131577, 820935291, 820936154, 820964752, 820945933, 820897730, 820889047, 820330397, 820302658, 820300595, 820373707, 820255115, 820261138, 820569722, 820565526, 820082485, 820033742, 820031488, 820022265, 820012873, 820631886, 820662597, 820662795, 820610281, 820700265, 820491004, 820427717, 820455294, 820402284, 820466719, 820470533, 820471635, 820415023, 826998984, 826901187, 826835333, 826821314, 826860816, 826259777, 826250714, 826248024, 826502740, 826506421, 826086261, 826030534, 826028406, 826073823, 826661229, 826675109, 826641605, 826614134, 826493414, 826492166, 826497286, 826480772, 826414008, 826117088, 827962142, 827837141, 827858280, 827863972, 827819165, 827381308, 827300732, 827343011, 827236417, 827237429, 827253851, 827274966, 827249579, 827215803, 827590933, 827532974, 827522647, 827033274, 827642378, 827732032, 827717859, 827487838, 827477244, 827192388, 827122089, 824953514, 824944154, 824941676, 824835685, 824858642, 824850505, 824851853, 824870270, 824871858, 824397246, 824308445, 824367887, 824344595, 824227634, 824272720, 824538913, 824529430, 824520784, 824527989, 824524499, 824578785, 824093025, 824668224, 824666641, 824791773, 824730839, 824728654, 824748892, 824743114, 824496185, 824429586, 824423984, 824400258, 824467511, 824476615, 824128925, 824177964, 821999608, 821989597, 821982596, 821927136, 821975670, 821949210, 821833513, 821821066, 821387579, 821332750, 821325542, 821302772, 821366305, 821343443, 821291589, 821260525, 821555170, 821504690, 821577049, 821094826, 821072812, 821046444, 821698283, 821655357, 821610790, 821790189, 821788830, 821708586, 821482668, 821484852, 821455181, 821402423, 821163670, 821119965, 859990435, 859980524, 859928913, 859940709, 859912949, 859801312, 859329016, 859357838, 859369299, 859370020, 859349521, 859312050, 859207319, 859507977, 859547459, 859099902, 859044094, 859698463, 859652778, 859655643, 859669912, 859679807, 859792152, 859768992, 859483015, 859426829, 859416988, 859139991, 859129608, 858936654, 858929256, 858925790, 858947278, 858917601, 858851704, 858808062, 858335984, 858364717, 858255839, 858257016, 858262274, 858246228, 858588658, 858582613, 858541530, 858096708, 858053210, 858067346, 858078805, 858690530, 858607816, 858795803, 858725643, 858753448, 858763651, 858746876, 858462052, 858159507, 858152903, 858168501, 858145201, 853901237, 853969133, 853891432, 853337254, 853321368, 853300540, 853293647, 853591123, 853533973, 853533744, 853518118, 853029640, 853051983, 853079933, 853630430, 853623178, 853670985, 853759330, 853700713, 853495580, 853432347, 853195090, 853163181, 852937427, 852943059, 852891344, 852825817, 852855676, 852865007, 852873682, 852818467, 852398156, 852355285, 852347933, 852281937, 852251081, 852205755, 852261610, 852529004, 852554758, 852551349, 852503267, 852507395, 852566826, 852548197, 852519338, 852096674, 852041566, 852012900, 852672236, 852794239, 852724998, 852750895, 852774963, 852402923, 852475029, 852448405, 852194116, 852136808, 852169843, 852169340, 852162039, 855994005, 855922673, 855927747, 855958111, 855894933, 855861137, 855815188, 855383013, 855331400, 855321893, 855350989, 855302033, 855233823, 855256964, 855581069, 855501077, 855036239, 855037419, 855666687, 855679569, 855791254, 855754412, 855433190, 855427670, 855421076, 855473239, 855443165, 855415245, 855138178, 850954233, 850844866, 850380855, 850378465, 850233874, 850200527, 850561046, 850040654, 850015785, 850687678, 850639763, 850679591, 850613208, 850617766, 850737985, 850720093, 850486115, 850433925, 850437459, 850407180, 850469039, 850461551, 850127250, 850157392, 850166348, 850147736, 856956262, 856945840, 856890140, 856891365, 856881809, 856853137, 856848237, 856383874, 856353779, 856307373, 856208808, 856212023, 856532438, 856527116, 856519602, 856032376, 856065336, 856695699, 856694374, 856685122, 856686887, 856627320, 856658755, 856642561, 856764204, 856740230, 856481476, 856438991, 856409449, 856447646, 856187195, 856165902, 856178789, 856170156, 857947991, 857801562, 857862874, 857849340, 857817136, 857302141, 857362231, 857366610, 857361006, 857376544, 857319273, 857314150, 857251906, 857210877, 857558777, 857512681, 857082381, 857084357, 857055323, 857050398, 857042737, 857699651, 857689575, 857481986, 857436276, 857441275, 857197537, 857138842, 857102950, 857166913, 857172296, 857148129, 854903883, 854961402, 854918997, 854880997, 854881428, 854875019, 854874815, 854321457, 854309051, 854308814, 854308695, 854368356, 854282166, 854287185, 854270957, 854214739, 854590231, 854528517, 854037189, 854052580, 854065874, 854044341, 854017022, 854692349, 854683412, 854632238, 854679948, 854671462, 854788573, 854735910, 854724288, 854758058, 854740340, 854746333, 854496893, 854487997, 854434189, 854479169, 854111493, 851926606, 851909817, 851962705, 851897281, 851850797, 851873150, 851846038, 851398162, 851385677, 851326355, 851359837, 851356641, 851345648, 851296867, 851230037, 851275268, 851217934, 851587378, 851577106, 851574239, 851023720, 851021817, 851006260, 851616502, 851735515, 851751561, 851496053, 851422263, 851453320, 851193935, 851182963, 851133522, 851158575, 851156739, 851160689, 851112535, 809902889, 809946246, 809913603, 809830601, 809306966, 809363821, 809221278, 809263226, 809279407, 809247390, 809538122, 809528571, 809521151, 809501696, 809565431, 809542353, 809542434, 809547943, 809029696, 809041856, 809633120, 809676261, 809649570, 809618015, 809797910, 809791864, 809738365, 809767720, 809480969, 809424319, 809459943, 809417806, 808983586, 808926304, 808901323, 808840698, 808521196, 808564823, 808516472, 808052270, 808621007, 808600615, 808615368, 808706531, 808768766, 808717950, 808480092, 808424960, 808443797, 808185373, 803921647, 803967536, 803970314, 803970762, 803912326, 803917408, 803824019, 803845828, 803324397, 803368394, 803345152, 803291069, 803233144, 803253089, 803204502, 803266580, 803270779, 803506050, 803084443, 803006513, 803067095, 803655026, 803656270, 803610928, 803702811, 803705070, 803741709, 803482545, 803452029, 803443205, 803411219, 803177508, 803171061, 803111178, 802973929, 802975093, 802856629, 802819035, 802388820, 802286220, 802237442, 802209724, 802200689, 802266898, 802261576, 802593491, 802522520, 802557224, 802565641, 802571811, 802098445, 802064330, 802042495, 802692834, 802631022, 802733511, 802778523, 802719789, 802718137, 802711880, 802457512, 802413582, 802138533, 802159614, 805975622, 805975788, 805970836, 805915840, 805898887, 805892714, 805855491, 805801220, 805864316, 805811292, 805387564, 805339219, 805323836, 805321977, 805358618, 805351558, 805344028, 805229679, 805223393, 805246935, 805524958, 805023883, 805002876, 805004919, 805073495, 805015583, 805657929, 805654345, 805708561, 805708495, 805762125, 805779605, 805453174, 805452672, 805132994, 805137864, 805128008, 805102483, 805149804, 800961463, 800889802, 800836861, 800807186, 800333904, 800312087, 800293252, 800206201, 800244258, 800593075, 800583224, 800502994, 800502793, 800034088, 800056740, 800045760, 800682984, 800661130, 800677756, 800778511, 800485299, 800442855, 800411438, 800183075, 800184064, 800123595, 800125565, 800140510, 806995818, 806986257, 806936427, 806971137, 806943890, 806811631, 806306353, 806312197, 806637327, 806634509, 806679183, 806642201, 806791917, 806755655, 806480210, 806423887, 806469070, 806444969, 806416577, 806417153, 806194293, 806120174, 806149088, 806148862, 807993808, 807997231, 807895734, 807896683, 807814126, 807385369, 807303180, 807283979, 807244979, 807550915, 807569211, 807516927, 807517076, 807064287, 807684094, 807684091, 807650175, 807794993, 807701705, 807769488, 807762646, 807413693, 807181942, 807130993, 807177135, 804955173, 804909541, 804904243, 804880228, 804838179, 804339684, 804329914, 804351323, 804344832, 804250835, 804250483, 804213308, 804550808, 804034191, 804071686, 804693669, 804621868, 804654941, 804602421, 804780310, 804760300, 804714247, 804430117, 804424326, 804456905, 804107735, 804173056, 801984229, 801884373, 801821447, 801803538, 801866439, 801844450, 801817383, 801348307, 801347052, 801229829, 801205849, 801249213, 801543179, 801036860, 801631162, 801659043, 801675864, 801783119, 801703381, 801455673, 801405496, 801466175, 801416927, 801416634, 801417833, 801196797, 801136269, 801155539, 801174803, 801119661, 869910718, 869884156, 869380764, 869386703, 869341714, 869289075, 869288754, 869280215, 869221334, 869279956, 869534227, 869507258, 869098602, 869051422, 869048974, 869019419, 869786364, 869700197, 869768654, 869714539, 869711231, 869491871, 869458640, 868991244, 868929323, 868925238, 868942370, 868832194, 868801456, 868810726, 868349697, 868299769, 868298335, 868291981, 868232397, 868222913, 868206545, 868268375, 868561494, 868040933, 868685747, 868639823, 868679672, 868784845, 868727178, 868721897, 868711748, 868488285, 868433743, 868463629, 868442170, 868412401, 868415025, 868415020, 868185688, 868141197, 868112879, 868116042, 863994468, 863989681, 863929942, 863964461, 863829223, 863825138, 863864757, 863230515, 863255494, 863278174, 863249577, 863242404, 863593876, 863531359, 863558351, 863563805, 863089057, 863027897, 863057327, 863046074, 863018151, 863695892, 863630232, 863625593, 863659622, 863675008, 863611272, 863784578, 863730264, 863743370, 863712178, 863450634, 863127767, 863176429, 863146889, 862958727, 862964540, 862977089, 862855053, 862848478, 862360907, 862235118, 862236235, 862236448, 862204823, 862533992, 862094663, 862085207, 862037958, 862024579, 862017047, 862698316, 862686662, 862686673, 862634823, 862624997, 862612948, 862787225, 862726371, 862435823, 862476841, 862198004, 865956428, 865888643, 865821981, 865802942, 865870883, 865385742, 865336832, 865313531, 865598789, 865528239, 865553026, 865516429, 865025815, 865688375, 865680605, 865636322, 865666981, 865774669, 865771631, 865745790, 865711821, 865467921, 865190164, 865150005, 865161772, 860939552, 860937060, 860949979, 860885525, 860886171, 860841023, 860368323, 860364496, 860342859, 860285345, 860229481, 860225656, 860200265, 860206986, 860586750, 860527392, 860545344, 860547299, 860090612, 860032783, 860023422, 860002237, 860000725, 860060648, 860042824, 860652644, 860459040, 860152507, 866950950, 866961260, 866942926, 866893915, 866893526, 866820328, 866851393, 866865684, 866867173, 866846949, 866812507, 866817035, 866295518, 866231324, 866226227, 866252046, 866265769, 866210631, 866591625, 866581153, 866557155, 866506254, 866567857, 866573163, 866544331, 866098172, 866040750, 866789954, 866735568, 866729989, 866774924, 866745650, 866423817, 866456084, 866403736, 866401741, 866474389, 866419608, 866131885, 866149186, 866147534, 867980975, 867924438, 867953666, 867976983, 867896631, 867869222, 867844264, 867350742, 867308302, 867305809, 867304607, 867220482, 867226548, 867262894, 867591916, 867588796, 867575214, 867546443, 867541901, 867091511, 867055483, 867070197, 867074622, 867697195, 867621331, 867653113, 867675992, 867739263, 867711569, 867429536, 867474379, 867132918, 867152354, 867154573, 867104921, 864992871, 864991348, 864934489, 864905048, 864975537, 864913861, 864913729, 864911652, 864803001, 864869148, 864813160, 864398014, 864395869, 864332291, 864331434, 864348002, 864240484, 864539565, 864553539, 864094559, 864065302, 864693285, 864604707, 864678078, 864674483, 864612908, 864709496, 864768372, 864481599, 864422105, 864406637, 864419022, 864194237, 864134328, 864128027, 864152271, 864100634, 864160671, 864141656, 861985716, 861953251, 861964734, 861918239, 861884693, 861833670, 861864460, 861849297, 861323583, 861269208, 861583244, 861524066, 861500583, 861507479, 861545265, 861093419, 861090216, 861009508, 861000766, 861016832, 861014012, 861638775, 861498901, 861456443, 861405289, 861405467, 861469269, 861121520, 861106916, 861145477, 879880549, 879880013, 879827254, 879862146, 879875856, 879874369, 879390170, 879389531, 879334873, 879297775, 879283939, 879257226, 879204139, 879272740, 879581499, 879550499, 879557728, 879543442, 879058475, 879628496, 879793804, 879734915, 879703162, 879760377, 879742555, 879417908, 879122596, 879124579, 879155131, 879100118, 879114469, 878991424, 878978686, 878949434, 878887636, 878864839, 878331979, 878326924, 878347372, 878315714, 878284064, 878257163, 878202683, 878593415, 878584927, 878515406, 878030382, 878680051, 878658923, 878650535, 878673658, 878781736, 878774492, 878713288, 878452105, 878460293, 878446020, 878419989, 878415110, 878194796, 878145289, 873972401, 873911208, 873896602, 873815300, 873396177, 873326422, 873354865, 873348369, 873297942, 873226736, 873266292, 873243425, 873565908, 873056676, 873074087, 873698189, 873780574, 873429184, 873183429, 873187142, 873123640, 873176564, 873114627, 872983215, 872959697, 872963808, 872915778, 872870715, 872876469, 872359748, 872374491, 872318005, 872313698, 872311845, 872225161, 872537372, 872553019, 872570342, 872540307, 872090930, 872036283, 872028504, 872057906, 872699843, 872600366, 872678799, 872726617, 872701045, 872771033, 872741633, 872489049, 872438418, 872457306, 872448251, 872188360, 872134329, 872169720, 872140673, 875998098, 875998798, 875924307, 875940247, 875897814, 875839022, 875831593, 875827516, 875812586, 875388170, 875303523, 875342602, 875285161, 875226162, 875257834, 875208753, 875207789, 875555534, 875555190, 875093858, 875081453, 875033763, 875020502, 875009476, 875684679, 875754434, 875763769, 875193563, 875101618, 875179115, 870984512, 870934745, 870956461, 870900314, 870966400, 870979447, 870896101, 870820305, 870329457, 870367431, 870314369, 870210775, 870586903, 870527009, 870521332, 870560216, 870511409, 870050505, 870063309, 870626265, 870606432, 870732952, 870703910, 870777495, 870712498, 870453649, 870452851, 870467446, 870443594, 870198919, 870184428, 870136150, 870154112, 876925137, 876899532, 876822543, 876802143, 876878206, 876374378, 876220870, 876529456, 876525711, 876574891, 876099911, 876096500, 876031043, 876635750, 876620041, 876799730, 876798296, 876739122, 876740970, 876424947, 876164348, 876179092, 876115096, 877996348, 877909987, 877965155, 877978364, 877919789, 877916052, 877806210, 877323149, 877300102, 877361517, 877294203, 877284471, 877238751, 877225804, 877267454, 877550449, 877571433, 877517563, 877096770, 877009195, 877078836, 877642876, 877739031, 877722347, 877754507, 877477868, 877443825, 877190412, 877142934, 877146406, 874981546, 874970839, 874949630, 874811553, 874398822, 874329854, 874308229, 874361133, 874343803, 874313911, 874290847, 874226356, 874270002, 874274262, 874581242, 874532202, 874097798, 874049706, 874678512, 874794316, 874481223, 874408028, 874414745, 874109429, 874160061, 874175782, 871910997, 871914059, 871854422, 871803569, 871807317, 871878124, 871384208, 871323837, 871324314, 871289221, 871235247, 871257968, 871537712, 871531867, 871507227, 871548276, 871039306, 871056904, 871009202, 871065878, 871072932, 871043461, 871044466, 871618961, 871767369, 871761500, 871772201, 871433658, 871437894, 871183516, 871109994, 871167574, 871115468, 849998069, 849988969, 849926059, 849955696, 849960552, 849971825, 849891065, 849852877, 849874336, 849847666, 849359946, 849315746, 849280153, 849253102, 849559393, 849565995, 849549075, 849541484, 849518540, 849084856, 849081344, 849626861, 849626269, 849605842, 849666287, 849640698, 849730379, 849757713, 849766915, 849717663, 849499333, 849496016, 849488658, 849483206, 849438942, 849469431, 849139373, 849163475, 849175567, 848997667, 848900208, 848906072, 848887102, 848881007, 848808653, 848817653, 848348311, 848315352, 848293843, 848288172, 848288148, 848594476, 848089791, 848085816, 848034022, 848058676, 848689105, 848657999, 848648140, 848617430, 848791844, 848752210, 848493984, 848439852, 848133626, 848155831, 848110792, 843992005, 843997283, 843968868, 843963822, 843880165, 843390733, 843396724, 843326739, 843356963, 843306613, 843360937, 843293478, 843291627, 843284849, 843264761, 843588344, 843585599, 843535566, 843553047, 843575898, 843021309, 843050348, 843016412, 843624326, 843659956, 843659305, 843655105, 843607247, 843782497, 843498433, 843422726, 843402316, 843472365, 843165222, 842938332, 842830634, 842808766, 842305736, 842362812, 842299339, 842299075, 842239749, 842231960, 842268515, 842274236, 842555328, 842551075, 842576369, 842542807, 842084568, 842053223, 842075947, 842626940, 842607159, 842790008, 842782499, 842777715, 842714185, 845984340, 845984110, 845931591, 845958195, 845895944, 845851016, 845868430, 845383943, 845382417, 845331281, 845312555, 845298394, 845231149, 845260335, 845597519, 845565929, 845571454, 845098341, 845059419, 845063144, 845070350, 845048957, 845015941, 845692102, 845654473, 845603946, 845712135, 845715276, 845494831, 845488152, 845476543, 845189758, 845111641, 840932490, 840922080, 840947260, 840941435, 840919323, 840884307, 840849288, 840813157, 840355369, 840357324, 840214932, 840532552, 840503231, 840505042, 840546624, 840087240, 840030334, 840056974, 840070221, 840014790, 840692972, 840630352, 840784279, 840735024, 840712491, 840498367, 840406784, 840404154, 840191350, 840185145, 840153359, 846391953, 846389286, 846357283, 846374596, 846341085, 846239588, 846230893, 846228542, 846250407, 846583158, 846572340, 846548208, 846512817, 846092350, 846037393, 846060476, 846790424, 846736659, 846701618, 846767691, 846422958, 846420036, 846467262, 846120299, 846105358, 846164645, 846114775, 847935622, 847923841, 847949646, 847301070, 847341453, 847299794, 847272582, 847241435, 847550527, 847557432, 847565129, 847547605, 847036613, 847042841, 847645154, 847756006, 847768504, 847772107, 847494709, 847457181, 847416656, 847184305, 847176942, 844992127, 844986892, 844987086, 844901978, 844897965, 844850298, 844800922, 844339393, 844332536, 844309991, 844360914, 844294227, 844281654, 844259314, 844262537, 844514757, 844098095, 844007861, 844062804, 844065429, 844627849, 844624648, 844658248, 844787542, 844749635, 844438982, 844195229, 844183051, 844110008, 841914577, 841829575, 841829737, 841853614, 841388715, 841321693, 841368116, 841341259, 841315321, 841581102, 841018110, 841012447, 841686199, 841631157, 841621545, 841432570, 841400838, 841463449, 841186243, 841133147, 841130538, 841125842, 841152732, 841170429, 841147129, 819920316, 819893446, 819883615, 819829137, 819863420, 819870914, 819845655, 819841829, 819393805, 819332589, 819309206, 819294218, 819237469, 819261509, 819210962, 819594099, 819532045, 819527115, 819519414, 819096544, 819088022, 819084669, 819073317, 819693235, 819637725, 819705268, 819763274, 819762559, 819740146, 819494677, 819433344, 819468799, 819123451, 818928548, 818883725, 818839106, 818828011, 818815320, 818399524, 818396608, 818323120, 818367358, 818313455, 818290849, 818291823, 818259155, 818256128, 818207537, 818504598, 818563798, 818572913, 818542404, 818052584, 818052646, 818630881, 818608435, 818618360, 818789622, 818702009, 818764947, 818490856, 818433910, 818434933, 818402020, 818415363, 818414638, 818184910, 818109581, 818167549, 818143862, 818141152, 813959753, 813957205, 813907144, 813960737, 813944525, 813911318, 813850739, 813868238, 813355771, 813361482, 813311215, 813291578, 813252530, 813242787, 813210898, 813590776, 813554142, 813579446, 813056135, 813694710, 813634800, 813647052, 813758069, 813755861, 813706922, 813434258, 813479634, 813181579, 813152684, 813146206, 812933057, 812979947, 812838681, 812816514, 812329922, 812322173, 812308735, 812368440, 812378080, 812254209, 812580001, 812500673, 812569095, 812546433, 812038481, 812693258, 812650052, 812613380, 812721569, 812773338, 812771912, 812442938, 812136167, 812107992, 815950693, 815905043, 815911454, 815897600, 815805178, 815876669, 815324276, 815282203, 815259308, 815253962, 815269237, 815240906, 815210732, 815595362, 815556221, 815503066, 815502957, 815579195, 815039344, 815050486, 815696542, 815687830, 815629634, 815605070, 815662486, 815676150, 815730258, 815486679, 815468510, 815440117, 815190171, 815138495, 815136319, 815157142, 810995768, 810924558, 810944902, 810911495, 810881201, 810872997, 810874175, 810314331, 810264694, 810247402, 810592872, 810582144, 810584580, 810505532, 810507998, 810501993, 810569900, 810033050, 810058921, 810047741, 810654720, 810645610, 810613928, 810796819, 810767966, 810772383, 810494847, 810130431, 810100268, 810110506, 816982107, 816932395, 816909727, 816966446, 816964204, 816970085, 816918409, 816832873, 816807845, 816304370, 816301183, 816315075, 816290065, 816250307, 816200784, 816268623, 816590003, 816558898, 816565966, 816519838, 816510280, 816032463, 816024930, 816043144, 816679471, 816642213, 816735154, 816723259, 816766973, 816778271, 816740398, 816484889, 816413542, 816195600, 816182797, 816100323, 817939239, 817903044, 817972939, 817911316, 817853522, 817320362, 817367864, 817230067, 817203061, 817559192, 817566418, 817053951, 817062264, 817075710, 817634165, 817675118, 817644804, 817798646, 817782413, 817454500, 817417966, 817109191, 817110585, 814989576, 814900654, 814886752, 814868100, 814303662, 814229325, 814220165, 814593866, 814581422, 814519914, 814095039, 814083131, 814625542, 814668125, 814750137, 814456630, 814406688, 814478311, 814194055, 814128418, 814145480, 814117402, 811990076, 811990680, 811987123, 811981712, 811951392, 811964792, 811912661, 811822885, 811854673, 811805815, 811805387, 811865081, 811871307, 811358394, 811289491, 811232117, 811228391, 811224834, 811253117, 811268260, 811264446, 811535157, 811072971, 811014517, 811699773, 811631304, 811653167, 811646126, 811617629, 811787084, 811711478, 811400059, 811469497, 811163337, 811173969, 399986153, 399938781, 399924646, 399950973, 399967199, 399975709, 399917229, 399801731, 399869109, 399841112, 399391031, 399259531, 399209045, 399585501, 399504923, 399059643, 399078015, 399077169, 399046495, 399788169, 399734157, 399768065, 399749834, 399744291, 399407574, 399464485, 399461552, 399479680, 399417000, 399189884, 399111313, 399111192, 398994638, 398924607, 398903715, 398962912, 398978040, 398972165, 398948105, 398913345, 398830500, 398807872, 398864358, 398879381, 398394078, 398388323, 398230468, 398262594, 398584316, 398581890, 398526686, 398098078, 398032478, 398031687, 398621012, 398652139, 398662245, 398783736, 398786335, 398701132, 398713968, 398715097, 398486381, 398433535, 398429650, 398424368, 398409351, 398405519, 398190427, 398130138, 398126872, 398111448, 393931687, 393825744, 393397169, 393389544, 393338263, 393328251, 393365562, 393367094, 393299113, 393282599, 393234795, 393263965, 393270153, 393213501, 393522782, 393558478, 393023044, 393064100, 393624611, 393676279, 393643466, 393733549, 393754940, 393492769, 393484778, 393462348, 393182122, 393168353, 393115120, 392852637, 392878013, 392875863, 392300953, 392300139, 392347302, 392258176, 392240646, 392591064, 392525388, 392090621, 392081304, 392026604, 392045120, 392627897, 392602938, 392640023, 392641231, 392612869, 392610808, 392784697, 392753073, 392740693, 392427970, 392100172, 392170323, 395941088, 395836118, 395804637, 395875446, 395874590, 395848799, 395846699, 395399637, 395315114, 395279251, 395216282, 395583767, 395536967, 395526365, 395550555, 395557696, 395023294, 395001091, 395693719, 395636954, 395601302, 395645362, 395610816, 395794583, 395725814, 395456617, 395406260, 395108369, 395108031, 395103685, 395111023, 390922232, 390965304, 390913885, 390912563, 390824197, 390840421, 390817696, 390355280, 390293209, 390264717, 390588906, 390505846, 390569793, 390067528, 390042902, 390699905, 390643933, 390615164, 390496744, 390435796, 390466146, 390446904, 390441096, 390125295, 390108125, 390160908, 390166153, 390140590, 396946742, 396895216, 396833597, 396858668, 396851500, 396801693, 396874177, 396381916, 396340097, 396346752, 396299946, 396238211, 396250758, 396248723, 396554157, 396547763, 396091534, 396047235, 396013720, 396666905, 396797644, 396778045, 396777829, 396741889, 396427011, 396455911, 396198830, 396173060, 397909753, 397969786, 397946544, 397899287, 397846931, 397365067, 397315753, 397221281, 397206090, 397025052, 397024239, 397601267, 397619379, 397613604, 397731449, 397705404, 397769592, 397773328, 397409609, 397197408, 397189294, 397140059, 394935830, 394934154, 394922274, 394920902, 394357419, 394304883, 394370798, 394236529, 394257281, 394539116, 394544888, 394513844, 394022994, 394066754, 394071250, 394794548, 394780376, 394767095, 394779630, 394773492, 394438264, 394409134, 394477142, 394186204, 394108684, 391999465, 391965161, 391883430, 391837275, 391828711, 391380555, 391352459, 391363963, 391347282, 391347629, 391243389, 391212265, 391587674, 391539969, 391500789, 391542736, 391029421, 391015684, 391628712, 391647914, 391732149, 391705058, 391764223, 391776384, 391774279, 391492786, 391424061, 391463019, 391441127, 391193292, 389992955, 389924854, 389900350, 389969129, 389827137, 389863117, 389383038, 389329760, 389362715, 389373338, 389319114, 389222885, 389209714, 389269065, 389269783, 389273819, 389275681, 389218912, 389551034, 389098000, 389033538, 389020180, 389656552, 389609319, 389646843, 389795328, 389705216, 389718401, 389482612, 389455056, 389410882, 389414270, 389136858, 389155571, 389162384, 389145793, 388935366, 388907106, 388968503, 388946729, 388914982, 388898177, 388862287, 388860427, 388877425, 388396559, 388305703, 388310679, 388280085, 388284855, 388208392, 388682455, 388779732, 388714591, 388433482, 388420911, 388457166, 388461633, 388181062, 388157712, 388151443, 383920157, 383849239, 383815863, 383392402, 383383951, 383387173, 383283381, 383283249, 383230271, 383594974, 383527104, 383553839, 383565248, 383088940, 383058384, 383004426, 383079997, 383079229, 383693598, 383689747, 383658225, 383665237, 383747726, 383741562, 383453066, 383408841, 383476497, 382930653, 382937984, 382968785, 382821362, 382858096, 382869285, 382865448, 382847805, 382819025, 382817517, 382335507, 382337386, 382357113, 382376469, 382316777, 382287740, 382258301, 382559155, 382513302, 382512848, 382092263, 382091118, 382629622, 382608743, 382601004, 382676973, 382676428, 382649306, 382781682, 382777363, 382488620, 382483071, 382482149, 382434008, 382428648, 382447238, 382444319, 382123743, 385988548, 385902275, 385906126, 385974331, 385947538, 385824246, 385813136, 385380306, 385329201, 385321586, 385295932, 385221580, 385209031, 385242976, 385247330, 385592150, 385528315, 385570788, 385576850, 385092449, 385095000, 385095793, 385085027, 385025076, 385077629, 385019339, 385624978, 385662371, 385649916, 385782331, 385720989, 385704713, 385713059, 385710492, 385481569, 385407490, 385161552, 380920338, 380381454, 380330428, 380336883, 380304771, 380365039, 380365703, 380267507, 380584327, 380556381, 380070466, 380048455, 380014697, 380689556, 380686682, 380627164, 380668707, 380735349, 380433546, 380433652, 380421931, 380199554, 380135961, 380128141, 380106865, 380177599, 386859210, 386852630, 386856795, 386804256, 386307042, 386301381, 386360024, 386376163, 386310140, 386298147, 386591886, 386540729, 386511080, 386090195, 386011127, 386609614, 386780708, 386706253, 386764257, 386772653, 386488872, 386437279, 386195714, 387981530, 387889603, 387869793, 387875990, 387814372, 387323617, 387303336, 387371364, 387313831, 387238785, 387257032, 387561750, 387579539, 387571140, 387549820, 387060586, 387688968, 387607954, 387669188, 387796747, 387728662, 387759450, 387767555, 387497719, 387462528, 387106452, 387116732, 384997079, 384937761, 384905336, 384962481, 384977157, 384941060, 384834203, 384829557, 384826675, 384827231, 384804125, 384819362, 384388812, 384303850, 384213222, 384037262, 384021263, 384077110, 384043367, 384696936, 384688152, 384637085, 384609408, 384601429, 384664965, 384720143, 384422162, 384470464, 384194351, 384184903, 384141438, 381987579, 381958158, 381957861, 381972093, 381828743, 381809935, 381865210, 381818266, 381380314, 381372507, 381293562, 381238450, 381258950, 381254886, 381276391, 381593129, 381584658, 381094634, 381657019, 381667328, 381720042, 381756147, 381773372, 381466686, 381474228, 381414372, 381194678, 381167750, 381148106, 381113613, 339829496, 339863512, 339861682, 339393468, 339331766, 339322833, 339356425, 339233194, 339231191, 339251510, 339244852, 339215459, 339598067, 339587861, 339506581, 339086048, 339070309, 339699922, 339722085, 339777067, 339457109, 339468202, 339474321, 339443266, 339154063, 339103440, 339100093, 338989445, 338985664, 338985735, 338905376, 338971346, 338912018, 338853816, 338304828, 338367252, 338378848, 338344510, 338313268, 338296562, 338289022, 338281112, 338260576, 338276923, 338554103, 338551142, 338542465, 338036887, 338052370, 338006539, 338626734, 338754702, 338709646, 338760140, 338427256, 338463442, 338410331, 338193434, 338166554, 338161101, 333984758, 333934582, 333924621, 333921117, 333951237, 333908760, 333966329, 333899872, 333886417, 333861352, 333814766, 333393103, 333301631, 333373333, 333287720, 333266053, 333210337, 333597243, 333584774, 333535483, 333554999, 333094123, 333086626, 333076234, 333689989, 333723519, 333493282, 333405941, 333138300, 333145925, 333111985, 332998785, 332938168, 332927117, 332951495, 332968200, 332979488, 332974625, 332390218, 332396618, 332373362, 332318139, 332288022, 332224326, 332279064, 332037166, 332067959, 332605622, 332611207, 332782327, 332781272, 332735504, 332752593, 332489579, 332439619, 332404765, 332462466, 332467013, 332478936, 332411552, 332195637, 332138498, 332100389, 335941707, 335910281, 335891693, 335317654, 335220773, 335224676, 335255019, 335501153, 335027690, 335060715, 335073733, 335692505, 335664102, 335673058, 335677966, 335752481, 335705587, 335705695, 335700167, 335423035, 335457709, 335402100, 335126681, 335157126, 330886284, 330838454, 330311007, 330299815, 330294958, 330284488, 330258964, 330209253, 330206198, 330248135, 330538450, 330085490, 330026107, 330009593, 330078308, 330014235, 330795461, 330739668, 330733327, 330734846, 330756787, 330709613, 330741170, 330483034, 330467244, 330472290, 330413066, 330160527, 330148093, 336994503, 336956314, 336902491, 336978634, 336942001, 336944643, 336944765, 336884354, 336832942, 336805389, 336868522, 336360274, 336318652, 336262964, 336591476, 336528449, 336557270, 336574411, 336519796, 336073620, 336012523, 336660271, 336730463, 336762236, 336711196, 336492220, 336470344, 336448674, 337990632, 337985237, 337930234, 337882676, 337824829, 337858392, 337863590, 337848107, 337238891, 337250357, 337268011, 337217229, 337593457, 337031380, 337021749, 337054550, 337007465, 337046694, 337655275, 337781424, 337758282, 337716508, 337434812, 337467456, 337473301, 337138850, 337119381, 334994968, 334927451, 334836035, 334841216, 334396515, 334389494, 334337735, 334362264, 334229396, 334225162, 334202502, 334200121, 334201952, 334505953, 334561694, 334571111, 334682935, 334784615, 334705233, 334430502, 334429315, 334425215, 334456684, 334404193, 334478079, 334154017, 334109045, 334101629, 331935261, 331931998, 331960764, 331974998, 331858656, 331878127, 331322926, 331307104, 331374300, 331293009, 331251938, 331262560, 331248475, 331556090, 331562958, 331009285, 331046374, 331634383, 331620834, 331723493, 331759222, 331756195, 331422682, 331458382, 331405558, 331472974, 331416522, 331140102, 329930705, 329959668, 329961681, 329976997, 329919014, 329915412, 329895677, 329878551, 329357792, 329374828, 329236470, 329227713, 329203307, 329064261, 329011625, 329680392, 329630765, 329624076, 329660826, 329618524, 329613400, 329755974, 329438492, 329470483, 329416585, 329121339, 329104048, 328990646, 328981820, 328899803, 328890738, 328357743, 328306952, 328375683, 328346333, 328258413, 328203900, 328269541, 328262309, 328245576, 328580056, 328537837, 328560951, 328015329, 328696712, 328797170, 328788013, 328740221, 328715743, 328491373, 328456306, 323998239, 323985497, 323920753, 323904382, 323960736, 323979311, 323885823, 323842616, 323303508, 323364036, 323312106, 323293079, 323239401, 323274467, 323024018, 323409213, 323418899, 323156350, 323116163, 322987118, 322921390, 322901175, 322941658, 322834864, 322391908, 322327617, 322375429, 322377354, 322298073, 322241805, 322569100, 322548707, 322029323, 322071269, 322043306, 322669144, 322664308, 322738818, 322730189, 322751778, 322768025, 322423698, 322403725, 322476719, 322186558, 322181330, 322126791, 322106903, 322179048, 322116355, 325927288, 325950140, 325898625, 325856587, 325862744, 325847098, 325331223, 325303643, 325305336, 325235385, 325251291, 325264356, 325275221, 325249456, 325215388, 325520696, 325527018, 325503295, 325064897, 325626704, 325659405, 325758047, 325715522, 325432854, 325409046, 325473468, 325443664, 325150228, 325141330, 320920898, 320962374, 320960055, 320949612, 320897943, 320891572, 320858654, 320865907, 320842196, 320294168, 320291453, 320234083, 320223010, 320599194, 320593511, 320538504, 320520178, 320575733, 320084901, 320022716, 320693723, 320651758, 320640405, 320785397, 320718606, 320450345, 320408940, 320193808, 320189869, 320183625, 320105171, 320164249, 320173621, 326930315, 326936725, 326906543, 326979568, 326972333, 326888548, 326823862, 326866130, 326848050, 326383881, 326379145, 326376599, 326294471, 326284034, 326265739, 326550304, 326556169, 326549908, 326092962, 326057091, 326069660, 326076683, 326014555, 326609052, 326612851, 326610530, 326611447, 326788156, 326723703, 326763517, 326779622, 326744727, 326718842, 326464444, 326461556, 326442274, 326199409, 326194808, 327979624, 327974706, 327910440, 327888987, 327821130, 327840521, 327380063, 327281951, 327221988, 327272956, 327244463, 327210018, 327538084, 327543330, 327036291, 327051953, 327689203, 327667277, 327679906, 327707145, 327719342, 327494971, 327430357, 327178473, 324961500, 324961612, 324888671, 324839588, 324822001, 324866920, 324390623, 324302912, 324374864, 324269146, 324271810, 324213070, 324587173, 324576767, 324095361, 324090353, 324084732, 324028778, 324052838, 324002775, 324072816, 324693829, 324686984, 324737159, 324721533, 324707645, 324770936, 324496310, 324454058, 324467774, 324443276, 324446967, 324197135, 324184408, 324169572, 324169047, 324112048, 321993780, 321990431, 321962211, 321911769, 321897021, 321886129, 321821706, 321856448, 321802377, 321806318, 321879460, 321393990, 321300297, 321261346, 321210654, 321539057, 321554442, 321560846, 321093705, 321086058, 321029035, 321021664, 321050331, 321008018, 321675222, 321794120, 321740767, 321426515, 321459767, 321454588, 321102101, 321167734, 321178801, 321140976, 321146108, 359934244, 359929130, 359924353, 359900006, 359839730, 359829811, 359829195, 359866440, 359390012, 359357811, 359282611, 359238108, 359231439, 359279275, 359099138, 359023565, 359023571, 359063065, 359078599, 359073451, 359042512, 359600730, 359664094, 359672528, 359783226, 359759552, 359766011, 359409460, 359469698, 359133999, 358923508, 358918522, 358886088, 358833428, 358869321, 358813882, 358813811, 358333621, 358325601, 358320587, 358354482, 358231752, 358224002, 358263563, 358533682, 358083905, 358050476, 358069746, 358684243, 358602915, 358615092, 358611434, 358780541, 358723431, 358428153, 358409419, 358440855, 358419777, 358416359, 358411202, 358130061, 353993705, 353985416, 353933399, 353954856, 353979349, 353832992, 353834785, 353800737, 353333915, 353325676, 353360808, 353375837, 353346205, 353231513, 353209512, 353208658, 353266772, 353535142, 353084525, 353639506, 353632607, 353604052, 353709874, 353491280, 353420062, 353448931, 353197206, 353137966, 353109950, 353172544, 352982685, 352955978, 352970165, 352977382, 352912893, 352836401, 352808584, 352807731, 352818151, 352390041, 352332389, 352351464, 352257716, 352265020, 352557579, 352501064, 352572779, 352037299, 352073970, 352010238, 352630567, 352608129, 352649507, 352714994, 352493512, 352483829, 352436977, 352437045, 352469861, 352468907, 352475891, 352411639, 352180159, 352184166, 352137795, 352129210, 352159802, 352157925, 352104006, 355982806, 355950214, 355943645, 355897134, 355887336, 355825226, 355855363, 355393897, 355393516, 355386808, 355348016, 355310899, 355224486, 355255722, 355206450, 355266707, 355210949, 355588424, 355538423, 355557750, 355503022, 355510838, 355092845, 355096630, 355087639, 355036454, 355020055, 355026800, 355001506, 355071293, 355013867, 355647432, 355791014, 355746591, 355186194, 350994002, 350982119, 350984975, 350953263, 350903474, 350827663, 350373023, 350237324, 350256958, 350266283, 350584254, 350504327, 350510118, 350096384, 350080431, 350682888, 350687021, 350670222, 350733931, 350757010, 350778115, 350713887, 350486703, 350403802, 350402514, 350188321, 350101031, 350165923, 356980947, 356922408, 356381584, 356322874, 356307344, 356229269, 356508048, 356506599, 356504506, 356576954, 356097700, 356036902, 356029366, 356055571, 356054113, 356698257, 356626060, 356668237, 356799198, 356788333, 356732542, 356711737, 356475722, 356191207, 356187049, 356153628, 357929694, 357949931, 357911665, 357841842, 357841359, 357328628, 357304043, 357373994, 357373394, 357376567, 357227255, 357205465, 357261848, 357242547, 357599338, 357581957, 357569576, 357569614, 357565882, 357564010, 357570333, 357541805, 357518659, 357515525, 357510911, 357020496, 357686174, 357624226, 357666580, 357673153, 357483223, 357437455, 357415683, 357415180, 357414336, 354932570, 354955410, 354949442, 354802295, 354879811, 354841556, 354335732, 354360923, 354231930, 354240783, 354031629, 354009559, 354000131, 354006432, 354061808, 354061622, 354625386, 354733826, 354726710, 354755479, 354757121, 354700221, 354773333, 354499844, 354125719, 354166585, 354164299, 354140273, 354114719, 351997419, 351919476, 351912790, 351898858, 351836299, 351820795, 351856744, 351874463, 351385108, 351335766, 351334171, 351352915, 351316215, 351212323, 351524347, 351576453, 351054364, 351060153, 351073361, 351074841, 351620237, 351647687, 351641384, 351793874, 351796366, 351782200, 351723917, 351724525, 351709253, 351777376, 351489212, 351481002, 351122902, 351167145, 351177822, 351140538, 351144334, 309991754, 309973537, 309899122, 309890016, 309801151, 309871052, 309307991, 309369127, 309255476, 309240399, 309588207, 309532769, 309534657, 309551138, 309506178, 309570302, 309548404, 309082728, 309003836, 309074331, 309662801, 309783866, 309705065, 309490759, 309402269, 309413604, 309106221, 309140992, 308990146, 308967738, 308891002, 308826528, 308814964, 308373890, 308314727, 308262485, 308275438, 308244193, 308572168, 308575960, 308038945, 308023679, 308073235, 308681141, 308600416, 308660964, 308660272, 308708858, 308701571, 308775669, 308434403, 308431320, 308463948, 308475045, 308444296, 308105520, 308169329, 308144094, 303895645, 303834883, 303809255, 303393274, 303356154, 303300706, 303307940, 303364000, 303371495, 303314666, 303231796, 303240958, 303575560, 303548531, 303084153, 303028066, 303078300, 303791889, 303752217, 303746967, 303718190, 303478634, 303191940, 303184587, 303154121, 303178591, 303112127, 302903746, 302896040, 302846060, 302847336, 302395177, 302387004, 302350991, 302239127, 302213882, 302557529, 302577826, 302541955, 302073228, 302638212, 302629341, 302614380, 302720979, 302724732, 302759406, 302766760, 302461073, 302473644, 302123516, 302126554, 302101888, 305967638, 305978754, 305825273, 305812496, 305368331, 305365121, 305289467, 305280011, 305239709, 305270605, 305243013, 305217514, 305593314, 305595004, 305521022, 305503327, 305506223, 305575821, 305574074, 305695370, 305684785, 305621040, 305671149, 305728101, 305740643, 305408472, 305407293, 305445400, 305139649, 305102772, 305175057, 305171797, 300984844, 300938710, 300832040, 300834673, 300876330, 300327928, 300305550, 300377225, 300222708, 300507763, 300570730, 300092134, 300038060, 300023455, 300018406, 300010207, 300011558, 300699792, 300615387, 300700070, 300769378, 300481428, 300408437, 300471353, 300449174, 300442386, 300194116, 300105749, 300143477, 300110453, 306998512, 306920895, 306977404, 306808782, 306876194, 306842468, 306818440, 306396865, 306303323, 306363996, 306365350, 306222635, 306505577, 306560605, 306092508, 306039799, 306027939, 306021593, 306057362, 306696032, 306628856, 306654766, 306662887, 306649419, 306618906, 306409005, 306440859, 306193174, 306183883, 307905572, 307831604, 307821677, 307859251, 307863241, 307847044, 307322231, 307364437, 307342186, 307525512, 307098334, 307031611, 307029553, 307027077, 307055762, 307002292, 307001680, 307636713, 307667296, 307755529, 307776850, 307402842, 307443239, 307153569, 307163513, 307176403, 307110592, 304956694, 304971473, 304948533, 304881679, 304327976, 304370104, 304210958, 304599780, 304538212, 304506715, 304568164, 304563679, 304519568, 304071773, 304630089, 304498558, 304437417, 304468448, 304163089, 304143682, 301930724, 301901036, 301969529, 301960668, 301961485, 301825256, 301857021, 301803745, 301222451, 301207286, 301204290, 301277722, 301566695, 301519263, 301099003, 301096927, 301091330, 301032151, 301031498, 301056307, 301003336, 301016952, 301635341, 301634273, 301627052, 301788930, 301437908, 301424443, 301456512, 301472610, 301137554, 301156174, 301170489, 369998088, 369990140, 369984540, 369908110, 369961233, 369970396, 369940454, 369917688, 369881672, 369359480, 369309153, 369298663, 369291689, 369251195, 369205240, 369261905, 369599010, 369583183, 369520515, 369566419, 369572847, 369075601, 369015432, 369016134, 369630691, 369795376, 369785407, 369726870, 369724929, 369752236, 369711271, 369433865, 369460953, 369471548, 369449976, 369416123, 369153414, 369101761, 369111650, 368987268, 368933998, 368930864, 368959031, 368960704, 368888298, 368872978, 368843450, 368812524, 368248343, 368581959, 368535882, 368559117, 368556046, 368564996, 368578881, 368024100, 368052029, 368002365, 368000142, 368782241, 368725670, 368755677, 368778035, 368749962, 368744725, 368479703, 368479462, 368129050, 368155855, 368108521, 363930781, 363931897, 363893659, 363895973, 363820716, 363852937, 363860991, 363879669, 363810773, 363397178, 363355683, 363293604, 363261658, 363244181, 363532826, 363579130, 363577570, 363037942, 363072228, 363603858, 363791901, 363786313, 363750654, 363702741, 363773857, 363775252, 363425591, 363408958, 363408631, 363138375, 363129419, 363123854, 363125669, 363165904, 362924913, 362895460, 362836724, 362879659, 362878664, 362382751, 362385564, 362380032, 362332438, 362335123, 362308009, 362308677, 362340180, 362317636, 362582885, 362501133, 362517053, 362093755, 362030393, 362071834, 362013512, 362693367, 362694236, 362733965, 362720770, 362727477, 362753857, 362708442, 362703777, 362704772, 362746788, 362741695, 362486526, 362458133, 362190680, 362120416, 362176978, 362141403, 365906404, 365835219, 365862812, 365871168, 365816502, 365242702, 365213831, 365537031, 365088195, 365059803, 365005136, 365685050, 365653049, 365755831, 365765684, 365773555, 365749942, 365710686, 365402260, 365449012, 365106776, 365169013, 365178672, 365173737, 360992303, 360953631, 360802519, 360846930, 360841525, 360324433, 360352632, 360279270, 360529938, 360036090, 360034826, 360005078, 360067317, 360073113, 360691326, 360683715, 360732334, 360708598, 360426088, 360470491, 366948615, 366947706, 366824317, 366824517, 366877185, 366381277, 366340583, 366550505, 366566497, 366570275, 366022245, 366005319, 366063954, 366061995, 366687468, 366668398, 366780028, 366706406, 366761564, 366771320, 366439214, 366438917, 366133663, 366132364, 367935923, 367921098, 367954237, 367895717, 367896098, 367897810, 367804607, 367396786, 367383255, 367324530, 367350724, 367299478, 367238748, 367259902, 367531796, 367083202, 367030263, 367056279, 367008204, 367076497, 367698056, 367608404, 367734367, 367484195, 367441353, 367134792, 367162876, 367178167, 364990408, 364938326, 364955095, 364325443, 364360596, 364285378, 364545455, 364515173, 364086407, 364026794, 364006476, 364013550, 364636938, 364637826, 364785912, 364743557, 364429997, 364459433, 364403763, 364471055, 364414077, 364156175, 364162460, 364146822, 364113098, 361983106, 361934847, 361957669, 361957798, 361859561, 361856616, 361816489, 361338697, 361330747, 361307533, 361367085, 361310289, 361266627, 361212065, 361589583, 361529625, 361561335, 361092310, 361015382, 361626652, 361658653, 361654760, 361610067, 361616247, 361790451, 361788847, 361726887, 361763045, 361493894, 361199328, 361191085, 361107384, 379998533, 379889773, 379832407, 379859358, 379855333, 379301834, 379362931, 379379837, 379349749, 379346303, 379251391, 379260538, 379242808, 379219018, 379596275, 379073536, 379044268, 379674379, 379437107, 379459967, 379135238, 379175021, 379145440, 379146496, 378994572, 378913063, 378892713, 378885563, 378859541, 378877882, 378321845, 378308273, 378225046, 378205092, 378265968, 378088403, 378082227, 378085448, 378031328, 378053665, 378056840, 378051228, 378688955, 378638284, 378608458, 378674730, 378642305, 378641969, 378739231, 378708773, 378492679, 378485687, 378486906, 378424750, 378405075, 378467133, 378473277, 378413231, 378411074, 378194350, 378185318, 378103827, 378118137, 378116115, 373949851, 373944171, 373871711, 373393247, 373394197, 373355992, 373375685, 373286590, 373233345, 373278280, 373501546, 373543139, 373545164, 373082709, 373019676, 373609229, 373605843, 373601881, 373610097, 373775679, 373483509, 373454293, 373475006, 373150913, 373101552, 373113216, 372981901, 372906129, 372978477, 372918434, 372826529, 372870345, 372812924, 372392612, 372395817, 372328399, 372311237, 372257671, 372240330, 372588177, 372504764, 372578365, 372543445, 372685090, 372686860, 372639409, 372638353, 372621989, 372650573, 372797782, 372735267, 372722406, 372709453, 372703023, 372742450, 372484877, 372450409, 372477249, 372410230, 372180495, 372186700, 372137540, 372125677, 372169953, 375989701, 375988973, 375922989, 375814133, 375396234, 375334120, 375225930, 375556651, 375545931, 375545839, 375097272, 375025344, 375057244, 375003157, 375635077, 375660362, 375611795, 375792221, 375784042, 375750655, 375760499, 375778149, 375714194, 375480181, 375446058, 375444022, 375410971, 375120210, 375105195, 375171780, 375118136, 375117821, 370953484, 370969341, 370969114, 370973806, 370888810, 370839091, 370397177, 370334509, 370352807, 370364093, 370231118, 370223626, 370210586, 370595485, 370588836, 370534835, 370557664, 370097818, 370050363, 370075910, 370016232, 370645688, 370618214, 370757318, 370757795, 370711077, 370470844, 370185780, 370158220, 370165127, 376955480, 376949606, 376942962, 376891233, 376889115, 376888194, 376828251, 376802652, 376339478, 376302485, 376247040, 376586213, 376521751, 376550341, 376556795, 376027297, 376056091, 376061188, 376018016, 376690246, 376624585, 376602163, 376601696, 376612778, 376721402, 376703833, 376483777, 376431016, 376428421, 376409960, 376193768, 376130484, 376125987, 376158433, 376103553, 376145235, 377944167, 377918916, 377914981, 377800379, 377860787, 377323546, 377379031, 377370325, 377340383, 377310770, 377230631, 377255727, 377203480, 377279418, 377582819, 377530514, 377093934, 377096821, 377036609, 377023351, 377027579, 377079959, 377696380, 377688819, 377647201, 377725179, 377459391, 377472222, 377476594, 377471287, 377100778, 377142390, 374996131, 374926282, 374901152, 374832332, 374854775, 374384730, 374329646, 374361764, 374375549, 374370784, 374341846, 374292911, 374251740, 374551805, 374509833, 374507207, 374512346, 374083294, 374086242, 374070352, 374046298, 374608212, 374679350, 374641802, 374794045, 374468020, 374192749, 374189483, 374181162, 374158845, 374106676, 374101525, 374114188, 371989046, 371948613, 371946396, 371852162, 371863746, 371865779, 371324495, 371225018, 371269372, 371260514, 371244663, 371583855, 371582212, 371537662, 371525503, 371508466, 371572748, 371544359, 371080703, 371675100, 371702362, 371775260, 371719269, 371462124, 371195209, 371189148, 371104662, 371176488, 349891626, 349889694, 349888597, 349820684, 349849198, 349840678, 349381305, 349334067, 349369633, 349363815, 349245017, 349211866, 349533632, 349508920, 349560751, 349081918, 349044604, 349017296, 349683076, 349633004, 349624070, 349667498, 349755823, 349707389, 349767905, 349469787, 349416706, 349182572, 349139164, 349137957, 349106323, 349107782, 349174048, 348924148, 348940768, 348891538, 348887648, 348828496, 348840536, 348383728, 348385958, 348381951, 348339288, 348371929, 348344693, 348221560, 348279545, 348214248, 348503452, 348518185, 348511605, 348094022, 348009082, 348685894, 348669386, 348679318, 348641196, 348796589, 348707056, 348480980, 348447844, 348416326, 348127095, 348124661, 348106408, 348166128, 343933425, 343919303, 343914834, 343914843, 343817292, 343395127, 343314289, 343202119, 343586906, 343538344, 343052924, 343072073, 343049873, 343685429, 343629156, 343619442, 343796188, 343731047, 343758610, 343743046, 343740175, 343741910, 343717695, 343463755, 343150599, 343151117, 343162456, 343164856, 342929756, 342958380, 342907591, 342974361, 342874334, 342392338, 342394671, 342391073, 342323140, 342327123, 342281355, 342230460, 342226155, 342272029, 342271801, 342271470, 342535865, 342529659, 342550009, 342500219, 342574671, 342514537, 342060168, 342637370, 342661216, 342674265, 342792761, 342728873, 342710701, 342485928, 342433777, 342150898, 342156558, 345925109, 345952048, 345961273, 345972250, 345948545, 345891838, 345865816, 345813922, 345390993, 345339147, 345374498, 345294346, 345225899, 345247553, 345599066, 345592166, 345514899, 345023020, 345637989, 345642680, 345646669, 345707256, 345746965, 345711072, 345429929, 345428307, 345446389, 345141312, 345119603, 340933657, 340925772, 340907426, 340946637, 340894729, 340851869, 340875470, 340397721, 340365111, 340366811, 340283364, 340230602, 340222235, 340251446, 340266502, 340242883, 340593719, 340585484, 340026124, 340051057, 340010537, 340623602, 340678200, 340799491, 340798841, 340757333, 340751105, 340769543, 340498370, 340444796, 340192699, 340180049, 340180485, 340159584, 340176825, 346992875, 346928067, 346907395, 346891860, 346836495, 346381096, 346315691, 346244548, 346215241, 346599569, 346593118, 346552032, 346083419, 346064171, 346049058, 346630004, 346603531, 346677695, 346787682, 346737948, 346491717, 346436001, 346428654, 346443211, 346415340, 346194994, 346133166, 347993268, 347991455, 347969980, 347979390, 347942934, 347868112, 347840647, 347393842, 347395325, 347308011, 347318638, 347282812, 347209026, 347514985, 347075088, 347605567, 347617790, 347736685, 347707579, 347483083, 347472614, 347130979, 344956097, 344956079, 344951183, 344942819, 344918431, 344914764, 344392897, 344325819, 344304631, 344346466, 344292682, 344289750, 344204097, 344277484, 344240657, 344244278, 344599967, 344583009, 344530017, 344556576, 344515029, 344048369, 344631381, 344659042, 344669216, 344618311, 344792182, 344750520, 344700977, 344469010, 344442988, 344416789, 344196385, 344188229, 344126575, 344150308, 344175637, 341983846, 341953274, 341960350, 341827542, 341303361, 341259841, 341256532, 341537205, 341529817, 341525114, 341089123, 341037501, 341020187, 341064787, 341698349, 341723338, 341720300, 341727440, 341488598, 341484135, 341125538, 341163751, 341110424, 319985387, 319902703, 319900418, 319329263, 319203325, 319267684, 319582935, 319530712, 319523795, 319574564, 319095766, 319087408, 319020711, 319051233, 319626059, 319611715, 319779093, 319404867, 319468553, 319462770, 319136031, 319123391, 318975817, 318946979, 318912579, 318910920, 318832718, 318827134, 318816744, 318335387, 318325772, 318371592, 318345102, 318315770, 318282276, 318273666, 318556991, 318543677, 318511360, 318091678, 318038683, 318005333, 318016462, 318011943, 318635981, 318794596, 318427561, 318479059, 318474608, 318198322, 318197294, 318189162, 318131883, 318163852, 318112218, 318114939, 313886618, 313838221, 313847061, 313384428, 313351811, 313302523, 313366284, 313366469, 313298424, 313253100, 313202568, 313263469, 313540455, 313048854, 313683471, 313662248, 313619068, 313794965, 313478155, 313152448, 313109163, 313167770, 312999963, 312988761, 312908058, 312886800, 312869190, 312875886, 312848394, 312844389, 312355607, 312311960, 312258710, 312205328, 312267652, 312273441, 312240729, 312591563, 312523280, 312030814, 312029188, 312000893, 312629473, 312679356, 312643333, 312492919, 312453918, 312402725, 312155175, 312174589, 312171886, 312146259, 315989730, 315945169, 315912375, 315892500, 315805667, 315817504, 315360594, 315204347, 315277261, 315247934, 315580917, 315553626, 315568730, 315055833, 315007291, 315064557, 315079124, 315639581, 315628257, 315646254, 315769491, 315470770, 315443210, 315192722, 315133487, 310985952, 310987459, 310970395, 310803092, 310867076, 310813517, 310391240, 310383737, 310284849, 310225517, 310217185, 310596860, 310586175, 310539285, 310500451, 310092428, 310021050, 310070802, 310632868, 310618819, 310610475, 310765858, 310761364, 310777412, 310491558, 310439630, 310438120, 310441659, 310189902, 310100943, 310107549, 310178039, 316905214, 316970737, 316913969, 316898189, 316834352, 316808846, 316868392, 316845563, 316356193, 316299032, 316522716, 316503043, 316547721, 316027713, 316050953, 316051830, 316006500, 316043145, 316624448, 316669489, 316662628, 316434861, 316136032, 316177339, 316118242, 317931625, 317952640, 317955697, 317905664, 317894093, 317894697, 317863005, 317866246, 317861911, 317849134, 317298365, 317228558, 317254784, 317594606, 317583560, 317556232, 317542917, 317518924, 317083544, 317012900, 317628522, 317659981, 317660150, 317797623, 317797163, 317784081, 317724471, 317744854, 317717389, 317424913, 317458291, 317451684, 317160317, 317161936, 317179195, 314947261, 314867831, 314812940, 314353924, 314351766, 314271659, 314551058, 314546780, 314063229, 314688880, 314602809, 314736538, 314705564, 314747882, 314454492, 314195228, 314195648, 314134642, 314104558, 314101134, 311992308, 311992553, 311907920, 311907451, 311904454, 311977764, 311974806, 311948549, 311892351, 311874787, 311819945, 311390337, 311352868, 311309023, 311235598, 311237822, 311538369, 311575871, 311516233, 311049265, 311699725, 311634670, 311652846, 311650405, 311615688, 311498191, 311458782, 311457904, 311471159, 311137838, 311115538, 299992866, 299980007, 299928131, 299966914, 299898620, 299831939, 299874451, 299818625, 299385364, 299328287, 299360057, 299311286, 299254336, 299624720, 299601265, 299722131, 299760398, 299483627, 299446471, 299181509, 299126963, 299101023, 299178400, 299149354, 299146385, 298908459, 298897629, 298850143, 298851474, 298806964, 298397300, 298350837, 298273116, 298214195, 298525733, 298037654, 298027128, 298062709, 298079398, 298044781, 298686521, 298669824, 298664633, 298641638, 298720916, 298727709, 298706884, 298494639, 298180856, 298165009, 298176138, 298147865, 298114419, 293997723, 293945780, 293885432, 293866122, 293847111, 293398881, 293381519, 293334189, 293370820, 293281849, 293221587, 293205873, 293593860, 293553089, 293093584, 293629452, 293784243, 293701146, 293777053, 293481614, 293426401, 293403925, 293403958, 293419734, 292965541, 292842040, 292846651, 292387475, 292356768, 292368897, 292224691, 292250597, 292267307, 292531798, 292523668, 292569280, 292548130, 292515375, 292092903, 292057938, 292003703, 292657870, 292784641, 292758606, 292772256, 292716786, 292428925, 292130606, 292127830, 292150555, 292156296, 292107141, 295939998, 295926699, 295918199, 295914539, 295801578, 295385441, 295381195, 295358611, 295303467, 295310729, 295310195, 295316370, 295291528, 295223851, 295265838, 295270016, 295274023, 295522009, 295081237, 295081128, 295051906, 295006914, 295043046, 295018526, 295604335, 295669746, 295611533, 295787169, 295761905, 295761417, 295482461, 295437248, 295479002, 295418354, 295127088, 295160521, 290998587, 290925250, 290968650, 290830324, 290825180, 290878624, 290811319, 290396444, 290389086, 290322356, 290307921, 290307889, 290261957, 290261954, 290531245, 290098465, 290069550, 290067198, 290061818, 290635267, 290620373, 290657960, 290600244, 290724320, 290429808, 290192438, 290184668, 290166803, 296952646, 296839598, 296837570, 296383264, 296358786, 296309986, 296364069, 296375818, 296250778, 296208129, 296268491, 296218826, 296217638, 296597800, 296562374, 296571152, 296086305, 296024784, 296075913, 296625242, 296674154, 296649916, 296701725, 296764571, 296436475, 296478795, 296441558, 296197220, 296185404, 296165580, 296160959, 296110109, 297993451, 297959621, 297895054, 297809622, 297343380, 297282208, 297255110, 297203845, 297219273, 297211236, 297559000, 297519310, 297517811, 297085389, 297629235, 297651281, 297600889, 297601216, 297761183, 297712307, 297488036, 297453883, 297188136, 297128618, 297123069, 297126745, 294938917, 294920655, 294897842, 294850307, 294864909, 294849524, 294323082, 294306271, 294363600, 294377804, 294203158, 294207110, 294249496, 294551154, 294571609, 294540286, 294086847, 294020015, 294018455, 294616226, 294791883, 294753689, 294749216, 294744309, 294490671, 294430437, 291997123, 291816522, 291348225, 291345307, 291297227, 291227705, 291253170, 291264805, 291273317, 291526268, 291558774, 291542104, 291085306, 291012890, 291014364, 291624416, 291704088, 291439866, 291426233, 291478331, 291474277, 291440075, 291419996, 291178628, 291143014, 291147227, 289984392, 289904878, 289967807, 289949540, 289858252, 289867682, 289327885, 289305352, 289314466, 289292375, 289235087, 289229161, 289225472, 289256354, 289263036, 289270588, 289529918, 289557514, 289507886, 289512177, 289516723, 289098464, 289058905, 289050885, 289000588, 289689053, 289687056, 289624281, 289787848, 289732408, 289723742, 289701926, 289468437, 289418457, 289123074, 289124711, 289111406, 288993886, 288994269, 288939731, 288940248, 288946296, 288853629, 288845858, 288394769, 288370117, 288285883, 288285796, 288212520, 288586520, 288539918, 288566896, 288084681, 288019815, 288010382, 288690889, 288694223, 288672465, 288671819, 288619920, 288617628, 288780914, 288739290, 288776322, 288746979, 288746818, 288403936, 288477235, 283995597, 283852362, 283852127, 283877606, 283266348, 283270513, 283211394, 283584446, 283522713, 283507680, 283572220, 283575469, 283513303, 283513611, 283025323, 283059999, 283058066, 283004799, 283063834, 283690776, 283634657, 283659236, 283619606, 283790114, 283734166, 283759704, 282993300, 282888581, 282825227, 282826632, 282308044, 282301863, 282315179, 282298117, 282287595, 282222739, 282259978, 282253216, 282582630, 282553591, 282548924, 282514457, 282059687, 282634987, 282641030, 282786056, 282747309, 282495190, 282423646, 282195030, 282183949, 282139370, 282176549, 282112962, 285997290, 285958668, 285951339, 285968041, 285817490, 285335078, 285369311, 285314352, 285222943, 285249002, 285525202, 285564810, 285512491, 285098705, 285009551, 285608824, 285640142, 285647950, 285610521, 285701602, 285765947, 285742351, 285499056, 285406807, 285466348, 285461584, 285412773, 285135464, 285123938, 285127216, 285141578, 280938940, 280931211, 280904084, 280829460, 280828706, 280822523, 280850164, 280358249, 280256772, 280570609, 280541526, 280517307, 280085388, 280032467, 280023373, 280002202, 280065980, 280072216, 280077096, 280077112, 280042352, 280649533, 280613504, 280782670, 280705928, 280706032, 280421523, 280405282, 280407683, 280445807, 280196653, 280191006, 280139785, 280130798, 280129717, 280145268, 286932149, 286951915, 286911075, 286857914, 286802428, 286800889, 286848395, 286846344, 286355819, 286252975, 286514781, 286036050, 286023484, 286054219, 286075988, 286689461, 286688226, 286794792, 286739421, 286719409, 286402604, 286448971, 286417466, 286133514, 286155119, 286102742, 286113441, 287902611, 287978599, 287910187, 287836283, 287863780, 287815801, 287811672, 287394163, 287324624, 287285711, 287206264, 287249928, 287245097, 287594400, 287580060, 287584034, 287520530, 287545228, 287027390, 287009306, 287067993, 287684383, 287607787, 287797913, 287762863, 287748376, 287499558, 287422696, 287158865, 287151682, 287106882, 287179056, 287112849, 284992631, 284900744, 284831145, 284829684, 284875770, 284326614, 284362683, 284347318, 284341846, 284293663, 284595169, 284509167, 284038759, 284677706, 284645051, 284780822, 284451604, 284406340, 284474696, 284196515, 284154636, 284171155, 281929018, 281922023, 281916945, 281889762, 281853516, 281399945, 281305543, 281299508, 281291295, 281271350, 281536266, 281505110, 281097502, 281072127, 281635533, 281629594, 281629514, 281627853, 281666542, 281678070, 281755177, 281751282, 281747502, 281497134, 281456125, 281463972, 281447815, 281185225, 281134759, 281124973, 281154945, 281164664, 281176641, 281171866, 281149241, 281111557, 239934181, 239962086, 239948217, 239948792, 239947172, 239917793, 239835296, 239846622, 239356022, 239301589, 239029152, 239007838, 239043816, 239692310, 239637612, 239670844, 239618524, 239496931, 239497153, 239417056, 239414806, 239199901, 239110809, 239110663, 238984472, 238923447, 238901070, 238912804, 238855400, 238854282, 238802379, 238843265, 238326716, 238351020, 238306716, 238362802, 238343800, 238232569, 238235323, 238236538, 238278291, 238210781, 238590625, 238525344, 238573467, 238542290, 238099962, 238036186, 238048972, 238752938, 238754874, 238742014, 238714920, 238436637, 238431558, 238426211, 238456692, 238408651, 238400138, 238478448, 238191679, 238133043, 238134075, 238157977, 238145919, 238111880, 233995287, 233886624, 233801123, 233879964, 233320405, 233308008, 233233268, 233224811, 233278173, 233593548, 233592399, 233506094, 233091536, 233086280, 233630284, 233736286, 233761213, 233772039, 233775932, 233744563, 233483864, 233433407, 233436091, 233455417, 233446618, 233187332, 233164219, 233178548, 232970461, 232890968, 232807308, 232337647, 232365666, 232340714, 232315080, 232291056, 232224208, 232582458, 232556033, 232051347, 232001182, 232068118, 232064535, 232044062, 232044011, 232697221, 232688536, 232653144, 232616112, 232702872, 232740902, 232428499, 232427480, 232406111, 232133353, 232131147, 232125710, 232107570, 235908618, 235826843, 235807655, 235870246, 235352456, 235309592, 235368671, 235367889, 235374253, 235232042, 235231266, 235229408, 235250396, 235538764, 235526786, 235567442, 235571822, 235540172, 235080104, 235030232, 235066548, 235698102, 235649867, 235649237, 235736221, 235719329, 235494555, 235478887, 235419261, 235415335, 235187906, 235121639, 235176269, 230906660, 230849782, 230814141, 230385598, 230353097, 230345711, 230313246, 230287843, 230227900, 230264274, 230261170, 230240682, 230218470, 230535880, 230531340, 230503639, 230502059, 230573144, 230037659, 230045474, 230041415, 230014944, 230692228, 230669133, 230662905, 230674390, 230611601, 230789380, 230495705, 230405826, 230194088, 230135753, 230168203, 230162448, 230160294, 230174318, 236934840, 236864484, 236842579, 236383703, 236352101, 236306764, 236360736, 236342599, 236318035, 236292156, 236281483, 236264906, 236247290, 236210388, 236593621, 236082954, 236084710, 236034346, 236012101, 236638399, 236638543, 236628803, 236653350, 236665767, 236798262, 236758416, 236746714, 236499404, 236487404, 236422880, 236456532, 236449587, 236412344, 236176466, 236176461, 237906537, 237944928, 237918386, 237891099, 237884510, 237831471, 237394732, 237375605, 237348710, 237268536, 237262004, 237261526, 237274979, 237589669, 237580904, 237586448, 237581318, 237557626, 237509208, 237569239, 237092472, 237023427, 237007550, 237077030, 237615551, 237796471, 237787984, 237784634, 237728297, 237723884, 237763923, 237717397, 237184845, 237142222, 234999034, 234839131, 234855821, 234861217, 234302418, 234306245, 234373550, 234343949, 234582899, 234536414, 234569521, 234567706, 234511525, 234095990, 234054118, 234717453, 234491535, 234403038, 234197260, 234106777, 234179649, 231932779, 231931678, 231978533, 231883317, 231858917, 231852435, 231865979, 231363020, 231346073, 231299832, 231226740, 231555213, 231093377, 231039682, 231025764, 231058382, 231008998, 231066049, 231071312, 231042568, 231683729, 231685354, 231610985, 231617981, 231723146, 231766988, 231749672, 231713393, 231714084, 231442412, 231444935, 231193622, 231193173, 231152594, 231150290, 231157950, 231177823, 229893368, 229893675, 229805174, 229800357, 229869100, 229396867, 229380551, 229384368, 229335699, 229300242, 229259517, 229207380, 229278480, 229573539, 229540760, 229541218, 229090329, 229038558, 229037770, 229022121, 229021988, 229072264, 229046834, 229018537, 229698519, 229655774, 229757914, 229485124, 229151107, 229111281, 228990863, 228930637, 228969278, 228913849, 228892383, 228339530, 228324752, 228365477, 228347358, 228220716, 228275505, 228271283, 228590785, 228529344, 228529235, 228023349, 228055824, 228050567, 228681131, 228656941, 228606511, 228611273, 228712393, 228711896, 228480996, 228406490, 228104611, 228160212, 228119796, 228111161, 223964769, 223852490, 223801269, 223392531, 223362311, 223295485, 223237797, 223208234, 223265341, 223247158, 223593092, 223595702, 223586754, 223536015, 223529139, 223098220, 223083950, 223063194, 223631522, 223703743, 223772465, 223436308, 223409568, 223139819, 223120053, 223177718, 223171893, 223142495, 222943271, 222913608, 222870531, 222870709, 222336276, 222309542, 222295833, 222285641, 222568798, 222060859, 222047595, 222013708, 222621857, 222621793, 222662828, 222649626, 222728629, 222700890, 222769409, 222777999, 222481544, 222421915, 222421777, 222460267, 222475517, 222446608, 222193125, 222180358, 222107716, 222145822, 225933962, 225957265, 225966290, 225940779, 225910278, 225856711, 225851333, 225802039, 225801750, 225869946, 225846551, 225255392, 225592840, 225584435, 225559676, 225551184, 225504285, 225542957, 225511271, 225097201, 225077398, 225046248, 225632436, 225654613, 225666198, 225676225, 225713370, 225493819, 225455191, 225462362, 225465801, 225470963, 225414242, 225182235, 225185033, 225139400, 225123803, 225175303, 220933766, 220934103, 220888820, 220886481, 220884595, 220331994, 220299120, 220259957, 220267584, 220246880, 220543919, 220542247, 220542011, 220061435, 220046684, 220752107, 220747053, 220492483, 220436378, 220443252, 220192281, 220191345, 220127709, 220104351, 220161178, 220170657, 226904663, 226977100, 226825521, 226852145, 226866871, 226399872, 226319830, 226290192, 226233729, 226276604, 226585981, 226560853, 226540752, 226099465, 226091768, 226064810, 226643447, 226725057, 226707323, 226773374, 226710629, 226420267, 226120261, 226100355, 226116056, 227980150, 227987961, 227981704, 227955751, 227918758, 227856556, 227840668, 227398474, 227394736, 227337262, 227350627, 227309736, 227364988, 227312017, 227292764, 227261426, 227242395, 227589647, 227583892, 227528480, 227504808, 227570470, 227574583, 227546153, 227094180, 227033364, 227059921, 227687531, 227615084, 227731622, 227755823, 227491506, 227433305, 227450491, 227417810, 227101592, 227161389, 227110877, 224802964, 224800204, 224863221, 224866947, 224846679, 224393459, 224328694, 224343158, 224290426, 224231740, 224264823, 224564171, 224036930, 224001888, 224077336, 224644651, 224617285, 224493314, 224485019, 224423141, 221970718, 221942119, 221912479, 221834354, 221858856, 221396794, 221321109, 221230060, 221268875, 221272536, 221240049, 221210212, 221597409, 221501031, 221561610, 221542088, 221036777, 221060512, 221076496, 221695163, 221691258, 221691270, 221633024, 221606315, 221607420, 221774238, 221493568, 221443104, 221419138, 259927751, 259921906, 259908709, 259878175, 259375783, 259296703, 259504016, 259510601, 259072835, 259047360, 259622106, 259656972, 259606881, 259671991, 259788830, 259724465, 259705874, 259495030, 259482850, 259181715, 259121886, 259156384, 259145408, 258902333, 258904969, 258976911, 258943356, 258910073, 258886512, 258320468, 258343373, 258296351, 258236374, 258202294, 258552177, 258551683, 258501464, 258002959, 258007490, 258690594, 258607768, 258679035, 258613646, 258799180, 258797010, 258704574, 258771327, 258744758, 258409163, 258185068, 258133818, 258176710, 258143977, 253933445, 253960653, 253979196, 253978169, 253974198, 253918111, 253866291, 253315631, 253288237, 253209059, 253266783, 253246028, 253555717, 253570208, 253514054, 253054911, 253073027, 253071603, 253018021, 253015328, 253653782, 253603365, 253607138, 253642682, 253777018, 253717016, 253484566, 253439452, 253408563, 253408489, 253406228, 253195859, 253122719, 253120275, 253168866, 253112675, 252983175, 252937154, 252952236, 252954213, 252832569, 252850078, 252841088, 252382125, 252325073, 252376014, 252289616, 252279287, 252274772, 252240029, 252214580, 252557772, 252546257, 252090857, 252072502, 252075115, 252011584, 252696798, 252687551, 252678353, 252730519, 252408071, 252406242, 252464313, 252441363, 252130187, 252150076, 252105556, 252118762, 255904334, 255335939, 255307701, 255374017, 255345189, 255310571, 255296827, 255238336, 255233513, 255232510, 255218897, 255584220, 255096786, 255694553, 255621075, 255662482, 255795254, 255728270, 255481606, 255456855, 255190177, 255119075, 250939230, 250938672, 250932102, 250930243, 250879168, 250819163, 250395132, 250324218, 250306982, 250378510, 250374934, 250341818, 250299613, 250293978, 250234214, 250220538, 250221815, 250252866, 250275686, 250248554, 250213436, 250520470, 250549684, 250050900, 250073398, 250016263, 250017707, 250670642, 250640463, 250782964, 250197256, 250140396, 250141473, 256985854, 256981547, 256915756, 256917080, 256835404, 256861512, 256388706, 256387737, 256334354, 256291794, 256286231, 256252691, 256250858, 256256742, 256550168, 256098326, 256002985, 256007418, 256041974, 256678250, 256674827, 256643032, 256726611, 256704782, 256434811, 256426528, 256407154, 256475089, 256471347, 256448179, 256445408, 256410403, 256184533, 256181164, 256156885, 256105799, 256179333, 256178208, 257999339, 257928584, 257955031, 257915816, 257806347, 257804731, 257863966, 257864045, 257849395, 257848169, 257353148, 257303516, 257362095, 257375498, 257343424, 257240066, 257214208, 257585223, 257535257, 257523775, 257551929, 257561145, 257574638, 257514507, 257073255, 257658914, 257603693, 257603469, 257649947, 257616085, 257736211, 257488673, 257430112, 257446958, 257196201, 257170262, 254951066, 254902421, 254966928, 254948463, 254911562, 254865655, 254847059, 254390022, 254352813, 254355288, 254307306, 254362014, 254342769, 254341831, 254232880, 254254366, 254205959, 254262438, 254210749, 254595223, 254588751, 254585028, 254560463, 254039538, 254024108, 254006223, 254068163, 254062555, 254060557, 254064388, 254015038, 254600129, 254669257, 254640123, 254616350, 254611751, 254785717, 254721624, 254761209, 254748818, 254713898, 254484329, 254406034, 254460657, 254466380, 254446964, 254415160, 254122256, 251993973, 251975841, 251946598, 251880770, 251886253, 251827324, 251805304, 251864725, 251873567, 251840123, 251811035, 251331345, 251329870, 251359071, 251378824, 251295179, 251284905, 251215469, 251533002, 251558858, 251059292, 251651666, 251607453, 251667518, 251618487, 251783203, 251703081, 251778482, 251491587, 251481576, 251139651, 251148981, 209969748, 209946939, 209838552, 209325848, 209321090, 209230274, 209266028, 209270990, 209247378, 209593200, 209539235, 209553960, 209546753, 209005616, 209079007, 209078920, 209015672, 209622920, 209679582, 209798814, 209750959, 209750554, 209719047, 209429406, 209416275, 209189538, 209109174, 209179439, 208989263, 208936625, 208926059, 208951799, 208903771, 208901084, 208944044, 208886646, 208862385, 208396956, 208334985, 208358168, 208301972, 208366710, 208210047, 208550869, 208561305, 208085335, 208052330, 208014612, 208658621, 208660065, 208673960, 208732423, 208437220, 208425253, 208412270, 208194887, 208184696, 208151516, 208147632, 203930314, 203928203, 203972270, 203386981, 203331855, 203359442, 203270277, 203247691, 203505104, 203572303, 203511788, 203029658, 203079764, 203690891, 203682301, 203681004, 203635361, 203602782, 203723421, 203707349, 203765013, 203740158, 203410783, 203157152, 203108289, 203175540, 202923644, 202940128, 202881062, 202863364, 202876295, 202877629, 202394479, 202342455, 202340069, 202316898, 202316796, 202230014, 202262319, 202266070, 202531332, 202531365, 202565842, 202572177, 202570994, 202547401, 202083329, 202035770, 202025802, 202047421, 202691142, 202687731, 202794795, 202727108, 202759136, 202761331, 202438789, 202476667, 202410162, 202416387, 202189749, 202186052, 202179322, 205983855, 205920497, 205908780, 205900680, 205978529, 205821791, 205805423, 205399466, 205380026, 205337368, 205357513, 205378753, 205376712, 205342324, 205251554, 205211175, 205558034, 205026269, 205006556, 205004991, 205661570, 205613740, 205721898, 205465321, 205479962, 205474275, 205142004, 200991076, 200984935, 200937439, 200966010, 200949408, 200948197, 200838429, 200879246, 200874025, 200814976, 200335278, 200355562, 200356464, 200347390, 200284098, 200521859, 200543032, 200086343, 200009381, 200639658, 200600725, 200726789, 200756374, 200756194, 200428082, 200421011, 200129931, 200156613, 200106239, 200119453, 206992216, 206991380, 206983611, 206984590, 206920407, 206953614, 206968491, 206863514, 206870460, 206840620, 206333653, 206325838, 206371837, 206291273, 206254566, 206263107, 206505345, 206507596, 206023941, 206682009, 206651719, 206613895, 206786257, 206722236, 206713682, 206496841, 206481542, 206435725, 206459821, 206464704, 206139221, 206139190, 206127302, 206149839, 207998654, 207985810, 207338119, 207322453, 207355199, 207369729, 207236904, 207214579, 207576632, 207037747, 207068157, 207635315, 207630924, 207622616, 207600228, 207675875, 207790748, 207710119, 207495430, 207480882, 207453044, 207476611, 207139638, 207163669, 207165909, 207111004, 204934856, 204883994, 204833125, 204398261, 204359834, 204352277, 204306269, 204342917, 204299159, 204227647, 204246850, 204210425, 204585247, 204537135, 204534981, 204531258, 204085727, 204081094, 204054575, 204062267, 204689593, 204606954, 204799357, 204782577, 204745031, 204714650, 204450553, 204189903, 201994178, 201994112, 201986910, 201940154, 201911588, 201894420, 201330050, 201362767, 201294708, 201237097, 201221164, 201279686, 201215926, 201580353, 201520176, 201521923, 201509162, 201507210, 201563996, 201578602, 201042847, 201655489, 201650879, 201679564, 201646284, 201755736, 201405291, 201461318, 201185130, 201107322, 201140055, 269920380, 269892355, 269853435, 269359118, 269302745, 269347085, 269225193, 269266495, 269276344, 269211096, 269554816, 269508270, 269569876, 269577965, 269099648, 269092763, 269035867, 269057084, 269076969, 269784024, 269405067, 269412573, 269415961, 269199440, 269190959, 269186271, 269137093, 269111781, 268981077, 268925632, 268962229, 268967824, 268974320, 268945029, 268869670, 268335160, 268290559, 268229796, 268592484, 268594409, 268552142, 268576423, 268026327, 268685726, 268681677, 268634016, 268626994, 268650639, 268717985, 268189330, 268128931, 268150149, 263973309, 263973492, 263947734, 263839062, 263837008, 263852077, 263871954, 263391432, 263359412, 263305623, 263363160, 263361312, 263314659, 263242821, 263555434, 263557366, 263013471, 263638423, 263633682, 263671868, 263645257, 263619625, 263780217, 263786156, 263784849, 263770384, 263719963, 263453712, 263123527, 262980161, 262986742, 262922057, 262925661, 262964428, 262970426, 262918965, 262883938, 262379351, 262296962, 262291473, 262209996, 262240503, 262594911, 262591555, 262586721, 262550450, 262577600, 262571122, 262042985, 262018504, 262016286, 262697638, 262683058, 262685855, 262686099, 262625079, 262652490, 262611262, 262753843, 262494907, 262424140, 262405472, 262471388, 262199925, 262184618, 262133798, 262154258, 265991411, 265981232, 265979299, 265972106, 265915792, 265915111, 265813793, 265815302, 265361763, 265263374, 265525648, 265559801, 265563739, 265001472, 265079264, 265630017, 265672378, 265723951, 265727470, 265499079, 265428426, 265475125, 265182907, 265133766, 265158031, 260920706, 260967199, 260943478, 260849816, 260382673, 260338947, 260326094, 260306053, 260366589, 260344383, 260293553, 260237786, 260203412, 260582780, 260532221, 260534689, 260524051, 260504935, 260575867, 260545916, 260086806, 260059949, 260008566, 260687198, 260634599, 260654287, 260671251, 260642106, 260612707, 260719310, 260419617, 260411664, 260136602, 260106023, 266992587, 266991006, 266991741, 266988714, 266961667, 266975434, 266912774, 266917984, 266883215, 266800011, 266291747, 266258732, 266251163, 266266608, 266523431, 266500410, 266545188, 266510242, 266088909, 266039248, 266033470, 266059805, 266686668, 266621249, 266671388, 266797224, 266767159, 266777812, 266472737, 266413925, 266140764, 267998346, 267936827, 267858218, 267867878, 267813843, 267333200, 267322915, 267355510, 267373328, 267310933, 267295214, 267291622, 267255036, 267248622, 267248122, 267085443, 267021064, 267050893, 267002669, 267076494, 267019015, 267011352, 267609824, 267612733, 267480187, 267403600, 267404842, 267471153, 267131905, 267159743, 267177566, 264957797, 264905996, 264965294, 264943579, 264852144, 264804990, 264818563, 264389627, 264330733, 264360538, 264297598, 264226730, 264590607, 264587341, 264506924, 264549280, 264699722, 264686128, 264684168, 264637021, 264607131, 264789227, 264712432, 264446446, 264158667, 264108199, 264173202, 261980651, 261981749, 261937859, 261962738, 261919900, 261830132, 261389973, 261365837, 261290079, 261589868, 261523337, 261553626, 261547273, 261039263, 261019342, 261672559, 261645306, 261798938, 261758612, 261762462, 261742791, 261484528, 261454979, 261418349, 279985524, 279829389, 279872642, 279390421, 279320506, 279292724, 279238772, 279245777, 279565698, 279546927, 279514053, 279053975, 279071316, 279699335, 279631758, 279607276, 279735332, 279726561, 279705797, 279743338, 279436750, 279454729, 279409857, 279448378, 279192129, 279186775, 279136198, 279101019, 278950386, 278908558, 278901372, 278971870, 278914724, 278805707, 278811090, 278380470, 278334599, 278313675, 278256878, 278206508, 278274099, 278520197, 278561158, 278080460, 278066435, 278040745, 278678492, 278762500, 278711393, 278490771, 278482269, 278433046, 278422949, 278479775, 278475382, 278416611, 278107776, 278175131, 278142061, 273991385, 273988759, 273933086, 273958983, 273889467, 273880560, 273827229, 273398535, 273339932, 273345158, 273290401, 273233972, 273227745, 273221923, 273259787, 273523776, 273559128, 273506647, 273026794, 273648931, 273796883, 273783525, 273701537, 273492820, 273476432, 273194325, 273175080, 273147348, 272988973, 272850415, 272869591, 272840677, 272355934, 272357419, 272309256, 272365460, 272377197, 272342333, 272290756, 272294489, 272279005, 272278078, 272247700, 272555474, 272556652, 272038090, 272025901, 272063494, 272066397, 272073368, 272043984, 272659951, 272659040, 272651418, 272662406, 272720645, 272727254, 272753225, 272757919, 272773986, 272773579, 272773759, 272740525, 272488718, 272471328, 272414891, 275938175, 275930901, 275960835, 275883390, 275886413, 275887198, 275831347, 275879600, 275386606, 275339594, 275327584, 275303960, 275375200, 275341088, 275314047, 275279579, 275564948, 275577309, 275519396, 275090976, 275074023, 275018419, 275017636, 275600732, 275752157, 275757649, 275700253, 275779910, 275480913, 275484087, 275438046, 275181540, 275158361, 275106328, 270903989, 270949358, 270946531, 270835604, 270837447, 270825660, 270820101, 270827607, 270800833, 270866273, 270847101, 270398398, 270393062, 270326734, 270253864, 270253725, 270255199, 270263139, 270260273, 270245365, 270247107, 270500474, 270543771, 270512544, 270095710, 270035536, 270075650, 270070732, 270012926, 270690900, 270763060, 270433886, 270458570, 270402291, 270400803, 270419907, 270136338, 270159791, 276929380, 276940020, 276808884, 276333028, 276335220, 276336409, 276366772, 276313002, 276291019, 276281647, 276221354, 276262550, 276246924, 276525691, 276037632, 276029559, 276021769, 276059255, 276018327, 276695363, 276609519, 276611803, 276733984, 276759141, 276429407, 276182007, 276171929, 276146038, 277995075, 277932579, 277920062, 277894257, 277804973, 277814478, 277224173, 277213413, 277217826, 277214229, 277527547, 277510964, 277004678, 277015357, 277692810, 277630257, 277662470, 277664100, 277783693, 277754092, 277773178, 277446441, 277135175, 277137547, 277163965, 274989842, 274835455, 274858487, 274857108, 274842811, 274393538, 274353278, 274340025, 274299947, 274287093, 274223315, 274269623, 274214897, 274527950, 274556646, 274578934, 274545939, 274545092, 274089395, 274085759, 274039668, 274035458, 274036542, 274000409, 274637056, 274644403, 274786236, 274709787, 274488583, 274485062, 274438793, 274430909, 274448835, 274442973, 274418953, 274135042, 274131284, 271990259, 271937971, 271974018, 271911791, 271336638, 271310930, 271298441, 271234430, 271205186, 271267572, 271270559, 271584708, 271565729, 271082915, 271030500, 271002351, 271047094, 271647836, 271795977, 271712574, 249932210, 249907380, 249904419, 249978050, 249949443, 249946039, 249856865, 249337861, 249304014, 249315525, 249298501, 249236131, 249271141, 249216652, 249559261, 249555558, 249574664, 249516508, 249091440, 249089138, 249026432, 249069687, 249014516, 249609496, 249785706, 249774901, 249420870, 249409169, 249460445, 249153601, 249172044, 249146024, 249147530, 248984788, 248913843, 248890869, 248838299, 248829748, 248858139, 248815891, 248388116, 248235974, 248270775, 248213357, 248086573, 248076613, 248044805, 248015607, 248696941, 248634182, 248665929, 248660602, 248722030, 248469401, 248477823, 248185475, 248138358, 248113901, 243935181, 243880423, 243825020, 243874208, 243843112, 243817379, 243376665, 243343416, 243340212, 243319977, 243264960, 243275394, 243216587, 243591190, 243531805, 243524023, 243558699, 243034302, 243058049, 243057986, 243019546, 243012908, 243015970, 243630933, 243652300, 243608182, 243669336, 243794851, 243760341, 243498353, 243446468, 243126887, 243159778, 243154727, 243170482, 242996391, 242996753, 242977272, 242914909, 242856872, 242817946, 242321885, 242321638, 242354832, 242374236, 242315027, 242226124, 242214183, 242532000, 242537591, 242527464, 242552342, 242506937, 242516859, 242037665, 242027186, 242690296, 242697566, 242603927, 242602426, 242420117, 242459709, 242135101, 242125162, 242152306, 242107925, 245995797, 245908176, 245978923, 245970408, 245943651, 245885683, 245880714, 245858161, 245862097, 245819016, 245326518, 245353666, 245354673, 245298335, 245280779, 245227792, 245583550, 245537685, 245508112, 245507136, 245576445, 245545006, 245037268, 245073467, 245077028, 245652394, 245672260, 245649962, 245781496, 245773815, 245715392, 245493336, 245154663, 240999754, 240933024, 240901361, 240968829, 240964816, 240875250, 240841200, 240386811, 240254149, 240552120, 240573643, 240574975, 240516628, 240034792, 240028884, 240682101, 240736676, 240728647, 240758131, 240771704, 240434426, 240191662, 240170639, 240176136, 240143318, 246992985, 246984919, 246959603, 246953244, 246946734, 246825949, 246869085, 246847396, 246388746, 246301769, 246343601, 246239701, 246256849, 246244989, 246593046, 246558679, 246551195, 246562792, 246573482, 246549517, 246081138, 246055462, 246631566, 246669337, 246424863, 246196045, 247998195, 247986555, 247926283, 247941980, 247393973, 247393139, 247384618, 247332049, 247329004, 247352643, 247237957, 247276035, 247244264, 247539359, 247535342, 247530929, 247557076, 247091844, 247087886, 247030115, 247054690, 247065476, 247639968, 247663973, 247750248, 247707602, 247777250, 247746987, 247496538, 247496011, 247463210, 247181499, 247135180, 247143822, 247116459, 244997011, 244950264, 244887623, 244822135, 244841326, 244398520, 244300692, 244281216, 244228291, 244252423, 244268530, 244219525, 244534724, 244540195, 244511863, 244058962, 244606814, 244642535, 244727453, 244758506, 244754740, 244768287, 244719586, 244455393, 244476406, 244159688, 244164973, 244161002, 244119394, 244115170, 241999443, 241993719, 241936306, 241954133, 241969017, 241973965, 241970456, 241917059, 241911562, 241882359, 241885582, 241834765, 241804809, 241815703, 241332106, 241323972, 241297753, 241291065, 241272540, 241248662, 241244765, 241553762, 241548706, 241051230, 241001021, 241076220, 241049706, 241674573, 241747564, 241713491, 241456483, 241466113, 241412219, 241415621, 241183368, 241182909, 241120633, 241175593, 219994784, 219932425, 219920682, 219954366, 219900464, 219941796, 219898449, 219859179, 219801803, 219332232, 219348842, 219235992, 219220388, 219204850, 219265209, 219247319, 219550468, 219093530, 219038418, 219056730, 219638828, 219663852, 219664679, 219645326, 219641681, 219615091, 219702841, 219453977, 219409044, 219417171, 219121161, 219150853, 218989568, 218932322, 218953034, 218943285, 218895531, 218896118, 218835144, 218332409, 218337588, 218324954, 218379895, 218294589, 218227166, 218262222, 218217277, 218214466, 218594297, 218533364, 218500505, 218031688, 218067127, 218061589, 218010367, 218603545, 218663906, 218649771, 218615782, 218709210, 218761566, 218492274, 218432841, 218151045, 213909610, 213904904, 213942418, 213852286, 213870111, 213309318, 213297741, 213227936, 213261641, 213552556, 213557278, 213508914, 213511922, 213031656, 213059138, 213698837, 213655883, 213600578, 213762747, 213742039, 213710186, 213458922, 213400892, 213400137, 213198368, 213198768, 213194921, 212924298, 212894118, 212880148, 212856585, 212328578, 212321140, 212374847, 212220828, 212251881, 212202027, 212278064, 212242365, 212537381, 212558947, 212562436, 212055461, 212005882, 212006045, 212697783, 212683935, 212636431, 212627913, 212662041, 212646420, 212644489, 212615758, 212790214, 212788365, 212732261, 212751990, 212763044, 212748673, 212492159, 212402448, 212475039, 212440504, 212413483, 212196735, 212101813, 212162156, 212160690, 212177710, 215859744, 215818051, 215353869, 215304502, 215312581, 215289209, 215243366, 215216877, 215538828, 215530912, 215531401, 215565913, 215094621, 215026396, 215043311, 215607406, 215601711, 215675571, 215792073, 215735415, 215766121, 215744495, 215496741, 215450617, 215412802, 215190252, 215188566, 215188546, 215123447, 215120006, 210918393, 210834972, 210802169, 210868489, 210383198, 210338693, 210335584, 210301844, 210314010, 210294122, 210203955, 210210937, 210523476, 210579658, 210577408, 210089320, 210027643, 210077424, 210688703, 210626946, 210646647, 210780152, 210734633, 210752174, 210751876, 210430767, 210140708, 216953188, 216906616, 216836305, 216821676, 216878447, 216843495, 216841501, 216819241, 216330231, 216350951, 216357698, 216342067, 216289359, 216221095, 216250771, 216271799, 216585236, 216502574, 216543993, 216512495, 216083783, 216003556, 216001610, 216635449, 216650050, 216654478, 216728822, 216750801, 216767497, 216773565, 216494996, 216128528, 217980067, 217904757, 217912631, 217887483, 217391648, 217382168, 217332285, 217329094, 217293462, 217291580, 217280448, 217272737, 217270309, 217218610, 217593933, 217592223, 217559443, 217572177, 217574371, 217542227, 217038918, 217634378, 217650062, 217738526, 217752695, 217708490, 217767129, 217741054, 217493096, 217439768, 217407863, 217479590, 217445871, 217195667, 214894113, 214881073, 214824702, 214821044, 214809286, 214366829, 214294659, 214238695, 214256845, 214085893, 214033733, 214057830, 214047812, 214012595, 214681575, 214631524, 214659140, 214654820, 214679098, 214640986, 214700693, 214767457, 214741893, 214716311, 214434816, 214463829, 214194399, 214139702, 214126487, 214151876, 214176250, 214115281, 211930861, 211921819, 211904262, 211910216, 211897183, 211804192, 211321735, 211235442, 211222625, 211253025, 211253457, 211255647, 211269148, 211595323, 211588728, 211588721, 211519179, 211510688, 211020403, 211000803, 211664492, 211671744, 211788072, 211783484, 211722476, 211702894, 211763316, 211772180, 211402972, 211473615, 211198484, 211140573, 599987162, 599959417, 599952447, 599897736, 599823006, 599804409, 599848633, 599337115, 599306261, 599289041, 599283523, 599223713, 599222016, 599200389, 599241630, 599534792, 599036147, 599004128, 599061266, 599061426, 599046245, 599693799, 599688577, 599625598, 599795828, 599459015, 599406701, 598906242, 598961203, 598899656, 598893080, 598820940, 598855103, 598372205, 598318330, 598314709, 598206272, 598243686, 598596062, 598589947, 598564665, 598577155, 598540004, 598039827, 598069669, 598071086, 598694193, 598628156, 598657041, 598679066, 598615628, 598788824, 598723871, 598704632, 598760903, 598766295, 598492386, 598432224, 598426297, 598457102, 598404977, 598168940, 598167434, 598178287, 598176056, 598112165, 593922355, 593942542, 593891737, 593858268, 593805624, 593843504, 593390364, 593387266, 593315163, 593294088, 593250270, 593208415, 593277641, 593524889, 593564247, 593517584, 593024654, 593795907, 593709737, 593767533, 593426723, 593456169, 593407081, 593474658, 593447374, 593195117, 593107744, 592992283, 592909961, 592918199, 592880399, 592399834, 592384246, 592278346, 592521665, 592555827, 592569954, 592542136, 592068752, 592635668, 592677965, 592716319, 592716657, 592485945, 592434548, 592409007, 592468145, 592448254, 592103938, 592165877, 592116646, 595989512, 595929040, 595922468, 595945034, 595918076, 595911778, 595826463, 595876987, 595396624, 595330060, 595323000, 595373911, 595345521, 595293505, 595253910, 595209617, 595201670, 595595109, 595591743, 595502888, 595569437, 595570010, 595574794, 595797246, 595731903, 595755156, 595757154, 595768752, 595712261, 595434006, 595408624, 595125003, 595168116, 590955202, 590903855, 590895747, 590823197, 590869322, 590398130, 590367032, 590345697, 590347797, 590230219, 590264398, 590523839, 590504611, 590560540, 590549308, 590543519, 590546047, 590032151, 590700881, 590435079, 590119168, 590118834, 596935698, 596800841, 596383819, 596317971, 596298584, 596230482, 596203381, 596523742, 596505911, 596098275, 596063548, 596061894, 596014053, 596638412, 596624600, 596656857, 596608616, 596604325, 596709037, 596745475, 596497008, 596194327, 596181374, 596139833, 596117464, 597992115, 597994361, 597988269, 597983951, 597903192, 597881706, 597806024, 597329704, 597325760, 597327036, 597295462, 597230037, 597203611, 597206437, 597240525, 597531094, 597081780, 597001665, 597062074, 597697558, 597694519, 597685058, 597637915, 597652688, 597600536, 597663835, 597679539, 597672778, 597619994, 597424978, 597472663, 597138999, 597123313, 597125178, 597121512, 597100897, 597179283, 594968763, 594831944, 594856516, 594809675, 594353583, 594307648, 594293082, 594215129, 594563011, 594005551, 594625767, 594654770, 594648583, 594720561, 594769174, 594763038, 594760620, 594469630, 594469437, 594474195, 594182899, 594136883, 594136596, 594124568, 594101180, 594163411, 594115582, 591927383, 591974317, 591821859, 591855016, 591338967, 591369647, 591367884, 591222183, 591205639, 591248460, 591537245, 591540819, 591511635, 591006121, 591079027, 591643661, 591721313, 591751200, 591772600, 591472286, 591125616, 589986106, 589987381, 589936532, 589922404, 589951162, 589909587, 589962324, 589918486, 589835600, 589821234, 589811054, 589393789, 589392600, 589383618, 589384363, 589381707, 589305098, 589289564, 589239929, 589250802, 589273098, 589212455, 589586698, 589557133, 589507479, 589513371, 589029439, 589041002, 589014493, 589631751, 589626096, 589651197, 589649838, 589643496, 589618289, 589724041, 589751639, 589743420, 589747233, 589430878, 589453038, 589404303, 589413152, 589195739, 589135956, 589106437, 589177633, 589147872, 588991887, 588922504, 588832687, 588874112, 588324474, 588235568, 588252097, 588599230, 588539229, 588572199, 588515608, 588096842, 588097950, 588020002, 588689450, 588635251, 588674422, 588648407, 588647404, 588641565, 588798155, 588731042, 588740237, 588746398, 588484920, 588465871, 588479677, 588444777, 588130101, 588147969, 588112373, 583934572, 583957077, 583946381, 583919170, 583833986, 583806224, 583872629, 583382073, 583339804, 583330706, 583289538, 583234098, 583522618, 583575327, 583059377, 583634080, 583622736, 583656384, 583601646, 583782653, 583757239, 583744335, 583717312, 583717138, 583482260, 583400484, 583471107, 583442960, 583187832, 583157343, 583160802, 583143935, 583142156, 583118062, 583117809, 582923453, 582945937, 582859984, 582818418, 582344471, 582225899, 582226425, 582200790, 582591547, 582534001, 582550459, 582039535, 582029567, 582003577, 582079094, 582075600, 582012223, 582645011, 582647998, 582793824, 582738294, 582491322, 582426561, 582418537, 582415995, 582127815, 585900661, 585906454, 585979345, 585974187, 585948481, 585830631, 585811502, 585388358, 585339444, 585334198, 585298495, 585239344, 585229881, 585203231, 585266550, 585267332, 585219552, 585550236, 585561256, 585067939, 585075373, 585605919, 585606250, 585665263, 585613440, 585617999, 585705159, 585740067, 585719797, 585482147, 585175929, 585170792, 580920650, 580967261, 580978649, 580887632, 580821850, 580800597, 580878684, 580848863, 580258113, 580256656, 580202025, 580055823, 580009399, 580001298, 580077062, 580045164, 580015502, 580686668, 580687793, 580633549, 580663730, 580678988, 580677930, 580758756, 580764706, 580493748, 580481777, 580456427, 580460019, 580196450, 580115110, 586982383, 586935185, 586920794, 586976078, 586914515, 586865792, 586397881, 586332677, 586348246, 586316525, 586296412, 586251200, 586203861, 586592784, 586565491, 586541979, 586083195, 586669257, 586665961, 586615407, 586760542, 586437450, 586138962, 586130015, 586174032, 587984963, 587909448, 587974568, 587945125, 587871595, 587849090, 587351551, 587250259, 587200735, 587207489, 587214776, 587583406, 587095936, 587094535, 587050427, 587000660, 587066402, 587677695, 587744972, 587712559, 587486341, 587423116, 587426049, 587446764, 587182362, 587137543, 587163085, 587118284, 584996680, 584997089, 584957683, 584906273, 584967564, 584946856, 584912758, 584914193, 584826237, 584824538, 584857090, 584860339, 584879472, 584387719, 584320181, 584306271, 584367965, 584290557, 584251933, 584263215, 584264007, 584272474, 584596031, 584528725, 584523546, 584508508, 584503715, 584566017, 584029499, 584027623, 584651354, 584493793, 584424305, 584139472, 581971664, 581871866, 581389988, 581225574, 581278433, 581546896, 581518977, 581516522, 581082234, 581058259, 581014373, 581631004, 581797855, 581709928, 581760836, 581468045, 581470467, 581199620, 581155386, 539999155, 539970827, 539976614, 539919552, 539899065, 539886916, 539844194, 539323792, 539321707, 539372093, 539343231, 539294602, 539282966, 539238425, 539237931, 539221686, 539590075, 539525141, 539512343, 539028881, 539054909, 539051838, 539004134, 539062468, 539041203, 539689326, 539680490, 539667946, 539733006, 539720267, 539754811, 539486031, 539460407, 539471594, 539191540, 539100835, 538904202, 538960134, 538891338, 538886511, 538845938, 538810206, 538363359, 538363230, 538287397, 538222521, 538225808, 538267852, 538270109, 538215145, 538216554, 538595382, 538588623, 538568343, 538020481, 538018533, 538758421, 538748103, 538491940, 538469824, 538132440, 533990930, 533925945, 533964646, 533891118, 533858028, 533849578, 533384745, 533306229, 533257172, 533275276, 533609769, 533795421, 533729636, 533759997, 533778903, 533776753, 533408695, 533469480, 533102288, 533162626, 533112716, 532999228, 532918998, 532899027, 532820488, 532857074, 532874663, 532235508, 532254472, 532276441, 532599106, 532588142, 532584085, 532522760, 532562202, 532057964, 532625766, 532678999, 532616569, 532789531, 532781048, 532728344, 532715805, 532716775, 532490936, 532426904, 532403030, 532479516, 532478871, 532443628, 532414984, 532133354, 532101469, 535921125, 535952695, 535969721, 535899473, 535826186, 535859938, 535854920, 535330513, 535341160, 535581355, 535556544, 535503249, 535506610, 535565602, 535572391, 535518356, 535082510, 535008612, 535635091, 535728838, 535707058, 535776196, 535469526, 535154372, 535102590, 535119728, 530950429, 530850966, 530851518, 530389571, 530349906, 530318890, 530310083, 530283727, 530285839, 530280585, 530264275, 530273838, 530249398, 530218515, 530213629, 530589218, 530525299, 530556100, 530504456, 530517798, 530039470, 530036299, 530031239, 530638260, 530635242, 530782735, 530726876, 530483127, 530432580, 530427772, 530424077, 530469384, 530463765, 530475134, 530129952, 530100441, 530140457, 536991002, 536929902, 536952548, 536800749, 536383947, 536334420, 536359043, 536282309, 536258871, 536276637, 536277316, 536242359, 536212427, 536531129, 536553890, 536552442, 536507801, 536504271, 536059989, 536001570, 536063181, 536048699, 536698413, 536679882, 536731353, 536715447, 536400140, 536187885, 536132297, 536129808, 536129372, 536148954, 537955762, 537878655, 537383921, 537325603, 537359377, 537357284, 537361959, 537284497, 537220779, 537246367, 537246243, 537536663, 537528858, 537528441, 537035459, 537648362, 537735496, 537762928, 537740694, 537498583, 537494960, 537405367, 537465201, 537460430, 537461130, 537186980, 537127770, 537157267, 537173207, 534951038, 534892660, 534390969, 534382977, 534350669, 534317556, 534280432, 534247072, 534506225, 534085951, 534086404, 534028008, 534073215, 534019380, 534690349, 534680744, 534645693, 534757693, 534706519, 534704660, 534742974, 534412855, 534415819, 534416172, 534135297, 534150333, 534175229, 531996660, 531987218, 531922377, 531920111, 531836869, 531849889, 531842301, 531358419, 531205239, 531268598, 531588172, 531533160, 531005940, 531078024, 531042836, 531686837, 531687146, 531679931, 531672061, 531675527, 531775594, 531421835, 531459446, 531409388, 531463510, 531156234, 529938453, 529932264, 529966933, 529949550, 529882955, 529800343, 529873484, 529258315, 529204566, 529565264, 529095696, 529026553, 529055426, 529069531, 529063586, 529041467, 529011093, 529694232, 529604791, 529648125, 529610823, 529735890, 529704381, 529704211, 529749193, 529493022, 529188611, 529121025, 529178141, 529118524, 528919396, 528911863, 528888765, 528852438, 528845577, 528336259, 528374420, 528208613, 528266544, 528240077, 528212852, 528586198, 528552200, 528561890, 528062848, 528689473, 528619278, 528737385, 528753337, 528769860, 528436381, 528441758, 528183170, 528101953, 528140208, 528146276, 523967910, 523891590, 523881810, 523833352, 523355799, 523307595, 523375407, 523371952, 523313623, 523286920, 523268212, 523245660, 523549216, 523086277, 523003471, 523005721, 523066470, 523612898, 523735876, 523764684, 523711610, 523491982, 523131620, 523123416, 523166830, 522995886, 522991337, 522984677, 522972954, 522895564, 522833892, 522826008, 522877305, 522871402, 522846948, 522815695, 522814388, 522304786, 522370571, 522299266, 522236058, 522208973, 522266751, 522092903, 522091308, 522038081, 522036870, 522003711, 522635121, 522726286, 522707870, 522714351, 522108712, 522169032, 522172636, 525939648, 525969127, 525968655, 525885423, 525880273, 525823288, 525864434, 525873003, 525872981, 525843240, 525811253, 525344722, 525294593, 525289852, 525283910, 525228737, 525271966, 525240917, 525215177, 525532084, 525555509, 525563460, 525575990, 525511029, 525019795, 525633014, 525637791, 525620217, 525656282, 525614237, 525790938, 525732515, 525721196, 525766864, 525428624, 525404559, 525461666, 525472891, 525446109, 525414413, 525116284, 520926161, 520951547, 520852055, 520857917, 520864204, 520374788, 520582296, 520564573, 520541064, 520036042, 520019209, 520011103, 520636068, 520616744, 520705110, 520707568, 520743770, 520715798, 520431977, 520422652, 520474026, 520440647, 520119013, 526991891, 526984368, 526809739, 526873955, 526815643, 526816498, 526359981, 526352647, 526350094, 526369737, 526295251, 526282828, 526284784, 526254454, 526528637, 526503573, 526546510, 526008298, 526073697, 526074825, 526016637, 526682780, 526657151, 526678338, 526672613, 526647819, 526611161, 526734205, 526759377, 526755649, 526779321, 526710494, 526482891, 526139692, 526159232, 526171022, 526114537, 527995062, 527847065, 527367135, 527361308, 527291562, 527270060, 527271245, 527594090, 527512316, 527034517, 527020512, 527042815, 527682425, 527604193, 527753281, 527711443, 527499145, 527450921, 527468627, 527462981, 527194632, 527187836, 527154416, 527170712, 527140957, 527146968, 524997197, 524988110, 524973462, 524972195, 524944437, 524831047, 524806660, 524867155, 524305988, 524341827, 524298543, 524256221, 524598392, 524535594, 524569646, 524568403, 524562851, 524561661, 524037391, 524052388, 524050103, 524073194, 524631289, 524620095, 524626604, 524658108, 524657862, 524669411, 524677983, 524646339, 524769647, 524764794, 524714427, 524426284, 524410156, 524162243, 521992111, 521927168, 521822869, 521826649, 521811510, 521301877, 521379583, 521316148, 521292280, 521595192, 521542065, 521033881, 521694712, 521654243, 521616382, 521744899, 521744857, 521715117, 521128854, 521126226, 521145183, 521144888, 559985874, 559970155, 559392181, 559385096, 559339499, 559373624, 559349634, 559348545, 559263555, 559523845, 559575969, 559570761, 559577260, 559068818, 559724902, 559752337, 559775167, 559424941, 559462226, 559189313, 559186170, 559184057, 559130735, 559131554, 559162913, 559161983, 558904593, 558964318, 558970012, 558820450, 558877338, 558353607, 558348204, 558226539, 558530177, 558576375, 558082583, 558087195, 558021017, 558051550, 558009732, 558069517, 558062445, 558079226, 558072291, 558697893, 558691805, 558686381, 558630002, 558658270, 558657912, 558602706, 558668161, 558798071, 558724389, 558763608, 558714818, 558420201, 558181807, 558153051, 558117045, 553943771, 553889600, 553838552, 553835483, 553851572, 553872676, 553817781, 553308147, 553314370, 553284936, 553281456, 553251408, 553205120, 553581520, 553539911, 553501377, 553549119, 553519004, 553089938, 553059622, 553064984, 553696596, 553624385, 553624459, 553657740, 553646225, 553789129, 553788509, 553744604, 553431993, 553422055, 553151387, 553169214, 553113253, 552980320, 552928923, 552953080, 552946643, 552899965, 552880794, 552886269, 552826643, 552824016, 552802115, 552848531, 552847939, 552810784, 552814216, 552256453, 552592520, 552583804, 552585355, 552573316, 552004896, 552001482, 552690264, 552694274, 552671909, 552671583, 552617739, 552611662, 552793557, 552756794, 552740138, 552712913, 552499873, 552489388, 552409362, 552138102, 552123941, 552122998, 555990382, 555920496, 555909042, 555905658, 555979886, 555883560, 555839244, 555836782, 555837478, 555869214, 555860416, 555398747, 555390861, 555303924, 555291341, 555282553, 555204644, 555264448, 555216285, 555214682, 555529859, 555512213, 555013185, 555688740, 555683652, 555603291, 555602048, 555674402, 555619521, 555793570, 555707199, 555497746, 555447881, 555132589, 550992117, 550988637, 550934542, 550909835, 550969838, 550963333, 550851124, 550802482, 550845856, 550845097, 550302189, 550314100, 550226810, 550256159, 550279157, 550247902, 550582902, 550527857, 550578245, 550519907, 550029495, 550026478, 550017747, 550631407, 550652240, 550667374, 550787997, 550756594, 550709516, 550748521, 550409950, 550414758, 550195342, 550191863, 550130172, 550164873, 556997273, 556965278, 556808621, 556803462, 556334392, 556331344, 556322171, 556367281, 556377249, 556315561, 556257585, 556251248, 556279234, 556272172, 556599837, 556593304, 556530233, 556554004, 556568318, 556090257, 556036229, 556005124, 556681626, 556612366, 556789117, 556736538, 556435832, 556189859, 556136653, 556120760, 556167292, 556167584, 556147281, 557996352, 557900146, 557974272, 557947891, 557826593, 557398586, 557324374, 557324434, 557360516, 557206445, 557263954, 557587719, 557508027, 557512153, 557517025, 557026425, 557003908, 557685590, 557630918, 557637796, 557604784, 557615287, 557484071, 557401908, 557467247, 557125154, 554925178, 554823735, 554865893, 554817219, 554395978, 554397307, 554339608, 554324110, 554376281, 554285437, 554286732, 554550008, 554023987, 554046238, 554626240, 554659132, 554668715, 554661629, 554611983, 554751546, 554774614, 554429365, 554460850, 554479869, 554410025, 554122286, 554120972, 551965078, 551944581, 551883336, 551852452, 551865515, 551369269, 551295654, 551251535, 551033951, 551022985, 551021927, 551620798, 551606123, 551647801, 551768593, 551773448, 551494850, 551415326, 551192481, 551147074, 551112950, 509985844, 509922996, 509978831, 509916231, 509814512, 509358380, 509366447, 509375890, 509295249, 509284340, 509211396, 509583569, 509507970, 509540148, 509092361, 509030476, 509682911, 509655841, 509643275, 509611363, 509739648, 509758671, 509496369, 509437058, 509199592, 509105793, 508932587, 508936285, 508818482, 508335758, 508309706, 508302013, 508232340, 508225859, 508220742, 508253215, 508037896, 508052818, 508069584, 508072329, 508666950, 508614865, 508494229, 508437321, 508403779, 508447387, 508108339, 503981813, 503934003, 503952184, 503900588, 503863410, 503307786, 503360392, 503374165, 503343201, 503226173, 503211550, 503211135, 503594057, 503528051, 503522011, 503095441, 503030914, 503629084, 503621899, 503658334, 503713392, 503484608, 503453126, 503448733, 503419157, 503188954, 503156564, 503105856, 502929944, 502928081, 502836437, 502837664, 502818688, 502812396, 502268168, 502260304, 502213290, 502535456, 502530784, 502529906, 502555994, 502506959, 502565597, 502567120, 502085647, 502004369, 502610215, 502729622, 502757161, 502705365, 502704017, 502412256, 502137021, 502121377, 502169831, 502143936, 502147242, 502112732, 502111745, 505983062, 505932338, 505924499, 505956169, 505965780, 505976714, 505888300, 505846723, 505350334, 505376821, 505594909, 505512186, 505087170, 505028377, 505639183, 505662401, 505734095, 505409499, 505442891, 505417364, 500937083, 500927219, 500944508, 500893660, 500391900, 500322346, 500351614, 500370121, 500259455, 500279325, 500212330, 500584768, 500552998, 500550647, 500542016, 500063811, 500070016, 500040730, 500019041, 500643994, 500782244, 500754108, 500767184, 500772614, 500431342, 500426516, 500400107, 500149721, 506959258, 506865267, 506286757, 506238701, 506232262, 506232535, 506250886, 506273927, 506273862, 506240959, 506555213, 506045115, 506019275, 506011221, 506633678, 506677793, 506721340, 506758657, 506742515, 506456996, 506406343, 506462911, 506186430, 506137273, 506152975, 507999160, 507997776, 507985526, 507907213, 507966908, 507961555, 507855615, 507863120, 507865073, 507865134, 507849719, 507336730, 507305581, 507306412, 507366206, 507342292, 507347026, 507222749, 507258742, 507200370, 507201499, 507273957, 507592063, 507594408, 507585111, 507570141, 507544226, 507515166, 507090575, 507622106, 507676023, 507612714, 507727366, 507753662, 507709449, 507703927, 507485261, 507473188, 507122530, 504979484, 504891965, 504858813, 504857124, 504871794, 504366663, 504370369, 504313300, 504229602, 504584387, 504532274, 504082210, 504030058, 504072719, 504019572, 504019717, 504680122, 504650955, 504640310, 504613072, 504763743, 504499504, 504456900, 504405545, 504149511, 501980189, 501932912, 501802166, 501302675, 501298173, 501226209, 501252325, 501200979, 501219360, 501210146, 501214973, 501589808, 501571797, 501540412, 501089612, 501654678, 501666424, 501783992, 501433352, 501157798, 501110656, 569993200, 569932960, 569932511, 569961971, 569948212, 569828626, 569808051, 569534443, 569525799, 569555019, 569576346, 569515808, 569000640, 569045095, 569018846, 569764737, 569436026, 569404425, 569137065, 569128458, 569178648, 569171977, 568922839, 568917020, 568881276, 568320281, 568314638, 568282635, 568223249, 568272339, 568592235, 568536661, 568508759, 568504908, 568567235, 568097136, 568050053, 568065716, 568010257, 568677294, 568617197, 568751361, 568719516, 568137740, 568123108, 568169611, 563838594, 563856717, 563870193, 563840556, 563389255, 563359258, 563359201, 563356969, 563365841, 563314910, 563257065, 563205594, 563581249, 563526911, 563549029, 563081970, 563081153, 563025388, 563075527, 563690903, 563600825, 563604876, 563601608, 563498583, 563492037, 563484559, 563420779, 563159118, 563161341, 563148775, 563113699, 562993422, 562918005, 562911521, 562895582, 562835498, 562325197, 562372177, 562375354, 562291752, 562260183, 562216296, 562528301, 562548636, 562626394, 562793757, 562714797, 562493305, 562491556, 562423530, 562410930, 562133715, 562164586, 562118189, 565998098, 565929946, 565957588, 565960555, 565886895, 565860226, 565356128, 565341147, 565282648, 565237570, 565221853, 565213021, 565584615, 565550697, 565560677, 565546093, 565088226, 565020849, 565027152, 565648521, 565796023, 565723431, 565758431, 565443980, 565149095, 565146269, 565110830, 560935161, 560959004, 560962944, 560966962, 560890705, 560883778, 560821314, 560869572, 560398686, 560382172, 560205779, 560599168, 560581352, 560543706, 560022853, 560001795, 560065769, 560048047, 560045846, 560015264, 560692138, 560609655, 560610546, 560617387, 560794859, 560783770, 560422940, 560406482, 560187927, 560121469, 560151183, 566959311, 566958817, 566951942, 566902696, 566949638, 566891794, 566859377, 566845569, 566819089, 566390756, 566396256, 566331294, 566267896, 566527927, 566568375, 566009539, 566046068, 566608922, 566668993, 566794788, 566759698, 566707203, 566762254, 566749527, 566486425, 566409487, 566447362, 566190289, 566194688, 566182404, 566124514, 566173320, 566172402, 566175851, 566146864, 567981576, 567904904, 567972624, 567910419, 567883430, 567803208, 567811198, 567395396, 567350515, 567303446, 567363674, 567379482, 567342250, 567249135, 567536572, 567092536, 567094012, 567082020, 567693128, 567629981, 567673220, 567674131, 567734280, 567771732, 567452453, 567475875, 567445382, 567418745, 567417504, 567166869, 567166046, 567111966, 564991705, 564986139, 564936882, 564958104, 564952243, 564961432, 564944757, 564820259, 564855398, 564803006, 564848725, 564337602, 564329704, 564321480, 564229580, 564251739, 564513992, 564036190, 564054910, 564691749, 564679025, 564677022, 564794899, 564496568, 564457920, 564404686, 564470611, 564180316, 564130382, 564155294, 564109293, 561943754, 561919998, 561860298, 561843624, 561393317, 561350991, 561345378, 561234076, 561231533, 561228292, 561220129, 561240023, 561215043, 561558946, 561503948, 561504174, 561501022, 561566029, 561544140, 561073142, 561046760, 561041517, 561693258, 561695963, 561630549, 561665744, 561640966, 561786763, 561729693, 561471352, 561190313, 561159090, 561100939, 561107133, 561161512, 579851330, 579805404, 579800440, 579879325, 579841890, 579381221, 579363714, 579292271, 579295127, 579290275, 579230529, 579529780, 579553459, 579054791, 579041766, 579010904, 579698740, 579649315, 579793868, 579788513, 579752020, 579767690, 579744890, 579459501, 579441383, 579410365, 579185627, 579180648, 579156786, 579178651, 579141530, 578930813, 578974270, 578942667, 578913316, 578832216, 578398833, 578326346, 578283571, 578237800, 578224302, 578253266, 578260644, 578276142, 578271413, 578242343, 578244284, 578215383, 578214179, 578598993, 578505184, 578545647, 578072844, 578045025, 578015409, 578639402, 578653256, 578676942, 578612836, 578750491, 578709705, 578495830, 578452642, 578402469, 578475318, 578161452, 578147201, 573960099, 573910498, 573853396, 573809446, 573398009, 573393823, 573378940, 573376846, 573232237, 573231678, 573226044, 573588973, 573572550, 573068098, 573698166, 573627245, 573602826, 573600152, 573661549, 573728559, 573707066, 573769473, 573768724, 573773508, 573771402, 573741426, 573714114, 573488619, 573432506, 573450535, 573404559, 573155841, 572936465, 572950231, 572977613, 572912432, 572803305, 572817251, 572338343, 572301981, 572282789, 572235189, 572220126, 572255443, 572596863, 572597239, 572580366, 572564656, 572546692, 572032308, 572073693, 572622858, 572607353, 572715151, 572487152, 572475817, 572144130, 572114965, 575939389, 575887201, 575834489, 575827988, 575302208, 575302460, 575368033, 575291924, 575501580, 575568404, 575091726, 575031799, 575058576, 575056586, 575071605, 575696053, 575602352, 575666648, 575795185, 575767584, 575498721, 575494330, 575458476, 575447700, 575192780, 575139682, 575173303, 570985080, 570939136, 570964131, 570973535, 570942113, 570912669, 570867705, 570864286, 570352526, 570357135, 570302271, 570362933, 570340485, 570315869, 570296562, 570230986, 570221793, 570259202, 570203742, 570201130, 570269322, 570273258, 570245549, 570582138, 570533092, 570030883, 570004094, 570649122, 570746973, 570747728, 570744695, 570713025, 570486649, 570429610, 570452849, 570402245, 570440881, 570197671, 576928341, 576960713, 576910094, 576890414, 576829404, 576879935, 576879607, 576384502, 576381817, 576280428, 576234307, 576258255, 576202847, 576520184, 576572357, 576546776, 576511872, 576096080, 576081026, 576042685, 576638441, 576659737, 576791640, 576751732, 576769271, 576498856, 576480446, 576453442, 576456287, 576412390, 576190167, 576185726, 576131769, 576170444, 576140240, 577883296, 577881170, 577855500, 577807343, 577807763, 577866617, 577383920, 577333840, 577327838, 577357930, 577290396, 577258690, 577597203, 577524748, 577568386, 577518413, 577004947, 577067461, 577079908, 577691245, 577733886, 577730609, 577752350, 577751426, 577777873, 577485634, 577403374, 577127022, 574989597, 574926030, 574965607, 574891554, 574853499, 574847080, 574815422, 574398731, 574332073, 574367741, 574235487, 574227881, 574221785, 574203536, 574279108, 574543751, 574512585, 574085658, 574084752, 574695478, 574690384, 574601634, 574668224, 574664730, 574702210, 574702050, 574484863, 574439957, 574477422, 574443888, 574443118, 574442178, 574441053, 574196156, 574182806, 574133470, 574108612, 571921482, 571907991, 571871286, 571383964, 571357991, 571367904, 571213133, 571569532, 571560079, 571517283, 571090415, 571085413, 571003067, 571697712, 571637294, 571626349, 571669101, 571670860, 571646632, 571708516, 571762985, 571740689, 571746327, 571498466, 571442270, 571157123, 571140415, 549926557, 549953664, 549941284, 549860778, 549879455, 549380100, 549387099, 549358800, 549367342, 549314732, 549289531, 549284461, 549256125, 549266094, 549557626, 549567090, 549031632, 549689096, 549687627, 549623014, 549626303, 549794200, 549762531, 549778960, 549770732, 549438272, 549455000, 549475665, 549419529, 548995483, 548987034, 548833241, 548830007, 548853525, 548854816, 548864198, 548819986, 548385958, 548308595, 548307397, 548347898, 548315067, 548228967, 548243441, 548532010, 548569438, 548572327, 548076385, 548661419, 548678569, 548613147, 548797370, 548738796, 548720576, 548748695, 548476070, 548411796, 548137664, 548123401, 548153998, 548140961, 543992556, 543940499, 543897627, 543836026, 543820954, 543807738, 543868161, 543865996, 543325175, 543306626, 543361040, 543315203, 543283444, 543209836, 543241939, 543541042, 543511123, 543074825, 543071540, 543683392, 543684504, 543681891, 543630423, 543637283, 543625562, 543756401, 543703355, 543495822, 543481298, 543466692, 543189403, 543118992, 542906375, 542965737, 542975317, 542882617, 542872275, 542331507, 542363743, 542249438, 542219889, 542534846, 542036802, 542727562, 542713406, 542714098, 542499774, 542437945, 542431980, 542453743, 542406491, 542460542, 542103399, 545973093, 545808206, 545813398, 545812953, 545393189, 545390995, 545391828, 545391573, 545309830, 545379520, 545296173, 545285221, 545202790, 545214254, 545588424, 545522456, 545506086, 545026116, 545065238, 545048098, 545653880, 545609363, 545735760, 545736781, 545491896, 545480517, 545424910, 545416555, 545192617, 545126614, 545150008, 545113104, 540999305, 540926333, 540952438, 540978757, 540948373, 540353804, 540368617, 540317907, 540282970, 540227795, 540262553, 540246730, 540583917, 540500322, 540004488, 540045537, 540692015, 540663443, 540664871, 540767736, 540743031, 540489908, 540474745, 540193156, 540127891, 546938091, 546906211, 546904025, 546837980, 546859477, 546858266, 546855243, 546336613, 546327975, 546369027, 546366380, 546367620, 546361105, 546220624, 546539289, 546538720, 546549554, 546510479, 546030837, 546065903, 546656263, 546610834, 546783315, 546722466, 546496458, 546423371, 546422468, 546400567, 546415921, 546410477, 546175752, 547937437, 547922142, 547925720, 547978143, 547852243, 547801010, 547873500, 547343038, 547233145, 547245052, 547589872, 547533906, 547537023, 547555701, 547550955, 547510605, 547517929, 547005449, 547078611, 547077674, 547071890, 547683406, 547679597, 547618507, 547615023, 547795227, 547784440, 547754772, 547708270, 547708079, 547761129, 547772476, 547774299, 547435705, 547468221, 547175308, 547147604, 544991213, 544928862, 544928038, 544925134, 544970805, 544917235, 544853807, 544809743, 544805802, 544873690, 544847744, 544381926, 544331425, 544297960, 544597473, 544508059, 544049549, 544649557, 544747271, 544465337, 544477408, 544131048, 544158626, 544152790, 544150051, 544151069, 544105112, 544110237, 541982878, 541930487, 541921237, 541958240, 541907208, 541887730, 541825693, 541855082, 541857536, 541861690, 541846935, 541337507, 541303756, 541205252, 541248602, 541211569, 541589067, 541558109, 541562488, 541574565, 541547296, 541519727, 541028009, 541016847, 541626678, 541624627, 541676999, 541618484, 541797126, 541783997, 541786952, 541743661, 541492199, 541490754, 541454211, 541149397, 519896193, 519855204, 519865291, 519864169, 519843417, 519842734, 519300744, 519297961, 519255919, 519244318, 519210037, 519532081, 519537114, 519551831, 519546227, 519025031, 519051543, 519620991, 519678812, 519678099, 519646060, 519799003, 519783955, 519734967, 519729706, 519756046, 519494949, 519488003, 519460007, 519474041, 519128337, 519100516, 519176310, 518980552, 518976677, 518894359, 518889187, 518829182, 518852668, 518840445, 518815869, 518330718, 518320560, 518369347, 518211198, 518550445, 518561913, 518088625, 518056539, 518003453, 518007532, 518065287, 518040711, 518681725, 518636635, 518611843, 518753259, 518766113, 518776749, 518437937, 513966164, 513888571, 513829681, 513826043, 513848572, 513811276, 513327201, 513327029, 513313397, 513239918, 513587390, 513560771, 513038777, 513065280, 513066954, 513078539, 513696389, 513639660, 513635786, 513798708, 513701976, 513428773, 513190241, 513183669, 513131146, 513156338, 513151460, 512933532, 512937496, 512923218, 512978755, 512975242, 512888200, 512836207, 512333938, 512299549, 512295760, 512281027, 512234018, 512227641, 512253027, 512263290, 512262183, 512219757, 512525231, 512524564, 512521420, 512098713, 512007438, 512687369, 512631220, 512608534, 512600862, 512666021, 512787843, 512708804, 512136869, 512165202, 512179340, 512143871, 512146716, 515932278, 515920401, 515953609, 515904977, 515947523, 515320189, 515358118, 515369370, 515371736, 515283360, 515228674, 515207892, 515242852, 515538455, 515507144, 515572788, 515549595, 515001641, 515065133, 515075915, 515070273, 515043459, 515046456, 515664262, 515640700, 515787814, 515754110, 515708732, 515702242, 515765521, 515717683, 515439632, 515432583, 515434971, 515427382, 515160823, 515143849, 510922694, 510922635, 510921023, 510962411, 510948731, 510881030, 510840013, 510389117, 510321026, 510373263, 510371694, 510258730, 510582544, 510544367, 510099534, 510000173, 510004344, 510689218, 510682230, 510666065, 510673624, 510797969, 510728192, 510456118, 510451082, 510462899, 510161725, 510113146, 516942463, 516823109, 516862358, 516350776, 516362057, 516280175, 516205746, 516265138, 516276375, 516596381, 516510813, 516094668, 516023494, 516689315, 516673319, 516475790, 517992129, 517924278, 517960593, 517830811, 517842422, 517330195, 517352031, 517378788, 517299574, 517296949, 517208943, 517218654, 517066843, 517079853, 517011902, 517631234, 517666155, 517703782, 517700997, 517152395, 517157776, 517165852, 517141761, 514925826, 514904814, 514965406, 514885132, 514832356, 514831937, 514864235, 514864634, 514397077, 514382353, 514368988, 514295183, 514236522, 514243104, 514247408, 514212598, 514528827, 514572263, 514059505, 514003583, 514012377, 514017924, 514651403, 514662912, 514679665, 514619481, 514780267, 514706203, 514765836, 514776751, 514743703, 514493883, 514427076, 514461936, 514183411, 514163259, 511924030, 511960155, 511918897, 511865917, 511867249, 511842059, 511847481, 511810785, 511391993, 511387772, 511384239, 511306431, 511312588, 511200438, 511272841, 511597460, 511697240, 511659468, 511606899, 511614058, 511782225, 511730947, 511736801, 511752334, 511771184, 511713677, 511438734, 511435992, 511435844, 511444660, 511198518, 511148021, 699998659, 699982544, 699906710, 699913231, 699806726, 699867496, 699875645, 699874986, 699871793, 699336578, 699306246, 699363241, 699319963, 699257041, 699240127, 699516568, 699025220, 699052106, 699005283, 699001218, 699067081, 699040748, 699016727, 699680522, 699655180, 699615805, 699792879, 699792494, 699783314, 699486663, 699430078, 699405962, 699160892, 699176214, 698955620, 698911091, 698867040, 698369412, 698238327, 698223971, 698227434, 698269521, 698249741, 698580179, 698571936, 698052823, 698050074, 698065073, 698635850, 698618170, 698793699, 698746692, 698409636, 698460938, 698442306, 698410843, 698195213, 698190327, 698159037, 693951912, 693908679, 693906060, 693966464, 693910845, 693839162, 693800156, 693352206, 693375101, 693293387, 693221664, 693266875, 693595300, 693594499, 693537598, 693524157, 693578615, 693062768, 693071548, 693013485, 693693187, 693798728, 693763346, 693774859, 693745000, 693426585, 693427852, 693402026, 693120484, 693175502, 692983853, 692956548, 692916581, 692882223, 692825399, 692824563, 692800584, 692845311, 692390164, 692394918, 692302699, 692307629, 692366501, 692314511, 692295331, 692257830, 692207785, 692263178, 692274225, 692214890, 692570894, 692570486, 692080794, 692051927, 692625865, 692651115, 692676720, 692796119, 692778366, 692744685, 692496833, 692422702, 692455033, 692467176, 692446577, 692103703, 692102889, 692179148, 692175455, 695965769, 695942817, 695914803, 695885764, 695805461, 695817857, 695301722, 695285012, 695252902, 695256028, 695585382, 695509798, 695572020, 695577870, 695574635, 695541562, 695633181, 695628013, 695611451, 695790267, 695783959, 695787009, 695722718, 695716970, 695421633, 695452938, 695165308, 690907180, 690904401, 690947862, 690852047, 690857510, 690307995, 690371359, 690319804, 690298552, 690283095, 690266532, 690242963, 690594072, 690570442, 690659372, 690791859, 690718666, 690439767, 690435136, 690412799, 690123147, 690120422, 690126815, 690121895, 690173294, 696993831, 696993646, 696954019, 696828672, 696805373, 696874751, 696848371, 696393151, 696294095, 696267735, 696279008, 696581524, 696528483, 696509235, 696693805, 696693738, 696624315, 696601294, 696487024, 696186015, 696121686, 697893639, 697808027, 697806974, 697390684, 697388995, 697329340, 697285957, 697229564, 697221353, 697272507, 697584200, 697524612, 697513788, 697033636, 697036170, 697004991, 697625067, 697654558, 697677754, 697729036, 697744753, 697155770, 697154470, 697179352, 694961572, 694947906, 694337651, 694372886, 694296552, 694228276, 694269017, 694276278, 694210067, 694584371, 694563874, 694561482, 694519280, 694031490, 694055692, 694067807, 694692528, 694657009, 694668682, 694677353, 694641449, 694731847, 694767365, 694462763, 694445352, 694177066, 691990893, 691960071, 691972613, 691970947, 691911816, 691897387, 691803715, 691869382, 691863448, 691861350, 691861367, 691879416, 691849499, 691382949, 691336257, 691318490, 691315024, 691259054, 691254887, 691214962, 691537986, 691020131, 691003766, 691048312, 691693297, 691608035, 691663029, 691649615, 691610833, 691798473, 691776966, 691743509, 691711013, 691420761, 691459274, 691150434, 689878794, 689334566, 689362710, 689379891, 689227026, 689255530, 689266586, 689594334, 689515946, 689090350, 689690647, 689685857, 689681544, 689602184, 689665558, 689670525, 689795858, 689739857, 689764422, 689741597, 689494510, 689403903, 689129416, 689164654, 689110880, 689110518, 688997808, 688994744, 688961181, 688975452, 688891650, 688860942, 688811069, 688350305, 688247707, 688595265, 688531756, 688565809, 688544045, 688099048, 688095413, 688094683, 688082163, 688006968, 688015479, 688697897, 688694779, 688637888, 688634127, 688609025, 688667854, 688667577, 688798736, 688722083, 688720287, 688707258, 688455819, 688408603, 688474725, 688442026, 688153189, 688144800, 683926120, 683903507, 683973907, 683946725, 683914537, 683889250, 683880850, 683838540, 683800690, 683875164, 683385117, 683324367, 683306513, 683379094, 683340678, 683289045, 683209491, 683216126, 683532463, 683572886, 683575051, 683073853, 683017856, 683638561, 683665839, 683767991, 683450797, 683475838, 683100898, 683149810, 683148507, 682980519, 682920746, 682952423, 682954872, 682976907, 682831562, 682302141, 682289354, 682268349, 682275974, 682558176, 682059067, 682013959, 682639893, 682627926, 682621187, 682609611, 682676196, 682642862, 682646447, 682732735, 682734805, 682754278, 682495946, 682482527, 682485159, 682439212, 682438153, 682463169, 682108683, 685901778, 685835912, 685848128, 685844136, 685819835, 685387292, 685330421, 685326452, 685371515, 685224998, 685275231, 685217043, 685599400, 685587223, 685526210, 685032440, 685000293, 685001680, 685693100, 685688923, 685635525, 685654995, 685608519, 685732926, 685729401, 685723508, 685702748, 685488144, 685191730, 685126530, 685101490, 685112510, 680986684, 680934366, 680943103, 680910534, 680839353, 680804242, 680875702, 680363168, 680365232, 680343233, 680315792, 680259395, 680253815, 680584376, 680551943, 680561953, 680510917, 680059254, 680052080, 680006023, 680001463, 680078651, 680011563, 680682820, 680636209, 680677373, 680643462, 680610371, 680775862, 680742074, 680433396, 680179959, 680143923, 686980697, 686987970, 686309773, 686361977, 686204146, 686515051, 686088276, 686083425, 686063686, 686067251, 686692265, 686685405, 686635353, 686731860, 686720721, 686776691, 686410945, 686129182, 686145250, 687895013, 687828514, 687803444, 687864802, 687861563, 687842678, 687357460, 687361311, 687293574, 687276653, 687568741, 687051424, 687014771, 687692405, 687686333, 687651917, 687670998, 687796424, 687729801, 687756291, 687763030, 687748761, 687746721, 687454201, 687196925, 687136917, 687120422, 687158205, 687107810, 687168137, 687148956, 684991528, 684955775, 684954232, 684900891, 684947557, 684851698, 684807371, 684867006, 684364489, 684375545, 684281866, 684257547, 684242728, 684585803, 684562705, 684543840, 684547129, 684082846, 684028594, 684608188, 684731608, 684404504, 684445390, 684416319, 684170781, 681925493, 681901671, 681963392, 681942821, 681872240, 681378566, 681312243, 681251138, 681249899, 681530617, 681567832, 681561426, 681570310, 681546998, 681005151, 681065013, 681043531, 681012180, 681779854, 681491050, 681486061, 681409121, 681401186, 681163630, 681172865, 639900354, 639965598, 639978539, 639975046, 639386608, 639324149, 639370209, 639347860, 639284200, 639226386, 639278160, 639218803, 639538077, 639572782, 639519799, 639514301, 639085961, 639000555, 639073362, 639663349, 639792395, 639788844, 639779048, 639443475, 639445558, 639413770, 639130840, 638822261, 638821525, 638863252, 638361771, 638315833, 638220613, 638261139, 638273622, 638214422, 638587812, 638565956, 638028963, 638065056, 638010159, 638693335, 638678584, 638670751, 638616822, 638732893, 638731189, 638756723, 638425483, 638403519, 638183917, 638136514, 638174057, 638115176, 633986020, 633981904, 633926569, 633919848, 633917539, 633852304, 633849566, 633816319, 633399632, 633321088, 633356020, 633310794, 633226502, 633215595, 633589646, 633560868, 633543138, 633087815, 633072590, 633657292, 633673990, 633672560, 633789838, 633785389, 633767821, 633458918, 633407731, 633125699, 633173911, 632997097, 632965859, 632911721, 632898049, 632862473, 632811415, 632321666, 632350852, 632295794, 632290663, 632281075, 632223552, 632260048, 632267624, 632599956, 632598089, 632504499, 632574674, 632091823, 632687574, 632687011, 632687769, 632605475, 632607717, 632601328, 632666112, 632618619, 632770116, 632748506, 632485941, 632414085, 632186203, 632150506, 635995464, 635934377, 635903146, 635975665, 635876298, 635871290, 635302395, 635201981, 635247601, 635212226, 635507650, 635034580, 635047893, 635682680, 635681065, 635655496, 635664917, 635677656, 635610166, 635774472, 635429959, 635469665, 635187185, 635151998, 635107803, 635162411, 630992746, 630939184, 630968362, 630912885, 630836574, 630870722, 630841667, 630361369, 630379371, 630225066, 630220922, 630207931, 630261670, 630246148, 630092416, 630081057, 630035200, 630077895, 630041490, 630015753, 630684575, 630631243, 630626329, 630655077, 630726331, 630707972, 630712642, 630483840, 630458630, 630194027, 630153919, 630157802, 630169159, 630113724, 636999067, 636921427, 636958959, 636965957, 636809097, 636800938, 636379208, 636375001, 636376145, 636318858, 636258304, 636253106, 636247985, 636585918, 636539907, 636572655, 636549291, 636541723, 636037775, 636007544, 636674363, 636649769, 636613420, 636486915, 636406446, 636407992, 637980129, 637936141, 637944287, 637829844, 637850895, 637385871, 637307810, 637292725, 637202589, 637594949, 637577719, 637029367, 637028170, 637062476, 637067197, 637689563, 637652987, 637733739, 637733747, 637732494, 637763962, 637770941, 637495074, 637483295, 637438256, 637424138, 637409278, 637409486, 637401386, 637188214, 637148253, 634968005, 634842836, 634383702, 634227742, 634224125, 634248597, 634521787, 634507847, 634513839, 634042929, 634047008, 634689387, 634600557, 634676294, 634780489, 634781166, 634748983, 634747196, 634717011, 634408005, 634472716, 631995081, 631935008, 631934906, 631958085, 631969055, 631891754, 631801908, 631393024, 631353239, 631284735, 631263559, 631278843, 631243495, 631538715, 631530079, 631558844, 631550966, 631554168, 631574509, 631548195, 631684777, 631605907, 631679931, 631648763, 631796519, 631739064, 631707811, 631778017, 631775421, 631741381, 631400183, 631471737, 631442434, 631156091, 629853608, 629368549, 629371245, 629341149, 629254835, 629219481, 629584652, 629579300, 629549207, 629515257, 629084343, 629033855, 629002864, 629624185, 629652760, 629602390, 629667016, 629664096, 629782799, 629720043, 629753052, 629706054, 629763806, 629775563, 629748932, 629493800, 629497932, 629452689, 629465193, 629460730, 629199646, 629194720, 629125021, 629100103, 628933369, 628924369, 628906457, 628941405, 628880262, 628837768, 628823683, 628870023, 628339790, 628304205, 628345597, 628295831, 628287891, 628235250, 628229827, 628229605, 628251847, 628260975, 628591236, 628084541, 628651713, 628604175, 628733160, 628432912, 628435245, 628132218, 628124078, 628119446, 623993402, 623951316, 623818998, 623383959, 623335631, 623348807, 623293734, 623254171, 623523137, 623576028, 623513719, 623688892, 623623135, 623657698, 623615722, 623736714, 623750826, 623741446, 623135195, 623131101, 623162140, 623110236, 622938905, 622952750, 622972817, 622886499, 622833975, 622833813, 622871596, 622230240, 622249224, 622544619, 622516348, 622091763, 622077899, 622019806, 622013432, 622616199, 622794335, 622702894, 622700514, 622488091, 622434380, 622185721, 622163702, 622164434, 622145896, 625937083, 625903750, 625977737, 625897388, 625389445, 625372545, 625274558, 625578231, 625082662, 625080657, 625059008, 625009651, 625011918, 625698129, 625601522, 625647404, 625737108, 625731146, 625723244, 625705253, 625776469, 625741325, 625429804, 625401636, 625443202, 625181536, 625134329, 625107846, 625116775, 620992222, 620979959, 620915408, 620823993, 620808820, 620806885, 620324711, 620236870, 620228914, 620201580, 620275253, 620270906, 620506543, 620005998, 620068242, 620068785, 620065012, 620633363, 620627006, 620667100, 620642451, 620792357, 620783012, 620754779, 620763425, 620483060, 620481953, 620422349, 620406227, 620469747, 620194451, 620123039, 620160812, 620174147, 626984557, 626972500, 626831352, 626822612, 626812859, 626810918, 626329964, 626294175, 626280361, 626284683, 626267392, 626219698, 626573418, 626544563, 626519652, 626070525, 626689466, 626606138, 626678081, 626798812, 626723061, 626778896, 626713440, 626483579, 626434560, 626403074, 626478590, 626471195, 626182049, 626134515, 626126582, 626164703, 627998957, 627998609, 627905445, 627965483, 627946590, 627836441, 627802431, 627842053, 627383099, 627383144, 627360621, 627289812, 627253819, 627261280, 627590703, 627503004, 627574067, 627039284, 627034205, 627022519, 627021335, 627058635, 627065991, 627040597, 627759796, 627772600, 627424712, 627456861, 627463171, 627461061, 627443891, 627445597, 627193043, 627192004, 627183245, 627153112, 624838455, 624875653, 624842593, 624395454, 624303282, 624366744, 624205647, 624201968, 624243417, 624540114, 624519896, 624065985, 624074018, 624042944, 624691820, 624638223, 624678989, 624641686, 624613919, 624726986, 624700319, 624778371, 624495515, 624435411, 624458000, 624475601, 624449081, 624442284, 621937652, 621963842, 621891856, 621837567, 621821936, 621850657, 621809625, 621865535, 621366680, 621268186, 621527232, 621563756, 621572406, 621543338, 621049646, 621604391, 621731824, 621765584, 621199123, 621138447, 621131860, 621121710, 621173393, 621140198, 659925635, 659905703, 659852088, 659866761, 659847920, 659847743, 659388763, 659387118, 659381565, 659302431, 659369388, 659378988, 659297830, 659297524, 659283726, 659287621, 659589606, 659078083, 659042943, 659013065, 659652868, 659619402, 659775978, 659487570, 659439017, 659412118, 659199830, 659185831, 659109330, 659108373, 658982268, 658925585, 658908463, 658961998, 658978421, 658893632, 658375110, 658311025, 658296156, 658294262, 658239204, 658256408, 658257161, 658245625, 658240579, 658530816, 658525989, 658507080, 658562709, 658545665, 658022697, 658073229, 658071949, 658607764, 658793925, 658791290, 658750588, 658416516, 658135943, 658105375, 653999133, 653903571, 653967271, 653943197, 653912591, 653893382, 653884606, 653843072, 653385797, 653323492, 653369074, 653368011, 653372601, 653312426, 653311824, 653237513, 653594919, 653537298, 653089899, 653083439, 653689515, 653674299, 653640916, 653798753, 653701666, 653763634, 653765803, 653198586, 653198105, 653195243, 653101996, 653167281, 653140811, 652900035, 652913217, 652834636, 652850276, 652807687, 652874454, 652396823, 652328688, 652303277, 652306573, 652367796, 652313166, 652232036, 652254757, 652214399, 652532878, 652531394, 652510788, 652022739, 652069101, 652623685, 652787959, 652754573, 652433461, 652435375, 652452058, 655913313, 655897847, 655883608, 655885371, 655839650, 655802131, 655862477, 655352145, 655379722, 655202426, 655214019, 655599378, 655559355, 655078405, 655073942, 655733641, 655726371, 655769233, 655765908, 655745813, 655432000, 655403684, 655415521, 655415198, 655113796, 650990959, 650994561, 650988512, 650938775, 650922685, 650905028, 650946731, 650917179, 650911335, 650884558, 650835315, 650389657, 650308102, 650368647, 650346150, 650259506, 650265315, 650267039, 650264972, 650214838, 650538652, 650553919, 650547932, 650083004, 650687441, 650650469, 650679020, 650740724, 650713435, 650490660, 650437537, 650473101, 650441858, 650194693, 650185494, 650171534, 650148451, 656994181, 656930486, 656905652, 656896429, 656833166, 656807237, 656819988, 656302139, 656364160, 656230374, 656200845, 656274750, 656274199, 656042760, 656040799, 656678255, 656731066, 656727469, 656758637, 656769346, 656742765, 656157167, 656106911, 657992499, 657932906, 657937069, 657950921, 657900386, 657964287, 657821575, 657391590, 657337621, 657304022, 657378878, 657282145, 657287299, 657252944, 657582531, 657024519, 657076740, 657046569, 657688614, 657631948, 657665394, 657644047, 657791984, 657783306, 657721815, 657704446, 657458382, 657452997, 657473069, 657470306, 657187185, 657136689, 657126140, 657104169, 657117865, 657114250, 654938079, 654915676, 654835353, 654321847, 654321496, 654342900, 654310198, 654253910, 654265934, 654212527, 654597794, 654521968, 654552028, 654036306, 654027856, 654683367, 654649964, 654641789, 654619504, 654791907, 654753542, 654483672, 654439532, 654425906, 654461627, 654168786, 654166237, 654148675, 654142329, 651980648, 651906818, 651912870, 651838795, 651827676, 651871861, 651394283, 651293011, 651262094, 651561199, 651048208, 651686868, 651601413, 651798105, 651752890, 651752441, 651777606, 651774663, 651481783, 651174225, 609989749, 609923918, 609904009, 609885273, 609838094, 609335129, 609327514, 609379805, 609208046, 609241706, 609210588, 609586850, 609538571, 609555108, 609570338, 609071818, 609653770, 609669077, 609665377, 609616782, 609785710, 609709397, 609710384, 609490834, 609405962, 609444158, 609416519, 609182845, 608990857, 608932748, 608881725, 608875046, 608357712, 608289980, 608273696, 608272199, 608504289, 608565732, 608545916, 608035551, 608042715, 608016467, 608606446, 608795356, 608425230, 608454121, 608445120, 608184053, 608165856, 608170247, 608177861, 603981887, 603926691, 603924211, 603956480, 603882948, 603852997, 603812370, 603353490, 603369617, 603294615, 603207707, 603599492, 603577851, 603542270, 603086230, 603639033, 603661239, 603645846, 603753995, 603709669, 603704378, 603778713, 603771124, 603749324, 603717319, 603717269, 603499044, 603499178, 603495818, 603407075, 603449720, 603154311, 603170208, 603116336, 602989388, 602930143, 602910246, 602855661, 602856028, 602801361, 602869879, 602323707, 602358236, 602302276, 602362392, 602376246, 602374369, 602229693, 602258728, 602277856, 602219268, 602527687, 602081791, 602034033, 602002192, 602696964, 602626587, 602615312, 602795618, 602737632, 602752164, 602492264, 602485238, 602484507, 602428711, 602448034, 602130280, 602145411, 602140960, 605993191, 605993102, 605970269, 605948547, 605363316, 605225950, 605276701, 605561453, 605093892, 605069527, 605043362, 605047679, 605041508, 605655046, 605651510, 605787241, 605700421, 605776788, 605432852, 605473393, 605477394, 605113547, 600999496, 600937963, 600962012, 600899977, 600892935, 600834863, 600831989, 600825951, 600821231, 600859500, 600843614, 600818103, 600382957, 600329632, 600225008, 600558636, 600500065, 600560217, 600091899, 600044709, 600698904, 600624937, 600605339, 600668839, 600786848, 600737400, 600496940, 600494649, 600472720, 600444518, 600100470, 600160249, 606935072, 606953046, 606905101, 606949265, 606942811, 606910366, 606857095, 606840611, 606846883, 606390854, 606301199, 606232323, 606225373, 606251251, 606251014, 606206268, 606274265, 606248330, 606590063, 606534108, 606632322, 606784426, 606701153, 606779388, 606495682, 606400011, 606181347, 606144699, 607950193, 607888150, 607876762, 607356479, 607366164, 607348006, 607298204, 607223892, 607252303, 607247717, 607213122, 607217476, 607544743, 607095246, 607031740, 607020290, 607064913, 607040061, 607044416, 607662630, 607612536, 607738682, 607729935, 607709035, 607768148, 607774741, 607746763, 607718629, 607433579, 607452850, 607454316, 607400409, 607156061, 604958497, 604900907, 604977090, 604833260, 604263590, 604574919, 604549065, 604030147, 604056849, 604629934, 604658864, 604657090, 604725643, 604774916, 604406139, 604460705, 604168206, 604146966, 604113350, 601954180, 601902959, 601978179, 601947228, 601890067, 601882673, 601880568, 601399567, 601323168, 601322192, 601304243, 601373194, 601285656, 601232161, 601221419, 601269701, 601213990, 601555912, 601511641, 601032187, 601003726, 601065288, 601076232, 601602899, 601649111, 601728667, 601704053, 601485492, 601487435, 601405769, 601465917, 601180483, 601152429, 601163716, 601170534, 669995630, 669955831, 669880913, 669817041, 669392786, 669280204, 669207581, 669217529, 669599189, 669588496, 669504616, 669086619, 669087151, 669047757, 669019988, 669638251, 669604725, 669731475, 669705022, 669473701, 669477154, 669449180, 669418306, 669413548, 669146842, 669115985, 669111550, 668870934, 668844841, 668309320, 668372302, 668345449, 668318476, 668291630, 668284379, 668273014, 668275434, 668573193, 668512707, 668080377, 668024149, 668069182, 668695834, 668694658, 668637826, 668628488, 668670071, 668702090, 668719771, 668488298, 668410428, 668196813, 668145973, 663998774, 663981216, 663944906, 663825501, 663808376, 663387513, 663303941, 663378227, 663347262, 663236877, 663249506, 663588677, 663587167, 663524051, 663501616, 663566879, 663567282, 663541499, 663517396, 663089954, 663035040, 663026385, 663072869, 663694691, 663631140, 663604852, 663604337, 663676029, 663616812, 663708826, 663487327, 663428727, 663417556, 663199306, 663155969, 663101812, 663114315, 662985764, 662958537, 662907158, 662917818, 662914386, 662889571, 662886144, 662351483, 662304017, 662279009, 662596919, 662534886, 662509598, 662568705, 662576660, 662514755, 662511916, 662634556, 662656415, 662707165, 662764776, 662188761, 662137550, 662129500, 662121337, 665938705, 665959001, 665960693, 665917967, 665849554, 665322884, 665366578, 665314853, 665253788, 665202523, 665270255, 665243104, 665591334, 665538849, 665537779, 665036083, 665071782, 665041739, 665636085, 665608647, 665668724, 665675776, 665670080, 665677209, 665648643, 665790943, 665790197, 665738188, 665720645, 665487320, 665113267, 660974892, 660836088, 660837720, 660821845, 660809249, 660819177, 660365068, 660297548, 660282494, 660222279, 660226111, 660593432, 660586601, 660552880, 660505544, 660544661, 660048157, 660697053, 660603726, 660600351, 660673365, 660644909, 660616421, 660454037, 660444138, 660132353, 660155681, 660178281, 660116624, 666954674, 666907991, 666835676, 666852257, 666397917, 666381920, 666301646, 666343427, 666269716, 666594519, 666573902, 666519283, 666781826, 666778039, 666713374, 666717106, 666434788, 666450251, 666463936, 666173332, 666172277, 667934252, 667926211, 667926075, 667976348, 667857009, 667802066, 667847216, 667811487, 667397306, 667323563, 667377575, 667242928, 667245324, 667591435, 667533589, 667515364, 667095910, 667090574, 667037517, 667073138, 667040384, 667623059, 667666000, 667753919, 667753050, 667756677, 667473631, 667194417, 667187427, 667135625, 667167287, 667144836, 664963113, 664966948, 664976597, 664944249, 664852131, 664878176, 664872577, 664358721, 664352639, 664354274, 664301523, 664290053, 664254810, 664202296, 664210529, 664211171, 664534225, 664557149, 664551219, 664505286, 664575446, 664515605, 664082876, 664084911, 664052411, 664062285, 664077645, 664683711, 664731573, 664458580, 664407869, 664157598, 664165374, 664143642, 664145001, 661963636, 661910789, 661823893, 661332851, 661300266, 661300045, 661375431, 661319498, 661290799, 661270622, 661274674, 661539987, 661520264, 661555683, 661578826, 661543178, 661089014, 661039565, 661062037, 661048574, 661045307, 661668690, 661780506, 661749722, 661745989, 661746474, 661426862, 661458894, 661147464, 661118730, 679996615, 679930534, 679850264, 679876378, 679351620, 679376677, 679289829, 679282784, 679287164, 679208465, 679276556, 679594404, 679574101, 679519950, 679517681, 679082649, 679085820, 679059879, 679059760, 679016445, 679608801, 679668271, 679671068, 679793725, 679722796, 679750238, 679777088, 679499454, 679490454, 679424845, 679466628, 679473473, 679197122, 679132356, 679102005, 679167057, 678927704, 678953625, 678821445, 678801940, 678843846, 678399731, 678352115, 678525810, 678563431, 678566990, 678547126, 678059743, 678640754, 678617987, 678729325, 678757588, 678701791, 678763092, 678760162, 678766686, 678777278, 678716735, 678453199, 678462645, 678464935, 678196759, 678150878, 673931857, 673955964, 673837441, 673853700, 673801213, 673332065, 673372008, 673344790, 673316038, 673286297, 673238309, 673266458, 673585625, 673581643, 673511456, 673084383, 673029885, 673003729, 673001198, 673018956, 673788854, 673727029, 673707490, 673743094, 673497718, 673415589, 673198193, 673153261, 673161551, 673149305, 673141262, 673141633, 673118941, 673113539, 672930528, 672926111, 672895829, 672821132, 672857972, 672879398, 672344743, 672253040, 672254356, 672204527, 672524752, 672518835, 672057981, 672013072, 672616331, 672739603, 672728606, 672723855, 672453665, 672405387, 672407189, 672401442, 672470468, 672417398, 672180124, 672116003, 675928819, 675894189, 675839323, 675835885, 675320889, 675301302, 675301039, 675375402, 675299161, 675283507, 675235671, 675269116, 675535655, 675537014, 675548032, 675095824, 675079396, 675076432, 675042267, 675014108, 675681200, 675623039, 675665373, 675671189, 675619973, 675784401, 675732361, 675777194, 675498666, 675423411, 675426327, 675457704, 675476973, 675193085, 675101930, 675161224, 670995603, 670938853, 670889488, 670828997, 670824108, 670399548, 670393341, 670329944, 670362349, 670367100, 670524162, 670555282, 670554294, 670563719, 670571107, 670541328, 670093973, 670083273, 670023444, 670061404, 670610745, 670703218, 670711274, 670408525, 670194419, 670188216, 670147568, 676924270, 676902768, 676963831, 676977736, 676886040, 676826933, 676824421, 676800355, 676845247, 676390754, 676323619, 676321912, 676319180, 676291143, 676200585, 676278737, 676241906, 676587590, 676520206, 676571979, 676023698, 676026614, 676019336, 676015796, 676760443, 676744317, 676415242, 676156195, 676106884, 676178209, 677952924, 677944364, 677833297, 677835809, 677390783, 677304970, 677318576, 677554782, 677514906, 677070181, 677690040, 677659812, 677648242, 677795503, 677729103, 677757293, 677719116, 677497987, 677460804, 677415529, 677154595, 677109427, 677109415, 677115661, 677114893, 674982047, 674921562, 674906155, 674944204, 674895713, 674831255, 674870803, 674383036, 674378189, 674341576, 674223230, 674208421, 674204622, 674268985, 674267159, 674557942, 674557791, 674562971, 674514871, 674022581, 674058472, 674696113, 674644778, 674619619, 674613771, 674759850, 674759542, 674758225, 674459869, 674198419, 674127916, 674124624, 674156091, 674178674, 671993978, 671929655, 671907722, 671365376, 671375161, 671314291, 671296561, 671232155, 671215954, 671215685, 671092479, 671622121, 671627149, 671652605, 671655547, 671657545, 671601121, 671679269, 671678683, 671789205, 671780006, 671751939, 671760506, 671407659, 671448517, 671440773, 671196167, 671184485, 671124651, 671117352, 649993419, 649997488, 649830961, 649856554, 649861248, 649875635, 649339842, 649320247, 649326523, 649354757, 649300727, 649372999, 649375829, 649284131, 649232718, 649209610, 649245917, 649218103, 649522349, 649504080, 649035565, 649021504, 649013565, 649694446, 649622667, 649790445, 649730265, 649481689, 649464429, 649125413, 649100789, 648956383, 648957014, 648947399, 648944393, 648888570, 648811785, 648393181, 648336408, 648320482, 648359960, 648317648, 648203161, 648525641, 648521206, 648553736, 648562000, 648517472, 648099687, 648082446, 648037951, 648037577, 648056676, 648019064, 648659062, 648666230, 648670298, 648724777, 648704266, 648741302, 648423822, 648450445, 648463572, 648473567, 648441874, 648412291, 648410601, 648410756, 648196017, 643992922, 643902258, 643826183, 643872206, 643811918, 643306011, 643343248, 643271481, 643245342, 643590436, 643557992, 643510218, 643008215, 643008704, 643000236, 643048562, 643638871, 643622217, 643787590, 643754064, 643452522, 643400813, 643466932, 643121048, 643150970, 642948441, 642912806, 642829547, 642856927, 642818743, 642394599, 642382653, 642231740, 642215583, 642542014, 642036856, 642034443, 642056446, 642060301, 642061707, 642043245, 642040925, 642041605, 642012280, 642650553, 642657897, 642668976, 642610116, 642789342, 642733478, 642710272, 642478973, 642195949, 642127543, 645998491, 645939795, 645900449, 645975028, 645866027, 645847058, 645818941, 645333368, 645328768, 645290180, 645297288, 645239247, 645275679, 645528805, 645527960, 645579618, 645547918, 645022576, 645052372, 645074924, 645043215, 645696182, 645638295, 645633316, 645620805, 645724107, 645756661, 645468874, 645462260, 645410943, 645197948, 645182437, 645139673, 645132068, 645152094, 645156455, 645100204, 640980996, 640929929, 640916972, 640828442, 640823479, 640822862, 640847394, 640365531, 640280929, 640231704, 640256704, 640246082, 640216676, 640539692, 640031504, 640071577, 640011344, 640630424, 640606974, 640643551, 640613366, 640782790, 640729686, 640771706, 640114801, 646836725, 646800991, 646334329, 646296332, 646296081, 646265955, 646265069, 646266780, 646538340, 646087044, 646046746, 646010720, 646622802, 646621646, 646652796, 646664489, 646648296, 646640601, 646739714, 646754392, 646708456, 646779394, 646740801, 646711339, 646185943, 646186242, 646107699, 646116118, 647925849, 647967452, 647975823, 647912278, 647807415, 647860608, 647843893, 647320400, 647309115, 647372930, 647340465, 647347334, 647280107, 647243257, 647594007, 647571796, 647511662, 647693872, 647695952, 647680985, 647750364, 647756231, 647754923, 647702682, 647772901, 647491780, 647142822, 644988384, 644951741, 644972937, 644945494, 644886721, 644833121, 644396780, 644323435, 644353516, 644308100, 644238817, 644232512, 644276760, 644248841, 644592624, 644548343, 644027245, 644064104, 644061868, 644076789, 644012494, 644738978, 644732638, 644720613, 644749154, 644740216, 644714683, 644499348, 644436247, 644192477, 644180057, 644127171, 644154140, 644161314, 644113399, 641952048, 641954307, 641970696, 641911689, 641896981, 641808778, 641817472, 641324051, 641355863, 641377801, 641371298, 641341167, 641553368, 641014364, 641679497, 641677869, 641614073, 641794032, 641791925, 641781488, 641726878, 641766330, 641452480, 641400673, 641404075, 641412639, 641412427, 641176591, 619928024, 619959175, 619963815, 619911731, 619353338, 619306074, 619378173, 619370960, 619318630, 619290065, 619220211, 619094547, 619053572, 619694149, 619722940, 619767770, 619716658, 619499453, 619436647, 619431604, 619472683, 619189215, 619185151, 618883270, 618825325, 618805267, 618864707, 618814423, 618385090, 618356213, 618365403, 618342814, 618340979, 618341621, 618233420, 618275832, 618529725, 618504957, 618504764, 618568043, 618546758, 618067217, 618070723, 618689683, 618661358, 618674590, 618612027, 618614869, 618730388, 618495028, 618194206, 618131163, 618152096, 618152028, 618118212, 613999517, 613901514, 613913221, 613828743, 613869444, 613865999, 613866028, 613861362, 613871813, 613841029, 613384520, 613331434, 613359792, 613237128, 613223949, 613222566, 613207634, 613583316, 613585114, 613574917, 613510260, 613002660, 613006067, 613070558, 613042269, 613613628, 613783729, 613488890, 613479309, 613479376, 613188847, 613168339, 613168679, 613179336, 612951706, 612905486, 612900942, 612910133, 612839188, 612838566, 612821084, 612821416, 612806954, 612868373, 612870914, 612847000, 612393587, 612366532, 612375038, 612280790, 612227418, 612200726, 612536778, 612546405, 612096959, 612054139, 612638576, 612605592, 612679428, 612780826, 612776719, 612740489, 612712245, 612715075, 612464873, 612192974, 612132045, 612122813, 615989017, 615984941, 615959075, 615915543, 615914225, 615891711, 615320905, 615308752, 615254786, 615210771, 615527099, 615551512, 615036980, 615006564, 615624702, 615654709, 615605876, 615600199, 615750460, 615751327, 615764612, 615469548, 615466591, 615475100, 615185580, 615103913, 615165767, 610808908, 610327787, 610369530, 610362699, 610319422, 610313916, 610280293, 610222270, 610257177, 610279047, 610274357, 610537124, 610543101, 610050513, 610054813, 610049266, 610019080, 610677135, 610615339, 610700154, 610771807, 610742561, 610719020, 610717367, 610490724, 610497274, 610489022, 610486585, 610420935, 610185707, 610171478, 610142306, 616965611, 616973932, 616916826, 616854589, 616800187, 616866989, 616812820, 616816719, 616380846, 616329108, 616326957, 616221953, 616273598, 616559202, 616500516, 616545165, 616510036, 616030558, 616051934, 616008456, 616042737, 616682514, 616638987, 616651953, 616665423, 616664502, 616796553, 616780520, 616713364, 616482838, 616411109, 616178425, 617892913, 617391973, 617356083, 617312799, 617290946, 617225989, 617271835, 617249820, 617213446, 617596677, 617589773, 617035278, 617020982, 617069640, 617063026, 617075286, 617014441, 617696855, 617645737, 617612406, 617789887, 617717597, 617711304, 617452971, 617455502, 617451059, 617402401, 617441007, 617199237, 617182227, 617139065, 617169239, 617114476, 614991399, 614938535, 614922787, 614921290, 614895129, 614864433, 614878781, 614819960, 614324430, 614321881, 614321687, 614302560, 614284073, 614202340, 614682664, 614631923, 614662806, 614673624, 614642475, 614619369, 614752921, 614755536, 614436114, 614405869, 614447166, 614139812, 614156998, 614172858, 614143266, 614141102, 614112189, 611956796, 611917140, 611895677, 611845085, 611846771, 611308456, 611372395, 611209430, 611212844, 611587191, 611521086, 611033613, 611027832, 611058441, 611042233, 611684772, 611456216, 611184454, 611165935, 611177478, 611145910, 611113951, 799929921, 799923980, 799963273, 799973395, 799942859, 799915240, 799808305, 799808095, 799328201, 799327527, 799283405, 799220591, 799251691, 799215035, 799595258, 799590889, 799518509, 799095178, 799051387, 799067890, 799072265, 799015536, 799731720, 799758270, 799702856, 799433169, 799429754, 799459995, 799462744, 799410682, 799138735, 799132548, 799125256, 799120583, 799163717, 799167237, 799141071, 798992088, 798984544, 798978120, 798977521, 798896383, 798879672, 798395599, 798338483, 798354461, 798378934, 798237105, 798261170, 798248521, 798519913, 798088715, 798020781, 798056418, 798069941, 798684495, 798650448, 798666289, 798675536, 798785791, 798709751, 798706338, 798763487, 798747751, 798486588, 798472930, 798476709, 798191555, 798139733, 798140179, 798113960, 798113347, 793990704, 793983647, 793850322, 793805476, 793875167, 793333731, 793355004, 793363638, 793361388, 793280370, 793280310, 793231281, 793226925, 793224204, 793536683, 793503201, 793567125, 793574816, 793058854, 793064345, 793061096, 793685881, 793700695, 793704973, 793493577, 793440048, 793446611, 793412294, 793412026, 793127375, 793109886, 793102890, 793165380, 793170694, 792925306, 792955166, 792896061, 792807067, 792865393, 792878890, 792846068, 792334866, 792323558, 792365130, 792367766, 792295837, 792288872, 792282128, 792229572, 792225855, 792024947, 792006794, 792004503, 792001630, 792016969, 792689391, 792656633, 792617739, 792725532, 792761211, 792409161, 792462749, 792441742, 792190292, 792186426, 792130790, 792122938, 792152471, 792167918, 795892085, 795829412, 795801249, 795864581, 795368669, 795244553, 795071094, 795633156, 795634464, 795631906, 795651528, 795651556, 795669668, 795789044, 795728090, 795748290, 795499333, 795432658, 795184442, 790994852, 790985947, 790909293, 790910269, 790899382, 790809360, 790811644, 790390342, 790304797, 790370045, 790221641, 790209325, 790202475, 790268799, 790271116, 790249918, 790599498, 790595173, 790043878, 790663599, 790785226, 790781613, 790728443, 790751208, 790703912, 790766383, 790764879, 790710482, 790498775, 790425112, 790449797, 790136366, 790109258, 790100058, 790179977, 790176605, 796995129, 796953644, 796974712, 796870604, 796398757, 796354926, 796305073, 796346834, 796317792, 796232958, 796559674, 796550784, 796091656, 796001464, 796040923, 796695552, 796607648, 796730912, 796484779, 796404733, 796464999, 796197930, 796183733, 796187775, 797985175, 797912446, 797846060, 797395321, 797376697, 797291407, 797287290, 797275811, 797218813, 797590496, 797536891, 797570093, 797518847, 797084850, 797048816, 797014623, 797698106, 797690932, 797606483, 797615173, 797707278, 797422753, 797192568, 797132657, 797164592, 794993193, 794937038, 794926018, 794927692, 794964852, 794896039, 794880572, 794809553, 794810092, 794387131, 794338228, 794223574, 794636551, 794609240, 794674534, 794671484, 794798735, 794757768, 794424477, 794408273, 794182957, 794182470, 794135681, 794125376, 794100759, 794176874, 794176006, 794174735, 794145715, 791988175, 791982784, 791986498, 791902129, 791960432, 791910864, 791861354, 791818271, 791398975, 791388739, 791337243, 791307889, 791368664, 791347017, 791296093, 791297015, 791289913, 791242814, 791559758, 791557445, 791570077, 791546346, 791094198, 791027124, 791059484, 791079309, 791792278, 791737359, 791766672, 791740517, 791716186, 791482522, 791460720, 791443957, 791419540, 791186949, 791100201, 791148480, 789957827, 789951456, 789907641, 789919510, 789915335, 789910308, 789833581, 789822836, 789380301, 789309014, 789314253, 789210500, 789533623, 789092098, 789089093, 789080849, 789070878, 789669631, 789677950, 789784786, 789703534, 789703574, 789427101, 789477542, 789410986, 789414578, 789197126, 789129468, 789126706, 789165664, 788931555, 788908938, 788941729, 788911450, 788824216, 788809692, 788804848, 788864295, 788817413, 788384979, 788295427, 788258557, 788251576, 788243908, 788218538, 788539144, 788552611, 788562965, 788576832, 788034255, 788073690, 788680740, 788744688, 788483777, 788430377, 788124830, 788150803, 783908888, 783900189, 783824495, 783857642, 783879121, 783819430, 783813613, 783393378, 783328481, 783359998, 783301161, 783371768, 783345952, 783235226, 783221906, 783256896, 783534755, 783082115, 783006296, 783007100, 783070162, 783019187, 783013309, 783691345, 783621062, 783670933, 783613308, 783793555, 783721228, 783777662, 783746765, 783496698, 783469591, 783462654, 783441660, 783186242, 782950253, 782949589, 782882965, 782869012, 782873455, 782816000, 782394231, 782329051, 782353569, 782360110, 782340404, 782523253, 782501965, 782519925, 782092378, 782086965, 782028220, 782640043, 782782655, 782749343, 782719574, 782718899, 782417631, 782136708, 782106403, 785956612, 785861309, 785872112, 785874220, 785355905, 785306198, 785307291, 785312869, 785222525, 785226154, 785257477, 785266315, 785272697, 785592051, 785590836, 785596222, 785591470, 785586096, 785522253, 785502505, 785502034, 785563659, 785098005, 785076276, 785013389, 785658286, 785646361, 785798072, 785786900, 785754097, 785458424, 785452940, 785410323, 785414603, 785414719, 785190218, 785159567, 780988595, 780980137, 780970953, 780894096, 780883917, 780834179, 780807890, 780318245, 780318624, 780316456, 780296950, 780238607, 780235940, 780227828, 780202141, 780592444, 780594897, 780552735, 780575408, 780024693, 780683005, 780624167, 780795609, 780787098, 780716105, 780195746, 780153841, 780152846, 780161668, 786989945, 786988884, 786933181, 786926846, 786916201, 786911973, 786808994, 786872806, 786333131, 786341678, 786203324, 786274011, 786218522, 786218680, 786594545, 786090108, 786022788, 786040916, 786010033, 786690112, 786626168, 786653308, 786613179, 786756577, 786715338, 786481640, 786405984, 786132274, 786136804, 786137026, 786100494, 786168173, 787993774, 787920018, 787911265, 787827788, 787868537, 787862001, 787845693, 787309378, 787299693, 787263619, 787262371, 787277211, 787213184, 787587303, 787532958, 787561226, 787657629, 787611113, 787730687, 787723059, 787706279, 787742140, 787497924, 787488222, 787195035, 787184538, 787156355, 787166022, 787170790, 784990455, 784959880, 784979475, 784830777, 784822876, 784853730, 784389022, 784333700, 784326550, 784303501, 784368105, 784280161, 784264173, 784243709, 784244682, 784210433, 784586671, 784581726, 784525964, 784556777, 784083077, 784087686, 784003138, 784000355, 784007724, 784016184, 784631975, 784626341, 784650818, 784608438, 784604267, 784675223, 784707083, 784763640, 784477565, 784180318, 784131758, 784151973, 784148911, 781985972, 781904049, 781809942, 781809134, 781356327, 781300423, 781283725, 781238752, 781226134, 781257810, 781268457, 781215941, 781532488, 781578647, 781573102, 781542258, 781542171, 781540413, 781085119, 781023753, 781041158, 781622323, 781663943, 781797273, 781754973, 781705990, 781744752, 781437681, 781456887, 781463582, 781444555, 781192589, 781124467, 739925579, 739925432, 739920414, 739951127, 739909812, 739962756, 739896652, 739891331, 739867831, 739849839, 739390322, 739333814, 739358859, 739225724, 739523244, 739543618, 739052757, 739003099, 739605983, 739600447, 739670647, 739671688, 739614145, 739737282, 739771277, 739428937, 739426890, 739126680, 738928942, 738963823, 738973004, 738838240, 738854767, 738876560, 738370902, 738290064, 738239024, 738208230, 738270752, 738573045, 738083950, 738053986, 738697675, 738634034, 738661618, 738794927, 738783472, 738766417, 738427387, 738450253, 738402443, 738199797, 738181338, 738140850, 738114116, 733978127, 733836303, 733804605, 733813985, 733352296, 733361322, 733317297, 733317003, 733234785, 733225473, 733532884, 733557793, 733566541, 733540769, 733027577, 733024017, 733052374, 733051116, 733004370, 733064657, 733045412, 733721922, 733741080, 733717791, 733497826, 733427912, 733424463, 733450093, 733467088, 733470405, 733448467, 733181617, 733140911, 732982874, 732959341, 732857164, 732868911, 732328875, 732355745, 732356603, 732304155, 732230086, 732226233, 732258108, 732256158, 732567138, 732043239, 732681229, 732632349, 732632293, 732604534, 732675437, 732641864, 732796509, 732727357, 732756262, 732747625, 732495991, 732416989, 732411103, 732158604, 735969456, 735912238, 735868069, 735876150, 735848919, 735813122, 735298058, 735221916, 735200439, 735278792, 735277494, 735593903, 735593701, 735585904, 735535616, 735091569, 735081648, 735021540, 735633998, 735663857, 735709976, 735743211, 735491910, 735438158, 735404380, 735417871, 735192098, 735189146, 735109310, 735168089, 730928024, 730956627, 730885653, 730867672, 730845984, 730338674, 730324129, 730220868, 730254352, 730248996, 730587010, 730532460, 730536753, 730553177, 730519917, 730065247, 730071483, 730628963, 730488928, 730476215, 730196322, 730103726, 730112585, 736923115, 736901803, 736916123, 736889521, 736869267, 736817600, 736814946, 736811628, 736811774, 736383608, 736335506, 736354981, 736344185, 736318963, 736222460, 736265351, 736274838, 736591003, 736585632, 736573162, 736099053, 736088239, 736061015, 736048001, 736650182, 736676160, 736797432, 736189358, 736187421, 736125574, 736159512, 736155725, 736166594, 736146362, 737928768, 737978758, 737945297, 737821982, 737872953, 737389954, 737362021, 737313091, 737292264, 737596227, 737538339, 737501566, 737095345, 737034804, 737055196, 737016429, 737643530, 737725531, 737757951, 737754981, 737704670, 737761271, 737716546, 737430529, 737437322, 737456947, 737418149, 737415556, 737122230, 734999321, 734969129, 734899094, 734831914, 734809059, 734862467, 734814415, 734398432, 734238328, 734266793, 734566416, 734085525, 734058914, 734008924, 734689808, 734613486, 734798569, 734733308, 734733623, 734707205, 734747091, 734716920, 734494322, 734460625, 734166934, 734170092, 734148097, 734147217, 734141377, 731996433, 731933081, 731829058, 731826816, 731857978, 731854837, 731330675, 731375042, 731225503, 731220513, 731251721, 731271195, 731531401, 731559561, 731504608, 731090821, 731094200, 731034273, 731696679, 731681384, 731624115, 731658959, 731653369, 731652128, 731798893, 731729261, 731777034, 731749221, 731744459, 731716957, 731130888, 731130523, 731121361, 731164993, 731141922, 729983315, 729974950, 729830281, 729387175, 729381131, 729369348, 729364810, 729377244, 729288287, 729507792, 729519272, 729519556, 729091948, 729030903, 729041129, 729019354, 729639213, 729624478, 729656226, 729796870, 729784285, 729487717, 729402428, 729405276, 729467513, 729125532, 729109630, 729170316, 728907552, 728821156, 728803451, 728860901, 728872919, 728843438, 728394175, 728353382, 728318476, 728205740, 728530638, 728089697, 728033927, 728032771, 728032198, 728074744, 728663785, 728664202, 728784711, 728720612, 728491569, 728455639, 728197458, 728151303, 728169736, 728164774, 723984904, 723968933, 723895026, 723890496, 723829844, 723820667, 723869732, 723368074, 723268039, 723265892, 723539696, 723528365, 723552254, 723505496, 723022335, 723693931, 723638843, 723654759, 723605051, 723667326, 723672126, 723677102, 723772025, 723716506, 723417086, 723186488, 723138858, 723104352, 723161824, 722980787, 722938883, 722920918, 722926211, 722927411, 722883966, 722825215, 722803717, 722865773, 722399815, 722338276, 722321965, 722230474, 722276987, 722581589, 722532426, 722575112, 722083651, 722085262, 722081403, 722048259, 722624412, 722655207, 722729678, 722751879, 722705799, 722766969, 722716979, 722498031, 722404670, 722475498, 722167244, 722171154, 722145669, 725921745, 725973907, 725831241, 725856352, 725845689, 725811638, 725353969, 725360545, 725347129, 725341830, 725237695, 725544028, 725516086, 725020785, 725026158, 725059520, 725077525, 725685392, 725620798, 725657894, 725601366, 725678102, 725790176, 725703519, 725740047, 725420070, 725462991, 725475496, 725417265, 725191545, 725121583, 725175477, 720983268, 720937096, 720926398, 720900978, 720979366, 720897497, 720820816, 720208365, 720272083, 720277189, 720244718, 720027690, 720017335, 720636118, 720622996, 720651489, 720609032, 720667223, 720760628, 720490951, 720488787, 720457581, 720402825, 720460048, 720184001, 720181960, 720135044, 720122715, 720121244, 720171544, 720144801, 720141923, 726959563, 726887178, 726856145, 726863451, 726391320, 726326532, 726309086, 726360857, 726528345, 726556141, 726574771, 726515289, 726698125, 726626251, 726672519, 726675784, 726616517, 726794145, 726720679, 726759936, 726742712, 726492782, 726435971, 726452846, 726443974, 726415137, 726157145, 727937579, 727906346, 727945290, 727820615, 727855446, 727804474, 727323930, 727348980, 727213263, 727525930, 727559129, 727554837, 727021353, 727001489, 727638389, 727660572, 727661576, 727616891, 727796378, 727738455, 727764271, 727773722, 727717389, 727189305, 727153022, 724958649, 724905817, 724979662, 724918283, 724895607, 724811370, 724350270, 724301494, 724372499, 724347326, 724230120, 724269143, 724266971, 724242978, 724211611, 724563064, 724016479, 724679468, 724644389, 724617253, 724732993, 724755058, 724748191, 724719902, 724497612, 724481834, 724481691, 724476387, 724135654, 724124035, 724118350, 721904217, 721963912, 721947303, 721814182, 721398505, 721230108, 721263345, 721260008, 721246307, 721584064, 721570261, 721545819, 721002581, 721049800, 721649611, 721796768, 721751331, 721768456, 721719129, 721714381, 721498447, 721459264, 759989989, 759923234, 759926584, 759955528, 759950995, 759907517, 759969185, 759880808, 759842308, 759360216, 759299401, 759228353, 759202781, 759597336, 759550114, 759561748, 759021117, 759071841, 759014431, 759692461, 759635008, 759626120, 759753675, 759707676, 759492578, 759486680, 759438134, 759446543, 759414022, 759191758, 759180359, 759162806, 758986765, 758928941, 758921372, 758902873, 758886661, 758873752, 758843517, 758397016, 758329358, 758351881, 758367548, 758290730, 758274066, 758545255, 758516801, 758094903, 758080836, 758038095, 758697918, 758637847, 758627474, 758621900, 758600123, 758643552, 758747170, 758493253, 758453282, 758469459, 758474035, 758444849, 758441795, 758418409, 758415753, 758132641, 758120864, 758100710, 758119043, 753984782, 753917395, 753899911, 753897871, 753824031, 753857197, 753867025, 753329024, 753359663, 753379101, 753261759, 753272121, 753213458, 753092614, 753074778, 753633291, 753623902, 753620125, 753785177, 753705205, 753700616, 753437245, 753424713, 753450493, 753122713, 753113555, 752979228, 752945753, 752941463, 752806882, 752861211, 752813908, 752327287, 752220254, 752597841, 752550260, 752562294, 752540250, 752087602, 752033946, 752059196, 752051900, 752062507, 752070576, 752074343, 752696314, 752731464, 752700294, 752480081, 752432191, 752445141, 752192722, 752196088, 752121635, 752168352, 752140255, 752141169, 755910216, 755897652, 755326373, 755321673, 755306762, 755363267, 755378577, 755345812, 755224275, 755224751, 755269604, 755218592, 755583370, 755576441, 755068859, 755048577, 755603272, 755665579, 755727930, 755756676, 755702648, 755747427, 755712388, 755710486, 755716005, 755494228, 755451101, 755466836, 755137078, 750995416, 750985984, 750903964, 750911151, 750899473, 750806840, 750847814, 750847282, 750812775, 750334125, 750320138, 750359159, 750371885, 750343834, 750222214, 750504899, 750560070, 750541759, 750061695, 750045311, 750694158, 750646225, 750789254, 750730356, 750726989, 750498290, 750492409, 750427271, 750409788, 750465181, 750466212, 750172696, 750110503, 756994622, 756952728, 756951895, 756968022, 756803650, 756807206, 756871743, 756322466, 756326153, 756353153, 756372686, 756287874, 756265246, 756099715, 756034922, 756621645, 756727759, 756711584, 756168536, 757992658, 757952714, 757905653, 757899450, 757865070, 757301656, 757295595, 757208476, 757207931, 757260862, 757260733, 757243773, 757598428, 757594945, 757529134, 757525862, 757553629, 757562935, 757024112, 757047288, 757630470, 757606269, 757662570, 757660429, 757470518, 757412743, 757123805, 757152963, 757176500, 757112502, 754969812, 754964872, 754964152, 754961613, 754978938, 754883906, 754865905, 754843039, 754841243, 754818140, 754360244, 754360073, 754228022, 754224548, 754202596, 754215307, 754584449, 754539737, 754571577, 754543816, 754545178, 754514493, 754006887, 754040761, 754687063, 754663430, 754671332, 754642663, 754730428, 754724758, 754759910, 754701220, 754767638, 754181385, 754129920, 754125914, 754115882, 751980759, 751953358, 751908689, 751973436, 751949082, 751856987, 751803096, 751381651, 751308007, 751287398, 751221887, 751221076, 751203868, 751206967, 751260933, 751581093, 751537486, 751509378, 751566411, 751576208, 751571624, 751082204, 751037789, 751057476, 751009841, 751665792, 751644070, 751762554, 751747642, 751473250, 751100274, 751166706, 709995175, 709963556, 709962407, 709898386, 709830853, 709820940, 709841062, 709390820, 709390503, 709374121, 709262744, 709274998, 709241815, 709599061, 709538758, 709549010, 709099927, 709618096, 709790785, 709722424, 709718667, 709710617, 709425612, 709450728, 709447487, 709417145, 709190762, 709178974, 709118368, 708976446, 708895443, 708891698, 708837425, 708842778, 708812742, 708393782, 708392160, 708319293, 708258048, 708266082, 708261055, 708590380, 708594914, 708557095, 708025258, 708077568, 708071414, 708018540, 708634993, 708656275, 708609078, 708738887, 708727072, 708433958, 708432345, 708431441, 708450381, 708450696, 708408051, 708199924, 708140895, 708111410, 703998976, 703997270, 703956934, 703954017, 703826936, 703381996, 703338070, 703356188, 703379601, 703209146, 703263546, 703573963, 703574129, 703059389, 703060359, 703071814, 703049218, 703019446, 703615802, 703735776, 703755542, 703400107, 703462573, 703464936, 703445087, 703418315, 703188359, 703149630, 702992159, 702959784, 702970042, 702974148, 702971041, 702910002, 702888260, 702851257, 702804403, 702866143, 702354354, 702229515, 702255602, 702267107, 702504608, 702510926, 702034936, 702070780, 702070700, 702076489, 702045194, 702684159, 702619062, 702794920, 702756962, 702706637, 702760408, 702482276, 702480497, 702422307, 702460811, 702466793, 702444043, 702181319, 705976144, 705919600, 705856022, 705872341, 705339264, 705357623, 705363899, 705378677, 705260827, 705267579, 705271259, 705213411, 705594112, 705002907, 705047981, 705017010, 705693702, 705694824, 705610564, 705759624, 705708666, 705769798, 705493213, 705475087, 705447156, 700959981, 700948776, 700838815, 700823375, 700803382, 700323678, 700320532, 700350762, 700304980, 700315284, 700311450, 700292807, 700590389, 700587421, 700538809, 700527283, 700563573, 700095688, 700026187, 700027534, 700693586, 700685987, 700680148, 700625714, 700624041, 700608972, 700679792, 700671303, 700642756, 700647816, 700798394, 700794368, 700786676, 700732132, 700722284, 700720304, 700755023, 700419439, 700100771, 700113600, 706923781, 706892884, 706887580, 706808566, 706849699, 706811394, 706327712, 706245056, 706557466, 706508143, 706561512, 706516733, 706058932, 706053258, 706051964, 706005372, 706076290, 706011086, 706683751, 706655458, 706678298, 706615607, 706735064, 706432973, 706415294, 706186700, 706136349, 707924360, 707900661, 707396742, 707356915, 707343559, 707318871, 707313909, 707280593, 707222148, 707225870, 707226294, 707541145, 707085972, 707030750, 707068324, 707018982, 707783885, 707759826, 707760483, 707423955, 707404905, 707120496, 707159954, 707159513, 707110314, 704982929, 704958923, 704890903, 704885466, 704384540, 704335387, 704302714, 704369605, 704311816, 704238073, 704259545, 704207864, 704260683, 704266397, 704595066, 704583494, 704536387, 704537270, 704520310, 704511209, 704098363, 704095957, 704056388, 704651448, 704608310, 704739851, 704750896, 704773919, 704777043, 704436367, 704188981, 704132737, 704109372, 701951454, 701970711, 701858649, 701816070, 701366262, 701311963, 701280123, 701286897, 701239760, 701200816, 701263534, 701276956, 701535945, 701563421, 701573522, 701092281, 701083417, 701038214, 701032001, 701076588, 701013298, 701017655, 701680179, 701628501, 701648513, 701790282, 701785395, 701495398, 701458600, 701452324, 701465254, 701466968, 701441611, 701188571, 701180961, 701156013, 701114861, 769965073, 769858917, 769384147, 769322189, 769307023, 769378316, 769319131, 769298170, 769294481, 769238229, 769253453, 769581797, 769506020, 769547435, 769030285, 769043687, 769782810, 769489371, 769409230, 769419126, 769183358, 769124787, 769155395, 769150454, 768985100, 768980213, 768938591, 768906354, 768979217, 768836286, 768871926, 768847173, 768345295, 768297733, 768235489, 768245291, 768211685, 768597920, 768514417, 768030830, 768031172, 768063595, 768060730, 768045815, 768650221, 768609078, 768605510, 768754838, 768768733, 768765016, 768711066, 768489797, 768436896, 768419668, 768411609, 768198912, 768184231, 768131427, 768145538, 768110954, 768110737, 763898662, 763838182, 763859890, 763809447, 763301861, 763344790, 763238819, 763236430, 763206921, 763265773, 763279766, 763028719, 763020361, 763055742, 763001554, 763079265, 763049983, 763680000, 763664171, 763676666, 763613068, 763792635, 763733864, 763759708, 763750936, 763496757, 763461861, 763414754, 763187306, 763181391, 763127207, 763112399, 762966874, 762942521, 762838971, 762853916, 762808944, 762329284, 762329556, 762370546, 762315722, 762231412, 762256873, 762517661, 762018790, 762619198, 762798104, 762701476, 762497048, 762108132, 762103420, 762176574, 765990171, 765929700, 765927446, 765979833, 765946061, 765823667, 765848123, 765325339, 765293463, 765259736, 765201479, 765269089, 765270747, 765218165, 765590880, 765536786, 765558864, 765089996, 765021828, 765014536, 765684049, 765600621, 765614048, 765742498, 765436925, 765437676, 765421243, 765452625, 765405754, 765406171, 765407427, 765467327, 765158272, 765154969, 765147092, 765119809, 760937248, 760393929, 760332847, 760376742, 760316554, 760293109, 760539340, 760505766, 760565815, 760576317, 760510603, 760083565, 760005499, 760001664, 760042834, 760764589, 760715093, 760436334, 760423206, 760475608, 760100775, 766937968, 766957001, 766913355, 766822467, 766848320, 766388104, 766387985, 766364096, 766287988, 766203923, 766266706, 766274698, 766580999, 766508851, 766500546, 766545855, 766085591, 766026623, 766056406, 766068280, 766692758, 766696680, 766620889, 766641550, 766795902, 766115746, 767958789, 767954835, 767903425, 767885747, 767832861, 767870325, 767399769, 767348698, 767269316, 767214879, 767214080, 767564321, 767570309, 767546148, 767547482, 767513621, 767023041, 767079393, 767075685, 767647420, 767735683, 767737781, 767726216, 767759492, 767713669, 767478389, 767180339, 767129811, 764987538, 764924089, 764963527, 764865877, 764871593, 764818382, 764357618, 764364215, 764361708, 764318933, 764229144, 764522265, 764502607, 764506797, 764098258, 764088192, 764009989, 764063332, 764676842, 764676612, 764648906, 764738419, 764741656, 764429347, 764417669, 764188904, 761984600, 761981036, 761929243, 761953584, 761847177, 761397113, 761391363, 761391416, 761374368, 761233249, 761227019, 761243509, 761243799, 761246537, 761518047, 761098674, 761089909, 761081667, 761039828, 761024437, 761631703, 761628821, 761615929, 761729226, 761701801, 761762362, 761766114, 761777486, 761414769, 761175786, 761171009, 761113046, 779983287, 779925046, 779957944, 779954021, 779902706, 779960452, 779971795, 779946049, 779389795, 779334730, 779315935, 779316711, 779249045, 779581714, 779527757, 779512196, 779514691, 779087512, 779077010, 779011369, 779629680, 779656524, 779669605, 779783057, 779727112, 779750075, 779750611, 779499832, 779499277, 779485666, 779185813, 779162248, 779175508, 779145530, 778987592, 778911598, 778803283, 778847897, 778812371, 778394254, 778312188, 778294370, 778559613, 778556075, 778098005, 778036217, 778062411, 778683245, 778683667, 778638269, 778662650, 778788756, 778727227, 778754343, 778760981, 778766383, 778774669, 778427324, 778473934, 778442465, 778164409, 778172490, 773978891, 773973041, 773977882, 773942058, 773838591, 773856775, 773861053, 773817996, 773283248, 773589069, 773500876, 773563202, 773032022, 773035531, 773698624, 773697603, 773658608, 773662972, 773670419, 773646829, 773644424, 773788722, 773777267, 773771932, 773497977, 773482184, 773480901, 773456970, 773472153, 773416584, 773135478, 773122541, 773179223, 773146920, 772958549, 772971465, 772949160, 772838818, 772831010, 772805942, 772392590, 772339368, 772321183, 772364608, 772378492, 772373336, 772283422, 772233300, 772236943, 772223179, 772272548, 772583871, 772586898, 772528979, 772504655, 772517693, 772031256, 772052396, 772054307, 772068294, 772693482, 772689017, 772621976, 772602335, 772647131, 772730394, 772748667, 772748703, 772740849, 772424604, 772408667, 772442574, 772183593, 772133326, 772156472, 775952447, 775950366, 775963278, 775970661, 775825145, 775851787, 775812954, 775373533, 775349569, 775343143, 775340013, 775237418, 775590551, 775550386, 775564809, 775541422, 775035753, 775057947, 775009653, 775003151, 775693226, 775696538, 775628321, 775623867, 775626436, 775615496, 775737928, 775485256, 775485782, 775410323, 775136386, 775153146, 775163362, 775144219, 770978420, 770898338, 770800880, 770878985, 770874285, 770818237, 770288785, 770280598, 770264096, 770242482, 770595363, 770588040, 770506057, 770512133, 770516065, 770081929, 770054780, 770075049, 770011267, 770683420, 770662432, 770640874, 770759069, 770751421, 770777537, 770400178, 770461949, 770144254, 776923887, 776953707, 776941476, 776818174, 776383108, 776367978, 776371359, 776345598, 776298512, 776288994, 776265953, 776550863, 776568867, 776540729, 776035653, 776036362, 776023732, 776072880, 776074180, 776019353, 776013343, 776682484, 776603015, 776678255, 776614978, 776799173, 776798022, 776793128, 776789864, 776753293, 776744620, 776714793, 776139779, 776142078, 776140770, 776112262, 776114250, 777992133, 777931044, 777957612, 777800398, 777806019, 777346510, 777346010, 777283458, 777238393, 777234523, 777250941, 777256733, 777249170, 777218141, 777578580, 777097876, 777032431, 777026473, 777689005, 777787300, 777703884, 777771739, 777448828, 777187120, 777138265, 777141808, 777115750, 777110283, 777114989, 774998123, 774985076, 774985745, 774935517, 774951283, 774825075, 774383117, 774335048, 774336902, 774334004, 774305916, 774362449, 774318879, 774318323, 774229488, 774265354, 774261811, 774599482, 774590669, 774089393, 774053995, 774043070, 774697322, 774621809, 774657206, 774601079, 774739636, 774734763, 774704915, 774438829, 774461371, 774107432, 771965739, 771948323, 771941811, 771911087, 771829537, 771385599, 771381166, 771362648, 771342394, 771589918, 771531627, 771556267, 771506974, 771564487, 771515181, 771517953, 771033350, 771692138, 771695051, 771657293, 771678371, 771730462, 771715978, 771715342, 771453158, 771195394, 771197733, 771189257, 771128874, 771125725, 771109153, 749989508, 749939374, 749946992, 749947755, 749835505, 749863507, 749813711, 749330652, 749351893, 749304778, 749369719, 749346830, 749260237, 749593835, 749572219, 749548274, 749042575, 749616148, 749753273, 749743835, 749741726, 749712475, 749716520, 749484758, 749475197, 749417004, 749189877, 749151625, 749106764, 749168830, 749163899, 749163838, 749114064, 748937677, 748959251, 748958149, 748902366, 748960823, 748949691, 748916472, 748875115, 748396736, 748388894, 748383434, 748352399, 748364597, 748364099, 748297109, 748226275, 748226426, 748208217, 748240015, 748241488, 748595704, 748535916, 748558978, 748515350, 748091846, 748082108, 748085770, 748038078, 748021373, 748696297, 748637858, 748629566, 748603609, 748674571, 748769003, 748776812, 748743778, 748495897, 748485343, 748451795, 748478120, 748187896, 748168325, 748148016, 748140486, 743979719, 743884246, 743819332, 743309760, 743294816, 743254286, 743268642, 743273315, 743595606, 743530773, 743536825, 743552999, 743088741, 743037646, 743078466, 743014245, 743631838, 743727903, 743747694, 743712365, 743717444, 743438725, 743460228, 743479203, 743193783, 743120917, 743150910, 743170738, 743144677, 742998687, 742982791, 742980825, 742923043, 742913900, 742915281, 742867836, 742861662, 742322665, 742359975, 742294253, 742294021, 742242372, 742244040, 742211511, 742548985, 742515042, 742085947, 742071863, 742627155, 742612727, 742781549, 742740230, 742713693, 742490693, 742427380, 742139465, 742109894, 745983425, 745837353, 745844906, 745362794, 745238858, 745238709, 745226437, 745249267, 745557989, 745542638, 745519938, 745084010, 745070611, 745637339, 745650416, 745604051, 745642319, 745482772, 745463033, 740932096, 740934284, 740965844, 740971333, 740913808, 740850104, 740857051, 740802744, 740819530, 740278690, 740596349, 740547550, 740090547, 740014369, 740657372, 740668536, 740614374, 740611338, 740733319, 740775181, 740428416, 740402282, 740188318, 740133219, 740145479, 740118695, 740110247, 740116226, 746984058, 746938650, 746962084, 746919760, 746887135, 746374113, 746246112, 746588416, 746531354, 746507435, 746542397, 746095950, 746691678, 746656702, 746783886, 746453218, 746455344, 746460221, 746191084, 747981919, 747952640, 747904518, 747882406, 747355667, 747303344, 747303425, 747305829, 747377966, 747340257, 747228537, 747209767, 747204601, 747244775, 747210481, 747216988, 747525702, 747508995, 747560533, 747022526, 747063741, 747600494, 747663475, 747678111, 747645208, 747116873, 744939419, 744910275, 744883378, 744883123, 744838130, 744851619, 744815992, 744356908, 744374184, 744233070, 744208089, 744589180, 744587193, 744507355, 744038890, 744023464, 744005135, 744076438, 744048108, 744634413, 744624239, 744645372, 744799517, 744705308, 744760438, 744749849, 744745816, 744498366, 744488320, 744481274, 744191073, 744185375, 744141132, 741999956, 741980583, 741971652, 741881145, 741390072, 741325520, 741359564, 741375646, 741345156, 741291953, 741280123, 741232644, 741278890, 741573814, 741633559, 741672407, 741677504, 741616999, 741762396, 741433073, 741476260, 741188303, 741134630, 741101276, 719998144, 719929601, 719895241, 719894769, 719882723, 719885125, 719868262, 719398384, 719385607, 719365863, 719365281, 719378770, 719283407, 719284242, 719234609, 719212511, 719537216, 719555769, 719500687, 719030744, 719632147, 719634628, 719603671, 719663936, 719786258, 719728238, 719755551, 719748529, 719408676, 719405658, 719468396, 719440219, 719412809, 719181364, 719137644, 719123193, 719113028, 718930474, 718838414, 718826422, 718384523, 718368868, 718286006, 718263218, 718273352, 718213890, 718591238, 718522491, 718510725, 718511632, 718092962, 718090489, 718037730, 718004268, 718686592, 718635296, 718660954, 718613043, 718746311, 718493685, 718425052, 718479989, 718441609, 718195883, 718187513, 718125335, 718143683, 713851592, 713868983, 713292020, 713200995, 713200861, 713274672, 713592188, 713032043, 713009624, 713075499, 713074742, 713047508, 713689708, 713633253, 713661892, 713793099, 713494052, 713488278, 713455680, 713470336, 713125888, 713141516, 712931340, 712911581, 712892174, 712881492, 712802714, 712864795, 712815055, 712394174, 712368095, 712365101, 712348267, 712293376, 712255390, 712212120, 712583819, 712538071, 712549686, 712542304, 712033872, 712052878, 712008410, 712683653, 712680499, 712681587, 712601198, 712794832, 712781983, 712773494, 712774237, 712743940, 712428782, 712446151, 712160308, 715937846, 715976261, 715915318, 715910148, 715869312, 715874685, 715346613, 715221378, 715264562, 715243303, 715504189, 715512635, 715089338, 715023524, 715006337, 715066142, 715655631, 715603795, 715646913, 715618058, 715613787, 715799729, 715759705, 715771962, 715499478, 715474935, 715154942, 710968256, 710913866, 710911571, 710831934, 710809385, 710387057, 710308375, 710281850, 710253276, 710205259, 710528296, 710528058, 710557855, 710501595, 710576409, 710544852, 710003851, 710699994, 710694915, 710655372, 710611239, 710796013, 710731789, 710758464, 710750975, 710756291, 710705467, 710762336, 710714174, 710491412, 710488241, 710461924, 710417349, 710131544, 710120263, 710104875, 716931113, 716973614, 716942014, 716889081, 716882030, 716839025, 716820753, 716867602, 716301295, 716349764, 716318055, 716314266, 716225995, 716227925, 716253349, 716269231, 716520513, 716003726, 716062263, 716694040, 716694418, 716631245, 716628933, 716784189, 716759083, 716755417, 716754282, 716764207, 716453733, 716401943, 716461223, 716461516, 716125192, 716177665, 716146450, 717987422, 717977851, 717893586, 717882772, 717885861, 717886131, 717850100, 717863379, 717385882, 717325777, 717302969, 717363755, 717342501, 717317573, 717286830, 717220773, 717263792, 717261523, 717270620, 717587679, 717570121, 717091734, 717050375, 717048725, 717044499, 717680746, 717687336, 717684894, 717681754, 717636994, 717629614, 717676809, 717756930, 717705791, 717135435, 717130865, 717121215, 717121722, 717159540, 714999653, 714922199, 714850544, 714812113, 714810832, 714328937, 714316391, 714299210, 714293337, 714239255, 714263816, 714265902, 714534048, 714568360, 714096490, 714087571, 714033375, 714037597, 714004778, 714047146, 714634153, 714601719, 714672194, 714762296, 714717865, 714488848, 714422361, 714441848, 714128152, 714123603, 714148967, 714146416, 711933426, 711950932, 711914754, 711883461, 711823027, 711845203, 711812228, 711395282, 711337052, 711320026, 711351525, 711349517, 711288256, 711200795, 711260200, 711082068, 711087654, 711032752, 711063236, 711064041, 711620980, 711670228, 711617774, 711795009, 711790722, 711725906, 711724449, 711494786, 711459410, 711405517, 711470669, 711412168, 711195894, 711186898, 711126017, 499998511, 499988560, 499917988, 499826785, 499852981, 499879096, 499842809, 499367712, 499581457, 499501619, 499560109, 499039411, 499055030, 499004156, 499692810, 499601162, 499780809, 499732772, 499724443, 499499066, 499488294, 499428814, 499423142, 499452900, 499401827, 499462246, 499170854, 499117442, 498986772, 498928429, 498953121, 498830496, 498857904, 498309415, 498298045, 498222882, 498243513, 498211510, 498534112, 498555054, 498092761, 498022723, 498671239, 498611783, 498745053, 498451110, 498446803, 498410010, 498199178, 498171314, 493990122, 493925102, 493954287, 493904925, 493972876, 493975533, 493887551, 493803783, 493392767, 493387364, 493384163, 493333402, 493307934, 493319126, 493318835, 493313642, 493226170, 493278032, 493277914, 493271884, 493240834, 493566956, 493576319, 493038003, 493021422, 493003175, 493000514, 493007737, 493070306, 493042738, 493622021, 493657929, 493601625, 493619937, 493612314, 493795415, 493731256, 493750431, 493496725, 493429901, 493180255, 493140314, 492938059, 492924237, 492909016, 492914026, 492828255, 492862697, 492845507, 492384767, 492349559, 492346295, 492344858, 492289144, 492275695, 492246379, 492596321, 492580264, 492555360, 492021476, 492052224, 492604998, 492663162, 492667066, 492753575, 492767033, 492740310, 492744278, 492430418, 492456884, 492464936, 492199233, 492190392, 492129675, 492109034, 492161796, 492171775, 492115647, 495952422, 495902846, 495977967, 495329853, 495329543, 495253687, 495544323, 495054654, 495009692, 495071681, 495046929, 495608121, 495616437, 495728352, 495701107, 495710265, 495714039, 495133631, 490989368, 490915014, 490898826, 490824226, 490382991, 490345593, 490318618, 490027241, 490065903, 490632411, 490606516, 490665322, 490672341, 490796382, 490739743, 490756424, 490777278, 490717462, 490717147, 490476194, 490419941, 490158822, 490109379, 496999899, 496934867, 496926546, 496919374, 496835034, 496367891, 496373621, 496310553, 496310720, 496299791, 496298680, 496289578, 496238629, 496236258, 496229334, 496201257, 496580926, 496523602, 496522389, 496091635, 496012086, 496672620, 496754511, 496761436, 496717436, 496439557, 496450324, 496141436, 497923015, 497922232, 497920864, 497961255, 497895816, 497896169, 497863131, 497875264, 497841292, 497332730, 497335564, 497313618, 497232962, 497205983, 497246138, 497585962, 497505810, 497570874, 497007839, 497001330, 497060136, 497692844, 497685349, 497638203, 497652429, 497677362, 497648921, 497761547, 497770674, 497492057, 497487701, 497435861, 497459230, 497419229, 497416436, 497138181, 497133784, 497147811, 494999372, 494998800, 494967719, 494976328, 494857617, 494332694, 494320046, 494320183, 494308596, 494304015, 494360496, 494224870, 494256401, 494208219, 494522201, 494023429, 494055508, 494068278, 494071339, 494695598, 494634527, 494662594, 494679274, 494672135, 494796006, 494753194, 494495326, 494455602, 494475395, 494447254, 494411487, 491934403, 491969224, 491353510, 491352987, 491361635, 491375601, 491340853, 491310421, 491233142, 491260580, 491247442, 491215894, 491217166, 491598962, 491505203, 491572898, 491084788, 491017691, 491628663, 491624300, 491615571, 491783472, 491780349, 491729037, 491709355, 491707750, 491762343, 491717862, 491135739, 491177289, 491140142, 491119427, 491114953, 489956082, 489919279, 489822313, 489852951, 489803270, 489302936, 489364356, 489284647, 489230485, 489221247, 489262639, 489526741, 489503435, 489004485, 489018963, 489699537, 489628660, 489621052, 489651383, 489749300, 489186300, 489135730, 489114934, 488977182, 488945864, 488841865, 488282533, 488228920, 488228583, 488220863, 488597921, 488059614, 488053161, 488004115, 488624086, 488659151, 488707806, 488196964, 488132133, 488122766, 483929245, 483927769, 483952973, 483901759, 483976800, 483947077, 483887080, 483879233, 483876109, 483320330, 483376812, 483344275, 483290207, 483296529, 483227191, 483271354, 483596051, 483586158, 483524095, 483500491, 483087923, 483081574, 483065359, 483044735, 483018079, 483665943, 483787335, 483725644, 483756304, 483481465, 483181370, 482981578, 482920408, 482838981, 482853184, 482842994, 482847206, 482350573, 482303108, 482363487, 482311067, 482293973, 482232016, 482218679, 482531810, 482033908, 482051393, 482061188, 482630671, 482629540, 482655248, 482603240, 482647852, 482789403, 482404245, 482126212, 482173942, 482177126, 485971358, 485869669, 485845325, 485814524, 485398211, 485372053, 485342248, 485299394, 485229409, 485223679, 485262407, 485243941, 485244031, 485583637, 485559162, 485543961, 485058142, 485692376, 485625242, 485650527, 485744127, 485497286, 485486467, 485420650, 485194128, 480977697, 480948318, 480855808, 480869772, 480815963, 480388732, 480369705, 480299192, 480258022, 480250447, 480202635, 480200856, 480599911, 480571104, 480060789, 480049132, 480040714, 480689527, 480633260, 480633072, 480607005, 480643210, 480788824, 480773013, 480492439, 480481090, 480431492, 480427003, 480470163, 480126484, 480118855, 486995401, 486953444, 486910950, 486827762, 486850757, 486359430, 486344492, 486225506, 486002349, 486689750, 486630843, 486790772, 486780767, 486424921, 486409966, 486142570, 486118610, 486116230, 487921084, 487959273, 487958753, 487979314, 487912265, 487894682, 487878061, 487333999, 487325033, 487358625, 487270891, 487590916, 487552965, 487086315, 487033654, 487029345, 487024299, 487067023, 487680083, 487620756, 487626827, 487627135, 487607404, 487789726, 487780512, 487739447, 487737897, 487734817, 487725616, 487745328, 487741551, 487483911, 487436608, 487429773, 487460372, 487199814, 487167570, 484947494, 484913671, 484338793, 484356844, 484372016, 484370481, 484376379, 484296642, 484234211, 484260580, 484276962, 484538084, 484537203, 484523949, 484502562, 484567675, 484513745, 484097276, 484086005, 484025952, 484073129, 484686722, 484681595, 484650806, 484408990, 484400468, 484468992, 484446095, 484183386, 484131774, 481921193, 481963108, 481964271, 481880553, 481821703, 481390392, 481258372, 481522842, 481504276, 481510874, 481517932, 481098236, 481031333, 481003364, 481004836, 481696751, 481654836, 481605786, 481732234, 481702418, 481706265, 481716839, 481496073, 481480146, 481486844, 481400132, 481467498, 481103882, 481179014, 481174849, 481140257, 439974810, 439943806, 439940877, 439815055, 439371379, 439310594, 439269285, 439260616, 439585753, 439535182, 439537337, 439562379, 439566413, 439574991, 439087400, 439003295, 439049877, 439043152, 439691466, 439622908, 439780395, 439738103, 439702067, 439766821, 439469825, 439463428, 439414004, 439186637, 439123203, 438992181, 438924703, 438397173, 438283469, 438237200, 438221995, 438250598, 438209159, 438204741, 438245179, 438547366, 438092189, 438087817, 438058928, 438069749, 438685107, 438681818, 438659475, 438602211, 438675105, 438645067, 438640345, 438792692, 438736918, 438483697, 438482543, 438404788, 438133922, 438104642, 438110508, 438116956, 433983028, 433981187, 433930937, 433934097, 433946920, 433892646, 433882253, 433850991, 433383579, 433362951, 433341110, 433239941, 433237174, 433207989, 433201664, 433265065, 433214481, 433597647, 433528142, 433565459, 433097863, 433060028, 433067178, 433042216, 433040335, 433627999, 433657498, 433732199, 433727907, 433708066, 433420148, 433421840, 433472038, 433136321, 432913551, 432912556, 432830145, 432863829, 432864416, 432840422, 432318234, 432212701, 432216857, 432216875, 432211952, 432585483, 432528539, 432552121, 432068404, 432018991, 432013974, 432678753, 432644760, 432704793, 432767766, 432742115, 432715050, 432711826, 432711206, 432401713, 432448996, 432443936, 432442709, 432195181, 432154552, 432163594, 435956041, 435905096, 435940293, 435910745, 435855876, 435870554, 435353081, 435314211, 435536691, 435537809, 435524165, 435067563, 435045396, 435659476, 435469069, 435195247, 435197511, 435169510, 430893600, 430823503, 430842220, 430810337, 430396734, 430386879, 430378153, 430297382, 430286688, 430234534, 430584856, 430563375, 430544926, 430098030, 430052182, 430004867, 430685391, 430633055, 430666482, 430791822, 430787642, 430765599, 430451612, 430477006, 430416200, 430414922, 430199605, 430156636, 430151354, 430102813, 430118320, 436998481, 436930754, 436959121, 436905598, 436820850, 436851420, 436817057, 436388729, 436289023, 436276184, 436274615, 436215182, 436033939, 436045826, 436047574, 436733186, 436723567, 436723418, 436490009, 436433373, 436405721, 436401297, 436474678, 436410262, 436414137, 436150873, 436151215, 437933826, 437950464, 437828392, 437848171, 437390302, 437388829, 437299561, 437282755, 437223701, 437250140, 437203074, 437524093, 437504606, 437008913, 437010747, 437659110, 437663591, 437758073, 437750241, 437742018, 437428992, 437450628, 437407542, 437190910, 437111889, 434991125, 434922470, 434921880, 434967511, 434892530, 434807188, 434861104, 434877148, 434846524, 434332938, 434359231, 434298716, 434278932, 434242807, 434213242, 434536284, 434555535, 434097659, 434087344, 434057223, 434013808, 434628601, 434664030, 434647053, 434786862, 434768862, 434747833, 434713383, 434428085, 434423186, 434459261, 434400477, 434419643, 434188152, 434125804, 434158118, 434163838, 434162147, 434175264, 431937360, 431957115, 431904317, 431854303, 431842591, 431340982, 431205115, 431273470, 431277860, 431241970, 431577672, 431518664, 431516699, 431049810, 431016764, 431762918, 431776627, 431481611, 431428367, 431453252, 431400210, 431479890, 431472184, 431113737, 429983249, 429974292, 429893906, 429892392, 429880329, 429828617, 429801550, 429864640, 429873029, 429386088, 429381669, 429338109, 429356245, 429309625, 429342994, 429256420, 429211238, 429591163, 429558518, 429548900, 429015658, 429628197, 429649046, 429641548, 429720330, 429758682, 429760977, 429779671, 429743421, 429480319, 429487478, 429450343, 429133644, 429158232, 428945832, 428918888, 428879262, 428879565, 428845398, 428362023, 428375595, 428341641, 428256279, 428256409, 428269522, 428091619, 428084047, 428022512, 428026315, 428619882, 428617511, 428491419, 428423474, 428408018, 428460507, 428441786, 428414923, 428138748, 423907725, 423966189, 423891765, 423855627, 423868959, 423860596, 423382875, 423336009, 423251165, 423275995, 423579917, 423546535, 423517735, 423092687, 423058206, 423057518, 423002932, 423002593, 423073297, 423696849, 423656828, 423656401, 423789350, 423735280, 423720253, 423755431, 423707113, 423748253, 423438985, 423454428, 423408220, 423469392, 423440204, 423157000, 423101712, 423119409, 422969369, 422345457, 422319331, 422285157, 422232536, 422200171, 422241314, 422213546, 422555346, 422573616, 422542814, 422511871, 422056037, 422069344, 422068676, 422602416, 422665026, 422678115, 422673262, 422677591, 422799949, 422728238, 422754661, 422745597, 422435869, 422458421, 422192492, 422194481, 422157706, 422100764, 422106998, 422174305, 425929390, 425927446, 425977981, 425888311, 425880122, 425839597, 425829171, 425863952, 425873208, 425842503, 425847892, 425384687, 425355471, 425374066, 425371261, 425310699, 425291670, 425242524, 425212311, 425542117, 425065551, 425668456, 425642205, 425645062, 425782474, 420991765, 420914452, 420894297, 420891946, 420821336, 420866528, 420336706, 420359154, 420306988, 420307715, 420369272, 420368562, 420263126, 420262390, 420572882, 420061533, 420657412, 420651183, 420610108, 420794178, 420754653, 420487860, 420481279, 420466051, 420472566, 420133693, 426999386, 426968046, 426949260, 426883981, 426833876, 426825451, 426809451, 426879707, 426875898, 426819242, 426813646, 426393678, 426327533, 426361161, 426373261, 426296209, 426237348, 426220098, 426224560, 426221510, 426208392, 426276879, 426240303, 426500221, 426572048, 426574841, 426513358, 426087125, 426047527, 426012448, 426670016, 426671235, 426645561, 426730758, 426741692, 426717887, 426453433, 426401341, 426195500, 426194134, 426127621, 426105640, 426118808, 427966272, 427943428, 427899379, 427854326, 427800142, 427849375, 427398229, 427333908, 427325247, 427324831, 427341008, 427284996, 427235604, 427206158, 427270277, 427507316, 427560598, 427080064, 427024426, 427695125, 427621713, 427606874, 427615718, 427782720, 427787435, 427728245, 427727897, 427772491, 427429293, 427468770, 427189187, 427128715, 427156792, 427177429, 427118615, 424992995, 424935641, 424963510, 424948659, 424890479, 424888127, 424389011, 424381669, 424301779, 424313284, 424207809, 424274178, 424214594, 424599173, 424081148, 424026966, 424005208, 424074978, 424688949, 424688247, 424600726, 424678657, 424797118, 424709099, 424767222, 424490377, 424439273, 424462720, 424441460, 424124493, 424157881, 424151662, 421921267, 421951888, 421951766, 421972102, 421896849, 421896279, 421820208, 421309385, 421377979, 421346226, 421239724, 421221364, 421266150, 421243209, 421244428, 421596310, 421583325, 421532948, 421536976, 421525347, 421555249, 421543286, 421545205, 421694253, 421684909, 421620440, 421653421, 421646320, 421795524, 421780751, 421728001, 421760172, 421435630, 421475408, 421194905, 421184276, 421135443, 421109487, 421141530, 459932560, 459961845, 459911668, 459829012, 459872669, 459817853, 459385711, 459237206, 459270627, 459564058, 459510871, 459516707, 459025928, 459648822, 459736894, 459708266, 459449112, 459418935, 458982570, 458866010, 458819114, 458816707, 458328713, 458349456, 458228433, 458222390, 458505387, 458563926, 458572107, 458574511, 458023816, 458607404, 458601494, 458669477, 458785778, 458730063, 458713669, 458488380, 458439413, 458422390, 458450261, 458472123, 458127516, 453996207, 453928554, 453971841, 453945039, 453897332, 453883871, 453883333, 453835922, 453841997, 453322287, 453358434, 453287630, 453252744, 453504178, 453087968, 453034152, 453077176, 453633341, 453629371, 453603300, 453667168, 453791113, 453755887, 453778173, 453715502, 453439254, 453425106, 453463818, 453183512, 453128045, 453176629, 453146507, 452999184, 452830715, 452823604, 452804550, 452876393, 452840461, 452374451, 452282979, 452235725, 452236981, 452226519, 452253310, 452256602, 452275750, 452588675, 452529429, 452507667, 452029870, 452025044, 452027317, 452008895, 452688926, 452600571, 452679114, 452641544, 452739113, 452743587, 452719867, 452718882, 452495353, 452439001, 452451788, 452406975, 452404826, 452197873, 452131620, 452148019, 455971977, 455837708, 455827025, 455878613, 455844300, 455815911, 455328328, 455293074, 455239879, 455208780, 455218012, 455540867, 455547311, 455512768, 455515393, 455035502, 455031803, 455056947, 455004643, 455670060, 455722708, 455725110, 455753185, 455740844, 455458521, 455193306, 455192691, 455186992, 455100795, 455163958, 455147509, 450993767, 450961179, 450891038, 450885546, 450886146, 450860563, 450367586, 450378985, 450314613, 450292642, 450253865, 450248596, 450506251, 450549329, 450545244, 450519739, 450030387, 450040651, 450015859, 450608056, 450799552, 450766880, 450766688, 450761499, 450468081, 450446783, 450188490, 450186989, 456986232, 456931817, 456909899, 456919664, 456884720, 456864686, 456336986, 456208368, 456260198, 456264647, 456529061, 456554686, 456549933, 456540022, 456513450, 456074989, 456608944, 456784678, 456763385, 456749149, 456740613, 456744051, 456710859, 456495461, 456436202, 456479765, 456477268, 456415602, 456163324, 457993119, 457986845, 457948164, 457889853, 457889675, 457841110, 457300906, 457259756, 457201218, 457242640, 457555803, 457032200, 457636238, 457655984, 457752014, 457763847, 457778003, 457770442, 457401951, 457133095, 457129301, 457123006, 457121530, 457155242, 457105877, 457167177, 457161857, 454934969, 454921817, 454903095, 454979220, 454975101, 454898220, 454882119, 454862381, 454382142, 454357677, 454308262, 454377083, 454202725, 454278071, 454248050, 454216712, 454505125, 454084297, 454698955, 454698942, 454696919, 454656330, 454641432, 454782987, 454420467, 454427038, 454451767, 454460437, 454446791, 454197415, 454121587, 454175699, 454170131, 451905567, 451978637, 451917593, 451877633, 451369465, 451316149, 451241059, 451009885, 451006977, 451625552, 451608625, 451799242, 451770903, 451496816, 451425552, 451409561, 451406405, 451194928, 451120935, 409985386, 409886958, 409886615, 409886177, 409856241, 409865628, 409873653, 409384615, 409330411, 409301810, 409362972, 409378198, 409376353, 409344033, 409259180, 409200304, 409581629, 409523966, 409503354, 409571242, 409548309, 409545632, 409512677, 409091742, 409082808, 409637006, 409619341, 409725210, 409768800, 409765784, 409496197, 409489794, 409482108, 409451852, 409402126, 409404553, 409478639, 409443548, 409443609, 409412005, 409127922, 409166099, 409176281, 409177565, 409145958, 408923338, 408947550, 408916832, 408898143, 408892554, 408828456, 408802632, 408389493, 408383383, 408322315, 408351602, 408378229, 408344286, 408242246, 408586236, 408565979, 408659087, 408644131, 408700222, 408700526, 408764165, 408402008, 408464472, 408441975, 408183790, 408122368, 408152580, 408168493, 403957416, 403903005, 403850987, 403868971, 403866244, 403870687, 403331690, 403357309, 403371096, 403314610, 403235349, 403255314, 403244665, 403595721, 403552296, 403080394, 403023422, 403064991, 403627420, 403755632, 403750549, 403741131, 403475385, 403198664, 403164452, 402992755, 402939773, 402902770, 402961831, 402961015, 402914378, 402842346, 402842401, 402390559, 402362748, 402207599, 402275444, 402242720, 402535797, 402558385, 402053997, 402009987, 402008188, 402018969, 402694811, 402639437, 402666371, 402643463, 402737083, 402768205, 402495355, 402435594, 402461072, 402199536, 402197208, 402182309, 405987209, 405945309, 405897322, 405326066, 405327091, 405357890, 405364497, 405345390, 405235284, 405235754, 405248385, 405593692, 405585469, 405536583, 405522850, 405559555, 405030924, 405036388, 405059442, 405064095, 405628589, 405609483, 405666153, 405734950, 405752401, 405763166, 405451230, 405408088, 405410939, 405129485, 405108504, 400959059, 400962740, 400917328, 400898365, 400893488, 400858740, 400305457, 400365079, 400343534, 400344422, 400289616, 400235793, 400201407, 400212760, 400596039, 400500382, 400543348, 400517965, 400081917, 400058328, 400055228, 400005636, 400017600, 400636199, 400783738, 400732103, 400726320, 400499542, 400429082, 400421082, 400421147, 400124446, 400119809, 406928581, 406835264, 406859074, 406874458, 406871441, 406333591, 406520816, 406039061, 406010822, 406628038, 406604900, 406675869, 406753956, 406700712, 406701870, 406762765, 406762100, 406743596, 406479248, 406415799, 406190545, 407831379, 407869505, 407817191, 407811539, 407350837, 407571638, 407086052, 407049303, 407636230, 407649310, 407760941, 407761932, 407761208, 407719413, 407413645, 407153188, 407168907, 407148638, 407143383, 404934101, 404922744, 404924581, 404967556, 404947752, 404897383, 404833458, 404868612, 404846710, 404811911, 404380289, 404288650, 404283007, 404232946, 404230412, 404206154, 404248020, 404242969, 404595707, 404589352, 404529783, 404505684, 404506565, 404543603, 404510886, 404039434, 404631799, 404643607, 404645405, 404644613, 404784354, 404466409, 404477419, 404199320, 404188909, 404151907, 404101545, 401993198, 401881094, 401358311, 401373683, 401255255, 401260759, 401266132, 401530075, 401502354, 401501298, 401051783, 401005403, 401691600, 401641486, 401736019, 401137214, 401127592, 401174335, 469987402, 469942690, 469829589, 469844178, 469322060, 469343729, 469342782, 469316525, 469221973, 469255971, 469588062, 469556477, 469038275, 469625102, 469627704, 469787114, 469490105, 469432944, 469450646, 469400092, 469442895, 469412497, 469122076, 468988878, 468980672, 468938656, 468932897, 468941610, 468918716, 468912314, 468912514, 468912419, 468886556, 468853852, 468862926, 468867734, 468303031, 468347069, 468341880, 468299369, 468298363, 468233362, 468200711, 468204904, 468204093, 468260206, 468587597, 468505489, 468570130, 468037189, 468000406, 468004330, 468066541, 468608745, 468678696, 468793266, 468482890, 468433658, 468432742, 468198187, 468186676, 468106719, 468113459, 463943198, 463382560, 463376217, 463226806, 463262477, 463523265, 463557405, 463549161, 463033028, 463063027, 463012993, 463681674, 463630338, 463621437, 463614195, 463797235, 463772809, 463483912, 463453192, 463185458, 463105469, 463106941, 463163212, 462958672, 462893544, 462819601, 462383425, 462357640, 462371951, 462312840, 462289256, 462238117, 462563433, 462088359, 462000113, 462062818, 462015888, 462658172, 462797949, 462752228, 462752114, 462748691, 462489428, 462452443, 462463032, 462472260, 462419087, 462185805, 462135550, 462105465, 462140472, 462117155, 465901753, 465967306, 465806826, 465843973, 465333247, 465331800, 465357631, 465283953, 465282991, 465280060, 465227046, 465274172, 465598876, 465596977, 465536139, 465550981, 465554936, 465576251, 465518959, 465518028, 465009639, 465690834, 465688989, 465623665, 465643920, 465724691, 465705167, 465771509, 465712985, 465196738, 465191539, 465109724, 460978408, 460890999, 460839106, 460823154, 460866402, 460383904, 460337148, 460323682, 460370158, 460374151, 460221297, 460275943, 460215950, 460559498, 460515356, 460036151, 460062834, 460078474, 460016644, 460689795, 460688542, 460626562, 460640466, 460729539, 460754218, 460708866, 460771445, 460715030, 460439681, 460431558, 460457027, 460479680, 460153519, 460115601, 466995409, 466932010, 466927722, 466921866, 466901392, 466901612, 466821263, 466878185, 466846983, 466382500, 466304959, 466368711, 466372324, 466236455, 466252832, 466210795, 466216073, 466537696, 466514548, 466039246, 466032308, 466055548, 466697523, 466601931, 466496634, 466424817, 466457246, 466123642, 467962219, 467863039, 467875654, 467377232, 467293040, 467286331, 467235228, 467230826, 467260680, 467581935, 467531897, 467529176, 467551967, 467548873, 467548842, 467631155, 467623653, 467665312, 467737206, 467720333, 467497251, 467434969, 467422176, 467418816, 467411563, 467173743, 464991804, 464948519, 464881023, 464850088, 464869798, 464321731, 464346732, 464239355, 464232426, 464235388, 464269281, 464272130, 464527343, 464552532, 464571606, 464548106, 464518874, 464092225, 464082097, 464086915, 464050928, 464695599, 464680719, 464788615, 464724996, 464748116, 464742555, 464742725, 464453520, 464456880, 464474826, 464446607, 464122412, 464147630, 464112747, 464115370, 464114828, 461906252, 461912314, 461863028, 461816633, 461399903, 461324024, 461356107, 461369960, 461298233, 461293208, 461283282, 461230596, 461275362, 461217519, 461582651, 461525895, 461554083, 461512254, 461087896, 461024068, 461009957, 461637874, 461787876, 461764362, 461743669, 461418527, 461416576, 461150627, 461167600, 461141625, 479984266, 479807615, 479867204, 479842366, 479815735, 479357433, 479308656, 479215852, 479596352, 479521752, 479081828, 479053473, 479053122, 479045416, 479691850, 479678524, 479759628, 479753612, 479701296, 479441263, 479195708, 479132653, 479123334, 479163317, 479161322, 478905283, 478970052, 478859854, 478851340, 478806920, 478863532, 478876311, 478386967, 478319140, 478310923, 478293003, 478255815, 478255127, 478203782, 478249802, 478248355, 478597918, 478588551, 478546864, 478032544, 478028421, 478025994, 478633151, 478652443, 478673679, 478782755, 478765285, 478779172, 478491004, 478418249, 478180612, 478170810, 473955838, 473918177, 473334739, 473321462, 473366739, 473280573, 473253318, 473209829, 473582778, 473556982, 473569058, 473026824, 473026532, 473065351, 473061463, 473075323, 473697268, 473601482, 473661037, 473434343, 473448399, 472931378, 472905583, 472894778, 472853612, 472869752, 472863697, 472861477, 472874785, 472365550, 472377063, 472225225, 472226619, 472274007, 472240699, 472569991, 472091610, 472023434, 472016296, 472677305, 472648458, 472615793, 472706546, 472777212, 472714409, 472447609, 472194406, 472130304, 472123256, 472168894, 472112530, 475993976, 475924603, 475972294, 475915967, 475825425, 475817712, 475338428, 475327090, 475321465, 475351391, 475290018, 475236655, 475256607, 475265420, 475567714, 475092461, 475085916, 475084491, 475028644, 475696640, 475681823, 475658166, 475600875, 475664861, 475672306, 475677495, 475610841, 475798746, 475793741, 475739760, 475709513, 475492310, 475488079, 475422541, 475425750, 475116181, 470938541, 470938799, 470926457, 470901556, 470804609, 470332130, 470341664, 470294948, 470287845, 470276728, 470277595, 470535363, 470535417, 470551574, 470563967, 470544991, 470080443, 470020511, 470060796, 470683501, 470638653, 470631107, 470628516, 470656892, 470782542, 470714525, 470424057, 470181180, 470103939, 470103905, 470107733, 470142241, 470118999, 476986352, 476981880, 476981238, 476921649, 476970051, 476976883, 476808014, 476866009, 476861713, 476393069, 476339910, 476363488, 476375334, 476276465, 476217432, 476594064, 476589058, 476503661, 476095226, 476004337, 476697804, 476626435, 476652335, 476407444, 476461433, 476115881, 477996462, 477981913, 477952220, 477975528, 477803673, 477817455, 477811003, 477365484, 477361938, 477361589, 477348223, 477347169, 477280134, 477277554, 477098887, 477036914, 477059240, 477063569, 477070772, 477040800, 477012181, 477690209, 477682838, 477663805, 477660652, 477664518, 477677288, 477674001, 477793028, 477782299, 477784444, 477707752, 477772968, 477480378, 477462065, 477133332, 477129205, 477158055, 477162905, 477167391, 474981215, 474820460, 474824547, 474857548, 474381866, 474293528, 474265150, 474217665, 474584975, 474509534, 474099236, 474057281, 474043480, 474011139, 474630520, 474631571, 474657961, 474601068, 474666713, 474616498, 474767944, 474495262, 474486796, 474451814, 474469859, 474416218, 474124131, 474179319, 474142924, 474114616, 471989350, 471938349, 471901023, 471915651, 471917516, 471885785, 471886386, 471385781, 471322202, 471347628, 471255541, 471209732, 471243143, 471594530, 471584857, 471556411, 471008374, 471078932, 471015494, 471632862, 471655076, 471655416, 471656479, 471646378, 471746412, 471442712, 471102536, 449933203, 449926304, 449924664, 449943927, 449832579, 449875270, 449320914, 449379285, 449313224, 449299945, 449282499, 449224010, 449258881, 449207235, 449275512, 449588618, 449522425, 449503773, 449086198, 449069671, 449621880, 449605214, 449662918, 449641408, 449617419, 449782105, 449729845, 449768039, 449776283, 449455303, 449466286, 449449556, 449419740, 449193534, 449151348, 449167795, 448923009, 448908947, 448945274, 448895904, 448880504, 448859587, 448848096, 448819903, 448334718, 448348015, 448299682, 448281058, 448230644, 448539165, 448521642, 448008315, 448066278, 448042600, 448634553, 448655359, 448601936, 448664059, 448677414, 448787362, 448767927, 448767479, 448742857, 448747156, 448486890, 448431968, 448417058, 448197550, 448120559, 448121971, 448157558, 448163115, 448164073, 448148629, 443931851, 443929735, 443829264, 443800098, 443813615, 443817356, 443399925, 443338456, 443303254, 443368990, 443367674, 443348003, 443347122, 443260559, 443266187, 443219441, 443589160, 443549193, 443090782, 443058517, 443075296, 443691053, 443700946, 443700025, 443492197, 443480387, 443416123, 443186061, 443132000, 443157175, 443106621, 443176274, 443148346, 443117112, 442987811, 442984117, 442932229, 442942377, 442919800, 442891416, 442889821, 442854942, 442386910, 442357749, 442303951, 442345564, 442299977, 442291181, 442206510, 442273950, 442588909, 442582504, 442532846, 442568647, 442573692, 442518771, 442093585, 442026982, 442051784, 442078542, 442696571, 442681877, 442635912, 442602518, 442666640, 442675044, 442730186, 442422007, 442457562, 442154750, 442172399, 442140270, 445938338, 445934485, 445971656, 445801525, 445863777, 445862239, 445866652, 445870122, 445817755, 445358699, 445289714, 445288389, 445229465, 445251403, 445242730, 445522398, 445555833, 445556247, 445050311, 445659139, 445723408, 445752545, 445433187, 445409628, 445441601, 445148101, 445119571, 440926598, 440906343, 440969146, 440811565, 440334165, 440267213, 440598743, 440552256, 440561500, 440051175, 440062845, 440680913, 440631129, 440656834, 440663539, 440739883, 440748736, 440716792, 440493940, 440486153, 440454000, 440479943, 440136487, 440121463, 440100953, 440172030, 440145863, 440114165, 446836615, 446825924, 446825316, 446826854, 446397974, 446326082, 446354341, 446292777, 446258606, 446262549, 446249216, 446211854, 446557433, 446500886, 446571111, 446542382, 446059286, 446055573, 446064479, 446016032, 446623511, 446621534, 446654037, 446661069, 446675507, 446707830, 446741411, 446484939, 446432287, 446459260, 446406705, 446464943, 446479583, 446146831, 447923963, 447920078, 447899099, 447859394, 447803934, 447863697, 447867962, 447329036, 447328074, 447348747, 447280856, 447235156, 447225862, 447260190, 447243498, 447218082, 447593581, 447527794, 447505885, 447568059, 447577108, 447095466, 447009835, 447007329, 447066014, 447042612, 447015350, 447016477, 447691913, 447681947, 447664578, 447618575, 447718377, 447408653, 447464279, 447443643, 447416779, 447417428, 447125275, 447158698, 444931224, 444960773, 444971401, 444880385, 444839659, 444841516, 444380846, 444355964, 444365934, 444367400, 444349647, 444316144, 444228334, 444222316, 444208571, 444262193, 444275511, 444534063, 444550192, 444511390, 444076609, 444049507, 444615514, 444759033, 444433650, 444433656, 444421360, 444469014, 444466407, 444448234, 444443541, 444198432, 444180252, 444160324, 441980700, 441929298, 441899252, 441886460, 441864078, 441336149, 441369081, 441365019, 441373193, 441310721, 441311037, 441239759, 441261183, 441596323, 441522876, 441568132, 441515042, 441517779, 441033669, 441055751, 441699314, 441694288, 441683912, 441634193, 441665375, 441616372, 441788568, 441783839, 441742087, 441463582, 441462469, 441183335, 441150430, 419987254, 419908433, 419888481, 419883210, 419863246, 419865231, 419875106, 419844129, 419355099, 419351506, 419307284, 419365607, 419291540, 419262025, 419566007, 419510873, 419084962, 419055589, 419632696, 419626630, 419649752, 419642505, 419645828, 419770147, 419427411, 419458460, 419449550, 419447234, 419137484, 419146023, 418991639, 418906442, 418904584, 418963043, 418970391, 418918122, 418892199, 418887450, 418816048, 418395598, 418382623, 418339040, 418312356, 418295182, 418552733, 418503371, 418548358, 418058670, 418005644, 418000732, 418629461, 418650662, 418752298, 418406338, 418182831, 418122612, 413983217, 413908097, 413913893, 413825047, 413824655, 413867202, 413842500, 413334159, 413329970, 413322371, 413225971, 413207550, 413204232, 413264972, 413520712, 413541902, 413050735, 413005040, 413667081, 413790901, 413782842, 413750291, 413761266, 413494112, 413414989, 413197416, 413174667, 413113589, 412998458, 412996226, 412905280, 412898482, 412847817, 412380372, 412336105, 412347492, 412299633, 412283171, 412238687, 412227005, 412548944, 412511457, 412094054, 412031317, 412023988, 412060081, 412015793, 412687363, 412658031, 412648311, 412641208, 412615135, 412725768, 412718734, 412717701, 412494566, 412197685, 412149119, 415951481, 415908913, 415972548, 415829313, 415864581, 415872922, 415810202, 415395823, 415352708, 415306339, 415368657, 415295947, 415295631, 415282494, 415284217, 415256220, 415205403, 415269405, 415244125, 415585478, 415525045, 415502699, 415569729, 415579260, 415517326, 415093875, 415088237, 415035035, 415051426, 415019354, 415013830, 415668771, 415675713, 415799083, 415798668, 415783245, 415787775, 415721873, 415763720, 415426347, 415446856, 415414894, 415196083, 415135736, 415101300, 410989243, 410858113, 410806265, 410867874, 410864174, 410872273, 410848429, 410817006, 410321746, 410315127, 410298351, 410262759, 410248599, 410580043, 410536680, 410575043, 410541222, 410516507, 410088903, 410039655, 410033477, 410059632, 410043816, 410045675, 410697260, 410691469, 410611403, 410720396, 410753784, 410763590, 410499007, 410416506, 410188007, 410157473, 416989121, 416935176, 416971176, 416883013, 416833848, 416831663, 416853480, 416869421, 416844275, 416812679, 416389737, 416322570, 416324189, 416237753, 416219593, 416508717, 416503102, 416542534, 416099832, 416063864, 416684790, 416652213, 416646148, 416795901, 416720921, 416708055, 416763767, 416717859, 416480409, 416428630, 416420238, 416420439, 416409191, 416442086, 416193144, 416189194, 417985160, 417938981, 417908737, 417903020, 417826484, 417858370, 417808269, 417808655, 417811260, 417353963, 417226938, 417256142, 417215812, 417211922, 417589941, 417567568, 417513785, 417512329, 417027428, 417695355, 417603060, 417798190, 417783944, 417783778, 417736987, 417737648, 417493528, 417493791, 417456060, 417198343, 417131762, 414991405, 414963266, 414857206, 414388287, 414306667, 414298825, 414290819, 414296099, 414282368, 414224505, 414250926, 414270214, 414212489, 414593711, 414582484, 414569331, 414563212, 414092275, 414045977, 414632003, 414605446, 414671952, 414643378, 414610512, 414797699, 414409159, 414479990, 414444618, 411995399, 411994022, 411982146, 411980570, 411907900, 411947314, 411891101, 411813336, 411394955, 411335767, 411334448, 411320107, 411352715, 411356537, 411305006, 411363699, 411370205, 411209274, 411202759, 411508805, 411565498, 411560991, 411543140, 411020736, 411051917, 411048801, 411043272, 411041180, 411699389, 411687102, 411633822, 411659299, 411796687, 411723060, 411712147, 411496118, 411432966, 411469981, 411446990, 411413372, 411198290, 411106390, 199992862, 199987805, 199855610, 199851002, 199866928, 199813430, 199816959, 199381480, 199331217, 199352238, 199589023, 199555203, 199506626, 199569691, 199548157, 199089214, 199016716, 199693612, 199631553, 199600071, 199670815, 199739015, 199724602, 199760000, 199767527, 199713861, 199459892, 199463148, 199465851, 199183493, 198998500, 198948327, 198827196, 198321340, 198208875, 198264048, 198276989, 198597978, 198584266, 198013935, 198635675, 198644948, 198721363, 198762504, 198745753, 198499006, 198488042, 198485941, 198458640, 198131526, 198109400, 198168394, 198147827, 198115046, 193978377, 193970884, 193800914, 193860205, 193860268, 193380993, 193381195, 193305989, 193361919, 193348832, 193297518, 193237469, 193267530, 193248637, 193218812, 193589641, 193684838, 193614155, 193792250, 193727136, 193746614, 193442007, 193192527, 193189052, 193180607, 193129077, 193125504, 193146781, 192991579, 192913067, 192825854, 192875008, 192381991, 192321031, 192239080, 192230245, 192227867, 192203131, 192219235, 192528151, 192527603, 192088567, 192683815, 192630332, 192604169, 192678030, 192793889, 192701904, 192740022, 192487642, 192461480, 192199140, 192172725, 192176062, 195990576, 195959773, 195915899, 195839697, 195856297, 195329995, 195310486, 195289273, 195233298, 195266481, 195275152, 195596003, 195547330, 195512629, 195089646, 195081979, 195029577, 195062514, 195061889, 195061502, 195079340, 195698377, 195677181, 195791407, 195724009, 195776768, 195480666, 195437587, 195184147, 195134843, 195159011, 195153303, 190959791, 190956169, 190900901, 190901788, 190802004, 190807899, 190812977, 190387800, 190373290, 190250805, 190266233, 190531341, 190560428, 190510104, 190033976, 190050257, 190682395, 190669914, 190797774, 190787864, 190729277, 190721110, 190766274, 190436391, 190446969, 190193800, 190132883, 190127060, 190158189, 190158152, 190155156, 196926269, 196977473, 196889157, 196825141, 196392387, 196387259, 196327181, 196356384, 196302044, 196307710, 196364950, 196535541, 196521269, 196568150, 196090875, 196034948, 196668207, 196675609, 196746353, 196428818, 196423344, 196476164, 196441382, 196139572, 197989271, 197982623, 197985364, 197939175, 197923031, 197901424, 197893953, 197831580, 197826702, 197865892, 197874042, 197844285, 197322076, 197353598, 197304227, 197299111, 197298490, 197292614, 197294077, 197200400, 197274956, 197213217, 197211385, 197211201, 197507170, 197570678, 197053165, 197061691, 197070506, 197018486, 197638714, 197739563, 197738878, 197747210, 197431457, 197421667, 197182279, 194994457, 194908799, 194970326, 194892843, 194883708, 194881282, 194839636, 194828077, 194826462, 194824088, 194373535, 194299133, 194298553, 194253797, 194529595, 194524222, 194556488, 194083455, 194085674, 194009571, 194006211, 194069610, 194013122, 194014408, 194687929, 194669897, 194726199, 194759396, 194768920, 194432750, 194456974, 194451355, 194463696, 194446275, 194124328, 194148318, 194147833, 191998308, 191968367, 191811545, 191336114, 191305367, 191362700, 191376750, 191286555, 191235407, 191215680, 191214982, 191597730, 191594270, 191585291, 191584766, 191538968, 191528417, 191513302, 191088912, 191070552, 191076334, 191633963, 191603346, 191607434, 191792396, 191787981, 191737291, 191700497, 191761744, 191775401, 191450771, 191450495, 191179833, 189923620, 189965720, 189944364, 189944696, 189803438, 189845429, 189385507, 189352121, 189309200, 189309154, 189222594, 189509722, 189571664, 189541437, 189518024, 189518145, 189513630, 189028268, 189076322, 189638435, 189636204, 189795255, 189709593, 189488751, 189481933, 189402749, 189461113, 189196977, 189196896, 189171382, 189148724, 189144595, 188821827, 188309438, 188304649, 188378068, 188370985, 188239119, 188263617, 188211539, 188599571, 188537754, 188508073, 188034109, 188031795, 188025764, 188055883, 188046764, 188047678, 188010991, 188613182, 188780673, 188723793, 188779327, 188422637, 188458563, 188138464, 188106783, 188160320, 188170552, 188140580, 183993751, 183939973, 183892077, 183889027, 183857051, 183800377, 183848669, 183813102, 183395632, 183396845, 183387143, 183354937, 183314893, 183238873, 183209531, 183553975, 183555045, 183509240, 183512322, 183517188, 183096221, 183071571, 183041041, 183686056, 183651886, 183607429, 183750533, 183751571, 183779898, 183777175, 183748110, 183746130, 183712003, 183423917, 183409517, 183463106, 183461806, 183411497, 183194745, 183155863, 183165600, 182939342, 182928891, 182921761, 182970167, 182898399, 182853358, 182860059, 182874937, 182313895, 182267973, 182586318, 182037545, 182076513, 182012124, 182682805, 182601333, 182664398, 182673494, 182613143, 182788569, 182422355, 182453524, 182450286, 182477025, 182448295, 182197093, 182135587, 182112576, 185986803, 185927359, 185975769, 185891775, 185399214, 185352468, 185348155, 185293835, 185273582, 185275228, 185246287, 185219596, 185585030, 185553566, 185563236, 185574046, 185035243, 185061856, 185725638, 185756859, 185773731, 185487229, 185430420, 185436196, 185443248, 185134564, 180937186, 180827639, 180840648, 180338797, 180287016, 180275838, 180528154, 180095300, 180089870, 180035898, 180045360, 180011585, 180688402, 180637794, 180678787, 180703908, 180747311, 180489999, 180106428, 186892869, 186882668, 186817165, 186325057, 186302939, 186256090, 186209959, 186273022, 186275237, 186242607, 186538977, 186525179, 186550452, 186099212, 186032978, 186034533, 186075462, 186015473, 186690780, 186650965, 186608406, 186611116, 186791682, 186738497, 186720255, 186749345, 186492561, 186439980, 186435235, 186401145, 186472478, 186184072, 187933090, 187927066, 187921529, 187971269, 187940334, 187887989, 187839629, 187835152, 187802684, 187814504, 187331597, 187350499, 187300180, 187343007, 187346388, 187318369, 187316539, 187298750, 187202019, 187277039, 187595755, 187584817, 187534532, 187503333, 187548511, 187545536, 187060480, 187076879, 187638228, 187608772, 187600362, 187613180, 187736906, 187750145, 187705903, 187701921, 187719944, 187496227, 187432857, 187428562, 187150558, 187104851, 187166214, 187118957, 184999880, 184906846, 184970763, 184977019, 184835804, 184395549, 184397906, 184334898, 184359852, 184369764, 184287508, 184233664, 184232162, 184253228, 184215732, 184599055, 184583377, 184091209, 184081401, 184024340, 184076578, 184013357, 184649695, 184789867, 184758993, 184702691, 184704961, 184760039, 184742193, 184744554, 184498381, 184489770, 184456817, 184172444, 184176584, 184176764, 184147604, 181831999, 181818170, 181813459, 181387079, 181334922, 181300196, 181282278, 181239586, 181266085, 181264866, 181218461, 181509174, 181098162, 181009305, 181064845, 181075410, 181016315, 181657674, 181657147, 181661958, 181616973, 181728893, 181725628, 181745663, 181713838, 181482073, 181481380, 181422572, 181455302, 181476029, 181133843, 181167452, 181141526, 139983074, 139920551, 139921652, 139955944, 139821929, 139800492, 139878594, 139843315, 139840860, 139383642, 139357009, 139237421, 139231269, 139275304, 139212955, 139585101, 139548885, 139683958, 139797971, 139775881, 139422694, 139451369, 139441883, 139413000, 139155175, 139108925, 139148650, 138999094, 138927183, 138967584, 138947136, 138873026, 138872783, 138877205, 138849003, 138328013, 138367339, 138342168, 138285031, 138235537, 138269942, 138562165, 138576540, 138542155, 138512465, 138097766, 138080081, 138028071, 138023721, 138007860, 138044702, 138660669, 138721854, 138719485, 138435644, 138435731, 138402207, 138405833, 138102424, 138100851, 138175020, 138142217, 133966440, 133964855, 133973087, 133940360, 133838694, 133859849, 133878032, 133849043, 133392363, 133396565, 133386675, 133338925, 133357374, 133318577, 133215850, 133586762, 133506368, 133571180, 133065113, 133650677, 133671251, 133758311, 133756771, 133705650, 133765003, 133713269, 133431951, 133409430, 133180580, 132957458, 132914847, 132884274, 132861370, 132873299, 132877919, 132278096, 132277839, 132555790, 132577006, 132086121, 132060151, 132652234, 132606184, 132604008, 132670181, 132738961, 132724556, 132717565, 132481936, 132419110, 132415616, 132131772, 132159568, 135998945, 135993819, 135927626, 135897770, 135884195, 135801766, 135818823, 135399568, 135338209, 135376554, 135344162, 135202758, 135200859, 135588250, 135585070, 135502104, 135564095, 135050990, 135042880, 135046652, 135046192, 135044030, 135685933, 135660503, 135618087, 135798113, 135783063, 135730797, 135768120, 135426356, 135466197, 135473363, 135412642, 135132053, 135149185, 130906499, 130969258, 130835819, 130856923, 130809833, 130805427, 130876330, 130381343, 130356893, 130309669, 130361395, 130376575, 130315929, 130314626, 130296947, 130289440, 130280380, 130587413, 130527418, 130579615, 130691443, 130684247, 130658979, 130648767, 130744009, 130494408, 130410627, 130152419, 130117820, 136993809, 136981923, 136974161, 136853108, 136855554, 136386365, 136304968, 136285823, 136271423, 136098870, 136065671, 136630924, 136634733, 136614847, 136727931, 136705531, 136777191, 136712965, 136496096, 136143835, 136112771, 137948116, 137882361, 137830474, 137868474, 137865177, 137867270, 137878204, 137810920, 137302284, 137363799, 137313697, 137289720, 137537351, 137509661, 137500507, 137086571, 137032666, 137623207, 137657922, 137679710, 137642803, 137640408, 137795993, 137795484, 137720230, 137492141, 137491210, 137456077, 137454869, 137106774, 134939708, 134926933, 134941948, 134886516, 134823265, 134820840, 134827422, 134333796, 134337469, 134377190, 134293224, 134267217, 134218843, 134212427, 134214101, 134535400, 134527099, 134565689, 134541152, 134633352, 134675172, 134782073, 134726179, 134473412, 134472198, 134440100, 134441626, 134180322, 134180526, 134139945, 134147770, 134112707, 134110852, 131992087, 131985189, 131933680, 131923512, 131965660, 131948424, 131915935, 131898335, 131890095, 131880511, 131838632, 131837306, 131820255, 131821098, 131804182, 131330394, 131337403, 131288589, 131288588, 131280738, 131228481, 131203768, 131202310, 131269641, 131264476, 131585533, 131581190, 131538768, 131504735, 131090368, 131036108, 131025874, 131016493, 131693441, 131680074, 131660701, 131789048, 131754577, 131707680, 131746892, 131497009, 131447857, 131195547, 131190275, 131196344, 131105102, 131101034, 131176262, 131114270, 129938076, 129937428, 129925512, 129903317, 129967227, 129945898, 129838983, 129846388, 129385375, 129302571, 129300288, 129255192, 129205000, 129597145, 129540595, 129514328, 129668408, 129488391, 129431828, 129477658, 129443310, 129153051, 128929925, 128963561, 128945838, 128899174, 128823690, 128861040, 128816533, 128374277, 128536506, 128560968, 128561181, 128514866, 128091688, 128007420, 128066540, 128064093, 128010973, 128624021, 128663468, 128642995, 128799672, 128753994, 128488632, 128406773, 128474856, 128443923, 128199016, 128194567, 128185526, 128132851, 128135957, 128102445, 128107118, 128146361, 123997167, 123968282, 123970149, 123897696, 123891504, 123886699, 123831909, 123857072, 123873175, 123876710, 123338552, 123313823, 123312415, 123310404, 123279166, 123579607, 123514461, 123021552, 123058546, 123690855, 123689340, 123681380, 123634900, 123634652, 123621597, 123670692, 123720087, 123709542, 123704044, 123498776, 123494334, 123478945, 123181610, 123105461, 122984008, 122925042, 122955150, 122954353, 122896058, 122889416, 122820770, 122826785, 122857174, 122803409, 122338762, 122362934, 122265481, 122242656, 122213909, 122537602, 122534603, 122524381, 122049448, 122650578, 122788768, 122726709, 122498190, 122423705, 122457680, 122133764, 122179067, 125930532, 125931115, 125970049, 125897745, 125837068, 125335395, 125262670, 125248767, 125585418, 125559648, 125556209, 125579170, 125065863, 125636195, 125603519, 125602897, 125780823, 125722555, 125453221, 125408984, 125471588, 125131733, 125123384, 125156770, 120993342, 120985727, 120948153, 120882155, 120836046, 120878650, 120386482, 120352506, 120352564, 120366084, 120314532, 120295677, 120237615, 120205159, 120262949, 120273797, 120597516, 120555651, 120543166, 120635375, 120609456, 120679069, 120783680, 120700737, 120491651, 120420309, 120455233, 120192884, 120188329, 120139392, 120133143, 120157401, 120179288, 126921648, 126957978, 126825743, 126821500, 126852669, 126804634, 126869087, 126864503, 126814706, 126350738, 126357905, 126302251, 126264303, 126592867, 126509448, 126021603, 126054673, 126001583, 126785565, 126721645, 126707780, 126760631, 126777334, 126740006, 126740762, 126716151, 126482660, 126474851, 126130879, 126127761, 126168201, 126165037, 126172554, 127945294, 127918545, 127809882, 127356430, 127319166, 127294469, 127289586, 127205227, 127271870, 127521968, 127509126, 127505853, 127561481, 127547559, 127021866, 127633602, 127635091, 127609297, 127665246, 127785552, 127734047, 127764196, 127741393, 127495658, 127480425, 127400260, 127448093, 127180995, 127134799, 127108480, 127106769, 124955631, 124960493, 124881974, 124837983, 124821386, 124805361, 124393537, 124365665, 124221110, 124203350, 124242517, 124532045, 124530351, 124545953, 124514917, 124093824, 124076868, 124047205, 124691453, 124646333, 124610634, 124736087, 124708433, 124704648, 124763220, 124764373, 124776254, 124489291, 124487170, 124432842, 124424918, 124453868, 124453860, 124461923, 124461371, 124479429, 124193847, 124188571, 124171599, 121938830, 121932527, 121956104, 121917542, 121881127, 121389311, 121379827, 121373966, 121374987, 121237066, 121279839, 121505087, 121081742, 121601987, 121780839, 121787644, 121718444, 121715195, 121471956, 159931405, 159927731, 159967177, 159835702, 159809792, 159869158, 159818471, 159328101, 159323379, 159360845, 159366626, 159375950, 159311239, 159281584, 159239579, 159233160, 159257545, 159240077, 159219513, 159212285, 159598596, 159540036, 159518553, 159097375, 159085190, 159054165, 159693150, 159695695, 159662889, 159723337, 159779951, 159775864, 159450919, 159450895, 159407625, 159475394, 159197697, 159106067, 159162100, 159147110, 158921785, 158963796, 158899020, 158323971, 158303548, 158302193, 158314548, 158200901, 158594594, 158025827, 158015897, 158632400, 158627919, 158795683, 158465834, 158467900, 158158795, 158106035, 153929277, 153832914, 153860224, 153814624, 153398536, 153331328, 153369190, 153371803, 153288109, 153033187, 153021860, 153059838, 153063134, 153019672, 153693861, 153689207, 153673211, 153790768, 153435922, 153140633, 152987865, 152933991, 152966631, 152973017, 152972692, 152918492, 152910686, 152818716, 152399868, 152390193, 152356800, 152361713, 152289563, 152200137, 152207767, 152272585, 152246783, 152590500, 152533570, 152566313, 152543087, 152515843, 152080446, 152039389, 152035749, 152072458, 152076744, 152043574, 152697240, 152680129, 152737415, 152723725, 152480514, 152471920, 152448728, 152191564, 152186689, 152159843, 152177885, 155999245, 155994067, 155967073, 155964056, 155899103, 155820937, 155857167, 155811258, 155331884, 155266743, 155271149, 155588611, 155564707, 155575082, 155541324, 155099660, 155059995, 155051962, 155068698, 155639314, 155635252, 155791000, 155784211, 155721142, 155753061, 155750679, 155762233, 155773443, 155777022, 155489739, 155426772, 155419203, 155180362, 155105948, 155167233, 150999845, 150904507, 150972617, 150379649, 150343755, 150239560, 150207792, 150276288, 150219293, 150212121, 150211007, 150583623, 150085833, 150660228, 150647741, 150610449, 150794958, 150782984, 150492071, 150450663, 150467631, 150446616, 150133796, 156990396, 156994206, 156938923, 156979932, 156853099, 156380204, 156331713, 156358933, 156355418, 156300459, 156318150, 156232306, 156228706, 156250837, 156266498, 156270695, 156214303, 156550003, 156556931, 156543028, 156541199, 156510998, 156068746, 156685043, 156630516, 156629238, 156657010, 156791986, 156732214, 156766215, 156775782, 156712353, 156480200, 156432767, 156450595, 156408928, 156466661, 156105949, 156142017, 157980529, 157924731, 157905945, 157906023, 157831830, 157870682, 157816741, 157304245, 157304175, 157377100, 157567216, 157009462, 157001111, 157070286, 157622332, 157621553, 157662779, 157787040, 157727860, 157188514, 157121735, 157179005, 157145895, 157140863, 154894724, 154858867, 154304765, 154287817, 154281087, 154237894, 154225193, 154224558, 154259399, 154262400, 154596922, 154516098, 154083423, 154032114, 154016570, 154681383, 154637712, 154659018, 154651170, 154600542, 154724132, 154405211, 154461779, 154184918, 154158180, 151988837, 151911544, 151882757, 151821288, 151807386, 151843745, 151840994, 151395376, 151303176, 151369323, 151349386, 151343755, 151318940, 151220970, 151262094, 151244826, 151036995, 151072793, 151689347, 151684806, 151653576, 151608729, 151794449, 151729604, 151769515, 151778302, 151749206, 151444127, 151129341, 151179105, 109997932, 109920394, 109953733, 109890047, 109832911, 109851874, 109841679, 109818353, 109398836, 109390986, 109290276, 109281357, 109233726, 109586149, 109577135, 109082426, 109039983, 109065248, 109698197, 109637739, 109609131, 109666172, 109750974, 109775888, 109745495, 109714609, 109423513, 109426848, 109190605, 109105285, 109114590, 108900958, 108912587, 108917700, 108896776, 108828543, 108860306, 108861526, 108323994, 108379664, 108379790, 108341204, 108291068, 108283114, 108208617, 108522691, 108507158, 108546471, 108031968, 108007785, 108072826, 108077379, 108628929, 108622351, 108620128, 108602109, 108605590, 108674271, 108795617, 108783551, 108782458, 108775302, 108743680, 108744005, 108719434, 108489325, 108479850, 108478989, 108132730, 108164347, 108173147, 108112497, 103953810, 103320783, 103300569, 103362055, 103264583, 103245813, 103522528, 103522544, 103526000, 103562330, 103573831, 103510449, 103002022, 103066595, 103014396, 103622432, 103655200, 103674290, 103702990, 103409642, 103195870, 103155779, 103174230, 103116505, 102909542, 102823915, 102859187, 102855776, 102807221, 102867624, 102843425, 102384462, 102225338, 102225299, 102583307, 102566683, 102051162, 102010534, 102694395, 102681252, 102602542, 102643912, 102619322, 102615990, 102616166, 102756477, 102498641, 102461886, 102470997, 102181503, 102126091, 102152329, 102170867, 105926845, 105902107, 105949068, 105837366, 105806104, 105861377, 105870152, 105332199, 105303500, 105207129, 105211129, 105580411, 105587766, 105550339, 105513037, 105092927, 105032900, 105073501, 105680585, 105670881, 105641105, 105613185, 105616292, 105782414, 105721205, 105752906, 105718276, 105716061, 105483600, 105403677, 105118066, 105113648, 105111993, 100959466, 100947320, 100863013, 100866062, 100841441, 100297598, 100238556, 100236481, 100223163, 100535660, 100570162, 100543624, 100088002, 100023178, 100023177, 100058006, 100623730, 100607153, 100601670, 100776828, 100485784, 100438706, 100437462, 100422314, 100411516, 100138607, 100135268, 100136590, 100129241, 100113798, 106932233, 106919413, 106910295, 106837591, 106808569, 106803812, 106875714, 106326652, 106252333, 106257219, 106267648, 106242305, 106537656, 106522796, 106522156, 106500869, 106570974, 106079421, 106044730, 106639063, 106635783, 106670920, 106648726, 106767175, 106481737, 106149178, 106112455, 107992420, 107994609, 107956613, 107965659, 107976390, 107912090, 107832700, 107388743, 107383650, 107384644, 107332104, 107373083, 107375100, 107252776, 107264144, 107279086, 107594109, 107534480, 107098971, 107020086, 107015343, 107684811, 107628364, 107603708, 107787792, 107754987, 107434784, 107428179, 107461752, 107474176, 107192310, 104952354, 104969455, 104975103, 104835639, 104850023, 104814665, 104307036, 104313371, 104296126, 104239984, 104208475, 104200893, 104200031, 104260884, 104240609, 104214094, 104535047, 104531234, 104572421, 104062254, 104016291, 104668461, 104678190, 104643531, 104739902, 104756401, 104778373, 104435497, 104198616, 104192307, 104136026, 104105110, 104173001, 104145610, 104119164, 101936945, 101927637, 101958749, 101908696, 101940603, 101919846, 101912064, 101882404, 101884179, 101595361, 101502655, 101519119, 101004327, 101698853, 101671221, 101649005, 101619661, 101614033, 101499161, 101422470, 101440332, 101415447, 101152821, 101163948, 169990452, 169991995, 169950050, 169948116, 169806117, 169861852, 169879701, 169814244, 169364099, 169371776, 169234680, 169255300, 169208454, 169262049, 169267181, 169279654, 169526322, 169576541, 169518718, 169032461, 169053772, 169040162, 169688872, 169630174, 169627023, 169608552, 169799420, 169791207, 169727504, 169763974, 169421758, 169408676, 169443306, 169158204, 169106170, 168993653, 168985146, 168926722, 168927995, 168905223, 168942709, 168893411, 168886360, 168871757, 168324531, 168321232, 168303570, 168348993, 168230606, 168261060, 168533676, 168530788, 168534693, 168556669, 168502565, 168575929, 168094258, 168018187, 168656365, 168608486, 168734843, 168494345, 168458806, 168473528, 168443611, 168189552, 168180362, 168161887, 168116919, 163940922, 163915382, 163818050, 163380031, 163333966, 163312803, 163286022, 163266648, 163588328, 163574197, 163548058, 163083840, 163069921, 163062736, 163638769, 163794137, 163789790, 163735630, 163763088, 163770253, 163719954, 163437972, 163450510, 163451935, 163479891, 163440138, 163417039, 163132679, 163125294, 162998028, 162974422, 162826214, 162227965, 162271827, 162247204, 162583959, 162521314, 162512096, 162084693, 162018200, 162683849, 162608521, 162674166, 162647817, 162615235, 162708700, 162703583, 162774882, 162717787, 162435080, 162181015, 162135062, 162134012, 162127538, 162108402, 162162067, 162173581, 162116904, 165931648, 165883116, 165809669, 165878558, 165812551, 165374714, 165348355, 165221441, 165028997, 165001682, 165645059, 165757186, 165700269, 165712429, 165714278, 165442646, 165183579, 165177038, 165149231, 165147929, 160929080, 160921172, 160952073, 160946606, 160889642, 160399350, 160349118, 160317613, 160231609, 160527912, 160527328, 160566734, 160578352, 160548753, 160545532, 160518904, 160069246, 160040497, 160698521, 160604133, 160731117, 160701314, 160770481, 160495852, 160486328, 160433509, 160434484, 160424103, 160190973, 160180905, 160134107, 160163334, 160176307, 166927612, 166962439, 166946142, 166840108, 166396491, 166328128, 166307658, 166231975, 166262847, 166584038, 166009889, 166041896, 166668946, 166640120, 166416362, 166190121, 166106767, 166142359, 166146057, 167902161, 167948156, 167919476, 167892510, 167870111, 167383399, 167333940, 167315926, 167289130, 167288306, 167284299, 167255191, 167262119, 167246361, 167211229, 167577979, 167514165, 167091724, 167091766, 167028082, 167025537, 167003972, 167015608, 167687156, 167653374, 167674062, 167649663, 167794131, 167757325, 167710567, 167439994, 167477920, 167193213, 167154915, 167162996, 167166074, 167146744, 164993258, 164930417, 164906029, 164946832, 164823559, 164852229, 164849804, 164322932, 164344068, 164319806, 164285552, 164244352, 164531160, 164516907, 164033124, 164035944, 164003500, 164064443, 164013309, 164689676, 164673647, 164649558, 164617308, 164752816, 164764403, 164435864, 164468204, 164471989, 164417231, 164106297, 164169612, 164177456, 161998524, 161998712, 161994384, 161922759, 161955179, 161972897, 161972510, 161974929, 161911934, 161829968, 161329575, 161223277, 161596919, 161036928, 161022309, 161062829, 161624407, 161655202, 161603661, 161649047, 161645819, 161754034, 161768153, 161407237, 161440696, 161410411, 161154045, 161118403, 179987712, 179883298, 179828313, 179874762, 179815649, 179202288, 179264200, 179585286, 179581758, 179536973, 179503487, 179085870, 179017833, 179640144, 179738945, 179718187, 179715799, 179485344, 179454396, 179195583, 179181068, 178856902, 178841029, 178395625, 178332849, 178230537, 178237045, 178224512, 178201334, 178216121, 178598752, 178592953, 178535655, 178572321, 178512904, 178091680, 178085346, 178008335, 178000960, 178633808, 178620151, 178653878, 178656489, 178677673, 178674930, 178735406, 178746220, 178426009, 178455257, 178462336, 178473572, 178197778, 173993989, 173831819, 173815426, 173392279, 173236846, 173244251, 173217609, 173585628, 173533132, 173523361, 173517365, 173095505, 173097610, 173087051, 173020796, 173685157, 173622497, 173657530, 173611762, 173725427, 173485552, 173475048, 173442651, 173158890, 172978624, 172841077, 172377977, 172349815, 172237228, 172221923, 172583733, 172581902, 172538906, 172525304, 172500958, 172573780, 172518753, 172026102, 172057727, 172054964, 172007223, 172077661, 172620301, 172659886, 172655812, 172651321, 172755275, 172757220, 172754818, 172751921, 172762452, 172498692, 172422764, 172448948, 172416424, 172128874, 175984926, 175908550, 175363653, 175362729, 175378141, 175311899, 175237892, 175269871, 175213229, 175538359, 175527734, 175527726, 175568863, 175513040, 175060097, 175041551, 175625295, 175655553, 175676324, 175781504, 175758616, 175767944, 175764191, 175445303, 175185210, 175127358, 170933938, 170945498, 170820141, 170827802, 170860498, 170342955, 170342568, 170319091, 170318853, 170285895, 170237203, 170240866, 170558667, 170568215, 170019217, 170699229, 170693482, 170690245, 170628700, 170650034, 170609228, 170793395, 170734832, 170754748, 170775561, 170711354, 170497017, 170489797, 170106738, 170160174, 170141639, 176989687, 176932009, 176930694, 176902848, 176947641, 176830104, 176829160, 176824785, 176858806, 176854759, 176807503, 176869842, 176391666, 176382999, 176302834, 176307614, 176369218, 176371265, 176312833, 176296427, 176291360, 176202534, 176218591, 176551744, 176098951, 176093716, 176089495, 176034910, 176028645, 176051158, 176066677, 176041006, 176616867, 176724769, 176706279, 176765753, 176761973, 176776686, 176742471, 176475773, 176417443, 176197882, 176158633, 176111184, 177932305, 177896591, 177851842, 177844417, 177399176, 177292954, 177294051, 177284063, 177523144, 177578842, 177548086, 177513863, 177045437, 177669831, 177614739, 177731966, 177727169, 177490586, 177483437, 177462774, 177194076, 177137593, 177166138, 174935588, 174957665, 174977269, 174800773, 174879357, 174327989, 174350172, 174363398, 174366349, 174297041, 174283865, 174286802, 174234731, 174592134, 174551331, 174507199, 174089961, 174039755, 174030230, 174036079, 174008662, 174073889, 174043019, 174015374, 174629752, 174657504, 174606258, 174613356, 174725225, 174764563, 174480541, 174420819, 174463952, 174442423, 174191067, 174169862, 174175658, 174174317, 171816796, 171379250, 171222461, 171279050, 171595528, 171589724, 171523102, 171565373, 171011672, 171693081, 171633087, 171651877, 171607646, 171676257, 171793248, 171733233, 171708477, 171702636, 171767868, 171767814, 171496205, 171491284, 171486302, 171433111, 171464620, 171158978, 171156943, 171154550, 149999011, 149925038, 149905987, 149967530, 149974540, 149323338, 149304612, 149257623, 149251183, 149200908, 149525761, 149085040, 149018351, 149017087, 149623871, 149606495, 149782918, 149713830, 149453507, 149450971, 149465542, 149412957, 149116005, 148983208, 148933988, 148957304, 148890133, 148820144, 148321344, 148377894, 148277655, 148214421, 148591621, 148509043, 148507247, 148543958, 148048781, 148017520, 148676975, 148645989, 148798884, 148709880, 148704068, 148468521, 148195700, 148190136, 143831410, 143862088, 143872068, 143812394, 143394704, 143389136, 143312300, 143311949, 143297980, 143204014, 143265763, 143245046, 143245184, 143594766, 143583238, 143521735, 143570435, 143034897, 143002980, 143047306, 143635589, 143631477, 143623242, 143607213, 143615757, 143782422, 143705364, 143766774, 143492520, 143433977, 143429449, 143468893, 143419114, 143147365, 142909582, 142907494, 142969624, 142899225, 142854134, 142868812, 142392542, 142381929, 142312273, 142226894, 142257101, 142567891, 142542535, 142514335, 142091346, 142684271, 142671274, 142767806, 142748503, 142485278, 142480260, 142423314, 142419531, 142182044, 142124980, 142117018, 145990650, 145997756, 145926048, 145913494, 145838079, 145825333, 145854590, 145848358, 145841789, 145335539, 145345702, 145289870, 145286655, 145252647, 145255350, 145278311, 145583259, 145537175, 145522716, 145550994, 145030432, 145066018, 145639646, 145677774, 145644003, 145755920, 145419964, 145419265, 145197712, 145131411, 145141624, 145114889, 140963912, 140943427, 140896616, 140889061, 140833951, 140837565, 140828881, 140867186, 140397682, 140309290, 140369232, 140374944, 140209650, 140529652, 140566811, 140030567, 140000643, 140067128, 140637574, 140634779, 140626512, 140798031, 140782580, 140775622, 140403421, 140405709, 140448045, 140132815, 140134879, 146957300, 146887467, 146812330, 146283719, 146223744, 146599709, 146590101, 146523680, 146522082, 146520516, 146513097, 146043790, 146042439, 146622563, 146626512, 146796000, 146754730, 146196253, 146131947, 146158676, 146149790, 147929870, 147899751, 147885584, 147868515, 147361280, 147349760, 147250781, 147268367, 147248724, 147247612, 147216085, 147598101, 147511274, 147099464, 147001136, 147076885, 147040080, 147011030, 147692521, 147651451, 147641390, 147796389, 147496361, 147451884, 147477969, 147194209, 147155996, 144918097, 144882556, 144398904, 144320919, 144321029, 144308873, 144345657, 144218089, 144538300, 144538048, 144570768, 144513332, 144511801, 144071631, 144681154, 144763405, 144764788, 144452939, 144402072, 144418720, 144417959, 144184710, 144129278, 144162134, 141936065, 141898101, 141892816, 141887491, 141325926, 141360436, 141318701, 141298560, 141282118, 141232915, 141267184, 141249559, 141535417, 141524792, 141573939, 141096672, 141033025, 141032449, 141034126, 141077408, 141017531, 141688020, 141623036, 141624614, 141668854, 141762024, 141430739, 141195375, 141189770, 141131365, 141131590, 141101850, 141179451, 119992687, 119958798, 119904546, 119961881, 119833239, 119854900, 119851896, 119803343, 119801930, 119815295, 119325461, 119343100, 119239278, 119531015, 119574125, 119512601, 119087029, 119076531, 119622459, 119656012, 119651818, 119649457, 119641276, 119485461, 119438793, 119421464, 119452749, 119404853, 119134175, 118984450, 118933781, 118930316, 118957580, 118902004, 118918107, 118898954, 118820782, 118858587, 118383857, 118385857, 118381739, 118333874, 118332753, 118359909, 118305868, 118310603, 118281575, 118202612, 118249549, 118598427, 118582613, 118517421, 118087692, 118058066, 118063801, 118043383, 118042901, 118699806, 118626303, 118601360, 118649023, 118751584, 118701456, 118742949, 118443500, 118198817, 118198152, 118197884, 118197359, 118148848, 113980380, 113959655, 113974602, 113830932, 113856712, 113804636, 113801491, 113860929, 113357066, 113313391, 113312426, 113317502, 113228835, 113242871, 113569837, 113578309, 113086045, 113009423, 113078756, 113659863, 113664098, 113648722, 113612983, 113750406, 113708479, 113705925, 113766000, 113476747, 113476150, 113180591, 113127609, 113163943, 113173381, 113177183, 112984046, 112935009, 112965206, 112898142, 112836814, 112333964, 112353859, 112285351, 112268066, 112594884, 112521644, 112051733, 112044465, 112632783, 112635073, 112657241, 112667015, 112782596, 112734732, 112703449, 112700464, 112761887, 112445243, 112182325, 115987687, 115923235, 115922615, 115876427, 115394248, 115202133, 115266726, 115535482, 115534175, 115575860, 115097228, 115086160, 115081948, 115034275, 115044859, 115654007, 115662142, 115734803, 115487843, 115437995, 115473223, 115445886, 115157106, 115179737, 110990244, 110928195, 110920025, 110894980, 110888778, 110800344, 110393408, 110385933, 110339552, 110297045, 110594102, 110586192, 110525370, 110503133, 110548735, 110083530, 110022950, 110062286, 110045444, 110639751, 110634241, 110631572, 110605061, 110604817, 110604291, 110668453, 110781938, 110731400, 110491618, 110485242, 110475010, 110475406, 110159970, 110103741, 116981433, 116974240, 116873159, 116875630, 116395520, 116390875, 116320266, 116294738, 116286238, 116231822, 116279913, 116277289, 116215428, 116593830, 116582393, 116570162, 116052834, 116066245, 116076300, 116689789, 116625263, 116655239, 116670822, 116736353, 116703171, 116450990, 116402727, 116442656, 116181328, 117981711, 117903362, 117907433, 117864281, 117846058, 117309190, 117307500, 117342510, 117347994, 117341967, 117241486, 117581166, 117573819, 117094263, 117061477, 117043007, 117670768, 117676509, 117646592, 117647061, 117781873, 117773823, 117770516, 117770709, 117496556, 117477480, 117444436, 117195424, 117161650, 114938616, 114849455, 114844456, 114387419, 114305375, 114341694, 114312261, 114226051, 114528949, 114022874, 114058474, 114015385, 114624660, 114651256, 114662401, 114791193, 114781137, 114747770, 114430707, 114447682, 114447169, 114180027, 114184466, 114106797, 114174096, 114111817, 111988550, 111926992, 111927296, 111924628, 111952610, 111900622, 111963746, 111884401, 111818638, 111373351, 111313769, 111282811, 111205616, 111552479, 111509042, 111095091, 111083023, 111081454, 111064810, 111682757, 111632169, 111626333, 111657106, 111752750, 111745580, 111716994, 111438048, 111405870, 111133690, 111151247, 111109199]\n"
     ]
    }
   ],
   "source": [
    "mapping5 = [5,9,3,2,8,4,6,7,1,0]\n",
    "print(sortJumbled(mapping5, x))"
   ]
  },
  {
   "cell_type": "code",
   "execution_count": 20,
   "metadata": {},
   "outputs": [
    {
     "name": "stdout",
     "output_type": "stream",
     "text": [
      "str:  669,991\n",
      "str:  007,338\n",
      "str:  07,38\n",
      "[338, 38, 991]\n"
     ]
    }
   ],
   "source": [
    "def sortJumbled(mapping, nums):\n",
    "    def map_value(num):\n",
    "        # Convert the number to its mapped value\n",
    "        mapped_str = ''.join(str(mapping[int(digit)]) for digit in str(num))\n",
    "        print(\"str: \",mapped_str, end=\",\")\n",
    "        print(num)\n",
    "        # Convert the mapped string back to an integer to handle leading zeros\n",
    "        mapped_num = int(mapped_str)\n",
    "        return mapped_num\n",
    "\n",
    "    # Sort nums using the mapped values\n",
    "    sorted_nums = sorted(nums, key=lambda x: map_value(x))\n",
    "    return sorted_nums\n",
    "\n",
    "# Example usage:\n",
    "mapping1 = [8, 9, 4, 0, 2, 1, 3, 5, 7, 6]\n",
    "nums1 = [991, 338, 38]\n",
    "print(sortJumbled(mapping1, nums1))  # Output: [338, 38, 991]\n",
    "\n",
    "# mapping2 = [0, 1, 2, 3, 4, 5, 6, 7, 8, 9]\n",
    "# nums2 = [789, 456, 123]\n",
    "# print(sortJumbled(mapping2, nums2))  # Output: [123, 456, 789]\n"
   ]
  },
  {
   "cell_type": "markdown",
   "metadata": {},
   "source": [
    "140. Word Break II\n",
    "\n",
    "https://leetcode.com/problems/word-break-ii/description/?envType=daily-question&envId=2024-07-24\n",
    "\n",
    "Given a string s and a dictionary of strings wordDict, add spaces in s to construct a sentence where each word is a valid dictionary word. Return all such possible sentences in any order.\n",
    "\n",
    "Note that the same word in the dictionary may be reused multiple times in the segmentation.\n",
    "\n",
    " \n",
    "\n",
    "Example 1:\n",
    "```\n",
    "Input: s = \"catsanddog\", wordDict = [\"cat\",\"cats\",\"and\",\"sand\",\"dog\"]\n",
    "Output: [\"cats and dog\",\"cat sand dog\"]\n",
    "Example 2:\n",
    "\n",
    "Input: s = \"pineapplepenapple\", wordDict = [\"apple\",\"pen\",\"applepen\",\"pine\",\"pineapple\"]\n",
    "Output: [\"pine apple pen apple\",\"pineapple pen apple\",\"pine applepen apple\"]\n",
    "Explanation: Note that you are allowed to reuse a dictionary word.\n",
    "Example 3:\n",
    "\n",
    "Input: s = \"catsandog\", wordDict = [\"cats\",\"dog\",\"sand\",\"and\",\"cat\"]\n",
    "Output: []\n",
    "``` \n",
    "\n",
    "Constraints:\n",
    "\n",
    "- 1 <= s.length <= 20\n",
    "- 1 <= wordDict.length <= 1000\n",
    "- 1 <= wordDict[i].length <= 10\n",
    "- s and wordDict[i] consist of only lowercase English letters.\n",
    "- All the strings of wordDict are unique.\n",
    "- Input is generated in a way that the length of the answer doesn't exceed 105."
   ]
  },
  {
   "cell_type": "code",
   "execution_count": 1,
   "metadata": {},
   "outputs": [
    {
     "name": "stdout",
     "output_type": "stream",
     "text": [
      "['cat sand dog', 'cats and dog']\n",
      "['pine apple pen apple', 'pine applepen apple', 'pineapple pen apple']\n",
      "[]\n"
     ]
    }
   ],
   "source": [
    "def wordBreak(s, wordDict):\n",
    "    # Convert wordDict to a set for faster lookups\n",
    "    word_set = set(wordDict)\n",
    "    memo = {}\n",
    "\n",
    "    def backtrack(start):\n",
    "        if start in memo:\n",
    "            return memo[start]\n",
    "        if start == len(s):\n",
    "            return [\"\"]\n",
    "\n",
    "        result = []\n",
    "        for end in range(start + 1, len(s) + 1):\n",
    "            word = s[start:end]\n",
    "            if word in word_set:\n",
    "                for sub_sentence in backtrack(end):\n",
    "                    if sub_sentence:\n",
    "                        result.append(word + \" \" + sub_sentence)\n",
    "                    else:\n",
    "                        result.append(word)\n",
    "        \n",
    "        memo[start] = result\n",
    "        return result\n",
    "\n",
    "    return backtrack(0)\n",
    "\n",
    "# Example usage:\n",
    "s1 = \"catsanddog\"\n",
    "wordDict1 = [\"cat\", \"cats\", \"and\", \"sand\", \"dog\"]\n",
    "print(wordBreak(s1, wordDict1))  # Output: [\"cats and dog\", \"cat sand dog\"]\n",
    "\n",
    "s2 = \"pineapplepenapple\"\n",
    "wordDict2 = [\"apple\", \"pen\", \"applepen\", \"pine\", \"pineapple\"]\n",
    "print(wordBreak(s2, wordDict2))  # Output: [\"pine apple pen apple\", \"pineapple pen apple\", \"pine applepen apple\"]\n",
    "\n",
    "s3 = \"catsandog\"\n",
    "wordDict3 = [\"cats\", \"dog\", \"sand\", \"and\", \"cat\"]\n",
    "print(wordBreak(s3, wordDict3))  # Output: []\n"
   ]
  },
  {
   "cell_type": "markdown",
   "metadata": {},
   "source": [
    "### 912. Sort an Array (repeat)\n",
    "\n",
    "https://leetcode.com/problems/sort-an-array/description/?envType=daily-question&envId=2024-07-25\n",
    "\n",
    "Given an array of integers nums, sort the array in ascending order and return it.\n",
    "\n",
    "You must solve the problem without using any built-in functions in O(nlog(n)) time complexity and with the smallest space complexity possible.\n",
    "\n",
    " \n",
    "\n",
    "Example 1:\n",
    "```\n",
    "Input: nums = [5,2,3,1]\n",
    "Output: [1,2,3,5]\n",
    "Explanation: After sorting the array, the positions of some numbers are not changed (for example, 2 and 3), while the positions of other numbers are changed (for example, 1 and 5).\n",
    "Example 2:\n",
    "\n",
    "Input: nums = [5,1,1,2,0,0]\n",
    "Output: [0,0,1,1,2,5]\n",
    "Explanation: Note that the values of nums are not necessairly unique.\n",
    "``` \n",
    "\n",
    "Constraints:\n",
    "\n",
    "- 1 <= nums.length <= 5 * 104\n",
    "- -5 * 104 <= nums[i] <= 5 * 104"
   ]
  },
  {
   "cell_type": "code",
   "execution_count": 1,
   "metadata": {},
   "outputs": [
    {
     "name": "stdout",
     "output_type": "stream",
     "text": [
      "[1, 2, 3, 5]\n",
      "[0, 0, 1, 1, 2, 5]\n"
     ]
    }
   ],
   "source": [
    "def merge_sort(arr):\n",
    "    if len(arr) > 1:\n",
    "        mid = len(arr) // 2\n",
    "        left_half = arr[:mid]\n",
    "        right_half = arr[mid:]\n",
    "\n",
    "        merge_sort(left_half)\n",
    "        merge_sort(right_half)\n",
    "\n",
    "        i = j = k = 0\n",
    "\n",
    "        while i < len(left_half) and j < len(right_half):\n",
    "            if left_half[i] < right_half[j]:\n",
    "                arr[k] = left_half[i]\n",
    "                i += 1\n",
    "            else:\n",
    "                arr[k] = right_half[j]\n",
    "                j += 1\n",
    "            k += 1\n",
    "\n",
    "        while i < len(left_half):\n",
    "            arr[k] = left_half[i]\n",
    "            i += 1\n",
    "            k += 1\n",
    "\n",
    "        while j < len(right_half):\n",
    "            arr[k] = right_half[j]\n",
    "            j += 1\n",
    "            k += 1\n",
    "\n",
    "    return arr\n",
    "\n",
    "# Example usage:\n",
    "nums1 = [5, 2, 3, 1]\n",
    "print(merge_sort(nums1))  # Output: [1, 2, 3, 5]\n",
    "\n",
    "nums2 = [5, 1, 1, 2, 0, 0]\n",
    "print(merge_sort(nums2))  # Output: [0, 0, 1, 1, 2, 5]\n"
   ]
  },
  {
   "cell_type": "markdown",
   "metadata": {},
   "source": [
    "### 1334. Find the City With the Smallest Number of Neighbors at a Threshold Distance (repeat)\n",
    "\n",
    "https://leetcode.com/problems/find-the-city-with-the-smallest-number-of-neighbors-at-a-threshold-distance/description/\n",
    "\n",
    "There are n cities numbered from 0 to n-1. Given the array edges where edges[i] = [fromi, toi, weighti] represents a bidirectional and weighted edge between cities fromi and toi, and given the integer distanceThreshold.\n",
    "\n",
    "Return the city with the smallest number of cities that are reachable through some path and whose distance is at most distanceThreshold, If there are multiple such cities, return the city with the greatest number.\n",
    "\n",
    "Notice that the distance of a path connecting cities i and j is equal to the sum of the edges' weights along that path.\n",
    "\n",
    " \n",
    "\n",
    "Example 1:\n",
    "\n",
    "\n",
    "    Input: n = 4, edges = [[0,1,3],[1,2,1],[1,3,4],[2,3,1]], distanceThreshold = 4\n",
    "    Output: 3\n",
    "    Explanation: The figure above describes the graph. \n",
    "    The neighboring cities at a distanceThreshold = 4 for each city are:\n",
    "    City 0 -> [City 1, City 2] \n",
    "    City 1 -> [City 0, City 2, City 3] \n",
    "    City 2 -> [City 0, City 1, City 3] \n",
    "    City 3 -> [City 1, City 2] \n",
    "    Cities 0 and 3 have 2 neighboring cities at a distanceThreshold = 4, but we have to return city 3 since it has the greatest number.\n",
    "Example 2:\n",
    "\n",
    "\n",
    "    Input: n = 5, edges = [[0,1,2],[0,4,8],[1,2,3],[1,4,2],[2,3,1],[3,4,1]], distanceThreshold = 2\n",
    "    Output: 0\n",
    "    Explanation: The figure above describes the graph. \n",
    "    The neighboring cities at a distanceThreshold = 2 for each city are:\n",
    "    City 0 -> [City 1] \n",
    "    City 1 -> [City 0, City 4] \n",
    "    City 2 -> [City 3, City 4] \n",
    "    City 3 -> [City 2, City 4]\n",
    "    City 4 -> [City 1, City 2, City 3] \n",
    "    The city 0 has 1 neighboring city at a distanceThreshold = 2.\n",
    " \n",
    "\n",
    "Constraints:\n",
    "\n",
    "- 2 <= n <= 100\n",
    "- 1 <= edges.length <= n * (n - 1) / 2\n",
    "- edges[i].length == 3\n",
    "- 0 <= fromi < toi < n\n",
    "- 1 <= weighti, distanceThreshold <= 10^4\n",
    "- All pairs (fromi, toi) are distinct."
   ]
  },
  {
   "cell_type": "code",
   "execution_count": 1,
   "metadata": {},
   "outputs": [
    {
     "name": "stdout",
     "output_type": "stream",
     "text": [
      "3\n",
      "0\n"
     ]
    }
   ],
   "source": [
    "def findTheCity(n, edges, distanceThreshold):\n",
    "    # Step 1: Initialize distance matrix\n",
    "    dist = [[float('inf')] * n for _ in range(n)]\n",
    "    \n",
    "    for i in range(n):\n",
    "        dist[i][i] = 0\n",
    "    \n",
    "    # Step 2: Populate initial distances from the given edges\n",
    "    for u, v, weight in edges:\n",
    "        dist[u][v] = weight\n",
    "        dist[v][u] = weight\n",
    "    \n",
    "    # Step 3: Apply Floyd-Warshall to find shortest paths between all pairs\n",
    "    for k in range(n):\n",
    "        for i in range(n):\n",
    "            for j in range(n):\n",
    "                if dist[i][j] > dist[i][k] + dist[k][j]:\n",
    "                    dist[i][j] = dist[i][k] + dist[k][j]\n",
    "    \n",
    "    # Step 4: Count reachable cities within the distance threshold\n",
    "    min_reachable = float('inf')\n",
    "    result_city = -1\n",
    "    \n",
    "    for i in range(n):\n",
    "        count = 0\n",
    "        for j in range(n):\n",
    "            if i != j and dist[i][j] <= distanceThreshold:\n",
    "                count += 1\n",
    "        if count < min_reachable or (count == min_reachable and i > result_city):\n",
    "            min_reachable = count\n",
    "            result_city = i\n",
    "    \n",
    "    return result_city\n",
    "\n",
    "# Example usage:\n",
    "n1 = 4\n",
    "edges1 = [[0,1,3],[1,2,1],[1,3,4],[2,3,1]]\n",
    "distanceThreshold1 = 4\n",
    "print(findTheCity(n1, edges1, distanceThreshold1))  # Output: 3\n",
    "\n",
    "n2 = 5\n",
    "edges2 = [[0,1,2],[0,4,8],[1,2,3],[1,4,2],[2,3,1],[3,4,1]]\n",
    "distanceThreshold2 = 2\n",
    "print(findTheCity(n2, edges2, distanceThreshold2))  # Output: 0\n"
   ]
  },
  {
   "cell_type": "markdown",
   "metadata": {},
   "source": [
    "### 2976. Minimum Cost to Convert String I   (repeat)\n",
    "\n",
    "https://leetcode.com/problems/minimum-cost-to-convert-string-i/description/\n",
    "\n",
    "Medium\n",
    "\n",
    "You are given two 0-indexed strings source and target, both of length n and consisting of lowercase English letters. You are also given two 0-indexed character arrays original and changed, and an integer array cost, where cost[i] represents the cost of changing the character original[i] to the character changed[i].\n",
    "\n",
    "You start with the string source. In one operation, you can pick a character x from the string and change it to the character y at a cost of z if there exists any index j such that cost[j] == z, original[j] == x, and changed[j] == y.\n",
    "\n",
    "Return the minimum cost to convert the string source to the string target using any number of operations. If it is impossible to convert source to target, return -1.\n",
    "\n",
    "Note that there may exist indices i, j such that original[j] == original[i] and changed[j] == changed[i].\n",
    "\n",
    " \n",
    "\n",
    "Example 1:\n",
    "```\n",
    "Input: source = \"abcd\", target = \"acbe\", original = [\"a\",\"b\",\"c\",\"c\",\"e\",\"d\"], changed = [\"b\",\"c\",\"b\",\"e\",\"b\",\"e\"], cost = [2,5,5,1,2,20]\n",
    "Output: 28\n",
    "Explanation: To convert the string \"abcd\" to string \"acbe\":\n",
    "- Change value at index 1 from 'b' to 'c' at a cost of 5.\n",
    "- Change value at index 2 from 'c' to 'e' at a cost of 1.\n",
    "- Change value at index 2 from 'e' to 'b' at a cost of 2.\n",
    "- Change value at index 3 from 'd' to 'e' at a cost of 20.\n",
    "The total cost incurred is 5 + 1 + 2 + 20 = 28.\n",
    "It can be shown that this is the minimum possible cost.\n",
    "```\n",
    "Example 2:\n",
    "\n",
    "```\n",
    "Input: source = \"aaaa\", target = \"bbbb\", original = [\"a\",\"c\"], changed = [\"c\",\"b\"], cost = [1,2]\n",
    "Output: 12\n",
    "Explanation: To change the character 'a' to 'b' change the character 'a' to 'c' at a cost of 1, followed by changing the character 'c' to 'b' at a cost of 2, for a total cost of 1 + 2 = 3. To change all occurrences of 'a' to 'b', a total cost of 3 * 4 = 12 is incurred.\n",
    "```\n",
    "\n",
    "Example 3:\n",
    "\n",
    "```\n",
    "Input: source = \"abcd\", target = \"abce\", original = [\"a\"], changed = [\"e\"], cost = [10000]\n",
    "Output: -1\n",
    "Explanation: It is impossible to convert source to target because the value at index 3 cannot be changed from 'd' to 'e'.\n",
    "``` \n",
    "\n",
    "Constraints:\n",
    "\n",
    "- 1 <= source.length == target.length <= 105\n",
    "- source, target consist of lowercase English letters.\n",
    "- 1 <= cost.length == original.length == changed.length <= 2000\n",
    "- original[i], changed[i] are lowercase English letters.\n",
    "- 1 <= cost[i] <= 106\n",
    "- original[i] != changed[i]"
   ]
  },
  {
   "cell_type": "code",
   "execution_count": 2,
   "metadata": {},
   "outputs": [
    {
     "name": "stdout",
     "output_type": "stream",
     "text": [
      "28\n",
      "12\n",
      "-1\n"
     ]
    }
   ],
   "source": [
    "def minimumCost(source, target, original, changed, cost):\n",
    "    import sys\n",
    "    \n",
    "    # Initialize a large constant value for infinity\n",
    "    INF = sys.maxsize\n",
    "    \n",
    "    # Create a cost matrix for all characters (26 lowercase letters)\n",
    "    dist = [[INF] * 26 for _ in range(26)]\n",
    "    \n",
    "    # Fill in the initial costs from the provided transformations\n",
    "    for i in range(len(original)):\n",
    "        o = ord(original[i]) - ord('a')\n",
    "        c = ord(changed[i]) - ord('a')\n",
    "        dist[o][c] = min(dist[o][c], cost[i])\n",
    "    \n",
    "    # Set the distance from a character to itself as 0\n",
    "    for i in range(26):\n",
    "        dist[i][i] = 0\n",
    "    \n",
    "    # Apply Floyd-Warshall Algorithm to find all-pairs shortest paths\n",
    "    for k in range(26):\n",
    "        for i in range(26):\n",
    "            for j in range(26):\n",
    "                if dist[i][j] > dist[i][k] + dist[k][j]:\n",
    "                    dist[i][j] = dist[i][k] + dist[k][j]\n",
    "    \n",
    "    # Calculate the minimum cost to transform the source string to the target string\n",
    "    total_cost = 0\n",
    "    for s_char, t_char in zip(source, target):\n",
    "        s_idx = ord(s_char) - ord('a')\n",
    "        t_idx = ord(t_char) - ord('a')\n",
    "        if dist[s_idx][t_idx] == INF:\n",
    "            return -1\n",
    "        total_cost += dist[s_idx][t_idx]\n",
    "    \n",
    "    return total_cost\n",
    "\n",
    "# Example usage:\n",
    "print(minimumCost(\"abcd\", \"acbe\", [\"a\", \"b\", \"c\", \"c\", \"e\", \"d\"], [\"b\", \"c\", \"b\", \"e\", \"b\", \"e\"], [2, 5, 5, 1, 2, 20]))  # Output: 28\n",
    "print(minimumCost(\"aaaa\", \"bbbb\", [\"a\", \"c\"], [\"c\", \"b\"], [1, 2]))  # Output: 12\n",
    "print(minimumCost(\"abcd\", \"abce\", [\"a\"], [\"e\"], [10000]))  # Output: -1\n"
   ]
  },
  {
   "cell_type": "markdown",
   "metadata": {},
   "source": [
    "\n",
    "### 2045. Second Minimum Time to Reach Destination (repeat)\n",
    "\n",
    "https://leetcode.com/problems/second-minimum-time-to-reach-destination/description/\n",
    "\n",
    "Hard\n",
    "\n",
    "A city is represented as a bi-directional connected graph with n vertices where each vertex is labeled from 1 to n (inclusive). The edges in the graph are represented as a 2D integer array edges, where each edges[i] = [ui, vi] denotes a bi-directional edge between vertex ui and vertex vi. Every vertex pair is connected by at most one edge, and no vertex has an edge to itself. The time taken to traverse any edge is time minutes.\n",
    "\n",
    "Each vertex has a traffic signal which changes its color from green to red and vice versa every change minutes. All signals change at the same time. You can enter a vertex at any time, but can leave a vertex only when the signal is green. You cannot wait at a vertex if the signal is green.\n",
    "\n",
    "The second minimum value is defined as the smallest value strictly larger than the minimum value.\n",
    "\n",
    "For example the second minimum value of [2, 3, 4] is 3, and the second minimum value of [2, 2, 4] is 4.\n",
    "Given n, edges, time, and change, return the second minimum time it will take to go from vertex 1 to vertex n.\n",
    "\n",
    "Notes:\n",
    "\n",
    "You can go through any vertex any number of times, including 1 and n.\n",
    "You can assume that when the journey starts, all signals have just turned green.\n",
    " \n",
    "\n",
    "Example 1:\n",
    "\n",
    "```       \n",
    "Input: n = 5, edges = [[1,2],[1,3],[1,4],[3,4],[4,5]], time = 3, change = 5\n",
    "Output: 13\n",
    "Explanation:\n",
    "The figure on the left shows the given graph.\n",
    "The blue path in the figure on the right is the minimum time path.\n",
    "The time taken is:\n",
    "- Start at 1, time elapsed=0\n",
    "- 1 -> 4: 3 minutes, time elapsed=3\n",
    "- 4 -> 5: 3 minutes, time elapsed=6\n",
    "Hence the minimum time needed is 6 minutes.\n",
    "\n",
    "The red path shows the path to get the second minimum time.\n",
    "- Start at 1, time elapsed=0\n",
    "- 1 -> 3: 3 minutes, time elapsed=3\n",
    "- 3 -> 4: 3 minutes, time elapsed=6\n",
    "- Wait at 4 for 4 minutes, time elapsed=10\n",
    "- 4 -> 5: 3 minutes, time elapsed=13\n",
    "Hence the second minimum time is 13 minutes.      \n",
    "```\n",
    "\n",
    "Example 2:\n",
    "\n",
    "```\n",
    "Input: n = 2, edges = [[1,2]], time = 3, change = 2\n",
    "Output: 11\n",
    "Explanation:\n",
    "The minimum time path is 1 -> 2 with time = 3 minutes.\n",
    "The second minimum time path is 1 -> 2 -> 1 -> 2 with time = 11 minutes.\n",
    "``` \n",
    "\n",
    "Constraints:\n",
    "\n",
    "- 2 <= n <= 104\n",
    "- n - 1 <= edges.length <= min(2 * 104, n * (n - 1) / 2)\n",
    "- edges[i].length == 2\n",
    "- 1 <= ui, vi <= n\n",
    "- ui != vi\n",
    "- There are no duplicate edges.\n",
    "- Each vertex can be reached directly or indirectly from every other vertex.\n",
    "- 1 <= time, change <= 103"
   ]
  },
  {
   "cell_type": "code",
   "execution_count": 8,
   "metadata": {},
   "outputs": [
    {
     "name": "stdout",
     "output_type": "stream",
     "text": [
      "defaultdict(<class 'list'>, {})\n",
      "defaultdict(<class 'list'>, {1: [2, 3, 4], 2: [1], 3: [1, 4], 4: [1, 3, 5], 5: [4]})\n",
      "13\n",
      "defaultdict(<class 'list'>, {})\n",
      "defaultdict(<class 'list'>, {1: [2], 2: [1]})\n",
      "12\n"
     ]
    }
   ],
   "source": [
    "import heapq\n",
    "from collections import defaultdict, deque\n",
    "\n",
    "def second_minimum(n, edges, time, change):\n",
    "    # Build the graph as an adjacency list\n",
    "    graph = defaultdict(list)\n",
    "    print(graph)\n",
    "    for u, v in edges:\n",
    "        graph[u].append(v)\n",
    "        graph[v].append(u)\n",
    "    \n",
    "    print(graph)\n",
    "    # Priority queue for Dijkstra's algorithm\n",
    "    pq = [(0, 1)]  # (current_time, node)\n",
    "    \n",
    "    # Track the shortest and second shortest times to reach each node\n",
    "    times = defaultdict(lambda: [float('inf'), float('inf')])\n",
    "    times[1][0] = 0\n",
    "    \n",
    "    while pq:\n",
    "        current_time, u = heapq.heappop(pq)\n",
    "        \n",
    "        for v in graph[u]:\n",
    "            # Calculate the next time considering the traffic signal\n",
    "            arrival_time = current_time + time\n",
    "            # Calculate the wait time if necessary\n",
    "            if (arrival_time // change) % 2 == 1:  # Arrives during red signal\n",
    "                arrival_time += (change - (arrival_time % change))\n",
    "            \n",
    "            # Update the shortest and second shortest times\n",
    "            if arrival_time < times[v][0]:\n",
    "                times[v][1] = times[v][0]\n",
    "                times[v][0] = arrival_time\n",
    "                heapq.heappush(pq, (arrival_time, v))\n",
    "            elif times[v][0] < arrival_time < times[v][1]:\n",
    "                times[v][1] = arrival_time\n",
    "                heapq.heappush(pq, (arrival_time, v))\n",
    "    \n",
    "    # Return the second shortest time to reach node n\n",
    "    return times[n][1]\n",
    "\n",
    "# Example usage:\n",
    "print(second_minimum(5, [[1,2],[1,3],[1,4],[3,4],[4,5]], 3, 5))  # Output: 13\n",
    "print(second_minimum(2, [[1,2]], 3, 2))  # Output: 11\n"
   ]
  },
  {
   "cell_type": "code",
   "execution_count": 14,
   "metadata": {},
   "outputs": [
    {
     "name": "stdout",
     "output_type": "stream",
     "text": [
      "13\n",
      "11\n"
     ]
    }
   ],
   "source": [
    "from typing import List\n",
    "import collections\n",
    "import math\n",
    "\n",
    "class Solution:\n",
    "  def secondMinimum(self, n: int, edges: List[List[int]], time: int, change: int) -> int:\n",
    "    graph = [[] for _ in range(n + 1)]\n",
    "    q = collections.deque([(1, 0)])\n",
    "    # minTime[i][0] := the first minimum time to reach the node i\n",
    "    # minTime[i][1] := the second minimum time to reach the node i\n",
    "    minTime = [[math.inf] * 2 for _ in range(n + 1)]\n",
    "    minTime[1][0] = 0\n",
    "\n",
    "    for u, v in edges:\n",
    "      graph[u].append(v)\n",
    "      graph[v].append(u)\n",
    "\n",
    "    while q:\n",
    "      i, prevTime = q.popleft()\n",
    "      # Start from green.\n",
    "      # If `numChangeSignal` is odd, now red.\n",
    "      # If numChangeSignal is even -> now gree\n",
    "      numChangeSignal = prevTime // change\n",
    "      waitTime = 0 if numChangeSignal % 2 == 0 \\\n",
    "          else change - (prevTime % change)\n",
    "      newTime = prevTime + waitTime + time\n",
    "      for j in graph[i]:\n",
    "        if newTime < minTime[j][0]:\n",
    "          minTime[j][0] = newTime\n",
    "          q.append((j, newTime))\n",
    "        elif minTime[j][0] < newTime < minTime[j][1]:\n",
    "          if j == n:\n",
    "            return newTime\n",
    "          minTime[j][1] = newTime\n",
    "          q.append((j, newTime))\n",
    "\n",
    "s = Solution()\n",
    "\n",
    "\n",
    "\n",
    "print(s.secondMinimum(5, [[1,2],[1,3],[1,4],[3,4],[4,5]], 3, 5))  # Output: 13\n",
    "print(s.secondMinimum(2, [[1,2]], 3, 2))  # Output: 11\n"
   ]
  },
  {
   "cell_type": "markdown",
   "metadata": {},
   "source": [
    "### 1653. Minimum Deletions to Make String Balanced (Repeat)\n",
    "\n",
    "https://leetcode.com/problems/minimum-deletions-to-make-string-balanced/description/?envType=daily-question&envId=2024-07-30\n",
    "\n",
    "Medium\n",
    "\n",
    "You are given a string s consisting only of characters 'a' and 'b'​​​​.\n",
    "\n",
    "You can delete any number of characters in s to make s balanced. s is balanced if there is no pair of indices (i,j) such that i < j and s[i] = 'b' and s[j]= 'a'.\n",
    "\n",
    "Return the minimum number of deletions needed to make s balanced.\n",
    "\n",
    " \n",
    "\n",
    "Example 1:\n",
    "\n",
    "```\n",
    "Input: s = \"aababbab\"\n",
    "Output: 2\n",
    "Explanation: You can either:\n",
    "Delete the characters at 0-indexed positions 2 and 6 (\"aababbab\" -> \"aaabbb\"), or\n",
    "Delete the characters at 0-indexed positions 3 and 6 (\"aababbab\" -> \"aabbbb\").\n",
    "Example 2:\n",
    "\n",
    "Input: s = \"bbaaaaabb\"\n",
    "Output: 2\n",
    "Explanation: The only solution is to delete the first two characters.\n",
    "``` \n",
    "\n",
    "Constraints:\n",
    "\n",
    "- 1 <= s.length <= 105\n",
    "- s[i] is 'a' or 'b'​​."
   ]
  },
  {
   "cell_type": "code",
   "execution_count": null,
   "metadata": {},
   "outputs": [],
   "source": [
    "class Solution:\n",
    "    def minimumDeletions(self, s: str) -> int:\n",
    "        n = len(s)\n",
    "        f = [0] * (n + 1)\n",
    "        b = 0\n",
    "        for i, c in enumerate(s, 1):\n",
    "            if c == 'b':\n",
    "                f[i] = f[i - 1]\n",
    "                b += 1\n",
    "            else:\n",
    "                f[i] = min(f[i - 1] + 1, b)\n",
    "        return f[n]"
   ]
  }
 ],
 "metadata": {
  "kernelspec": {
   "display_name": "Python 3",
   "language": "python",
   "name": "python3"
  },
  "language_info": {
   "codemirror_mode": {
    "name": "ipython",
    "version": 3
   },
   "file_extension": ".py",
   "mimetype": "text/x-python",
   "name": "python",
   "nbconvert_exporter": "python",
   "pygments_lexer": "ipython3",
   "version": "3.11.5"
  }
 },
 "nbformat": 4,
 "nbformat_minor": 2
}

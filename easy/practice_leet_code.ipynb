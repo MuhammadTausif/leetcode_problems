{
 "cells": [
  {
   "cell_type": "code",
   "execution_count": 32,
   "metadata": {},
   "outputs": [
    {
     "name": "stdout",
     "output_type": "stream",
     "text": [
      "   id    email\n",
      "0   1  a@b.com\n"
     ]
    },
    {
     "data": {
      "text/html": [
       "<div>\n",
       "<style scoped>\n",
       "    .dataframe tbody tr th:only-of-type {\n",
       "        vertical-align: middle;\n",
       "    }\n",
       "\n",
       "    .dataframe tbody tr th {\n",
       "        vertical-align: top;\n",
       "    }\n",
       "\n",
       "    .dataframe thead th {\n",
       "        text-align: right;\n",
       "    }\n",
       "</style>\n",
       "<table border=\"1\" class=\"dataframe\">\n",
       "  <thead>\n",
       "    <tr style=\"text-align: right;\">\n",
       "      <th></th>\n",
       "      <th>0</th>\n",
       "    </tr>\n",
       "  </thead>\n",
       "  <tbody>\n",
       "    <tr>\n",
       "      <th>0</th>\n",
       "      <td>1</td>\n",
       "    </tr>\n",
       "    <tr>\n",
       "      <th>1</th>\n",
       "      <td>3</td>\n",
       "    </tr>\n",
       "    <tr>\n",
       "      <th>2</th>\n",
       "      <td>4</td>\n",
       "    </tr>\n",
       "  </tbody>\n",
       "</table>\n",
       "</div>"
      ],
      "text/plain": [
       "   0\n",
       "0  1\n",
       "1  3\n",
       "2  4"
      ]
     },
     "execution_count": 32,
     "metadata": {},
     "output_type": "execute_result"
    }
   ],
   "source": [
    "import pandas as pd\n",
    "\n",
    "d = {'id':[1,2,3],'email': ['a@b.com','a@b.com','a@b.com']}\n",
    "df = pd.DataFrame(data=d)\n",
    "\n",
    "df1 = df.drop_duplicates(subset='email')\n",
    "print(df1)\n",
    "# id    email\n",
    "# 0   1  a@b.com\n",
    "# 1   2  c@d.com\n",
    "# 2   3  a@b.com\n",
    "\n",
    "s = pd.Series([1,3,4])\n",
    "d = s.to_frame()\n",
    "d"
   ]
  },
  {
   "cell_type": "code",
   "execution_count": 45,
   "metadata": {},
   "outputs": [
    {
     "name": "stdout",
     "output_type": "stream",
     "text": [
      "<bound method DataFrame.duplicated of      Email\n",
      "0  a@b.com\n",
      "1  a@b.com\n",
      "2  a@b.com>\n"
     ]
    }
   ],
   "source": [
    "df1=df['email'].to_frame()\n",
    "df1.columns = ['Email']\n",
    "print(df1.duplicated)\n",
    "# df2 = df1.drop_duplicates(subset='Email')\n",
    "# df2"
   ]
  },
  {
   "cell_type": "code",
   "execution_count": 46,
   "metadata": {},
   "outputs": [
    {
     "data": {
      "text/html": [
       "<div>\n",
       "<style scoped>\n",
       "    .dataframe tbody tr th:only-of-type {\n",
       "        vertical-align: middle;\n",
       "    }\n",
       "\n",
       "    .dataframe tbody tr th {\n",
       "        vertical-align: top;\n",
       "    }\n",
       "\n",
       "    .dataframe thead th {\n",
       "        text-align: right;\n",
       "    }\n",
       "</style>\n",
       "<table border=\"1\" class=\"dataframe\">\n",
       "  <thead>\n",
       "    <tr style=\"text-align: right;\">\n",
       "      <th></th>\n",
       "      <th>id</th>\n",
       "      <th>email</th>\n",
       "    </tr>\n",
       "  </thead>\n",
       "  <tbody>\n",
       "    <tr>\n",
       "      <th>0</th>\n",
       "      <td>1</td>\n",
       "      <td>a@b.com</td>\n",
       "    </tr>\n",
       "    <tr>\n",
       "      <th>1</th>\n",
       "      <td>2</td>\n",
       "      <td>a@b.com</td>\n",
       "    </tr>\n",
       "    <tr>\n",
       "      <th>2</th>\n",
       "      <td>3</td>\n",
       "      <td>a@b.com</td>\n",
       "    </tr>\n",
       "  </tbody>\n",
       "</table>\n",
       "</div>"
      ],
      "text/plain": [
       "   id    email\n",
       "0   1  a@b.com\n",
       "1   2  a@b.com\n",
       "2   3  a@b.com"
      ]
     },
     "execution_count": 46,
     "metadata": {},
     "output_type": "execute_result"
    }
   ],
   "source": [
    "df"
   ]
  },
  {
   "cell_type": "code",
   "execution_count": 56,
   "metadata": {},
   "outputs": [
    {
     "data": {
      "text/plain": [
       "0    False\n",
       "1     True\n",
       "2     True\n",
       "dtype: bool"
      ]
     },
     "execution_count": 56,
     "metadata": {},
     "output_type": "execute_result"
    }
   ],
   "source": [
    "df3 = df['email'].to_frame()\n",
    "df4 = df3.duplicated()\n",
    "df4\n",
    "\n",
    "\n"
   ]
  },
  {
   "cell_type": "code",
   "execution_count": 60,
   "metadata": {},
   "outputs": [],
   "source": [
    "nums = [0,1,0,3,12]"
   ]
  },
  {
   "cell_type": "code",
   "execution_count": 62,
   "metadata": {},
   "outputs": [
    {
     "data": {
      "text/plain": [
       "[1, 3, 12]"
      ]
     },
     "execution_count": 62,
     "metadata": {},
     "output_type": "execute_result"
    }
   ],
   "source": [
    "[n for n in nums if n != 0]"
   ]
  },
  {
   "cell_type": "code",
   "execution_count": 63,
   "metadata": {},
   "outputs": [
    {
     "name": "stdout",
     "output_type": "stream",
     "text": [
      "[1, 3, 12, 0, 0]\n"
     ]
    }
   ],
   "source": [
    "for n in nums:\n",
    "    if n == 0:\n",
    "        nums.remove(n)\n",
    "        nums.append(n)\n",
    "    else:\n",
    "        pass\n",
    "\n",
    "print(nums)\n"
   ]
  },
  {
   "cell_type": "code",
   "execution_count": 68,
   "metadata": {},
   "outputs": [
    {
     "name": "stdout",
     "output_type": "stream",
     "text": [
      "4\n"
     ]
    }
   ],
   "source": [
    "nums = [4,1,2,1,2,4,5]\n",
    "def singleNumber(nums):\n",
    "    res = 0\n",
    "    for num in nums:\n",
    "        res ^= num\n",
    "        return res\n",
    "print(singleNumber(nums)) # Output: 4"
   ]
  },
  {
   "cell_type": "code",
   "execution_count": 71,
   "metadata": {},
   "outputs": [],
   "source": [
    "for n in nums:\n",
    "    if nums.count(n)==1:\n",
    "        # return n\n",
    "        pass"
   ]
  },
  {
   "cell_type": "code",
   "execution_count": 80,
   "metadata": {},
   "outputs": [
    {
     "name": "stdout",
     "output_type": "stream",
     "text": [
      "**********\n",
      "2,**********\n",
      "3,3,**********\n",
      "4,4,4,**********\n"
     ]
    }
   ],
   "source": [
    "n = 5\n",
    "for i in range(1,n):\n",
    "    for j in range(i-1):\n",
    "        # print(i,',',j)\n",
    "        print(i, end=',')\n",
    "    print('*'.center(10,'*'))\n"
   ]
  },
  {
   "cell_type": "code",
   "execution_count": 91,
   "metadata": {},
   "outputs": [
    {
     "name": "stdout",
     "output_type": "stream",
     "text": [
      "65 A\n",
      "66 B\n",
      "67 C\n",
      "68 D\n",
      "69 E\n",
      "70 F\n",
      "71 G\n",
      "72 H\n",
      "73 I\n",
      "74 J\n",
      "75 K\n",
      "76 L\n",
      "77 M\n",
      "78 N\n",
      "79 O\n",
      "80 P\n",
      "81 Q\n",
      "82 R\n",
      "83 S\n",
      "84 T\n",
      "85 U\n",
      "86 V\n",
      "87 W\n",
      "88 X\n",
      "89 Y\n",
      "90 Z\n"
     ]
    }
   ],
   "source": [
    "from string import ascii_letters, ascii_lowercase, ascii_uppercase\n",
    "len(ascii_letters)\n",
    "len(ascii_lowercase)\n",
    "\n",
    "for i in ascii_uppercase:\n",
    "    print(ord(i), i)"
   ]
  },
  {
   "cell_type": "code",
   "execution_count": 97,
   "metadata": {},
   "outputs": [
    {
     "name": "stdout",
     "output_type": "stream",
     "text": [
      "None\n"
     ]
    }
   ],
   "source": [
    "n1, n2 = 1, 2\n",
    "so = 0\n",
    "def s(n):\n",
    "    if n == 0:\n",
    "        return so\n",
    "    elif n == 1:\n",
    "        return so\n",
    "    if n == 2:\n",
    "        return so\n",
    "    else:\n",
    "        s(n -1)\n",
    "\n",
    "print(s(5))"
   ]
  },
  {
   "cell_type": "code",
   "execution_count": null,
   "metadata": {},
   "outputs": [],
   "source": []
  }
 ],
 "metadata": {
  "kernelspec": {
   "display_name": "Python 3",
   "language": "python",
   "name": "python3"
  },
  "language_info": {
   "codemirror_mode": {
    "name": "ipython",
    "version": 3
   },
   "file_extension": ".py",
   "mimetype": "text/x-python",
   "name": "python",
   "nbconvert_exporter": "python",
   "pygments_lexer": "ipython3",
   "version": "3.11.5"
  }
 },
 "nbformat": 4,
 "nbformat_minor": 2
}

{
 "cells": [
  {
   "cell_type": "markdown",
   "metadata": {},
   "source": [
    "# Two Sum\n",
    "\n",
    "https://leetcode.com/problems/two-sum/description/"
   ]
  },
  {
   "cell_type": "markdown",
   "metadata": {},
   "source": []
  },
  {
   "cell_type": "code",
   "execution_count": 35,
   "metadata": {},
   "outputs": [],
   "source": [
    "nums = [2,7,11,15,30,3,40]\n",
    "nums = [3,2,4]\n",
    "nums = [3,2,3]\n",
    "target = 6"
   ]
  },
  {
   "cell_type": "code",
   "execution_count": 38,
   "metadata": {},
   "outputs": [
    {
     "name": "stdout",
     "output_type": "stream",
     "text": [
      "[3, 2, 3]\n",
      "0 - 1 | 3 + 2 = 5, \t0 - 2 | 3 + 3 = 6, \tsolution:-  [0, 2]\n"
     ]
    }
   ],
   "source": [
    "class Solution:\n",
    "    def twoSum(self, nums: list[int], target: int) -> list[int]:\n",
    "        # l = nums.sort()\n",
    "        print(nums)\n",
    "        for i in range(len(nums)- 1):\n",
    "            for j in range(i+1, len(nums)):\n",
    "                print(i,\"-\",j,\"|\",nums[i],\"+\",nums[j],'=',nums[i]+nums[j], end=\", \\t\")\n",
    "                if (nums[i]+nums[j]) == target:\n",
    "                    return [i, j]\n",
    "            print()\n",
    "            \n",
    "\n",
    "        # return numst\n",
    "\n",
    "\n",
    "s = Solution()\n",
    "\n",
    "print(\"solution:- \", s.twoSum(nums, target))"
   ]
  },
  {
   "cell_type": "code",
   "execution_count": 7,
   "metadata": {},
   "outputs": [
    {
     "name": "stdout",
     "output_type": "stream",
     "text": [
      "[]\n"
     ]
    }
   ],
   "source": [
    "print(list(range(11,10)))"
   ]
  },
  {
   "cell_type": "code",
   "execution_count": null,
   "metadata": {},
   "outputs": [],
   "source": []
  }
 ],
 "metadata": {
  "kernelspec": {
   "display_name": "Python 3",
   "language": "python",
   "name": "python3"
  },
  "language_info": {
   "codemirror_mode": {
    "name": "ipython",
    "version": 3
   },
   "file_extension": ".py",
   "mimetype": "text/x-python",
   "name": "python",
   "nbconvert_exporter": "python",
   "pygments_lexer": "ipython3",
   "version": "3.11.5"
  }
 },
 "nbformat": 4,
 "nbformat_minor": 2
}

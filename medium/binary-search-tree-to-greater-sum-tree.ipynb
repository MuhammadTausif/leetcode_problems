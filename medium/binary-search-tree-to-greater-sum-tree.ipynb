{
 "cells": [
  {
   "cell_type": "markdown",
   "metadata": {},
   "source": [
    "## 1038. Binary Search Tree to Greater Sum Tree1038. Binary Search Tree to Greater Sum Tree\n",
    "\n",
    "https://leetcode.com/problems/binary-search-tree-to-greater-sum-tree/description/"
   ]
  },
  {
   "cell_type": "markdown",
   "metadata": {},
   "source": [
    "Given the `root` of a Binary Search Tree (BST), convert it to a Greater Tree such that every key of the original BST is changed to the original key plus the sum of all keys greater than the original key in BST.\n",
    "\n",
    "As a reminder, a _binary search tree_ is a tree that satisfies these constraints:\n",
    "\n",
    "- The left subtree of a node contains only nodes with keys less than the node's key.\n",
    "- The right subtree of a node contains only nodes with keys greater than the node's key.\n",
    "- Both the left and right subtrees must also be binary search trees.\n",
    " \n",
    "\n",
    "### Example 1:\n",
    "\n",
    "    Input: root = [4,1,6,0,2,5,7,null,null,null,3,null,null,null,8]\n",
    "    Output: [30,36,21,36,35,26,15,null,null,null,33,null,null,null,8]\n",
    "### Example 2:\n",
    "\n",
    "    Input: root = [0,null,1]\n",
    "    Output: [1,null,1]"
   ]
  },
  {
   "cell_type": "code",
   "execution_count": null,
   "metadata": {},
   "outputs": [],
   "source": []
  }
 ],
 "metadata": {
  "language_info": {
   "name": "python"
  }
 },
 "nbformat": 4,
 "nbformat_minor": 2
}

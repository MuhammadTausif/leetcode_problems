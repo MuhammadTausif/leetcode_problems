{
 "cells": [
  {
   "cell_type": "markdown",
   "metadata": {},
   "source": [
    "### 1605. Find Valid Matrix Given Row and Column Sums (repeat)\n",
    "\n",
    "https://leetcode.com/problems/find-valid-matrix-given-row-and-column-sums/description/\n",
    "\n",
    "You are given two arrays rowSum and colSum of non-negative integers where rowSum[i] is the sum of the elements in the ith row and colSum[j] is the sum of the elements of the jth column of a 2D matrix. In other words, you do not know the elements of the matrix, but you do know the sums of each row and column.\n",
    "\n",
    "Find any matrix of non-negative integers of size rowSum.length x colSum.length that satisfies the rowSum and colSum requirements.\n",
    "\n",
    "Return a 2D array representing any matrix that fulfills the requirements. It's guaranteed that at least one matrix that fulfills the requirements exists.\n",
    "\n",
    " \n",
    "\n",
    "Example 1:\n",
    "\n",
    "    Input: rowSum = [3,8], colSum = [4,7]\n",
    "    Output: [[3,0],\n",
    "            [1,7]]\n",
    "    Explanation: \n",
    "    0th row: 3 + 0 = 3 == rowSum[0]\n",
    "    1st row: 1 + 7 = 8 == rowSum[1]\n",
    "    0th column: 3 + 1 = 4 == colSum[0]\n",
    "    1st column: 0 + 7 = 7 == colSum[1]\n",
    "    The row and column sums match, and all matrix elements are non-negative.\n",
    "    Another possible matrix is: [[1,2],\n",
    "                                [3,5]]\n",
    "Example 2:\n",
    "\n",
    "    Input: rowSum = [5,7,10], colSum = [8,6,8]\n",
    "    Output: [[0,5,0],\n",
    "            [6,1,0],\n",
    "            [2,0,8]]\n",
    " \n",
    "\n",
    "Constraints:\n",
    "\n",
    "- 1 <= rowSum.length, colSum.length <= 500\n",
    "- 0 <= rowSum[i], colSum[i] <= 108\n",
    "- sum(rowSum) == sum(colSum)"
   ]
  },
  {
   "cell_type": "code",
   "execution_count": 1,
   "metadata": {},
   "outputs": [
    {
     "name": "stdout",
     "output_type": "stream",
     "text": [
      "[[3, 0], [1, 7]]\n",
      "[[5, 0, 0], [3, 4, 0], [0, 2, 8]]\n"
     ]
    }
   ],
   "source": [
    "def restoreMatrix(rowSum, colSum):\n",
    "    m, n = len(rowSum), len(colSum)\n",
    "    matrix = [[0] * n for _ in range(m)]\n",
    "    \n",
    "    for i in range(m):\n",
    "        for j in range(n):\n",
    "            # Fill matrix[i][j] with the minimum of rowSum[i] and colSum[j]\n",
    "            val = min(rowSum[i], colSum[j])\n",
    "            matrix[i][j] = val\n",
    "            # Update rowSum and colSum\n",
    "            rowSum[i] -= val\n",
    "            colSum[j] -= val\n",
    "    \n",
    "    return matrix\n",
    "\n",
    "# Example usage\n",
    "rowSum1 = [3, 8]\n",
    "colSum1 = [4, 7]\n",
    "print(restoreMatrix(rowSum1, colSum1))  \n",
    "# Output: [[3, 0], [1, 7]]\n",
    "\n",
    "rowSum2 = [5, 7, 10]\n",
    "colSum2 = [8, 6, 8]\n",
    "print(restoreMatrix(rowSum2, colSum2))  \n",
    "# Output: [[0, 5, 0], [6, 1, 0], [2, 0, 8]]\n"
   ]
  }
 ],
 "metadata": {
  "kernelspec": {
   "display_name": "Python 3",
   "language": "python",
   "name": "python3"
  },
  "language_info": {
   "codemirror_mode": {
    "name": "ipython",
    "version": 3
   },
   "file_extension": ".py",
   "mimetype": "text/x-python",
   "name": "python",
   "nbconvert_exporter": "python",
   "pygments_lexer": "ipython3",
   "version": "3.11.5"
  }
 },
 "nbformat": 4,
 "nbformat_minor": 2
}

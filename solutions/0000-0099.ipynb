{
 "cells": [
  {
   "cell_type": "markdown",
   "metadata": {},
   "source": [
    "# Generating headings"
   ]
  },
  {
   "cell_type": "code",
   "execution_count": 7,
   "metadata": {},
   "outputs": [
    {
     "name": "stdout",
     "output_type": "stream",
     "text": [
      "# Problems: 0000-0009\n",
      "# Problems: 0010-0019\n",
      "# Problems: 0020-0029\n",
      "# Problems: 0030-0039\n",
      "# Problems: 0040-0049\n",
      "# Problems: 0050-0059\n",
      "# Problems: 0060-0069\n",
      "# Problems: 0070-0079\n",
      "# Problems: 0080-0089\n",
      "# Problems: 0090-0099\n"
     ]
    }
   ],
   "source": [
    "for i in range(10):\n",
    "    print(f\"# Problems: 00{i}0-00{i}9\")"
   ]
  },
  {
   "cell_type": "markdown",
   "metadata": {},
   "source": [
    "# Problems: 0000-0009"
   ]
  },
  {
   "cell_type": "markdown",
   "metadata": {},
   "source": [
    "<!-- problem:start -->\n",
    "\n",
    "## [1. Two Sum](https://leetcode.com/problems/two-sum)\n",
    "\n",
    "\n",
    "## Description\n",
    "\n",
    "<!-- description:start -->\n",
    "\n",
    "<p>Given an array of integers <code>nums</code>&nbsp;and an integer <code>target</code>, return <em>indices of the two numbers such that they add up to <code>target</code></em>.</p>\n",
    "\n",
    "<p>You may assume that each input would have <strong><em>exactly</em> one solution</strong>, and you may not use the <em>same</em> element twice.</p>\n",
    "\n",
    "<p>You can return the answer in any order.</p>\n",
    "\n",
    "<p>&nbsp;</p>\n",
    "<p><strong class=\"example\">Example 1:</strong></p>\n",
    "\n",
    "<pre>\n",
    "<strong>Input:</strong> nums = [2,7,11,15], target = 9\n",
    "<strong>Output:</strong> [0,1]\n",
    "<strong>Explanation:</strong> Because nums[0] + nums[1] == 9, we return [0, 1].\n",
    "</pre>\n",
    "\n",
    "<p><strong class=\"example\">Example 2:</strong></p>\n",
    "\n",
    "<pre>\n",
    "<strong>Input:</strong> nums = [3,2,4], target = 6\n",
    "<strong>Output:</strong> [1,2]\n",
    "</pre>\n",
    "\n",
    "<p><strong class=\"example\">Example 3:</strong></p>\n",
    "\n",
    "<pre>\n",
    "<strong>Input:</strong> nums = [3,3], target = 6\n",
    "<strong>Output:</strong> [0,1]\n",
    "</pre>\n",
    "\n",
    "<p>&nbsp;</p>\n",
    "<p><strong>Constraints:</strong></p>\n",
    "\n",
    "<ul>\n",
    "\t<li><code>2 &lt;= nums.length &lt;= 10<sup>4</sup></code></li>\n",
    "\t<li><code>-10<sup>9</sup> &lt;= nums[i] &lt;= 10<sup>9</sup></code></li>\n",
    "\t<li><code>-10<sup>9</sup> &lt;= target &lt;= 10<sup>9</sup></code></li>\n",
    "\t<li><strong>Only one valid answer exists.</strong></li>\n",
    "</ul>\n",
    "\n",
    "<p>&nbsp;</p>\n",
    "<strong>Follow-up:&nbsp;</strong>Can you come up with an algorithm that is less than <code>O(n<sup>2</sup>)</code><font face=\"monospace\">&nbsp;</font>time complexity?\n",
    "\n",
    "<!-- description:end -->\n",
    "\n",
    "## Solutions\n",
    "\n",
    "<!-- solution:start -->\n",
    "\n",
    "### Solution 1: Hash Table\n",
    "\n",
    "We can use the hash table $m$ to store the array value and the corresponding subscript.\n",
    "\n",
    "Traverse the array `nums`, when you find `target - nums[i]` in the hash table, it means that the target value is found, and the index of `target - nums[i]` and $i$ are returned.\n",
    "\n",
    "The time complexity is $O(n)$ and the space complexity is $O(n)$. Where $n$ is the length of the array `nums`.\n",
    "\n",
    "<!-- tabs:start -->\n",
    "\n",
    "#### Python3\n",
    "\n",
    "```python\n",
    "class Solution:\n",
    "    def twoSum(self, nums: List[int], target: int) -> List[int]:\n",
    "        m = {}\n",
    "        for i, x in enumerate(nums):\n",
    "            y = target - x\n",
    "            if y in m:\n",
    "                return [m[y], i]\n",
    "            m[x] = i\n",
    "```\n",
    "\n",
    "<!-- tabs:end -->\n",
    "\n",
    "<!-- solution:end -->\n",
    "\n",
    "<!-- problem:end -->"
   ]
  },
  {
   "cell_type": "code",
   "execution_count": 9,
   "metadata": {},
   "outputs": [
    {
     "name": "stdout",
     "output_type": "stream",
     "text": [
      "[0, 1]\n",
      "[0, 2]\n",
      "[0, 1]\n"
     ]
    }
   ],
   "source": [
    "from typing import List\n",
    "\n",
    "class Solution:\n",
    "    def twoSum(self, nums: List[int], target: int) -> List[int]:\n",
    "        m = {}\n",
    "        for i, x in enumerate(nums):\n",
    "            y = target - x\n",
    "            if y in m:\n",
    "                return [m[y], i]\n",
    "            m[x] = i\n",
    "\n",
    "s = Solution()\n",
    "print(s.twoSum([2,7,11,19],9))\n",
    "print(s.twoSum([2,3,4],6))\n",
    "print(s.twoSum([3,3],6))\n"
   ]
  },
  {
   "cell_type": "markdown",
   "metadata": {},
   "source": [
    "# [2. Add Two Numbers](https://leetcode.com/problems/add-two-numbers)\n",
    "\n",
    "\n",
    "## Description\n",
    "\n",
    "<!-- description:start -->\n",
    "\n",
    "<p>You are given two <strong>non-empty</strong> linked lists representing two non-negative integers. The digits are stored in <strong>reverse order</strong>, and each of their nodes contains a single digit. Add the two numbers and return the sum&nbsp;as a linked list.</p>\n",
    "\n",
    "<p>You may assume the two numbers do not contain any leading zero, except the number 0 itself.</p>\n",
    "\n",
    "<p>&nbsp;</p>\n",
    "<p><strong class=\"example\">Example 1:</strong></p>\n",
    "<img alt=\"\" src=\"https://fastly.jsdelivr.net/gh/doocs/leetcode@main/solution/0000-0099/0002.Add%20Two%20Numbers/images/addtwonumber1.jpg\" style=\"width: 483px; height: 342px;\" />\n",
    "<pre>\n",
    "<strong>Input:</strong> l1 = [2,4,3], l2 = [5,6,4]\n",
    "<strong>Output:</strong> [7,0,8]\n",
    "<strong>Explanation:</strong> 342 + 465 = 807.\n",
    "</pre>\n",
    "\n",
    "<p><strong class=\"example\">Example 2:</strong></p>\n",
    "\n",
    "<pre>\n",
    "<strong>Input:</strong> l1 = [0], l2 = [0]\n",
    "<strong>Output:</strong> [0]\n",
    "</pre>\n",
    "\n",
    "<p><strong class=\"example\">Example 3:</strong></p>\n",
    "\n",
    "<pre>\n",
    "<strong>Input:</strong> l1 = [9,9,9,9,9,9,9], l2 = [9,9,9,9]\n",
    "<strong>Output:</strong> [8,9,9,9,0,0,0,1]\n",
    "</pre>\n",
    "\n",
    "<p>&nbsp;</p>\n",
    "<p><strong>Constraints:</strong></p>\n",
    "\n",
    "<ul>\n",
    "\t<li>The number of nodes in each linked list is in the range <code>[1, 100]</code>.</li>\n",
    "\t<li><code>0 &lt;= Node.val &lt;= 9</code></li>\n",
    "\t<li>It is guaranteed that the list represents a number that does not have leading zeros.</li>\n",
    "</ul>\n",
    "\n",
    "<!-- description:end -->\n",
    "\n",
    "## Solutions\n",
    "\n",
    "<!-- solution:start -->\n",
    "\n",
    "### Solution 1: Simulation\n",
    "\n",
    "We traverse two linked lists $l_1$ and $l_2$ at the same time, and use the variable $carry$ to indicate whether there is a carry.\n",
    "\n",
    "Each time we traverse, we take out the current bit of the corresponding linked list, calculate the sum with the carry $carry$, and then update the value of the carry. Then we add the current bit to the answer linked list. If both linked lists are traversed, and the carry is $0$, the traversal ends.\n",
    "\n",
    "Finally, we return the head node of the answer linked list.\n",
    "\n",
    "The time complexity is $O(\\max (m, n))$, where $m$ and $n$ are the lengths of the two linked lists. We need to traverse the entire position of the two linked lists, and each position only needs $O(1)$ time. Ignoring the space consumption of the answer, the space complexity is $O(1)$.\n",
    "\n",
    "<!-- tabs:start -->\n",
    "\n",
    "#### Python3\n",
    "\n",
    "```python\n",
    "# Definition for singly-linked list.\n",
    "# class ListNode:\n",
    "#     def __init__(self, val=0, next=None):\n",
    "#         self.val = val\n",
    "#         self.next = next\n",
    "class Solution:\n",
    "    def addTwoNumbers(\n",
    "        self, l1: Optional[ListNode], l2: Optional[ListNode]\n",
    "    ) -> Optional[ListNode]:\n",
    "        dummy = ListNode()\n",
    "        carry, curr = 0, dummy\n",
    "        while l1 or l2 or carry:\n",
    "            s = (l1.val if l1 else 0) + (l2.val if l2 else 0) + carry\n",
    "            carry, val = divmod(s, 10)\n",
    "            curr.next = ListNode(val)\n",
    "            curr = curr.next\n",
    "            l1 = l1.next if l1 else None\n",
    "            l2 = l2.next if l2 else None\n",
    "        return dummy.next\n",
    "```\n",
    "\n",
    "\n",
    "<!-- tabs:end -->\n",
    "\n",
    "<!-- solution:end -->\n",
    "\n",
    "<!-- problem:end -->"
   ]
  },
  {
   "cell_type": "code",
   "execution_count": null,
   "metadata": {},
   "outputs": [],
   "source": [
    "from typing import Optional\n",
    "\n",
    "# Definition for singly-linked list.\n",
    "class ListNode:\n",
    "    def __init__(self, val=0, next=None):\n",
    "        self.val = val\n",
    "        self.next = next\n",
    "\n",
    "class Solution:\n",
    "    def addTwoNumbers(self, l1: Optional[ListNode], l2: Optional[ListNode]) -> Optional[ListNode]:\n",
    "        dummy = ListNode()\n",
    "        carry, curr = 0, dummy\n",
    "        while l1 or l2 or carry:\n",
    "            s = (l1.val if l1 else 0) + (l2.val if l2 else 0) + carry\n",
    "            carry, val = divmod(s, 10)\n",
    "            curr.next = ListNode(val)\n",
    "            curr = curr.next\n",
    "            l1 = l1.next if l1 else None\n",
    "            l2 = l2.next if l2 else None\n",
    "        return dummy.next\n",
    "l1 = [2,4,3]\n",
    "l2 = [5,6,4]\n",
    "\n",
    "# Output: [7,0,8]    "
   ]
  },
  {
   "cell_type": "markdown",
   "metadata": {},
   "source": [
    "# Problems: 0010-0019\n"
   ]
  },
  {
   "cell_type": "markdown",
   "metadata": {},
   "source": [
    "# Problems: 0020-0029\n"
   ]
  },
  {
   "cell_type": "markdown",
   "metadata": {},
   "source": [
    "# Problems: 0030-0039\n"
   ]
  },
  {
   "cell_type": "markdown",
   "metadata": {},
   "source": [
    "# Problems: 0040-0049\n"
   ]
  },
  {
   "cell_type": "markdown",
   "metadata": {},
   "source": [
    "# Problems: 0050-0059\n"
   ]
  },
  {
   "cell_type": "markdown",
   "metadata": {},
   "source": [
    "# Problems: 0060-0069\n"
   ]
  },
  {
   "cell_type": "markdown",
   "metadata": {},
   "source": [
    "# Problems: 0070-0079\n"
   ]
  },
  {
   "cell_type": "markdown",
   "metadata": {},
   "source": [
    "# Problems: 0080-0089\n"
   ]
  },
  {
   "cell_type": "markdown",
   "metadata": {},
   "source": [
    "# Problems: 0090-0099"
   ]
  },
  {
   "cell_type": "markdown",
   "metadata": {},
   "source": []
  }
 ],
 "metadata": {
  "kernelspec": {
   "display_name": "Python 3",
   "language": "python",
   "name": "python3"
  },
  "language_info": {
   "codemirror_mode": {
    "name": "ipython",
    "version": 3
   },
   "file_extension": ".py",
   "mimetype": "text/x-python",
   "name": "python",
   "nbconvert_exporter": "python",
   "pygments_lexer": "ipython3",
   "version": "3.11.5"
  }
 },
 "nbformat": 4,
 "nbformat_minor": 2
}

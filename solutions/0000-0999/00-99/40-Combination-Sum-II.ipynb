{
 "cells": [
  {
   "cell_type": "markdown",
   "metadata": {},
   "source": [
    "### [40. Combination Sum II](https://leetcode.com/problems/combination-sum-ii/)\n",
    "\n",
    "Medium\n",
    "\n",
    "Given a collection of candidate numbers (candidates) and a target number (target), find all unique combinations in candidates where the candidate numbers sum to target.\n",
    "\n",
    "Each number in candidates may only be used once in the combination.\n",
    "\n",
    "Note: The solution set must not contain duplicate combinations.\n",
    "\n",
    " \n",
    "\n",
    "Example 1:\n",
    "\n",
    "```\n",
    "Input: candidates = [10,1,2,7,6,1,5], target = 8\n",
    "Output: \n",
    "[\n",
    "[1,1,6],\n",
    "[1,2,5],\n",
    "[1,7],\n",
    "[2,6]\n",
    "]\n",
    "Example 2:\n",
    "\n",
    "Input: candidates = [2,5,2,1,2], target = 5\n",
    "Output: \n",
    "[\n",
    "[1,2,2],\n",
    "[5]\n",
    "]\n",
    "\n",
    "``` \n",
    "\n",
    "Constraints:\n",
    "\n",
    "\n",
    "- 1 <= candidates.length <= 100\n",
    "- 1 <= candidates[i] <= 50\n",
    "- 1 <= target <= 30"
   ]
  },
  {
   "cell_type": "code",
   "execution_count": null,
   "metadata": {},
   "outputs": [],
   "source": [
    "class Solution:\n",
    "  def combinationSum2(self, candidates: list[int],\n",
    "                      target: int) -> list[list[int]]:\n",
    "    ans = []\n",
    "\n",
    "    def dfs(s: int, target: int, path: list[int]) -> None:\n",
    "      if target < 0:\n",
    "        return\n",
    "      if target == 0:\n",
    "        ans.append(path.copy())\n",
    "        return\n",
    "\n",
    "      for i in range(s, len(candidates)):\n",
    "        if i > s and candidates[i] == candidates[i - 1]:\n",
    "          continue\n",
    "        path.append(candidates[i])\n",
    "        dfs(i + 1, target - candidates[i], path)\n",
    "        path.pop()\n",
    "\n",
    "    candidates.sort()\n",
    "    dfs(0, target, [])\n",
    "    return ans"
   ]
  }
 ],
 "metadata": {
  "language_info": {
   "name": "python"
  }
 },
 "nbformat": 4,
 "nbformat_minor": 2
}

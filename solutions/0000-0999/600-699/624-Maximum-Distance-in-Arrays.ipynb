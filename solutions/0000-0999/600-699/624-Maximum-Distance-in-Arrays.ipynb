{
 "cells": [
  {
   "cell_type": "markdown",
   "metadata": {},
   "source": [
    "### [624. Maximum Distance in Arrays](https://leetcode.com/problems/maximum-distance-in-arrays/)\n",
    "\n",
    "Medium\n",
    "\n",
    "You are given m arrays, where each array is sorted in ascending order.\n",
    "\n",
    "You can pick up two integers from two different arrays (each array picks one) and calculate the distance. We define the distance between two integers a and b to be their absolute difference |a - b|.\n",
    "\n",
    "Return the maximum distance.\n",
    "\n",
    " \n",
    "\n",
    "Example 1:\n",
    "\n",
    "```\n",
    "Input: arrays = [[1,2,3],[4,5],[1,2,3]]\n",
    "Output: 4\n",
    "Explanation: One way to reach the maximum distance 4 is to pick 1 in the first or third array and pick 5 in the second array.\n",
    "Example 2:\n",
    "\n",
    "Input: arrays = [[1],[1]]\n",
    "Output: 0\n",
    "\n",
    "``` \n",
    "\n",
    "Constraints:\n",
    "\n",
    "\n",
    "1. m == arrays.length\n",
    "2. 2 <= m <= 105\n",
    "3. 1 <= arrays[i].length <= 500\n",
    "4. -104 <= arrays[i][j] <= 104\n",
    "5. arrays[i] is sorted in ascending order.\n",
    "6. There will be at most 105 integers in all the arrays."
   ]
  },
  {
   "cell_type": "code",
   "execution_count": null,
   "metadata": {},
   "outputs": [],
   "source": [
    "class Solution:\n",
    "  def maxDistance(self, arrays: list[list[int]]) -> int:\n",
    "    ans = 0\n",
    "    mn = 10000\n",
    "    mx = -10000\n",
    "\n",
    "    for A in arrays:\n",
    "      ans = max(ans, A[-1] - mn, mx - A[0])\n",
    "      mn = min(mn, A[0])\n",
    "      mx = max(mx, A[-1])\n",
    "\n",
    "    return ans"
   ]
  }
 ],
 "metadata": {
  "language_info": {
   "name": "python"
  }
 },
 "nbformat": 4,
 "nbformat_minor": 2
}

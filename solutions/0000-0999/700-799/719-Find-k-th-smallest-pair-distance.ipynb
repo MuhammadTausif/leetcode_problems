{
 "cells": [
  {
   "cell_type": "markdown",
   "metadata": {},
   "source": [
    "### [719. Find K-th Smallest Pair Distance](https://leetcode.com/problems/find-k-th-smallest-pair-distance/)\n",
    "\n",
    "Hard\n",
    "\n",
    "The distance of a pair of integers a and b is defined as the absolute difference between a and b.\n",
    "\n",
    "Given an integer array nums and an integer k, return the kth smallest distance among all the pairs nums[i] and nums[j] where 0 <= i < j < nums.length.\n",
    "\n",
    " \n",
    "\n",
    "Example 1:\n",
    "\n",
    "```\n",
    "Input: nums = [1,3,1], k = 1\n",
    "Output: 0\n",
    "Explanation: Here are all the pairs:\n",
    "(1,3) -> 2\n",
    "(1,1) -> 0\n",
    "(3,1) -> 2\n",
    "Then the 1st smallest distance pair is (1,1), and its distance is 0.\n",
    "Example 2:\n",
    "\n",
    "Input: nums = [1,1,1], k = 2\n",
    "Output: 0\n",
    "Example 3:\n",
    "\n",
    "Input: nums = [1,6,1], k = 3\n",
    "Output: 5\n",
    "\n",
    "``` \n",
    "\n",
    "Constraints:\n",
    "\n",
    "\n",
    "- n == nums.length\n",
    "- 2 <= n <= 104\n",
    "- 0 <= nums[i] <= 106\n",
    "- 1 <= k <= n * (n - 1) / 2"
   ]
  },
  {
   "cell_type": "code",
   "execution_count": null,
   "metadata": {},
   "outputs": [],
   "source": [
    "\n",
    "\n",
    "import bisect\n",
    "\n",
    "\n",
    "class Solution:\n",
    "  def smallestDistancePair(self, nums: list[int], k: int) -> int:\n",
    "    nums.sort()\n",
    "\n",
    "    def numPairDistancesNoGreaterThan(m: int) -> int:\n",
    "      count = 0\n",
    "      j = 1\n",
    "      # For each index i, find the first index j s.t. nums[j] > nums[i] + m,\n",
    "      # so numPairDistancesNoGreaterThan for the index i will be j - i - 1.\n",
    "      for i, num in enumerate(nums):\n",
    "        while j < len(nums) and nums[j] <= num + m:\n",
    "          j += 1\n",
    "        count += j - i - 1\n",
    "      return count\n",
    "\n",
    "    return bisect.bisect_left(\n",
    "        range(0, nums[-1] - nums[0]), k,\n",
    "        key=lambda m: numPairDistancesNoGreaterThan(m))"
   ]
  }
 ],
 "metadata": {
  "language_info": {
   "name": "python"
  }
 },
 "nbformat": 4,
 "nbformat_minor": 2
}

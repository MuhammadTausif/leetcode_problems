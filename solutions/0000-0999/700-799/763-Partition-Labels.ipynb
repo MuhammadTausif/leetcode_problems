{
 "cells": [
  {
   "cell_type": "markdown",
   "metadata": {},
   "source": [
    "### 763. Partition Labels"
   ]
  },
  {
   "cell_type": "code",
   "execution_count": 1,
   "metadata": {},
   "outputs": [],
   "source": [
    "class Solution:\n",
    "  def partitionLabels(self, s: str) -> list[int]:\n",
    "    ans = []\n",
    "    letterToRightmostIndex = {c: i for i, c in enumerate(s)}\n",
    "\n",
    "    l = 0  # the leftmost index of the current running string\n",
    "    r = 0  # the rightmost index of the current running string\n",
    "\n",
    "    for i, c in enumerate(s):\n",
    "      r = max(r, letterToRightmostIndex[c])\n",
    "      if i == r:\n",
    "        ans.append(r - l + 1)\n",
    "        l = r + 1\n",
    "\n",
    "    return ans"
   ]
  },
  {
   "cell_type": "code",
   "execution_count": 2,
   "metadata": {},
   "outputs": [
    {
     "name": "stdout",
     "output_type": "stream",
     "text": [
      "[9, 7, 8]\n",
      "[10]\n"
     ]
    }
   ],
   "source": [
    "solution = Solution()\n",
    "print(solution.partitionLabels(\"ababcbacadefegdehijhklij\"))  # [9, 7, 8]\n",
    "print(solution.partitionLabels(\"eccbbbbdec\"))  # [10]"
   ]
  }
 ],
 "metadata": {
  "kernelspec": {
   "display_name": "Python 3",
   "language": "python",
   "name": "python3"
  },
  "language_info": {
   "codemirror_mode": {
    "name": "ipython",
    "version": 3
   },
   "file_extension": ".py",
   "mimetype": "text/x-python",
   "name": "python",
   "nbconvert_exporter": "python",
   "pygments_lexer": "ipython3",
   "version": "3.11.5"
  }
 },
 "nbformat": 4,
 "nbformat_minor": 2
}

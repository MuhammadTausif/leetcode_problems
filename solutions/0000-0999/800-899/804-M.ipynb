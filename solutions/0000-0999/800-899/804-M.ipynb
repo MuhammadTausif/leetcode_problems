{
 "cells": [
  {
   "cell_type": "markdown",
   "metadata": {},
   "source": [
    "### 840. Magic Squares In Grid\n",
    "\n",
    "https://leetcode.com/problems/magic-squares-in-grid/\n",
    "\n",
    "Medium\n",
    "Topics\n",
    "Companies\n",
    "A 3 x 3 magic square is a 3 x 3 grid filled with distinct numbers from 1 to 9 such that each row, column, and both diagonals all have the same sum.\n",
    "\n",
    "Given a row x col grid of integers, how many 3 x 3 contiguous magic square subgrids are there?\n",
    "\n",
    "Note: while a magic square can only contain numbers from 1 to 9, grid may contain numbers up to 15.\n",
    "\n",
    " \n",
    "\n",
    "Example 1:\n",
    "\n",
    "```\n",
    "Input: grid = [[4,3,8,4],[9,5,1,9],[2,7,6,2]]\n",
    "Output: 1\n",
    "Explanation: \n",
    "The following subgrid is a 3 x 3 magic square:\n",
    "\n",
    "while this one is not:\n",
    "\n",
    "In total, there is only one magic square inside the given grid.\n",
    "Example 2:\n",
    "\n",
    "Input: grid = [[8]]\n",
    "Output: 0\n",
    "``` \n",
    "\n",
    "Constraints:\n",
    "\n",
    "- row == grid.length\n",
    "- col == grid[i].length\n",
    "- 1 <= row, col <= 10\n",
    "- 0 <= grid[i][j] <= 15"
   ]
  },
  {
   "cell_type": "code",
   "execution_count": null,
   "metadata": {},
   "outputs": [],
   "source": [
    "from typing import List\n",
    "class Solution:\n",
    "  \n",
    "  def uniqueMorseRepresentations(self, words: List[str]) -> int:\n",
    "    morse = [\".-\", \"-...\", \"-.-.\", \"-..\", \".\", \"..-.\", \"--.\", \"....\", \"..\", \".---\", \"-.-\", \".-..\", \"--\",\n",
    "             \"-.\", \"---\", \".--.\", \"--.-\", \".-.\", \"...\", \"-\", \"..-\", \"...-\", \".--\", \"-..-\", \"-.--\", \"--..\"]\n",
    "    transformations = set()\n",
    "\n",
    "    for word in words:\n",
    "      transformation = ''.join(morse[ord(c) - ord('a')] for c in word)\n",
    "      transformations.add(transformation)\n",
    "\n",
    "    return len(transformations)"
   ]
  }
 ],
 "metadata": {
  "language_info": {
   "name": "python"
  }
 },
 "nbformat": 4,
 "nbformat_minor": 2
}

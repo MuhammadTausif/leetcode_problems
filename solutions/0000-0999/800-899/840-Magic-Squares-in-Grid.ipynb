{
 "cells": [
  {
   "cell_type": "markdown",
   "metadata": {},
   "source": [
    "### 840. Magic Squares In Grid\n",
    "\n",
    "https://leetcode.com/problems/magic-squares-in-grid/\n",
    "\n",
    "Medium\n",
    "Topics\n",
    "Companies\n",
    "A 3 x 3 magic square is a 3 x 3 grid filled with distinct numbers from 1 to 9 such that each row, column, and both diagonals all have the same sum.\n",
    "\n",
    "Given a row x col grid of integers, how many 3 x 3 contiguous magic square subgrids are there?\n",
    "\n",
    "Note: while a magic square can only contain numbers from 1 to 9, grid may contain numbers up to 15.\n",
    "\n",
    " \n",
    "\n",
    "Example 1:\n",
    "\n",
    "```\n",
    "Input: grid = [[4,3,8,4],[9,5,1,9],[2,7,6,2]]\n",
    "Output: 1\n",
    "Explanation: \n",
    "The following subgrid is a 3 x 3 magic square:\n",
    "\n",
    "while this one is not:\n",
    "\n",
    "In total, there is only one magic square inside the given grid.\n",
    "Example 2:\n",
    "\n",
    "Input: grid = [[8]]\n",
    "Output: 0\n",
    "``` \n",
    "\n",
    "Constraints:\n",
    "\n",
    "- row == grid.length\n",
    "- col == grid[i].length\n",
    "- 1 <= row, col <= 10\n",
    "- 0 <= grid[i][j] <= 15"
   ]
  },
  {
   "cell_type": "code",
   "execution_count": null,
   "metadata": {},
   "outputs": [],
   "source": [
    "from typing import List\n",
    "\n",
    "class Solution:\n",
    "  def numMagicSquaresInside(self, grid: List[List[int]]) -> int:\n",
    "    def isMagic(i: int, j: int) -> int:\n",
    "      s = \"\".join(str(grid[i + num // 3][j + num % 3])\n",
    "                  for num in [0, 1, 2, 5, 8, 7, 6, 3])\n",
    "      return s in \"43816729\" * 2 or s in \"43816729\"[::-1] * 2\n",
    "\n",
    "    ans = 0\n",
    "\n",
    "    for i in range(len(grid) - 2):\n",
    "      for j in range(len(grid[0]) - 2):\n",
    "        if grid[i][j] % 2 == 0 and grid[i + 1][j + 1] == 5:\n",
    "          ans += isMagic(i, j)\n",
    "\n",
    "    return ans"
   ]
  }
 ],
 "metadata": {
  "language_info": {
   "name": "python"
  }
 },
 "nbformat": 4,
 "nbformat_minor": 2
}

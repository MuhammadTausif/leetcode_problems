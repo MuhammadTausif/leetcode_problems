{
 "cells": [
  {
   "cell_type": "markdown",
   "metadata": {},
   "source": [
    "### 889. Construct Binary Tree from Preorder and Postorder Traversal"
   ]
  },
  {
   "cell_type": "code",
   "execution_count": 1,
   "metadata": {},
   "outputs": [],
   "source": [
    "# Definition for a binary tree node.\n",
    "class TreeNode:\n",
    "    def __init__(self, val=0, left=None, right=None):\n",
    "        self.val = val\n",
    "        self.left = left\n",
    "        self.right = right\n",
    "\n",
    "class Solution:\n",
    "  def constructFromPrePost(\n",
    "      self,\n",
    "      pre: list[int],\n",
    "      post: list[int],\n",
    "  ) -> TreeNode | None:\n",
    "    postToIndex = {num: i for i, num in enumerate(post)}\n",
    "\n",
    "    def build(preStart: int, preEnd: int, postStart: int, postEnd: int) -> TreeNode | None:\n",
    "      if preStart > preEnd:\n",
    "        return None\n",
    "      if preStart == preEnd:\n",
    "        return TreeNode(pre[preStart])\n",
    "\n",
    "      rootVal = pre[preStart]\n",
    "      leftRootVal = pre[preStart + 1]\n",
    "      leftRootPostIndex = postToIndex[leftRootVal]\n",
    "      leftSize = leftRootPostIndex - postStart + 1\n",
    "\n",
    "      root = TreeNode(rootVal)\n",
    "      root.left = build(preStart + 1, preStart + leftSize,\n",
    "                        postStart, leftRootPostIndex)\n",
    "      root.right = build(preStart + leftSize + 1, preEnd,\n",
    "                         leftRootPostIndex + 1, postEnd - 1)\n",
    "      return root\n",
    "\n",
    "    return build(0, len(pre) - 1, 0, len(post) - 1)"
   ]
  },
  {
   "cell_type": "code",
   "execution_count": 2,
   "metadata": {},
   "outputs": [],
   "source": [
    "preorder = [1,2,4,5,3,6,7]\n",
    "postorder = [4,5,2,6,7,3,1]"
   ]
  },
  {
   "cell_type": "code",
   "execution_count": 3,
   "metadata": {},
   "outputs": [],
   "source": [
    "s = Solution()"
   ]
  },
  {
   "cell_type": "code",
   "execution_count": 4,
   "metadata": {},
   "outputs": [
    {
     "name": "stdout",
     "output_type": "stream",
     "text": [
      "<__main__.TreeNode object at 0x0000020525AB56D0>\n"
     ]
    }
   ],
   "source": [
    "print(s.constructFromPrePost(preorder, postorder))"
   ]
  }
 ],
 "metadata": {
  "kernelspec": {
   "display_name": "Python 3",
   "language": "python",
   "name": "python3"
  },
  "language_info": {
   "codemirror_mode": {
    "name": "ipython",
    "version": 3
   },
   "file_extension": ".py",
   "mimetype": "text/x-python",
   "name": "python",
   "nbconvert_exporter": "python",
   "pygments_lexer": "ipython3",
   "version": "3.11.5"
  }
 },
 "nbformat": 4,
 "nbformat_minor": 2
}

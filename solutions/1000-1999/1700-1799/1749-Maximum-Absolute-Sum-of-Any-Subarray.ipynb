{
 "cells": [
  {
   "cell_type": "code",
   "execution_count": 2,
   "metadata": {},
   "outputs": [],
   "source": [
    "import math\n",
    "\n",
    "\n",
    "class Solution:\n",
    "  def maxAbsoluteSum(self, nums):\n",
    "    ans = -math.inf\n",
    "    maxSum = 0\n",
    "    minSum = 0\n",
    "\n",
    "    for num in nums:\n",
    "      maxSum = max(num, maxSum + num)\n",
    "      minSum = min(num, minSum + num)\n",
    "      ans = max(ans, maxSum, -minSum)\n",
    "\n",
    "    return ans"
   ]
  },
  {
   "cell_type": "code",
   "execution_count": 4,
   "metadata": {},
   "outputs": [
    {
     "name": "stdout",
     "output_type": "stream",
     "text": [
      "[1, -3, 2, 3, -4] :  5\n",
      "[2, -5, 1, -4, 3, -2] :  8\n"
     ]
    }
   ],
   "source": [
    "nums1 = [1,-3,2,3,-4]\n",
    "nums2 = [2,-5,1,-4,3,-2]\n",
    "s = Solution()\n",
    "print(nums1,\": \",s.maxAbsoluteSum(nums1))\n",
    "print(nums2,\": \",s.maxAbsoluteSum(nums2))"
   ]
  }
 ],
 "metadata": {
  "kernelspec": {
   "display_name": "Python 3",
   "language": "python",
   "name": "python3"
  },
  "language_info": {
   "codemirror_mode": {
    "name": "ipython",
    "version": 3
   },
   "file_extension": ".py",
   "mimetype": "text/x-python",
   "name": "python",
   "nbconvert_exporter": "python",
   "pygments_lexer": "ipython3",
   "version": "3.11.5"
  }
 },
 "nbformat": 4,
 "nbformat_minor": 2
}

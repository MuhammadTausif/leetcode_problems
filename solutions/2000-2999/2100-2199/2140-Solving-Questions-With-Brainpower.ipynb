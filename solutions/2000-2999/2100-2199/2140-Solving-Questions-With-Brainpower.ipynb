{
 "cells": [
  {
   "cell_type": "markdown",
   "metadata": {},
   "source": [
    "### 2140. Solving Questions With Brainpower"
   ]
  },
  {
   "cell_type": "code",
   "execution_count": 1,
   "metadata": {},
   "outputs": [],
   "source": [
    "class Solution:\n",
    "  def mostPoints(self, questions: list[list[int]]) -> int:\n",
    "    n = len(questions)\n",
    "    # dp[i] := the maximum points starting from questions[i]\n",
    "    dp = [0] * (n + 1)\n",
    "\n",
    "    for i in reversed(range(n)):\n",
    "      points, brainpower = questions[i]\n",
    "      nextIndex = i + brainpower + 1\n",
    "      nextPoints = dp[nextIndex] if nextIndex < n else 0\n",
    "      dp[i] = max(points + nextPoints, dp[i + 1])\n",
    "\n",
    "    return dp[0]"
   ]
  },
  {
   "cell_type": "code",
   "execution_count": 2,
   "metadata": {},
   "outputs": [
    {
     "name": "stdout",
     "output_type": "stream",
     "text": [
      "7\n",
      "5\n"
     ]
    }
   ],
   "source": [
    "questions1 = [[1,1],[2,2],[3,3],[4,4],[5,5]]\n",
    "questions2 = [[3,2],[4,3],[4,4],[2,5]]\n",
    "solution = Solution()\n",
    "print(solution.mostPoints(questions1)) # Expected output: 7\n",
    "print(solution.mostPoints(questions2)) # Expected output: 5"
   ]
  }
 ],
 "metadata": {
  "kernelspec": {
   "display_name": "Python 3",
   "language": "python",
   "name": "python3"
  },
  "language_info": {
   "codemirror_mode": {
    "name": "ipython",
    "version": 3
   },
   "file_extension": ".py",
   "mimetype": "text/x-python",
   "name": "python",
   "nbconvert_exporter": "python",
   "pygments_lexer": "ipython3",
   "version": "3.11.5"
  }
 },
 "nbformat": 4,
 "nbformat_minor": 2
}

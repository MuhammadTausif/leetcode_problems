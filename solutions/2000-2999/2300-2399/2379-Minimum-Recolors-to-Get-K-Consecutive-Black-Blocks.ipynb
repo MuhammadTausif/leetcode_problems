{
 "cells": [
  {
   "cell_type": "code",
   "execution_count": 1,
   "metadata": {},
   "outputs": [],
   "source": [
    "class Solution:\n",
    "  def minimumRecolors(self, blocks: str, k: int) -> int:\n",
    "    countB = 0\n",
    "    maxCountB = 0\n",
    "\n",
    "    for i, block in enumerate(blocks):\n",
    "      if block == 'B':\n",
    "        countB += 1\n",
    "      if i >= k and blocks[i - k] == 'B':\n",
    "        countB -= 1\n",
    "      maxCountB = max(maxCountB, countB)\n",
    "\n",
    "    return k - maxCountB"
   ]
  },
  {
   "cell_type": "code",
   "execution_count": 2,
   "metadata": {},
   "outputs": [
    {
     "data": {
      "text/plain": [
       "3"
      ]
     },
     "execution_count": 2,
     "metadata": {},
     "output_type": "execute_result"
    }
   ],
   "source": [
    "blocks = \"WBBWWBBWBW\"\n",
    "k = 7\n",
    "s = Solution()\n",
    "s.minimumRecolors(blocks,k)"
   ]
  }
 ],
 "metadata": {
  "kernelspec": {
   "display_name": "Python 3",
   "language": "python",
   "name": "python3"
  },
  "language_info": {
   "codemirror_mode": {
    "name": "ipython",
    "version": 3
   },
   "file_extension": ".py",
   "mimetype": "text/x-python",
   "name": "python",
   "nbconvert_exporter": "python",
   "pygments_lexer": "ipython3",
   "version": "3.11.5"
  }
 },
 "nbformat": 4,
 "nbformat_minor": 2
}

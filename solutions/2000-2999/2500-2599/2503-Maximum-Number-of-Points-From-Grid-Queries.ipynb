{
 "cells": [
  {
   "cell_type": "markdown",
   "metadata": {},
   "source": [
    "### 2503. Maximum Number of Points From Grid Queries"
   ]
  },
  {
   "cell_type": "code",
   "execution_count": 3,
   "metadata": {},
   "outputs": [],
   "source": [
    "from dataclasses import dataclass\n",
    "import heapq\n",
    "\n",
    "\n",
    "@dataclass(frozen=True)\n",
    "class IndexedQuery:\n",
    "  queryIndex: int\n",
    "  query: int\n",
    "\n",
    "  def __iter__(self):\n",
    "    yield self.queryIndex\n",
    "    yield self.query\n",
    "\n",
    "\n",
    "class Solution:\n",
    "  def maxPoints(self, grid: list[list[int]], queries: list[int]) -> list[int]:\n",
    "    DIRS = ((0, 1), (1, 0), (0, -1), (-1, 0))\n",
    "    m = len(grid)\n",
    "    n = len(grid[0])\n",
    "    ans = [0] * len(queries)\n",
    "    minHeap = [(grid[0][0], 0, 0)]  # (grid[i][j], i, j)\n",
    "    seen = {(0, 0)}\n",
    "    accumulate = 0\n",
    "\n",
    "    for queryIndex, query in sorted([IndexedQuery(i, query)\n",
    "                                     for i, query in enumerate(queries)],\n",
    "                                    key=lambda x: x.query):\n",
    "      while minHeap:\n",
    "        val, i, j = heapq.heappop(minHeap)\n",
    "        if val >= query:\n",
    "          # The smallest neighbor is still larger than `query`, so no need to\n",
    "          # keep exploring. Re-push (i, j, grid[i][j]) back to the `minHeap`.\n",
    "          heapq.heappush(minHeap, (val, i, j))\n",
    "          break\n",
    "        accumulate += 1\n",
    "        for dx, dy in DIRS:\n",
    "          x = i + dx\n",
    "          y = j + dy\n",
    "          if x < 0 or x == m or y < 0 or y == n:\n",
    "            continue\n",
    "          if (x, y) in seen:\n",
    "            continue\n",
    "          heapq.heappush(minHeap, (grid[x][y], x, y))\n",
    "          seen.add((x, y))\n",
    "      ans[queryIndex] = accumulate\n",
    "\n",
    "    return ans"
   ]
  },
  {
   "cell_type": "code",
   "execution_count": 4,
   "metadata": {},
   "outputs": [
    {
     "name": "stdout",
     "output_type": "stream",
     "text": [
      "[5, 8, 1]\n"
     ]
    }
   ],
   "source": [
    "grid = [[1,2,3],[2,5,7],[3,5,1]]\n",
    "queries = [5,6,2]\n",
    "\n",
    "sol = Solution()\n",
    "print(sol.maxPoints(grid, queries))"
   ]
  }
 ],
 "metadata": {
  "kernelspec": {
   "display_name": "Python 3",
   "language": "python",
   "name": "python3"
  },
  "language_info": {
   "codemirror_mode": {
    "name": "ipython",
    "version": 3
   },
   "file_extension": ".py",
   "mimetype": "text/x-python",
   "name": "python",
   "nbconvert_exporter": "python",
   "pygments_lexer": "ipython3",
   "version": "3.11.5"
  }
 },
 "nbformat": 4,
 "nbformat_minor": 2
}

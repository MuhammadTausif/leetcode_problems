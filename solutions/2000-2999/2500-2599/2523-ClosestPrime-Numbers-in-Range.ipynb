{
 "cells": [
  {
   "cell_type": "code",
   "execution_count": 1,
   "metadata": {},
   "outputs": [],
   "source": [
    "import math\n",
    "\n",
    "class Solution:\n",
    "  def closestPrimes(self, left: int, right: int) -> list[int]:\n",
    "    isPrime = self._sieveEratosthenes(right + 1)\n",
    "    primes = [i for i in range(left, right + 1) if isPrime[i]]\n",
    "\n",
    "    if len(primes) < 2:\n",
    "      return [-1, -1]\n",
    "\n",
    "    minDiff = math.inf\n",
    "    num1 = -1\n",
    "    num2 = -1\n",
    "\n",
    "    for a, b in zip(primes, primes[1:]):\n",
    "      diff = b - a\n",
    "      if diff < minDiff:\n",
    "        minDiff = diff\n",
    "        num1 = a\n",
    "        num2 = b\n",
    "\n",
    "    return [num1, num2]\n",
    "\n",
    "  def _sieveEratosthenes(self, n: int) -> list[bool]:\n",
    "    isPrime = [True] * n\n",
    "    isPrime[0] = False\n",
    "    isPrime[1] = False\n",
    "    for i in range(2, int(n**0.5) + 1):\n",
    "      if isPrime[i]:\n",
    "        for j in range(i * i, n, i):\n",
    "          isPrime[j] = False\n",
    "    return isPrime"
   ]
  },
  {
   "cell_type": "code",
   "execution_count": 6,
   "metadata": {},
   "outputs": [
    {
     "data": {
      "text/plain": [
       "[11, 13]"
      ]
     },
     "execution_count": 6,
     "metadata": {},
     "output_type": "execute_result"
    }
   ],
   "source": [
    "left = 10\n",
    "right = 19\n",
    "\n",
    "s = Solution()\n",
    "s.closestPrimes(left, right)"
   ]
  }
 ],
 "metadata": {
  "kernelspec": {
   "display_name": "Python 3",
   "language": "python",
   "name": "python3"
  },
  "language_info": {
   "codemirror_mode": {
    "name": "ipython",
    "version": 3
   },
   "file_extension": ".py",
   "mimetype": "text/x-python",
   "name": "python",
   "nbconvert_exporter": "python",
   "pygments_lexer": "ipython3",
   "version": "3.11.5"
  }
 },
 "nbformat": 4,
 "nbformat_minor": 2
}

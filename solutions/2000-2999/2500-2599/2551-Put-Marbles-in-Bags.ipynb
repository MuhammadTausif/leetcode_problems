{
 "cells": [
  {
   "cell_type": "markdown",
   "metadata": {},
   "source": [
    "### 2551. Put Marbles in Bags"
   ]
  },
  {
   "cell_type": "code",
   "execution_count": 2,
   "metadata": {},
   "outputs": [],
   "source": [
    "import itertools\n",
    "import heapq\n",
    "from typing import List\n",
    "\n",
    "class Solution:\n",
    "  def putMarbles(self, weights: list[int], k: int) -> int:\n",
    "    # To distribute marbles into k bags, there will be k - 1 cuts. If there's a\n",
    "    # cut after weights[i], then weights[i] and weights[i + 1] will be added to\n",
    "    # the cost. Also, no matter how we cut, weights[0] and weights[n - 1] will\n",
    "    # be counted. So, the goal is to find the max//min k - 1 weights[i] +\n",
    "    # weights[i + 1].\n",
    "\n",
    "    # weights[i] + weights[i + 1]\n",
    "    arr = [a + b for a, b in itertools.pairwise(weights)]\n",
    "    return sum(heapq.nlargest(k - 1, arr)) - sum(heapq.nsmallest(k - 1, arr))"
   ]
  },
  {
   "cell_type": "code",
   "execution_count": 4,
   "metadata": {},
   "outputs": [
    {
     "name": "stdout",
     "output_type": "stream",
     "text": [
      "4\n",
      "0\n"
     ]
    }
   ],
   "source": [
    "weights = [1,3,5,1]\n",
    "k = 2\n",
    "\n",
    "print(Solution().putMarbles(weights, k)) # Expected 4\n",
    "print(Solution().putMarbles([1, 3], 2)) # Expected 0\n"
   ]
  }
 ],
 "metadata": {
  "kernelspec": {
   "display_name": "Python 3",
   "language": "python",
   "name": "python3"
  },
  "language_info": {
   "codemirror_mode": {
    "name": "ipython",
    "version": 3
   },
   "file_extension": ".py",
   "mimetype": "text/x-python",
   "name": "python",
   "nbconvert_exporter": "python",
   "pygments_lexer": "ipython3",
   "version": "3.11.5"
  }
 },
 "nbformat": 4,
 "nbformat_minor": 2
}

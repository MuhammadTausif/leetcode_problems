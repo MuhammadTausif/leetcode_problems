{
 "cells": [
  {
   "cell_type": "code",
   "execution_count": 2,
   "metadata": {},
   "outputs": [],
   "source": [
    "import bisect\n",
    "\n",
    "class Solution:\n",
    "  def minCapability(self, nums: list[int], k: int) -> int:\n",
    "    def numStolenHouses(capacity: int) -> int:\n",
    "      stolenHouses = 0\n",
    "      i = 0\n",
    "      while i < len(nums):\n",
    "        if nums[i] <= capacity:\n",
    "          stolenHouses += 1\n",
    "          i += 1\n",
    "        i += 1\n",
    "      return stolenHouses\n",
    "\n",
    "    return bisect.bisect_left(range(max(nums)), k, key=numStolenHouses)"
   ]
  },
  {
   "cell_type": "code",
   "execution_count": 3,
   "metadata": {},
   "outputs": [
    {
     "data": {
      "text/plain": [
       "5"
      ]
     },
     "execution_count": 3,
     "metadata": {},
     "output_type": "execute_result"
    }
   ],
   "source": [
    "nums = [2,3,5,9]\n",
    "k = 2\n",
    "\n",
    "s = Solution()\n",
    "s.minCapability(nums,k)"
   ]
  }
 ],
 "metadata": {
  "kernelspec": {
   "display_name": "Python 3",
   "language": "python",
   "name": "python3"
  },
  "language_info": {
   "codemirror_mode": {
    "name": "ipython",
    "version": 3
   },
   "file_extension": ".py",
   "mimetype": "text/x-python",
   "name": "python",
   "nbconvert_exporter": "python",
   "pygments_lexer": "ipython3",
   "version": "3.11.5"
  }
 },
 "nbformat": 4,
 "nbformat_minor": 2
}

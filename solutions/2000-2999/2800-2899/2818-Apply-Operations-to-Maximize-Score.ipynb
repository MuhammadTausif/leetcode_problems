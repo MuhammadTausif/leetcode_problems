{
 "cells": [
  {
   "cell_type": "markdown",
   "metadata": {},
   "source": [
    "### 2818. Apply Operations to Maximize Score"
   ]
  },
  {
   "cell_type": "code",
   "execution_count": 1,
   "metadata": {},
   "outputs": [],
   "source": [
    "class Solution:\n",
    "  def maximumScore(self, nums: list[int], k: int) -> int:\n",
    "    MOD = 1_000_000_007\n",
    "    n = len(nums)\n",
    "    ans = 1\n",
    "    minPrimeFactors = self._sieveEratosthenes(max(nums) + 1)\n",
    "    primeScores = [self._getPrimeScore(num, minPrimeFactors) for num in nums]\n",
    "    # left[i] := the next index on the left (if any)\n",
    "    #            s.t. primeScores[left[i]] >= primeScores[i]\n",
    "    left = [-1] * n\n",
    "    # right[i] := the next index on the right (if any)\n",
    "    #             s.t. primeScores[right[i]] > primeScores[i]\n",
    "    right = [n] * n\n",
    "    stack = []\n",
    "\n",
    "    # Find the next indices on the left where `primeScores` are greater or equal.\n",
    "    for i in reversed(range(n)):\n",
    "      while stack and primeScores[stack[-1]] <= primeScores[i]:\n",
    "        left[stack.pop()] = i\n",
    "      stack.append(i)\n",
    "\n",
    "    stack = []\n",
    "\n",
    "    # Find the next indices on the right where `primeScores` are greater.\n",
    "    for i in range(n):\n",
    "      while stack and primeScores[stack[-1]] < primeScores[i]:\n",
    "        right[stack.pop()] = i\n",
    "      stack.append(i)\n",
    "\n",
    "    numAndIndexes = [(num, i) for i, num in enumerate(nums)]\n",
    "\n",
    "    def modPow(x: int, n: int) -> int:\n",
    "      if n == 0:\n",
    "        return 1\n",
    "      if n % 2 == 1:\n",
    "        return x * modPow(x, n - 1) % MOD\n",
    "      return modPow(x * x % MOD, n // 2)\n",
    "\n",
    "    for num, i in sorted(numAndIndexes, key=lambda x: (-x[0], x[1])):\n",
    "      # nums[i] is the maximum value in the range [left[i] + 1, right[i] - 1]\n",
    "      # So, there are (i - left[i]) * (right[i] - 1) ranges where nums[i] will\n",
    "      # be chosen.\n",
    "      rangeCount = (i - left[i]) * (right[i] - i)\n",
    "      actualCount = min(rangeCount, k)\n",
    "      k -= actualCount\n",
    "      ans *= modPow(num, actualCount)\n",
    "      ans %= MOD\n",
    "\n",
    "    return ans\n",
    "\n",
    "  def _sieveEratosthenes(self, n: int) -> list[int]:\n",
    "    \"\"\"Gets the minimum prime factor of i, where 2 <= i <= n.\"\"\"\n",
    "    minPrimeFactors = [i for i in range(n + 1)]\n",
    "    for i in range(2, int(n**0.5) + 1):\n",
    "      if minPrimeFactors[i] == i:  # `i` is prime.\n",
    "        for j in range(i * i, n, i):\n",
    "          minPrimeFactors[j] = min(minPrimeFactors[j], i)\n",
    "    return minPrimeFactors\n",
    "\n",
    "  def _getPrimeScore(self, num: int, minPrimeFactors: list[int]) -> int:\n",
    "    primeFactors = set()\n",
    "    while num > 1:\n",
    "      divisor = minPrimeFactors[num]\n",
    "      primeFactors.add(divisor)\n",
    "      while num % divisor == 0:\n",
    "        num //= divisor\n",
    "    return len(primeFactors)"
   ]
  },
  {
   "cell_type": "code",
   "execution_count": 2,
   "metadata": {},
   "outputs": [
    {
     "name": "stdout",
     "output_type": "stream",
     "text": [
      "81\n"
     ]
    }
   ],
   "source": [
    "nums = [8,3,9,3,8]\n",
    "k = 2\n",
    "\n",
    "sol = Solution()\n",
    "print(sol.maximumScore(nums, k))  # Output: 81"
   ]
  }
 ],
 "metadata": {
  "kernelspec": {
   "display_name": "Python 3",
   "language": "python",
   "name": "python3"
  },
  "language_info": {
   "codemirror_mode": {
    "name": "ipython",
    "version": 3
   },
   "file_extension": ".py",
   "mimetype": "text/x-python",
   "name": "python",
   "nbconvert_exporter": "python",
   "pygments_lexer": "ipython3",
   "version": "3.11.5"
  }
 },
 "nbformat": 4,
 "nbformat_minor": 2
}

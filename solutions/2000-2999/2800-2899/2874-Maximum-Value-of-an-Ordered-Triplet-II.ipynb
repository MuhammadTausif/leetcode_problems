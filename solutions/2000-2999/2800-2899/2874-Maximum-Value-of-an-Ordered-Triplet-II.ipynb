{
 "cells": [
  {
   "cell_type": "markdown",
   "metadata": {},
   "source": [
    "### 2874. Maximum Value of an Ordered Triplet II"
   ]
  },
  {
   "cell_type": "code",
   "execution_count": 1,
   "metadata": {},
   "outputs": [],
   "source": [
    "class Solution:\n",
    "  # Same as 2873. Maximum Value of an Ordered Triplet I\n",
    "  def maximumTripletValue(self, nums: list[int]) -> int:\n",
    "    ans = 0\n",
    "    maxDiff = 0  # max(nums[i] - nums[j])\n",
    "    maxNum = 0   # max(nums[i])\n",
    "\n",
    "    for num in nums:\n",
    "      ans = max(ans, maxDiff * num)         # num := nums[k]\n",
    "      maxDiff = max(maxDiff, maxNum - num)  # num := nums[j]\n",
    "      maxNum = max(maxNum, num)             # num := nums[i]\n",
    "\n",
    "    return ans"
   ]
  },
  {
   "cell_type": "code",
   "execution_count": 2,
   "metadata": {},
   "outputs": [
    {
     "name": "stdout",
     "output_type": "stream",
     "text": [
      "77\n",
      "133\n"
     ]
    }
   ],
   "source": [
    "nums1 = [12,6,1,2,7]\n",
    "nums2 = [1,10,3,4,19]\n",
    "s = Solution()\n",
    "print(s.maximumTripletValue(nums1))  # 70\n",
    "print(s.maximumTripletValue(nums2))  # 190"
   ]
  }
 ],
 "metadata": {
  "kernelspec": {
   "display_name": "Python 3",
   "language": "python",
   "name": "python3"
  },
  "language_info": {
   "codemirror_mode": {
    "name": "ipython",
    "version": 3
   },
   "file_extension": ".py",
   "mimetype": "text/x-python",
   "name": "python",
   "nbconvert_exporter": "python",
   "pygments_lexer": "ipython3",
   "version": "3.11.5"
  }
 },
 "nbformat": 4,
 "nbformat_minor": 2
}

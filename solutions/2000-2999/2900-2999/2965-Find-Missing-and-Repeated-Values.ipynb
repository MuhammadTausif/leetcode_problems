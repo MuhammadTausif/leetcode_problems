{
 "cells": [
  {
   "cell_type": "code",
   "execution_count": 1,
   "metadata": {},
   "outputs": [],
   "source": [
    "class Solution:\n",
    "  def findMissingAndRepeatedValues(self, grid: list[list[int]]) -> list[int]:\n",
    "    count = [1] + [0] * len(grid)**2  # padding for 1-indexed\n",
    "\n",
    "    for row in grid:\n",
    "      for num in row:\n",
    "        count[num] += 1\n",
    "\n",
    "    return [count.index(2), count.index(0)]"
   ]
  },
  {
   "cell_type": "code",
   "execution_count": 2,
   "metadata": {},
   "outputs": [
    {
     "data": {
      "text/plain": [
       "[2, 4]"
      ]
     },
     "execution_count": 2,
     "metadata": {},
     "output_type": "execute_result"
    }
   ],
   "source": [
    "grid = [[1,3],[2,2]]\n",
    "s= Solution()\n",
    "s.findMissingAndRepeatedValues(grid)"
   ]
  }
 ],
 "metadata": {
  "kernelspec": {
   "display_name": "Python 3",
   "language": "python",
   "name": "python3"
  },
  "language_info": {
   "codemirror_mode": {
    "name": "ipython",
    "version": 3
   },
   "file_extension": ".py",
   "mimetype": "text/x-python",
   "name": "python",
   "nbconvert_exporter": "python",
   "pygments_lexer": "ipython3",
   "version": "3.11.5"
  }
 },
 "nbformat": 4,
 "nbformat_minor": 2
}

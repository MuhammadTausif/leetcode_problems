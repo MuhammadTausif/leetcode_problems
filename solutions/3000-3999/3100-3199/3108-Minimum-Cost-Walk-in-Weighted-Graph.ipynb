{
 "cells": [
  {
   "cell_type": "markdown",
   "metadata": {},
   "source": [
    "### 3108. Minimum Cost Walk in Weighted Graph"
   ]
  },
  {
   "cell_type": "code",
   "execution_count": 2,
   "metadata": {},
   "outputs": [],
   "source": [
    "class UnionFind:\n",
    "  def __init__(self, n: int):\n",
    "    self.id = list(range(n))\n",
    "    self.rank = [0] * n\n",
    "    # 2^17 - 1 is the minimum number in the form 2^x - 1 > 10^5.\n",
    "    self.weight = [(1 << 17) - 1] * n\n",
    "\n",
    "  def unionByRank(self, u: int, v: int, w: int) -> None:\n",
    "    i = self._find(u)\n",
    "    j = self._find(v)\n",
    "    newWeight = self.weight[i] & self.weight[j] & w\n",
    "    self.weight[i] = newWeight\n",
    "    self.weight[j] = newWeight\n",
    "    if i == j:\n",
    "      return\n",
    "    if self.rank[i] < self.rank[j]:\n",
    "      self.id[i] = j\n",
    "    elif self.rank[i] > self.rank[j]:\n",
    "      self.id[j] = i\n",
    "    else:\n",
    "      self.id[i] = j\n",
    "      self.rank[j] += 1\n",
    "\n",
    "  def getMinCost(self, u: int, v: int) -> int:\n",
    "    if u == v:\n",
    "      return 0\n",
    "    i = self._find(u)\n",
    "    j = self._find(v)\n",
    "    return self.weight[i] if i == j else -1\n",
    "\n",
    "  def _find(self, u: int) -> int:\n",
    "    if self.id[u] != u:\n",
    "      self.id[u] = self._find(self.id[u])\n",
    "    return self.id[u]\n",
    "\n",
    "\n",
    "class Solution:\n",
    "  def minimumCost(\n",
    "      self,\n",
    "      n: int,\n",
    "      edges: list[list[int]],\n",
    "      query: list[list[int]],\n",
    "  ) -> list[int]:\n",
    "    uf = UnionFind(n)\n",
    "\n",
    "    for u, v, w in edges:\n",
    "      uf.unionByRank(u, v, w)\n",
    "\n",
    "    return [uf.getMinCost(u, v) for u, v in query]"
   ]
  },
  {
   "cell_type": "code",
   "execution_count": 3,
   "metadata": {},
   "outputs": [
    {
     "name": "stdout",
     "output_type": "stream",
     "text": [
      "[1, -1]\n"
     ]
    }
   ],
   "source": [
    "n = 5\n",
    "edges = [[0,1,7],[1,3,7],[1,2,1]]\n",
    "query = [[0,3],[3,4]]\n",
    "\n",
    "s = Solution()\n",
    "print(s.minimumCost(n, edges, query))\n"
   ]
  },
  {
   "cell_type": "code",
   "execution_count": 4,
   "metadata": {},
   "outputs": [
    {
     "name": "stdout",
     "output_type": "stream",
     "text": [
      "[0]\n"
     ]
    }
   ],
   "source": [
    "n = 3\n",
    "edges = [[0,2,7],[0,1,15],[1,2,6],[1,2,1]]\n",
    "query = [[1,2]]\n",
    "\n",
    "s = Solution()\n",
    "print(s.minimumCost(n, edges, query))\n"
   ]
  }
 ],
 "metadata": {
  "kernelspec": {
   "display_name": "Python 3",
   "language": "python",
   "name": "python3"
  },
  "language_info": {
   "codemirror_mode": {
    "name": "ipython",
    "version": 3
   },
   "file_extension": ".py",
   "mimetype": "text/x-python",
   "name": "python",
   "nbconvert_exporter": "python",
   "pygments_lexer": "ipython3",
   "version": "3.11.5"
  }
 },
 "nbformat": 4,
 "nbformat_minor": 2
}

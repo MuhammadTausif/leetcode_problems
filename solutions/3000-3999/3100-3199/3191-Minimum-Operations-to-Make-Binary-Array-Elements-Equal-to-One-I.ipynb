{
 "cells": [
  {
   "cell_type": "markdown",
   "metadata": {},
   "source": [
    "### 3191. Minimum Operations to Make Binary Array Elements Equal to One I"
   ]
  },
  {
   "cell_type": "code",
   "execution_count": 1,
   "metadata": {},
   "outputs": [],
   "source": [
    "class Solution:\n",
    "  def minOperations(self, nums: list[int]) -> int:\n",
    "    ans = 0\n",
    "\n",
    "    for i in range(len(nums) - 2):\n",
    "      if nums[i] == 0:\n",
    "        nums[i + 1] ^= 1\n",
    "        nums[i + 2] ^= 1\n",
    "        ans += 1\n",
    "\n",
    "    return -1 if nums[-1] == 0 or nums[-2] == 0 else ans"
   ]
  },
  {
   "cell_type": "code",
   "execution_count": 2,
   "metadata": {},
   "outputs": [
    {
     "data": {
      "text/plain": [
       "3"
      ]
     },
     "execution_count": 2,
     "metadata": {},
     "output_type": "execute_result"
    }
   ],
   "source": [
    "nums = [0,1,1,1,0,0]\n",
    "s = Solution()\n",
    "s.minOperations(nums)"
   ]
  },
  {
   "cell_type": "code",
   "execution_count": 3,
   "metadata": {},
   "outputs": [
    {
     "data": {
      "text/plain": [
       "-1"
      ]
     },
     "execution_count": 3,
     "metadata": {},
     "output_type": "execute_result"
    }
   ],
   "source": [
    "nums = [0,1,1,1]\n",
    "\n",
    "s = Solution()\n",
    "s.minOperations(nums)"
   ]
  }
 ],
 "metadata": {
  "kernelspec": {
   "display_name": "Python 3",
   "language": "python",
   "name": "python3"
  },
  "language_info": {
   "codemirror_mode": {
    "name": "ipython",
    "version": 3
   },
   "file_extension": ".py",
   "mimetype": "text/x-python",
   "name": "python",
   "nbconvert_exporter": "python",
   "pygments_lexer": "ipython3",
   "version": "3.11.5"
  }
 },
 "nbformat": 4,
 "nbformat_minor": 2
}

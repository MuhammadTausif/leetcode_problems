{
 "cells": [
  {
   "cell_type": "code",
   "execution_count": 1,
   "metadata": {},
   "outputs": [],
   "source": [
    "class Solution:\n",
    "  def numberOfAlternatingGroups(self, colors: list[int], k: int) -> int:\n",
    "    n = len(colors)\n",
    "    ans = 0\n",
    "    alternating = 1\n",
    "\n",
    "    for i in range(n + k - 2):\n",
    "      alternating = (1 if colors[i % n] == colors[(i - 1) % n]\n",
    "                     else alternating + 1)\n",
    "      if alternating >= k:\n",
    "        ans += 1\n",
    "\n",
    "    return ans"
   ]
  },
  {
   "cell_type": "code",
   "execution_count": 2,
   "metadata": {},
   "outputs": [
    {
     "data": {
      "text/plain": [
       "3"
      ]
     },
     "execution_count": 2,
     "metadata": {},
     "output_type": "execute_result"
    }
   ],
   "source": [
    "colors = [0,1,0,1,0]\n",
    "k = 3\n",
    "s = Solution()\n",
    "s.numberOfAlternatingGroups(colors, k)"
   ]
  }
 ],
 "metadata": {
  "kernelspec": {
   "display_name": "Python 3",
   "language": "python",
   "name": "python3"
  },
  "language_info": {
   "codemirror_mode": {
    "name": "ipython",
    "version": 3
   },
   "file_extension": ".py",
   "mimetype": "text/x-python",
   "name": "python",
   "nbconvert_exporter": "python",
   "pygments_lexer": "ipython3",
   "version": "3.11.5"
  }
 },
 "nbformat": 4,
 "nbformat_minor": 2
}

{
 "cells": [
  {
   "cell_type": "code",
   "execution_count": 1,
   "metadata": {},
   "outputs": [],
   "source": [
    "class Solution:\n",
    "  def minZeroArray(self, nums: list[int], queries: list[list[int]]) -> int:\n",
    "    line = [0] * (len(nums) + 1)\n",
    "    decrement = 0\n",
    "    k = 0\n",
    "\n",
    "    for i, num in enumerate(nums):\n",
    "      while decrement + line[i] < num:\n",
    "        if k == len(queries):\n",
    "          return -1\n",
    "        l, r, val = queries[k]\n",
    "        k += 1\n",
    "        if r < i:\n",
    "          continue\n",
    "        line[max(l, i)] += val\n",
    "        line[r + 1] -= val\n",
    "      decrement += line[i]\n",
    "\n",
    "    return k"
   ]
  },
  {
   "cell_type": "code",
   "execution_count": 2,
   "metadata": {},
   "outputs": [
    {
     "data": {
      "text/plain": [
       "2"
      ]
     },
     "execution_count": 2,
     "metadata": {},
     "output_type": "execute_result"
    }
   ],
   "source": [
    "nums = [2,0,2]\n",
    "queries = [[0,2,1],[0,2,1],[1,1,3]]\n",
    "\n",
    "s= Solution()\n",
    "s.minZeroArray(nums,queries)"
   ]
  }
 ],
 "metadata": {
  "kernelspec": {
   "display_name": "Python 3",
   "language": "python",
   "name": "python3"
  },
  "language_info": {
   "codemirror_mode": {
    "name": "ipython",
    "version": 3
   },
   "file_extension": ".py",
   "mimetype": "text/x-python",
   "name": "python",
   "nbconvert_exporter": "python",
   "pygments_lexer": "ipython3",
   "version": "3.11.5"
  }
 },
 "nbformat": 4,
 "nbformat_minor": 2
}

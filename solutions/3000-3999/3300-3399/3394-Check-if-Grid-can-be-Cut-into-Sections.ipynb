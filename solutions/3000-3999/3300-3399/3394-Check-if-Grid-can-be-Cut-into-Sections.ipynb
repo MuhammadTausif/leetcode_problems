{
 "cells": [
  {
   "cell_type": "markdown",
   "metadata": {},
   "source": [
    "### 3394. Check if Grid can be Cut into Sections"
   ]
  },
  {
   "cell_type": "code",
   "execution_count": 1,
   "metadata": {},
   "outputs": [],
   "source": [
    "class Solution:\n",
    "  def checkValidCuts(self, n: int, rectangles: list[list[int]]) -> bool:\n",
    "    xs = [(startX, endX) for startX, _, endX, _ in rectangles]\n",
    "    ys = [(startY, endY) for _, startY, _, endY in rectangles]\n",
    "    return max(self._countMerged(xs),\n",
    "               self._countMerged(ys)) >= 3\n",
    "\n",
    "  def _countMerged(self, intervals: list[tuple[int, int]]) -> int:\n",
    "    count = 0\n",
    "    prevEnd = 0\n",
    "    for start, end in sorted(intervals):\n",
    "      if start < prevEnd:\n",
    "        prevEnd = max(prevEnd, end)\n",
    "      else:\n",
    "        prevEnd = end\n",
    "        count += 1\n",
    "    return count"
   ]
  },
  {
   "cell_type": "code",
   "execution_count": 2,
   "metadata": {},
   "outputs": [
    {
     "name": "stdout",
     "output_type": "stream",
     "text": [
      "True\n"
     ]
    }
   ],
   "source": [
    "n = 5\n",
    "rectangles = [[1,0,5,2],[0,2,2,4],[3,2,5,3],[0,4,4,5]]\n",
    "\n",
    "sol = Solution()\n",
    "print(sol.checkValidCuts(n, rectangles))"
   ]
  }
 ],
 "metadata": {
  "kernelspec": {
   "display_name": "Python 3",
   "language": "python",
   "name": "python3"
  },
  "language_info": {
   "codemirror_mode": {
    "name": "ipython",
    "version": 3
   },
   "file_extension": ".py",
   "mimetype": "text/x-python",
   "name": "python",
   "nbconvert_exporter": "python",
   "pygments_lexer": "ipython3",
   "version": "3.11.5"
  }
 },
 "nbformat": 4,
 "nbformat_minor": 2
}

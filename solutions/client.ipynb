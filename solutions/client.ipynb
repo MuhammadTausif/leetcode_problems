{
 "cells": [
  {
   "cell_type": "code",
   "execution_count": 1,
   "metadata": {},
   "outputs": [
    {
     "name": "stdout",
     "output_type": "stream",
     "text": [
      "IP address is: 154.198.86.255\n"
     ]
    }
   ],
   "source": [
    "import socket\n",
    "import requests\n",
    "\n",
    "def get_public_ip():\n",
    "    \"\"\"\n",
    "    Optionally, you can use this function to get your own public IP address.\n",
    "    For connecting to a remote server, you need the server's public IP.\n",
    "    \"\"\"\n",
    "    try:\n",
    "        response = requests.get(\"https://api.ipify.org?format=json\")\n",
    "        response.raise_for_status()\n",
    "        print(f'IP address is: {response.json()[\"ip\"]}')\n",
    "        return response.json()[\"ip\"]\n",
    "    except Exception as e:\n",
    "        print(\"Error fetching public IP:\", e)\n",
    "        return None\n",
    "\n",
    "def start_client(server_ip, port=12345):\n",
    "    # Create a TCP socket\n",
    "    client_socket = socket.socket(socket.AF_INET, socket.SOCK_STREAM)\n",
    "    # Connect to the server using its public IP and the designated port\n",
    "    client_socket.connect((server_ip, port))\n",
    "    print(f\"Connected to server at {server_ip}:{port}\")\n",
    "    \n",
    "    # Receive message from the server\n",
    "    data = client_socket.recv(1024)\n",
    "    print(\"Received from server:\", data.decode())\n",
    "    \n",
    "    # Send a reply to the server\n",
    "    client_socket.sendall(b\"Hello from client!\")\n",
    "    \n",
    "    # Close the connection\n",
    "    client_socket.close()\n",
    "\n",
    "if __name__ == '__main__':\n",
    "    # For the client, you need to input the server's public IP address.\n",
    "    # server_ip = get_public_ip() # input(\"Enter the server's public IP address: \").strip()\n",
    "    # start_client('127.0.0.1')\n",
    "    get_public_ip()\n"
   ]
  },
  {
   "cell_type": "code",
   "execution_count": null,
   "metadata": {},
   "outputs": [
    {
     "name": "stdout",
     "output_type": "stream",
     "text": [
      "My UDP port: 51724\n"
     ]
    }
   ],
   "source": [
    "import socket\n",
    "\n",
    "def punch_hole_and_connect(my_id, server_ip, server_port):\n",
    "    # Create a UDP socket and bind to any available port.\n",
    "    sock = socket.socket(socket.AF_INET, socket.SOCK_DGRAM)\n",
    "    sock.bind((\"\", 0))\n",
    "    my_port = sock.getsockname()[1]\n",
    "    print(f\"My UDP port: {my_port}\")\n",
    "\n",
    "    # Register with the rendezvous server.\n",
    "    register_message = f\"REGISTER {my_id}\"\n",
    "    sock.sendto(register_message.encode(), (server_ip, server_port))\n",
    "    \n",
    "    # Wait for a response from the server.\n",
    "    data, addr = sock.recvfrom(1024)\n",
    "    print(\"Server response:\", data.decode())\n",
    "    \n",
    "    # Wait for peer info from the server.\n",
    "    data, addr = sock.recvfrom(1024)\n",
    "    msg = data.decode().strip()\n",
    "    tokens = msg.split()\n",
    "    if tokens[0].upper() == \"PEER\" and len(tokens) >= 3:\n",
    "        peer_ip = tokens[1]\n",
    "        peer_port = int(tokens[2])\n",
    "        print(f\"Peer info: {peer_ip}:{peer_port}\")\n",
    "        \n",
    "        # Send a UDP packet to the peer to punch a hole in the NAT.\n",
    "        sock.sendto(b\"Hello from \" + my_id.encode(), (peer_ip, peer_port))\n",
    "        print(f\"Sent punch packet to {peer_ip}:{peer_port}\")\n",
    "        \n",
    "        # Optionally, wait for a response from the peer.\n",
    "        data, addr = sock.recvfrom(1024)\n",
    "        print(\"Received reply from peer:\", data.decode())\n",
    "    else:\n",
    "        print(\"Did not receive valid peer info.\")\n",
    "\n",
    "if __name__ == '__main__':\n",
    "    my_id = input(\"Enter your client id (e.g., client1 or client2): \").strip()\n",
    "    server_ip = '154.198.86.255' # input(\"Enter the rendezvous server IP: \").strip()\n",
    "    server_port = 12345 # int(input(\"Enter the rendezvous server UDP port: \").strip())\n",
    "    punch_hole_and_connect(my_id, server_ip, server_port)\n"
   ]
  },
  {
   "cell_type": "code",
   "execution_count": 3,
   "metadata": {},
   "outputs": [
    {
     "name": "stdout",
     "output_type": "stream",
     "text": [
      "My local UDP port is 51729\n",
      "Sent message to 154.198.86.255:5005\n",
      "No response received.\n"
     ]
    }
   ],
   "source": [
    "import socket\n",
    "\n",
    "def punch_hole_and_send(remote_ip, remote_port, message=\"Hello from Computer A\"):\n",
    "    # Create a UDP socket and bind it to any available local port.\n",
    "    sock = socket.socket(socket.AF_INET, socket.SOCK_DGRAM)\n",
    "    sock.bind((\"\", 0))  # Let the OS assign an available port\n",
    "    local_port = sock.getsockname()[1]\n",
    "    print(f\"My local UDP port is {local_port}\")\n",
    "\n",
    "    # Send a UDP packet to Computer B's public IP and known port.\n",
    "    sock.sendto(message.encode(), (remote_ip, remote_port))\n",
    "    print(f\"Sent message to {remote_ip}:{remote_port}\")\n",
    "\n",
    "    # Wait for a reply from Computer B.\n",
    "    try:\n",
    "        sock.settimeout(5)  # timeout after 5 seconds\n",
    "        data, addr = sock.recvfrom(1024)\n",
    "        print(\"Received reply from\", addr, \":\", data.decode())\n",
    "    except socket.timeout:\n",
    "        print(\"No response received.\")\n",
    "    finally:\n",
    "        sock.close()\n",
    "\n",
    "if __name__ == \"__main__\":\n",
    "    remote_ip = \"154.198.86.255\" # input(\"Enter the remote computer's public IP: \").strip()\n",
    "    remote_port = 5005 # int(input(\"Enter the remote computer's UDP port (e.g., 5005): \").strip())\n",
    "    punch_hole_and_send(remote_ip, remote_port)\n"
   ]
  },
  {
   "cell_type": "code",
   "execution_count": 11,
   "metadata": {},
   "outputs": [
    {
     "name": "stdout",
     "output_type": "stream",
     "text": [
      "connecting to rendezvous server\n"
     ]
    },
    {
     "ename": "OSError",
     "evalue": "[WinError 10048] Only one usage of each socket address (protocol/network address/port) is normally permitted",
     "output_type": "error",
     "traceback": [
      "\u001b[1;31m---------------------------------------------------------------------------\u001b[0m",
      "\u001b[1;31mOSError\u001b[0m                                   Traceback (most recent call last)",
      "Cell \u001b[1;32mIn [11], line 11\u001b[0m\n\u001b[0;32m      8\u001b[0m \u001b[38;5;28mprint\u001b[39m(\u001b[38;5;124m'\u001b[39m\u001b[38;5;124mconnecting to rendezvous server\u001b[39m\u001b[38;5;124m'\u001b[39m)\n\u001b[0;32m     10\u001b[0m sock \u001b[38;5;241m=\u001b[39m socket\u001b[38;5;241m.\u001b[39msocket(socket\u001b[38;5;241m.\u001b[39mAF_INET, socket\u001b[38;5;241m.\u001b[39mSOCK_DGRAM)\n\u001b[1;32m---> 11\u001b[0m \u001b[43msock\u001b[49m\u001b[38;5;241;43m.\u001b[39;49m\u001b[43mbind\u001b[49m\u001b[43m(\u001b[49m\u001b[43m(\u001b[49m\u001b[38;5;124;43m'\u001b[39;49m\u001b[38;5;124;43m0.0.0.0\u001b[39;49m\u001b[38;5;124;43m'\u001b[39;49m\u001b[43m,\u001b[49m\u001b[43m \u001b[49m\u001b[38;5;241;43m50001\u001b[39;49m\u001b[43m)\u001b[49m\u001b[43m)\u001b[49m\n\u001b[0;32m     12\u001b[0m sock\u001b[38;5;241m.\u001b[39msendto(\u001b[38;5;124mb\u001b[39m\u001b[38;5;124m'\u001b[39m\u001b[38;5;124m0\u001b[39m\u001b[38;5;124m'\u001b[39m, rendezvous)\n",
      "\u001b[1;31mOSError\u001b[0m: [WinError 10048] Only one usage of each socket address (protocol/network address/port) is normally permitted"
     ]
    }
   ],
   "source": [
    "import socket\n",
    "import sys\n",
    "import threading\n",
    "\n",
    "rendezvous = ('103.121.178.245', 55555)\n",
    "\n",
    "# connect to rendezvous\n",
    "print('connecting to rendezvous server')\n",
    "\n",
    "sock = socket.socket(socket.AF_INET, socket.SOCK_DGRAM)\n",
    "sock.bind(('0.0.0.0', 50001))\n",
    "sock.sendto(b'0', rendezvous)\n"
   ]
  },
  {
   "cell_type": "code",
   "execution_count": null,
   "metadata": {},
   "outputs": [],
   "source": [
    "\n",
    "while True:\n",
    "    data = sock.recv(1024).decode()\n",
    "\n",
    "    if data.strip() == 'ready':\n",
    "        print('checked in with server, waiting')\n",
    "        break\n",
    "\n",
    "data = sock.recv(1024).decode()\n",
    "ip, sport, dport = data.split(' ')\n",
    "sport = int(sport)\n",
    "dport = int(dport)\n",
    "\n",
    "print('\\ngot peer')\n",
    "print('  ip:          {}'.format(ip))\n",
    "print('  source port: {}'.format(sport))\n",
    "print('  dest port:   {}\\n'.format(dport))\n",
    "\n",
    "# punch hole\n",
    "# equiv: echo 'punch hole' | nc -u -p 50001 x.x.x.x 50002\n",
    "print('punching hole')\n",
    "\n",
    "sock = socket.socket(socket.AF_INET, socket.SOCK_DGRAM)\n",
    "sock.bind(('0.0.0.0', sport))\n",
    "sock.sendto(b'0', (ip, dport))\n",
    "\n",
    "print('ready to exchange messages\\n')\n",
    "\n",
    "# listen for\n",
    "# equiv: nc -u -l 50001\n",
    "def listen():\n",
    "    sock = socket.socket(socket.AF_INET, socket.SOCK_DGRAM)\n",
    "    sock.bind(('0.0.0.0', sport))\n",
    "\n",
    "    while True:\n",
    "        data = sock.recv(1024)\n",
    "        print('\\rpeer: {}\\n> '.format(data.decode()), end='')\n",
    "\n",
    "listener = threading.Thread(target=listen, daemon=True);\n",
    "listener.start()\n",
    "\n",
    "# send messages\n",
    "# equiv: echo 'xxx' | nc -u -p 50002 x.x.x.x 50001\n",
    "sock = socket.socket(socket.AF_INET, socket.SOCK_DGRAM)\n",
    "sock.bind(('0.0.0.0', dport))\n",
    "\n",
    "while True:\n",
    "    msg = input('> ')\n",
    "    sock.sendto(msg.encode(), (ip, sport))"
   ]
  },
  {
   "cell_type": "code",
   "execution_count": 2,
   "metadata": {},
   "outputs": [
    {
     "name": "stdout",
     "output_type": "stream",
     "text": [
      "Collecting twisted[tls]\n",
      "  Using cached twisted-24.11.0-py3-none-any.whl.metadata (20 kB)\n",
      "Requirement already satisfied: attrs>=22.2.0 in c:\\python311\\lib\\site-packages (from twisted[tls]) (22.2.0)\n",
      "Requirement already satisfied: automat>=24.8.0 in c:\\python311\\lib\\site-packages (from twisted[tls]) (24.8.1)\n",
      "Requirement already satisfied: constantly>=15.1 in c:\\python311\\lib\\site-packages (from twisted[tls]) (23.10.4)\n",
      "Requirement already satisfied: hyperlink>=17.1.1 in c:\\python311\\lib\\site-packages (from twisted[tls]) (21.0.0)\n",
      "Requirement already satisfied: incremental>=24.7.0 in c:\\python311\\lib\\site-packages (from twisted[tls]) (24.7.2)\n",
      "Requirement already satisfied: typing-extensions>=4.2.0 in c:\\tools\\manim\\lib\\site-packages (from twisted[tls]) (4.12.2)\n",
      "Requirement already satisfied: zope-interface>=5 in c:\\python311\\lib\\site-packages (from twisted[tls]) (5.5.2)\n",
      "Requirement already satisfied: idna>=2.4 in c:\\python311\\lib\\site-packages (from twisted[tls]) (3.4)\n",
      "Collecting pyopenssl>=21.0.0 (from twisted[tls])\n",
      "  Using cached pyOpenSSL-25.0.0-py3-none-any.whl.metadata (16 kB)\n",
      "Collecting service-identity>=18.1.0 (from twisted[tls])\n",
      "  Using cached service_identity-24.2.0-py3-none-any.whl.metadata (5.1 kB)\n",
      "Requirement already satisfied: setuptools>=61.0 in c:\\python311\\lib\\site-packages (from incremental>=24.7.0->twisted[tls]) (75.6.0)\n",
      "Collecting cryptography<45,>=41.0.5 (from pyopenssl>=21.0.0->twisted[tls])\n",
      "  Using cached cryptography-44.0.1-cp39-abi3-win_amd64.whl.metadata (5.7 kB)\n",
      "Requirement already satisfied: pyasn1 in c:\\python311\\lib\\site-packages (from service-identity>=18.1.0->twisted[tls]) (0.4.8)\n",
      "Requirement already satisfied: pyasn1-modules in c:\\python311\\lib\\site-packages (from service-identity>=18.1.0->twisted[tls]) (0.2.8)\n",
      "Requirement already satisfied: cffi>=1.12 in c:\\python311\\lib\\site-packages (from cryptography<45,>=41.0.5->pyopenssl>=21.0.0->twisted[tls]) (1.15.1)\n",
      "Requirement already satisfied: pycparser in c:\\python311\\lib\\site-packages (from cffi>=1.12->cryptography<45,>=41.0.5->pyopenssl>=21.0.0->twisted[tls]) (2.21)\n",
      "Using cached pyOpenSSL-25.0.0-py3-none-any.whl (56 kB)\n",
      "Using cached service_identity-24.2.0-py3-none-any.whl (11 kB)\n",
      "Using cached twisted-24.11.0-py3-none-any.whl (3.2 MB)\n",
      "Using cached cryptography-44.0.1-cp39-abi3-win_amd64.whl (3.2 MB)\n",
      "Installing collected packages: twisted, cryptography, service-identity, pyopenssl\n"
     ]
    },
    {
     "name": "stderr",
     "output_type": "stream",
     "text": [
      "WARNING: Ignoring invalid distribution ~ip (C:\\Python311\\Lib\\site-packages)\n",
      "WARNING: Ignoring invalid distribution ~ip (C:\\Python311\\Lib\\site-packages)\n",
      "  WARNING: Failed to write executable - trying to use .deleteme logic\n",
      "ERROR: Could not install packages due to an OSError: [WinError 2] The system cannot find the file specified: 'C:\\\\Python311\\\\Scripts\\\\cftp.exe' -> 'C:\\\\Python311\\\\Scripts\\\\cftp.exe.deleteme'\n",
      "\n",
      "\n",
      "[notice] A new release of pip is available: 24.3.1 -> 25.0.1\n",
      "[notice] To update, run: python.exe -m pip install --upgrade pip\n"
     ]
    }
   ],
   "source": [
    "!pip install twisted[tls]"
   ]
  },
  {
   "cell_type": "code",
   "execution_count": null,
   "metadata": {},
   "outputs": [
    {
     "ename": "ModuleNotFoundError",
     "evalue": "No module named 'twisted'",
     "output_type": "error",
     "traceback": [
      "\u001b[1;31m---------------------------------------------------------------------------\u001b[0m",
      "\u001b[1;31mModuleNotFoundError\u001b[0m                       Traceback (most recent call last)",
      "Cell \u001b[1;32mIn [1], line 1\u001b[0m\n\u001b[1;32m----> 1\u001b[0m \u001b[38;5;28;01mfrom\u001b[39;00m \u001b[38;5;21;01mtwisted\u001b[39;00m\u001b[38;5;21;01m.\u001b[39;00m\u001b[38;5;21;01minternet\u001b[39;00m\u001b[38;5;21;01m.\u001b[39;00m\u001b[38;5;21;01mprotocol\u001b[39;00m \u001b[38;5;28;01mimport\u001b[39;00m DatagramProtocol\n",
      "\u001b[1;31mModuleNotFoundError\u001b[0m: No module named 'twisted'"
     ]
    }
   ],
   "source": [
    "from  twisted.internet.protocol import DatagramProtocol\n"
   ]
  },
  {
   "cell_type": "code",
   "execution_count": null,
   "metadata": {},
   "outputs": [],
   "source": []
  }
 ],
 "metadata": {
  "kernelspec": {
   "display_name": "Python 3",
   "language": "python",
   "name": "python3"
  },
  "language_info": {
   "codemirror_mode": {
    "name": "ipython",
    "version": 3
   },
   "file_extension": ".py",
   "mimetype": "text/x-python",
   "name": "python",
   "nbconvert_exporter": "python",
   "pygments_lexer": "ipython3",
   "version": "3.11.5"
  }
 },
 "nbformat": 4,
 "nbformat_minor": 2
}

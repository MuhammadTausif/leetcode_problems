{
 "cells": [
  {
   "cell_type": "code",
   "execution_count": null,
   "metadata": {},
   "outputs": [],
   "source": [
    "import socket\n",
    "\n",
    "def start_server(host='0.0.0.0', port=12345):\n",
    "    # Create a TCP/IP socket\n",
    "    server_socket = socket.socket(socket.AF_INET, socket.SOCK_STREAM)\n",
    "    \n",
    "    # Bind the socket to the address and port\n",
    "    server_socket.bind((host, port))\n",
    "    print(f\"Server bound to {host}:{port}\")\n",
    "    \n",
    "    # Listen for incoming connections (the parameter is the backlog)\n",
    "    server_socket.listen(1)\n",
    "    print(\"Server is listening for incoming connections...\")\n",
    "    \n",
    "    # Accept a connection\n",
    "    client_socket, client_address = server_socket.accept()\n",
    "    print(f\"Connected to by {client_address}\")\n",
    "    \n",
    "    # Send a greeting message to the client\n",
    "    client_socket.sendall(b\"Hello from server\")\n",
    "    \n",
    "    # Receive a response from the client\n",
    "    data = client_socket.recv(1024)\n",
    "    print(\"Received from client:\", data.decode())\n",
    "    \n",
    "    # Close the connection\n",
    "    client_socket.close()\n",
    "    server_socket.close()\n",
    "\n",
    "if __name__ == '__main__':\n",
    "    while True: start_server()"
   ]
  },
  {
   "cell_type": "code",
   "execution_count": 1,
   "metadata": {},
   "outputs": [
    {
     "name": "stdout",
     "output_type": "stream",
     "text": [
      "Collecting gspread\n",
      "  Downloading gspread-6.2.0-py3-none-any.whl.metadata (11 kB)\n",
      "Requirement already satisfied: google-auth in c:\\python311\\lib\\site-packages (2.16.0)\n",
      "Requirement already satisfied: google-auth-oauthlib>=0.4.1 in c:\\python311\\lib\\site-packages (from gspread) (0.8.0)\n",
      "Requirement already satisfied: cachetools<6.0,>=2.0.0 in c:\\python311\\lib\\site-packages (from google-auth) (5.2.0)\n",
      "Requirement already satisfied: pyasn1-modules>=0.2.1 in c:\\python311\\lib\\site-packages (from google-auth) (0.2.8)\n",
      "Requirement already satisfied: six>=1.9.0 in c:\\users\\hp\\appdata\\roaming\\python\\python311\\site-packages (from google-auth) (1.16.0)\n",
      "Requirement already satisfied: rsa<5,>=3.1.4 in c:\\python311\\lib\\site-packages (from google-auth) (4.9)\n",
      "Requirement already satisfied: requests-oauthlib>=0.7.0 in c:\\python311\\lib\\site-packages (from google-auth-oauthlib>=0.4.1->gspread) (1.3.1)\n",
      "Requirement already satisfied: pyasn1<0.5.0,>=0.4.6 in c:\\python311\\lib\\site-packages (from pyasn1-modules>=0.2.1->google-auth) (0.4.8)\n",
      "Requirement already satisfied: oauthlib>=3.0.0 in c:\\python311\\lib\\site-packages (from requests-oauthlib>=0.7.0->google-auth-oauthlib>=0.4.1->gspread) (3.2.2)\n",
      "Requirement already satisfied: requests>=2.0.0 in c:\\python311\\lib\\site-packages (from requests-oauthlib>=0.7.0->google-auth-oauthlib>=0.4.1->gspread) (2.31.0)\n",
      "Requirement already satisfied: charset-normalizer<4,>=2 in c:\\python311\\lib\\site-packages (from requests>=2.0.0->requests-oauthlib>=0.7.0->google-auth-oauthlib>=0.4.1->gspread) (2.1.1)\n",
      "Requirement already satisfied: idna<4,>=2.5 in c:\\python311\\lib\\site-packages (from requests>=2.0.0->requests-oauthlib>=0.7.0->google-auth-oauthlib>=0.4.1->gspread) (3.4)\n",
      "Requirement already satisfied: urllib3<3,>=1.21.1 in c:\\python311\\lib\\site-packages (from requests>=2.0.0->requests-oauthlib>=0.7.0->google-auth-oauthlib>=0.4.1->gspread) (1.26.12)\n",
      "Requirement already satisfied: certifi>=2017.4.17 in c:\\python311\\lib\\site-packages (from requests>=2.0.0->requests-oauthlib>=0.7.0->google-auth-oauthlib>=0.4.1->gspread) (2022.9.24)\n",
      "Downloading gspread-6.2.0-py3-none-any.whl (59 kB)\n",
      "Installing collected packages: gspread\n",
      "Successfully installed gspread-6.2.0\n"
     ]
    },
    {
     "name": "stderr",
     "output_type": "stream",
     "text": [
      "WARNING: Ignoring invalid distribution ~ip (C:\\Python311\\Lib\\site-packages)\n",
      "WARNING: Ignoring invalid distribution ~ip (C:\\Python311\\Lib\\site-packages)\n",
      "WARNING: Ignoring invalid distribution ~ip (C:\\Python311\\Lib\\site-packages)\n",
      "\n",
      "[notice] A new release of pip is available: 24.3.1 -> 25.0.1\n",
      "[notice] To update, run: python.exe -m pip install --upgrade pip\n"
     ]
    }
   ],
   "source": [
    "!pip install gspread google-auth"
   ]
  },
  {
   "cell_type": "code",
   "execution_count": 2,
   "metadata": {},
   "outputs": [],
   "source": [
    "import gspread\n",
    "from google.oauth2.service_account import Credentials\n"
   ]
  },
  {
   "cell_type": "code",
   "execution_count": 15,
   "metadata": {},
   "outputs": [],
   "source": [
    "\n",
    "# Define the scope and authenticate using your service account credentials\n",
    "SCOPE = [\n",
    "    \"https://www.googleapis.com/auth/spreadsheets\",\n",
    "    \"https://www.googleapis.com/auth/drive\"\n",
    "]\n",
    "\n",
    "CREDS = Credentials.from_service_account_file(\"remote-control-452220-bd30dfe8afd5.json\", scopes=SCOPE)\n",
    "CLIENT = gspread.authorize(CREDS)\n"
   ]
  },
  {
   "cell_type": "code",
   "execution_count": 18,
   "metadata": {},
   "outputs": [],
   "source": [
    "\n",
    "# Open the spreadsheet by name and select the first sheet\n",
    "SHEET = CLIENT.open_by_key(\"1knBUxNbgVLqWpQUln39AFZ5k-kuV32KsNZ1bWw0Qiww\").sheet1\n"
   ]
  },
  {
   "cell_type": "code",
   "execution_count": 19,
   "metadata": {},
   "outputs": [],
   "source": [
    "\n",
    "def register_client(client_id, ip, port):\n",
    "    \"\"\"\n",
    "    Registers or updates the client in the Google Sheet.\n",
    "    The sheet is assumed to have a header row with columns: client_id, ip, port.\n",
    "    \"\"\"\n",
    "    records = SHEET.get_all_records()\n",
    "    row_index = None\n",
    "\n",
    "    # Look for an existing record with the same client_id\n",
    "    for i, record in enumerate(records):\n",
    "        if record.get(\"client_id\") == client_id:\n",
    "            row_index = i + 2  # +2 because get_all_records() skips header and sheet rows are 1-indexed\n",
    "            break\n",
    "\n",
    "    if row_index:\n",
    "        # Update the existing record\n",
    "        SHEET.update_cell(row_index, 2, ip)\n",
    "        SHEET.update_cell(row_index, 3, port)\n",
    "        print(f\"Updated registration for {client_id}\")\n",
    "    else:\n",
    "        # Append a new record\n",
    "        SHEET.append_row([client_id, ip, port])\n",
    "        print(f\"Registered new client {client_id}\")\n"
   ]
  },
  {
   "cell_type": "code",
   "execution_count": 20,
   "metadata": {},
   "outputs": [],
   "source": [
    "\n",
    "def lookup_client(target_id):\n",
    "    \"\"\"\n",
    "    Looks up the target client's connection details.\n",
    "    Returns a tuple (ip, port) or (None, None) if not found.\n",
    "    \"\"\"\n",
    "    records = SHEET.get_all_records()\n",
    "    for record in records:\n",
    "        if record.get(\"client_id\") == target_id:\n",
    "            return record.get(\"ip\"), record.get(\"port\")\n",
    "    return None, None\n"
   ]
  },
  {
   "cell_type": "code",
   "execution_count": 25,
   "metadata": {},
   "outputs": [
    {
     "name": "stdout",
     "output_type": "stream",
     "text": [
      "Registered new client client1\n",
      "Client client1 not found.\n"
     ]
    }
   ],
   "source": [
    "\n",
    "# Example usage:\n",
    "if __name__ == \"__main__\":\n",
    "    # For registration, detect your public IP (via an external service or NAT traversal)\n",
    "    my_client_id = \"client1\"\n",
    "    my_public_ip = \"203.0.113.45\"  # Replace with your actual public IP\n",
    "    my_listen_port = \"6000\"\n",
    "    register_client(my_client_id, my_public_ip, my_listen_port)\n",
    "\n",
    "    # To connect to another client (say \"client2\"), look up its connection info\n",
    "    target_id = \"client1\"\n",
    "    target_ip, target_port = lookup_client(target_id)\n",
    "    if target_ip and target_port:\n",
    "        print(f\"Found target {target_id} at {target_ip}:{target_port}\")\n",
    "        # You can now attempt a direct connection using these details\n",
    "    else:\n",
    "        print(f\"Client {target_id} not found.\")\n"
   ]
  },
  {
   "cell_type": "code",
   "execution_count": 26,
   "metadata": {},
   "outputs": [
    {
     "name": "stdout",
     "output_type": "stream",
     "text": [
      "Your public IP address is: 154.198.86.255\n"
     ]
    }
   ],
   "source": [
    "import requests\n",
    "\n",
    "def get_public_ip():\n",
    "    try:\n",
    "        response = requests.get(\"https://api.ipify.org?format=json\")\n",
    "        response.raise_for_status()  # Raise an error for bad responses\n",
    "        ip_data = response.json()\n",
    "        return ip_data.get(\"ip\")\n",
    "    except requests.RequestException as e:\n",
    "        print(\"Error fetching public IP:\", e)\n",
    "        return None\n",
    "\n",
    "if __name__ == \"__main__\":\n",
    "    public_ip = get_public_ip()\n",
    "    if public_ip:\n",
    "        print(\"Your public IP address is:\", public_ip)\n"
   ]
  },
  {
   "cell_type": "code",
   "execution_count": 27,
   "metadata": {},
   "outputs": [
    {
     "name": "stdout",
     "output_type": "stream",
     "text": [
      "Your public IP address is: 154.198.86.255\n"
     ]
    }
   ],
   "source": []
  }
 ],
 "metadata": {
  "kernelspec": {
   "display_name": "Python 3",
   "language": "python",
   "name": "python3"
  },
  "language_info": {
   "codemirror_mode": {
    "name": "ipython",
    "version": 3
   },
   "file_extension": ".py",
   "mimetype": "text/x-python",
   "name": "python",
   "nbconvert_exporter": "python",
   "pygments_lexer": "ipython3",
   "version": "3.11.5"
  }
 },
 "nbformat": 4,
 "nbformat_minor": 2
}

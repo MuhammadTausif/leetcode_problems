{
 "cells": [
  {
   "cell_type": "code",
   "execution_count": 17,
   "metadata": {},
   "outputs": [
    {
     "name": "stdout",
     "output_type": "stream",
     "text": [
      "Connected to server at 127.0.0.1:12345\n",
      "Received from server: Hello from server\n"
     ]
    }
   ],
   "source": [
    "import socket\n",
    "\n",
    "def start_client(server_ip, port=12345):\n",
    "    # Create a TCP/IP socket\n",
    "    client_socket = socket.socket(socket.AF_INET, socket.SOCK_STREAM)\n",
    "    \n",
    "    # Connect to the server using its IP address and port\n",
    "    client_socket.connect((server_ip, port))\n",
    "    print(f\"Connected to server at {server_ip}:{port}\")\n",
    "    \n",
    "    # Receive a message from the server\n",
    "    data = client_socket.recv(1024)\n",
    "    print(\"Received from server:\", data.decode())\n",
    "    \n",
    "    # Send a response back to the server\n",
    "    client_socket.sendall(b\"Hello from client\")\n",
    "    \n",
    "    # Close the connection\n",
    "    client_socket.close()\n",
    "\n",
    "if __name__ == '__main__':\n",
    "    # Replace '127.0.0.1' with the server's IP address if running on different devices\n",
    "    start_client('127.0.0.1')\n"
   ]
  }
 ],
 "metadata": {
  "kernelspec": {
   "display_name": "Python 3",
   "language": "python",
   "name": "python3"
  },
  "language_info": {
   "codemirror_mode": {
    "name": "ipython",
    "version": 3
   },
   "file_extension": ".py",
   "mimetype": "text/x-python",
   "name": "python",
   "nbconvert_exporter": "python",
   "pygments_lexer": "ipython3",
   "version": "3.11.5"
  }
 },
 "nbformat": 4,
 "nbformat_minor": 2
}

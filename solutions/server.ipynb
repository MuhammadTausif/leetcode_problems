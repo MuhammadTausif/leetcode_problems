{
 "cells": [
  {
   "cell_type": "code",
   "execution_count": null,
   "metadata": {},
   "outputs": [],
   "source": [
    "import socket\n",
    "\n",
    "def start_server(host='0.0.0.0', port=12345):\n",
    "    # Create a TCP socket\n",
    "    server_socket = socket.socket(socket.AF_INET, socket.SOCK_STREAM)\n",
    "    # Bind to all interfaces on the chosen port\n",
    "    server_socket.bind((host, port))\n",
    "    server_socket.listen(1)\n",
    "    print(f\"Server listening on {host}:{port}\")\n",
    "    \n",
    "    # Accept a connection\n",
    "    client_socket, client_address = server_socket.accept()\n",
    "    print(f\"Connection accepted from {client_address}\")\n",
    "    \n",
    "    # Send a greeting message to the client\n",
    "    client_socket.sendall(b\"Hello from server!\")\n",
    "    \n",
    "    # Receive response from the client\n",
    "    data = client_socket.recv(1024)\n",
    "    print(\"Received from client:\", data.decode())\n",
    "    \n",
    "    # Close the connection\n",
    "    client_socket.close()\n",
    "    server_socket.close()\n",
    "\n",
    "if __name__ == '__main__':\n",
    "    start_server()\n"
   ]
  },
  {
   "cell_type": "code",
   "execution_count": null,
   "metadata": {},
   "outputs": [],
   "source": [
    "import socket\n",
    "\n",
    "# A dictionary to store clients: {client_id: (ip, port)}\n",
    "clients = {}\n",
    "\n",
    "def start_server(host=\"0.0.0.0\", port=12345):\n",
    "    sock = socket.socket(socket.AF_INET, socket.SOCK_DGRAM)\n",
    "    sock.bind((host, port))\n",
    "    print(f\"UDP Rendezvous server listening on {host}:{port}\")\n",
    "    \n",
    "    while True:\n",
    "        data, addr = sock.recvfrom(1024)\n",
    "        message = data.decode().strip()\n",
    "        print(f\"Received from {addr}: {message}\")\n",
    "        tokens = message.split()\n",
    "        if tokens[0].upper() == \"REGISTER\" and len(tokens) >= 2:\n",
    "            client_id = tokens[1]\n",
    "            clients[client_id] = addr\n",
    "            sock.sendto(f\"REGISTERED {client_id}\".encode(), addr)\n",
    "            print(f\"Registered {client_id} at {addr}\")\n",
    "            # For demonstration: if two clients are registered, exchange info.\n",
    "            if len(clients) >= 2:\n",
    "                # This example assumes two specific IDs: \"client1\" and \"client2\"\n",
    "                if \"client1\" in clients and \"client2\" in clients:\n",
    "                    addr1 = clients[\"client1\"]\n",
    "                    addr2 = clients[\"client2\"]\n",
    "                    # Send each client the other's public endpoint.\n",
    "                    sock.sendto(f\"PEER {addr2[0]} {addr2[1]}\".encode(), addr1)\n",
    "                    sock.sendto(f\"PEER {addr1[0]} {addr1[1]}\".encode(), addr2)\n",
    "                    print(f\"Exchanged peer info between client1 and client2\")\n",
    "        else:\n",
    "            sock.sendto(b\"UNKNOWN COMMAND\", addr)\n",
    "\n",
    "if __name__ == '__main__':\n",
    "    start_server()\n"
   ]
  },
  {
   "cell_type": "code",
   "execution_count": null,
   "metadata": {},
   "outputs": [],
   "source": [
    "import socket\n",
    "\n",
    "def run_server(bind_ip=\"0.0.0.0\", bind_port=5005):\n",
    "    sock = socket.socket(socket.AF_INET, socket.SOCK_DGRAM)\n",
    "    sock.bind((bind_ip, bind_port))\n",
    "    print(f\"UDP server listening on {bind_ip}:{bind_port}\")\n",
    "\n",
    "    while True:\n",
    "        data, addr = sock.recvfrom(1024)\n",
    "        print(\"Received from\", addr, \":\", data.decode())\n",
    "        # Reply back to confirm connectivity\n",
    "        sock.sendto(b\"ACK: \" + data, addr)\n",
    "\n",
    "if __name__ == \"__main__\":\n",
    "    run_server()\n"
   ]
  },
  {
   "cell_type": "code",
   "execution_count": 1,
   "metadata": {},
   "outputs": [
    {
     "ename": "",
     "evalue": "",
     "output_type": "error",
     "traceback": [
      "\u001b[1;31mThe Kernel crashed while executing code in the current cell or a previous cell. \n",
      "\u001b[1;31mPlease review the code in the cell(s) to identify a possible cause of the failure. \n",
      "\u001b[1;31mClick <a href='https://aka.ms/vscodeJupyterKernelCrash'>here</a> for more info. \n",
      "\u001b[1;31mView Jupyter <a href='command:jupyter.viewOutput'>log</a> for further details."
     ]
    }
   ],
   "source": [
    "import socket\n",
    "\n",
    "known_port = 50002\n",
    "\n",
    "sock = socket.socket(socket.AF_INET, socket.SOCK_DGRAM)\n",
    "sock.bind(('0.0.0.0', 55555))\n",
    "\n",
    "while True:\n",
    "    clients = []\n",
    "\n",
    "    while True:\n",
    "        data, address = sock.recvfrom(128)\n",
    "\n",
    "        print('connection from: {}'.format(address))\n",
    "        clients.append(address)\n",
    "\n",
    "        sock.sendto(b'ready', address)\n",
    "\n",
    "        if len(clients) == 2:\n",
    "            print('got 2 clients, sending details to each')\n",
    "            break\n",
    "\n",
    "    c1 = clients.pop()\n",
    "    c1_addr, c1_port = c1\n",
    "    c2 = clients.pop()\n",
    "    c2_addr, c2_port = c2\n",
    "\n",
    "    sock.sendto('{} {} {}'.format(c1_addr, c1_port, known_port).encode(), c2)\n",
    "    sock.sendto('{} {} {}'.format(c2_addr, c2_port, known_port).encode(), c1)"
   ]
  },
  {
   "cell_type": "code",
   "execution_count": null,
   "metadata": {},
   "outputs": [],
   "source": [
    "import socket\n",
    "\n",
    "def nat_server():\n",
    "    server = socket.socket(socket.AF_INET, socket.SOCK_DGRAM)\n",
    "    server.bind(('0.0.0.0', 5000))\n",
    "    print(\"Rendezvous server listening on port 5000...\")\n",
    "    \n",
    "    clients = []\n",
    "    \n",
    "    while True:\n",
    "        data, addr = server.recvfrom(1024)\n",
    "        print(f\"Received {data.decode()} from {addr}\")\n",
    "        if addr not in clients:\n",
    "            clients.append(addr)\n",
    "        \n",
    "        # Once we have at least two clients, send each the other's address.\n",
    "        if len(clients) >= 2:\n",
    "            addr1, addr2 = clients[0], clients[1]\n",
    "            msg1 = f\"{addr2[0]}:{addr2[1]}\"\n",
    "            msg2 = f\"{addr1[0]}:{addr1[1]}\"\n",
    "            server.sendto(msg1.encode(), addr1)\n",
    "            server.sendto(msg2.encode(), addr2)\n",
    "            print(f\"Sent peer info: {addr1} <--> {addr2}\")\n",
    "            # Optionally, reset the client list for subsequent pairs.\n",
    "            clients = []\n",
    "\n",
    "if __name__ == \"__main__\":\n",
    "    nat_server()\n"
   ]
  },
  {
   "cell_type": "code",
   "execution_count": 1,
   "metadata": {},
   "outputs": [],
   "source": []
  },
  {
   "cell_type": "code",
   "execution_count": 10,
   "metadata": {},
   "outputs": [
    {
     "name": "stdout",
     "output_type": "stream",
     "text": [
      "Server listening on 0.0.0.0:5000\n"
     ]
    }
   ],
   "source": [
    "import socket\n",
    "sock = socket.socket(socket.AF_INET, socket.SOCK_DGRAM)\n",
    "sock.bind((\"0.0.0.0\", 5000))\n",
    "print(\"Server listening on 0.0.0.0:5000\")"
   ]
  },
  {
   "cell_type": "code",
   "execution_count": null,
   "metadata": {},
   "outputs": [],
   "source": []
  }
 ],
 "metadata": {
  "kernelspec": {
   "display_name": "Python 3",
   "language": "python",
   "name": "python3"
  },
  "language_info": {
   "codemirror_mode": {
    "name": "ipython",
    "version": 3
   },
   "file_extension": ".py",
   "mimetype": "text/x-python",
   "name": "python",
   "nbconvert_exporter": "python",
   "pygments_lexer": "ipython3",
   "version": "3.11.5"
  }
 },
 "nbformat": 4,
 "nbformat_minor": 2
}
